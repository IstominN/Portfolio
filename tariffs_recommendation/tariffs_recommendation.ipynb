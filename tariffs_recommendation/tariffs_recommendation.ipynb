{
 "cells": [
  {
   "cell_type": "markdown",
   "metadata": {},
   "source": [
    "# Рекомендация тарифов"
   ]
  },
  {
   "cell_type": "markdown",
   "metadata": {},
   "source": [
    "В вашем распоряжении данные о поведении клиентов, которые уже перешли на эти тарифы (из проекта курса «Статистический анализ данных»). Нужно построить модель для задачи классификации, которая выберет подходящий тариф. Предобработка данных не понадобится — вы её уже сделали.\n",
    "\n",
    "Постройте модель с максимально большим значением *accuracy*. Чтобы сдать проект успешно, нужно довести долю правильных ответов по крайней мере до 0.75. Проверьте *accuracy* на тестовой выборке самостоятельно."
   ]
  },
  {
   "cell_type": "markdown",
   "metadata": {},
   "source": [
    "Цель исследования — найти модель с максимально большим значением *accuracy* (не меньше 0.75)\n",
    "\n",
    "Данные о поведении клиентов получим из файла users_behavior.csv. Предобработка данных уже проведена ранее\n",
    "\n",
    "Исследование пройдёт в пять этапов:\n",
    "\n",
    "- Обзор и изучение данных\n",
    "- Разделение данных на выборки\n",
    "- Исследование различных моделей и подбор лучших гиперпараметров\n",
    "    * Decision Tree (Дерево решений)\n",
    "    * Random Forest (Случайный лес)\n",
    "    * Logistic Regression (Логистическая регрессия)\n",
    "- Проверка итоговой модели на тестовой выборке\n",
    "- Проверка модели на адекватность"
   ]
  },
  {
   "cell_type": "markdown",
   "metadata": {},
   "source": [
    "## Откроем и изучим файл <a id='exam_file'></a>"
   ]
  },
  {
   "cell_type": "code",
   "execution_count": 1,
   "metadata": {},
   "outputs": [],
   "source": [
    "import pandas as pd\n",
    "from sklearn.model_selection import train_test_split\n",
    "from sklearn.metrics import accuracy_score\n",
    "from sklearn.tree import DecisionTreeClassifier\n",
    "from sklearn.ensemble import RandomForestClassifier\n",
    "from sklearn.linear_model import LogisticRegression\n",
    "from sklearn.dummy import DummyClassifier\n",
    "\n",
    "data = pd.read_csv('datasets/users_behavior.csv')\n",
    "r_state = 12345"
   ]
  },
  {
   "cell_type": "code",
   "execution_count": 2,
   "metadata": {
    "scrolled": false
   },
   "outputs": [
    {
     "name": "stdout",
     "output_type": "stream",
     "text": [
      "<class 'pandas.core.frame.DataFrame'>\n",
      "RangeIndex: 3214 entries, 0 to 3213\n",
      "Data columns (total 5 columns):\n",
      " #   Column    Non-Null Count  Dtype  \n",
      "---  ------    --------------  -----  \n",
      " 0   calls     3214 non-null   float64\n",
      " 1   minutes   3214 non-null   float64\n",
      " 2   messages  3214 non-null   float64\n",
      " 3   mb_used   3214 non-null   float64\n",
      " 4   is_ultra  3214 non-null   int64  \n",
      "dtypes: float64(4), int64(1)\n",
      "memory usage: 125.7 KB\n"
     ]
    },
    {
     "data": {
      "text/html": [
       "<div>\n",
       "<style scoped>\n",
       "    .dataframe tbody tr th:only-of-type {\n",
       "        vertical-align: middle;\n",
       "    }\n",
       "\n",
       "    .dataframe tbody tr th {\n",
       "        vertical-align: top;\n",
       "    }\n",
       "\n",
       "    .dataframe thead th {\n",
       "        text-align: right;\n",
       "    }\n",
       "</style>\n",
       "<table border=\"1\" class=\"dataframe\">\n",
       "  <thead>\n",
       "    <tr style=\"text-align: right;\">\n",
       "      <th></th>\n",
       "      <th>calls</th>\n",
       "      <th>minutes</th>\n",
       "      <th>messages</th>\n",
       "      <th>mb_used</th>\n",
       "      <th>is_ultra</th>\n",
       "    </tr>\n",
       "  </thead>\n",
       "  <tbody>\n",
       "    <tr>\n",
       "      <th>1415</th>\n",
       "      <td>82.0</td>\n",
       "      <td>507.89</td>\n",
       "      <td>88.0</td>\n",
       "      <td>17543.37</td>\n",
       "      <td>1</td>\n",
       "    </tr>\n",
       "    <tr>\n",
       "      <th>916</th>\n",
       "      <td>50.0</td>\n",
       "      <td>375.91</td>\n",
       "      <td>35.0</td>\n",
       "      <td>12388.40</td>\n",
       "      <td>0</td>\n",
       "    </tr>\n",
       "    <tr>\n",
       "      <th>1670</th>\n",
       "      <td>83.0</td>\n",
       "      <td>540.49</td>\n",
       "      <td>41.0</td>\n",
       "      <td>9127.74</td>\n",
       "      <td>0</td>\n",
       "    </tr>\n",
       "    <tr>\n",
       "      <th>686</th>\n",
       "      <td>79.0</td>\n",
       "      <td>562.99</td>\n",
       "      <td>19.0</td>\n",
       "      <td>25508.19</td>\n",
       "      <td>1</td>\n",
       "    </tr>\n",
       "    <tr>\n",
       "      <th>2951</th>\n",
       "      <td>78.0</td>\n",
       "      <td>531.29</td>\n",
       "      <td>20.0</td>\n",
       "      <td>9217.25</td>\n",
       "      <td>0</td>\n",
       "    </tr>\n",
       "  </tbody>\n",
       "</table>\n",
       "</div>"
      ],
      "text/plain": [
       "      calls  minutes  messages   mb_used  is_ultra\n",
       "1415   82.0   507.89      88.0  17543.37         1\n",
       "916    50.0   375.91      35.0  12388.40         0\n",
       "1670   83.0   540.49      41.0   9127.74         0\n",
       "686    79.0   562.99      19.0  25508.19         1\n",
       "2951   78.0   531.29      20.0   9217.25         0"
      ]
     },
     "metadata": {},
     "output_type": "display_data"
    },
    {
     "name": "stdout",
     "output_type": "stream",
     "text": [
      "Количество пропусков по столбцам:\n",
      "\n",
      "calls - 0 шт. - 0.0%\n",
      "minutes - 0 шт. - 0.0%\n",
      "messages - 0 шт. - 0.0%\n",
      "mb_used - 0 шт. - 0.0%\n",
      "is_ultra - 0 шт. - 0.0%\n",
      "\n",
      "Количество явных дубликатов: 0\n"
     ]
    }
   ],
   "source": [
    "data.info()\n",
    "display(data.sample(5, random_state=r_state))\n",
    "\n",
    "print('Количество пропусков по столбцам:')\n",
    "print()\n",
    "\n",
    "for col in data.columns:\n",
    "    nmv = data[col].isna().sum()\n",
    "    pmv = nmv/len(data)\n",
    "    print('{} - {} шт. - {}%'.format(col, nmv, round(pmv*100, 2)))\n",
    "    \n",
    "print()\n",
    "print('Количество явных дубликатов:', data.duplicated().sum())"
   ]
  },
  {
   "cell_type": "markdown",
   "metadata": {},
   "source": [
    "* Предобработка данных выполнена ранее\n",
    "* Данные состоят из 3214 объектов\n",
    "* Пропущенных значений нет \n",
    "* Явные дубликаты отсутствуют\n",
    "* Данные имеют 5 признаков (1 целевой и 4 вспомогательных)"
   ]
  },
  {
   "cell_type": "markdown",
   "metadata": {},
   "source": [
    "## Разобьем данные на выборки <a id='split_data'></a> "
   ]
  },
  {
   "cell_type": "markdown",
   "metadata": {},
   "source": [
    "### Определим целевой и вспомогательные признаки "
   ]
  },
  {
   "cell_type": "code",
   "execution_count": 3,
   "metadata": {},
   "outputs": [],
   "source": [
    "features = data.drop(['is_ultra'], axis=1)\n",
    "target = data['is_ultra']"
   ]
  },
  {
   "cell_type": "markdown",
   "metadata": {},
   "source": [
    "### Отделим обучающие данные"
   ]
  },
  {
   "cell_type": "code",
   "execution_count": 4,
   "metadata": {},
   "outputs": [],
   "source": [
    "features_train, features_valid, target_train, target_valid = train_test_split(\n",
    "    features, target, test_size=0.4, random_state=r_state)"
   ]
  },
  {
   "cell_type": "markdown",
   "metadata": {},
   "source": [
    "### Разделим оставшиеся данные на валидационную и тестовую выборки"
   ]
  },
  {
   "cell_type": "code",
   "execution_count": 5,
   "metadata": {},
   "outputs": [],
   "source": [
    "features_valid, features_test, target_valid, target_test = train_test_split(\n",
    "    features_valid, target_valid, test_size=0.5, random_state=r_state)"
   ]
  },
  {
   "cell_type": "markdown",
   "metadata": {},
   "source": [
    "### Проверим правильность разделения выборок"
   ]
  },
  {
   "cell_type": "code",
   "execution_count": 6,
   "metadata": {},
   "outputs": [
    {
     "name": "stdout",
     "output_type": "stream",
     "text": [
      "Вспомогательные признаки:\n",
      "\n",
      "features_train - Объектов: 1928 шт., признаков: 4 шт. - 59.99%\n",
      "features_valid - Объектов: 643 шт., признаков: 4 шт. - 20.01%\n",
      "features_test - Объектов: 643 шт., признаков: 4 шт. - 20.01%\n",
      "\n",
      "Целевые признаки:\n",
      "\n",
      "target_train - Объектов: 1928 шт. - 59.99%\n",
      "target_valid - Объектов: 643 шт. - 20.01%\n",
      "target_test - Объектов: 643 шт. - 20.01%\n"
     ]
    }
   ],
   "source": [
    "features = {'features_train' : features_train, 'features_valid' : features_valid, 'features_test' : features_test}\n",
    "targets = {'target_train' : target_train, 'target_valid' : target_valid, 'target_test' : target_test}\n",
    "\n",
    "print('Вспомогательные признаки:')\n",
    "print()\n",
    "for i in features:\n",
    "    sh = features[i].shape\n",
    "    psh = sh[0]/len(data)\n",
    "    print('{} - Объектов: {} шт., признаков: {} шт. - {}%'.format(i, sh[0], sh[1], round(psh*100, 2)))\n",
    "    \n",
    "print()\n",
    "\n",
    "print('Целевые признаки:')\n",
    "print()\n",
    "for i in targets:\n",
    "    sh = targets[i].shape\n",
    "    psh = sh[0]/len(data)\n",
    "    print('{} - Объектов: {} шт. - {}%'.format(i, sh[0], round(psh*100, 2)))"
   ]
  },
  {
   "cell_type": "markdown",
   "metadata": {},
   "source": [
    "## Исследуем модели <a id='model_research'></a>   "
   ]
  },
  {
   "cell_type": "markdown",
   "metadata": {},
   "source": [
    "В нашем исследовании целевой признак - столбец is_ultra (категориальный). Категорий в данном признаке две (тарифы «Смарт» или «Ультра»), соответственно нам предстоит решить задачу  бинарной (двоичной) классификации.<br>\n",
    "\n",
    "Для решения данной задачи используется 3 модели:\n",
    "\n",
    "* Decision Tree (Дерево решений)\n",
    "* Random Forest (Случайный лес)\n",
    "* Logistic Regression (Логистическая регрессия)\n",
    "\n",
    "Применим все 3 модели, подберем им оптимальные гиперпараметры и найдем лучший результат"
   ]
  },
  {
   "cell_type": "markdown",
   "metadata": {},
   "source": [
    "Для проверки accuracy на разных моделях создадим функцию:"
   ]
  },
  {
   "cell_type": "code",
   "execution_count": 7,
   "metadata": {},
   "outputs": [],
   "source": [
    "def test_accuracy_score(model):\n",
    "    predictions_valid = model.predict(features_valid)\n",
    "    return accuracy_score(target_valid, predictions_valid)"
   ]
  },
  {
   "cell_type": "markdown",
   "metadata": {},
   "source": [
    "### Decision Tree (Дерево решений)"
   ]
  },
  {
   "cell_type": "code",
   "execution_count": 8,
   "metadata": {
    "scrolled": false
   },
   "outputs": [
    {
     "name": "stdout",
     "output_type": "stream",
     "text": [
      "Глубина = 1 , accuracy = 0.7542768273716952\n",
      "Глубина = 2 , accuracy = 0.7822706065318819\n",
      "Глубина = 3 , accuracy = 0.7853810264385692\n",
      "Глубина = 4 , accuracy = 0.7791601866251944\n",
      "Глубина = 5 , accuracy = 0.7791601866251944\n",
      "Глубина = 6 , accuracy = 0.7838258164852255\n",
      "Глубина = 7 , accuracy = 0.7822706065318819\n",
      "Глубина = 8 , accuracy = 0.7791601866251944\n",
      "Глубина = 9 , accuracy = 0.7822706065318819\n",
      "Глубина = 10 , accuracy = 0.7744945567651633\n",
      "Глубина = 11 , accuracy = 0.7620528771384136\n",
      "Глубина = 12 , accuracy = 0.7620528771384136\n",
      "Глубина = 13 , accuracy = 0.7558320373250389\n",
      "Глубина = 14 , accuracy = 0.7589424572317263\n",
      "Глубина = 15 , accuracy = 0.7465007776049767\n",
      "Глубина = 16 , accuracy = 0.7340590979782271\n",
      "Глубина = 17 , accuracy = 0.7356143079315708\n",
      "Глубина = 18 , accuracy = 0.7309486780715396\n",
      "Глубина = 19 , accuracy = 0.7278382581648523\n",
      "Глубина = 20 , accuracy = 0.7216174183514774\n",
      "\n",
      "Лучший результат:\n",
      "Глубина = 3 , accuracy = 0.7853810264385692\n"
     ]
    }
   ],
   "source": [
    "best_accuracy_DT = 0\n",
    "best_depth_DT = 0\n",
    "\n",
    "for depth in range(1, 21):\n",
    "    model_decision_tree = DecisionTreeClassifier(random_state=r_state, max_depth=depth)\n",
    "    model_decision_tree.fit(features_train, target_train)\n",
    "    accuracy = test_accuracy_score(model_decision_tree)\n",
    "    print('Глубина =', depth, ', accuracy =', accuracy)\n",
    "    if accuracy > best_accuracy_DT:\n",
    "        best_accuracy_DT = accuracy\n",
    "        best_depth_DT = depth\n",
    "        \n",
    "print()\n",
    "print('Лучший результат:')\n",
    "print('Глубина =', best_depth_DT, ', accuracy =', best_accuracy_DT)"
   ]
  },
  {
   "cell_type": "markdown",
   "metadata": {},
   "source": [
    "### Random Forest (Случайный лес)"
   ]
  },
  {
   "cell_type": "code",
   "execution_count": 9,
   "metadata": {
    "scrolled": false
   },
   "outputs": [
    {
     "name": "stdout",
     "output_type": "stream",
     "text": [
      "Количество деревьев = 10 , глубина = 1 , accuracy = 0.7558320373250389\n",
      "Количество деревьев = 10 , глубина = 2 , accuracy = 0.7776049766718507\n",
      "Количество деревьев = 10 , глубина = 3 , accuracy = 0.7853810264385692\n",
      "Количество деревьев = 10 , глубина = 4 , accuracy = 0.7900466562986003\n",
      "Количество деревьев = 10 , глубина = 5 , accuracy = 0.7931570762052877\n",
      "Количество деревьев = 10 , глубина = 6 , accuracy = 0.8009331259720062\n",
      "Количество деревьев = 10 , глубина = 7 , accuracy = 0.7947122861586314\n",
      "Количество деревьев = 10 , глубина = 8 , accuracy = 0.7962674961119751\n",
      "Количество деревьев = 10 , глубина = 9 , accuracy = 0.7853810264385692\n",
      "Количество деревьев = 10 , глубина = 10 , accuracy = 0.7916018662519441\n",
      "Количество деревьев = 10 , глубина = 11 , accuracy = 0.7962674961119751\n",
      "Количество деревьев = 10 , глубина = 12 , accuracy = 0.7884914463452566\n",
      "Количество деревьев = 10 , глубина = 13 , accuracy = 0.7853810264385692\n",
      "Количество деревьев = 10 , глубина = 14 , accuracy = 0.7776049766718507\n",
      "Количество деревьев = 10 , глубина = 15 , accuracy = 0.7776049766718507\n",
      "Количество деревьев = 10 , глубина = 16 , accuracy = 0.7791601866251944\n",
      "Количество деревьев = 10 , глубина = 17 , accuracy = 0.7822706065318819\n",
      "Количество деревьев = 10 , глубина = 18 , accuracy = 0.7776049766718507\n",
      "Количество деревьев = 10 , глубина = 19 , accuracy = 0.7776049766718507\n",
      "Количество деревьев = 10 , глубина = 20 , accuracy = 0.7869362363919129\n",
      "Количество деревьев = 20 , глубина = 1 , accuracy = 0.7667185069984448\n",
      "Количество деревьев = 20 , глубина = 2 , accuracy = 0.7838258164852255\n",
      "Количество деревьев = 20 , глубина = 3 , accuracy = 0.7869362363919129\n",
      "Количество деревьев = 20 , глубина = 4 , accuracy = 0.7884914463452566\n",
      "Количество деревьев = 20 , глубина = 5 , accuracy = 0.7900466562986003\n",
      "Количество деревьев = 20 , глубина = 6 , accuracy = 0.7993779160186625\n",
      "Количество деревьев = 20 , глубина = 7 , accuracy = 0.8009331259720062\n",
      "Количество деревьев = 20 , глубина = 8 , accuracy = 0.7978227060653188\n",
      "Количество деревьев = 20 , глубина = 9 , accuracy = 0.7900466562986003\n",
      "Количество деревьев = 20 , глубина = 10 , accuracy = 0.7916018662519441\n",
      "Количество деревьев = 20 , глубина = 11 , accuracy = 0.7884914463452566\n",
      "Количество деревьев = 20 , глубина = 12 , accuracy = 0.8009331259720062\n",
      "Количество деревьев = 20 , глубина = 13 , accuracy = 0.7931570762052877\n",
      "Количество деревьев = 20 , глубина = 14 , accuracy = 0.7822706065318819\n",
      "Количество деревьев = 20 , глубина = 15 , accuracy = 0.7838258164852255\n",
      "Количество деревьев = 20 , глубина = 16 , accuracy = 0.7900466562986003\n",
      "Количество деревьев = 20 , глубина = 17 , accuracy = 0.7853810264385692\n",
      "Количество деревьев = 20 , глубина = 18 , accuracy = 0.7807153965785381\n",
      "Количество деревьев = 20 , глубина = 19 , accuracy = 0.7838258164852255\n",
      "Количество деревьев = 20 , глубина = 20 , accuracy = 0.7853810264385692\n",
      "Количество деревьев = 30 , глубина = 1 , accuracy = 0.7667185069984448\n",
      "Количество деревьев = 30 , глубина = 2 , accuracy = 0.7838258164852255\n",
      "Количество деревьев = 30 , глубина = 3 , accuracy = 0.7869362363919129\n",
      "Количество деревьев = 30 , глубина = 4 , accuracy = 0.7869362363919129\n",
      "Количество деревьев = 30 , глубина = 5 , accuracy = 0.7931570762052877\n",
      "Количество деревьев = 30 , глубина = 6 , accuracy = 0.8009331259720062\n",
      "Количество деревьев = 30 , глубина = 7 , accuracy = 0.80248833592535\n",
      "Количество деревьев = 30 , глубина = 8 , accuracy = 0.7993779160186625\n",
      "Количество деревьев = 30 , глубина = 9 , accuracy = 0.7931570762052877\n",
      "Количество деревьев = 30 , глубина = 10 , accuracy = 0.7947122861586314\n",
      "Количество деревьев = 30 , глубина = 11 , accuracy = 0.7853810264385692\n",
      "Количество деревьев = 30 , глубина = 12 , accuracy = 0.7947122861586314\n",
      "Количество деревьев = 30 , глубина = 13 , accuracy = 0.7869362363919129\n",
      "Количество деревьев = 30 , глубина = 14 , accuracy = 0.7822706065318819\n",
      "Количество деревьев = 30 , глубина = 15 , accuracy = 0.7853810264385692\n",
      "Количество деревьев = 30 , глубина = 16 , accuracy = 0.7931570762052877\n",
      "Количество деревьев = 30 , глубина = 17 , accuracy = 0.7853810264385692\n",
      "Количество деревьев = 30 , глубина = 18 , accuracy = 0.7776049766718507\n",
      "Количество деревьев = 30 , глубина = 19 , accuracy = 0.7838258164852255\n",
      "Количество деревьев = 30 , глубина = 20 , accuracy = 0.7838258164852255\n",
      "Количество деревьев = 40 , глубина = 1 , accuracy = 0.776049766718507\n",
      "Количество деревьев = 40 , глубина = 2 , accuracy = 0.7853810264385692\n",
      "Количество деревьев = 40 , глубина = 3 , accuracy = 0.7869362363919129\n",
      "Количество деревьев = 40 , глубина = 4 , accuracy = 0.7900466562986003\n",
      "Количество деревьев = 40 , глубина = 5 , accuracy = 0.7947122861586314\n",
      "Количество деревьев = 40 , глубина = 6 , accuracy = 0.80248833592535\n",
      "Количество деревьев = 40 , глубина = 7 , accuracy = 0.80248833592535\n",
      "Количество деревьев = 40 , глубина = 8 , accuracy = 0.8087091757387247\n",
      "Количество деревьев = 40 , глубина = 9 , accuracy = 0.7947122861586314\n",
      "Количество деревьев = 40 , глубина = 10 , accuracy = 0.7962674961119751\n",
      "Количество деревьев = 40 , глубина = 11 , accuracy = 0.7853810264385692\n",
      "Количество деревьев = 40 , глубина = 12 , accuracy = 0.7931570762052877\n",
      "Количество деревьев = 40 , глубина = 13 , accuracy = 0.7838258164852255\n",
      "Количество деревьев = 40 , глубина = 14 , accuracy = 0.7853810264385692\n",
      "Количество деревьев = 40 , глубина = 15 , accuracy = 0.7838258164852255\n",
      "Количество деревьев = 40 , глубина = 16 , accuracy = 0.7931570762052877\n",
      "Количество деревьев = 40 , глубина = 17 , accuracy = 0.7916018662519441\n",
      "Количество деревьев = 40 , глубина = 18 , accuracy = 0.7776049766718507\n",
      "Количество деревьев = 40 , глубина = 19 , accuracy = 0.7838258164852255\n",
      "Количество деревьев = 40 , глубина = 20 , accuracy = 0.7838258164852255\n",
      "Количество деревьев = 50 , глубина = 1 , accuracy = 0.7589424572317263\n",
      "Количество деревьев = 50 , глубина = 2 , accuracy = 0.7838258164852255\n",
      "Количество деревьев = 50 , глубина = 3 , accuracy = 0.7869362363919129\n",
      "Количество деревьев = 50 , глубина = 4 , accuracy = 0.7869362363919129\n",
      "Количество деревьев = 50 , глубина = 5 , accuracy = 0.7931570762052877\n",
      "Количество деревьев = 50 , глубина = 6 , accuracy = 0.7993779160186625\n",
      "Количество деревьев = 50 , глубина = 7 , accuracy = 0.80248833592535\n",
      "Количество деревьев = 50 , глубина = 8 , accuracy = 0.807153965785381\n",
      "Количество деревьев = 50 , глубина = 9 , accuracy = 0.7978227060653188\n",
      "Количество деревьев = 50 , глубина = 10 , accuracy = 0.7931570762052877\n",
      "Количество деревьев = 50 , глубина = 11 , accuracy = 0.7900466562986003\n",
      "Количество деревьев = 50 , глубина = 12 , accuracy = 0.7962674961119751\n",
      "Количество деревьев = 50 , глубина = 13 , accuracy = 0.7884914463452566\n",
      "Количество деревьев = 50 , глубина = 14 , accuracy = 0.7916018662519441\n",
      "Количество деревьев = 50 , глубина = 15 , accuracy = 0.7838258164852255\n",
      "Количество деревьев = 50 , глубина = 16 , accuracy = 0.7916018662519441\n",
      "Количество деревьев = 50 , глубина = 17 , accuracy = 0.7947122861586314\n",
      "Количество деревьев = 50 , глубина = 18 , accuracy = 0.7869362363919129\n",
      "Количество деревьев = 50 , глубина = 19 , accuracy = 0.7900466562986003\n",
      "Количество деревьев = 50 , глубина = 20 , accuracy = 0.7853810264385692\n",
      "\n",
      "Лучший результат:\n",
      "Количество деревьев = 40 , глубина = 8 , accuracy = 0.8087091757387247\n"
     ]
    }
   ],
   "source": [
    "best_accuracy_RF = 0\n",
    "best_est_RF = 0\n",
    "best_depth_RF = 0\n",
    "\n",
    "for est in range(10, 51, 10):\n",
    "    for depth in range(1, 21):\n",
    "        model_random_forest = RandomForestClassifier(random_state=r_state, n_estimators=est, max_depth=depth)\n",
    "        model_random_forest.fit(features_train, target_train)\n",
    "        accuracy = test_accuracy_score(model_random_forest)\n",
    "        print('Количество деревьев =', est,', глубина =', depth, ', accuracy =', accuracy)\n",
    "        if accuracy > best_accuracy_RF:\n",
    "            best_accuracy_RF = accuracy\n",
    "            best_est_RF = est\n",
    "            best_depth_RF = depth\n",
    "            \n",
    "print()\n",
    "print('Лучший результат:')\n",
    "print('Количество деревьев =', best_est_RF,', глубина =', best_depth_RF, ', accuracy =', best_accuracy_RF)"
   ]
  },
  {
   "cell_type": "markdown",
   "metadata": {},
   "source": [
    "### Logistic Regression (Логистическая регрессия)"
   ]
  },
  {
   "cell_type": "code",
   "execution_count": 10,
   "metadata": {},
   "outputs": [
    {
     "name": "stdout",
     "output_type": "stream",
     "text": [
      "Алгоритм = lbfgs , accuracy = 0.7107309486780715\n",
      "Алгоритм = liblinear , accuracy = 0.7542768273716952\n"
     ]
    },
    {
     "name": "stderr",
     "output_type": "stream",
     "text": [
      "c:\\ProgramData\\Anaconda3\\lib\\site-packages\\scipy\\optimize\\_linesearch.py:456: LineSearchWarning: The line search algorithm did not converge\n",
      "  warn('The line search algorithm did not converge', LineSearchWarning)\n",
      "c:\\ProgramData\\Anaconda3\\lib\\site-packages\\scipy\\optimize\\_linesearch.py:305: LineSearchWarning: The line search algorithm did not converge\n",
      "  warn('The line search algorithm did not converge', LineSearchWarning)\n",
      "c:\\ProgramData\\Anaconda3\\lib\\site-packages\\scipy\\optimize\\_linesearch.py:456: LineSearchWarning: The line search algorithm did not converge\n",
      "  warn('The line search algorithm did not converge', LineSearchWarning)\n",
      "c:\\ProgramData\\Anaconda3\\lib\\site-packages\\scipy\\optimize\\_linesearch.py:305: LineSearchWarning: The line search algorithm did not converge\n",
      "  warn('The line search algorithm did not converge', LineSearchWarning)\n",
      "c:\\ProgramData\\Anaconda3\\lib\\site-packages\\sklearn\\linear_model\\_sag.py:352: ConvergenceWarning: The max_iter was reached which means the coef_ did not converge\n",
      "  warnings.warn(\n"
     ]
    },
    {
     "name": "stdout",
     "output_type": "stream",
     "text": [
      "Алгоритм = newton-cg , accuracy = 0.7558320373250389\n",
      "Алгоритм = sag , accuracy = 0.7060653188180405\n",
      "Алгоритм = saga , accuracy = 0.7060653188180405\n",
      "\n",
      "Лучший результат:\n",
      "Алгоритм = newton-cg , accuracy = 0.7558320373250389\n"
     ]
    },
    {
     "name": "stderr",
     "output_type": "stream",
     "text": [
      "c:\\ProgramData\\Anaconda3\\lib\\site-packages\\sklearn\\linear_model\\_sag.py:352: ConvergenceWarning: The max_iter was reached which means the coef_ did not converge\n",
      "  warnings.warn(\n"
     ]
    }
   ],
   "source": [
    "best_accuracy_LR = 0\n",
    "best_solver_LR = ''\n",
    "solvers = ['lbfgs', 'liblinear', 'newton-cg', 'sag', 'saga']\n",
    "\n",
    "for solver in solvers:\n",
    "    model_logistic_regression = LogisticRegression(solver=solver, random_state=r_state)\n",
    "    model_logistic_regression.fit(features_train, target_train)\n",
    "    accuracy = test_accuracy_score(model_logistic_regression)\n",
    "    print('Алгоритм =', solver, ', accuracy =', accuracy)\n",
    "    if accuracy > best_accuracy_LR:\n",
    "        best_accuracy_LR = accuracy\n",
    "        best_solver_LR = solver\n",
    "        \n",
    "print()\n",
    "print('Лучший результат:')\n",
    "print('Алгоритм =', best_solver_LR, ', accuracy =', best_accuracy_LR)"
   ]
  },
  {
   "cell_type": "markdown",
   "metadata": {},
   "source": [
    "### Определим лучшую модель"
   ]
  },
  {
   "cell_type": "code",
   "execution_count": 11,
   "metadata": {},
   "outputs": [
    {
     "name": "stdout",
     "output_type": "stream",
     "text": [
      "Лучшая модель: Random Forest (Случайный лес), с гиперпараметрами n_estimators = 40 max_depth = 8\n",
      "accuracy = 0.8087091757387247\n"
     ]
    }
   ],
   "source": [
    "max_accuracy = best_accuracy_DT\n",
    "if max_accuracy < best_accuracy_RF:\n",
    "    max_accuracy = best_accuracy_RF\n",
    "if max_accuracy < best_accuracy_LR:\n",
    "    max_accuracy = best_accuracy_LR\n",
    "\n",
    "if max_accuracy == best_accuracy_DT:\n",
    "    print('Лучшая модель: Decision Tree (Дерево решений), с гиперпараметром max_depth =', best_depth_DT)\n",
    "if max_accuracy == best_accuracy_RF:\n",
    "    print('Лучшая модель: Random Forest (Случайный лес), с гиперпараметрами n_estimators =', best_est_RF,\n",
    "      'max_depth =', best_depth_RF)\n",
    "if max_accuracy == best_accuracy_LR:\n",
    "    print('Лучшая модель: Logistic Regression (Логистическая регрессия), с гиперпараметром solver =', best_solver_LR)\n",
    "print('accuracy =', max_accuracy)"
   ]
  },
  {
   "cell_type": "markdown",
   "metadata": {},
   "source": [
    "## Проверим модель на тестовой выборке <a id='model_test'></a>"
   ]
  },
  {
   "cell_type": "markdown",
   "metadata": {},
   "source": [
    "### Объединим обучающую и валидационную выборки для обучения итоговой модели на большем количестве данных"
   ]
  },
  {
   "cell_type": "code",
   "execution_count": 12,
   "metadata": {},
   "outputs": [],
   "source": [
    "features = pd.concat([features_train, features_valid])\n",
    "target = pd.concat([target_train, target_valid])"
   ]
  },
  {
   "cell_type": "markdown",
   "metadata": {},
   "source": [
    "### Обучим итоговую модель и проверим результат на тестовой выборке"
   ]
  },
  {
   "cell_type": "code",
   "execution_count": 13,
   "metadata": {},
   "outputs": [
    {
     "name": "stdout",
     "output_type": "stream",
     "text": [
      "accuracy = 0.7993779160186625\n"
     ]
    }
   ],
   "source": [
    "model = RandomForestClassifier(random_state=r_state, n_estimators=best_est_RF, max_depth=best_depth_RF)\n",
    "model.fit(features, target)\n",
    "predictions_test = model.predict(features_test)\n",
    "model_accuracy = accuracy_score(target_test, predictions_test)\n",
    "print('accuracy =', model_accuracy)"
   ]
  },
  {
   "cell_type": "markdown",
   "metadata": {},
   "source": [
    "Результат accuracy на тестовой выборке (0.7993) не превышаает и близок к результату на валидационной выборке (0.8087), значит мы избежали проблемы переобучения. Так же результат больше 0.75 что означает отсутвие проблемы недообучения"
   ]
  },
  {
   "cell_type": "markdown",
   "metadata": {},
   "source": [
    "## Проверим модели на адекватность <a id='adequacy'></a>  "
   ]
  },
  {
   "cell_type": "markdown",
   "metadata": {},
   "source": [
    "Так как перед нами стоит задача классификации, то для проверки на адекватность нашей итоговой модели необходимо сравнить ее с моделью, которая все время предсказывает один класс. Для этого создадим и обучим сравнительную модель с помощью DummyClassifier с гиперпараметром strategy='most_frequent' (всегда возвращает наиболее часто встречающийся класс)"
   ]
  },
  {
   "cell_type": "code",
   "execution_count": 14,
   "metadata": {},
   "outputs": [
    {
     "name": "stdout",
     "output_type": "stream",
     "text": [
      "accuracy = 0.6842923794712286\n"
     ]
    }
   ],
   "source": [
    "model_dummy = DummyClassifier(random_state=r_state, strategy='most_frequent')\n",
    "model_dummy.fit(features, target)\n",
    "predictions_test_dummy = model_dummy.predict(features_test)\n",
    "model_dummy_accuracy = accuracy_score(target_test, predictions_test_dummy)\n",
    "print('accuracy =', model_dummy_accuracy)"
   ]
  },
  {
   "cell_type": "markdown",
   "metadata": {},
   "source": [
    "Сравним результаты и оценим адекватность нашей итоговой модели"
   ]
  },
  {
   "cell_type": "code",
   "execution_count": 15,
   "metadata": {},
   "outputs": [
    {
     "name": "stdout",
     "output_type": "stream",
     "text": [
      "Итоговая модель является адекватной\n"
     ]
    }
   ],
   "source": [
    "if model_accuracy > model_dummy_accuracy:\n",
    "    print('Итоговая модель является адекватной')\n",
    "else:\n",
    "    print('Итоговая модель является неадекватной')"
   ]
  },
  {
   "cell_type": "markdown",
   "metadata": {},
   "source": [
    "## Общий вывод"
   ]
  },
  {
   "cell_type": "markdown",
   "metadata": {},
   "source": [
    "Проведено исследование для поиска модели с максимально большим значением *accuracy* (не меньше 0.75)\n",
    "\n",
    "Данные о поведении клиентов были взяты из файла users_behavior.csv\n",
    "\n",
    "Исследование проходило в пять этапов:\n",
    "\n",
    "- [Обзор и изучение данных](#exam_file)\n",
    "    * Предобработка данных выполнена ранее\n",
    "    * Данные состоят из 3214 объектов\n",
    "    * Данные имеют 5 признаков (1 целевой и 4 вспомогательных)\n",
    "- [Разделение данных на выборки](#split_data)\n",
    "    * Определили целевой признак (is_ultra)\n",
    "    * Разделили данные на 3 выборки:\n",
    "        - Обучающую (60%)\n",
    "        - Валидационную (20%)\n",
    "        - Тестовую (20%)\n",
    "- [Исследование различных моделей и подбор лучших гиперпараметров](#model_research)\n",
    "    * Decision Tree (Дерево решений) - Лучший результат: Глубина = 3 , accuracy = 0.7853810264385692\n",
    "    * Random Forest (Случайный лес) - Лучший результат: Количество деревьев = 40 , глубина = 8 , accuracy = 0.8087091757387247\n",
    "    * Logistic Regression (Логистическая регрессия) - Лучший результат: Алгоритм = newton-cg , accuracy = 0.7558320373250389\n",
    "- [Проверка итоговой модели на тестовой выборке](#model_test)\n",
    "    * Объединили обучающую и валидационную выборки для обучения итоговой модели на большем количестве данных\n",
    "    * Результат accuracy на тестовой выборке (0.7993) \n",
    "    * Результат на тестовой выборке не превышаает и близок к результату на валидационной выборке (0.8087), значит мы избежали проблемы переобучения\n",
    "    * Результат на тестовой выборке больше 0.75 что означает отсутвие проблемы недообучения\n",
    "- [Проверка модели на адекватность](#adequacy)\n",
    "    * Сравнили итоговую модель с моделью, которая все время предсказывает один класс\n",
    "    * Обучили сравнительную модель с помощью DummyClassifier с гиперпараметром strategy='most_frequent' (всегда возвращает наиболее часто встречающийся класс)\n",
    "    * Результат accuracy сравнительной модели = 0.6842923794712286\n",
    "    * Результат accuracy нашей итоговой модели значительно больше результата сравнительной модели\n",
    "    * Итоговая модель является адекватной"
   ]
  }
 ],
 "metadata": {
  "ExecuteTimeLog": [
   {
    "duration": 855,
    "start_time": "2023-02-10T16:28:44.119Z"
   },
   {
    "duration": 697,
    "start_time": "2023-02-10T16:30:13.633Z"
   },
   {
    "duration": 39,
    "start_time": "2023-02-10T16:30:26.180Z"
   },
   {
    "duration": 4,
    "start_time": "2023-02-10T17:37:38.280Z"
   },
   {
    "duration": 809,
    "start_time": "2023-02-12T05:56:14.647Z"
   },
   {
    "duration": 24,
    "start_time": "2023-02-12T05:56:17.097Z"
   },
   {
    "duration": 4,
    "start_time": "2023-02-12T06:11:50.785Z"
   },
   {
    "duration": 67,
    "start_time": "2023-02-12T06:11:52.888Z"
   },
   {
    "duration": 813,
    "start_time": "2023-02-12T06:13:17.862Z"
   },
   {
    "duration": 19,
    "start_time": "2023-02-12T06:13:19.460Z"
   },
   {
    "duration": 4,
    "start_time": "2023-02-12T06:13:23.478Z"
   },
   {
    "duration": 5,
    "start_time": "2023-02-12T06:13:25.878Z"
   },
   {
    "duration": 5,
    "start_time": "2023-02-12T06:13:28.460Z"
   },
   {
    "duration": 1175,
    "start_time": "2023-02-12T12:09:48.106Z"
   },
   {
    "duration": 27,
    "start_time": "2023-02-12T12:09:49.283Z"
   },
   {
    "duration": 4,
    "start_time": "2023-02-12T12:09:51.901Z"
   },
   {
    "duration": 5,
    "start_time": "2023-02-12T12:09:52.861Z"
   },
   {
    "duration": 4,
    "start_time": "2023-02-12T12:09:54.072Z"
   },
   {
    "duration": 27,
    "start_time": "2023-02-12T12:16:46.439Z"
   },
   {
    "duration": 27,
    "start_time": "2023-02-12T12:30:19.510Z"
   },
   {
    "duration": 104,
    "start_time": "2023-02-12T12:42:25.527Z"
   },
   {
    "duration": 3,
    "start_time": "2023-02-12T12:47:58.201Z"
   },
   {
    "duration": 181,
    "start_time": "2023-02-12T12:48:46.643Z"
   },
   {
    "duration": 200,
    "start_time": "2023-02-12T12:48:53.725Z"
   },
   {
    "duration": 188,
    "start_time": "2023-02-12T12:51:58.099Z"
   },
   {
    "duration": 183,
    "start_time": "2023-02-12T12:52:02.116Z"
   },
   {
    "duration": 182,
    "start_time": "2023-02-12T16:55:31.965Z"
   },
   {
    "duration": 186,
    "start_time": "2023-02-12T16:55:47.074Z"
   },
   {
    "duration": 179,
    "start_time": "2023-02-12T16:57:17.614Z"
   },
   {
    "duration": 192,
    "start_time": "2023-02-12T16:57:27.141Z"
   },
   {
    "duration": 11,
    "start_time": "2023-02-12T17:26:37.853Z"
   },
   {
    "duration": 27,
    "start_time": "2023-02-12T17:26:55.331Z"
   },
   {
    "duration": 17153,
    "start_time": "2023-02-12T17:27:16.481Z"
   },
   {
    "duration": 9622,
    "start_time": "2023-02-12T17:28:08.197Z"
   },
   {
    "duration": 9371,
    "start_time": "2023-02-12T17:29:17.119Z"
   },
   {
    "duration": 9368,
    "start_time": "2023-02-12T17:29:33.153Z"
   },
   {
    "duration": 171,
    "start_time": "2023-02-12T17:32:25.610Z"
   },
   {
    "duration": 1775,
    "start_time": "2023-02-12T17:57:22.909Z"
   },
   {
    "duration": 3297,
    "start_time": "2023-02-12T17:58:48.278Z"
   },
   {
    "duration": 3927,
    "start_time": "2023-02-12T18:02:25.378Z"
   },
   {
    "duration": 2345,
    "start_time": "2023-02-12T18:02:36.617Z"
   },
   {
    "duration": 2967,
    "start_time": "2023-02-12T18:03:23.212Z"
   },
   {
    "duration": 277,
    "start_time": "2023-02-12T18:03:39.415Z"
   },
   {
    "duration": 2023,
    "start_time": "2023-02-12T18:03:59.767Z"
   },
   {
    "duration": 60,
    "start_time": "2023-02-12T18:19:48.193Z"
   },
   {
    "duration": 236,
    "start_time": "2023-02-12T18:20:07.328Z"
   },
   {
    "duration": 259,
    "start_time": "2023-02-12T18:20:13.220Z"
   },
   {
    "duration": 189,
    "start_time": "2023-02-12T18:21:10.478Z"
   },
   {
    "duration": 9946,
    "start_time": "2023-02-12T18:21:14.458Z"
   },
   {
    "duration": 280,
    "start_time": "2023-02-12T18:21:29.085Z"
   },
   {
    "duration": 275,
    "start_time": "2023-02-12T18:22:16.895Z"
   },
   {
    "duration": 182,
    "start_time": "2023-02-12T18:22:46.473Z"
   },
   {
    "duration": 9596,
    "start_time": "2023-02-12T18:23:01.617Z"
   },
   {
    "duration": 237,
    "start_time": "2023-02-12T18:23:16.948Z"
   },
   {
    "duration": 49,
    "start_time": "2023-02-12T18:39:49.880Z"
   },
   {
    "duration": 7,
    "start_time": "2023-02-12T18:40:06.300Z"
   },
   {
    "duration": 8,
    "start_time": "2023-02-12T18:48:53.873Z"
   },
   {
    "duration": 7,
    "start_time": "2023-02-12T18:50:39.466Z"
   },
   {
    "duration": 5,
    "start_time": "2023-02-12T18:50:51.794Z"
   },
   {
    "duration": 124,
    "start_time": "2023-02-12T18:57:29.481Z"
   },
   {
    "duration": 5,
    "start_time": "2023-02-12T19:04:53.120Z"
   },
   {
    "duration": 143,
    "start_time": "2023-02-12T19:05:12.442Z"
   },
   {
    "duration": 144,
    "start_time": "2023-02-12T19:09:33.800Z"
   },
   {
    "duration": 26,
    "start_time": "2023-02-12T19:49:02.544Z"
   },
   {
    "duration": 19,
    "start_time": "2023-02-12T19:49:02.572Z"
   },
   {
    "duration": 5,
    "start_time": "2023-02-12T19:49:02.592Z"
   },
   {
    "duration": 6,
    "start_time": "2023-02-12T19:49:02.599Z"
   },
   {
    "duration": 5,
    "start_time": "2023-02-12T19:49:02.606Z"
   },
   {
    "duration": 4,
    "start_time": "2023-02-12T19:49:02.612Z"
   },
   {
    "duration": 201,
    "start_time": "2023-02-12T19:49:02.617Z"
   },
   {
    "duration": 9291,
    "start_time": "2023-02-12T19:49:02.819Z"
   },
   {
    "duration": 232,
    "start_time": "2023-02-12T19:49:12.111Z"
   },
   {
    "duration": 5,
    "start_time": "2023-02-12T19:49:12.344Z"
   },
   {
    "duration": 8,
    "start_time": "2023-02-12T19:49:12.351Z"
   },
   {
    "duration": 156,
    "start_time": "2023-02-12T19:49:12.361Z"
   },
   {
    "duration": 1256,
    "start_time": "2023-02-13T03:37:58.762Z"
   },
   {
    "duration": 37,
    "start_time": "2023-02-13T03:38:00.020Z"
   },
   {
    "duration": 4,
    "start_time": "2023-02-13T03:38:00.059Z"
   },
   {
    "duration": 7,
    "start_time": "2023-02-13T03:38:00.066Z"
   },
   {
    "duration": 7,
    "start_time": "2023-02-13T03:38:00.075Z"
   },
   {
    "duration": 18,
    "start_time": "2023-02-13T03:38:00.083Z"
   },
   {
    "duration": 197,
    "start_time": "2023-02-13T03:38:00.102Z"
   },
   {
    "duration": 10328,
    "start_time": "2023-02-13T03:38:00.302Z"
   },
   {
    "duration": 282,
    "start_time": "2023-02-13T03:38:10.638Z"
   },
   {
    "duration": 6,
    "start_time": "2023-02-13T03:38:10.922Z"
   },
   {
    "duration": 24,
    "start_time": "2023-02-13T03:38:10.929Z"
   },
   {
    "duration": 159,
    "start_time": "2023-02-13T03:38:10.955Z"
   },
   {
    "duration": 1305,
    "start_time": "2023-02-13T10:38:57.816Z"
   },
   {
    "duration": 27,
    "start_time": "2023-02-13T10:38:59.123Z"
   },
   {
    "duration": 5,
    "start_time": "2023-02-13T10:38:59.152Z"
   },
   {
    "duration": 6,
    "start_time": "2023-02-13T10:38:59.159Z"
   },
   {
    "duration": 5,
    "start_time": "2023-02-13T10:38:59.168Z"
   },
   {
    "duration": 5,
    "start_time": "2023-02-13T10:38:59.175Z"
   },
   {
    "duration": 229,
    "start_time": "2023-02-13T10:38:59.181Z"
   },
   {
    "duration": 10322,
    "start_time": "2023-02-13T10:38:59.420Z"
   },
   {
    "duration": 282,
    "start_time": "2023-02-13T10:39:09.743Z"
   },
   {
    "duration": 5,
    "start_time": "2023-02-13T10:39:10.029Z"
   },
   {
    "duration": 35,
    "start_time": "2023-02-13T10:39:10.036Z"
   },
   {
    "duration": 180,
    "start_time": "2023-02-13T10:39:10.073Z"
   },
   {
    "duration": 32,
    "start_time": "2023-02-13T11:08:53.578Z"
   },
   {
    "duration": 6,
    "start_time": "2023-02-13T11:14:06.809Z"
   },
   {
    "duration": 151,
    "start_time": "2023-02-13T11:23:48.609Z"
   },
   {
    "duration": 6,
    "start_time": "2023-02-13T11:23:52.100Z"
   },
   {
    "duration": 4,
    "start_time": "2023-02-13T11:26:13.824Z"
   },
   {
    "duration": 1183,
    "start_time": "2023-02-13T18:42:11.451Z"
   },
   {
    "duration": 37,
    "start_time": "2023-02-13T18:42:12.637Z"
   },
   {
    "duration": 25,
    "start_time": "2023-02-13T18:42:12.676Z"
   },
   {
    "duration": 12,
    "start_time": "2023-02-13T18:42:12.703Z"
   },
   {
    "duration": 12,
    "start_time": "2023-02-13T18:42:12.717Z"
   },
   {
    "duration": 5,
    "start_time": "2023-02-13T18:42:12.732Z"
   },
   {
    "duration": 218,
    "start_time": "2023-02-13T18:42:12.739Z"
   },
   {
    "duration": 11206,
    "start_time": "2023-02-13T18:42:12.958Z"
   },
   {
    "duration": 296,
    "start_time": "2023-02-13T18:42:24.166Z"
   },
   {
    "duration": 5,
    "start_time": "2023-02-13T18:42:24.467Z"
   },
   {
    "duration": 15,
    "start_time": "2023-02-13T18:42:24.474Z"
   },
   {
    "duration": 232,
    "start_time": "2023-02-13T18:42:24.491Z"
   },
   {
    "duration": 14,
    "start_time": "2023-02-13T18:42:24.726Z"
   },
   {
    "duration": 8,
    "start_time": "2023-02-13T18:42:24.743Z"
   },
   {
    "duration": 3,
    "start_time": "2023-02-13T18:43:45.288Z"
   },
   {
    "duration": 28,
    "start_time": "2023-02-13T19:09:41.322Z"
   },
   {
    "duration": 21,
    "start_time": "2023-02-13T19:09:41.353Z"
   },
   {
    "duration": 5,
    "start_time": "2023-02-13T19:09:41.379Z"
   },
   {
    "duration": 13,
    "start_time": "2023-02-13T19:09:41.386Z"
   },
   {
    "duration": 6,
    "start_time": "2023-02-13T19:09:41.402Z"
   },
   {
    "duration": 4,
    "start_time": "2023-02-13T19:09:41.443Z"
   },
   {
    "duration": 242,
    "start_time": "2023-02-13T19:09:41.453Z"
   },
   {
    "duration": 11547,
    "start_time": "2023-02-13T19:09:41.697Z"
   },
   {
    "duration": 293,
    "start_time": "2023-02-13T19:09:53.247Z"
   },
   {
    "duration": 7,
    "start_time": "2023-02-13T19:09:53.543Z"
   },
   {
    "duration": 50,
    "start_time": "2023-02-13T19:09:53.552Z"
   },
   {
    "duration": 197,
    "start_time": "2023-02-13T19:09:53.605Z"
   },
   {
    "duration": 9,
    "start_time": "2023-02-13T19:09:53.805Z"
   },
   {
    "duration": 26,
    "start_time": "2023-02-13T19:09:53.816Z"
   },
   {
    "duration": 1884,
    "start_time": "2023-02-14T04:48:13.719Z"
   },
   {
    "duration": 24,
    "start_time": "2023-02-14T04:48:15.606Z"
   },
   {
    "duration": 5,
    "start_time": "2023-02-14T04:48:15.632Z"
   },
   {
    "duration": 6,
    "start_time": "2023-02-14T04:48:15.639Z"
   },
   {
    "duration": 5,
    "start_time": "2023-02-14T04:48:15.648Z"
   },
   {
    "duration": 4,
    "start_time": "2023-02-14T04:48:15.654Z"
   },
   {
    "duration": 196,
    "start_time": "2023-02-14T04:48:15.659Z"
   },
   {
    "duration": 9572,
    "start_time": "2023-02-14T04:48:15.857Z"
   },
   {
    "duration": 264,
    "start_time": "2023-02-14T04:48:25.431Z"
   },
   {
    "duration": 6,
    "start_time": "2023-02-14T04:48:25.696Z"
   },
   {
    "duration": 10,
    "start_time": "2023-02-14T04:48:25.703Z"
   },
   {
    "duration": 153,
    "start_time": "2023-02-14T04:48:25.715Z"
   },
   {
    "duration": 5,
    "start_time": "2023-02-14T04:48:25.870Z"
   },
   {
    "duration": 4,
    "start_time": "2023-02-14T04:48:25.895Z"
   },
   {
    "duration": 1345,
    "start_time": "2023-02-14T05:13:41.719Z"
   },
   {
    "duration": 26,
    "start_time": "2023-02-14T05:13:43.066Z"
   },
   {
    "duration": 7,
    "start_time": "2023-02-14T05:13:43.094Z"
   },
   {
    "duration": 14,
    "start_time": "2023-02-14T05:13:43.104Z"
   },
   {
    "duration": 12,
    "start_time": "2023-02-14T05:13:43.120Z"
   },
   {
    "duration": 7,
    "start_time": "2023-02-14T05:13:43.134Z"
   },
   {
    "duration": 201,
    "start_time": "2023-02-14T05:13:43.142Z"
   },
   {
    "duration": 10126,
    "start_time": "2023-02-14T05:13:43.345Z"
   },
   {
    "duration": 236,
    "start_time": "2023-02-14T05:13:53.472Z"
   },
   {
    "duration": 7,
    "start_time": "2023-02-14T05:13:53.710Z"
   },
   {
    "duration": 4,
    "start_time": "2023-02-14T05:13:53.737Z"
   },
   {
    "duration": 165,
    "start_time": "2023-02-14T05:13:53.743Z"
   },
   {
    "duration": 6,
    "start_time": "2023-02-14T05:13:53.909Z"
   },
   {
    "duration": 6,
    "start_time": "2023-02-14T05:13:53.916Z"
   },
   {
    "duration": 1165,
    "start_time": "2023-02-14T17:43:34.477Z"
   },
   {
    "duration": 23,
    "start_time": "2023-02-14T17:43:35.644Z"
   },
   {
    "duration": 3,
    "start_time": "2023-02-14T17:43:35.668Z"
   },
   {
    "duration": 9,
    "start_time": "2023-02-14T17:43:35.672Z"
   },
   {
    "duration": 5,
    "start_time": "2023-02-14T17:43:35.683Z"
   },
   {
    "duration": 4,
    "start_time": "2023-02-14T17:43:35.690Z"
   },
   {
    "duration": 182,
    "start_time": "2023-02-14T17:43:35.695Z"
   },
   {
    "duration": 9907,
    "start_time": "2023-02-14T17:43:35.879Z"
   },
   {
    "duration": 193,
    "start_time": "2023-02-14T17:43:45.787Z"
   },
   {
    "duration": 5,
    "start_time": "2023-02-14T17:43:45.983Z"
   },
   {
    "duration": 15,
    "start_time": "2023-02-14T17:43:45.989Z"
   },
   {
    "duration": 155,
    "start_time": "2023-02-14T17:43:46.005Z"
   },
   {
    "duration": 5,
    "start_time": "2023-02-14T17:43:46.161Z"
   },
   {
    "duration": 4,
    "start_time": "2023-02-14T17:43:46.168Z"
   },
   {
    "duration": 21,
    "start_time": "2023-02-14T17:43:58.212Z"
   },
   {
    "duration": 22,
    "start_time": "2023-02-14T17:45:07.504Z"
   },
   {
    "duration": 22,
    "start_time": "2023-02-14T17:45:31.969Z"
   },
   {
    "duration": 1110,
    "start_time": "2023-02-17T10:15:40.669Z"
   },
   {
    "duration": 29,
    "start_time": "2023-02-17T10:15:41.781Z"
   },
   {
    "duration": 4,
    "start_time": "2023-02-17T10:15:41.811Z"
   },
   {
    "duration": 7,
    "start_time": "2023-02-17T10:15:41.817Z"
   },
   {
    "duration": 8,
    "start_time": "2023-02-17T10:15:41.826Z"
   },
   {
    "duration": 7,
    "start_time": "2023-02-17T10:15:41.836Z"
   },
   {
    "duration": 181,
    "start_time": "2023-02-17T10:15:41.844Z"
   },
   {
    "duration": 9307,
    "start_time": "2023-02-17T10:15:42.027Z"
   },
   {
    "duration": 251,
    "start_time": "2023-02-17T10:15:51.335Z"
   },
   {
    "duration": 6,
    "start_time": "2023-02-17T10:15:51.588Z"
   },
   {
    "duration": 21,
    "start_time": "2023-02-17T10:15:51.595Z"
   },
   {
    "duration": 140,
    "start_time": "2023-02-17T10:15:51.618Z"
   },
   {
    "duration": 6,
    "start_time": "2023-02-17T10:15:51.760Z"
   },
   {
    "duration": 35,
    "start_time": "2023-02-17T10:15:51.767Z"
   },
   {
    "duration": 32,
    "start_time": "2023-02-17T10:18:46.017Z"
   },
   {
    "duration": 29,
    "start_time": "2023-02-17T10:18:46.052Z"
   },
   {
    "duration": 4,
    "start_time": "2023-02-17T10:18:46.082Z"
   },
   {
    "duration": 9,
    "start_time": "2023-02-17T10:18:46.088Z"
   },
   {
    "duration": 8,
    "start_time": "2023-02-17T10:18:46.098Z"
   },
   {
    "duration": 29,
    "start_time": "2023-02-17T10:18:46.108Z"
   },
   {
    "duration": 185,
    "start_time": "2023-02-17T10:18:46.139Z"
   },
   {
    "duration": 9364,
    "start_time": "2023-02-17T10:18:46.326Z"
   },
   {
    "duration": 238,
    "start_time": "2023-02-17T10:18:55.692Z"
   },
   {
    "duration": 5,
    "start_time": "2023-02-17T10:18:55.938Z"
   },
   {
    "duration": 26,
    "start_time": "2023-02-17T10:18:55.944Z"
   },
   {
    "duration": 146,
    "start_time": "2023-02-17T10:18:55.972Z"
   },
   {
    "duration": 6,
    "start_time": "2023-02-17T10:18:56.120Z"
   },
   {
    "duration": 15,
    "start_time": "2023-02-17T10:18:56.128Z"
   },
   {
    "duration": 22,
    "start_time": "2023-02-17T10:19:26.667Z"
   },
   {
    "duration": 31,
    "start_time": "2023-02-17T10:25:37.982Z"
   },
   {
    "duration": 21,
    "start_time": "2023-02-17T10:31:26.488Z"
   },
   {
    "duration": 36,
    "start_time": "2023-02-17T10:32:32.702Z"
   },
   {
    "duration": 34,
    "start_time": "2023-02-17T10:32:48.405Z"
   },
   {
    "duration": 3,
    "start_time": "2023-02-17T10:39:45.395Z"
   },
   {
    "duration": 93,
    "start_time": "2023-02-17T10:45:53.620Z"
   },
   {
    "duration": 6,
    "start_time": "2023-02-17T10:46:22.857Z"
   },
   {
    "duration": 5,
    "start_time": "2023-02-17T10:46:47.115Z"
   },
   {
    "duration": 15,
    "start_time": "2023-02-17T10:47:46.643Z"
   },
   {
    "duration": 5,
    "start_time": "2023-02-17T10:48:35.850Z"
   },
   {
    "duration": 874,
    "start_time": "2023-02-17T10:49:39.828Z"
   },
   {
    "duration": 18,
    "start_time": "2023-02-17T10:50:04.002Z"
   },
   {
    "duration": 15,
    "start_time": "2023-02-17T10:51:53.961Z"
   },
   {
    "duration": 6,
    "start_time": "2023-02-17T11:26:47.607Z"
   },
   {
    "duration": 28,
    "start_time": "2023-02-17T11:27:59.843Z"
   },
   {
    "duration": 22,
    "start_time": "2023-02-17T11:28:38.737Z"
   },
   {
    "duration": 5,
    "start_time": "2023-02-17T11:31:04.159Z"
   },
   {
    "duration": 63,
    "start_time": "2023-02-17T11:31:18.361Z"
   },
   {
    "duration": 13,
    "start_time": "2023-02-17T11:31:47.717Z"
   },
   {
    "duration": 16,
    "start_time": "2023-02-17T11:31:58.336Z"
   },
   {
    "duration": 11,
    "start_time": "2023-02-17T11:32:09.718Z"
   },
   {
    "duration": 6,
    "start_time": "2023-02-17T11:33:07.007Z"
   },
   {
    "duration": 13,
    "start_time": "2023-02-17T11:33:19.865Z"
   },
   {
    "duration": 12,
    "start_time": "2023-02-17T11:35:25.680Z"
   },
   {
    "duration": 12,
    "start_time": "2023-02-17T11:35:36.234Z"
   },
   {
    "duration": 11,
    "start_time": "2023-02-17T11:35:43.529Z"
   },
   {
    "duration": 11,
    "start_time": "2023-02-17T11:35:52.915Z"
   },
   {
    "duration": 1119,
    "start_time": "2023-02-17T16:58:42.142Z"
   },
   {
    "duration": 31,
    "start_time": "2023-02-17T16:58:50.191Z"
   },
   {
    "duration": 3,
    "start_time": "2023-02-17T16:59:03.738Z"
   },
   {
    "duration": 5,
    "start_time": "2023-02-17T16:59:27.428Z"
   },
   {
    "duration": 5,
    "start_time": "2023-02-17T16:59:29.656Z"
   },
   {
    "duration": 60,
    "start_time": "2023-02-17T17:00:48.839Z"
   },
   {
    "duration": 45,
    "start_time": "2023-02-17T17:02:47.239Z"
   },
   {
    "duration": 46,
    "start_time": "2023-02-17T17:03:15.581Z"
   },
   {
    "duration": 4,
    "start_time": "2023-02-17T17:03:38.361Z"
   },
   {
    "duration": 98,
    "start_time": "2023-02-17T17:04:00.718Z"
   },
   {
    "duration": 4,
    "start_time": "2023-02-17T17:04:07.231Z"
   },
   {
    "duration": 17,
    "start_time": "2023-02-17T17:05:38.636Z"
   },
   {
    "duration": 11,
    "start_time": "2023-02-17T17:06:30.041Z"
   },
   {
    "duration": 6,
    "start_time": "2023-02-17T17:07:11.763Z"
   },
   {
    "duration": 6,
    "start_time": "2023-02-17T17:09:37.054Z"
   },
   {
    "duration": 6,
    "start_time": "2023-02-17T17:09:49.476Z"
   },
   {
    "duration": 7,
    "start_time": "2023-02-17T17:11:21.463Z"
   },
   {
    "duration": 6,
    "start_time": "2023-02-17T17:13:59.000Z"
   },
   {
    "duration": 6,
    "start_time": "2023-02-17T17:14:05.910Z"
   },
   {
    "duration": 6,
    "start_time": "2023-02-17T17:15:44.816Z"
   },
   {
    "duration": 6,
    "start_time": "2023-02-17T17:17:35.857Z"
   },
   {
    "duration": 7,
    "start_time": "2023-02-17T17:18:21.730Z"
   },
   {
    "duration": 6,
    "start_time": "2023-02-17T17:19:50.663Z"
   },
   {
    "duration": 1182,
    "start_time": "2023-02-18T03:57:51.429Z"
   },
   {
    "duration": 30,
    "start_time": "2023-02-18T03:57:52.613Z"
   },
   {
    "duration": 3,
    "start_time": "2023-02-18T03:57:52.645Z"
   },
   {
    "duration": 8,
    "start_time": "2023-02-18T03:57:52.650Z"
   },
   {
    "duration": 21,
    "start_time": "2023-02-18T03:57:52.659Z"
   },
   {
    "duration": 6,
    "start_time": "2023-02-18T03:57:52.682Z"
   },
   {
    "duration": 6,
    "start_time": "2023-02-18T03:57:52.690Z"
   },
   {
    "duration": 183,
    "start_time": "2023-02-18T03:57:52.698Z"
   },
   {
    "duration": 8821,
    "start_time": "2023-02-18T03:57:52.882Z"
   },
   {
    "duration": 238,
    "start_time": "2023-02-18T03:58:01.705Z"
   },
   {
    "duration": 6,
    "start_time": "2023-02-18T03:58:01.945Z"
   },
   {
    "duration": 25,
    "start_time": "2023-02-18T03:58:01.967Z"
   },
   {
    "duration": 146,
    "start_time": "2023-02-18T03:58:01.994Z"
   },
   {
    "duration": 5,
    "start_time": "2023-02-18T03:58:02.141Z"
   },
   {
    "duration": 23,
    "start_time": "2023-02-18T03:58:02.147Z"
   }
  ],
  "kernelspec": {
   "display_name": "Python 3 (ipykernel)",
   "language": "python",
   "name": "python3"
  },
  "language_info": {
   "codemirror_mode": {
    "name": "ipython",
    "version": 3
   },
   "file_extension": ".py",
   "mimetype": "text/x-python",
   "name": "python",
   "nbconvert_exporter": "python",
   "pygments_lexer": "ipython3",
   "version": "3.9.13"
  },
  "toc": {
   "base_numbering": 1,
   "nav_menu": {},
   "number_sections": true,
   "sideBar": true,
   "skip_h1_title": true,
   "title_cell": "Table of Contents",
   "title_sidebar": "Contents",
   "toc_cell": false,
   "toc_position": {},
   "toc_section_display": true,
   "toc_window_display": false
  }
 },
 "nbformat": 4,
 "nbformat_minor": 2
}
