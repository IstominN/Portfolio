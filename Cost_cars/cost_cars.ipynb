{
 "cells": [
  {
   "cell_type": "markdown",
   "metadata": {},
   "source": [
    "# Определение стоимости автомобилей"
   ]
  },
  {
   "cell_type": "markdown",
   "metadata": {},
   "source": [
    "Сервис по продаже автомобилей с пробегом разрабатывает приложение для привлечения новых клиентов. В нём можно быстро узнать рыночную стоимость своего автомобиля. В нашем распоряжении исторические данные: технические характеристики, комплектации и цены автомобилей. Нам нужно построить модель для определения стоимости. \n",
    "\n",
    "Заказчику важны:\n",
    "\n",
    "- качество предсказания;\n",
    "- скорость предсказания;\n",
    "- время обучения."
   ]
  },
  {
   "cell_type": "markdown",
   "metadata": {},
   "source": [
    "Цель исследования — построить модель для определения стоимости.\n",
    "\n",
    "Данные получим из файла autos.csv.\n",
    "\n",
    "Исследование пройдёт в четыре этапа:\n",
    "\n",
    "* Загрузка данных\n",
    "* Изучение данных\n",
    "* Обучение моделей\n",
    "* Анализ моделей"
   ]
  },
  {
   "cell_type": "markdown",
   "metadata": {},
   "source": [
    "## Загрузка данных"
   ]
  },
  {
   "cell_type": "code",
   "execution_count": 1,
   "metadata": {},
   "outputs": [
    {
     "name": "stdout",
     "output_type": "stream",
     "text": [
      "Defaulting to user installation because normal site-packages is not writeable\n",
      "Requirement already satisfied: phik in c:\\users\\user\\appdata\\roaming\\python\\python39\\site-packages (0.12.4)\n",
      "Requirement already satisfied: numpy>=1.18.0 in c:\\users\\user\\appdata\\roaming\\python\\python39\\site-packages (from phik) (1.26.4)\n",
      "Requirement already satisfied: scipy>=1.5.2 in c:\\programdata\\anaconda3\\envs\\ds_practicum_env\\lib\\site-packages (from phik) (1.13.0)\n",
      "Requirement already satisfied: pandas>=0.25.1 in c:\\programdata\\anaconda3\\envs\\ds_practicum_env\\lib\\site-packages (from phik) (1.2.4)\n",
      "Requirement already satisfied: matplotlib>=2.2.3 in c:\\programdata\\anaconda3\\envs\\ds_practicum_env\\lib\\site-packages (from phik) (3.3.4)\n",
      "Requirement already satisfied: joblib>=0.14.1 in c:\\programdata\\anaconda3\\envs\\ds_practicum_env\\lib\\site-packages (from phik) (1.3.2)\n",
      "Requirement already satisfied: cycler>=0.10 in c:\\programdata\\anaconda3\\envs\\ds_practicum_env\\lib\\site-packages (from matplotlib>=2.2.3->phik) (0.12.1)\n",
      "Requirement already satisfied: kiwisolver>=1.0.1 in c:\\programdata\\anaconda3\\envs\\ds_practicum_env\\lib\\site-packages (from matplotlib>=2.2.3->phik) (1.4.5)\n",
      "Requirement already satisfied: pillow>=6.2.0 in c:\\programdata\\anaconda3\\envs\\ds_practicum_env\\lib\\site-packages (from matplotlib>=2.2.3->phik) (8.4.0)\n",
      "Requirement already satisfied: pyparsing!=2.0.4,!=2.1.2,!=2.1.6,>=2.0.3 in c:\\programdata\\anaconda3\\envs\\ds_practicum_env\\lib\\site-packages (from matplotlib>=2.2.3->phik) (3.1.1)\n",
      "Requirement already satisfied: python-dateutil>=2.1 in c:\\programdata\\anaconda3\\envs\\ds_practicum_env\\lib\\site-packages (from matplotlib>=2.2.3->phik) (2.8.2)\n",
      "Requirement already satisfied: pytz>=2017.3 in c:\\programdata\\anaconda3\\envs\\ds_practicum_env\\lib\\site-packages (from pandas>=0.25.1->phik) (2023.3.post1)\n",
      "Requirement already satisfied: six>=1.5 in c:\\programdata\\anaconda3\\envs\\ds_practicum_env\\lib\\site-packages (from python-dateutil>=2.1->matplotlib>=2.2.3->phik) (1.16.0)\n"
     ]
    }
   ],
   "source": [
    "# Установка необходимых библиотек\n",
    "\n",
    "\n",
    "! pip install phik"
   ]
  },
  {
   "cell_type": "code",
   "execution_count": 2,
   "metadata": {},
   "outputs": [],
   "source": [
    "# Импорт необходимых библиотек\n",
    "\n",
    "\n",
    "import pandas as pd \n",
    "import numpy as np \n",
    "import seaborn as sns\n",
    "import matplotlib.pyplot as plt\n",
    "\n",
    "import phik\n",
    "from phik.report import plot_correlation_matrix\n",
    "from phik import report\n",
    "\n",
    "import time\n",
    "\n",
    "from sklearn.model_selection import train_test_split, GridSearchCV\n",
    "from sklearn.metrics import mean_squared_error as mse\n",
    "from sklearn.preprocessing import StandardScaler, OrdinalEncoder\n",
    "from sklearn.linear_model import LinearRegression\n",
    "from catboost import CatBoostRegressor\n",
    "from lightgbm import LGBMRegressor\n",
    "from sklearn.ensemble import RandomForestRegressor"
   ]
  },
  {
   "cell_type": "code",
   "execution_count": 3,
   "metadata": {},
   "outputs": [],
   "source": [
    "# Константы\n",
    "\n",
    "\n",
    "r_state = 12345"
   ]
  },
  {
   "cell_type": "code",
   "execution_count": 4,
   "metadata": {},
   "outputs": [],
   "source": [
    "# Функции и классы\n",
    "\n",
    "\n",
    "# Функция для получения общих сведений о данных\n",
    "\n",
    "def data_info(title, data):\n",
    "    \n",
    "    print('Общие сведения \"{}\":'.format(title))\n",
    "    print()\n",
    "    \n",
    "    data.info()\n",
    "    \n",
    "    print()\n",
    "    print()\n",
    "    \n",
    "    print('Пример данных (случайные 5 строк):')\n",
    "    display(data.sample(5, random_state=r_state))\n",
    "\n",
    "    print()\n",
    "    print()\n",
    "    \n",
    "    print('Количество пропусков по столбцам:')\n",
    "    print()\n",
    "    for col in data.columns:\n",
    "        nmv = data[col].isna().sum()\n",
    "        pmv = nmv/len(data)\n",
    "        \n",
    "        if pmv == 0:\n",
    "            print('\\033[0m{} - {} шт. - {:.2%}'.format(col, nmv, pmv))\n",
    "        elif pmv <= 0.1:\n",
    "            print('\\033[0m{} - \\033[43m{} шт.\\033[0m - \\033[43m{:.2%}'.format(col, nmv, pmv))\n",
    "        else:\n",
    "            print('\\033[0m{} - \\033[41m{} шт.\\033[0m - \\033[41m{:.2%}'.format(col, nmv, pmv))\n",
    "        print('\\033[0m')\n",
    "    \n",
    "    print()\n",
    "    \n",
    "    print('Количество уникальных значений в столбцах:')\n",
    "    print()\n",
    "    for col in data.columns:\n",
    "        print('{} - {}'.format(col, data[col].nunique()))\n",
    "        \n",
    "    print()\n",
    "    print()\n",
    "    \n",
    "    print('Количество явных дубликатов: {} шт.'.format(data.duplicated().sum()))\n",
    "    \n",
    "# Функция для поиска неявных текстовых дубликатов\n",
    "\n",
    "def check_text(data, col):\n",
    "    \n",
    "    checked = set()\n",
    "    for s in data[col].unique():\n",
    "        name = s.split(' ')[-1]\n",
    "        if name != '' and not name in checked:\n",
    "            checked.add(name)\n",
    "            ss = data[data[col].str.contains(name)][col].unique()\n",
    "            if len(ss)>1:\n",
    "                print(ss)\n",
    "    \n",
    "# Функция для корреляции признаков\n",
    "\n",
    "def corr_info(data, col_del, target):\n",
    "    \n",
    "    print('Корреляция признаков:')\n",
    "    print()\n",
    "    corr_matrix = data.drop(columns=col_del).corr()\n",
    "    target_corr = corr_matrix.loc[[target],:]\n",
    "    sns.set(font_scale=1.15)\n",
    "    plt.figure(figsize=(8,4))\n",
    "    sns.heatmap(\n",
    "                target_corr,\n",
    "                square=True,\n",
    "                cmap='RdBu_r',\n",
    "                annot=True,\n",
    "                vmin=-1, vmax=1);\n",
    "    plt.show()\n",
    "    print()\n",
    "    for i in range(len(target_corr.columns)):\n",
    "        if target_corr.columns[i] != target:\n",
    "            cor = target_corr.loc[target, target_corr.columns[i]]\n",
    "            print('Корреляция между {} и {}:'.format(target, target_corr.columns[i]))\n",
    "            if cor == 0:\n",
    "                print(f'Коэффициент корреляции: {cor:.6f} \\n Свзяь отсутствует')\n",
    "            elif 0 < cor <= 0.3:\n",
    "                print(f'Коэффициент корреляции: {cor:.6f} \\n Слабая прямая связь')\n",
    "            elif -0.3 <= cor < 0:\n",
    "                print(f'Коэффициент корреляции: {cor:.6f} \\n Слабая обратная связь')\n",
    "            elif 0.3 < cor <= 0.7:\n",
    "                print(f'Коэффициент корреляции: {cor:.6f} \\n Средняя прямая связь')\n",
    "            elif -0.7 <= cor < -0.3:\n",
    "                print(f'Коэффициент корреляции: {cor:.6f} \\n Средняя обратная связь')\n",
    "            elif 0.7 < cor < 1:\n",
    "                print(f'Коэффициент корреляции: {cor:.6f} \\n Сильная прямая связь')\n",
    "            elif -1 < cor < -0.7:\n",
    "                print(f'Коэффициент корреляции: {cor:.6f} \\n Сильная обратная связь')\n",
    "            elif cor == 1:\n",
    "                print(f'Коэффициент корреляции: {cor:.6f} \\n Полная прямая связь')\n",
    "            elif cor == -1:\n",
    "                print(f'Коэффициент корреляции: {cor:.6f} \\n Полная обратная связь')\n",
    "            else:\n",
    "                print('Введен неверный коэффициент')\n",
    "            print()\n",
    "            \n",
    "# Функция глобальной корреляции (коэффициент корреляции Phik ( 𝜙 k))\n",
    "\n",
    "def global_phik(interval_cols):\n",
    "    \n",
    "    global_correlation, global_labels = data.global_phik(interval_cols=interval_cols)\n",
    "\n",
    "    plot_correlation_matrix(global_correlation,\n",
    "                            x_labels=[''], y_labels=global_labels, \n",
    "                            vmin=0, vmax=1, figsize=(3.5,4),\n",
    "                            color_map=\"RdBu_r\", title=r\"$g_k$\",\n",
    "                            fontsize_factor=1.5)\n",
    "    plt.tight_layout()\n",
    "\n",
    "# Функция для отделения целевого признака и создания списков численых и категориальных признаков\n",
    "\n",
    "def split_target(data, target):\n",
    "    \n",
    "    features = data.drop([target] , axis=1)\n",
    "    target = data[target]\n",
    "    \n",
    "    categorical_mask = features.dtypes==object\n",
    "    numeric_mask = features.dtypes!=object\n",
    "    categorical_cols = features.columns[categorical_mask].tolist()\n",
    "    numeric_cols = features.columns[numeric_mask].tolist()\n",
    "    print('Категориальные признаки:', categorical_cols)\n",
    "    print('Численые признаки:', numeric_cols)\n",
    "    \n",
    "    return features, target, categorical_cols, numeric_cols\n",
    "\n",
    "# Функция разбивки данных для обучения\n",
    "\n",
    "def split_data(features, target, valid_size, test_size):\n",
    "    \n",
    "    if valid_size == 0:\n",
    "        \n",
    "        features_train, features_test, target_train, target_test = train_test_split(\n",
    "        features, target, test_size=test_size, random_state=r_state)\n",
    "    \n",
    "        features_list = {'features_train' : features_train, 'features_test' : features_test}\n",
    "        targets_list = {'target_train' : target_train, 'target_test' : target_test}\n",
    "\n",
    "        print('Вспомогательные признаки:')\n",
    "        print()\n",
    "        for i in features_list:\n",
    "            sh = features_list[i].shape\n",
    "            psh = sh[0]/len(data)\n",
    "            print('{} - Объектов: {} шт., признаков: {} шт. - {:.2%}'.format(i, sh[0], sh[1], psh))\n",
    "    \n",
    "        print()\n",
    "\n",
    "        print('Целевые признаки:')\n",
    "        print()\n",
    "        for i in targets_list:\n",
    "            sh = targets_list[i].shape\n",
    "            psh = sh[0]/len(data)\n",
    "            print('{} - Объектов: {} шт. - {:.2%}'.format(i, sh[0], psh))\n",
    "    \n",
    "        return features_train, features_test, target_train, target_test\n",
    "\n",
    "    else:\n",
    "        \n",
    "        valid_test_size = valid_size + test_size\n",
    "        t_size = test_size / valid_test_size\n",
    "        \n",
    "        features_train, features_valid, target_train, target_valid = train_test_split(\n",
    "        features, target, test_size=valid_test_size, random_state=r_state)\n",
    "        \n",
    "        features_valid, features_test, target_valid, target_test = train_test_split(\n",
    "        features_valid, target_valid, test_size=t_size, random_state=r_state)\n",
    "    \n",
    "        features_list = {'features_train' : features_train, \n",
    "                         'features_valid' : features_valid, \n",
    "                         'features_test' : features_test}\n",
    "        targets_list = {'target_train' : target_train,\n",
    "                        'target_valid' : target_valid, \n",
    "                        'target_test' : target_test}\n",
    "\n",
    "        print('Вспомогательные признаки:')\n",
    "        print()\n",
    "        for i in features_list:\n",
    "            sh = features_list[i].shape\n",
    "            psh = sh[0]/len(data)\n",
    "            print('{} - Объектов: {} шт., признаков: {} шт. - {:.2%}'.format(i, sh[0], sh[1], psh))\n",
    "    \n",
    "        print()\n",
    "\n",
    "        print('Целевые признаки:')\n",
    "        print()\n",
    "        for i in targets_list:\n",
    "            sh = targets_list[i].shape\n",
    "            psh = sh[0]/len(data)\n",
    "            print('{} - Объектов: {} шт. - {:.2%}'.format(i, sh[0], psh))\n",
    "    \n",
    "        return features_train, features_valid, features_test, target_train, target_valid, target_test\n",
    "\n",
    "# Функция для подсчета RMSE\n",
    "\n",
    "def rmse(target, predicted):\n",
    "    return mse(target, predicted) ** 0.5\n",
    "\n",
    "# Класс для сохранения статистики обучения моделей (время обучения, время предсказания и RMSE)\n",
    "\n",
    "class ModelStat:\n",
    "    \n",
    "    def __init__(self, name, model):\n",
    "        self.name = name\n",
    "        self.model = model\n",
    "    \n",
    "    def fit(self, features, target):\n",
    "        start_time = time.time()    \n",
    "        self.model.fit(features, target)\n",
    "        end_time = time.time() - start_time\n",
    "        self.fit_time = end_time\n",
    "    \n",
    "    def predict(self, features, target):\n",
    "        start_time = time.time()  \n",
    "        predicted = self.model.predict(features)\n",
    "        end_time = time.time() - start_time\n",
    "        self.predict_time = end_time\n",
    "        self.rmse = rmse(target, predicted)\n",
    "        \n",
    "    def getResult(self):\n",
    "        return self.name, round(self.fit_time, 3), round(self.predict_time, 3), round(self.rmse, 5)"
   ]
  },
  {
   "cell_type": "code",
   "execution_count": 5,
   "metadata": {},
   "outputs": [],
   "source": [
    "data = pd.read_csv('datasets/autos.csv')"
   ]
  },
  {
   "cell_type": "markdown",
   "metadata": {},
   "source": [
    "## Изучение данных"
   ]
  },
  {
   "cell_type": "markdown",
   "metadata": {},
   "source": [
    "### Первичный анализ"
   ]
  },
  {
   "cell_type": "code",
   "execution_count": 6,
   "metadata": {
    "scrolled": false
   },
   "outputs": [
    {
     "name": "stdout",
     "output_type": "stream",
     "text": [
      "Общие сведения \"data\":\n",
      "\n",
      "<class 'pandas.core.frame.DataFrame'>\n",
      "RangeIndex: 354369 entries, 0 to 354368\n",
      "Data columns (total 16 columns):\n",
      " #   Column             Non-Null Count   Dtype \n",
      "---  ------             --------------   ----- \n",
      " 0   DateCrawled        354369 non-null  object\n",
      " 1   Price              354369 non-null  int64 \n",
      " 2   VehicleType        316879 non-null  object\n",
      " 3   RegistrationYear   354369 non-null  int64 \n",
      " 4   Gearbox            334536 non-null  object\n",
      " 5   Power              354369 non-null  int64 \n",
      " 6   Model              334664 non-null  object\n",
      " 7   Kilometer          354369 non-null  int64 \n",
      " 8   RegistrationMonth  354369 non-null  int64 \n",
      " 9   FuelType           321474 non-null  object\n",
      " 10  Brand              354369 non-null  object\n",
      " 11  Repaired           283215 non-null  object\n",
      " 12  DateCreated        354369 non-null  object\n",
      " 13  NumberOfPictures   354369 non-null  int64 \n",
      " 14  PostalCode         354369 non-null  int64 \n",
      " 15  LastSeen           354369 non-null  object\n",
      "dtypes: int64(7), object(9)\n",
      "memory usage: 43.3+ MB\n",
      "\n",
      "\n",
      "Пример данных (случайные 5 строк):\n"
     ]
    },
    {
     "data": {
      "text/html": [
       "<div>\n",
       "<style scoped>\n",
       "    .dataframe tbody tr th:only-of-type {\n",
       "        vertical-align: middle;\n",
       "    }\n",
       "\n",
       "    .dataframe tbody tr th {\n",
       "        vertical-align: top;\n",
       "    }\n",
       "\n",
       "    .dataframe thead th {\n",
       "        text-align: right;\n",
       "    }\n",
       "</style>\n",
       "<table border=\"1\" class=\"dataframe\">\n",
       "  <thead>\n",
       "    <tr style=\"text-align: right;\">\n",
       "      <th></th>\n",
       "      <th>DateCrawled</th>\n",
       "      <th>Price</th>\n",
       "      <th>VehicleType</th>\n",
       "      <th>RegistrationYear</th>\n",
       "      <th>Gearbox</th>\n",
       "      <th>Power</th>\n",
       "      <th>Model</th>\n",
       "      <th>Kilometer</th>\n",
       "      <th>RegistrationMonth</th>\n",
       "      <th>FuelType</th>\n",
       "      <th>Brand</th>\n",
       "      <th>Repaired</th>\n",
       "      <th>DateCreated</th>\n",
       "      <th>NumberOfPictures</th>\n",
       "      <th>PostalCode</th>\n",
       "      <th>LastSeen</th>\n",
       "    </tr>\n",
       "  </thead>\n",
       "  <tbody>\n",
       "    <tr>\n",
       "      <th>18734</th>\n",
       "      <td>2016-04-04 13:36:58</td>\n",
       "      <td>16900</td>\n",
       "      <td>bus</td>\n",
       "      <td>2010</td>\n",
       "      <td>auto</td>\n",
       "      <td>150</td>\n",
       "      <td>viano</td>\n",
       "      <td>150000</td>\n",
       "      <td>4</td>\n",
       "      <td>gasoline</td>\n",
       "      <td>mercedes_benz</td>\n",
       "      <td>no</td>\n",
       "      <td>2016-04-04 00:00:00</td>\n",
       "      <td>0</td>\n",
       "      <td>60326</td>\n",
       "      <td>2016-04-05 12:18:31</td>\n",
       "    </tr>\n",
       "    <tr>\n",
       "      <th>141787</th>\n",
       "      <td>2016-03-07 17:57:08</td>\n",
       "      <td>15500</td>\n",
       "      <td>other</td>\n",
       "      <td>2011</td>\n",
       "      <td>manual</td>\n",
       "      <td>143</td>\n",
       "      <td>1er</td>\n",
       "      <td>40000</td>\n",
       "      <td>5</td>\n",
       "      <td>gasoline</td>\n",
       "      <td>bmw</td>\n",
       "      <td>no</td>\n",
       "      <td>2016-03-07 00:00:00</td>\n",
       "      <td>0</td>\n",
       "      <td>35083</td>\n",
       "      <td>2016-04-06 20:19:15</td>\n",
       "    </tr>\n",
       "    <tr>\n",
       "      <th>37523</th>\n",
       "      <td>2016-03-24 09:37:02</td>\n",
       "      <td>3600</td>\n",
       "      <td>sedan</td>\n",
       "      <td>2004</td>\n",
       "      <td>manual</td>\n",
       "      <td>125</td>\n",
       "      <td>astra</td>\n",
       "      <td>150000</td>\n",
       "      <td>12</td>\n",
       "      <td>petrol</td>\n",
       "      <td>opel</td>\n",
       "      <td>no</td>\n",
       "      <td>2016-03-24 00:00:00</td>\n",
       "      <td>0</td>\n",
       "      <td>13627</td>\n",
       "      <td>2016-03-24 10:38:57</td>\n",
       "    </tr>\n",
       "    <tr>\n",
       "      <th>194192</th>\n",
       "      <td>2016-03-15 09:49:03</td>\n",
       "      <td>8990</td>\n",
       "      <td>sedan</td>\n",
       "      <td>2007</td>\n",
       "      <td>auto</td>\n",
       "      <td>224</td>\n",
       "      <td>c_klasse</td>\n",
       "      <td>150000</td>\n",
       "      <td>9</td>\n",
       "      <td>gasoline</td>\n",
       "      <td>mercedes_benz</td>\n",
       "      <td>no</td>\n",
       "      <td>2016-03-15 00:00:00</td>\n",
       "      <td>0</td>\n",
       "      <td>58135</td>\n",
       "      <td>2016-03-18 02:17:06</td>\n",
       "    </tr>\n",
       "    <tr>\n",
       "      <th>110210</th>\n",
       "      <td>2016-03-29 23:43:52</td>\n",
       "      <td>2500</td>\n",
       "      <td>other</td>\n",
       "      <td>1994</td>\n",
       "      <td>manual</td>\n",
       "      <td>68</td>\n",
       "      <td>transporter</td>\n",
       "      <td>150000</td>\n",
       "      <td>9</td>\n",
       "      <td>gasoline</td>\n",
       "      <td>volkswagen</td>\n",
       "      <td>no</td>\n",
       "      <td>2016-03-29 00:00:00</td>\n",
       "      <td>0</td>\n",
       "      <td>24598</td>\n",
       "      <td>2016-04-02 12:45:46</td>\n",
       "    </tr>\n",
       "  </tbody>\n",
       "</table>\n",
       "</div>"
      ],
      "text/plain": [
       "                DateCrawled  Price VehicleType  RegistrationYear Gearbox  \\\n",
       "18734   2016-04-04 13:36:58  16900         bus              2010    auto   \n",
       "141787  2016-03-07 17:57:08  15500       other              2011  manual   \n",
       "37523   2016-03-24 09:37:02   3600       sedan              2004  manual   \n",
       "194192  2016-03-15 09:49:03   8990       sedan              2007    auto   \n",
       "110210  2016-03-29 23:43:52   2500       other              1994  manual   \n",
       "\n",
       "        Power        Model  Kilometer  RegistrationMonth  FuelType  \\\n",
       "18734     150        viano     150000                  4  gasoline   \n",
       "141787    143          1er      40000                  5  gasoline   \n",
       "37523     125        astra     150000                 12    petrol   \n",
       "194192    224     c_klasse     150000                  9  gasoline   \n",
       "110210     68  transporter     150000                  9  gasoline   \n",
       "\n",
       "                Brand Repaired          DateCreated  NumberOfPictures  \\\n",
       "18734   mercedes_benz       no  2016-04-04 00:00:00                 0   \n",
       "141787            bmw       no  2016-03-07 00:00:00                 0   \n",
       "37523            opel       no  2016-03-24 00:00:00                 0   \n",
       "194192  mercedes_benz       no  2016-03-15 00:00:00                 0   \n",
       "110210     volkswagen       no  2016-03-29 00:00:00                 0   \n",
       "\n",
       "        PostalCode             LastSeen  \n",
       "18734        60326  2016-04-05 12:18:31  \n",
       "141787       35083  2016-04-06 20:19:15  \n",
       "37523        13627  2016-03-24 10:38:57  \n",
       "194192       58135  2016-03-18 02:17:06  \n",
       "110210       24598  2016-04-02 12:45:46  "
      ]
     },
     "metadata": {},
     "output_type": "display_data"
    },
    {
     "name": "stdout",
     "output_type": "stream",
     "text": [
      "\n",
      "\n",
      "Количество пропусков по столбцам:\n",
      "\n",
      "\u001b[0mDateCrawled - 0 шт. - 0.00%\n",
      "\u001b[0m\n",
      "\u001b[0mPrice - 0 шт. - 0.00%\n",
      "\u001b[0m\n",
      "\u001b[0mVehicleType - \u001b[41m37490 шт.\u001b[0m - \u001b[41m10.58%\n",
      "\u001b[0m\n",
      "\u001b[0mRegistrationYear - 0 шт. - 0.00%\n",
      "\u001b[0m\n",
      "\u001b[0mGearbox - \u001b[43m19833 шт.\u001b[0m - \u001b[43m5.60%\n",
      "\u001b[0m\n",
      "\u001b[0mPower - 0 шт. - 0.00%\n",
      "\u001b[0m\n",
      "\u001b[0mModel - \u001b[43m19705 шт.\u001b[0m - \u001b[43m5.56%\n",
      "\u001b[0m\n",
      "\u001b[0mKilometer - 0 шт. - 0.00%\n",
      "\u001b[0m\n",
      "\u001b[0mRegistrationMonth - 0 шт. - 0.00%\n",
      "\u001b[0m\n",
      "\u001b[0mFuelType - \u001b[43m32895 шт.\u001b[0m - \u001b[43m9.28%\n",
      "\u001b[0m\n",
      "\u001b[0mBrand - 0 шт. - 0.00%\n",
      "\u001b[0m\n",
      "\u001b[0mRepaired - \u001b[41m71154 шт.\u001b[0m - \u001b[41m20.08%\n",
      "\u001b[0m\n",
      "\u001b[0mDateCreated - 0 шт. - 0.00%\n",
      "\u001b[0m\n",
      "\u001b[0mNumberOfPictures - 0 шт. - 0.00%\n",
      "\u001b[0m\n",
      "\u001b[0mPostalCode - 0 шт. - 0.00%\n",
      "\u001b[0m\n",
      "\u001b[0mLastSeen - 0 шт. - 0.00%\n",
      "\u001b[0m\n",
      "\n",
      "Количество уникальных значений в столбцах:\n",
      "\n",
      "DateCrawled - 271174\n",
      "Price - 3731\n",
      "VehicleType - 8\n",
      "RegistrationYear - 151\n",
      "Gearbox - 2\n",
      "Power - 712\n",
      "Model - 250\n",
      "Kilometer - 13\n",
      "RegistrationMonth - 13\n",
      "FuelType - 7\n",
      "Brand - 40\n",
      "Repaired - 2\n",
      "DateCreated - 109\n",
      "NumberOfPictures - 1\n",
      "PostalCode - 8143\n",
      "LastSeen - 179150\n",
      "\n",
      "\n",
      "Количество явных дубликатов: 4 шт.\n"
     ]
    }
   ],
   "source": [
    "data_info('data', data)"
   ]
  },
  {
   "cell_type": "markdown",
   "metadata": {},
   "source": [
    "Описание данных:\n",
    "\n",
    "* Данные состоят из 354369 объектов\n",
    "* Имееют 16 признаков:\n",
    "    * Вспомогательные признаки:\n",
    "        * DateCrawled — дата скачивания анкеты из базы\n",
    "        * VehicleType — тип автомобильного кузова\n",
    "        * RegistrationYear — год регистрации автомобиля\n",
    "        * Gearbox — тип коробки передач\n",
    "        * Power — мощность (л. с.)\n",
    "        * Model — модель автомобиля\n",
    "        * Kilometer — пробег (км)\n",
    "        * RegistrationMonth — месяц регистрации автомобиля\n",
    "        * FuelType — тип топлива\n",
    "        * Brand — марка автомобиля\n",
    "        * Repaired — была машина в ремонте или нет\n",
    "        * DateCreated — дата создания анкеты\n",
    "        * NumberOfPictures — количество фотографий автомобиля\n",
    "        * PostalCode — почтовый индекс владельца анкеты (пользователя)\n",
    "        * LastSeen — дата последней активности пользователя\n",
    "    * Целевой признак:\n",
    "        * Price — цена (евро)\n",
    "* Присутствуют признаки, не влияющие на целевой признак (удалим их):\n",
    "    * DateCrawled — дата скачивания анкеты из базы\n",
    "    * RegistrationMonth — месяц регистрации автомобиля\n",
    "    * DateCreated — дата создания анкеты\n",
    "    * NumberOfPictures — количество фотографий автомобиля\n",
    "    * PostalCode — почтовый индекс владельца анкеты (пользователя)\n",
    "    * LastSeen — дата последней активности пользователя\n",
    "* Присутствуют пропуски:\n",
    "    * VehicleType - 37490 шт. - 10.58%\n",
    "    * Gearbox - 19833 шт. - 5.60%\n",
    "    * Model - 19705 шт. - 5.56%\n",
    "    * FuelType - 32895 шт. - 9.28%\n",
    "    * Repaired - 71154 шт. - 20.08%\n",
    "* Содержат 4 явных дубликата\n",
    "* Изучим подробнее признаки и проверим на наличие аномалий:\n",
    "    * Price — цена (евро)\n",
    "    * RegistrationYear — год регистрации автомобиля\n",
    "    * VehicleType — тип автомобильного кузова\n",
    "    * Gearbox — тип коробки передач\n",
    "    * Power — мощность (л. с.)\n",
    "    * Model — модель автомобиля\n",
    "    * Kilometer — пробег (км)\n",
    "    * FuelType — тип топлива\n",
    "    * Brand — марка автомобиля\n",
    "    * Repaired — была машина в ремонте или нет"
   ]
  },
  {
   "cell_type": "markdown",
   "metadata": {},
   "source": [
    "### Предобработка данных"
   ]
  },
  {
   "cell_type": "markdown",
   "metadata": {},
   "source": [
    "#### Удалим признаки, не влияющие на целевой признак"
   ]
  },
  {
   "cell_type": "code",
   "execution_count": 7,
   "metadata": {},
   "outputs": [
    {
     "data": {
      "text/plain": [
       "Index(['Price', 'VehicleType', 'RegistrationYear', 'Gearbox', 'Power', 'Model',\n",
       "       'Kilometer', 'FuelType', 'Brand', 'Repaired'],\n",
       "      dtype='object')"
      ]
     },
     "execution_count": 7,
     "metadata": {},
     "output_type": "execute_result"
    }
   ],
   "source": [
    "data.drop(columns=['DateCrawled', 'RegistrationMonth', 'DateCreated', 'NumberOfPictures', 'PostalCode', 'LastSeen'],\n",
    "           axis=1,\n",
    "           inplace=True)\n",
    "data.columns"
   ]
  },
  {
   "cell_type": "markdown",
   "metadata": {},
   "source": [
    "#### Проверка на наличие аномалий и пропусков"
   ]
  },
  {
   "cell_type": "markdown",
   "metadata": {},
   "source": [
    "##### Признак \"Price\" "
   ]
  },
  {
   "cell_type": "code",
   "execution_count": 8,
   "metadata": {},
   "outputs": [
    {
     "name": "stdout",
     "output_type": "stream",
     "text": [
      "Минимальная цена: 0\n",
      "Максимальная цена: 20000\n",
      "Количество нулевых значений: 10772\n"
     ]
    }
   ],
   "source": [
    "print(\"Минимальная цена:\", data['Price'].min())\n",
    "print(\"Максимальная цена:\", data['Price'].max())\n",
    "print(\"Количество нулевых значений:\", len(data[data['Price']==0]))"
   ]
  },
  {
   "cell_type": "markdown",
   "metadata": {},
   "source": [
    "Цена не может быть равна нулю. Удалим нулевые значения"
   ]
  },
  {
   "cell_type": "code",
   "execution_count": 9,
   "metadata": {},
   "outputs": [
    {
     "name": "stdout",
     "output_type": "stream",
     "text": [
      "Количество нулевых значений: 0\n"
     ]
    }
   ],
   "source": [
    "data = data[data['Price'] != 0]\n",
    "print(\"Количество нулевых значений:\", len(data[data['Price']==0]))"
   ]
  },
  {
   "cell_type": "code",
   "execution_count": 10,
   "metadata": {},
   "outputs": [
    {
     "data": {
      "image/png": "[encoded data removed]",
      "text/plain": [
       "<Figure size 1500x700 with 1 Axes>"
      ]
     },
     "metadata": {},
     "output_type": "display_data"
    },
    {
     "data": {
      "image/png": "[encoded data removed]",
      "text/plain": [
       "<Figure size 1500x500 with 1 Axes>"
      ]
     },
     "metadata": {},
     "output_type": "display_data"
    }
   ],
   "source": [
    "x = data['Price']\n",
    "plt.figure(figsize=(15,7))\n",
    "sns.histplot(x, label=\"Price\", kde=True);\n",
    "plt.legend();\n",
    "plt.title(label='Распределение по цене', fontsize=20)\n",
    "plt.xlabel('Стоимость (Евро)')\n",
    "plt.ylabel(' ')\n",
    "plt.show()\n",
    "\n",
    "plt.figure(figsize=(15,5))\n",
    "sns.boxplot(data=data['Price'], orient='h')\n",
    "plt.title('Ящик с усами для целевого признака')\n",
    "plt.show()\n"
   ]
  },
  {
   "cell_type": "markdown",
   "metadata": {},
   "source": [
    "На гистограме много околонулевых значений и есть выбросы после 15000\n",
    "Посмотрим значения 5% квантилей"
   ]
  },
  {
   "cell_type": "code",
   "execution_count": 11,
   "metadata": {},
   "outputs": [
    {
     "data": {
      "text/plain": [
       "0.05      350.0\n",
       "0.95    14800.0\n",
       "Name: Price, dtype: float64"
      ]
     },
     "execution_count": 11,
     "metadata": {},
     "output_type": "execute_result"
    }
   ],
   "source": [
    "data['Price'].quantile([.05, 0.95])"
   ]
  },
  {
   "cell_type": "markdown",
   "metadata": {},
   "source": [
    "Проверим долю значений меньше 350 и больше 14800"
   ]
  },
  {
   "cell_type": "code",
   "execution_count": 12,
   "metadata": {},
   "outputs": [
    {
     "name": "stdout",
     "output_type": "stream",
     "text": [
      "9.52%\n"
     ]
    }
   ],
   "source": [
    "print('{:.2%}'.format(1 - data.query('350 <= Price <= 14800').shape[0] / data.shape[0]))"
   ]
  },
  {
   "cell_type": "markdown",
   "metadata": {},
   "source": [
    "Удалим все значения меньше 350 и больше 14800"
   ]
  },
  {
   "cell_type": "code",
   "execution_count": 13,
   "metadata": {},
   "outputs": [
    {
     "name": "stdout",
     "output_type": "stream",
     "text": [
      "Минимальная цена: 350\n",
      "Максимальная цена: 14800\n"
     ]
    }
   ],
   "source": [
    "data = data.query('350 <= Price <= 14800')\n",
    "print(\"Минимальная цена:\", data['Price'].min())\n",
    "print(\"Максимальная цена:\", data['Price'].max())"
   ]
  },
  {
   "cell_type": "markdown",
   "metadata": {},
   "source": [
    "##### Признак \"RegistrationYear\" "
   ]
  },
  {
   "cell_type": "code",
   "execution_count": 14,
   "metadata": {},
   "outputs": [
    {
     "data": {
      "text/plain": [
       "array([1000, 1001, 1039, 1111, 1234, 1300, 1400, 1500, 1600, 1602, 1800,\n",
       "       1910, 1923, 1925, 1928, 1929, 1930, 1931, 1932, 1934, 1935, 1936,\n",
       "       1937, 1938, 1940, 1941, 1942, 1943, 1944, 1945, 1946, 1948, 1949,\n",
       "       1950, 1951, 1952, 1953, 1954, 1955, 1956, 1957, 1958, 1959, 1960,\n",
       "       1961, 1962, 1963, 1964, 1965, 1966, 1967, 1968, 1969, 1970, 1971,\n",
       "       1972, 1973, 1974, 1975, 1976, 1977, 1978, 1979, 1980, 1981, 1982,\n",
       "       1983, 1984, 1985, 1986, 1987, 1988, 1989, 1990, 1991, 1992, 1993,\n",
       "       1994, 1995, 1996, 1997, 1998, 1999, 2000, 2001, 2002, 2003, 2004,\n",
       "       2005, 2006, 2007, 2008, 2009, 2010, 2011, 2012, 2013, 2014, 2015,\n",
       "       2016, 2017, 2018, 2019, 2066, 2290, 2500, 2800, 2900, 3000, 3200,\n",
       "       3700, 3800, 4000, 4100, 4500, 4800, 5000, 5300, 5555, 5911, 6000,\n",
       "       7000, 7100, 7800, 8200, 8500, 8888, 9000, 9450, 9999], dtype=int64)"
      ]
     },
     "execution_count": 14,
     "metadata": {},
     "output_type": "execute_result"
    }
   ],
   "source": [
    "data['RegistrationYear'].sort_values().unique()"
   ]
  },
  {
   "cell_type": "markdown",
   "metadata": {},
   "source": [
    "* Присутствуют аномальные значения\n",
    "* Автомобили до 1950 считаются раритетными и не важны для нашего исследованния ввиду своей редкости. Возьмем 1950 за минимальный год.\n",
    "* Проверим самую позднюю дату скачивания анкеты из базы, год регистрации не может быть позднее этой даты.\n"
   ]
  },
  {
   "cell_type": "code",
   "execution_count": 15,
   "metadata": {
    "scrolled": true
   },
   "outputs": [
    {
     "name": "stdout",
     "output_type": "stream",
     "text": [
      "Минимальный год регистрации: 1950\n",
      "Максимальный год регистрации: 2016\n"
     ]
    },
    {
     "data": {
      "text/plain": [
       "array([1950, 1951, 1952, 1953, 1954, 1955, 1956, 1957, 1958, 1959, 1960,\n",
       "       1961, 1962, 1963, 1964, 1965, 1966, 1967, 1968, 1969, 1970, 1971,\n",
       "       1972, 1973, 1974, 1975, 1976, 1977, 1978, 1979, 1980, 1981, 1982,\n",
       "       1983, 1984, 1985, 1986, 1987, 1988, 1989, 1990, 1991, 1992, 1993,\n",
       "       1994, 1995, 1996, 1997, 1998, 1999, 2000, 2001, 2002, 2003, 2004,\n",
       "       2005, 2006, 2007, 2008, 2009, 2010, 2011, 2012, 2013, 2014, 2015,\n",
       "       2016], dtype=int64)"
      ]
     },
     "execution_count": 15,
     "metadata": {},
     "output_type": "execute_result"
    }
   ],
   "source": [
    "min_year = 1950\n",
    "max_year = pd.to_datetime(pd.read_csv('datasets/autos.csv')['DateCrawled'].max()).year\n",
    "print(\"Минимальный год регистрации:\", min_year)\n",
    "print(\"Максимальный год регистрации:\", max_year)\n",
    "data = data.query('@min_year <= RegistrationYear <= @max_year')\n",
    "data['RegistrationYear'].sort_values().unique()"
   ]
  },
  {
   "cell_type": "code",
   "execution_count": 16,
   "metadata": {
    "scrolled": false
   },
   "outputs": [
    {
     "data": {
      "image/png": "[encoded data removed]",
      "text/plain": [
       "<Figure size 1500x700 with 1 Axes>"
      ]
     },
     "metadata": {},
     "output_type": "display_data"
    }
   ],
   "source": [
    "x = data['RegistrationYear']\n",
    "plt.figure(figsize=(15,7))\n",
    "sns.histplot(x, label=\"RegistrationYear\", kde=True);\n",
    "plt.legend();\n",
    "plt.title(label='Распределение по году регистрации', fontsize=20)\n",
    "plt.xlabel('Год регистрации')\n",
    "plt.ylabel(' ')\n",
    "plt.show()"
   ]
  },
  {
   "cell_type": "markdown",
   "metadata": {},
   "source": [
    "##### Признак \"VehicleType\" "
   ]
  },
  {
   "cell_type": "markdown",
   "metadata": {},
   "source": [
    "Заменим пропуски заглушкой \"unknown\""
   ]
  },
  {
   "cell_type": "code",
   "execution_count": 17,
   "metadata": {},
   "outputs": [
    {
     "name": "stdout",
     "output_type": "stream",
     "text": [
      "Количество пропущеных значений: 0\n"
     ]
    },
    {
     "data": {
      "text/plain": [
       "sedan          82523\n",
       "small          71279\n",
       "wagon          58776\n",
       "bus            26477\n",
       "convertible    17519\n",
       "unknown        15530\n",
       "coupe          13326\n",
       "suv             9475\n",
       "other           2781\n",
       "Name: VehicleType, dtype: int64"
      ]
     },
     "execution_count": 17,
     "metadata": {},
     "output_type": "execute_result"
    }
   ],
   "source": [
    "data.fillna({'VehicleType':'unknown'}, inplace=True)\n",
    "print('Количество пропущеных значений:', data['VehicleType'].isna().sum())\n",
    "data['VehicleType'].value_counts()"
   ]
  },
  {
   "cell_type": "code",
   "execution_count": 18,
   "metadata": {},
   "outputs": [
    {
     "data": {
      "image/png": "[encoded data removed]",
      "text/plain": [
       "<Figure size 1500x700 with 1 Axes>"
      ]
     },
     "metadata": {},
     "output_type": "display_data"
    }
   ],
   "source": [
    "x = data['VehicleType']\n",
    "plt.figure(figsize=(15,7))\n",
    "sns.histplot(x, label=\"VehicleType\");\n",
    "plt.legend();\n",
    "plt.title(label='Распределение по типу кузова', fontsize=20)\n",
    "plt.xlabel('Тип кузова')\n",
    "plt.ylabel(' ')\n",
    "plt.show()"
   ]
  },
  {
   "cell_type": "markdown",
   "metadata": {},
   "source": [
    "##### Признак \"Gearbox\" "
   ]
  },
  {
   "cell_type": "code",
   "execution_count": 19,
   "metadata": {
    "scrolled": true
   },
   "outputs": [
    {
     "name": "stdout",
     "output_type": "stream",
     "text": [
      "Количество пропущеных значений: 12480\n"
     ]
    }
   ],
   "source": [
    "print('Количество пропущеных значений:', data['Gearbox'].isna().sum())"
   ]
  },
  {
   "cell_type": "markdown",
   "metadata": {},
   "source": [
    "Признак \"Gearbox\" весомый параметр, который может повлиять на обучение модели. Заменить пропуски на адекватные значения с учетом других признаков невозможно. Удалим все объекты с пропусками в  данном признаке."
   ]
  },
  {
   "cell_type": "code",
   "execution_count": 20,
   "metadata": {},
   "outputs": [],
   "source": [
    "data.dropna(subset=['Gearbox'], inplace=True)"
   ]
  },
  {
   "cell_type": "code",
   "execution_count": 21,
   "metadata": {
    "scrolled": true
   },
   "outputs": [
    {
     "name": "stdout",
     "output_type": "stream",
     "text": [
      "Количество пропущеных значений: 0\n"
     ]
    }
   ],
   "source": [
    "print('Количество пропущеных значений:', data['Gearbox'].isna().sum())"
   ]
  },
  {
   "cell_type": "markdown",
   "metadata": {},
   "source": [
    "##### Признак \"Power\" "
   ]
  },
  {
   "cell_type": "code",
   "execution_count": 22,
   "metadata": {},
   "outputs": [
    {
     "data": {
      "text/plain": [
       "count    285206.000000\n",
       "mean        113.872320\n",
       "std         186.882395\n",
       "min           0.000000\n",
       "25%          75.000000\n",
       "50%         105.000000\n",
       "75%         143.000000\n",
       "max       20000.000000\n",
       "Name: Power, dtype: float64"
      ]
     },
     "execution_count": 22,
     "metadata": {},
     "output_type": "execute_result"
    }
   ],
   "source": [
    "data['Power'].describe()"
   ]
  },
  {
   "cell_type": "code",
   "execution_count": 23,
   "metadata": {
    "scrolled": true
   },
   "outputs": [
    {
     "name": "stdout",
     "output_type": "stream",
     "text": [
      "Количество объектов с заявленной мощностью больше 350 л. с.: 651\n"
     ]
    }
   ],
   "source": [
    "print('Количество объектов с заявленной мощностью больше 350 л. с.:', data[data['Power'] > 350]['Price'].count())"
   ]
  },
  {
   "cell_type": "markdown",
   "metadata": {},
   "source": [
    "* На 2016 год среди серийных автомобилей:\n",
    "    * Самая максимальная мощность - 1500 л. с.\n",
    "    * Самая минимальная мощность - 9 л. с.\n",
    "* Объектов с заявленной мощностью больше 350 л. с. небольшое количество\n",
    "* Оставим значения в пределах от 9 до 350 л. с."
   ]
  },
  {
   "cell_type": "code",
   "execution_count": 24,
   "metadata": {},
   "outputs": [],
   "source": [
    "min_power = 9\n",
    "max_power = 350\n",
    "data = data.query('@min_power <= Power <= @max_power')"
   ]
  },
  {
   "cell_type": "code",
   "execution_count": 25,
   "metadata": {
    "scrolled": false
   },
   "outputs": [
    {
     "data": {
      "image/png": "[encoded data removed]",
      "text/plain": [
       "<Figure size 1500x700 with 1 Axes>"
      ]
     },
     "metadata": {},
     "output_type": "display_data"
    }
   ],
   "source": [
    "x = data['Power']\n",
    "plt.figure(figsize=(15,7))\n",
    "sns.histplot(x, label=\"Power\", kde=True);\n",
    "plt.legend();\n",
    "plt.title(label='Распределение по мощности', fontsize=20)\n",
    "plt.xlabel('Мощность (л. с.)')\n",
    "plt.ylabel(' ')\n",
    "plt.show()"
   ]
  },
  {
   "cell_type": "markdown",
   "metadata": {},
   "source": [
    "##### Признак \"Model\" "
   ]
  },
  {
   "cell_type": "code",
   "execution_count": 26,
   "metadata": {
    "scrolled": true
   },
   "outputs": [
    {
     "name": "stdout",
     "output_type": "stream",
     "text": [
      "Количество пропущеных значений: 9155\n"
     ]
    }
   ],
   "source": [
    "print('Количество пропущеных значений:', data['Model'].isna().sum())"
   ]
  },
  {
   "cell_type": "markdown",
   "metadata": {},
   "source": [
    "Признак \"Model\" весомый параметр, который может повлиять на обучение модели. Заменить пропуски на адекватные значения с учетом других признаков невозможно. Удалим все объекты с пропусками в  данном признаке."
   ]
  },
  {
   "cell_type": "code",
   "execution_count": 27,
   "metadata": {},
   "outputs": [],
   "source": [
    "data.dropna(subset=['Model'], inplace=True)"
   ]
  },
  {
   "cell_type": "code",
   "execution_count": 28,
   "metadata": {
    "scrolled": false
   },
   "outputs": [
    {
     "name": "stdout",
     "output_type": "stream",
     "text": [
      "Количество пропущеных значений: 0\n"
     ]
    }
   ],
   "source": [
    "print('Количество пропущеных значений:', data['Model'].isna().sum())"
   ]
  },
  {
   "cell_type": "markdown",
   "metadata": {},
   "source": [
    "Проверим на наличие неявных дубликатов"
   ]
  },
  {
   "cell_type": "code",
   "execution_count": 29,
   "metadata": {},
   "outputs": [
    {
     "name": "stdout",
     "output_type": "stream",
     "text": [
      "['kadett' 'jetta' 'tt']\n",
      "['kadett' 'ka' 'kangoo' 'kaefer' 'kalos' 'kalina' 'kappa']\n",
      "['lupo' 'up' 'superb']\n",
      "['rio' 'sirion' 'terios']\n",
      "['slk' 'sl']\n",
      "['rx_reihe' 'x_reihe' 'mx_reihe' 'cx_reihe']\n",
      "['rav' 'bravo']\n",
      "['90' '900' '9000']\n",
      "['xc_reihe' 'c_reihe']\n",
      "['scirocco' 'accord' 'cc']\n",
      "['clio' 'clk' 'cl' 'clubman']\n",
      "['900' '9000']\n",
      "['carnival' 'niva']\n",
      "['range_rover_sport' 'range_rover' 'range_rover_evoque']\n",
      "['wrangler' 'glk' 'gl']\n"
     ]
    }
   ],
   "source": [
    "check_text(data, 'Model')"
   ]
  },
  {
   "cell_type": "markdown",
   "metadata": {},
   "source": [
    "Неявные дубликаты отсутствуют"
   ]
  },
  {
   "cell_type": "markdown",
   "metadata": {},
   "source": [
    "##### Признак \"Kilometer\" "
   ]
  },
  {
   "cell_type": "code",
   "execution_count": 30,
   "metadata": {},
   "outputs": [
    {
     "data": {
      "text/plain": [
       "150000    173879\n",
       "125000     27875\n",
       "100000     10949\n",
       "90000       8702\n",
       "80000       7464\n",
       "70000       6291\n",
       "60000       5403\n",
       "50000       4313\n",
       "40000       3317\n",
       "30000       2804\n",
       "20000       2184\n",
       "5000        1939\n",
       "10000        567\n",
       "Name: Kilometer, dtype: int64"
      ]
     },
     "execution_count": 30,
     "metadata": {},
     "output_type": "execute_result"
    }
   ],
   "source": [
    "data['Kilometer'].value_counts()"
   ]
  },
  {
   "cell_type": "markdown",
   "metadata": {},
   "source": [
    "* Пропуски отсутствуют\n",
    "* Аномалий не обнаружено"
   ]
  },
  {
   "cell_type": "markdown",
   "metadata": {},
   "source": [
    "##### Признак \"FuelType\" "
   ]
  },
  {
   "cell_type": "markdown",
   "metadata": {},
   "source": [
    "Заменим пропуски заглушкой \"unknown\""
   ]
  },
  {
   "cell_type": "code",
   "execution_count": 31,
   "metadata": {},
   "outputs": [
    {
     "name": "stdout",
     "output_type": "stream",
     "text": [
      "Количество пропущеных значений: 0\n"
     ]
    },
    {
     "data": {
      "text/plain": [
       "petrol      164347\n",
       "gasoline     76043\n",
       "unknown      10378\n",
       "lpg           4228\n",
       "cng            449\n",
       "hybrid         139\n",
       "other           61\n",
       "electric        42\n",
       "Name: FuelType, dtype: int64"
      ]
     },
     "execution_count": 31,
     "metadata": {},
     "output_type": "execute_result"
    }
   ],
   "source": [
    "data.fillna({'FuelType':'unknown'}, inplace=True)\n",
    "print('Количество пропущеных значений:', data['FuelType'].isna().sum())\n",
    "data['FuelType'].value_counts()"
   ]
  },
  {
   "cell_type": "markdown",
   "metadata": {},
   "source": [
    "##### Признак \"Brand\" "
   ]
  },
  {
   "cell_type": "markdown",
   "metadata": {},
   "source": [
    "Проверим на наличие неявных дубликатов"
   ]
  },
  {
   "cell_type": "code",
   "execution_count": 32,
   "metadata": {},
   "outputs": [
    {
     "name": "stdout",
     "output_type": "stream",
     "text": [
      "['rover' 'land_rover']\n"
     ]
    }
   ],
   "source": [
    "check_text(data, 'Brand')"
   ]
  },
  {
   "cell_type": "markdown",
   "metadata": {},
   "source": [
    "Неявные дубликаты отсутствуют"
   ]
  },
  {
   "cell_type": "markdown",
   "metadata": {},
   "source": [
    "##### Признак \"Repaired\" "
   ]
  },
  {
   "cell_type": "code",
   "execution_count": 33,
   "metadata": {},
   "outputs": [
    {
     "name": "stdout",
     "output_type": "stream",
     "text": [
      "Количество пропущеных значений: 33397\n"
     ]
    }
   ],
   "source": [
    "print('Количество пропущеных значений:', data['Repaired'].isna().sum())"
   ]
  },
  {
   "cell_type": "markdown",
   "metadata": {},
   "source": [
    "Признак \"Repaired\" весомый параметр, который может повлиять на обучение модели. Заменить пропуски на адекватные значения с учетом других признаков невозможно. Так как пропущенных значений больше количество, заменим пропуски заглушкой \"unknown\"."
   ]
  },
  {
   "cell_type": "code",
   "execution_count": 34,
   "metadata": {},
   "outputs": [
    {
     "name": "stdout",
     "output_type": "stream",
     "text": [
      "Количество пропущеных значений: 0\n"
     ]
    },
    {
     "data": {
      "text/plain": [
       "no         198958\n",
       "unknown     33397\n",
       "yes         23332\n",
       "Name: Repaired, dtype: int64"
      ]
     },
     "execution_count": 34,
     "metadata": {},
     "output_type": "execute_result"
    }
   ],
   "source": [
    "data.fillna({'Repaired':'unknown'}, inplace=True)\n",
    "print('Количество пропущеных значений:', data['Repaired'].isna().sum())\n",
    "data['Repaired'].value_counts()"
   ]
  },
  {
   "cell_type": "markdown",
   "metadata": {},
   "source": [
    "#### Проверка корреляции целевого признака"
   ]
  },
  {
   "cell_type": "markdown",
   "metadata": {},
   "source": [
    "##### Корреляция числовых признаков"
   ]
  },
  {
   "cell_type": "code",
   "execution_count": 35,
   "metadata": {
    "scrolled": false
   },
   "outputs": [
    {
     "name": "stdout",
     "output_type": "stream",
     "text": [
      "Корреляция признаков:\n",
      "\n"
     ]
    },
    {
     "data": {
      "image/png": "[encoded data removed]",
      "text/plain": [
       "<Figure size 800x400 with 2 Axes>"
      ]
     },
     "metadata": {},
     "output_type": "display_data"
    },
    {
     "name": "stdout",
     "output_type": "stream",
     "text": [
      "\n",
      "Корреляция между Price и RegistrationYear:\n",
      "Коэффициент корреляции: 0.507223 \n",
      " Средняя прямая связь\n",
      "\n",
      "Корреляция между Price и Power:\n",
      "Коэффициент корреляции: 0.454259 \n",
      " Средняя прямая связь\n",
      "\n",
      "Корреляция между Price и Kilometer:\n",
      "Коэффициент корреляции: -0.346303 \n",
      " Средняя обратная связь\n",
      "\n"
     ]
    }
   ],
   "source": [
    "col_del = ['VehicleType', 'Gearbox', 'Model', 'FuelType', 'Brand', 'Repaired']\n",
    "corr_info(data, col_del, 'Price')"
   ]
  },
  {
   "cell_type": "markdown",
   "metadata": {},
   "source": [
    "##### Глобальная корреляция (коэффициент корреляции Phik ( 𝜙 k))"
   ]
  },
  {
   "cell_type": "markdown",
   "metadata": {},
   "source": [
    "Глобальный коэффициент корреляции — полезная мера, выражающая общую корреляцию одной переменной со всеми другими переменными в наборе данных. Это дает нам представление о том, насколько хорошо одна переменная может быть смоделирована с использованием других переменных."
   ]
  },
  {
   "cell_type": "code",
   "execution_count": 36,
   "metadata": {},
   "outputs": [
    {
     "name": "stderr",
     "output_type": "stream",
     "text": [
      "C:\\Users\\User\\AppData\\Roaming\\Python\\Python39\\site-packages\\phik\\phik.py:319: RuntimeWarning: invalid value encountered in sqrt\n",
      "  global_correlations = np.sqrt(\n"
     ]
    },
    {
     "data": {
      "image/png": "[encoded data removed]",
      "text/plain": [
       "<Figure size 350x400 with 2 Axes>"
      ]
     },
     "metadata": {},
     "output_type": "display_data"
    }
   ],
   "source": [
    "interval_cols = ['Price']\n",
    "global_phik(interval_cols)"
   ]
  },
  {
   "cell_type": "markdown",
   "metadata": {},
   "source": [
    "Глобальная корреляция целевого признака достаточно высока, можем приступить к обучению моделей"
   ]
  },
  {
   "cell_type": "markdown",
   "metadata": {},
   "source": [
    "## Обучение моделей"
   ]
  },
  {
   "cell_type": "markdown",
   "metadata": {},
   "source": [
    "### Отделим целевой признак и создадим списки численых и категориальных признаков"
   ]
  },
  {
   "cell_type": "code",
   "execution_count": 37,
   "metadata": {},
   "outputs": [
    {
     "name": "stdout",
     "output_type": "stream",
     "text": [
      "Категориальные признаки: ['VehicleType', 'Gearbox', 'Model', 'FuelType', 'Brand', 'Repaired']\n",
      "Численые признаки: ['RegistrationYear', 'Power', 'Kilometer']\n"
     ]
    }
   ],
   "source": [
    "features, target, categorical_cols, numeric_cols = split_target(data, 'Price')"
   ]
  },
  {
   "cell_type": "markdown",
   "metadata": {},
   "source": [
    "### Разобьем данные на обучающую, валидационную и тестовую выборки в соотношении 60:20:20"
   ]
  },
  {
   "cell_type": "code",
   "execution_count": 38,
   "metadata": {
    "scrolled": false
   },
   "outputs": [
    {
     "name": "stdout",
     "output_type": "stream",
     "text": [
      "Вспомогательные признаки:\n",
      "\n",
      "features_train - Объектов: 153412 шт., признаков: 9 шт. - 60.00%\n",
      "features_valid - Объектов: 51137 шт., признаков: 9 шт. - 20.00%\n",
      "features_test - Объектов: 51138 шт., признаков: 9 шт. - 20.00%\n",
      "\n",
      "Целевые признаки:\n",
      "\n",
      "target_train - Объектов: 153412 шт. - 60.00%\n",
      "target_valid - Объектов: 51137 шт. - 20.00%\n",
      "target_test - Объектов: 51138 шт. - 20.00%\n"
     ]
    }
   ],
   "source": [
    "features_train, features_valid, features_test, target_train, target_valid, target_test = split_data(features, target, 0.2, 0.2)"
   ]
  },
  {
   "cell_type": "markdown",
   "metadata": {},
   "source": [
    "### Подготовим категориальные признаки"
   ]
  },
  {
   "cell_type": "markdown",
   "metadata": {},
   "source": [
    "Для линейных моделей техникой OHE:"
   ]
  },
  {
   "cell_type": "code",
   "execution_count": 39,
   "metadata": {},
   "outputs": [],
   "source": [
    "features_train_ohe = pd.get_dummies(features_train, columns=categorical_cols, drop_first=True)\n",
    "features_valid_ohe = pd.get_dummies(features_valid, columns=categorical_cols, drop_first=True)\n",
    "features_test_ohe = pd.get_dummies(features_test, columns=categorical_cols, drop_first=True)\n",
    "\n",
    "common_columns = set(features_train_ohe.columns) & set(features_valid_ohe.columns) & set(features_test_ohe.columns)\n",
    "\n",
    "features_train_ohe = features_train_ohe[list(common_columns)]\n",
    "features_valid_ohe = features_valid_ohe[list(common_columns)]\n",
    "features_test_ohe = features_test_ohe[list(common_columns)]"
   ]
  },
  {
   "cell_type": "markdown",
   "metadata": {},
   "source": [
    "Для моделей, основанных на деревьях решений порядковым кодированием (OrdinalEncoder)"
   ]
  },
  {
   "cell_type": "code",
   "execution_count": 40,
   "metadata": {},
   "outputs": [],
   "source": [
    "encoder = OrdinalEncoder(handle_unknown='use_encoded_value', unknown_value=9999)\n",
    "encoder.fit(features_train[categorical_cols])\n",
    "\n",
    "features_train_ord = features_train.copy()\n",
    "features_valid_ord = features_valid.copy()\n",
    "features_test_ord = features_test.copy()\n",
    "\n",
    "features_train_ord[categorical_cols] = encoder.transform(features_train_ord[categorical_cols])\n",
    "features_valid_ord[categorical_cols] = encoder.transform(features_valid_ord[categorical_cols])\n",
    "features_test_ord[categorical_cols] = encoder.transform(features_test_ord[categorical_cols])"
   ]
  },
  {
   "cell_type": "markdown",
   "metadata": {},
   "source": [
    "### Стандартизируем численные признаки в выборках, так как в данных присутствуют значения в разных масштабах"
   ]
  },
  {
   "cell_type": "code",
   "execution_count": 41,
   "metadata": {},
   "outputs": [],
   "source": [
    "scaler = StandardScaler()\n",
    "scaler.fit(features_train[numeric_cols])\n",
    "\n",
    "features_train_ohe[numeric_cols] = scaler.transform(features_train_ohe[numeric_cols])\n",
    "features_valid_ohe[numeric_cols] = scaler.transform(features_valid_ohe[numeric_cols])\n",
    "features_test_ohe[numeric_cols] = scaler.transform(features_test_ohe[numeric_cols])\n",
    "\n",
    "features_train_ord[numeric_cols] = scaler.transform(features_train_ord[numeric_cols])\n",
    "features_valid_ord[numeric_cols] = scaler.transform(features_valid_ord[numeric_cols])\n",
    "features_test_ord[numeric_cols] = scaler.transform(features_test_ord[numeric_cols])"
   ]
  },
  {
   "cell_type": "markdown",
   "metadata": {},
   "source": [
    "### Обучим модели"
   ]
  },
  {
   "cell_type": "markdown",
   "metadata": {},
   "source": [
    "#### Создадим переменную для хранения статистики"
   ]
  },
  {
   "cell_type": "code",
   "execution_count": 42,
   "metadata": {},
   "outputs": [],
   "source": [
    "stat = []"
   ]
  },
  {
   "cell_type": "markdown",
   "metadata": {},
   "source": [
    "#### Random Forest Regressor"
   ]
  },
  {
   "cell_type": "markdown",
   "metadata": {},
   "source": [
    "Найдем лучшие параметры для модели"
   ]
  },
  {
   "cell_type": "code",
   "execution_count": 43,
   "metadata": {
    "scrolled": false
   },
   "outputs": [
    {
     "data": {
      "text/plain": [
       "{'max_depth': 16,\n",
       " 'min_samples_leaf': 2,\n",
       " 'min_samples_split': 4,\n",
       " 'n_estimators': 45}"
      ]
     },
     "execution_count": 43,
     "metadata": {},
     "output_type": "execute_result"
    }
   ],
   "source": [
    "forest = RandomForestRegressor()\n",
    "forest_params = {'n_estimators': range(5,50,10),\n",
    "              'max_depth': range(1,21,5), \n",
    "              'min_samples_leaf': range(2,6,2), \n",
    "              'min_samples_split': range(2,6,2)}\n",
    "\n",
    "\n",
    "grid_forest = GridSearchCV(forest, forest_params, cv=3, scoring='neg_mean_squared_error')\n",
    "grid_forest.fit(features_train_ord, target_train)\n",
    "\n",
    "grid_forest.best_params_\n",
    "\n",
    "# {'max_depth': 16, 'min_samples_leaf': 2, 'min_samples_split': 4, 'n_estimators': 45}"
   ]
  },
  {
   "cell_type": "markdown",
   "metadata": {},
   "source": [
    "Обучим модель и сохраним статистику"
   ]
  },
  {
   "cell_type": "code",
   "execution_count": 44,
   "metadata": {},
   "outputs": [],
   "source": [
    "model_forest = grid_forest.best_estimator_\n",
    "model_forest_stat = ModelStat('Random forest', model_forest)\n",
    "model_forest_stat.fit(features_train_ord, target_train)\n",
    "model_forest_stat.predict(features_valid_ord, target_valid)\n",
    "stat.append(model_forest_stat.getResult())"
   ]
  },
  {
   "cell_type": "markdown",
   "metadata": {},
   "source": [
    "#### Linear Regression"
   ]
  },
  {
   "cell_type": "markdown",
   "metadata": {},
   "source": [
    "Обучим модель и сохраним статистику"
   ]
  },
  {
   "cell_type": "code",
   "execution_count": 45,
   "metadata": {},
   "outputs": [],
   "source": [
    "model_lr = LinearRegression()\n",
    "model_lr_stat = ModelStat('Linear regression', model_lr)\n",
    "model_lr_stat.fit(features_train_ohe, target_train)\n",
    "model_lr_stat.predict(features_valid_ohe, target_valid)\n",
    "stat.append(model_lr_stat.getResult())"
   ]
  },
  {
   "cell_type": "markdown",
   "metadata": {},
   "source": [
    "#### LGBM Regressor"
   ]
  },
  {
   "cell_type": "markdown",
   "metadata": {},
   "source": [
    "Найдем лучшие параметры для модели"
   ]
  },
  {
   "cell_type": "code",
   "execution_count": 46,
   "metadata": {
    "scrolled": true
   },
   "outputs": [
    {
     "data": {
      "text/plain": [
       "{'learning_rate': 0.4, 'n_estimators': 60, 'num_leaves': 40}"
      ]
     },
     "execution_count": 46,
     "metadata": {},
     "output_type": "execute_result"
    }
   ],
   "source": [
    "gbm = LGBMRegressor(boosting_type='gbdt', verbose=0, seed=r_state)\n",
    "gbm_params = {'learning_rate':[x/10 for x in range(1, 11)], \n",
    "              'n_estimators': range(20, 61, 20), \n",
    "              'num_leaves': range(20, 41, 10)}\n",
    "\n",
    "grid_gbm = GridSearchCV(gbm, gbm_params, cv=3, scoring='neg_mean_squared_error')\n",
    "grid_gbm.fit(features_train_ord, target_train);\n",
    "\n",
    "grid_gbm.best_params_\n",
    "\n",
    "#{'learning_rate': 0.4, 'n_estimators': 60, 'num_leaves': 40}"
   ]
  },
  {
   "cell_type": "markdown",
   "metadata": {},
   "source": [
    "Обучим модель и сохраним статистику"
   ]
  },
  {
   "cell_type": "code",
   "execution_count": 47,
   "metadata": {},
   "outputs": [],
   "source": [
    "model_gbm = grid_gbm.best_estimator_\n",
    "model_gbm_stat = ModelStat('LightGBM', model_gbm)\n",
    "model_gbm_stat.fit(features_train_ord, target_train)\n",
    "model_gbm_stat.predict(features_valid_ord, target_valid)\n",
    "stat.append(model_gbm_stat.getResult())"
   ]
  },
  {
   "cell_type": "markdown",
   "metadata": {},
   "source": [
    "#### CatBoost Regressor"
   ]
  },
  {
   "cell_type": "markdown",
   "metadata": {},
   "source": [
    "Найдем лучшие параметры для модели"
   ]
  },
  {
   "cell_type": "code",
   "execution_count": 48,
   "metadata": {},
   "outputs": [
    {
     "data": {
      "text/plain": [
       "{'depth': 9, 'iterations': 40, 'learning_rate': 1.0}"
      ]
     },
     "execution_count": 48,
     "metadata": {},
     "output_type": "execute_result"
    }
   ],
   "source": [
    "cbr = CatBoostRegressor(loss_function='RMSE',silent=True, random_seed=r_state)\n",
    "cbr_params = {'learning_rate': np.logspace(-3, 0, 5),\n",
    "              'iterations': range(20, 60, 20),\n",
    "              'depth': range(5,10,2)}\n",
    "\n",
    "grid_cbr = GridSearchCV(cbr, cbr_params, cv=3, scoring='neg_mean_squared_error')\n",
    "grid_cbr.fit(features_train_ord, target_train);\n",
    "\n",
    "grid_cbr.best_params_\n",
    "\n",
    "# {'depth': 9, 'iterations': 40, 'learning_rate': 1.0}"
   ]
  },
  {
   "cell_type": "markdown",
   "metadata": {},
   "source": [
    "Обучим модель и сохраним статистику"
   ]
  },
  {
   "cell_type": "code",
   "execution_count": 49,
   "metadata": {},
   "outputs": [],
   "source": [
    "model_cbr = grid_cbr.best_estimator_\n",
    "model_cbr_stat = ModelStat('CatBoost', model_cbr)\n",
    "model_cbr_stat.fit(features_train_ord, target_train)\n",
    "model_cbr_stat.predict(features_valid_ord, target_valid)\n",
    "stat.append(model_cbr_stat.getResult())"
   ]
  },
  {
   "cell_type": "markdown",
   "metadata": {},
   "source": [
    "#### CatBoost Regressor без предобработки данных методом OHE"
   ]
  },
  {
   "cell_type": "markdown",
   "metadata": {},
   "source": [
    "Так как модель CatBoost самостоятельно обрабатывает категориальные признаки, попробуем применить данную модель на данных без предобработки методом OHE "
   ]
  },
  {
   "cell_type": "markdown",
   "metadata": {},
   "source": [
    "Подготовим данные"
   ]
  },
  {
   "cell_type": "code",
   "execution_count": 50,
   "metadata": {},
   "outputs": [],
   "source": [
    "features_train_cb = features_train.copy()\n",
    "features_valid_cb = features_valid.copy()\n",
    "features_test_cb = features_test.copy()\n",
    "\n",
    "features_train_cb[numeric_cols] = scaler.transform(features_train_cb[numeric_cols])\n",
    "features_valid_cb[numeric_cols] = scaler.transform(features_valid_cb[numeric_cols])\n",
    "features_test_cb[numeric_cols] = scaler.transform(features_test_cb[numeric_cols])"
   ]
  },
  {
   "cell_type": "markdown",
   "metadata": {},
   "source": [
    "Найдем лучшие параметры для модели"
   ]
  },
  {
   "cell_type": "code",
   "execution_count": 51,
   "metadata": {},
   "outputs": [
    {
     "data": {
      "text/plain": [
       "{'depth': 9, 'iterations': 40, 'learning_rate': 1.0}"
      ]
     },
     "execution_count": 51,
     "metadata": {},
     "output_type": "execute_result"
    }
   ],
   "source": [
    "cbr_no_ohe = CatBoostRegressor(loss_function='RMSE',silent=True, cat_features=categorical_cols, random_seed=r_state)\n",
    "cbr_no_ohe_params = {'learning_rate': np.logspace(-3, 0, 5),'iterations': range(20, 60, 20),'depth': range(5,10,2)}\n",
    "\n",
    "grid_cbr_no_ohe = GridSearchCV(cbr_no_ohe, cbr_no_ohe_params, cv=3, scoring='neg_mean_squared_error')\n",
    "grid_cbr_no_ohe.fit(features_train_cb, target_train);\n",
    "\n",
    "grid_cbr_no_ohe.best_params_\n",
    "\n",
    "#{'depth': 9, 'iterations': 40, 'learning_rate': 1.0}"
   ]
  },
  {
   "cell_type": "markdown",
   "metadata": {},
   "source": [
    "Обучим модель и сохраним статистику"
   ]
  },
  {
   "cell_type": "code",
   "execution_count": 52,
   "metadata": {},
   "outputs": [],
   "source": [
    "model_cbr_no_ohe = grid_cbr_no_ohe.best_estimator_\n",
    "model_cbr_no_ohe_stat = ModelStat('CatBoost_no_ohe', model_cbr_no_ohe)\n",
    "model_cbr_no_ohe_stat.fit(features_train_cb, target_train)\n",
    "model_cbr_no_ohe_stat.predict(features_valid_cb, target_valid)\n",
    "stat.append(model_cbr_no_ohe_stat.getResult())"
   ]
  },
  {
   "cell_type": "markdown",
   "metadata": {},
   "source": [
    "## Анализ моделей"
   ]
  },
  {
   "cell_type": "markdown",
   "metadata": {},
   "source": [
    "Создадим DataFrame со статистическими данными наших моделей"
   ]
  },
  {
   "cell_type": "code",
   "execution_count": 53,
   "metadata": {},
   "outputs": [
    {
     "data": {
      "text/html": [
       "<div>\n",
       "<style scoped>\n",
       "    .dataframe tbody tr th:only-of-type {\n",
       "        vertical-align: middle;\n",
       "    }\n",
       "\n",
       "    .dataframe tbody tr th {\n",
       "        vertical-align: top;\n",
       "    }\n",
       "\n",
       "    .dataframe thead th {\n",
       "        text-align: right;\n",
       "    }\n",
       "</style>\n",
       "<table border=\"1\" class=\"dataframe\">\n",
       "  <thead>\n",
       "    <tr style=\"text-align: right;\">\n",
       "      <th></th>\n",
       "      <th>Модель</th>\n",
       "      <th>Время обучения</th>\n",
       "      <th>Время предсказания</th>\n",
       "      <th>RMSE</th>\n",
       "    </tr>\n",
       "  </thead>\n",
       "  <tbody>\n",
       "    <tr>\n",
       "      <th>0</th>\n",
       "      <td>Random forest</td>\n",
       "      <td>46.264</td>\n",
       "      <td>0.986</td>\n",
       "      <td>1341.20856</td>\n",
       "    </tr>\n",
       "    <tr>\n",
       "      <th>2</th>\n",
       "      <td>LightGBM</td>\n",
       "      <td>2.494</td>\n",
       "      <td>0.420</td>\n",
       "      <td>1355.59694</td>\n",
       "    </tr>\n",
       "    <tr>\n",
       "      <th>3</th>\n",
       "      <td>CatBoost</td>\n",
       "      <td>6.613</td>\n",
       "      <td>0.072</td>\n",
       "      <td>1380.62530</td>\n",
       "    </tr>\n",
       "    <tr>\n",
       "      <th>4</th>\n",
       "      <td>CatBoost_no_ohe</td>\n",
       "      <td>22.884</td>\n",
       "      <td>0.380</td>\n",
       "      <td>1386.19893</td>\n",
       "    </tr>\n",
       "    <tr>\n",
       "      <th>1</th>\n",
       "      <td>Linear regression</td>\n",
       "      <td>14.735</td>\n",
       "      <td>0.343</td>\n",
       "      <td>2054.58365</td>\n",
       "    </tr>\n",
       "  </tbody>\n",
       "</table>\n",
       "</div>"
      ],
      "text/plain": [
       "              Модель  Время обучения  Время предсказания        RMSE\n",
       "0      Random forest          46.264               0.986  1341.20856\n",
       "2           LightGBM           2.494               0.420  1355.59694\n",
       "3           CatBoost           6.613               0.072  1380.62530\n",
       "4    CatBoost_no_ohe          22.884               0.380  1386.19893\n",
       "1  Linear regression          14.735               0.343  2054.58365"
      ]
     },
     "execution_count": 53,
     "metadata": {},
     "output_type": "execute_result"
    }
   ],
   "source": [
    "stat_df = pd.DataFrame(stat, columns =['Модель', 'Время обучения', 'Время предсказания', 'RMSE'])\n",
    "stat_df.sort_values(by='RMSE')"
   ]
  },
  {
   "cell_type": "markdown",
   "metadata": {},
   "source": [
    "Создадим колонку с рейтингом и запишем туда данные на основе \"формулы рейтинга\""
   ]
  },
  {
   "cell_type": "code",
   "execution_count": 54,
   "metadata": {
    "scrolled": true
   },
   "outputs": [],
   "source": [
    "# 'Формула рейтинга' придумана мной для оценки лучшей модели с учетом критериев заказчика.\n",
    "# Возможно она не корректна и существует готовая модель или формула, но в данном случае позволяет выявить лучшую модель\n",
    "\n",
    "stat_df['Рейтинг'] = round((100 - (.34 * stat_df['RMSE'] / stat_df['RMSE'].min() + \n",
    "                            .33 * stat_df['Время обучения'] / stat_df['Время обучения'].min() +\n",
    "                           .33 * stat_df['Время предсказания'] / stat_df['Время предсказания'].min())) / 10, 3)"
   ]
  },
  {
   "cell_type": "markdown",
   "metadata": {},
   "source": [
    "Посмотрим итоговую таблицу и оценим результат исследрвания"
   ]
  },
  {
   "cell_type": "code",
   "execution_count": 55,
   "metadata": {},
   "outputs": [
    {
     "data": {
      "text/html": [
       "<div>\n",
       "<style scoped>\n",
       "    .dataframe tbody tr th:only-of-type {\n",
       "        vertical-align: middle;\n",
       "    }\n",
       "\n",
       "    .dataframe tbody tr th {\n",
       "        vertical-align: top;\n",
       "    }\n",
       "\n",
       "    .dataframe thead th {\n",
       "        text-align: right;\n",
       "    }\n",
       "</style>\n",
       "<table border=\"1\" class=\"dataframe\">\n",
       "  <thead>\n",
       "    <tr style=\"text-align: right;\">\n",
       "      <th></th>\n",
       "      <th>Модель</th>\n",
       "      <th>Время обучения</th>\n",
       "      <th>Время предсказания</th>\n",
       "      <th>RMSE</th>\n",
       "      <th>Рейтинг</th>\n",
       "    </tr>\n",
       "  </thead>\n",
       "  <tbody>\n",
       "    <tr>\n",
       "      <th>3</th>\n",
       "      <td>CatBoost</td>\n",
       "      <td>6.613</td>\n",
       "      <td>0.072</td>\n",
       "      <td>1380.62530</td>\n",
       "      <td>9.844</td>\n",
       "    </tr>\n",
       "    <tr>\n",
       "      <th>2</th>\n",
       "      <td>LightGBM</td>\n",
       "      <td>2.494</td>\n",
       "      <td>0.420</td>\n",
       "      <td>1355.59694</td>\n",
       "      <td>9.740</td>\n",
       "    </tr>\n",
       "    <tr>\n",
       "      <th>1</th>\n",
       "      <td>Linear regression</td>\n",
       "      <td>14.735</td>\n",
       "      <td>0.343</td>\n",
       "      <td>2054.58365</td>\n",
       "      <td>9.596</td>\n",
       "    </tr>\n",
       "    <tr>\n",
       "      <th>4</th>\n",
       "      <td>CatBoost_no_ohe</td>\n",
       "      <td>22.884</td>\n",
       "      <td>0.380</td>\n",
       "      <td>1386.19893</td>\n",
       "      <td>9.488</td>\n",
       "    </tr>\n",
       "    <tr>\n",
       "      <th>0</th>\n",
       "      <td>Random forest</td>\n",
       "      <td>46.264</td>\n",
       "      <td>0.986</td>\n",
       "      <td>1341.20856</td>\n",
       "      <td>8.902</td>\n",
       "    </tr>\n",
       "  </tbody>\n",
       "</table>\n",
       "</div>"
      ],
      "text/plain": [
       "              Модель  Время обучения  Время предсказания        RMSE  Рейтинг\n",
       "3           CatBoost           6.613               0.072  1380.62530    9.844\n",
       "2           LightGBM           2.494               0.420  1355.59694    9.740\n",
       "1  Linear regression          14.735               0.343  2054.58365    9.596\n",
       "4    CatBoost_no_ohe          22.884               0.380  1386.19893    9.488\n",
       "0      Random forest          46.264               0.986  1341.20856    8.902"
      ]
     },
     "execution_count": 55,
     "metadata": {},
     "output_type": "execute_result"
    }
   ],
   "source": [
    "stat_df.sort_values(by='Рейтинг', ascending=False)"
   ]
  },
  {
   "cell_type": "markdown",
   "metadata": {},
   "source": [
    "## Тестирование лучшей модели"
   ]
  },
  {
   "cell_type": "markdown",
   "metadata": {},
   "source": [
    "Лучшая модель согласно нашему рейтингу - CatBoost с предварительным кодированием данных.\n",
    "\n",
    "Проверим ее на тестовой выборке"
   ]
  },
  {
   "cell_type": "markdown",
   "metadata": {},
   "source": [
    "Объединим обучающую и валидационную выборки для обучения итоговой модели на большем количестве данных"
   ]
  },
  {
   "cell_type": "code",
   "execution_count": 56,
   "metadata": {},
   "outputs": [],
   "source": [
    "features_ord_final = pd.concat([features_train_ord, features_valid_ord])\n",
    "target_final = pd.concat([target_train, target_valid])"
   ]
  },
  {
   "cell_type": "code",
   "execution_count": 57,
   "metadata": {},
   "outputs": [],
   "source": [
    "stat_final = []"
   ]
  },
  {
   "cell_type": "code",
   "execution_count": 58,
   "metadata": {},
   "outputs": [],
   "source": [
    "model_cbr_stat_final = ModelStat('CatBoost_final', model_cbr)\n",
    "model_cbr_stat_final.fit(features_ord_final, target_final)\n",
    "model_cbr_stat_final.predict(features_test_ord, target_test)\n",
    "stat_final.append(model_cbr_stat_final.getResult())"
   ]
  },
  {
   "cell_type": "code",
   "execution_count": 59,
   "metadata": {},
   "outputs": [
    {
     "data": {
      "text/html": [
       "<div>\n",
       "<style scoped>\n",
       "    .dataframe tbody tr th:only-of-type {\n",
       "        vertical-align: middle;\n",
       "    }\n",
       "\n",
       "    .dataframe tbody tr th {\n",
       "        vertical-align: top;\n",
       "    }\n",
       "\n",
       "    .dataframe thead th {\n",
       "        text-align: right;\n",
       "    }\n",
       "</style>\n",
       "<table border=\"1\" class=\"dataframe\">\n",
       "  <thead>\n",
       "    <tr style=\"text-align: right;\">\n",
       "      <th></th>\n",
       "      <th>Модель</th>\n",
       "      <th>Время обучения</th>\n",
       "      <th>Время предсказания</th>\n",
       "      <th>RMSE</th>\n",
       "    </tr>\n",
       "  </thead>\n",
       "  <tbody>\n",
       "    <tr>\n",
       "      <th>0</th>\n",
       "      <td>CatBoost_final</td>\n",
       "      <td>10.237</td>\n",
       "      <td>0.072</td>\n",
       "      <td>1364.37708</td>\n",
       "    </tr>\n",
       "    <tr>\n",
       "      <th>1</th>\n",
       "      <td>CatBoost</td>\n",
       "      <td>6.613</td>\n",
       "      <td>0.072</td>\n",
       "      <td>1380.62530</td>\n",
       "    </tr>\n",
       "  </tbody>\n",
       "</table>\n",
       "</div>"
      ],
      "text/plain": [
       "           Модель  Время обучения  Время предсказания        RMSE\n",
       "0  CatBoost_final          10.237               0.072  1364.37708\n",
       "1        CatBoost           6.613               0.072  1380.62530"
      ]
     },
     "execution_count": 59,
     "metadata": {},
     "output_type": "execute_result"
    }
   ],
   "source": [
    "stat_df_final = pd.DataFrame(stat_final, columns =['Модель', 'Время обучения', 'Время предсказания', 'RMSE'])\n",
    "stat_df_final.loc[1] = stat[3]\n",
    "stat_df_final"
   ]
  },
  {
   "cell_type": "markdown",
   "metadata": {},
   "source": [
    "Финальный тест показал хорошие результаты\n",
    "\n",
    "* Время обучения немного выросло, но мы объединили обучающую и валидационную выборки для обучения итоговой модели на большем количестве данных\n",
    "* Время предсказания незначительно изменилось\n",
    "* Качество предсказаний улучшилось\n",
    "\n",
    "Можем рекомендовать модель CatBoost"
   ]
  },
  {
   "cell_type": "markdown",
   "metadata": {},
   "source": [
    "## Общий вывод"
   ]
  },
  {
   "cell_type": "markdown",
   "metadata": {},
   "source": [
    "Проведено исследование с целью найти лучшую модель для определения стоимости автомобилей\n",
    "\n",
    "Заказчику были важны:\n",
    "\n",
    "* качество предсказания\n",
    "* скорость предсказания\n",
    "* время обучения\n",
    "\n",
    "\n",
    "Цель исследования — построить модель для определения стоимости.\n",
    "\n",
    "Данные получили из файла autos.csv.\n",
    "\n",
    "Исследование проходило в четыре этапа:\n",
    "\n",
    "* Загрузка данных\n",
    "* Изучение данных\n",
    "* Обучение моделей\n",
    "* Анализ моделей\n",
    "\n",
    "Мы использовали модели градиетного бустинга CatBoostRegressor и LightGBM, и сравнили их с базовыми моделями LinearRegression и RandomForestRegressor\n",
    "\n",
    "Исходя из полученных данных статистики обучения моделей:\n",
    "\n",
    "* Лучшая модель - CatBoost\n",
    "    * Результаты на данной модели с предобработкой данных методом OHE и без него - примерно одинаковы\n",
    "* Модель LightGBM по сравнению с CatBoost незначительно точнее в предсказаниях, но хуже по скорости обучения и предсказания\n",
    "* Базовые модели значительно отстают от моделей градиентного бустинга либо в качестве, либо по скорости работы\n",
    "\n",
    "Для компании можем рекомендовать модель CatBoost"
   ]
  }
 ],
 "metadata": {
  "ExecuteTimeLog": [
   {
    "duration": 1221,
    "start_time": "2023-04-23T18:45:55.894Z"
   },
   {
    "duration": 2,
    "start_time": "2023-04-23T18:45:57.847Z"
   },
   {
    "duration": 12,
    "start_time": "2023-04-23T18:46:02.242Z"
   },
   {
    "duration": 2758,
    "start_time": "2023-04-23T18:46:03.825Z"
   },
   {
    "duration": 1057,
    "start_time": "2023-04-23T18:57:46.060Z"
   },
   {
    "duration": 1267,
    "start_time": "2023-04-24T16:44:29.232Z"
   },
   {
    "duration": 3,
    "start_time": "2023-04-24T16:44:31.288Z"
   },
   {
    "duration": 14,
    "start_time": "2023-04-24T16:44:32.788Z"
   },
   {
    "duration": 1056,
    "start_time": "2023-04-24T16:44:33.713Z"
   },
   {
    "duration": 1269,
    "start_time": "2023-04-24T16:44:35.187Z"
   },
   {
    "duration": 1577,
    "start_time": "2023-04-26T09:11:48.108Z"
   },
   {
    "duration": 2,
    "start_time": "2023-04-26T09:11:49.687Z"
   },
   {
    "duration": 23,
    "start_time": "2023-04-26T09:11:49.691Z"
   },
   {
    "duration": 1162,
    "start_time": "2023-04-26T09:11:49.716Z"
   },
   {
    "duration": 1321,
    "start_time": "2023-04-26T09:11:50.879Z"
   },
   {
    "duration": 405,
    "start_time": "2023-04-26T09:11:52.201Z"
   },
   {
    "duration": 97,
    "start_time": "2023-04-26T09:13:25.580Z"
   },
   {
    "duration": 3365,
    "start_time": "2023-04-26T09:15:24.098Z"
   },
   {
    "duration": 47,
    "start_time": "2023-04-26T09:15:33.044Z"
   },
   {
    "duration": 2240,
    "start_time": "2023-04-26T09:16:28.363Z"
   },
   {
    "duration": 2218,
    "start_time": "2023-04-26T09:17:19.979Z"
   },
   {
    "duration": 1092,
    "start_time": "2023-04-26T09:17:22.199Z"
   },
   {
    "duration": 3,
    "start_time": "2023-04-26T09:17:23.293Z"
   },
   {
    "duration": 13,
    "start_time": "2023-04-26T09:17:23.297Z"
   },
   {
    "duration": 825,
    "start_time": "2023-04-26T09:17:23.311Z"
   },
   {
    "duration": 1329,
    "start_time": "2023-04-26T09:17:24.138Z"
   },
   {
    "duration": 377,
    "start_time": "2023-04-26T09:17:25.469Z"
   },
   {
    "duration": 3356,
    "start_time": "2023-04-26T09:21:58.462Z"
   },
   {
    "duration": 1442,
    "start_time": "2023-04-26T09:22:01.820Z"
   },
   {
    "duration": 3,
    "start_time": "2023-04-26T09:22:03.263Z"
   },
   {
    "duration": 28,
    "start_time": "2023-04-26T09:22:03.268Z"
   },
   {
    "duration": 887,
    "start_time": "2023-04-26T09:22:03.301Z"
   },
   {
    "duration": 1363,
    "start_time": "2023-04-26T09:22:04.189Z"
   },
   {
    "duration": 357,
    "start_time": "2023-04-26T09:22:05.555Z"
   },
   {
    "duration": 43838,
    "start_time": "2023-04-26T09:22:05.914Z"
   },
   {
    "duration": 54,
    "start_time": "2023-04-26T09:26:25.964Z"
   },
   {
    "duration": 27,
    "start_time": "2023-04-26T09:26:45.328Z"
   },
   {
    "duration": 16,
    "start_time": "2023-04-26T09:27:07.530Z"
   },
   {
    "duration": 16,
    "start_time": "2023-04-26T09:27:30.033Z"
   },
   {
    "duration": 2226,
    "start_time": "2023-04-26T09:27:42.233Z"
   },
   {
    "duration": 4,
    "start_time": "2023-04-26T09:27:44.462Z"
   },
   {
    "duration": 7,
    "start_time": "2023-04-26T09:27:44.467Z"
   },
   {
    "duration": 15,
    "start_time": "2023-04-26T09:27:44.476Z"
   },
   {
    "duration": 1255,
    "start_time": "2023-04-26T09:27:44.493Z"
   },
   {
    "duration": 1215,
    "start_time": "2023-04-26T09:27:45.750Z"
   },
   {
    "duration": 509,
    "start_time": "2023-04-26T09:27:46.967Z"
   },
   {
    "duration": 28,
    "start_time": "2023-04-26T09:27:47.477Z"
   },
   {
    "duration": 51,
    "start_time": "2023-04-26T09:27:56.234Z"
   },
   {
    "duration": 18208,
    "start_time": "2023-04-26T09:28:02.962Z"
   },
   {
    "duration": 8766,
    "start_time": "2023-04-26T09:29:44.010Z"
   },
   {
    "duration": 9511,
    "start_time": "2023-04-26T09:30:03.071Z"
   },
   {
    "duration": 2153,
    "start_time": "2023-04-26T09:30:42.539Z"
   },
   {
    "duration": 5,
    "start_time": "2023-04-26T09:30:44.695Z"
   },
   {
    "duration": 45,
    "start_time": "2023-04-26T09:30:44.702Z"
   },
   {
    "duration": 17,
    "start_time": "2023-04-26T09:30:44.749Z"
   },
   {
    "duration": 877,
    "start_time": "2023-04-26T09:30:44.767Z"
   },
   {
    "duration": 1176,
    "start_time": "2023-04-26T09:30:45.646Z"
   },
   {
    "duration": 387,
    "start_time": "2023-04-26T09:30:46.825Z"
   },
   {
    "duration": 11575,
    "start_time": "2023-04-26T09:30:47.215Z"
   },
   {
    "duration": 10889,
    "start_time": "2023-04-26T09:33:15.502Z"
   },
   {
    "duration": 2156,
    "start_time": "2023-04-26T09:39:38.562Z"
   },
   {
    "duration": 1442,
    "start_time": "2023-04-26T09:39:40.720Z"
   },
   {
    "duration": 2,
    "start_time": "2023-04-26T09:39:42.164Z"
   },
   {
    "duration": 13,
    "start_time": "2023-04-26T09:39:42.168Z"
   },
   {
    "duration": 837,
    "start_time": "2023-04-26T09:39:42.182Z"
   },
   {
    "duration": 1283,
    "start_time": "2023-04-26T09:39:43.021Z"
   },
   {
    "duration": 341,
    "start_time": "2023-04-26T09:39:44.305Z"
   },
   {
    "duration": 140212,
    "start_time": "2023-04-26T09:39:44.647Z"
   },
   {
    "duration": 16141,
    "start_time": "2023-04-26T09:50:08.365Z"
   },
   {
    "duration": 19300,
    "start_time": "2023-04-26T09:52:15.778Z"
   },
   {
    "duration": 655,
    "start_time": "2023-04-26T10:32:46.820Z"
   },
   {
    "duration": 7,
    "start_time": "2023-04-26T18:47:17.470Z"
   },
   {
    "duration": 2102,
    "start_time": "2023-04-26T18:48:01.255Z"
   },
   {
    "duration": 4,
    "start_time": "2023-04-26T18:48:03.359Z"
   },
   {
    "duration": 24,
    "start_time": "2023-04-26T18:48:03.365Z"
   },
   {
    "duration": 23,
    "start_time": "2023-04-26T18:48:03.392Z"
   },
   {
    "duration": 826,
    "start_time": "2023-04-26T18:48:03.417Z"
   },
   {
    "duration": 1191,
    "start_time": "2023-04-26T18:48:04.245Z"
   },
   {
    "duration": 104,
    "start_time": "2023-04-26T18:49:15.288Z"
   },
   {
    "duration": 41,
    "start_time": "2023-04-26T18:51:07.855Z"
   },
   {
    "duration": 1805,
    "start_time": "2023-04-26T19:11:48.676Z"
   },
   {
    "duration": 3078,
    "start_time": "2023-04-27T18:58:10.811Z"
   },
   {
    "duration": 1529,
    "start_time": "2023-04-27T18:58:13.892Z"
   },
   {
    "duration": 3,
    "start_time": "2023-04-27T18:58:15.423Z"
   },
   {
    "duration": 25,
    "start_time": "2023-04-27T18:58:15.428Z"
   },
   {
    "duration": 1055,
    "start_time": "2023-04-27T18:58:15.455Z"
   },
   {
    "duration": 995,
    "start_time": "2023-04-27T18:58:16.511Z"
   },
   {
    "duration": 4,
    "start_time": "2023-04-27T18:58:17.507Z"
   },
   {
    "duration": 0,
    "start_time": "2023-04-27T18:58:17.512Z"
   },
   {
    "duration": 0,
    "start_time": "2023-04-27T18:58:17.513Z"
   },
   {
    "duration": 1892,
    "start_time": "2023-04-27T18:58:53.835Z"
   },
   {
    "duration": 3,
    "start_time": "2023-04-27T18:58:55.730Z"
   },
   {
    "duration": 8,
    "start_time": "2023-04-27T18:58:55.735Z"
   },
   {
    "duration": 14,
    "start_time": "2023-04-27T18:58:55.745Z"
   },
   {
    "duration": 754,
    "start_time": "2023-04-27T18:58:55.761Z"
   },
   {
    "duration": 959,
    "start_time": "2023-04-27T18:58:56.517Z"
   },
   {
    "duration": 35,
    "start_time": "2023-04-27T18:58:57.478Z"
   },
   {
    "duration": 1789,
    "start_time": "2023-04-27T18:58:57.515Z"
   },
   {
    "duration": 1553,
    "start_time": "2023-04-27T18:59:46.286Z"
   },
   {
    "duration": 2028,
    "start_time": "2023-04-27T19:01:24.968Z"
   },
   {
    "duration": 1940,
    "start_time": "2023-04-27T19:01:54.218Z"
   },
   {
    "duration": 1823,
    "start_time": "2023-04-27T19:02:05.713Z"
   },
   {
    "duration": 1791,
    "start_time": "2023-04-27T19:02:58.787Z"
   },
   {
    "duration": 1858,
    "start_time": "2023-04-27T19:03:10.284Z"
   },
   {
    "duration": 5,
    "start_time": "2023-04-27T19:11:48.815Z"
   },
   {
    "duration": 10,
    "start_time": "2023-04-27T19:12:39.704Z"
   },
   {
    "duration": 10,
    "start_time": "2023-04-27T19:13:07.841Z"
   },
   {
    "duration": 10,
    "start_time": "2023-04-27T19:13:16.341Z"
   },
   {
    "duration": 10,
    "start_time": "2023-04-27T19:13:26.777Z"
   },
   {
    "duration": 10,
    "start_time": "2023-04-27T19:13:33.805Z"
   },
   {
    "duration": 5,
    "start_time": "2023-04-27T19:15:59.622Z"
   },
   {
    "duration": 10,
    "start_time": "2023-04-27T19:16:15.563Z"
   },
   {
    "duration": 5,
    "start_time": "2023-04-27T19:16:30.415Z"
   },
   {
    "duration": 14,
    "start_time": "2023-04-27T19:21:58.405Z"
   },
   {
    "duration": 10,
    "start_time": "2023-04-27T19:28:47.578Z"
   },
   {
    "duration": 8,
    "start_time": "2023-04-27T19:31:03.585Z"
   },
   {
    "duration": 66,
    "start_time": "2023-04-27T19:41:38.756Z"
   },
   {
    "duration": 70,
    "start_time": "2023-04-27T19:42:07.935Z"
   },
   {
    "duration": 24,
    "start_time": "2023-04-27T19:42:56.412Z"
   },
   {
    "duration": 30,
    "start_time": "2023-04-27T19:43:04.215Z"
   },
   {
    "duration": 1919,
    "start_time": "2023-04-27T19:43:09.614Z"
   },
   {
    "duration": 31,
    "start_time": "2023-04-27T19:43:25.469Z"
   },
   {
    "duration": 34,
    "start_time": "2023-04-27T19:44:03.826Z"
   },
   {
    "duration": 2160,
    "start_time": "2023-04-27T19:58:15.056Z"
   },
   {
    "duration": 25,
    "start_time": "2023-04-27T20:11:15.267Z"
   },
   {
    "duration": 9,
    "start_time": "2023-04-27T20:18:02.320Z"
   },
   {
    "duration": 1342,
    "start_time": "2023-04-27T20:18:17.614Z"
   },
   {
    "duration": 11,
    "start_time": "2023-04-27T20:18:27.836Z"
   },
   {
    "duration": 23,
    "start_time": "2023-04-27T20:25:25.179Z"
   },
   {
    "duration": 23,
    "start_time": "2023-04-27T20:25:46.852Z"
   },
   {
    "duration": 42,
    "start_time": "2023-04-27T20:26:39.727Z"
   },
   {
    "duration": 22,
    "start_time": "2023-04-27T20:26:53.283Z"
   },
   {
    "duration": 19,
    "start_time": "2023-04-27T20:33:29.602Z"
   },
   {
    "duration": 1651,
    "start_time": "2023-04-27T20:33:40.850Z"
   },
   {
    "duration": 3,
    "start_time": "2023-04-27T20:34:06.410Z"
   },
   {
    "duration": 24,
    "start_time": "2023-04-27T20:34:22.730Z"
   },
   {
    "duration": 1825,
    "start_time": "2023-04-27T20:36:48.516Z"
   },
   {
    "duration": 1062,
    "start_time": "2023-04-27T20:36:50.343Z"
   },
   {
    "duration": 2,
    "start_time": "2023-04-27T20:36:51.406Z"
   },
   {
    "duration": 20,
    "start_time": "2023-04-27T20:36:51.410Z"
   },
   {
    "duration": 695,
    "start_time": "2023-04-27T20:36:51.431Z"
   },
   {
    "duration": 961,
    "start_time": "2023-04-27T20:36:52.127Z"
   },
   {
    "duration": 44,
    "start_time": "2023-04-27T20:36:53.090Z"
   },
   {
    "duration": 11,
    "start_time": "2023-04-27T20:36:53.135Z"
   },
   {
    "duration": 51,
    "start_time": "2023-04-27T20:36:53.147Z"
   },
   {
    "duration": 1742,
    "start_time": "2023-04-27T20:36:53.199Z"
   },
   {
    "duration": 12,
    "start_time": "2023-04-27T20:36:54.942Z"
   },
   {
    "duration": 44,
    "start_time": "2023-04-27T20:36:54.955Z"
   },
   {
    "duration": 24,
    "start_time": "2023-04-27T20:36:55.001Z"
   },
   {
    "duration": 7,
    "start_time": "2023-04-27T20:42:25.610Z"
   },
   {
    "duration": 5,
    "start_time": "2023-04-27T20:42:53.270Z"
   },
   {
    "duration": 26,
    "start_time": "2023-04-27T20:43:18.714Z"
   },
   {
    "duration": 4232,
    "start_time": "2023-05-02T06:29:24.737Z"
   },
   {
    "duration": 1668,
    "start_time": "2023-05-02T06:29:28.972Z"
   },
   {
    "duration": 3,
    "start_time": "2023-05-02T06:29:30.643Z"
   },
   {
    "duration": 31,
    "start_time": "2023-05-02T06:29:30.648Z"
   },
   {
    "duration": 3957,
    "start_time": "2023-05-02T06:29:30.681Z"
   },
   {
    "duration": 1676,
    "start_time": "2023-05-02T06:29:34.640Z"
   },
   {
    "duration": 50,
    "start_time": "2023-05-02T06:29:36.318Z"
   },
   {
    "duration": 37,
    "start_time": "2023-05-02T06:29:36.370Z"
   },
   {
    "duration": 72,
    "start_time": "2023-05-02T06:29:36.409Z"
   },
   {
    "duration": 2565,
    "start_time": "2023-05-02T06:29:36.483Z"
   },
   {
    "duration": 14,
    "start_time": "2023-05-02T06:29:39.050Z"
   },
   {
    "duration": 75,
    "start_time": "2023-05-02T06:29:39.066Z"
   },
   {
    "duration": 28,
    "start_time": "2023-05-02T06:29:39.143Z"
   },
   {
    "duration": 46,
    "start_time": "2023-05-02T06:29:39.173Z"
   },
   {
    "duration": 85408,
    "start_time": "2023-05-02T06:34:46.925Z"
   },
   {
    "duration": 2016,
    "start_time": "2023-05-02T06:37:39.818Z"
   },
   {
    "duration": 1032,
    "start_time": "2023-05-02T06:38:34.228Z"
   },
   {
    "duration": 1269,
    "start_time": "2023-05-02T06:50:16.123Z"
   },
   {
    "duration": 2998,
    "start_time": "2023-05-02T06:50:26.738Z"
   },
   {
    "duration": 9,
    "start_time": "2023-05-02T06:50:29.742Z"
   },
   {
    "duration": 25,
    "start_time": "2023-05-02T06:50:29.753Z"
   },
   {
    "duration": 66,
    "start_time": "2023-05-02T06:50:29.781Z"
   },
   {
    "duration": 1190,
    "start_time": "2023-05-02T06:50:29.849Z"
   },
   {
    "duration": 1793,
    "start_time": "2023-05-02T06:50:31.041Z"
   },
   {
    "duration": 77,
    "start_time": "2023-05-02T06:50:32.837Z"
   },
   {
    "duration": 15,
    "start_time": "2023-05-02T06:50:32.921Z"
   },
   {
    "duration": 47,
    "start_time": "2023-05-02T06:50:32.938Z"
   },
   {
    "duration": 2655,
    "start_time": "2023-05-02T06:50:32.988Z"
   },
   {
    "duration": 15,
    "start_time": "2023-05-02T06:50:35.645Z"
   },
   {
    "duration": 107,
    "start_time": "2023-05-02T06:50:35.663Z"
   },
   {
    "duration": 46,
    "start_time": "2023-05-02T06:50:35.772Z"
   },
   {
    "duration": 80,
    "start_time": "2023-05-02T06:50:35.819Z"
   },
   {
    "duration": 994,
    "start_time": "2023-05-02T06:50:35.901Z"
   },
   {
    "duration": 1021,
    "start_time": "2023-05-02T06:54:28.542Z"
   },
   {
    "duration": 1050,
    "start_time": "2023-05-02T07:00:22.022Z"
   },
   {
    "duration": 1174,
    "start_time": "2023-05-02T07:04:01.930Z"
   },
   {
    "duration": 966,
    "start_time": "2023-05-02T07:27:07.312Z"
   },
   {
    "duration": 957,
    "start_time": "2023-05-02T07:36:25.748Z"
   },
   {
    "duration": 998,
    "start_time": "2023-05-02T07:36:55.615Z"
   },
   {
    "duration": 977,
    "start_time": "2023-05-02T07:37:25.829Z"
   },
   {
    "duration": 3000,
    "start_time": "2023-05-02T07:37:49.300Z"
   },
   {
    "duration": 7,
    "start_time": "2023-05-02T07:37:52.305Z"
   },
   {
    "duration": 9,
    "start_time": "2023-05-02T07:37:52.313Z"
   },
   {
    "duration": 17,
    "start_time": "2023-05-02T07:37:52.324Z"
   },
   {
    "duration": 975,
    "start_time": "2023-05-02T07:37:52.343Z"
   },
   {
    "duration": 1553,
    "start_time": "2023-05-02T07:37:53.320Z"
   },
   {
    "duration": 72,
    "start_time": "2023-05-02T07:37:54.877Z"
   },
   {
    "duration": 16,
    "start_time": "2023-05-02T07:37:54.951Z"
   },
   {
    "duration": 61,
    "start_time": "2023-05-02T07:37:54.970Z"
   },
   {
    "duration": 2460,
    "start_time": "2023-05-02T07:37:55.035Z"
   },
   {
    "duration": 14,
    "start_time": "2023-05-02T07:37:57.497Z"
   },
   {
    "duration": 56,
    "start_time": "2023-05-02T07:37:57.518Z"
   },
   {
    "duration": 41,
    "start_time": "2023-05-02T07:37:57.576Z"
   },
   {
    "duration": 56,
    "start_time": "2023-05-02T07:37:57.619Z"
   },
   {
    "duration": 1154,
    "start_time": "2023-05-02T07:37:57.677Z"
   },
   {
    "duration": 2485,
    "start_time": "2023-05-02T07:43:11.114Z"
   },
   {
    "duration": 2634,
    "start_time": "2023-05-02T07:46:15.881Z"
   },
   {
    "duration": 301,
    "start_time": "2023-05-02T07:49:37.801Z"
   },
   {
    "duration": 56,
    "start_time": "2023-05-02T07:51:20.671Z"
   },
   {
    "duration": 40,
    "start_time": "2023-05-02T08:21:48.636Z"
   },
   {
    "duration": 1739,
    "start_time": "2023-05-02T08:24:51.000Z"
   },
   {
    "duration": 17,
    "start_time": "2023-05-02T08:25:41.959Z"
   },
   {
    "duration": 1816,
    "start_time": "2023-05-02T08:25:49.346Z"
   },
   {
    "duration": 2427,
    "start_time": "2023-05-02T09:30:21.349Z"
   },
   {
    "duration": 6,
    "start_time": "2023-05-02T09:30:23.779Z"
   },
   {
    "duration": 61,
    "start_time": "2023-05-02T09:30:23.787Z"
   },
   {
    "duration": 31,
    "start_time": "2023-05-02T09:30:23.850Z"
   },
   {
    "duration": 921,
    "start_time": "2023-05-02T09:30:23.883Z"
   },
   {
    "duration": 1319,
    "start_time": "2023-05-02T09:30:24.805Z"
   },
   {
    "duration": 38,
    "start_time": "2023-05-02T09:30:26.126Z"
   },
   {
    "duration": 28,
    "start_time": "2023-05-02T09:30:26.166Z"
   },
   {
    "duration": 37,
    "start_time": "2023-05-02T09:30:26.201Z"
   },
   {
    "duration": 2275,
    "start_time": "2023-05-02T09:30:26.241Z"
   },
   {
    "duration": 19,
    "start_time": "2023-05-02T09:30:28.518Z"
   },
   {
    "duration": 31,
    "start_time": "2023-05-02T09:30:28.538Z"
   },
   {
    "duration": 33,
    "start_time": "2023-05-02T09:30:28.584Z"
   },
   {
    "duration": 25,
    "start_time": "2023-05-02T09:30:28.618Z"
   },
   {
    "duration": 889,
    "start_time": "2023-05-02T09:30:28.645Z"
   },
   {
    "duration": 2205,
    "start_time": "2023-05-02T09:30:29.536Z"
   },
   {
    "duration": 73,
    "start_time": "2023-05-02T09:30:31.743Z"
   },
   {
    "duration": 2083,
    "start_time": "2023-05-02T09:30:31.818Z"
   },
   {
    "duration": 768,
    "start_time": "2023-05-02T09:31:02.410Z"
   },
   {
    "duration": 1297,
    "start_time": "2023-05-02T09:32:16.851Z"
   },
   {
    "duration": 966,
    "start_time": "2023-05-02T09:32:42.580Z"
   },
   {
    "duration": 316,
    "start_time": "2023-05-02T09:32:54.611Z"
   },
   {
    "duration": 899,
    "start_time": "2023-05-02T09:33:18.413Z"
   },
   {
    "duration": 3718,
    "start_time": "2023-05-02T17:53:11.980Z"
   },
   {
    "duration": 1478,
    "start_time": "2023-05-02T17:53:15.700Z"
   },
   {
    "duration": 3,
    "start_time": "2023-05-02T17:53:17.180Z"
   },
   {
    "duration": 14,
    "start_time": "2023-05-02T17:53:17.186Z"
   },
   {
    "duration": 3482,
    "start_time": "2023-05-02T17:53:17.202Z"
   },
   {
    "duration": 1240,
    "start_time": "2023-05-02T17:53:20.685Z"
   },
   {
    "duration": 59,
    "start_time": "2023-05-02T17:53:21.927Z"
   },
   {
    "duration": 9,
    "start_time": "2023-05-02T17:53:21.989Z"
   },
   {
    "duration": 35,
    "start_time": "2023-05-02T17:53:22.000Z"
   },
   {
    "duration": 2209,
    "start_time": "2023-05-02T17:53:22.052Z"
   },
   {
    "duration": 16,
    "start_time": "2023-05-02T17:53:24.266Z"
   },
   {
    "duration": 31,
    "start_time": "2023-05-02T17:53:24.284Z"
   },
   {
    "duration": 46,
    "start_time": "2023-05-02T17:53:24.317Z"
   },
   {
    "duration": 26,
    "start_time": "2023-05-02T17:53:24.371Z"
   },
   {
    "duration": 956,
    "start_time": "2023-05-02T17:53:24.399Z"
   },
   {
    "duration": 1916,
    "start_time": "2023-05-02T17:53:25.360Z"
   },
   {
    "duration": 35,
    "start_time": "2023-05-02T17:53:27.278Z"
   },
   {
    "duration": 695,
    "start_time": "2023-05-02T17:53:27.314Z"
   },
   {
    "duration": 127,
    "start_time": "2023-05-02T18:02:49.298Z"
   },
   {
    "duration": 505,
    "start_time": "2023-05-02T18:03:13.878Z"
   },
   {
    "duration": 493,
    "start_time": "2023-05-02T18:09:27.430Z"
   },
   {
    "duration": 530,
    "start_time": "2023-05-02T18:44:31.871Z"
   },
   {
    "duration": 290,
    "start_time": "2023-05-02T18:44:42.036Z"
   },
   {
    "duration": 525,
    "start_time": "2023-05-02T18:44:56.687Z"
   },
   {
    "duration": 784,
    "start_time": "2023-05-02T18:49:47.904Z"
   },
   {
    "duration": 831,
    "start_time": "2023-05-02T18:50:42.993Z"
   },
   {
    "duration": 903,
    "start_time": "2023-05-02T18:50:56.302Z"
   },
   {
    "duration": 556,
    "start_time": "2023-05-02T19:01:27.731Z"
   },
   {
    "duration": 3179,
    "start_time": "2023-05-04T03:18:32.035Z"
   },
   {
    "duration": 1397,
    "start_time": "2023-05-04T03:18:35.217Z"
   },
   {
    "duration": 4,
    "start_time": "2023-05-04T03:18:36.616Z"
   },
   {
    "duration": 24,
    "start_time": "2023-05-04T03:18:36.623Z"
   },
   {
    "duration": 1246,
    "start_time": "2023-05-04T03:18:36.649Z"
   },
   {
    "duration": 1219,
    "start_time": "2023-05-04T03:18:37.897Z"
   },
   {
    "duration": 45,
    "start_time": "2023-05-04T03:18:39.118Z"
   },
   {
    "duration": 28,
    "start_time": "2023-05-04T03:18:39.165Z"
   },
   {
    "duration": 51,
    "start_time": "2023-05-04T03:18:39.197Z"
   },
   {
    "duration": 2068,
    "start_time": "2023-05-04T03:18:39.250Z"
   },
   {
    "duration": 12,
    "start_time": "2023-05-04T03:18:41.320Z"
   },
   {
    "duration": 31,
    "start_time": "2023-05-04T03:18:41.334Z"
   },
   {
    "duration": 48,
    "start_time": "2023-05-04T03:18:41.367Z"
   },
   {
    "duration": 27,
    "start_time": "2023-05-04T03:18:41.417Z"
   },
   {
    "duration": 840,
    "start_time": "2023-05-04T03:18:41.445Z"
   },
   {
    "duration": 1948,
    "start_time": "2023-05-04T03:18:42.293Z"
   },
   {
    "duration": 36,
    "start_time": "2023-05-04T03:18:44.243Z"
   },
   {
    "duration": 470,
    "start_time": "2023-05-04T03:18:44.292Z"
   },
   {
    "duration": 158,
    "start_time": "2023-05-04T03:47:16.559Z"
   },
   {
    "duration": 17,
    "start_time": "2023-05-04T04:24:06.370Z"
   },
   {
    "duration": 22,
    "start_time": "2023-05-04T04:24:16.982Z"
   },
   {
    "duration": 123,
    "start_time": "2023-05-04T04:24:43.616Z"
   },
   {
    "duration": 200,
    "start_time": "2023-05-04T04:28:28.039Z"
   },
   {
    "duration": 399,
    "start_time": "2023-05-04T04:33:11.650Z"
   },
   {
    "duration": 32,
    "start_time": "2023-05-04T04:57:18.059Z"
   },
   {
    "duration": 66,
    "start_time": "2023-05-04T05:13:43.401Z"
   },
   {
    "duration": 14,
    "start_time": "2023-05-04T05:14:06.176Z"
   },
   {
    "duration": 13,
    "start_time": "2023-05-04T05:14:14.100Z"
   },
   {
    "duration": 14,
    "start_time": "2023-05-04T05:16:41.349Z"
   },
   {
    "duration": 14,
    "start_time": "2023-05-04T05:29:38.225Z"
   },
   {
    "duration": 2993,
    "start_time": "2023-05-04T15:55:50.919Z"
   },
   {
    "duration": 1409,
    "start_time": "2023-05-04T15:55:53.914Z"
   },
   {
    "duration": 3,
    "start_time": "2023-05-04T15:55:55.324Z"
   },
   {
    "duration": 20,
    "start_time": "2023-05-04T15:55:55.329Z"
   },
   {
    "duration": 2859,
    "start_time": "2023-05-04T15:55:55.351Z"
   },
   {
    "duration": 1142,
    "start_time": "2023-05-04T15:55:58.212Z"
   },
   {
    "duration": 45,
    "start_time": "2023-05-04T15:55:59.356Z"
   },
   {
    "duration": 23,
    "start_time": "2023-05-04T15:55:59.402Z"
   },
   {
    "duration": 57,
    "start_time": "2023-05-04T15:55:59.427Z"
   },
   {
    "duration": 1971,
    "start_time": "2023-05-04T15:55:59.486Z"
   },
   {
    "duration": 13,
    "start_time": "2023-05-04T15:56:01.458Z"
   },
   {
    "duration": 75,
    "start_time": "2023-05-04T15:56:01.473Z"
   },
   {
    "duration": 44,
    "start_time": "2023-05-04T15:56:01.550Z"
   },
   {
    "duration": 65,
    "start_time": "2023-05-04T15:56:01.595Z"
   },
   {
    "duration": 912,
    "start_time": "2023-05-04T15:56:01.661Z"
   },
   {
    "duration": 1713,
    "start_time": "2023-05-04T15:56:02.575Z"
   },
   {
    "duration": 62,
    "start_time": "2023-05-04T15:56:04.290Z"
   },
   {
    "duration": 432,
    "start_time": "2023-05-04T15:56:04.353Z"
   },
   {
    "duration": 18,
    "start_time": "2023-05-04T15:56:04.787Z"
   },
   {
    "duration": 29,
    "start_time": "2023-05-04T16:37:26.037Z"
   },
   {
    "duration": 13,
    "start_time": "2023-05-04T16:37:36.813Z"
   },
   {
    "duration": 26,
    "start_time": "2023-05-04T16:39:27.577Z"
   },
   {
    "duration": 16505,
    "start_time": "2023-05-04T16:40:12.800Z"
   },
   {
    "duration": 30,
    "start_time": "2023-05-04T16:55:27.896Z"
   },
   {
    "duration": 20,
    "start_time": "2023-05-04T16:55:44.489Z"
   },
   {
    "duration": 43,
    "start_time": "2023-05-04T17:12:51.741Z"
   },
   {
    "duration": 44,
    "start_time": "2023-05-04T17:12:58.974Z"
   },
   {
    "duration": 2445,
    "start_time": "2023-05-04T17:13:29.896Z"
   },
   {
    "duration": 16,
    "start_time": "2023-05-04T17:15:23.074Z"
   },
   {
    "duration": 18,
    "start_time": "2023-05-04T17:17:10.912Z"
   },
   {
    "duration": 12,
    "start_time": "2023-05-04T17:17:19.898Z"
   },
   {
    "duration": 7,
    "start_time": "2023-05-04T17:17:37.218Z"
   },
   {
    "duration": 9,
    "start_time": "2023-05-04T17:17:46.939Z"
   },
   {
    "duration": 8,
    "start_time": "2023-05-04T17:17:53.748Z"
   },
   {
    "duration": 7,
    "start_time": "2023-05-04T17:18:10.465Z"
   },
   {
    "duration": 7,
    "start_time": "2023-05-04T17:18:14.916Z"
   },
   {
    "duration": 7,
    "start_time": "2023-05-04T17:18:24.563Z"
   },
   {
    "duration": 8,
    "start_time": "2023-05-04T17:18:29.694Z"
   },
   {
    "duration": 7,
    "start_time": "2023-05-04T17:18:34.369Z"
   },
   {
    "duration": 25,
    "start_time": "2023-05-04T17:19:04.504Z"
   },
   {
    "duration": 8,
    "start_time": "2023-05-04T17:19:09.026Z"
   },
   {
    "duration": 2453,
    "start_time": "2023-05-04T17:19:12.926Z"
   },
   {
    "duration": 6,
    "start_time": "2023-05-04T17:19:15.382Z"
   },
   {
    "duration": 18,
    "start_time": "2023-05-04T17:19:15.390Z"
   },
   {
    "duration": 26,
    "start_time": "2023-05-04T17:19:15.411Z"
   },
   {
    "duration": 846,
    "start_time": "2023-05-04T17:19:15.439Z"
   },
   {
    "duration": 1095,
    "start_time": "2023-05-04T17:19:16.287Z"
   },
   {
    "duration": 51,
    "start_time": "2023-05-04T17:19:17.384Z"
   },
   {
    "duration": 22,
    "start_time": "2023-05-04T17:19:17.437Z"
   },
   {
    "duration": 36,
    "start_time": "2023-05-04T17:19:17.461Z"
   },
   {
    "duration": 2070,
    "start_time": "2023-05-04T17:19:17.501Z"
   },
   {
    "duration": 13,
    "start_time": "2023-05-04T17:19:19.572Z"
   },
   {
    "duration": 31,
    "start_time": "2023-05-04T17:19:19.586Z"
   },
   {
    "duration": 55,
    "start_time": "2023-05-04T17:19:19.618Z"
   },
   {
    "duration": 26,
    "start_time": "2023-05-04T17:19:19.674Z"
   },
   {
    "duration": 1038,
    "start_time": "2023-05-04T17:19:19.702Z"
   },
   {
    "duration": 1893,
    "start_time": "2023-05-04T17:19:20.741Z"
   },
   {
    "duration": 52,
    "start_time": "2023-05-04T17:19:22.637Z"
   },
   {
    "duration": 546,
    "start_time": "2023-05-04T17:19:22.691Z"
   },
   {
    "duration": 16,
    "start_time": "2023-05-04T17:19:23.239Z"
   },
   {
    "duration": 43,
    "start_time": "2023-05-04T17:19:23.256Z"
   },
   {
    "duration": 16,
    "start_time": "2023-05-04T17:19:23.300Z"
   },
   {
    "duration": 6,
    "start_time": "2023-05-04T17:19:23.317Z"
   },
   {
    "duration": 50,
    "start_time": "2023-05-04T17:19:23.324Z"
   },
   {
    "duration": 3708,
    "start_time": "2023-05-04T17:19:23.376Z"
   },
   {
    "duration": 7,
    "start_time": "2023-05-04T17:20:00.409Z"
   },
   {
    "duration": 9,
    "start_time": "2023-05-04T17:20:05.929Z"
   },
   {
    "duration": 6,
    "start_time": "2023-05-04T17:25:32.938Z"
   },
   {
    "duration": 2085,
    "start_time": "2023-05-04T17:27:25.129Z"
   },
   {
    "duration": 4,
    "start_time": "2023-05-04T17:27:27.217Z"
   },
   {
    "duration": 6,
    "start_time": "2023-05-04T17:27:27.222Z"
   },
   {
    "duration": 15,
    "start_time": "2023-05-04T17:27:27.230Z"
   },
   {
    "duration": 728,
    "start_time": "2023-05-04T17:27:27.247Z"
   },
   {
    "duration": 1061,
    "start_time": "2023-05-04T17:27:27.976Z"
   },
   {
    "duration": 45,
    "start_time": "2023-05-04T17:27:29.039Z"
   },
   {
    "duration": 9,
    "start_time": "2023-05-04T17:27:29.086Z"
   },
   {
    "duration": 54,
    "start_time": "2023-05-04T17:27:29.097Z"
   },
   {
    "duration": 2057,
    "start_time": "2023-05-04T17:27:29.154Z"
   },
   {
    "duration": 14,
    "start_time": "2023-05-04T17:27:31.213Z"
   },
   {
    "duration": 50,
    "start_time": "2023-05-04T17:27:31.229Z"
   },
   {
    "duration": 31,
    "start_time": "2023-05-04T17:27:31.281Z"
   },
   {
    "duration": 40,
    "start_time": "2023-05-04T17:27:31.314Z"
   },
   {
    "duration": 828,
    "start_time": "2023-05-04T17:27:31.356Z"
   },
   {
    "duration": 1815,
    "start_time": "2023-05-04T17:27:32.186Z"
   },
   {
    "duration": 50,
    "start_time": "2023-05-04T17:27:34.002Z"
   },
   {
    "duration": 425,
    "start_time": "2023-05-04T17:27:34.053Z"
   },
   {
    "duration": 14,
    "start_time": "2023-05-04T17:27:34.480Z"
   },
   {
    "duration": 37,
    "start_time": "2023-05-04T17:27:34.495Z"
   },
   {
    "duration": 24,
    "start_time": "2023-05-04T17:27:34.534Z"
   },
   {
    "duration": 5,
    "start_time": "2023-05-04T17:27:34.560Z"
   },
   {
    "duration": 22,
    "start_time": "2023-05-04T17:27:34.567Z"
   },
   {
    "duration": 1595,
    "start_time": "2023-05-04T17:27:34.591Z"
   },
   {
    "duration": 1598,
    "start_time": "2023-05-04T17:32:40.324Z"
   },
   {
    "duration": 1677,
    "start_time": "2023-05-04T17:32:56.604Z"
   },
   {
    "duration": 13,
    "start_time": "2023-05-04T18:03:35.225Z"
   },
   {
    "duration": 47,
    "start_time": "2023-05-04T18:43:58.301Z"
   },
   {
    "duration": 12,
    "start_time": "2023-05-04T18:44:09.662Z"
   },
   {
    "duration": 16,
    "start_time": "2023-05-04T18:44:29.395Z"
   },
   {
    "duration": 73,
    "start_time": "2023-05-04T18:45:11.392Z"
   },
   {
    "duration": 7,
    "start_time": "2023-05-04T18:55:18.453Z"
   },
   {
    "duration": 75,
    "start_time": "2023-05-04T19:00:01.255Z"
   },
   {
    "duration": 44,
    "start_time": "2023-05-04T19:00:44.988Z"
   },
   {
    "duration": 16735,
    "start_time": "2023-05-04T19:05:50.587Z"
   },
   {
    "duration": 2768,
    "start_time": "2023-05-04T19:08:39.498Z"
   },
   {
    "duration": 30,
    "start_time": "2023-05-04T19:11:18.079Z"
   },
   {
    "duration": 2405,
    "start_time": "2023-05-04T19:11:59.245Z"
   },
   {
    "duration": 23,
    "start_time": "2023-05-04T19:12:16.890Z"
   },
   {
    "duration": 33,
    "start_time": "2023-05-04T19:13:27.138Z"
   },
   {
    "duration": 13,
    "start_time": "2023-05-04T19:16:56.945Z"
   },
   {
    "duration": 3260,
    "start_time": "2023-05-05T16:53:45.869Z"
   },
   {
    "duration": 1393,
    "start_time": "2023-05-05T16:53:49.131Z"
   },
   {
    "duration": 3,
    "start_time": "2023-05-05T16:53:50.526Z"
   },
   {
    "duration": 30,
    "start_time": "2023-05-05T16:53:50.532Z"
   },
   {
    "duration": 3194,
    "start_time": "2023-05-05T16:53:50.563Z"
   },
   {
    "duration": 1287,
    "start_time": "2023-05-05T16:53:53.759Z"
   },
   {
    "duration": 56,
    "start_time": "2023-05-05T16:53:55.048Z"
   },
   {
    "duration": 14,
    "start_time": "2023-05-05T16:53:55.106Z"
   },
   {
    "duration": 61,
    "start_time": "2023-05-05T16:53:55.122Z"
   },
   {
    "duration": 2000,
    "start_time": "2023-05-05T16:53:55.187Z"
   },
   {
    "duration": 13,
    "start_time": "2023-05-05T16:53:57.189Z"
   },
   {
    "duration": 57,
    "start_time": "2023-05-05T16:53:57.203Z"
   },
   {
    "duration": 28,
    "start_time": "2023-05-05T16:53:57.262Z"
   },
   {
    "duration": 25,
    "start_time": "2023-05-05T16:53:57.292Z"
   },
   {
    "duration": 866,
    "start_time": "2023-05-05T16:53:57.319Z"
   },
   {
    "duration": 1976,
    "start_time": "2023-05-05T16:53:58.187Z"
   },
   {
    "duration": 65,
    "start_time": "2023-05-05T16:54:00.165Z"
   },
   {
    "duration": 473,
    "start_time": "2023-05-05T16:54:00.232Z"
   },
   {
    "duration": 17,
    "start_time": "2023-05-05T16:54:00.707Z"
   },
   {
    "duration": 57,
    "start_time": "2023-05-05T16:54:00.726Z"
   },
   {
    "duration": 25,
    "start_time": "2023-05-05T16:54:00.785Z"
   },
   {
    "duration": 39,
    "start_time": "2023-05-05T16:54:00.812Z"
   },
   {
    "duration": 15,
    "start_time": "2023-05-05T16:54:00.854Z"
   },
   {
    "duration": 84,
    "start_time": "2023-05-05T16:54:00.872Z"
   },
   {
    "duration": 1637,
    "start_time": "2023-05-05T16:54:00.958Z"
   },
   {
    "duration": 14,
    "start_time": "2023-05-05T16:54:02.596Z"
   },
   {
    "duration": 62,
    "start_time": "2023-05-05T16:54:02.612Z"
   },
   {
    "duration": 14,
    "start_time": "2023-05-05T16:54:02.678Z"
   },
   {
    "duration": 19164,
    "start_time": "2023-05-05T16:54:02.694Z"
   },
   {
    "duration": 8,
    "start_time": "2023-05-05T16:54:21.860Z"
   },
   {
    "duration": 53,
    "start_time": "2023-05-05T16:54:21.883Z"
   },
   {
    "duration": 3181,
    "start_time": "2023-05-05T16:54:21.937Z"
   },
   {
    "duration": 21,
    "start_time": "2023-05-05T16:54:25.120Z"
   },
   {
    "duration": 47,
    "start_time": "2023-05-05T17:46:06.321Z"
   },
   {
    "duration": 14,
    "start_time": "2023-05-05T18:34:26.576Z"
   },
   {
    "duration": 17217,
    "start_time": "2023-05-05T18:35:05.771Z"
   },
   {
    "duration": 2729,
    "start_time": "2023-05-05T18:36:03.904Z"
   },
   {
    "duration": 361,
    "start_time": "2023-05-05T18:52:15.349Z"
   },
   {
    "duration": 3656,
    "start_time": "2023-05-05T18:55:40.833Z"
   },
   {
    "duration": 96,
    "start_time": "2023-05-05T18:57:56.890Z"
   },
   {
    "duration": 12340,
    "start_time": "2023-05-05T18:58:04.292Z"
   },
   {
    "duration": 12516,
    "start_time": "2023-05-05T18:58:31.895Z"
   },
   {
    "duration": 1320,
    "start_time": "2023-05-05T18:59:48.503Z"
   },
   {
    "duration": 62621,
    "start_time": "2023-05-05T19:00:54.925Z"
   },
   {
    "duration": 14966,
    "start_time": "2023-05-05T19:04:31.601Z"
   },
   {
    "duration": 11,
    "start_time": "2023-05-05T19:07:14.801Z"
   },
   {
    "duration": 63,
    "start_time": "2023-05-06T18:01:19.547Z"
   },
   {
    "duration": 3744,
    "start_time": "2023-05-06T18:02:52.122Z"
   },
   {
    "duration": 1456,
    "start_time": "2023-05-06T18:02:55.868Z"
   },
   {
    "duration": 3,
    "start_time": "2023-05-06T18:02:57.325Z"
   },
   {
    "duration": 29,
    "start_time": "2023-05-06T18:02:57.330Z"
   },
   {
    "duration": 3331,
    "start_time": "2023-05-06T18:02:57.360Z"
   },
   {
    "duration": 1263,
    "start_time": "2023-05-06T18:03:00.693Z"
   },
   {
    "duration": 48,
    "start_time": "2023-05-06T18:03:01.957Z"
   },
   {
    "duration": 84,
    "start_time": "2023-05-06T18:03:02.006Z"
   },
   {
    "duration": 99,
    "start_time": "2023-05-06T18:03:02.091Z"
   },
   {
    "duration": 2284,
    "start_time": "2023-05-06T18:03:02.192Z"
   },
   {
    "duration": 15,
    "start_time": "2023-05-06T18:03:04.478Z"
   },
   {
    "duration": 62,
    "start_time": "2023-05-06T18:03:04.495Z"
   },
   {
    "duration": 36,
    "start_time": "2023-05-06T18:03:04.559Z"
   },
   {
    "duration": 34,
    "start_time": "2023-05-06T18:03:04.597Z"
   },
   {
    "duration": 958,
    "start_time": "2023-05-06T18:03:04.633Z"
   },
   {
    "duration": 2006,
    "start_time": "2023-05-06T18:03:05.592Z"
   },
   {
    "duration": 68,
    "start_time": "2023-05-06T18:03:07.600Z"
   },
   {
    "duration": 502,
    "start_time": "2023-05-06T18:03:07.670Z"
   },
   {
    "duration": 20,
    "start_time": "2023-05-06T18:03:08.177Z"
   },
   {
    "duration": 42,
    "start_time": "2023-05-06T18:03:08.199Z"
   },
   {
    "duration": 19,
    "start_time": "2023-05-06T18:03:08.242Z"
   },
   {
    "duration": 39,
    "start_time": "2023-05-06T18:03:08.263Z"
   },
   {
    "duration": 5,
    "start_time": "2023-05-06T18:03:08.304Z"
   },
   {
    "duration": 25,
    "start_time": "2023-05-06T18:03:08.310Z"
   },
   {
    "duration": 1773,
    "start_time": "2023-05-06T18:03:08.336Z"
   },
   {
    "duration": 12,
    "start_time": "2023-05-06T18:03:10.111Z"
   },
   {
    "duration": 56,
    "start_time": "2023-05-06T18:03:10.125Z"
   },
   {
    "duration": 11,
    "start_time": "2023-05-06T18:03:10.187Z"
   },
   {
    "duration": 20243,
    "start_time": "2023-05-06T18:03:10.200Z"
   },
   {
    "duration": 12,
    "start_time": "2023-05-06T18:03:30.444Z"
   },
   {
    "duration": 90,
    "start_time": "2023-05-06T18:03:30.457Z"
   },
   {
    "duration": 3236,
    "start_time": "2023-05-06T18:03:30.552Z"
   },
   {
    "duration": 12,
    "start_time": "2023-05-06T18:03:33.790Z"
   },
   {
    "duration": 65,
    "start_time": "2023-05-06T18:03:33.804Z"
   },
   {
    "duration": 435,
    "start_time": "2023-05-06T18:03:33.871Z"
   },
   {
    "duration": 4277,
    "start_time": "2023-05-06T18:03:34.308Z"
   },
   {
    "duration": 14697,
    "start_time": "2023-05-06T18:03:38.588Z"
   },
   {
    "duration": 1281,
    "start_time": "2023-05-06T18:03:53.287Z"
   },
   {
    "duration": 62015,
    "start_time": "2023-05-06T18:03:54.572Z"
   },
   {
    "duration": 14604,
    "start_time": "2023-05-06T18:04:56.589Z"
   },
   {
    "duration": 202188,
    "start_time": "2023-05-06T18:05:11.194Z"
   },
   {
    "duration": 2263,
    "start_time": "2023-05-06T18:16:50.882Z"
   },
   {
    "duration": 5,
    "start_time": "2023-05-06T18:16:53.148Z"
   },
   {
    "duration": 31,
    "start_time": "2023-05-06T18:16:53.155Z"
   },
   {
    "duration": 17,
    "start_time": "2023-05-06T18:16:53.188Z"
   },
   {
    "duration": 826,
    "start_time": "2023-05-06T18:16:53.207Z"
   },
   {
    "duration": 1212,
    "start_time": "2023-05-06T18:16:54.035Z"
   },
   {
    "duration": 46,
    "start_time": "2023-05-06T18:16:55.249Z"
   },
   {
    "duration": 10,
    "start_time": "2023-05-06T18:16:55.297Z"
   },
   {
    "duration": 63,
    "start_time": "2023-05-06T18:16:55.308Z"
   },
   {
    "duration": 2133,
    "start_time": "2023-05-06T18:16:55.377Z"
   },
   {
    "duration": 14,
    "start_time": "2023-05-06T18:16:57.512Z"
   },
   {
    "duration": 50,
    "start_time": "2023-05-06T18:16:57.528Z"
   },
   {
    "duration": 45,
    "start_time": "2023-05-06T18:16:57.580Z"
   },
   {
    "duration": 40,
    "start_time": "2023-05-06T18:16:57.627Z"
   },
   {
    "duration": 849,
    "start_time": "2023-05-06T18:16:57.669Z"
   },
   {
    "duration": 1911,
    "start_time": "2023-05-06T18:16:58.520Z"
   },
   {
    "duration": 61,
    "start_time": "2023-05-06T18:17:00.433Z"
   },
   {
    "duration": 524,
    "start_time": "2023-05-06T18:17:00.495Z"
   },
   {
    "duration": 15,
    "start_time": "2023-05-06T18:17:01.020Z"
   },
   {
    "duration": 51,
    "start_time": "2023-05-06T18:17:01.051Z"
   },
   {
    "duration": 14,
    "start_time": "2023-05-06T18:17:01.104Z"
   },
   {
    "duration": 58,
    "start_time": "2023-05-06T18:17:01.120Z"
   },
   {
    "duration": 16,
    "start_time": "2023-05-06T18:17:01.180Z"
   },
   {
    "duration": 90,
    "start_time": "2023-05-06T18:17:01.198Z"
   },
   {
    "duration": 1685,
    "start_time": "2023-05-06T18:17:01.290Z"
   },
   {
    "duration": 13,
    "start_time": "2023-05-06T18:17:02.978Z"
   },
   {
    "duration": 51,
    "start_time": "2023-05-06T18:17:02.992Z"
   },
   {
    "duration": 30,
    "start_time": "2023-05-06T18:17:03.046Z"
   },
   {
    "duration": 19242,
    "start_time": "2023-05-06T18:17:03.078Z"
   },
   {
    "duration": 7,
    "start_time": "2023-05-06T18:17:22.322Z"
   },
   {
    "duration": 72,
    "start_time": "2023-05-06T18:17:22.331Z"
   },
   {
    "duration": 3124,
    "start_time": "2023-05-06T18:17:22.405Z"
   },
   {
    "duration": 11,
    "start_time": "2023-05-06T18:17:25.531Z"
   },
   {
    "duration": 59,
    "start_time": "2023-05-06T18:17:25.556Z"
   },
   {
    "duration": 373,
    "start_time": "2023-05-06T18:17:25.616Z"
   },
   {
    "duration": 14727,
    "start_time": "2023-05-06T18:17:25.990Z"
   },
   {
    "duration": 14797,
    "start_time": "2023-05-06T18:22:19.921Z"
   },
   {
    "duration": 2475,
    "start_time": "2023-05-06T18:22:59.350Z"
   },
   {
    "duration": 4,
    "start_time": "2023-05-06T18:23:01.827Z"
   },
   {
    "duration": 49,
    "start_time": "2023-05-06T18:23:01.833Z"
   },
   {
    "duration": 46,
    "start_time": "2023-05-06T18:23:01.884Z"
   },
   {
    "duration": 851,
    "start_time": "2023-05-06T18:23:01.932Z"
   },
   {
    "duration": 1172,
    "start_time": "2023-05-06T18:23:02.785Z"
   },
   {
    "duration": 39,
    "start_time": "2023-05-06T18:23:03.959Z"
   },
   {
    "duration": 10,
    "start_time": "2023-05-06T18:23:04.000Z"
   },
   {
    "duration": 55,
    "start_time": "2023-05-06T18:23:04.012Z"
   },
   {
    "duration": 2276,
    "start_time": "2023-05-06T18:23:04.071Z"
   },
   {
    "duration": 14,
    "start_time": "2023-05-06T18:23:06.356Z"
   },
   {
    "duration": 44,
    "start_time": "2023-05-06T18:23:06.372Z"
   },
   {
    "duration": 30,
    "start_time": "2023-05-06T18:23:06.417Z"
   },
   {
    "duration": 48,
    "start_time": "2023-05-06T18:23:06.448Z"
   },
   {
    "duration": 857,
    "start_time": "2023-05-06T18:23:06.498Z"
   },
   {
    "duration": 1827,
    "start_time": "2023-05-06T18:23:07.356Z"
   },
   {
    "duration": 46,
    "start_time": "2023-05-06T18:23:09.185Z"
   },
   {
    "duration": 495,
    "start_time": "2023-05-06T18:23:09.233Z"
   },
   {
    "duration": 21,
    "start_time": "2023-05-06T18:23:09.730Z"
   },
   {
    "duration": 75,
    "start_time": "2023-05-06T18:23:09.753Z"
   },
   {
    "duration": 15,
    "start_time": "2023-05-06T18:23:09.829Z"
   },
   {
    "duration": 47,
    "start_time": "2023-05-06T18:23:09.845Z"
   },
   {
    "duration": 8,
    "start_time": "2023-05-06T18:23:09.893Z"
   },
   {
    "duration": 36,
    "start_time": "2023-05-06T18:23:09.902Z"
   },
   {
    "duration": 1717,
    "start_time": "2023-05-06T18:23:09.939Z"
   },
   {
    "duration": 21,
    "start_time": "2023-05-06T18:23:11.660Z"
   },
   {
    "duration": 53,
    "start_time": "2023-05-06T18:23:11.683Z"
   },
   {
    "duration": 14,
    "start_time": "2023-05-06T18:23:11.739Z"
   },
   {
    "duration": 19140,
    "start_time": "2023-05-06T18:23:11.754Z"
   },
   {
    "duration": 8,
    "start_time": "2023-05-06T18:23:30.896Z"
   },
   {
    "duration": 81,
    "start_time": "2023-05-06T18:23:30.905Z"
   },
   {
    "duration": 2956,
    "start_time": "2023-05-06T18:23:30.988Z"
   },
   {
    "duration": 30,
    "start_time": "2023-05-06T18:23:33.946Z"
   },
   {
    "duration": 48,
    "start_time": "2023-05-06T18:23:33.977Z"
   },
   {
    "duration": 367,
    "start_time": "2023-05-06T18:23:34.027Z"
   },
   {
    "duration": 14715,
    "start_time": "2023-05-06T18:23:34.396Z"
   },
   {
    "duration": 1482,
    "start_time": "2023-05-06T18:25:55.138Z"
   },
   {
    "duration": 23,
    "start_time": "2023-05-06T18:26:02.301Z"
   },
   {
    "duration": 8,
    "start_time": "2023-05-06T18:28:55.429Z"
   },
   {
    "duration": 2201,
    "start_time": "2023-05-06T18:29:02.709Z"
   },
   {
    "duration": 5,
    "start_time": "2023-05-06T18:29:04.912Z"
   },
   {
    "duration": 14,
    "start_time": "2023-05-06T18:29:04.919Z"
   },
   {
    "duration": 19,
    "start_time": "2023-05-06T18:29:04.936Z"
   },
   {
    "duration": 756,
    "start_time": "2023-05-06T18:29:04.957Z"
   },
   {
    "duration": 1093,
    "start_time": "2023-05-06T18:29:05.714Z"
   },
   {
    "duration": 47,
    "start_time": "2023-05-06T18:29:06.809Z"
   },
   {
    "duration": 11,
    "start_time": "2023-05-06T18:29:06.859Z"
   },
   {
    "duration": 43,
    "start_time": "2023-05-06T18:29:06.872Z"
   },
   {
    "duration": 2097,
    "start_time": "2023-05-06T18:29:06.919Z"
   },
   {
    "duration": 13,
    "start_time": "2023-05-06T18:29:09.018Z"
   },
   {
    "duration": 49,
    "start_time": "2023-05-06T18:29:09.033Z"
   },
   {
    "duration": 31,
    "start_time": "2023-05-06T18:29:09.084Z"
   },
   {
    "duration": 48,
    "start_time": "2023-05-06T18:29:09.118Z"
   },
   {
    "duration": 886,
    "start_time": "2023-05-06T18:29:09.168Z"
   },
   {
    "duration": 1918,
    "start_time": "2023-05-06T18:29:10.056Z"
   },
   {
    "duration": 48,
    "start_time": "2023-05-06T18:29:11.976Z"
   },
   {
    "duration": 549,
    "start_time": "2023-05-06T18:29:12.025Z"
   },
   {
    "duration": 12,
    "start_time": "2023-05-06T18:29:12.576Z"
   },
   {
    "duration": 31,
    "start_time": "2023-05-06T18:29:12.590Z"
   },
   {
    "duration": 27,
    "start_time": "2023-05-06T18:29:12.623Z"
   },
   {
    "duration": 17,
    "start_time": "2023-05-06T18:29:12.652Z"
   },
   {
    "duration": 6,
    "start_time": "2023-05-06T18:29:12.671Z"
   },
   {
    "duration": 22,
    "start_time": "2023-05-06T18:29:12.679Z"
   },
   {
    "duration": 1547,
    "start_time": "2023-05-06T18:29:12.703Z"
   },
   {
    "duration": 14,
    "start_time": "2023-05-06T18:29:14.252Z"
   },
   {
    "duration": 32,
    "start_time": "2023-05-06T18:29:14.268Z"
   },
   {
    "duration": 12,
    "start_time": "2023-05-06T18:29:14.302Z"
   },
   {
    "duration": 17593,
    "start_time": "2023-05-06T18:29:14.316Z"
   },
   {
    "duration": 6,
    "start_time": "2023-05-06T18:29:31.912Z"
   },
   {
    "duration": 78,
    "start_time": "2023-05-06T18:29:31.922Z"
   },
   {
    "duration": 2774,
    "start_time": "2023-05-06T18:29:32.001Z"
   },
   {
    "duration": 12,
    "start_time": "2023-05-06T18:29:34.777Z"
   },
   {
    "duration": 60,
    "start_time": "2023-05-06T18:29:34.791Z"
   },
   {
    "duration": 61,
    "start_time": "2023-05-06T18:29:34.854Z"
   },
   {
    "duration": 0,
    "start_time": "2023-05-06T18:29:34.917Z"
   },
   {
    "duration": 0,
    "start_time": "2023-05-06T18:29:34.918Z"
   },
   {
    "duration": 13,
    "start_time": "2023-05-06T18:54:19.350Z"
   },
   {
    "duration": 52,
    "start_time": "2023-05-06T18:55:00.669Z"
   },
   {
    "duration": 53,
    "start_time": "2023-05-06T18:56:16.513Z"
   },
   {
    "duration": 36,
    "start_time": "2023-05-06T18:56:42.881Z"
   },
   {
    "duration": 31,
    "start_time": "2023-05-06T18:57:07.370Z"
   },
   {
    "duration": 31,
    "start_time": "2023-05-06T18:57:33.314Z"
   },
   {
    "duration": 39,
    "start_time": "2023-05-06T18:57:38.491Z"
   },
   {
    "duration": 44,
    "start_time": "2023-05-06T18:57:52.677Z"
   },
   {
    "duration": 49,
    "start_time": "2023-05-06T18:58:22.994Z"
   },
   {
    "duration": 49,
    "start_time": "2023-05-06T18:59:39.119Z"
   },
   {
    "duration": 50,
    "start_time": "2023-05-06T18:59:59.335Z"
   },
   {
    "duration": 42,
    "start_time": "2023-05-06T19:00:06.275Z"
   },
   {
    "duration": 15241,
    "start_time": "2023-05-06T19:00:22.077Z"
   },
   {
    "duration": 38,
    "start_time": "2023-05-06T19:00:37.320Z"
   },
   {
    "duration": 328,
    "start_time": "2023-05-06T19:02:49.448Z"
   },
   {
    "duration": 203,
    "start_time": "2023-05-06T19:03:44.702Z"
   },
   {
    "duration": 306,
    "start_time": "2023-05-06T19:03:56.134Z"
   },
   {
    "duration": 326,
    "start_time": "2023-05-06T19:04:15.781Z"
   },
   {
    "duration": 31,
    "start_time": "2023-05-06T19:04:43.870Z"
   },
   {
    "duration": 47,
    "start_time": "2023-05-06T19:04:56.693Z"
   },
   {
    "duration": 2554,
    "start_time": "2023-05-06T19:04:59.430Z"
   },
   {
    "duration": 5,
    "start_time": "2023-05-06T19:05:01.986Z"
   },
   {
    "duration": 34,
    "start_time": "2023-05-06T19:05:01.992Z"
   },
   {
    "duration": 114,
    "start_time": "2023-05-06T19:05:02.029Z"
   },
   {
    "duration": 884,
    "start_time": "2023-05-06T19:05:02.144Z"
   },
   {
    "duration": 1362,
    "start_time": "2023-05-06T19:05:03.031Z"
   },
   {
    "duration": 40,
    "start_time": "2023-05-06T19:05:04.394Z"
   },
   {
    "duration": 33,
    "start_time": "2023-05-06T19:05:04.439Z"
   },
   {
    "duration": 68,
    "start_time": "2023-05-06T19:05:04.474Z"
   },
   {
    "duration": 2398,
    "start_time": "2023-05-06T19:05:04.546Z"
   },
   {
    "duration": 29,
    "start_time": "2023-05-06T19:05:06.959Z"
   },
   {
    "duration": 49,
    "start_time": "2023-05-06T19:05:06.990Z"
   },
   {
    "duration": 46,
    "start_time": "2023-05-06T19:05:07.041Z"
   },
   {
    "duration": 89,
    "start_time": "2023-05-06T19:05:07.090Z"
   },
   {
    "duration": 1014,
    "start_time": "2023-05-06T19:05:07.181Z"
   },
   {
    "duration": 2238,
    "start_time": "2023-05-06T19:05:08.197Z"
   },
   {
    "duration": 77,
    "start_time": "2023-05-06T19:05:10.436Z"
   },
   {
    "duration": 552,
    "start_time": "2023-05-06T19:05:10.515Z"
   },
   {
    "duration": 38,
    "start_time": "2023-05-06T19:05:11.070Z"
   },
   {
    "duration": 61,
    "start_time": "2023-05-06T19:05:11.110Z"
   },
   {
    "duration": 41,
    "start_time": "2023-05-06T19:05:11.176Z"
   },
   {
    "duration": 25,
    "start_time": "2023-05-06T19:05:11.219Z"
   },
   {
    "duration": 64,
    "start_time": "2023-05-06T19:05:11.246Z"
   },
   {
    "duration": 56,
    "start_time": "2023-05-06T19:05:11.312Z"
   },
   {
    "duration": 1934,
    "start_time": "2023-05-06T19:05:11.370Z"
   },
   {
    "duration": 13,
    "start_time": "2023-05-06T19:05:13.306Z"
   },
   {
    "duration": 94,
    "start_time": "2023-05-06T19:05:13.321Z"
   },
   {
    "duration": 55,
    "start_time": "2023-05-06T19:05:13.417Z"
   },
   {
    "duration": 22246,
    "start_time": "2023-05-06T19:05:13.480Z"
   },
   {
    "duration": 9,
    "start_time": "2023-05-06T19:05:35.728Z"
   },
   {
    "duration": 83,
    "start_time": "2023-05-06T19:05:35.739Z"
   },
   {
    "duration": 3322,
    "start_time": "2023-05-06T19:05:35.824Z"
   },
   {
    "duration": 31,
    "start_time": "2023-05-06T19:05:39.148Z"
   },
   {
    "duration": 59,
    "start_time": "2023-05-06T19:05:39.188Z"
   },
   {
    "duration": 80,
    "start_time": "2023-05-06T19:05:39.249Z"
   },
   {
    "duration": 0,
    "start_time": "2023-05-06T19:05:39.331Z"
   },
   {
    "duration": 0,
    "start_time": "2023-05-06T19:05:39.332Z"
   },
   {
    "duration": 3209,
    "start_time": "2023-05-07T16:56:32.392Z"
   },
   {
    "duration": 1346,
    "start_time": "2023-05-07T16:56:35.603Z"
   },
   {
    "duration": 3,
    "start_time": "2023-05-07T16:56:36.951Z"
   },
   {
    "duration": 22,
    "start_time": "2023-05-07T16:56:36.956Z"
   },
   {
    "duration": 1215,
    "start_time": "2023-05-07T16:56:36.980Z"
   },
   {
    "duration": 1131,
    "start_time": "2023-05-07T16:56:38.197Z"
   },
   {
    "duration": 41,
    "start_time": "2023-05-07T16:56:39.330Z"
   },
   {
    "duration": 29,
    "start_time": "2023-05-07T16:56:39.373Z"
   },
   {
    "duration": 36,
    "start_time": "2023-05-07T16:56:39.404Z"
   },
   {
    "duration": 2122,
    "start_time": "2023-05-07T16:56:39.442Z"
   },
   {
    "duration": 27,
    "start_time": "2023-05-07T16:56:41.566Z"
   },
   {
    "duration": 34,
    "start_time": "2023-05-07T16:56:41.594Z"
   },
   {
    "duration": 26,
    "start_time": "2023-05-07T16:56:41.630Z"
   },
   {
    "duration": 48,
    "start_time": "2023-05-07T16:56:41.657Z"
   },
   {
    "duration": 888,
    "start_time": "2023-05-07T16:56:41.707Z"
   },
   {
    "duration": 1862,
    "start_time": "2023-05-07T16:56:42.597Z"
   },
   {
    "duration": 55,
    "start_time": "2023-05-07T16:56:44.461Z"
   },
   {
    "duration": 445,
    "start_time": "2023-05-07T16:56:44.518Z"
   },
   {
    "duration": 13,
    "start_time": "2023-05-07T16:56:44.964Z"
   },
   {
    "duration": 39,
    "start_time": "2023-05-07T16:56:44.978Z"
   },
   {
    "duration": 24,
    "start_time": "2023-05-07T16:56:45.019Z"
   },
   {
    "duration": 16,
    "start_time": "2023-05-07T16:56:45.045Z"
   },
   {
    "duration": 6,
    "start_time": "2023-05-07T16:56:45.063Z"
   },
   {
    "duration": 41,
    "start_time": "2023-05-07T16:56:45.070Z"
   },
   {
    "duration": 1563,
    "start_time": "2023-05-07T16:56:45.112Z"
   },
   {
    "duration": 17,
    "start_time": "2023-05-07T16:56:46.676Z"
   },
   {
    "duration": 32,
    "start_time": "2023-05-07T16:56:46.695Z"
   },
   {
    "duration": 12,
    "start_time": "2023-05-07T16:56:46.731Z"
   },
   {
    "duration": 16458,
    "start_time": "2023-05-07T16:56:46.745Z"
   },
   {
    "duration": 6,
    "start_time": "2023-05-07T16:57:03.204Z"
   },
   {
    "duration": 42,
    "start_time": "2023-05-07T16:57:03.212Z"
   },
   {
    "duration": 2702,
    "start_time": "2023-05-07T16:57:03.256Z"
   },
   {
    "duration": 12,
    "start_time": "2023-05-07T16:57:05.960Z"
   },
   {
    "duration": 47,
    "start_time": "2023-05-07T16:57:05.974Z"
   },
   {
    "duration": 149,
    "start_time": "2023-05-07T16:57:06.023Z"
   },
   {
    "duration": 0,
    "start_time": "2023-05-07T16:57:06.174Z"
   },
   {
    "duration": 0,
    "start_time": "2023-05-07T16:57:06.175Z"
   },
   {
    "duration": 25,
    "start_time": "2023-05-07T17:26:25.484Z"
   },
   {
    "duration": 2462,
    "start_time": "2023-05-07T17:26:28.533Z"
   },
   {
    "duration": 6,
    "start_time": "2023-05-07T17:26:30.998Z"
   },
   {
    "duration": 26,
    "start_time": "2023-05-07T17:26:31.006Z"
   },
   {
    "duration": 64,
    "start_time": "2023-05-07T17:26:31.035Z"
   },
   {
    "duration": 884,
    "start_time": "2023-05-07T17:26:31.101Z"
   },
   {
    "duration": 1178,
    "start_time": "2023-05-07T17:26:31.991Z"
   },
   {
    "duration": 51,
    "start_time": "2023-05-07T17:26:33.171Z"
   },
   {
    "duration": 11,
    "start_time": "2023-05-07T17:26:33.224Z"
   },
   {
    "duration": 34,
    "start_time": "2023-05-07T17:26:33.237Z"
   },
   {
    "duration": 2163,
    "start_time": "2023-05-07T17:26:33.291Z"
   },
   {
    "duration": 12,
    "start_time": "2023-05-07T17:26:35.456Z"
   },
   {
    "duration": 71,
    "start_time": "2023-05-07T17:26:35.469Z"
   },
   {
    "duration": 70,
    "start_time": "2023-05-07T17:26:35.542Z"
   },
   {
    "duration": 58,
    "start_time": "2023-05-07T17:26:35.615Z"
   },
   {
    "duration": 946,
    "start_time": "2023-05-07T17:26:35.675Z"
   },
   {
    "duration": 2182,
    "start_time": "2023-05-07T17:26:36.623Z"
   },
   {
    "duration": 45,
    "start_time": "2023-05-07T17:26:38.806Z"
   },
   {
    "duration": 461,
    "start_time": "2023-05-07T17:26:38.852Z"
   },
   {
    "duration": 13,
    "start_time": "2023-05-07T17:26:39.316Z"
   },
   {
    "duration": 62,
    "start_time": "2023-05-07T17:26:39.331Z"
   },
   {
    "duration": 13,
    "start_time": "2023-05-07T17:26:39.394Z"
   },
   {
    "duration": 35,
    "start_time": "2023-05-07T17:26:39.408Z"
   },
   {
    "duration": 6,
    "start_time": "2023-05-07T17:26:39.444Z"
   },
   {
    "duration": 36,
    "start_time": "2023-05-07T17:26:39.451Z"
   },
   {
    "duration": 1644,
    "start_time": "2023-05-07T17:26:39.489Z"
   },
   {
    "duration": 13,
    "start_time": "2023-05-07T17:26:41.135Z"
   },
   {
    "duration": 49,
    "start_time": "2023-05-07T17:26:41.149Z"
   },
   {
    "duration": 12,
    "start_time": "2023-05-07T17:26:41.202Z"
   },
   {
    "duration": 16469,
    "start_time": "2023-05-07T17:26:41.216Z"
   },
   {
    "duration": 6,
    "start_time": "2023-05-07T17:26:57.687Z"
   },
   {
    "duration": 40,
    "start_time": "2023-05-07T17:26:57.694Z"
   },
   {
    "duration": 2626,
    "start_time": "2023-05-07T17:26:57.735Z"
   },
   {
    "duration": 10,
    "start_time": "2023-05-07T17:27:00.363Z"
   },
   {
    "duration": 61,
    "start_time": "2023-05-07T17:27:00.375Z"
   },
   {
    "duration": 53,
    "start_time": "2023-05-07T17:27:00.438Z"
   },
   {
    "duration": 0,
    "start_time": "2023-05-07T17:27:00.493Z"
   },
   {
    "duration": 0,
    "start_time": "2023-05-07T17:27:00.494Z"
   },
   {
    "duration": 2092,
    "start_time": "2023-05-07T17:30:07.826Z"
   },
   {
    "duration": 4,
    "start_time": "2023-05-07T17:30:09.920Z"
   },
   {
    "duration": 47,
    "start_time": "2023-05-07T17:30:09.926Z"
   },
   {
    "duration": 23,
    "start_time": "2023-05-07T17:30:09.976Z"
   },
   {
    "duration": 823,
    "start_time": "2023-05-07T17:30:10.000Z"
   },
   {
    "duration": 1131,
    "start_time": "2023-05-07T17:30:10.825Z"
   },
   {
    "duration": 60,
    "start_time": "2023-05-07T17:30:11.958Z"
   },
   {
    "duration": 12,
    "start_time": "2023-05-07T17:30:12.020Z"
   },
   {
    "duration": 139,
    "start_time": "2023-05-07T17:30:12.034Z"
   },
   {
    "duration": 2292,
    "start_time": "2023-05-07T17:30:12.175Z"
   },
   {
    "duration": 24,
    "start_time": "2023-05-07T17:30:14.469Z"
   },
   {
    "duration": 27,
    "start_time": "2023-05-07T17:30:14.495Z"
   },
   {
    "duration": 30,
    "start_time": "2023-05-07T17:30:14.524Z"
   },
   {
    "duration": 50,
    "start_time": "2023-05-07T17:30:14.557Z"
   },
   {
    "duration": 852,
    "start_time": "2023-05-07T17:30:14.609Z"
   },
   {
    "duration": 1842,
    "start_time": "2023-05-07T17:30:15.462Z"
   },
   {
    "duration": 48,
    "start_time": "2023-05-07T17:30:17.306Z"
   },
   {
    "duration": 529,
    "start_time": "2023-05-07T17:30:17.355Z"
   },
   {
    "duration": 18,
    "start_time": "2023-05-07T17:30:17.891Z"
   },
   {
    "duration": 43,
    "start_time": "2023-05-07T17:30:17.911Z"
   },
   {
    "duration": 13,
    "start_time": "2023-05-07T17:30:17.956Z"
   },
   {
    "duration": 29,
    "start_time": "2023-05-07T17:30:17.971Z"
   },
   {
    "duration": 5,
    "start_time": "2023-05-07T17:30:18.002Z"
   },
   {
    "duration": 27,
    "start_time": "2023-05-07T17:30:18.009Z"
   },
   {
    "duration": 1604,
    "start_time": "2023-05-07T17:30:18.037Z"
   },
   {
    "duration": 11,
    "start_time": "2023-05-07T17:30:19.643Z"
   },
   {
    "duration": 46,
    "start_time": "2023-05-07T17:30:19.656Z"
   },
   {
    "duration": 11,
    "start_time": "2023-05-07T17:30:19.706Z"
   },
   {
    "duration": 16519,
    "start_time": "2023-05-07T17:30:19.719Z"
   },
   {
    "duration": 8,
    "start_time": "2023-05-07T17:30:36.240Z"
   },
   {
    "duration": 57,
    "start_time": "2023-05-07T17:30:36.250Z"
   },
   {
    "duration": 2838,
    "start_time": "2023-05-07T17:30:36.309Z"
   },
   {
    "duration": 13,
    "start_time": "2023-05-07T17:30:39.148Z"
   },
   {
    "duration": 58,
    "start_time": "2023-05-07T17:30:39.163Z"
   },
   {
    "duration": 69,
    "start_time": "2023-05-07T17:30:39.223Z"
   },
   {
    "duration": 0,
    "start_time": "2023-05-07T17:30:39.294Z"
   },
   {
    "duration": 0,
    "start_time": "2023-05-07T17:30:39.296Z"
   },
   {
    "duration": 1983,
    "start_time": "2023-05-07T17:34:34.477Z"
   },
   {
    "duration": 4,
    "start_time": "2023-05-07T17:34:36.462Z"
   },
   {
    "duration": 12,
    "start_time": "2023-05-07T17:34:36.468Z"
   },
   {
    "duration": 123,
    "start_time": "2023-05-07T17:34:36.482Z"
   },
   {
    "duration": 754,
    "start_time": "2023-05-07T17:34:36.607Z"
   },
   {
    "duration": 1219,
    "start_time": "2023-05-07T17:34:37.364Z"
   },
   {
    "duration": 44,
    "start_time": "2023-05-07T17:34:38.585Z"
   },
   {
    "duration": 9,
    "start_time": "2023-05-07T17:34:38.631Z"
   },
   {
    "duration": 50,
    "start_time": "2023-05-07T17:34:38.642Z"
   },
   {
    "duration": 2035,
    "start_time": "2023-05-07T17:34:38.695Z"
   },
   {
    "duration": 13,
    "start_time": "2023-05-07T17:34:40.731Z"
   },
   {
    "duration": 26,
    "start_time": "2023-05-07T17:34:40.745Z"
   },
   {
    "duration": 27,
    "start_time": "2023-05-07T17:34:40.791Z"
   },
   {
    "duration": 27,
    "start_time": "2023-05-07T17:34:40.820Z"
   },
   {
    "duration": 914,
    "start_time": "2023-05-07T17:34:40.850Z"
   },
   {
    "duration": 1814,
    "start_time": "2023-05-07T17:34:41.765Z"
   },
   {
    "duration": 51,
    "start_time": "2023-05-07T17:34:43.581Z"
   },
   {
    "duration": 472,
    "start_time": "2023-05-07T17:34:43.634Z"
   },
   {
    "duration": 12,
    "start_time": "2023-05-07T17:34:44.108Z"
   },
   {
    "duration": 31,
    "start_time": "2023-05-07T17:34:44.122Z"
   },
   {
    "duration": 11,
    "start_time": "2023-05-07T17:34:44.155Z"
   },
   {
    "duration": 36,
    "start_time": "2023-05-07T17:34:44.168Z"
   },
   {
    "duration": 6,
    "start_time": "2023-05-07T17:34:44.207Z"
   },
   {
    "duration": 28,
    "start_time": "2023-05-07T17:34:44.215Z"
   },
   {
    "duration": 1696,
    "start_time": "2023-05-07T17:34:44.245Z"
   },
   {
    "duration": 13,
    "start_time": "2023-05-07T17:34:45.943Z"
   },
   {
    "duration": 46,
    "start_time": "2023-05-07T17:34:45.958Z"
   },
   {
    "duration": 13,
    "start_time": "2023-05-07T17:34:46.008Z"
   },
   {
    "duration": 16754,
    "start_time": "2023-05-07T17:34:46.023Z"
   },
   {
    "duration": 15,
    "start_time": "2023-05-07T17:35:02.779Z"
   },
   {
    "duration": 46,
    "start_time": "2023-05-07T17:35:02.795Z"
   },
   {
    "duration": 2732,
    "start_time": "2023-05-07T17:35:02.843Z"
   },
   {
    "duration": 20,
    "start_time": "2023-05-07T17:35:05.576Z"
   },
   {
    "duration": 44,
    "start_time": "2023-05-07T17:35:05.598Z"
   },
   {
    "duration": 341,
    "start_time": "2023-05-07T17:35:05.644Z"
   },
   {
    "duration": 13555,
    "start_time": "2023-05-07T17:35:05.992Z"
   },
   {
    "duration": 22,
    "start_time": "2023-05-07T17:35:19.548Z"
   },
   {
    "duration": 1987,
    "start_time": "2023-05-07T17:36:20.619Z"
   },
   {
    "duration": 4,
    "start_time": "2023-05-07T17:36:22.609Z"
   },
   {
    "duration": 11,
    "start_time": "2023-05-07T17:36:22.614Z"
   },
   {
    "duration": 16,
    "start_time": "2023-05-07T17:36:22.628Z"
   },
   {
    "duration": 754,
    "start_time": "2023-05-07T17:36:22.646Z"
   },
   {
    "duration": 1155,
    "start_time": "2023-05-07T17:36:23.402Z"
   },
   {
    "duration": 50,
    "start_time": "2023-05-07T17:36:24.559Z"
   },
   {
    "duration": 9,
    "start_time": "2023-05-07T17:36:24.611Z"
   },
   {
    "duration": 29,
    "start_time": "2023-05-07T17:36:24.622Z"
   },
   {
    "duration": 2137,
    "start_time": "2023-05-07T17:36:24.654Z"
   },
   {
    "duration": 12,
    "start_time": "2023-05-07T17:36:26.793Z"
   },
   {
    "duration": 25,
    "start_time": "2023-05-07T17:36:26.807Z"
   },
   {
    "duration": 25,
    "start_time": "2023-05-07T17:36:26.834Z"
   },
   {
    "duration": 49,
    "start_time": "2023-05-07T17:36:26.860Z"
   },
   {
    "duration": 905,
    "start_time": "2023-05-07T17:36:26.911Z"
   },
   {
    "duration": 1762,
    "start_time": "2023-05-07T17:36:27.818Z"
   },
   {
    "duration": 50,
    "start_time": "2023-05-07T17:36:29.582Z"
   },
   {
    "duration": 471,
    "start_time": "2023-05-07T17:36:29.634Z"
   },
   {
    "duration": 13,
    "start_time": "2023-05-07T17:36:30.107Z"
   },
   {
    "duration": 51,
    "start_time": "2023-05-07T17:36:30.122Z"
   },
   {
    "duration": 17,
    "start_time": "2023-05-07T17:36:30.175Z"
   },
   {
    "duration": 24,
    "start_time": "2023-05-07T17:36:30.193Z"
   },
   {
    "duration": 9,
    "start_time": "2023-05-07T17:36:30.219Z"
   },
   {
    "duration": 33,
    "start_time": "2023-05-07T17:36:30.230Z"
   },
   {
    "duration": 1615,
    "start_time": "2023-05-07T17:36:30.265Z"
   },
   {
    "duration": 17,
    "start_time": "2023-05-07T17:36:31.882Z"
   },
   {
    "duration": 37,
    "start_time": "2023-05-07T17:36:31.901Z"
   },
   {
    "duration": 13,
    "start_time": "2023-05-07T17:36:31.941Z"
   },
   {
    "duration": 16744,
    "start_time": "2023-05-07T17:36:31.956Z"
   },
   {
    "duration": 7,
    "start_time": "2023-05-07T17:36:48.701Z"
   },
   {
    "duration": 42,
    "start_time": "2023-05-07T17:36:48.710Z"
   },
   {
    "duration": 2595,
    "start_time": "2023-05-07T17:36:48.754Z"
   },
   {
    "duration": 11,
    "start_time": "2023-05-07T17:36:51.351Z"
   },
   {
    "duration": 51,
    "start_time": "2023-05-07T17:36:51.364Z"
   },
   {
    "duration": 340,
    "start_time": "2023-05-07T17:36:51.417Z"
   },
   {
    "duration": 0,
    "start_time": "2023-05-07T17:36:51.760Z"
   },
   {
    "duration": 0,
    "start_time": "2023-05-07T17:36:51.761Z"
   },
   {
    "duration": 2059,
    "start_time": "2023-05-07T17:49:44.365Z"
   },
   {
    "duration": 4,
    "start_time": "2023-05-07T17:49:46.427Z"
   },
   {
    "duration": 23,
    "start_time": "2023-05-07T17:49:46.433Z"
   },
   {
    "duration": 18,
    "start_time": "2023-05-07T17:49:46.458Z"
   },
   {
    "duration": 763,
    "start_time": "2023-05-07T17:49:46.478Z"
   },
   {
    "duration": 1103,
    "start_time": "2023-05-07T17:49:47.243Z"
   },
   {
    "duration": 52,
    "start_time": "2023-05-07T17:49:48.348Z"
   },
   {
    "duration": 10,
    "start_time": "2023-05-07T17:49:48.403Z"
   },
   {
    "duration": 35,
    "start_time": "2023-05-07T17:49:48.415Z"
   },
   {
    "duration": 2016,
    "start_time": "2023-05-07T17:49:48.453Z"
   },
   {
    "duration": 21,
    "start_time": "2023-05-07T17:49:50.471Z"
   },
   {
    "duration": 26,
    "start_time": "2023-05-07T17:49:50.494Z"
   },
   {
    "duration": 28,
    "start_time": "2023-05-07T17:49:50.522Z"
   },
   {
    "duration": 44,
    "start_time": "2023-05-07T17:49:50.553Z"
   },
   {
    "duration": 854,
    "start_time": "2023-05-07T17:49:50.599Z"
   },
   {
    "duration": 1863,
    "start_time": "2023-05-07T17:49:51.456Z"
   },
   {
    "duration": 48,
    "start_time": "2023-05-07T17:49:53.321Z"
   },
   {
    "duration": 479,
    "start_time": "2023-05-07T17:49:53.370Z"
   },
   {
    "duration": 14,
    "start_time": "2023-05-07T17:49:53.851Z"
   },
   {
    "duration": 52,
    "start_time": "2023-05-07T17:49:53.867Z"
   },
   {
    "duration": 13,
    "start_time": "2023-05-07T17:49:53.921Z"
   },
   {
    "duration": 20,
    "start_time": "2023-05-07T17:49:53.936Z"
   },
   {
    "duration": 6,
    "start_time": "2023-05-07T17:49:53.958Z"
   },
   {
    "duration": 46,
    "start_time": "2023-05-07T17:49:53.965Z"
   },
   {
    "duration": 1688,
    "start_time": "2023-05-07T17:49:54.013Z"
   },
   {
    "duration": 12,
    "start_time": "2023-05-07T17:49:55.702Z"
   },
   {
    "duration": 43,
    "start_time": "2023-05-07T17:49:55.716Z"
   },
   {
    "duration": 12,
    "start_time": "2023-05-07T17:49:55.761Z"
   },
   {
    "duration": 16687,
    "start_time": "2023-05-07T17:49:55.774Z"
   },
   {
    "duration": 8,
    "start_time": "2023-05-07T17:50:12.463Z"
   },
   {
    "duration": 58,
    "start_time": "2023-05-07T17:50:12.473Z"
   },
   {
    "duration": 2705,
    "start_time": "2023-05-07T17:50:12.532Z"
   },
   {
    "duration": 12,
    "start_time": "2023-05-07T17:50:15.239Z"
   },
   {
    "duration": 54,
    "start_time": "2023-05-07T17:50:15.252Z"
   },
   {
    "duration": 1056,
    "start_time": "2023-05-07T17:50:15.308Z"
   },
   {
    "duration": 0,
    "start_time": "2023-05-07T17:50:16.366Z"
   },
   {
    "duration": 1,
    "start_time": "2023-05-07T17:50:16.367Z"
   },
   {
    "duration": 1058,
    "start_time": "2023-05-07T17:55:47.050Z"
   },
   {
    "duration": 1039,
    "start_time": "2023-05-07T17:56:51.813Z"
   },
   {
    "duration": 52,
    "start_time": "2023-05-07T17:57:51.340Z"
   },
   {
    "duration": 335,
    "start_time": "2023-05-07T17:59:09.624Z"
   },
   {
    "duration": 313,
    "start_time": "2023-05-07T17:59:40.586Z"
   },
   {
    "duration": 985,
    "start_time": "2023-05-07T18:00:13.981Z"
   },
   {
    "duration": 1113,
    "start_time": "2023-05-07T18:00:37.284Z"
   },
   {
    "duration": 51,
    "start_time": "2023-05-07T18:01:52.241Z"
   },
   {
    "duration": 73,
    "start_time": "2023-05-07T18:02:03.697Z"
   },
   {
    "duration": 49,
    "start_time": "2023-05-07T18:02:09.929Z"
   },
   {
    "duration": 5,
    "start_time": "2023-05-07T18:02:32.169Z"
   },
   {
    "duration": 43,
    "start_time": "2023-05-07T18:02:40.196Z"
   },
   {
    "duration": 1100,
    "start_time": "2023-05-07T18:03:00.026Z"
   },
   {
    "duration": 431,
    "start_time": "2023-05-07T18:03:44.550Z"
   },
   {
    "duration": 340,
    "start_time": "2023-05-07T18:03:53.080Z"
   },
   {
    "duration": 317,
    "start_time": "2023-05-07T18:04:36.494Z"
   },
   {
    "duration": 354,
    "start_time": "2023-05-07T18:04:58.421Z"
   },
   {
    "duration": 334,
    "start_time": "2023-05-07T18:05:48.158Z"
   },
   {
    "duration": 336,
    "start_time": "2023-05-07T18:06:30.967Z"
   },
   {
    "duration": 373,
    "start_time": "2023-05-07T18:07:12.841Z"
   },
   {
    "duration": 347,
    "start_time": "2023-05-07T18:10:33.713Z"
   },
   {
    "duration": 333,
    "start_time": "2023-05-07T18:10:46.800Z"
   },
   {
    "duration": 338,
    "start_time": "2023-05-07T18:11:45.056Z"
   },
   {
    "duration": 344,
    "start_time": "2023-05-07T18:12:04.557Z"
   },
   {
    "duration": 454,
    "start_time": "2023-05-07T18:12:13.280Z"
   },
   {
    "duration": 351,
    "start_time": "2023-05-07T18:13:43.253Z"
   },
   {
    "duration": 341,
    "start_time": "2023-05-07T18:14:40.762Z"
   },
   {
    "duration": 52,
    "start_time": "2023-05-07T18:15:05.660Z"
   },
   {
    "duration": 344,
    "start_time": "2023-05-07T18:15:20.117Z"
   },
   {
    "duration": 326,
    "start_time": "2023-05-07T18:15:46.786Z"
   },
   {
    "duration": 320,
    "start_time": "2023-05-07T18:16:13.762Z"
   },
   {
    "duration": 1076,
    "start_time": "2023-05-07T18:16:47.846Z"
   },
   {
    "duration": 338,
    "start_time": "2023-05-07T18:17:14.468Z"
   },
   {
    "duration": 1053,
    "start_time": "2023-05-07T18:19:18.939Z"
   },
   {
    "duration": 371,
    "start_time": "2023-05-07T18:19:54.027Z"
   },
   {
    "duration": 337,
    "start_time": "2023-05-07T18:20:39.224Z"
   },
   {
    "duration": 458,
    "start_time": "2023-05-07T18:21:39.940Z"
   },
   {
    "duration": 50,
    "start_time": "2023-05-07T18:24:08.405Z"
   },
   {
    "duration": 351,
    "start_time": "2023-05-07T18:25:23.242Z"
   },
   {
    "duration": 376,
    "start_time": "2023-05-07T18:26:13.614Z"
   },
   {
    "duration": 348,
    "start_time": "2023-05-07T18:27:42.015Z"
   },
   {
    "duration": 303,
    "start_time": "2023-05-07T18:28:10.723Z"
   },
   {
    "duration": 10,
    "start_time": "2023-05-07T18:31:51.523Z"
   },
   {
    "duration": 10,
    "start_time": "2023-05-07T18:32:02.007Z"
   },
   {
    "duration": 9,
    "start_time": "2023-05-07T18:32:18.779Z"
   },
   {
    "duration": 23,
    "start_time": "2023-05-07T18:32:42.294Z"
   },
   {
    "duration": 34,
    "start_time": "2023-05-07T18:33:36.659Z"
   },
   {
    "duration": 26,
    "start_time": "2023-05-07T18:33:44.531Z"
   },
   {
    "duration": 32,
    "start_time": "2023-05-07T18:34:00.048Z"
   },
   {
    "duration": 24,
    "start_time": "2023-05-07T18:34:00.599Z"
   },
   {
    "duration": 225,
    "start_time": "2023-05-07T18:34:39.541Z"
   },
   {
    "duration": 21,
    "start_time": "2023-05-07T18:35:20.940Z"
   },
   {
    "duration": 2103,
    "start_time": "2023-05-07T18:35:52.117Z"
   },
   {
    "duration": 5,
    "start_time": "2023-05-07T18:35:54.224Z"
   },
   {
    "duration": 5,
    "start_time": "2023-05-07T18:35:54.231Z"
   },
   {
    "duration": 18,
    "start_time": "2023-05-07T18:35:54.238Z"
   },
   {
    "duration": 761,
    "start_time": "2023-05-07T18:35:54.258Z"
   },
   {
    "duration": 1084,
    "start_time": "2023-05-07T18:35:55.021Z"
   },
   {
    "duration": 37,
    "start_time": "2023-05-07T18:35:56.107Z"
   },
   {
    "duration": 11,
    "start_time": "2023-05-07T18:35:56.146Z"
   },
   {
    "duration": 49,
    "start_time": "2023-05-07T18:35:56.159Z"
   },
   {
    "duration": 2221,
    "start_time": "2023-05-07T18:35:56.210Z"
   },
   {
    "duration": 13,
    "start_time": "2023-05-07T18:35:58.433Z"
   },
   {
    "duration": 25,
    "start_time": "2023-05-07T18:35:58.447Z"
   },
   {
    "duration": 26,
    "start_time": "2023-05-07T18:35:58.491Z"
   },
   {
    "duration": 24,
    "start_time": "2023-05-07T18:35:58.519Z"
   },
   {
    "duration": 840,
    "start_time": "2023-05-07T18:35:58.545Z"
   },
   {
    "duration": 1909,
    "start_time": "2023-05-07T18:35:59.386Z"
   },
   {
    "duration": 47,
    "start_time": "2023-05-07T18:36:01.298Z"
   },
   {
    "duration": 491,
    "start_time": "2023-05-07T18:36:01.346Z"
   },
   {
    "duration": 14,
    "start_time": "2023-05-07T18:36:01.839Z"
   },
   {
    "duration": 66,
    "start_time": "2023-05-07T18:36:01.855Z"
   },
   {
    "duration": 52,
    "start_time": "2023-05-07T18:36:01.923Z"
   },
   {
    "duration": 47,
    "start_time": "2023-05-07T18:36:01.977Z"
   },
   {
    "duration": 787,
    "start_time": "2023-05-07T18:36:02.026Z"
   },
   {
    "duration": 0,
    "start_time": "2023-05-07T18:36:02.815Z"
   },
   {
    "duration": 1,
    "start_time": "2023-05-07T18:36:02.816Z"
   },
   {
    "duration": 0,
    "start_time": "2023-05-07T18:36:02.818Z"
   },
   {
    "duration": 0,
    "start_time": "2023-05-07T18:36:02.819Z"
   },
   {
    "duration": 0,
    "start_time": "2023-05-07T18:36:02.820Z"
   },
   {
    "duration": 0,
    "start_time": "2023-05-07T18:36:02.821Z"
   },
   {
    "duration": 0,
    "start_time": "2023-05-07T18:36:02.822Z"
   },
   {
    "duration": 0,
    "start_time": "2023-05-07T18:36:02.822Z"
   },
   {
    "duration": 0,
    "start_time": "2023-05-07T18:36:02.823Z"
   },
   {
    "duration": 0,
    "start_time": "2023-05-07T18:36:02.824Z"
   },
   {
    "duration": 0,
    "start_time": "2023-05-07T18:36:02.825Z"
   },
   {
    "duration": 0,
    "start_time": "2023-05-07T18:36:02.826Z"
   },
   {
    "duration": 0,
    "start_time": "2023-05-07T18:36:02.827Z"
   },
   {
    "duration": 0,
    "start_time": "2023-05-07T18:36:02.828Z"
   },
   {
    "duration": 0,
    "start_time": "2023-05-07T18:36:02.829Z"
   },
   {
    "duration": 0,
    "start_time": "2023-05-07T18:36:02.830Z"
   },
   {
    "duration": 0,
    "start_time": "2023-05-07T18:36:02.831Z"
   },
   {
    "duration": 0,
    "start_time": "2023-05-07T18:36:02.832Z"
   },
   {
    "duration": 22,
    "start_time": "2023-05-07T18:36:40.246Z"
   },
   {
    "duration": 89,
    "start_time": "2023-05-07T18:36:57.306Z"
   },
   {
    "duration": 7,
    "start_time": "2023-05-07T18:36:58.888Z"
   },
   {
    "duration": 9,
    "start_time": "2023-05-07T18:40:27.471Z"
   },
   {
    "duration": 357,
    "start_time": "2023-05-07T18:40:36.570Z"
   },
   {
    "duration": 48,
    "start_time": "2023-05-07T18:41:17.908Z"
   },
   {
    "duration": 2065,
    "start_time": "2023-05-07T18:42:26.892Z"
   },
   {
    "duration": 4,
    "start_time": "2023-05-07T18:42:28.959Z"
   },
   {
    "duration": 13,
    "start_time": "2023-05-07T18:42:28.965Z"
   },
   {
    "duration": 17,
    "start_time": "2023-05-07T18:42:28.981Z"
   },
   {
    "duration": 737,
    "start_time": "2023-05-07T18:42:29.000Z"
   },
   {
    "duration": 1150,
    "start_time": "2023-05-07T18:42:29.739Z"
   },
   {
    "duration": 43,
    "start_time": "2023-05-07T18:42:30.892Z"
   },
   {
    "duration": 36,
    "start_time": "2023-05-07T18:42:30.937Z"
   },
   {
    "duration": 45,
    "start_time": "2023-05-07T18:42:30.975Z"
   },
   {
    "duration": 2222,
    "start_time": "2023-05-07T18:42:31.022Z"
   },
   {
    "duration": 13,
    "start_time": "2023-05-07T18:42:33.246Z"
   },
   {
    "duration": 40,
    "start_time": "2023-05-07T18:42:33.260Z"
   },
   {
    "duration": 27,
    "start_time": "2023-05-07T18:42:33.301Z"
   },
   {
    "duration": 25,
    "start_time": "2023-05-07T18:42:33.330Z"
   },
   {
    "duration": 852,
    "start_time": "2023-05-07T18:42:33.356Z"
   },
   {
    "duration": 1915,
    "start_time": "2023-05-07T18:42:34.210Z"
   },
   {
    "duration": 46,
    "start_time": "2023-05-07T18:42:36.126Z"
   },
   {
    "duration": 474,
    "start_time": "2023-05-07T18:42:36.174Z"
   },
   {
    "duration": 14,
    "start_time": "2023-05-07T18:42:36.650Z"
   },
   {
    "duration": 50,
    "start_time": "2023-05-07T18:42:36.666Z"
   },
   {
    "duration": 14,
    "start_time": "2023-05-07T18:42:36.718Z"
   },
   {
    "duration": 15,
    "start_time": "2023-05-07T18:42:36.734Z"
   },
   {
    "duration": 6,
    "start_time": "2023-05-07T18:42:36.750Z"
   },
   {
    "duration": 44,
    "start_time": "2023-05-07T18:42:36.757Z"
   },
   {
    "duration": 1648,
    "start_time": "2023-05-07T18:42:36.803Z"
   },
   {
    "duration": 16,
    "start_time": "2023-05-07T18:42:38.453Z"
   },
   {
    "duration": 46,
    "start_time": "2023-05-07T18:42:38.470Z"
   },
   {
    "duration": 12,
    "start_time": "2023-05-07T18:42:38.519Z"
   },
   {
    "duration": 16425,
    "start_time": "2023-05-07T18:42:38.533Z"
   },
   {
    "duration": 6,
    "start_time": "2023-05-07T18:42:54.959Z"
   },
   {
    "duration": 46,
    "start_time": "2023-05-07T18:42:54.967Z"
   },
   {
    "duration": 2595,
    "start_time": "2023-05-07T18:42:55.015Z"
   },
   {
    "duration": 13,
    "start_time": "2023-05-07T18:42:57.612Z"
   },
   {
    "duration": 66,
    "start_time": "2023-05-07T18:42:57.627Z"
   },
   {
    "duration": 1004,
    "start_time": "2023-05-07T18:42:57.695Z"
   },
   {
    "duration": 0,
    "start_time": "2023-05-07T18:42:58.700Z"
   },
   {
    "duration": 0,
    "start_time": "2023-05-07T18:42:58.701Z"
   },
   {
    "duration": 0,
    "start_time": "2023-05-07T18:42:58.702Z"
   },
   {
    "duration": 336,
    "start_time": "2023-05-07T18:43:22.242Z"
   },
   {
    "duration": 13826,
    "start_time": "2023-05-07T18:43:29.566Z"
   },
   {
    "duration": 1987,
    "start_time": "2023-05-07T18:45:20.388Z"
   },
   {
    "duration": 5,
    "start_time": "2023-05-07T18:45:22.377Z"
   },
   {
    "duration": 10,
    "start_time": "2023-05-07T18:45:22.383Z"
   },
   {
    "duration": 18,
    "start_time": "2023-05-07T18:45:22.395Z"
   },
   {
    "duration": 721,
    "start_time": "2023-05-07T18:45:22.415Z"
   },
   {
    "duration": 1138,
    "start_time": "2023-05-07T18:45:23.138Z"
   },
   {
    "duration": 42,
    "start_time": "2023-05-07T18:45:24.278Z"
   },
   {
    "duration": 10,
    "start_time": "2023-05-07T18:45:24.322Z"
   },
   {
    "duration": 25,
    "start_time": "2023-05-07T18:45:24.334Z"
   },
   {
    "duration": 2139,
    "start_time": "2023-05-07T18:45:24.361Z"
   },
   {
    "duration": 13,
    "start_time": "2023-05-07T18:45:26.502Z"
   },
   {
    "duration": 26,
    "start_time": "2023-05-07T18:45:26.517Z"
   },
   {
    "duration": 54,
    "start_time": "2023-05-07T18:45:26.545Z"
   },
   {
    "duration": 29,
    "start_time": "2023-05-07T18:45:26.600Z"
   },
   {
    "duration": 827,
    "start_time": "2023-05-07T18:45:26.631Z"
   },
   {
    "duration": 1738,
    "start_time": "2023-05-07T18:45:27.460Z"
   },
   {
    "duration": 48,
    "start_time": "2023-05-07T18:45:29.200Z"
   },
   {
    "duration": 461,
    "start_time": "2023-05-07T18:45:29.249Z"
   },
   {
    "duration": 13,
    "start_time": "2023-05-07T18:45:29.712Z"
   },
   {
    "duration": 36,
    "start_time": "2023-05-07T18:45:29.727Z"
   },
   {
    "duration": 33,
    "start_time": "2023-05-07T18:45:29.765Z"
   },
   {
    "duration": 16,
    "start_time": "2023-05-07T18:45:29.800Z"
   },
   {
    "duration": 6,
    "start_time": "2023-05-07T18:45:29.818Z"
   },
   {
    "duration": 24,
    "start_time": "2023-05-07T18:45:29.825Z"
   },
   {
    "duration": 1589,
    "start_time": "2023-05-07T18:45:29.851Z"
   },
   {
    "duration": 11,
    "start_time": "2023-05-07T18:45:31.442Z"
   },
   {
    "duration": 69,
    "start_time": "2023-05-07T18:45:31.455Z"
   },
   {
    "duration": 39,
    "start_time": "2023-05-07T18:45:31.528Z"
   },
   {
    "duration": 16513,
    "start_time": "2023-05-07T18:45:31.569Z"
   },
   {
    "duration": 10,
    "start_time": "2023-05-07T18:45:48.083Z"
   },
   {
    "duration": 50,
    "start_time": "2023-05-07T18:45:48.095Z"
   },
   {
    "duration": 2610,
    "start_time": "2023-05-07T18:45:48.146Z"
   },
   {
    "duration": 11,
    "start_time": "2023-05-07T18:45:50.757Z"
   },
   {
    "duration": 52,
    "start_time": "2023-05-07T18:45:50.769Z"
   },
   {
    "duration": 372,
    "start_time": "2023-05-07T18:45:50.822Z"
   },
   {
    "duration": 433,
    "start_time": "2023-05-07T18:45:51.198Z"
   },
   {
    "duration": 13419,
    "start_time": "2023-05-07T18:45:51.633Z"
   },
   {
    "duration": 2085,
    "start_time": "2023-05-07T18:46:23.190Z"
   },
   {
    "duration": 1181,
    "start_time": "2023-05-07T18:46:25.277Z"
   },
   {
    "duration": 3,
    "start_time": "2023-05-07T18:46:26.459Z"
   },
   {
    "duration": 17,
    "start_time": "2023-05-07T18:46:26.464Z"
   },
   {
    "duration": 797,
    "start_time": "2023-05-07T18:46:26.491Z"
   },
   {
    "duration": 1228,
    "start_time": "2023-05-07T18:46:27.291Z"
   },
   {
    "duration": 49,
    "start_time": "2023-05-07T18:46:28.521Z"
   },
   {
    "duration": 23,
    "start_time": "2023-05-07T18:46:28.572Z"
   },
   {
    "duration": 38,
    "start_time": "2023-05-07T18:46:28.597Z"
   },
   {
    "duration": 2002,
    "start_time": "2023-05-07T18:46:28.637Z"
   },
   {
    "duration": 14,
    "start_time": "2023-05-07T18:46:30.641Z"
   },
   {
    "duration": 59,
    "start_time": "2023-05-07T18:46:30.657Z"
   },
   {
    "duration": 28,
    "start_time": "2023-05-07T18:46:30.717Z"
   },
   {
    "duration": 34,
    "start_time": "2023-05-07T18:46:30.747Z"
   },
   {
    "duration": 883,
    "start_time": "2023-05-07T18:46:30.792Z"
   },
   {
    "duration": 1934,
    "start_time": "2023-05-07T18:46:31.678Z"
   },
   {
    "duration": 50,
    "start_time": "2023-05-07T18:46:33.614Z"
   },
   {
    "duration": 448,
    "start_time": "2023-05-07T18:46:33.666Z"
   },
   {
    "duration": 14,
    "start_time": "2023-05-07T18:46:34.116Z"
   },
   {
    "duration": 32,
    "start_time": "2023-05-07T18:46:34.132Z"
   },
   {
    "duration": 29,
    "start_time": "2023-05-07T18:46:34.167Z"
   },
   {
    "duration": 16,
    "start_time": "2023-05-07T18:46:34.198Z"
   },
   {
    "duration": 6,
    "start_time": "2023-05-07T18:46:34.216Z"
   },
   {
    "duration": 27,
    "start_time": "2023-05-07T18:46:34.223Z"
   },
   {
    "duration": 1584,
    "start_time": "2023-05-07T18:46:34.252Z"
   },
   {
    "duration": 13,
    "start_time": "2023-05-07T18:46:35.838Z"
   },
   {
    "duration": 44,
    "start_time": "2023-05-07T18:46:35.853Z"
   },
   {
    "duration": 31,
    "start_time": "2023-05-07T18:46:35.901Z"
   },
   {
    "duration": 17175,
    "start_time": "2023-05-07T18:46:35.934Z"
   },
   {
    "duration": 6,
    "start_time": "2023-05-07T18:46:53.110Z"
   },
   {
    "duration": 50,
    "start_time": "2023-05-07T18:46:53.118Z"
   },
   {
    "duration": 2686,
    "start_time": "2023-05-07T18:46:53.170Z"
   },
   {
    "duration": 10,
    "start_time": "2023-05-07T18:46:55.858Z"
   },
   {
    "duration": 52,
    "start_time": "2023-05-07T18:46:55.870Z"
   },
   {
    "duration": 322,
    "start_time": "2023-05-07T18:46:55.924Z"
   },
   {
    "duration": 14101,
    "start_time": "2023-05-07T18:46:56.248Z"
   },
   {
    "duration": 5,
    "start_time": "2023-05-07T19:09:43.776Z"
   },
   {
    "duration": 13762,
    "start_time": "2023-05-07T19:10:54.250Z"
   },
   {
    "duration": 13602,
    "start_time": "2023-05-07T19:11:43.749Z"
   },
   {
    "duration": 11,
    "start_time": "2023-05-07T19:12:06.696Z"
   },
   {
    "duration": 4,
    "start_time": "2023-05-07T19:12:30.208Z"
   },
   {
    "duration": 11,
    "start_time": "2023-05-07T19:12:42.021Z"
   },
   {
    "duration": 9,
    "start_time": "2023-05-07T19:12:44.953Z"
   },
   {
    "duration": 10,
    "start_time": "2023-05-07T19:12:49.676Z"
   },
   {
    "duration": 4,
    "start_time": "2023-05-07T19:12:55.510Z"
   },
   {
    "duration": 2966,
    "start_time": "2023-05-08T15:29:09.190Z"
   },
   {
    "duration": 1390,
    "start_time": "2023-05-08T15:29:12.158Z"
   },
   {
    "duration": 2,
    "start_time": "2023-05-08T15:29:13.550Z"
   },
   {
    "duration": 18,
    "start_time": "2023-05-08T15:29:13.555Z"
   },
   {
    "duration": 3021,
    "start_time": "2023-05-08T15:29:13.575Z"
   },
   {
    "duration": 1385,
    "start_time": "2023-05-08T15:29:16.598Z"
   },
   {
    "duration": 57,
    "start_time": "2023-05-08T15:29:17.985Z"
   },
   {
    "duration": 21,
    "start_time": "2023-05-08T15:29:18.044Z"
   },
   {
    "duration": 39,
    "start_time": "2023-05-08T15:29:18.066Z"
   },
   {
    "duration": 2088,
    "start_time": "2023-05-08T15:29:18.107Z"
   },
   {
    "duration": 14,
    "start_time": "2023-05-08T15:29:20.196Z"
   },
   {
    "duration": 49,
    "start_time": "2023-05-08T15:29:20.212Z"
   },
   {
    "duration": 30,
    "start_time": "2023-05-08T15:29:20.263Z"
   },
   {
    "duration": 47,
    "start_time": "2023-05-08T15:29:20.295Z"
   },
   {
    "duration": 914,
    "start_time": "2023-05-08T15:29:20.344Z"
   },
   {
    "duration": 1929,
    "start_time": "2023-05-08T15:29:21.260Z"
   },
   {
    "duration": 58,
    "start_time": "2023-05-08T15:29:23.191Z"
   },
   {
    "duration": 443,
    "start_time": "2023-05-08T15:29:23.251Z"
   },
   {
    "duration": 14,
    "start_time": "2023-05-08T15:29:23.696Z"
   },
   {
    "duration": 47,
    "start_time": "2023-05-08T15:29:23.712Z"
   },
   {
    "duration": 13,
    "start_time": "2023-05-08T15:29:23.761Z"
   },
   {
    "duration": 27,
    "start_time": "2023-05-08T15:29:23.776Z"
   },
   {
    "duration": 7,
    "start_time": "2023-05-08T15:29:23.804Z"
   },
   {
    "duration": 42,
    "start_time": "2023-05-08T15:29:23.813Z"
   },
   {
    "duration": 1713,
    "start_time": "2023-05-08T15:29:23.857Z"
   },
   {
    "duration": 14,
    "start_time": "2023-05-08T15:29:25.572Z"
   },
   {
    "duration": 38,
    "start_time": "2023-05-08T15:29:25.588Z"
   },
   {
    "duration": 15,
    "start_time": "2023-05-08T15:29:25.640Z"
   },
   {
    "duration": 17179,
    "start_time": "2023-05-08T15:29:25.657Z"
   },
   {
    "duration": 7,
    "start_time": "2023-05-08T15:29:42.841Z"
   },
   {
    "duration": 41,
    "start_time": "2023-05-08T15:29:42.849Z"
   },
   {
    "duration": 2803,
    "start_time": "2023-05-08T15:29:42.892Z"
   },
   {
    "duration": 11,
    "start_time": "2023-05-08T15:29:45.697Z"
   },
   {
    "duration": 53,
    "start_time": "2023-05-08T15:29:45.710Z"
   },
   {
    "duration": 421,
    "start_time": "2023-05-08T15:29:45.765Z"
   },
   {
    "duration": 14424,
    "start_time": "2023-05-08T15:29:46.188Z"
   },
   {
    "duration": 18,
    "start_time": "2023-05-08T17:05:04.273Z"
   },
   {
    "duration": 14383,
    "start_time": "2023-05-08T17:05:44.233Z"
   },
   {
    "duration": 2327,
    "start_time": "2023-05-08T17:17:58.260Z"
   },
   {
    "duration": 1362,
    "start_time": "2023-05-08T17:18:00.590Z"
   },
   {
    "duration": 3,
    "start_time": "2023-05-08T17:18:01.954Z"
   },
   {
    "duration": 50,
    "start_time": "2023-05-08T17:18:01.960Z"
   },
   {
    "duration": 923,
    "start_time": "2023-05-08T17:18:02.013Z"
   },
   {
    "duration": 1379,
    "start_time": "2023-05-08T17:18:02.938Z"
   },
   {
    "duration": 54,
    "start_time": "2023-05-08T17:18:04.319Z"
   },
   {
    "duration": 30,
    "start_time": "2023-05-08T17:18:04.375Z"
   },
   {
    "duration": 54,
    "start_time": "2023-05-08T17:18:04.407Z"
   },
   {
    "duration": 2158,
    "start_time": "2023-05-08T17:18:04.465Z"
   },
   {
    "duration": 23,
    "start_time": "2023-05-08T17:18:06.626Z"
   },
   {
    "duration": 42,
    "start_time": "2023-05-08T17:18:06.651Z"
   },
   {
    "duration": 64,
    "start_time": "2023-05-08T17:18:06.696Z"
   },
   {
    "duration": 29,
    "start_time": "2023-05-08T17:18:06.763Z"
   },
   {
    "duration": 942,
    "start_time": "2023-05-08T17:18:06.795Z"
   },
   {
    "duration": 2041,
    "start_time": "2023-05-08T17:18:07.738Z"
   },
   {
    "duration": 61,
    "start_time": "2023-05-08T17:18:09.781Z"
   },
   {
    "duration": 446,
    "start_time": "2023-05-08T17:18:09.844Z"
   },
   {
    "duration": 13,
    "start_time": "2023-05-08T17:18:10.292Z"
   },
   {
    "duration": 60,
    "start_time": "2023-05-08T17:18:10.307Z"
   },
   {
    "duration": 19,
    "start_time": "2023-05-08T17:18:10.369Z"
   },
   {
    "duration": 36,
    "start_time": "2023-05-08T17:18:10.389Z"
   },
   {
    "duration": 22,
    "start_time": "2023-05-08T17:18:10.427Z"
   },
   {
    "duration": 268,
    "start_time": "2023-05-08T17:18:10.451Z"
   },
   {
    "duration": 1572,
    "start_time": "2023-05-08T17:18:10.722Z"
   },
   {
    "duration": 13,
    "start_time": "2023-05-08T17:18:12.296Z"
   },
   {
    "duration": 53,
    "start_time": "2023-05-08T17:18:12.311Z"
   },
   {
    "duration": 21,
    "start_time": "2023-05-08T17:18:12.369Z"
   },
   {
    "duration": 17997,
    "start_time": "2023-05-08T17:18:12.393Z"
   },
   {
    "duration": 7,
    "start_time": "2023-05-08T17:18:30.392Z"
   },
   {
    "duration": 71,
    "start_time": "2023-05-08T17:18:30.401Z"
   },
   {
    "duration": 2868,
    "start_time": "2023-05-08T17:18:30.475Z"
   },
   {
    "duration": 12,
    "start_time": "2023-05-08T17:18:33.345Z"
   },
   {
    "duration": 50,
    "start_time": "2023-05-08T17:18:33.359Z"
   },
   {
    "duration": 363,
    "start_time": "2023-05-08T17:18:33.411Z"
   },
   {
    "duration": 14146,
    "start_time": "2023-05-08T17:18:33.777Z"
   },
   {
    "duration": 119,
    "start_time": "2023-05-08T17:35:47.914Z"
   },
   {
    "duration": 2217,
    "start_time": "2023-05-08T17:48:16.479Z"
   },
   {
    "duration": 279,
    "start_time": "2023-05-08T17:48:18.699Z"
   },
   {
    "duration": 7,
    "start_time": "2023-05-08T17:48:18.980Z"
   },
   {
    "duration": 19,
    "start_time": "2023-05-08T17:48:18.991Z"
   },
   {
    "duration": 869,
    "start_time": "2023-05-08T17:48:19.012Z"
   },
   {
    "duration": 1261,
    "start_time": "2023-05-08T17:48:19.883Z"
   },
   {
    "duration": 39,
    "start_time": "2023-05-08T17:48:21.146Z"
   },
   {
    "duration": 12,
    "start_time": "2023-05-08T17:48:21.187Z"
   },
   {
    "duration": 65,
    "start_time": "2023-05-08T17:48:21.201Z"
   },
   {
    "duration": 2090,
    "start_time": "2023-05-08T17:48:21.268Z"
   },
   {
    "duration": 13,
    "start_time": "2023-05-08T17:48:23.360Z"
   },
   {
    "duration": 29,
    "start_time": "2023-05-08T17:48:23.374Z"
   },
   {
    "duration": 52,
    "start_time": "2023-05-08T17:48:23.405Z"
   },
   {
    "duration": 28,
    "start_time": "2023-05-08T17:48:23.459Z"
   },
   {
    "duration": 1036,
    "start_time": "2023-05-08T17:48:23.489Z"
   },
   {
    "duration": 1979,
    "start_time": "2023-05-08T17:48:24.527Z"
   },
   {
    "duration": 60,
    "start_time": "2023-05-08T17:48:26.508Z"
   },
   {
    "duration": 505,
    "start_time": "2023-05-08T17:48:26.570Z"
   },
   {
    "duration": 14,
    "start_time": "2023-05-08T17:48:27.078Z"
   },
   {
    "duration": 52,
    "start_time": "2023-05-08T17:48:27.094Z"
   },
   {
    "duration": 13,
    "start_time": "2023-05-08T17:48:27.148Z"
   },
   {
    "duration": 33,
    "start_time": "2023-05-08T17:48:27.163Z"
   },
   {
    "duration": 14,
    "start_time": "2023-05-08T17:48:27.198Z"
   },
   {
    "duration": 38,
    "start_time": "2023-05-08T17:48:27.214Z"
   },
   {
    "duration": 1697,
    "start_time": "2023-05-08T17:48:27.255Z"
   },
   {
    "duration": 14,
    "start_time": "2023-05-08T17:48:28.955Z"
   },
   {
    "duration": 46,
    "start_time": "2023-05-08T17:48:28.971Z"
   },
   {
    "duration": 22,
    "start_time": "2023-05-08T17:48:29.020Z"
   },
   {
    "duration": 16948,
    "start_time": "2023-05-08T17:48:29.044Z"
   },
   {
    "duration": 9,
    "start_time": "2023-05-08T17:48:45.995Z"
   },
   {
    "duration": 66,
    "start_time": "2023-05-08T17:48:46.006Z"
   },
   {
    "duration": 2722,
    "start_time": "2023-05-08T17:48:46.074Z"
   },
   {
    "duration": 11,
    "start_time": "2023-05-08T17:48:48.798Z"
   },
   {
    "duration": 56,
    "start_time": "2023-05-08T17:48:48.811Z"
   },
   {
    "duration": 338,
    "start_time": "2023-05-08T17:48:48.869Z"
   },
   {
    "duration": 14913,
    "start_time": "2023-05-08T17:48:49.210Z"
   },
   {
    "duration": 90,
    "start_time": "2023-05-08T17:49:04.125Z"
   },
   {
    "duration": 3194,
    "start_time": "2023-05-09T06:11:22.723Z"
   },
   {
    "duration": 1497,
    "start_time": "2023-05-09T06:11:25.919Z"
   },
   {
    "duration": 2,
    "start_time": "2023-05-09T06:11:27.419Z"
   },
   {
    "duration": 25,
    "start_time": "2023-05-09T06:11:27.424Z"
   },
   {
    "duration": 2853,
    "start_time": "2023-05-09T06:11:27.450Z"
   },
   {
    "duration": 1360,
    "start_time": "2023-05-09T06:11:30.305Z"
   },
   {
    "duration": 50,
    "start_time": "2023-05-09T06:11:31.666Z"
   },
   {
    "duration": 19,
    "start_time": "2023-05-09T06:11:31.718Z"
   },
   {
    "duration": 99,
    "start_time": "2023-05-09T06:11:31.739Z"
   },
   {
    "duration": 2087,
    "start_time": "2023-05-09T06:11:31.841Z"
   },
   {
    "duration": 13,
    "start_time": "2023-05-09T06:11:33.930Z"
   },
   {
    "duration": 57,
    "start_time": "2023-05-09T06:11:33.945Z"
   },
   {
    "duration": 25,
    "start_time": "2023-05-09T06:11:34.004Z"
   },
   {
    "duration": 33,
    "start_time": "2023-05-09T06:11:34.031Z"
   },
   {
    "duration": 912,
    "start_time": "2023-05-09T06:11:34.066Z"
   },
   {
    "duration": 1953,
    "start_time": "2023-05-09T06:11:34.984Z"
   },
   {
    "duration": 65,
    "start_time": "2023-05-09T06:11:36.938Z"
   },
   {
    "duration": 414,
    "start_time": "2023-05-09T06:11:37.004Z"
   },
   {
    "duration": 15,
    "start_time": "2023-05-09T06:11:37.420Z"
   },
   {
    "duration": 46,
    "start_time": "2023-05-09T06:11:37.437Z"
   },
   {
    "duration": 14,
    "start_time": "2023-05-09T06:11:37.485Z"
   },
   {
    "duration": 33,
    "start_time": "2023-05-09T06:11:37.501Z"
   },
   {
    "duration": 34,
    "start_time": "2023-05-09T06:11:37.537Z"
   },
   {
    "duration": 41,
    "start_time": "2023-05-09T06:11:37.573Z"
   },
   {
    "duration": 1630,
    "start_time": "2023-05-09T06:11:37.616Z"
   },
   {
    "duration": 14,
    "start_time": "2023-05-09T06:11:39.248Z"
   },
   {
    "duration": 41,
    "start_time": "2023-05-09T06:11:39.263Z"
   },
   {
    "duration": 14,
    "start_time": "2023-05-09T06:11:39.307Z"
   },
   {
    "duration": 16944,
    "start_time": "2023-05-09T06:11:39.323Z"
   },
   {
    "duration": 6,
    "start_time": "2023-05-09T06:11:56.269Z"
   },
   {
    "duration": 64,
    "start_time": "2023-05-09T06:11:56.283Z"
   },
   {
    "duration": 2770,
    "start_time": "2023-05-09T06:11:56.349Z"
   },
   {
    "duration": 13,
    "start_time": "2023-05-09T06:11:59.121Z"
   },
   {
    "duration": 72,
    "start_time": "2023-05-09T06:11:59.135Z"
   },
   {
    "duration": 315,
    "start_time": "2023-05-09T06:11:59.208Z"
   },
   {
    "duration": 13694,
    "start_time": "2023-05-09T06:11:59.525Z"
   },
   {
    "duration": 72,
    "start_time": "2023-05-09T06:12:13.221Z"
   },
   {
    "duration": 123,
    "start_time": "2023-05-09T06:12:13.295Z"
   },
   {
    "duration": 12,
    "start_time": "2023-05-09T06:20:14.287Z"
   },
   {
    "duration": 2263,
    "start_time": "2023-05-09T06:22:48.436Z"
   },
   {
    "duration": 6,
    "start_time": "2023-05-09T06:22:50.703Z"
   },
   {
    "duration": 29,
    "start_time": "2023-05-09T06:22:50.710Z"
   },
   {
    "duration": 35,
    "start_time": "2023-05-09T06:22:50.742Z"
   },
   {
    "duration": 820,
    "start_time": "2023-05-09T06:22:50.779Z"
   },
   {
    "duration": 1169,
    "start_time": "2023-05-09T06:22:51.601Z"
   },
   {
    "duration": 50,
    "start_time": "2023-05-09T06:22:52.772Z"
   },
   {
    "duration": 10,
    "start_time": "2023-05-09T06:22:52.825Z"
   },
   {
    "duration": 63,
    "start_time": "2023-05-09T06:22:52.837Z"
   },
   {
    "duration": 2195,
    "start_time": "2023-05-09T06:22:52.903Z"
   },
   {
    "duration": 12,
    "start_time": "2023-05-09T06:22:55.100Z"
   },
   {
    "duration": 24,
    "start_time": "2023-05-09T06:22:55.113Z"
   },
   {
    "duration": 48,
    "start_time": "2023-05-09T06:22:55.139Z"
   },
   {
    "duration": 25,
    "start_time": "2023-05-09T06:22:55.191Z"
   },
   {
    "duration": 882,
    "start_time": "2023-05-09T06:22:55.218Z"
   },
   {
    "duration": 2038,
    "start_time": "2023-05-09T06:22:56.102Z"
   },
   {
    "duration": 78,
    "start_time": "2023-05-09T06:22:58.142Z"
   },
   {
    "duration": 511,
    "start_time": "2023-05-09T06:22:58.223Z"
   },
   {
    "duration": 13,
    "start_time": "2023-05-09T06:22:58.736Z"
   },
   {
    "duration": 48,
    "start_time": "2023-05-09T06:22:58.751Z"
   },
   {
    "duration": 14,
    "start_time": "2023-05-09T06:22:58.800Z"
   },
   {
    "duration": 19,
    "start_time": "2023-05-09T06:22:58.816Z"
   },
   {
    "duration": 29,
    "start_time": "2023-05-09T06:22:58.837Z"
   },
   {
    "duration": 32,
    "start_time": "2023-05-09T06:22:58.868Z"
   },
   {
    "duration": 1607,
    "start_time": "2023-05-09T06:22:58.902Z"
   },
   {
    "duration": 18,
    "start_time": "2023-05-09T06:23:00.511Z"
   },
   {
    "duration": 51,
    "start_time": "2023-05-09T06:23:00.531Z"
   },
   {
    "duration": 35,
    "start_time": "2023-05-09T06:23:00.591Z"
   },
   {
    "duration": 18349,
    "start_time": "2023-05-09T06:23:00.628Z"
   },
   {
    "duration": 17,
    "start_time": "2023-05-09T06:23:18.978Z"
   },
   {
    "duration": 46,
    "start_time": "2023-05-09T06:23:18.999Z"
   },
   {
    "duration": 2899,
    "start_time": "2023-05-09T06:23:19.047Z"
   },
   {
    "duration": 12,
    "start_time": "2023-05-09T06:23:21.948Z"
   },
   {
    "duration": 68,
    "start_time": "2023-05-09T06:23:21.962Z"
   },
   {
    "duration": 382,
    "start_time": "2023-05-09T06:23:22.032Z"
   },
   {
    "duration": 14372,
    "start_time": "2023-05-09T06:23:22.416Z"
   },
   {
    "duration": 60,
    "start_time": "2023-05-09T06:23:36.789Z"
   },
   {
    "duration": 5,
    "start_time": "2023-05-09T06:23:36.851Z"
   },
   {
    "duration": 18,
    "start_time": "2023-05-09T06:23:36.857Z"
   },
   {
    "duration": 24,
    "start_time": "2023-05-09T06:23:59.983Z"
   },
   {
    "duration": 12,
    "start_time": "2023-05-09T06:25:03.290Z"
   },
   {
    "duration": 474,
    "start_time": "2023-05-09T06:25:27.092Z"
   },
   {
    "duration": 14,
    "start_time": "2023-05-09T06:25:29.243Z"
   },
   {
    "duration": 27,
    "start_time": "2023-05-09T06:30:29.620Z"
   },
   {
    "duration": 20,
    "start_time": "2023-05-09T06:31:23.809Z"
   },
   {
    "duration": 21,
    "start_time": "2023-05-09T06:31:41.480Z"
   },
   {
    "duration": 24,
    "start_time": "2023-05-09T06:31:50.840Z"
   },
   {
    "duration": 5,
    "start_time": "2023-05-09T06:31:56.068Z"
   },
   {
    "duration": 57,
    "start_time": "2023-05-09T06:32:38.464Z"
   },
   {
    "duration": 12,
    "start_time": "2023-05-09T06:33:11.408Z"
   },
   {
    "duration": 12,
    "start_time": "2023-05-09T06:33:14.408Z"
   },
   {
    "duration": 780,
    "start_time": "2023-05-09T06:33:58.727Z"
   },
   {
    "duration": 14,
    "start_time": "2023-05-09T06:34:20.364Z"
   },
   {
    "duration": 22,
    "start_time": "2023-05-09T06:34:28.619Z"
   },
   {
    "duration": 4,
    "start_time": "2023-05-09T06:37:20.579Z"
   },
   {
    "duration": 10,
    "start_time": "2023-05-09T07:42:55.842Z"
   },
   {
    "duration": 14,
    "start_time": "2023-05-09T07:43:12.133Z"
   },
   {
    "duration": 10,
    "start_time": "2023-05-09T07:43:17.816Z"
   },
   {
    "duration": 11,
    "start_time": "2023-05-09T07:43:24.394Z"
   },
   {
    "duration": 10,
    "start_time": "2023-05-09T07:43:31.540Z"
   },
   {
    "duration": 9,
    "start_time": "2023-05-09T07:43:33.840Z"
   },
   {
    "duration": 65,
    "start_time": "2023-05-09T07:44:36.247Z"
   },
   {
    "duration": 4,
    "start_time": "2023-05-09T07:49:10.482Z"
   },
   {
    "duration": 6,
    "start_time": "2023-05-09T07:49:17.748Z"
   },
   {
    "duration": 15,
    "start_time": "2023-05-09T07:52:41.859Z"
   },
   {
    "duration": 59,
    "start_time": "2023-05-09T07:53:11.732Z"
   },
   {
    "duration": 13,
    "start_time": "2023-05-09T07:53:34.999Z"
   },
   {
    "duration": 2086,
    "start_time": "2023-05-09T07:53:53.353Z"
   },
   {
    "duration": 1257,
    "start_time": "2023-05-09T07:53:55.442Z"
   },
   {
    "duration": 2,
    "start_time": "2023-05-09T07:53:56.701Z"
   },
   {
    "duration": 16,
    "start_time": "2023-05-09T07:53:56.705Z"
   },
   {
    "duration": 737,
    "start_time": "2023-05-09T07:53:56.723Z"
   },
   {
    "duration": 1256,
    "start_time": "2023-05-09T07:53:57.462Z"
   },
   {
    "duration": 43,
    "start_time": "2023-05-09T07:53:58.719Z"
   },
   {
    "duration": 45,
    "start_time": "2023-05-09T07:53:58.763Z"
   },
   {
    "duration": 39,
    "start_time": "2023-05-09T07:53:58.810Z"
   },
   {
    "duration": 1931,
    "start_time": "2023-05-09T07:53:58.852Z"
   },
   {
    "duration": 13,
    "start_time": "2023-05-09T07:54:00.785Z"
   },
   {
    "duration": 55,
    "start_time": "2023-05-09T07:54:00.800Z"
   },
   {
    "duration": 36,
    "start_time": "2023-05-09T07:54:00.857Z"
   },
   {
    "duration": 29,
    "start_time": "2023-05-09T07:54:00.895Z"
   },
   {
    "duration": 846,
    "start_time": "2023-05-09T07:54:00.926Z"
   },
   {
    "duration": 1779,
    "start_time": "2023-05-09T07:54:01.774Z"
   },
   {
    "duration": 55,
    "start_time": "2023-05-09T07:54:03.555Z"
   },
   {
    "duration": 429,
    "start_time": "2023-05-09T07:54:03.612Z"
   },
   {
    "duration": 18,
    "start_time": "2023-05-09T07:54:04.043Z"
   },
   {
    "duration": 47,
    "start_time": "2023-05-09T07:54:04.063Z"
   },
   {
    "duration": 18,
    "start_time": "2023-05-09T07:54:04.113Z"
   },
   {
    "duration": 18,
    "start_time": "2023-05-09T07:54:04.133Z"
   },
   {
    "duration": 6,
    "start_time": "2023-05-09T07:54:04.153Z"
   },
   {
    "duration": 38,
    "start_time": "2023-05-09T07:54:04.160Z"
   },
   {
    "duration": 1475,
    "start_time": "2023-05-09T07:54:04.200Z"
   },
   {
    "duration": 18,
    "start_time": "2023-05-09T07:54:05.676Z"
   },
   {
    "duration": 65,
    "start_time": "2023-05-09T07:54:05.696Z"
   },
   {
    "duration": 12,
    "start_time": "2023-05-09T07:54:05.764Z"
   },
   {
    "duration": 16312,
    "start_time": "2023-05-09T07:54:05.777Z"
   },
   {
    "duration": 7,
    "start_time": "2023-05-09T07:54:22.091Z"
   },
   {
    "duration": 60,
    "start_time": "2023-05-09T07:54:22.100Z"
   },
   {
    "duration": 2585,
    "start_time": "2023-05-09T07:54:22.162Z"
   },
   {
    "duration": 14,
    "start_time": "2023-05-09T07:54:24.749Z"
   },
   {
    "duration": 59,
    "start_time": "2023-05-09T07:54:24.764Z"
   },
   {
    "duration": 362,
    "start_time": "2023-05-09T07:54:24.825Z"
   },
   {
    "duration": 12861,
    "start_time": "2023-05-09T07:54:25.189Z"
   },
   {
    "duration": 72,
    "start_time": "2023-05-09T07:54:38.052Z"
   },
   {
    "duration": 122,
    "start_time": "2023-05-09T07:54:38.126Z"
   },
   {
    "duration": 0,
    "start_time": "2023-05-09T07:54:38.250Z"
   },
   {
    "duration": 0,
    "start_time": "2023-05-09T07:54:38.252Z"
   },
   {
    "duration": 0,
    "start_time": "2023-05-09T07:54:38.253Z"
   },
   {
    "duration": 0,
    "start_time": "2023-05-09T07:54:38.254Z"
   },
   {
    "duration": 0,
    "start_time": "2023-05-09T07:54:38.255Z"
   },
   {
    "duration": 11,
    "start_time": "2023-05-09T07:55:53.905Z"
   },
   {
    "duration": 16,
    "start_time": "2023-05-09T07:56:04.852Z"
   },
   {
    "duration": 17,
    "start_time": "2023-05-09T07:59:27.799Z"
   },
   {
    "duration": 5,
    "start_time": "2023-05-09T07:59:56.466Z"
   },
   {
    "duration": 4,
    "start_time": "2023-05-09T08:02:19.641Z"
   },
   {
    "duration": 58,
    "start_time": "2023-05-09T09:01:41.714Z"
   },
   {
    "duration": 15,
    "start_time": "2023-05-09T09:03:30.988Z"
   },
   {
    "duration": 4555,
    "start_time": "2023-05-09T09:03:46.858Z"
   },
   {
    "duration": 628,
    "start_time": "2023-05-09T09:10:52.929Z"
   },
   {
    "duration": 613,
    "start_time": "2023-05-09T09:11:16.893Z"
   },
   {
    "duration": 48,
    "start_time": "2023-05-09T09:13:13.890Z"
   },
   {
    "duration": 2328,
    "start_time": "2023-05-09T09:19:46.854Z"
   },
   {
    "duration": 1561,
    "start_time": "2023-05-09T09:19:49.184Z"
   },
   {
    "duration": 3,
    "start_time": "2023-05-09T09:19:50.747Z"
   },
   {
    "duration": 18,
    "start_time": "2023-05-09T09:19:50.752Z"
   },
   {
    "duration": 2787,
    "start_time": "2023-05-09T09:19:50.772Z"
   },
   {
    "duration": 1268,
    "start_time": "2023-05-09T09:19:53.561Z"
   },
   {
    "duration": 65,
    "start_time": "2023-05-09T09:19:54.831Z"
   },
   {
    "duration": 14,
    "start_time": "2023-05-09T09:19:54.898Z"
   },
   {
    "duration": 67,
    "start_time": "2023-05-09T09:19:54.914Z"
   },
   {
    "duration": 2143,
    "start_time": "2023-05-09T09:19:54.984Z"
   },
   {
    "duration": 13,
    "start_time": "2023-05-09T09:19:57.129Z"
   },
   {
    "duration": 46,
    "start_time": "2023-05-09T09:19:57.144Z"
   },
   {
    "duration": 27,
    "start_time": "2023-05-09T09:19:57.191Z"
   },
   {
    "duration": 47,
    "start_time": "2023-05-09T09:19:57.220Z"
   },
   {
    "duration": 897,
    "start_time": "2023-05-09T09:19:57.269Z"
   },
   {
    "duration": 1861,
    "start_time": "2023-05-09T09:19:58.168Z"
   },
   {
    "duration": 93,
    "start_time": "2023-05-09T09:20:00.031Z"
   },
   {
    "duration": 502,
    "start_time": "2023-05-09T09:20:00.126Z"
   },
   {
    "duration": 18,
    "start_time": "2023-05-09T09:20:00.631Z"
   },
   {
    "duration": 59,
    "start_time": "2023-05-09T09:20:00.651Z"
   },
   {
    "duration": 30,
    "start_time": "2023-05-09T09:20:00.712Z"
   },
   {
    "duration": 36,
    "start_time": "2023-05-09T09:20:00.744Z"
   },
   {
    "duration": 29,
    "start_time": "2023-05-09T09:20:00.781Z"
   },
   {
    "duration": 46,
    "start_time": "2023-05-09T09:20:00.812Z"
   },
   {
    "duration": 1640,
    "start_time": "2023-05-09T09:20:00.860Z"
   },
   {
    "duration": 15,
    "start_time": "2023-05-09T09:20:02.502Z"
   },
   {
    "duration": 74,
    "start_time": "2023-05-09T09:20:02.519Z"
   },
   {
    "duration": 35,
    "start_time": "2023-05-09T09:20:02.596Z"
   },
   {
    "duration": 17832,
    "start_time": "2023-05-09T09:20:02.633Z"
   },
   {
    "duration": 17,
    "start_time": "2023-05-09T09:20:20.467Z"
   },
   {
    "duration": 45,
    "start_time": "2023-05-09T09:20:20.486Z"
   },
   {
    "duration": 2645,
    "start_time": "2023-05-09T09:20:20.533Z"
   },
   {
    "duration": 13,
    "start_time": "2023-05-09T09:20:23.179Z"
   },
   {
    "duration": 71,
    "start_time": "2023-05-09T09:20:23.193Z"
   },
   {
    "duration": 321,
    "start_time": "2023-05-09T09:20:23.266Z"
   },
   {
    "duration": 14250,
    "start_time": "2023-05-09T09:20:23.588Z"
   },
   {
    "duration": 68,
    "start_time": "2023-05-09T09:20:37.839Z"
   },
   {
    "duration": 10,
    "start_time": "2023-05-09T09:20:37.909Z"
   },
   {
    "duration": 12,
    "start_time": "2023-05-09T09:20:37.921Z"
   },
   {
    "duration": 16,
    "start_time": "2023-05-09T09:20:37.935Z"
   },
   {
    "duration": 4526,
    "start_time": "2023-05-09T09:20:37.952Z"
   },
   {
    "duration": 0,
    "start_time": "2023-05-09T09:20:42.483Z"
   },
   {
    "duration": 2558,
    "start_time": "2023-05-09T09:35:59.481Z"
   },
   {
    "duration": 1520,
    "start_time": "2023-05-09T09:36:02.041Z"
   },
   {
    "duration": 3,
    "start_time": "2023-05-09T09:36:03.563Z"
   },
   {
    "duration": 37,
    "start_time": "2023-05-09T09:36:03.569Z"
   },
   {
    "duration": 3090,
    "start_time": "2023-05-09T09:36:03.608Z"
   },
   {
    "duration": 1565,
    "start_time": "2023-05-09T09:36:06.700Z"
   },
   {
    "duration": 60,
    "start_time": "2023-05-09T09:36:08.267Z"
   },
   {
    "duration": 21,
    "start_time": "2023-05-09T09:36:08.329Z"
   },
   {
    "duration": 63,
    "start_time": "2023-05-09T09:36:08.352Z"
   },
   {
    "duration": 2270,
    "start_time": "2023-05-09T09:36:08.418Z"
   },
   {
    "duration": 17,
    "start_time": "2023-05-09T09:36:10.690Z"
   },
   {
    "duration": 52,
    "start_time": "2023-05-09T09:36:10.709Z"
   },
   {
    "duration": 47,
    "start_time": "2023-05-09T09:36:10.763Z"
   },
   {
    "duration": 37,
    "start_time": "2023-05-09T09:36:10.813Z"
   },
   {
    "duration": 989,
    "start_time": "2023-05-09T09:36:10.852Z"
   },
   {
    "duration": 1990,
    "start_time": "2023-05-09T09:36:11.843Z"
   },
   {
    "duration": 75,
    "start_time": "2023-05-09T09:36:13.834Z"
   },
   {
    "duration": 516,
    "start_time": "2023-05-09T09:36:13.911Z"
   },
   {
    "duration": 19,
    "start_time": "2023-05-09T09:36:14.429Z"
   },
   {
    "duration": 58,
    "start_time": "2023-05-09T09:36:14.450Z"
   },
   {
    "duration": 24,
    "start_time": "2023-05-09T09:36:14.510Z"
   },
   {
    "duration": 46,
    "start_time": "2023-05-09T09:36:14.536Z"
   },
   {
    "duration": 38,
    "start_time": "2023-05-09T09:36:14.585Z"
   },
   {
    "duration": 45,
    "start_time": "2023-05-09T09:36:14.624Z"
   },
   {
    "duration": 1752,
    "start_time": "2023-05-09T09:36:14.671Z"
   },
   {
    "duration": 15,
    "start_time": "2023-05-09T09:36:16.425Z"
   },
   {
    "duration": 56,
    "start_time": "2023-05-09T09:36:16.442Z"
   },
   {
    "duration": 23,
    "start_time": "2023-05-09T09:36:16.502Z"
   },
   {
    "duration": 18775,
    "start_time": "2023-05-09T09:36:16.527Z"
   },
   {
    "duration": 9,
    "start_time": "2023-05-09T09:36:35.305Z"
   },
   {
    "duration": 136,
    "start_time": "2023-05-09T09:36:35.316Z"
   },
   {
    "duration": 3273,
    "start_time": "2023-05-09T09:36:35.453Z"
   },
   {
    "duration": 14,
    "start_time": "2023-05-09T09:36:38.728Z"
   },
   {
    "duration": 94,
    "start_time": "2023-05-09T09:36:38.744Z"
   },
   {
    "duration": 344,
    "start_time": "2023-05-09T09:36:38.839Z"
   },
   {
    "duration": 15088,
    "start_time": "2023-05-09T09:36:39.185Z"
   },
   {
    "duration": 68,
    "start_time": "2023-05-09T09:36:54.275Z"
   },
   {
    "duration": 12,
    "start_time": "2023-05-09T09:36:54.344Z"
   },
   {
    "duration": 28,
    "start_time": "2023-05-09T09:36:54.357Z"
   },
   {
    "duration": 6,
    "start_time": "2023-05-09T09:36:54.387Z"
   },
   {
    "duration": 708,
    "start_time": "2023-05-09T09:36:54.394Z"
   },
   {
    "duration": 0,
    "start_time": "2023-05-09T09:36:55.105Z"
   },
   {
    "duration": 88,
    "start_time": "2023-05-09T10:01:07.943Z"
   },
   {
    "duration": 131,
    "start_time": "2023-05-09T10:01:25.893Z"
   },
   {
    "duration": 11,
    "start_time": "2023-05-09T10:01:47.160Z"
   },
   {
    "duration": 376,
    "start_time": "2023-05-09T10:04:50.466Z"
   },
   {
    "duration": 385,
    "start_time": "2023-05-09T10:05:32.799Z"
   },
   {
    "duration": 1758,
    "start_time": "2023-05-09T10:06:20.993Z"
   },
   {
    "duration": 342,
    "start_time": "2023-05-09T10:07:00.622Z"
   },
   {
    "duration": 743,
    "start_time": "2023-05-09T10:07:07.813Z"
   },
   {
    "duration": 296,
    "start_time": "2023-05-09T10:07:23.628Z"
   },
   {
    "duration": 448,
    "start_time": "2023-05-09T10:09:44.435Z"
   },
   {
    "duration": 4517,
    "start_time": "2023-05-09T10:09:55.418Z"
   },
   {
    "duration": 108,
    "start_time": "2023-05-09T10:12:07.507Z"
   },
   {
    "duration": 5027,
    "start_time": "2023-05-09T10:12:18.791Z"
   },
   {
    "duration": 2310,
    "start_time": "2023-05-09T11:38:49.683Z"
   },
   {
    "duration": 1399,
    "start_time": "2023-05-09T11:38:51.996Z"
   },
   {
    "duration": 3,
    "start_time": "2023-05-09T11:38:53.397Z"
   },
   {
    "duration": 41,
    "start_time": "2023-05-09T11:38:53.403Z"
   },
   {
    "duration": 996,
    "start_time": "2023-05-09T11:38:53.447Z"
   },
   {
    "duration": 1386,
    "start_time": "2023-05-09T11:38:54.445Z"
   },
   {
    "duration": 63,
    "start_time": "2023-05-09T11:38:55.833Z"
   },
   {
    "duration": 18,
    "start_time": "2023-05-09T11:38:55.898Z"
   },
   {
    "duration": 39,
    "start_time": "2023-05-09T11:38:55.918Z"
   },
   {
    "duration": 1955,
    "start_time": "2023-05-09T11:38:55.960Z"
   },
   {
    "duration": 12,
    "start_time": "2023-05-09T11:38:57.917Z"
   },
   {
    "duration": 59,
    "start_time": "2023-05-09T11:38:57.931Z"
   },
   {
    "duration": 27,
    "start_time": "2023-05-09T11:38:57.992Z"
   },
   {
    "duration": 27,
    "start_time": "2023-05-09T11:38:58.021Z"
   },
   {
    "duration": 950,
    "start_time": "2023-05-09T11:38:58.050Z"
   },
   {
    "duration": 1939,
    "start_time": "2023-05-09T11:38:59.002Z"
   },
   {
    "duration": 61,
    "start_time": "2023-05-09T11:39:00.942Z"
   },
   {
    "duration": 444,
    "start_time": "2023-05-09T11:39:01.005Z"
   },
   {
    "duration": 15,
    "start_time": "2023-05-09T11:39:01.450Z"
   },
   {
    "duration": 58,
    "start_time": "2023-05-09T11:39:01.467Z"
   },
   {
    "duration": 17,
    "start_time": "2023-05-09T11:39:01.528Z"
   },
   {
    "duration": 37,
    "start_time": "2023-05-09T11:39:01.547Z"
   },
   {
    "duration": 21,
    "start_time": "2023-05-09T11:39:01.586Z"
   },
   {
    "duration": 67,
    "start_time": "2023-05-09T11:39:01.609Z"
   },
   {
    "duration": 1459,
    "start_time": "2023-05-09T11:39:01.678Z"
   },
   {
    "duration": 13,
    "start_time": "2023-05-09T11:39:03.138Z"
   },
   {
    "duration": 48,
    "start_time": "2023-05-09T11:39:03.153Z"
   },
   {
    "duration": 16,
    "start_time": "2023-05-09T11:39:03.204Z"
   },
   {
    "duration": 16452,
    "start_time": "2023-05-09T11:39:03.221Z"
   },
   {
    "duration": 9,
    "start_time": "2023-05-09T11:39:19.675Z"
   },
   {
    "duration": 45,
    "start_time": "2023-05-09T11:39:19.685Z"
   },
   {
    "duration": 2711,
    "start_time": "2023-05-09T11:39:19.731Z"
   },
   {
    "duration": 12,
    "start_time": "2023-05-09T11:39:22.444Z"
   },
   {
    "duration": 56,
    "start_time": "2023-05-09T11:39:22.458Z"
   },
   {
    "duration": 304,
    "start_time": "2023-05-09T11:39:22.515Z"
   },
   {
    "duration": 13742,
    "start_time": "2023-05-09T11:39:22.820Z"
   },
   {
    "duration": 68,
    "start_time": "2023-05-09T11:39:36.563Z"
   },
   {
    "duration": 10,
    "start_time": "2023-05-09T11:39:36.632Z"
   },
   {
    "duration": 7,
    "start_time": "2023-05-09T11:39:36.643Z"
   },
   {
    "duration": 4,
    "start_time": "2023-05-09T11:39:36.652Z"
   },
   {
    "duration": 127,
    "start_time": "2023-05-09T11:39:36.658Z"
   },
   {
    "duration": 0,
    "start_time": "2023-05-09T11:39:36.787Z"
   },
   {
    "duration": 11,
    "start_time": "2023-05-09T11:44:57.514Z"
   },
   {
    "duration": 88,
    "start_time": "2023-05-09T11:54:02.675Z"
   },
   {
    "duration": 96,
    "start_time": "2023-05-09T11:54:42.714Z"
   },
   {
    "duration": 95,
    "start_time": "2023-05-09T11:54:57.968Z"
   },
   {
    "duration": 25,
    "start_time": "2023-05-09T11:55:18.790Z"
   },
   {
    "duration": 10,
    "start_time": "2023-05-09T12:15:10.942Z"
   },
   {
    "duration": 27,
    "start_time": "2023-05-09T12:25:50.472Z"
   },
   {
    "duration": 4,
    "start_time": "2023-05-09T12:26:53.039Z"
   },
   {
    "duration": 91,
    "start_time": "2023-05-09T12:49:21.301Z"
   },
   {
    "duration": 86,
    "start_time": "2023-05-09T12:49:48.696Z"
   },
   {
    "duration": 28,
    "start_time": "2023-05-09T12:52:47.404Z"
   },
   {
    "duration": 59,
    "start_time": "2023-05-09T12:53:04.515Z"
   },
   {
    "duration": 43,
    "start_time": "2023-05-09T12:56:42.857Z"
   },
   {
    "duration": 22,
    "start_time": "2023-05-09T12:57:08.739Z"
   },
   {
    "duration": 35,
    "start_time": "2023-05-09T12:57:52.639Z"
   },
   {
    "duration": 32,
    "start_time": "2023-05-09T12:58:28.548Z"
   },
   {
    "duration": 47,
    "start_time": "2023-05-09T12:59:17.076Z"
   },
   {
    "duration": 18,
    "start_time": "2023-05-09T12:59:34.200Z"
   },
   {
    "duration": 6,
    "start_time": "2023-05-09T13:00:37.866Z"
   },
   {
    "duration": 14,
    "start_time": "2023-05-09T13:03:14.155Z"
   },
   {
    "duration": 17,
    "start_time": "2023-05-09T13:04:07.365Z"
   },
   {
    "duration": 26,
    "start_time": "2023-05-09T13:04:16.967Z"
   },
   {
    "duration": 17,
    "start_time": "2023-05-09T13:05:50.141Z"
   },
   {
    "duration": 16,
    "start_time": "2023-05-09T13:06:45.641Z"
   },
   {
    "duration": 22,
    "start_time": "2023-05-09T13:06:59.849Z"
   },
   {
    "duration": 23,
    "start_time": "2023-05-09T13:07:04.691Z"
   },
   {
    "duration": 19,
    "start_time": "2023-05-09T13:07:16.316Z"
   },
   {
    "duration": 2472,
    "start_time": "2023-05-09T13:43:53.123Z"
   },
   {
    "duration": 1487,
    "start_time": "2023-05-09T13:43:55.600Z"
   },
   {
    "duration": 11,
    "start_time": "2023-05-09T13:43:57.088Z"
   },
   {
    "duration": 23,
    "start_time": "2023-05-09T13:43:57.102Z"
   },
   {
    "duration": 971,
    "start_time": "2023-05-09T13:43:57.126Z"
   },
   {
    "duration": 1476,
    "start_time": "2023-05-09T13:43:58.103Z"
   },
   {
    "duration": 53,
    "start_time": "2023-05-09T13:43:59.583Z"
   },
   {
    "duration": 16,
    "start_time": "2023-05-09T13:43:59.638Z"
   },
   {
    "duration": 64,
    "start_time": "2023-05-09T13:43:59.656Z"
   },
   {
    "duration": 2398,
    "start_time": "2023-05-09T13:43:59.723Z"
   },
   {
    "duration": 12,
    "start_time": "2023-05-09T13:44:02.123Z"
   },
   {
    "duration": 65,
    "start_time": "2023-05-09T13:44:02.138Z"
   },
   {
    "duration": 36,
    "start_time": "2023-05-09T13:44:02.205Z"
   },
   {
    "duration": 25,
    "start_time": "2023-05-09T13:44:02.242Z"
   },
   {
    "duration": 987,
    "start_time": "2023-05-09T13:44:02.287Z"
   },
   {
    "duration": 2122,
    "start_time": "2023-05-09T13:44:03.275Z"
   },
   {
    "duration": 102,
    "start_time": "2023-05-09T13:44:05.400Z"
   },
   {
    "duration": 487,
    "start_time": "2023-05-09T13:44:05.504Z"
   },
   {
    "duration": 23,
    "start_time": "2023-05-09T13:44:05.995Z"
   },
   {
    "duration": 125,
    "start_time": "2023-05-09T13:44:06.019Z"
   },
   {
    "duration": 15,
    "start_time": "2023-05-09T13:44:06.146Z"
   },
   {
    "duration": 36,
    "start_time": "2023-05-09T13:44:06.163Z"
   },
   {
    "duration": 24,
    "start_time": "2023-05-09T13:44:06.201Z"
   },
   {
    "duration": 45,
    "start_time": "2023-05-09T13:44:06.227Z"
   },
   {
    "duration": 1645,
    "start_time": "2023-05-09T13:44:06.274Z"
   },
   {
    "duration": 16,
    "start_time": "2023-05-09T13:44:07.921Z"
   },
   {
    "duration": 65,
    "start_time": "2023-05-09T13:44:07.939Z"
   },
   {
    "duration": 14,
    "start_time": "2023-05-09T13:44:08.008Z"
   },
   {
    "duration": 20192,
    "start_time": "2023-05-09T13:44:08.024Z"
   },
   {
    "duration": 8,
    "start_time": "2023-05-09T13:44:28.218Z"
   },
   {
    "duration": 73,
    "start_time": "2023-05-09T13:44:28.228Z"
   },
   {
    "duration": 3146,
    "start_time": "2023-05-09T13:44:28.303Z"
   },
   {
    "duration": 14,
    "start_time": "2023-05-09T13:44:31.451Z"
   },
   {
    "duration": 111,
    "start_time": "2023-05-09T13:44:31.467Z"
   },
   {
    "duration": 330,
    "start_time": "2023-05-09T13:44:31.580Z"
   },
   {
    "duration": 15189,
    "start_time": "2023-05-09T13:44:31.911Z"
   },
   {
    "duration": 78,
    "start_time": "2023-05-09T13:44:47.102Z"
   },
   {
    "duration": 0,
    "start_time": "2023-05-09T13:44:47.182Z"
   },
   {
    "duration": 14,
    "start_time": "2023-05-09T13:45:07.625Z"
   },
   {
    "duration": 68,
    "start_time": "2023-05-09T13:45:14.177Z"
   },
   {
    "duration": 520,
    "start_time": "2023-05-09T14:01:43.917Z"
   },
   {
    "duration": 128,
    "start_time": "2023-05-09T14:01:57.322Z"
   },
   {
    "duration": 12,
    "start_time": "2023-05-09T14:05:45.367Z"
   },
   {
    "duration": 4,
    "start_time": "2023-05-09T14:06:08.901Z"
   },
   {
    "duration": 225,
    "start_time": "2023-05-09T14:06:15.272Z"
   },
   {
    "duration": 2599,
    "start_time": "2023-05-09T14:06:34.727Z"
   },
   {
    "duration": 1574,
    "start_time": "2023-05-09T14:06:37.329Z"
   },
   {
    "duration": 3,
    "start_time": "2023-05-09T14:06:38.905Z"
   },
   {
    "duration": 20,
    "start_time": "2023-05-09T14:06:38.910Z"
   },
   {
    "duration": 893,
    "start_time": "2023-05-09T14:06:38.931Z"
   },
   {
    "duration": 1622,
    "start_time": "2023-05-09T14:06:39.827Z"
   },
   {
    "duration": 73,
    "start_time": "2023-05-09T14:06:41.451Z"
   },
   {
    "duration": 16,
    "start_time": "2023-05-09T14:06:41.526Z"
   },
   {
    "duration": 61,
    "start_time": "2023-05-09T14:06:41.543Z"
   },
   {
    "duration": 2035,
    "start_time": "2023-05-09T14:06:41.609Z"
   },
   {
    "duration": 11,
    "start_time": "2023-05-09T14:06:43.646Z"
   },
   {
    "duration": 55,
    "start_time": "2023-05-09T14:06:43.659Z"
   },
   {
    "duration": 27,
    "start_time": "2023-05-09T14:06:43.716Z"
   },
   {
    "duration": 55,
    "start_time": "2023-05-09T14:06:43.744Z"
   },
   {
    "duration": 904,
    "start_time": "2023-05-09T14:06:43.801Z"
   },
   {
    "duration": 1957,
    "start_time": "2023-05-09T14:06:44.707Z"
   },
   {
    "duration": 70,
    "start_time": "2023-05-09T14:06:46.666Z"
   },
   {
    "duration": 434,
    "start_time": "2023-05-09T14:06:46.738Z"
   },
   {
    "duration": 26,
    "start_time": "2023-05-09T14:06:47.173Z"
   },
   {
    "duration": 42,
    "start_time": "2023-05-09T14:06:47.201Z"
   },
   {
    "duration": 15,
    "start_time": "2023-05-09T14:06:47.245Z"
   },
   {
    "duration": 36,
    "start_time": "2023-05-09T14:06:47.261Z"
   },
   {
    "duration": 7,
    "start_time": "2023-05-09T14:06:47.299Z"
   },
   {
    "duration": 22,
    "start_time": "2023-05-09T14:06:47.308Z"
   },
   {
    "duration": 1596,
    "start_time": "2023-05-09T14:06:47.332Z"
   },
   {
    "duration": 13,
    "start_time": "2023-05-09T14:06:48.930Z"
   },
   {
    "duration": 49,
    "start_time": "2023-05-09T14:06:48.945Z"
   },
   {
    "duration": 12,
    "start_time": "2023-05-09T14:06:48.998Z"
   },
   {
    "duration": 18513,
    "start_time": "2023-05-09T14:06:49.011Z"
   },
   {
    "duration": 7,
    "start_time": "2023-05-09T14:07:07.526Z"
   },
   {
    "duration": 65,
    "start_time": "2023-05-09T14:07:07.535Z"
   },
   {
    "duration": 3049,
    "start_time": "2023-05-09T14:07:07.601Z"
   },
   {
    "duration": 18,
    "start_time": "2023-05-09T14:07:10.652Z"
   },
   {
    "duration": 81,
    "start_time": "2023-05-09T14:07:10.672Z"
   },
   {
    "duration": 362,
    "start_time": "2023-05-09T14:07:10.754Z"
   },
   {
    "duration": 14647,
    "start_time": "2023-05-09T14:07:11.117Z"
   },
   {
    "duration": 31,
    "start_time": "2023-05-09T14:07:25.766Z"
   },
   {
    "duration": 500,
    "start_time": "2023-05-09T14:07:25.801Z"
   },
   {
    "duration": 208,
    "start_time": "2023-05-09T14:07:26.303Z"
   },
   {
    "duration": 241,
    "start_time": "2023-05-09T14:07:26.512Z"
   },
   {
    "duration": 24,
    "start_time": "2023-05-09T14:46:54.593Z"
   },
   {
    "duration": 24980,
    "start_time": "2023-05-09T14:46:58.106Z"
   },
   {
    "duration": 306,
    "start_time": "2023-05-09T14:47:23.088Z"
   },
   {
    "duration": 8,
    "start_time": "2023-05-09T14:47:23.485Z"
   },
   {
    "duration": 189,
    "start_time": "2023-05-09T14:56:35.744Z"
   },
   {
    "duration": 36,
    "start_time": "2023-05-09T14:57:08.221Z"
   },
   {
    "duration": 87,
    "start_time": "2023-05-09T14:57:17.805Z"
   },
   {
    "duration": 4,
    "start_time": "2023-05-09T14:57:36.796Z"
   },
   {
    "duration": 362540,
    "start_time": "2023-05-09T14:57:40.960Z"
   },
   {
    "duration": 49569175,
    "start_time": "2023-05-09T15:08:04.863Z"
   },
   {
    "duration": 2195,
    "start_time": "2023-05-10T06:25:49.031Z"
   },
   {
    "duration": 1490,
    "start_time": "2023-05-10T06:25:51.229Z"
   },
   {
    "duration": 3,
    "start_time": "2023-05-10T06:25:52.722Z"
   },
   {
    "duration": 36,
    "start_time": "2023-05-10T06:25:52.728Z"
   },
   {
    "duration": 911,
    "start_time": "2023-05-10T06:25:52.766Z"
   },
   {
    "duration": 1424,
    "start_time": "2023-05-10T06:25:53.679Z"
   },
   {
    "duration": 53,
    "start_time": "2023-05-10T06:25:55.106Z"
   },
   {
    "duration": 27,
    "start_time": "2023-05-10T06:25:55.161Z"
   },
   {
    "duration": 57,
    "start_time": "2023-05-10T06:25:55.190Z"
   },
   {
    "duration": 2089,
    "start_time": "2023-05-10T06:25:55.250Z"
   },
   {
    "duration": 11,
    "start_time": "2023-05-10T06:25:57.341Z"
   },
   {
    "duration": 116,
    "start_time": "2023-05-10T06:25:57.353Z"
   },
   {
    "duration": 38,
    "start_time": "2023-05-10T06:25:57.471Z"
   },
   {
    "duration": 25,
    "start_time": "2023-05-10T06:25:57.510Z"
   },
   {
    "duration": 912,
    "start_time": "2023-05-10T06:25:57.536Z"
   },
   {
    "duration": 1903,
    "start_time": "2023-05-10T06:25:58.450Z"
   },
   {
    "duration": 71,
    "start_time": "2023-05-10T06:26:00.354Z"
   },
   {
    "duration": 508,
    "start_time": "2023-05-10T06:26:00.427Z"
   },
   {
    "duration": 15,
    "start_time": "2023-05-10T06:26:00.936Z"
   },
   {
    "duration": 78,
    "start_time": "2023-05-10T06:26:00.953Z"
   },
   {
    "duration": 31,
    "start_time": "2023-05-10T06:26:01.033Z"
   },
   {
    "duration": 64,
    "start_time": "2023-05-10T06:26:01.065Z"
   },
   {
    "duration": 25,
    "start_time": "2023-05-10T06:26:01.131Z"
   },
   {
    "duration": 50,
    "start_time": "2023-05-10T06:26:01.157Z"
   },
   {
    "duration": 1721,
    "start_time": "2023-05-10T06:26:01.209Z"
   },
   {
    "duration": 14,
    "start_time": "2023-05-10T06:26:02.932Z"
   },
   {
    "duration": 55,
    "start_time": "2023-05-10T06:26:02.947Z"
   },
   {
    "duration": 23,
    "start_time": "2023-05-10T06:26:03.006Z"
   },
   {
    "duration": 18407,
    "start_time": "2023-05-10T06:26:03.031Z"
   },
   {
    "duration": 6,
    "start_time": "2023-05-10T06:26:21.440Z"
   },
   {
    "duration": 75,
    "start_time": "2023-05-10T06:26:21.448Z"
   },
   {
    "duration": 2814,
    "start_time": "2023-05-10T06:26:21.524Z"
   },
   {
    "duration": 12,
    "start_time": "2023-05-10T06:26:24.340Z"
   },
   {
    "duration": 73,
    "start_time": "2023-05-10T06:26:24.354Z"
   },
   {
    "duration": 337,
    "start_time": "2023-05-10T06:26:24.429Z"
   },
   {
    "duration": 14228,
    "start_time": "2023-05-10T06:26:24.767Z"
   },
   {
    "duration": 19,
    "start_time": "2023-05-10T06:26:38.998Z"
   },
   {
    "duration": 542,
    "start_time": "2023-05-10T06:26:39.019Z"
   },
   {
    "duration": 217,
    "start_time": "2023-05-10T06:26:39.563Z"
   },
   {
    "duration": 260,
    "start_time": "2023-05-10T06:26:39.785Z"
   },
   {
    "duration": 53156,
    "start_time": "2023-05-10T06:26:40.047Z"
   },
   {
    "duration": 391,
    "start_time": "2023-05-10T06:27:33.209Z"
   },
   {
    "duration": 82,
    "start_time": "2023-05-10T06:27:33.606Z"
   },
   {
    "duration": 6768882,
    "start_time": "2023-05-10T06:27:33.690Z"
   },
   {
    "duration": 3,
    "start_time": "2023-05-10T08:39:40.220Z"
   },
   {
    "duration": 30,
    "start_time": "2023-05-10T17:31:15.300Z"
   },
   {
    "duration": 131461,
    "start_time": "2023-05-10T17:34:53.564Z"
   },
   {
    "duration": 20,
    "start_time": "2023-05-10T17:39:35.875Z"
   },
   {
    "duration": 126176,
    "start_time": "2023-05-10T17:39:43.640Z"
   },
   {
    "duration": 2189,
    "start_time": "2023-05-10T17:43:48.886Z"
   },
   {
    "duration": 1545,
    "start_time": "2023-05-10T17:43:51.078Z"
   },
   {
    "duration": 3,
    "start_time": "2023-05-10T17:43:52.624Z"
   },
   {
    "duration": 26,
    "start_time": "2023-05-10T17:43:52.629Z"
   },
   {
    "duration": 1427,
    "start_time": "2023-05-10T17:43:52.656Z"
   },
   {
    "duration": 1335,
    "start_time": "2023-05-10T17:43:54.085Z"
   },
   {
    "duration": 46,
    "start_time": "2023-05-10T17:43:55.424Z"
   },
   {
    "duration": 21,
    "start_time": "2023-05-10T17:43:55.472Z"
   },
   {
    "duration": 59,
    "start_time": "2023-05-10T17:43:55.494Z"
   },
   {
    "duration": 2286,
    "start_time": "2023-05-10T17:43:55.558Z"
   },
   {
    "duration": 12,
    "start_time": "2023-05-10T17:43:57.846Z"
   },
   {
    "duration": 55,
    "start_time": "2023-05-10T17:43:57.859Z"
   },
   {
    "duration": 25,
    "start_time": "2023-05-10T17:43:57.916Z"
   },
   {
    "duration": 27,
    "start_time": "2023-05-10T17:43:57.943Z"
   },
   {
    "duration": 933,
    "start_time": "2023-05-10T17:43:57.972Z"
   },
   {
    "duration": 1906,
    "start_time": "2023-05-10T17:43:58.907Z"
   },
   {
    "duration": 61,
    "start_time": "2023-05-10T17:44:00.815Z"
   },
   {
    "duration": 543,
    "start_time": "2023-05-10T17:44:00.877Z"
   },
   {
    "duration": 15,
    "start_time": "2023-05-10T17:44:01.425Z"
   },
   {
    "duration": 112,
    "start_time": "2023-05-10T17:44:01.441Z"
   },
   {
    "duration": 20,
    "start_time": "2023-05-10T17:44:01.555Z"
   },
   {
    "duration": 34,
    "start_time": "2023-05-10T17:44:01.576Z"
   },
   {
    "duration": 22,
    "start_time": "2023-05-10T17:44:01.612Z"
   },
   {
    "duration": 52,
    "start_time": "2023-05-10T17:44:01.637Z"
   },
   {
    "duration": 1773,
    "start_time": "2023-05-10T17:44:01.691Z"
   },
   {
    "duration": 13,
    "start_time": "2023-05-10T17:44:03.466Z"
   },
   {
    "duration": 62,
    "start_time": "2023-05-10T17:44:03.481Z"
   },
   {
    "duration": 12,
    "start_time": "2023-05-10T17:44:03.547Z"
   },
   {
    "duration": 16994,
    "start_time": "2023-05-10T17:44:03.560Z"
   },
   {
    "duration": 8,
    "start_time": "2023-05-10T17:44:20.555Z"
   },
   {
    "duration": 64,
    "start_time": "2023-05-10T17:44:20.564Z"
   },
   {
    "duration": 2895,
    "start_time": "2023-05-10T17:44:20.630Z"
   },
   {
    "duration": 19,
    "start_time": "2023-05-10T17:44:23.527Z"
   },
   {
    "duration": 54,
    "start_time": "2023-05-10T17:44:23.548Z"
   },
   {
    "duration": 321,
    "start_time": "2023-05-10T17:44:23.603Z"
   },
   {
    "duration": 14261,
    "start_time": "2023-05-10T17:44:23.926Z"
   },
   {
    "duration": 18,
    "start_time": "2023-05-10T17:44:38.189Z"
   },
   {
    "duration": 514,
    "start_time": "2023-05-10T17:44:38.225Z"
   },
   {
    "duration": 211,
    "start_time": "2023-05-10T17:44:38.741Z"
   },
   {
    "duration": 242,
    "start_time": "2023-05-10T17:44:38.954Z"
   },
   {
    "duration": 3,
    "start_time": "2023-05-10T17:44:39.198Z"
   },
   {
    "duration": 131750,
    "start_time": "2023-05-10T17:44:39.203Z"
   },
   {
    "duration": 3,
    "start_time": "2023-05-10T17:46:50.954Z"
   },
   {
    "duration": 19965,
    "start_time": "2023-05-10T17:46:50.960Z"
   },
   {
    "duration": 305,
    "start_time": "2023-05-10T17:47:10.926Z"
   },
   {
    "duration": 221,
    "start_time": "2023-05-10T17:47:11.324Z"
   },
   {
    "duration": 0,
    "start_time": "2023-05-10T17:47:11.546Z"
   },
   {
    "duration": 6,
    "start_time": "2023-05-10T18:01:04.028Z"
   },
   {
    "duration": 4,
    "start_time": "2023-05-10T18:18:20.088Z"
   },
   {
    "duration": 4,
    "start_time": "2023-05-10T18:18:51.896Z"
   },
   {
    "duration": 10,
    "start_time": "2023-05-10T18:18:57.645Z"
   },
   {
    "duration": 9,
    "start_time": "2023-05-10T18:19:03.534Z"
   },
   {
    "duration": 34667,
    "start_time": "2023-05-10T18:19:58.879Z"
   },
   {
    "duration": 36308,
    "start_time": "2023-05-10T18:21:00.319Z"
   },
   {
    "duration": 3,
    "start_time": "2023-05-10T18:21:43.120Z"
   },
   {
    "duration": 5,
    "start_time": "2023-05-10T18:21:46.318Z"
   },
   {
    "duration": 4,
    "start_time": "2023-05-10T18:21:57.600Z"
   },
   {
    "duration": 5,
    "start_time": "2023-05-10T18:22:01.705Z"
   },
   {
    "duration": 10,
    "start_time": "2023-05-10T18:22:08.601Z"
   },
   {
    "duration": 5,
    "start_time": "2023-05-10T18:22:15.011Z"
   },
   {
    "duration": 4,
    "start_time": "2023-05-10T18:22:29.357Z"
   },
   {
    "duration": 5,
    "start_time": "2023-05-10T18:22:40.003Z"
   },
   {
    "duration": 3,
    "start_time": "2023-05-10T18:27:06.825Z"
   },
   {
    "duration": 12,
    "start_time": "2023-05-10T18:27:15.870Z"
   },
   {
    "duration": 11,
    "start_time": "2023-05-10T18:29:21.934Z"
   },
   {
    "duration": 13,
    "start_time": "2023-05-10T18:29:29.029Z"
   },
   {
    "duration": 6,
    "start_time": "2023-05-10T18:31:21.053Z"
   },
   {
    "duration": 7,
    "start_time": "2023-05-10T18:31:36.713Z"
   },
   {
    "duration": 10,
    "start_time": "2023-05-10T18:31:51.297Z"
   },
   {
    "duration": 10,
    "start_time": "2023-05-10T18:32:05.984Z"
   },
   {
    "duration": 2199,
    "start_time": "2023-05-10T18:36:34.810Z"
   },
   {
    "duration": 1446,
    "start_time": "2023-05-10T18:36:37.011Z"
   },
   {
    "duration": 3,
    "start_time": "2023-05-10T18:36:38.459Z"
   },
   {
    "duration": 42,
    "start_time": "2023-05-10T18:36:38.464Z"
   },
   {
    "duration": 854,
    "start_time": "2023-05-10T18:36:38.508Z"
   },
   {
    "duration": 1228,
    "start_time": "2023-05-10T18:36:39.364Z"
   },
   {
    "duration": 54,
    "start_time": "2023-05-10T18:36:40.594Z"
   },
   {
    "duration": 11,
    "start_time": "2023-05-10T18:36:40.650Z"
   },
   {
    "duration": 39,
    "start_time": "2023-05-10T18:36:40.663Z"
   },
   {
    "duration": 2161,
    "start_time": "2023-05-10T18:36:40.705Z"
   },
   {
    "duration": 12,
    "start_time": "2023-05-10T18:36:42.867Z"
   },
   {
    "duration": 45,
    "start_time": "2023-05-10T18:36:42.881Z"
   },
   {
    "duration": 26,
    "start_time": "2023-05-10T18:36:42.927Z"
   },
   {
    "duration": 25,
    "start_time": "2023-05-10T18:36:42.954Z"
   },
   {
    "duration": 890,
    "start_time": "2023-05-10T18:36:42.981Z"
   },
   {
    "duration": 1889,
    "start_time": "2023-05-10T18:36:43.872Z"
   },
   {
    "duration": 63,
    "start_time": "2023-05-10T18:36:45.762Z"
   },
   {
    "duration": 430,
    "start_time": "2023-05-10T18:36:45.827Z"
   },
   {
    "duration": 16,
    "start_time": "2023-05-10T18:36:46.258Z"
   },
   {
    "duration": 38,
    "start_time": "2023-05-10T18:36:46.275Z"
   },
   {
    "duration": 16,
    "start_time": "2023-05-10T18:36:46.315Z"
   },
   {
    "duration": 28,
    "start_time": "2023-05-10T18:36:46.333Z"
   },
   {
    "duration": 7,
    "start_time": "2023-05-10T18:36:46.362Z"
   },
   {
    "duration": 31,
    "start_time": "2023-05-10T18:36:46.371Z"
   },
   {
    "duration": 1473,
    "start_time": "2023-05-10T18:36:46.404Z"
   },
   {
    "duration": 13,
    "start_time": "2023-05-10T18:36:47.878Z"
   },
   {
    "duration": 41,
    "start_time": "2023-05-10T18:36:47.892Z"
   },
   {
    "duration": 12,
    "start_time": "2023-05-10T18:36:47.936Z"
   },
   {
    "duration": 16114,
    "start_time": "2023-05-10T18:36:47.950Z"
   },
   {
    "duration": 7,
    "start_time": "2023-05-10T18:37:04.065Z"
   },
   {
    "duration": 62,
    "start_time": "2023-05-10T18:37:04.073Z"
   },
   {
    "duration": 2748,
    "start_time": "2023-05-10T18:37:04.136Z"
   },
   {
    "duration": 13,
    "start_time": "2023-05-10T18:37:06.885Z"
   },
   {
    "duration": 61,
    "start_time": "2023-05-10T18:37:06.900Z"
   },
   {
    "duration": 347,
    "start_time": "2023-05-10T18:37:06.962Z"
   },
   {
    "duration": 13599,
    "start_time": "2023-05-10T18:37:07.311Z"
   },
   {
    "duration": 25,
    "start_time": "2023-05-10T18:37:20.912Z"
   },
   {
    "duration": 473,
    "start_time": "2023-05-10T18:37:20.938Z"
   },
   {
    "duration": 191,
    "start_time": "2023-05-10T18:37:21.413Z"
   },
   {
    "duration": 221,
    "start_time": "2023-05-10T18:37:21.605Z"
   },
   {
    "duration": 3,
    "start_time": "2023-05-10T18:37:21.827Z"
   },
   {
    "duration": 124034,
    "start_time": "2023-05-10T18:37:21.831Z"
   },
   {
    "duration": 17171,
    "start_time": "2023-05-10T18:39:25.867Z"
   },
   {
    "duration": 6,
    "start_time": "2023-05-10T18:39:43.128Z"
   },
   {
    "duration": 12,
    "start_time": "2023-05-10T18:39:43.224Z"
   },
   {
    "duration": 14,
    "start_time": "2023-05-10T18:39:43.238Z"
   },
   {
    "duration": 15975,
    "start_time": "2023-05-10T18:39:43.253Z"
   },
   {
    "duration": 396,
    "start_time": "2023-05-10T18:39:59.229Z"
   },
   {
    "duration": 5,
    "start_time": "2023-05-10T18:39:59.627Z"
   },
   {
    "duration": 21,
    "start_time": "2023-05-10T18:39:59.634Z"
   },
   {
    "duration": 2214,
    "start_time": "2023-05-10T18:47:23.717Z"
   },
   {
    "duration": 1430,
    "start_time": "2023-05-10T18:47:25.934Z"
   },
   {
    "duration": 2,
    "start_time": "2023-05-10T18:47:27.366Z"
   },
   {
    "duration": 24,
    "start_time": "2023-05-10T18:47:27.371Z"
   },
   {
    "duration": 798,
    "start_time": "2023-05-10T18:47:27.397Z"
   },
   {
    "duration": 1242,
    "start_time": "2023-05-10T18:47:28.197Z"
   },
   {
    "duration": 48,
    "start_time": "2023-05-10T18:47:29.441Z"
   },
   {
    "duration": 20,
    "start_time": "2023-05-10T18:47:29.490Z"
   },
   {
    "duration": 47,
    "start_time": "2023-05-10T18:47:29.511Z"
   },
   {
    "duration": 2040,
    "start_time": "2023-05-10T18:47:29.560Z"
   },
   {
    "duration": 13,
    "start_time": "2023-05-10T18:47:31.602Z"
   },
   {
    "duration": 39,
    "start_time": "2023-05-10T18:47:31.625Z"
   },
   {
    "duration": 26,
    "start_time": "2023-05-10T18:47:31.666Z"
   },
   {
    "duration": 48,
    "start_time": "2023-05-10T18:47:31.694Z"
   },
   {
    "duration": 888,
    "start_time": "2023-05-10T18:47:31.743Z"
   },
   {
    "duration": 1793,
    "start_time": "2023-05-10T18:47:32.633Z"
   },
   {
    "duration": 55,
    "start_time": "2023-05-10T18:47:34.428Z"
   },
   {
    "duration": 446,
    "start_time": "2023-05-10T18:47:34.484Z"
   },
   {
    "duration": 18,
    "start_time": "2023-05-10T18:47:34.933Z"
   },
   {
    "duration": 48,
    "start_time": "2023-05-10T18:47:34.954Z"
   },
   {
    "duration": 34,
    "start_time": "2023-05-10T18:47:35.004Z"
   },
   {
    "duration": 54,
    "start_time": "2023-05-10T18:47:35.039Z"
   },
   {
    "duration": 6,
    "start_time": "2023-05-10T18:47:35.095Z"
   },
   {
    "duration": 27,
    "start_time": "2023-05-10T18:47:35.102Z"
   },
   {
    "duration": 1701,
    "start_time": "2023-05-10T18:47:35.131Z"
   },
   {
    "duration": 13,
    "start_time": "2023-05-10T18:47:36.834Z"
   },
   {
    "duration": 32,
    "start_time": "2023-05-10T18:47:36.848Z"
   },
   {
    "duration": 12,
    "start_time": "2023-05-10T18:47:36.883Z"
   },
   {
    "duration": 16560,
    "start_time": "2023-05-10T18:47:36.897Z"
   },
   {
    "duration": 8,
    "start_time": "2023-05-10T18:47:53.459Z"
   },
   {
    "duration": 63,
    "start_time": "2023-05-10T18:47:53.469Z"
   },
   {
    "duration": 2749,
    "start_time": "2023-05-10T18:47:53.534Z"
   },
   {
    "duration": 13,
    "start_time": "2023-05-10T18:47:56.285Z"
   },
   {
    "duration": 68,
    "start_time": "2023-05-10T18:47:56.300Z"
   },
   {
    "duration": 377,
    "start_time": "2023-05-10T18:47:56.370Z"
   },
   {
    "duration": 14045,
    "start_time": "2023-05-10T18:47:56.749Z"
   },
   {
    "duration": 32,
    "start_time": "2023-05-10T18:48:10.795Z"
   },
   {
    "duration": 517,
    "start_time": "2023-05-10T18:48:10.830Z"
   },
   {
    "duration": 196,
    "start_time": "2023-05-10T18:48:11.349Z"
   },
   {
    "duration": 231,
    "start_time": "2023-05-10T18:48:11.546Z"
   },
   {
    "duration": 3,
    "start_time": "2023-05-10T18:48:11.778Z"
   },
   {
    "duration": 128002,
    "start_time": "2023-05-10T18:48:11.782Z"
   },
   {
    "duration": 0,
    "start_time": "2023-05-10T18:50:19.786Z"
   },
   {
    "duration": 0,
    "start_time": "2023-05-10T18:50:19.788Z"
   },
   {
    "duration": 0,
    "start_time": "2023-05-10T18:50:19.789Z"
   },
   {
    "duration": 0,
    "start_time": "2023-05-10T18:50:19.791Z"
   },
   {
    "duration": 0,
    "start_time": "2023-05-10T18:50:19.793Z"
   },
   {
    "duration": 0,
    "start_time": "2023-05-10T18:50:19.794Z"
   },
   {
    "duration": 0,
    "start_time": "2023-05-10T18:50:19.796Z"
   },
   {
    "duration": 0,
    "start_time": "2023-05-10T18:50:19.798Z"
   },
   {
    "duration": 21,
    "start_time": "2023-05-10T18:58:57.298Z"
   },
   {
    "duration": 136641,
    "start_time": "2023-05-10T18:59:05.700Z"
   },
   {
    "duration": 29591,
    "start_time": "2023-05-10T19:02:05.957Z"
   },
   {
    "duration": 4,
    "start_time": "2023-05-10T19:02:54.705Z"
   },
   {
    "duration": 18,
    "start_time": "2023-05-10T19:03:05.044Z"
   },
   {
    "duration": 25,
    "start_time": "2023-05-10T19:24:01.025Z"
   },
   {
    "duration": 127624,
    "start_time": "2023-05-10T19:24:09.563Z"
   },
   {
    "duration": 32040,
    "start_time": "2023-05-10T19:26:17.189Z"
   },
   {
    "duration": 8,
    "start_time": "2023-05-10T19:26:49.235Z"
   },
   {
    "duration": 2313,
    "start_time": "2023-05-10T19:27:35.570Z"
   },
   {
    "duration": 1363,
    "start_time": "2023-05-10T19:27:37.885Z"
   },
   {
    "duration": 3,
    "start_time": "2023-05-10T19:27:39.249Z"
   },
   {
    "duration": 32,
    "start_time": "2023-05-10T19:27:39.254Z"
   },
   {
    "duration": 931,
    "start_time": "2023-05-10T19:27:39.288Z"
   },
   {
    "duration": 1274,
    "start_time": "2023-05-10T19:27:40.228Z"
   },
   {
    "duration": 59,
    "start_time": "2023-05-10T19:27:41.504Z"
   },
   {
    "duration": 25,
    "start_time": "2023-05-10T19:27:41.564Z"
   },
   {
    "duration": 65,
    "start_time": "2023-05-10T19:27:41.590Z"
   },
   {
    "duration": 2120,
    "start_time": "2023-05-10T19:27:41.658Z"
   },
   {
    "duration": 11,
    "start_time": "2023-05-10T19:27:43.780Z"
   },
   {
    "duration": 59,
    "start_time": "2023-05-10T19:27:43.792Z"
   },
   {
    "duration": 26,
    "start_time": "2023-05-10T19:27:43.853Z"
   },
   {
    "duration": 24,
    "start_time": "2023-05-10T19:27:43.881Z"
   },
   {
    "duration": 932,
    "start_time": "2023-05-10T19:27:43.906Z"
   },
   {
    "duration": 1868,
    "start_time": "2023-05-10T19:27:44.840Z"
   },
   {
    "duration": 63,
    "start_time": "2023-05-10T19:27:46.709Z"
   },
   {
    "duration": 454,
    "start_time": "2023-05-10T19:27:46.773Z"
   },
   {
    "duration": 20,
    "start_time": "2023-05-10T19:27:47.230Z"
   },
   {
    "duration": 44,
    "start_time": "2023-05-10T19:27:47.252Z"
   },
   {
    "duration": 15,
    "start_time": "2023-05-10T19:27:47.298Z"
   },
   {
    "duration": 15,
    "start_time": "2023-05-10T19:27:47.329Z"
   },
   {
    "duration": 7,
    "start_time": "2023-05-10T19:27:47.346Z"
   },
   {
    "duration": 22,
    "start_time": "2023-05-10T19:27:47.355Z"
   },
   {
    "duration": 1569,
    "start_time": "2023-05-10T19:27:47.379Z"
   },
   {
    "duration": 14,
    "start_time": "2023-05-10T19:27:48.950Z"
   },
   {
    "duration": 34,
    "start_time": "2023-05-10T19:27:48.966Z"
   },
   {
    "duration": 36,
    "start_time": "2023-05-10T19:27:49.003Z"
   },
   {
    "duration": 18008,
    "start_time": "2023-05-10T19:27:49.040Z"
   },
   {
    "duration": 5,
    "start_time": "2023-05-10T19:28:07.050Z"
   },
   {
    "duration": 48,
    "start_time": "2023-05-10T19:28:07.057Z"
   },
   {
    "duration": 2859,
    "start_time": "2023-05-10T19:28:07.106Z"
   },
   {
    "duration": 12,
    "start_time": "2023-05-10T19:28:09.967Z"
   },
   {
    "duration": 67,
    "start_time": "2023-05-10T19:28:09.981Z"
   },
   {
    "duration": 322,
    "start_time": "2023-05-10T19:28:10.050Z"
   },
   {
    "duration": 14540,
    "start_time": "2023-05-10T19:28:10.374Z"
   },
   {
    "duration": 28,
    "start_time": "2023-05-10T19:28:24.916Z"
   },
   {
    "duration": 490,
    "start_time": "2023-05-10T19:28:24.946Z"
   },
   {
    "duration": 208,
    "start_time": "2023-05-10T19:28:25.438Z"
   },
   {
    "duration": 226,
    "start_time": "2023-05-10T19:28:25.648Z"
   },
   {
    "duration": 3,
    "start_time": "2023-05-10T19:28:25.876Z"
   },
   {
    "duration": 132616,
    "start_time": "2023-05-10T19:28:25.880Z"
   },
   {
    "duration": 28651,
    "start_time": "2023-05-10T19:30:38.498Z"
   },
   {
    "duration": 79,
    "start_time": "2023-05-10T19:31:07.151Z"
   },
   {
    "duration": 124,
    "start_time": "2023-05-10T19:31:07.238Z"
   },
   {
    "duration": 134,
    "start_time": "2023-05-10T19:31:07.364Z"
   },
   {
    "duration": 0,
    "start_time": "2023-05-10T19:31:07.499Z"
   },
   {
    "duration": 0,
    "start_time": "2023-05-10T19:31:07.500Z"
   },
   {
    "duration": 0,
    "start_time": "2023-05-10T19:31:07.501Z"
   },
   {
    "duration": 0,
    "start_time": "2023-05-10T19:31:07.502Z"
   },
   {
    "duration": 21,
    "start_time": "2023-05-10T20:29:44.048Z"
   },
   {
    "duration": 3,
    "start_time": "2023-05-10T20:30:23.823Z"
   },
   {
    "duration": 10,
    "start_time": "2023-05-10T20:30:34.910Z"
   },
   {
    "duration": 15635,
    "start_time": "2023-05-10T20:31:00.110Z"
   },
   {
    "duration": 3,
    "start_time": "2023-05-10T20:31:17.655Z"
   },
   {
    "duration": 4,
    "start_time": "2023-05-10T20:31:25.933Z"
   },
   {
    "duration": 3668,
    "start_time": "2023-05-11T04:52:45.345Z"
   },
   {
    "duration": 1689,
    "start_time": "2023-05-11T04:52:49.024Z"
   },
   {
    "duration": 7,
    "start_time": "2023-05-11T04:52:50.715Z"
   },
   {
    "duration": 32,
    "start_time": "2023-05-11T04:52:50.728Z"
   },
   {
    "duration": 3314,
    "start_time": "2023-05-11T04:52:50.762Z"
   },
   {
    "duration": 1380,
    "start_time": "2023-05-11T04:52:54.078Z"
   },
   {
    "duration": 47,
    "start_time": "2023-05-11T04:52:55.461Z"
   },
   {
    "duration": 37,
    "start_time": "2023-05-11T04:52:55.510Z"
   },
   {
    "duration": 38,
    "start_time": "2023-05-11T04:52:55.548Z"
   },
   {
    "duration": 2250,
    "start_time": "2023-05-11T04:52:55.588Z"
   },
   {
    "duration": 12,
    "start_time": "2023-05-11T04:52:57.839Z"
   },
   {
    "duration": 46,
    "start_time": "2023-05-11T04:52:57.852Z"
   },
   {
    "duration": 35,
    "start_time": "2023-05-11T04:52:57.900Z"
   },
   {
    "duration": 53,
    "start_time": "2023-05-11T04:52:57.936Z"
   },
   {
    "duration": 948,
    "start_time": "2023-05-11T04:52:57.991Z"
   },
   {
    "duration": 2089,
    "start_time": "2023-05-11T04:52:58.940Z"
   },
   {
    "duration": 71,
    "start_time": "2023-05-11T04:53:01.031Z"
   },
   {
    "duration": 482,
    "start_time": "2023-05-11T04:53:01.105Z"
   },
   {
    "duration": 32,
    "start_time": "2023-05-11T04:53:01.594Z"
   },
   {
    "duration": 112,
    "start_time": "2023-05-11T04:53:01.628Z"
   },
   {
    "duration": 93,
    "start_time": "2023-05-11T04:53:01.742Z"
   },
   {
    "duration": 32,
    "start_time": "2023-05-11T04:53:01.838Z"
   },
   {
    "duration": 11,
    "start_time": "2023-05-11T04:53:01.871Z"
   },
   {
    "duration": 67,
    "start_time": "2023-05-11T04:53:01.884Z"
   },
   {
    "duration": 1747,
    "start_time": "2023-05-11T04:53:01.953Z"
   },
   {
    "duration": 29,
    "start_time": "2023-05-11T04:53:03.703Z"
   },
   {
    "duration": 129,
    "start_time": "2023-05-11T04:53:03.733Z"
   },
   {
    "duration": 13,
    "start_time": "2023-05-11T04:53:03.866Z"
   },
   {
    "duration": 19637,
    "start_time": "2023-05-11T04:53:03.881Z"
   },
   {
    "duration": 9,
    "start_time": "2023-05-11T04:53:23.525Z"
   },
   {
    "duration": 46,
    "start_time": "2023-05-11T04:53:23.535Z"
   },
   {
    "duration": 3119,
    "start_time": "2023-05-11T04:53:23.583Z"
   },
   {
    "duration": 21,
    "start_time": "2023-05-11T04:53:26.709Z"
   },
   {
    "duration": 60,
    "start_time": "2023-05-11T04:53:26.731Z"
   },
   {
    "duration": 308,
    "start_time": "2023-05-11T04:53:26.793Z"
   },
   {
    "duration": 15799,
    "start_time": "2023-05-11T04:53:27.103Z"
   },
   {
    "duration": 25,
    "start_time": "2023-05-11T04:53:42.904Z"
   },
   {
    "duration": 529,
    "start_time": "2023-05-11T04:53:42.931Z"
   },
   {
    "duration": 257,
    "start_time": "2023-05-11T04:53:43.462Z"
   },
   {
    "duration": 237,
    "start_time": "2023-05-11T04:53:43.723Z"
   },
   {
    "duration": 3,
    "start_time": "2023-05-11T04:53:43.961Z"
   },
   {
    "duration": 146489,
    "start_time": "2023-05-11T04:53:43.965Z"
   },
   {
    "duration": 0,
    "start_time": "2023-05-11T04:56:10.456Z"
   },
   {
    "duration": 0,
    "start_time": "2023-05-11T04:56:10.458Z"
   },
   {
    "duration": 0,
    "start_time": "2023-05-11T04:56:10.459Z"
   },
   {
    "duration": 0,
    "start_time": "2023-05-11T04:56:10.460Z"
   },
   {
    "duration": 0,
    "start_time": "2023-05-11T04:56:10.461Z"
   },
   {
    "duration": 0,
    "start_time": "2023-05-11T04:56:10.463Z"
   },
   {
    "duration": 0,
    "start_time": "2023-05-11T04:56:10.464Z"
   },
   {
    "duration": 0,
    "start_time": "2023-05-11T04:56:10.465Z"
   },
   {
    "duration": 30,
    "start_time": "2023-05-11T04:59:02.535Z"
   },
   {
    "duration": 146826,
    "start_time": "2023-05-11T04:59:10.564Z"
   },
   {
    "duration": 75456,
    "start_time": "2023-05-11T05:01:48.081Z"
   },
   {
    "duration": 10,
    "start_time": "2023-05-11T05:03:03.611Z"
   },
   {
    "duration": 113,
    "start_time": "2023-05-11T05:03:03.630Z"
   },
   {
    "duration": 64,
    "start_time": "2023-05-11T05:03:03.746Z"
   },
   {
    "duration": 22,
    "start_time": "2023-05-11T05:06:22.854Z"
   },
   {
    "duration": 86370,
    "start_time": "2023-05-11T05:06:31.029Z"
   },
   {
    "duration": 4,
    "start_time": "2023-05-11T05:08:19.862Z"
   },
   {
    "duration": 2607,
    "start_time": "2023-05-11T05:08:54.145Z"
   },
   {
    "duration": 1595,
    "start_time": "2023-05-11T05:08:56.754Z"
   },
   {
    "duration": 3,
    "start_time": "2023-05-11T05:08:58.351Z"
   },
   {
    "duration": 54,
    "start_time": "2023-05-11T05:08:58.356Z"
   },
   {
    "duration": 913,
    "start_time": "2023-05-11T05:08:58.420Z"
   },
   {
    "duration": 1574,
    "start_time": "2023-05-11T05:08:59.336Z"
   },
   {
    "duration": 45,
    "start_time": "2023-05-11T05:09:00.925Z"
   },
   {
    "duration": 63,
    "start_time": "2023-05-11T05:09:00.972Z"
   },
   {
    "duration": 84,
    "start_time": "2023-05-11T05:09:01.036Z"
   },
   {
    "duration": 2362,
    "start_time": "2023-05-11T05:09:01.123Z"
   },
   {
    "duration": 41,
    "start_time": "2023-05-11T05:09:03.487Z"
   },
   {
    "duration": 44,
    "start_time": "2023-05-11T05:09:03.531Z"
   },
   {
    "duration": 40,
    "start_time": "2023-05-11T05:09:03.577Z"
   },
   {
    "duration": 35,
    "start_time": "2023-05-11T05:09:03.626Z"
   },
   {
    "duration": 1121,
    "start_time": "2023-05-11T05:09:03.664Z"
   },
   {
    "duration": 2193,
    "start_time": "2023-05-11T05:09:04.787Z"
   },
   {
    "duration": 82,
    "start_time": "2023-05-11T05:09:06.982Z"
   },
   {
    "duration": 541,
    "start_time": "2023-05-11T05:09:07.067Z"
   },
   {
    "duration": 27,
    "start_time": "2023-05-11T05:09:07.610Z"
   },
   {
    "duration": 35,
    "start_time": "2023-05-11T05:09:07.639Z"
   },
   {
    "duration": 32,
    "start_time": "2023-05-11T05:09:07.676Z"
   },
   {
    "duration": 47,
    "start_time": "2023-05-11T05:09:07.710Z"
   },
   {
    "duration": 6,
    "start_time": "2023-05-11T05:09:07.758Z"
   },
   {
    "duration": 58,
    "start_time": "2023-05-11T05:09:07.766Z"
   },
   {
    "duration": 1745,
    "start_time": "2023-05-11T05:09:07.831Z"
   },
   {
    "duration": 34,
    "start_time": "2023-05-11T05:09:09.579Z"
   },
   {
    "duration": 48,
    "start_time": "2023-05-11T05:09:09.620Z"
   },
   {
    "duration": 12,
    "start_time": "2023-05-11T05:09:09.672Z"
   },
   {
    "duration": 21195,
    "start_time": "2023-05-11T05:09:09.686Z"
   },
   {
    "duration": 23,
    "start_time": "2023-05-11T05:09:30.883Z"
   },
   {
    "duration": 124,
    "start_time": "2023-05-11T05:09:30.909Z"
   },
   {
    "duration": 3662,
    "start_time": "2023-05-11T05:09:31.035Z"
   },
   {
    "duration": 35,
    "start_time": "2023-05-11T05:09:34.699Z"
   },
   {
    "duration": 100,
    "start_time": "2023-05-11T05:09:34.736Z"
   },
   {
    "duration": 414,
    "start_time": "2023-05-11T05:09:34.839Z"
   },
   {
    "duration": 16760,
    "start_time": "2023-05-11T05:09:35.255Z"
   },
   {
    "duration": 23,
    "start_time": "2023-05-11T05:09:52.023Z"
   },
   {
    "duration": 515,
    "start_time": "2023-05-11T05:09:52.047Z"
   },
   {
    "duration": 216,
    "start_time": "2023-05-11T05:09:52.564Z"
   },
   {
    "duration": 269,
    "start_time": "2023-05-11T05:09:52.782Z"
   },
   {
    "duration": 3,
    "start_time": "2023-05-11T05:09:53.053Z"
   },
   {
    "duration": 147309,
    "start_time": "2023-05-11T05:09:53.057Z"
   },
   {
    "duration": 75963,
    "start_time": "2023-05-11T05:12:20.367Z"
   },
   {
    "duration": 70,
    "start_time": "2023-05-11T05:13:36.340Z"
   },
   {
    "duration": 46,
    "start_time": "2023-05-11T05:13:36.420Z"
   },
   {
    "duration": 15,
    "start_time": "2023-05-11T05:13:36.468Z"
   },
   {
    "duration": 72350,
    "start_time": "2023-05-11T05:13:36.485Z"
   },
   {
    "duration": 364,
    "start_time": "2023-05-11T05:14:48.837Z"
   },
   {
    "duration": 11,
    "start_time": "2023-05-11T05:14:49.204Z"
   },
   {
    "duration": 112,
    "start_time": "2023-05-11T05:14:49.218Z"
   },
   {
    "duration": 3477,
    "start_time": "2023-05-11T15:02:56.107Z"
   },
   {
    "duration": 1754,
    "start_time": "2023-05-11T15:02:59.586Z"
   },
   {
    "duration": 2,
    "start_time": "2023-05-11T15:03:01.342Z"
   },
   {
    "duration": 43,
    "start_time": "2023-05-11T15:03:01.347Z"
   },
   {
    "duration": 1504,
    "start_time": "2023-05-11T15:03:01.392Z"
   },
   {
    "duration": 1252,
    "start_time": "2023-05-11T15:03:02.898Z"
   },
   {
    "duration": 49,
    "start_time": "2023-05-11T15:03:04.152Z"
   },
   {
    "duration": 13,
    "start_time": "2023-05-11T15:03:04.203Z"
   },
   {
    "duration": 72,
    "start_time": "2023-05-11T15:03:04.218Z"
   },
   {
    "duration": 2338,
    "start_time": "2023-05-11T15:03:04.293Z"
   },
   {
    "duration": 28,
    "start_time": "2023-05-11T15:03:06.633Z"
   },
   {
    "duration": 45,
    "start_time": "2023-05-11T15:03:06.671Z"
   },
   {
    "duration": 29,
    "start_time": "2023-05-11T15:03:06.718Z"
   },
   {
    "duration": 29,
    "start_time": "2023-05-11T15:03:06.750Z"
   },
   {
    "duration": 1042,
    "start_time": "2023-05-11T15:03:06.781Z"
   },
   {
    "duration": 2101,
    "start_time": "2023-05-11T15:03:07.824Z"
   },
   {
    "duration": 70,
    "start_time": "2023-05-11T15:03:09.927Z"
   },
   {
    "duration": 519,
    "start_time": "2023-05-11T15:03:09.999Z"
   },
   {
    "duration": 14,
    "start_time": "2023-05-11T15:03:10.521Z"
   },
   {
    "duration": 51,
    "start_time": "2023-05-11T15:03:10.536Z"
   },
   {
    "duration": 13,
    "start_time": "2023-05-11T15:03:10.589Z"
   },
   {
    "duration": 24,
    "start_time": "2023-05-11T15:03:10.604Z"
   },
   {
    "duration": 7,
    "start_time": "2023-05-11T15:03:10.629Z"
   },
   {
    "duration": 49,
    "start_time": "2023-05-11T15:03:10.638Z"
   },
   {
    "duration": 1706,
    "start_time": "2023-05-11T15:03:10.689Z"
   },
   {
    "duration": 12,
    "start_time": "2023-05-11T15:03:12.396Z"
   },
   {
    "duration": 53,
    "start_time": "2023-05-11T15:03:12.411Z"
   },
   {
    "duration": 34,
    "start_time": "2023-05-11T15:03:12.470Z"
   },
   {
    "duration": 22227,
    "start_time": "2023-05-11T15:03:12.511Z"
   },
   {
    "duration": 16,
    "start_time": "2023-05-11T15:03:34.740Z"
   },
   {
    "duration": 53,
    "start_time": "2023-05-11T15:03:34.758Z"
   },
   {
    "duration": 3750,
    "start_time": "2023-05-11T15:03:34.813Z"
   },
   {
    "duration": 32,
    "start_time": "2023-05-11T15:03:38.567Z"
   },
   {
    "duration": 42,
    "start_time": "2023-05-11T15:03:38.601Z"
   },
   {
    "duration": 343,
    "start_time": "2023-05-11T15:03:38.645Z"
   },
   {
    "duration": 17759,
    "start_time": "2023-05-11T15:03:38.990Z"
   },
   {
    "duration": 22,
    "start_time": "2023-05-11T15:03:56.755Z"
   },
   {
    "duration": 601,
    "start_time": "2023-05-11T15:03:56.779Z"
   },
   {
    "duration": 235,
    "start_time": "2023-05-11T15:03:57.382Z"
   },
   {
    "duration": 287,
    "start_time": "2023-05-11T15:03:57.620Z"
   },
   {
    "duration": 3,
    "start_time": "2023-05-11T15:03:57.910Z"
   },
   {
    "duration": 158910,
    "start_time": "2023-05-11T15:03:57.915Z"
   },
   {
    "duration": 34722,
    "start_time": "2023-05-11T15:06:36.828Z"
   },
   {
    "duration": 223,
    "start_time": "2023-05-11T15:07:11.554Z"
   },
   {
    "duration": 0,
    "start_time": "2023-05-11T15:07:11.782Z"
   },
   {
    "duration": 0,
    "start_time": "2023-05-11T15:07:11.783Z"
   },
   {
    "duration": 0,
    "start_time": "2023-05-11T15:07:11.787Z"
   },
   {
    "duration": 0,
    "start_time": "2023-05-11T15:07:11.790Z"
   },
   {
    "duration": 0,
    "start_time": "2023-05-11T15:07:11.791Z"
   },
   {
    "duration": 0,
    "start_time": "2023-05-11T15:07:11.793Z"
   },
   {
    "duration": 2,
    "start_time": "2023-05-11T15:16:25.995Z"
   },
   {
    "duration": 5,
    "start_time": "2023-05-11T15:16:27.508Z"
   },
   {
    "duration": 20,
    "start_time": "2023-05-11T15:16:28.488Z"
   },
   {
    "duration": 10,
    "start_time": "2023-05-11T15:17:05.672Z"
   },
   {
    "duration": 45874,
    "start_time": "2023-05-11T15:17:05.684Z"
   },
   {
    "duration": 394,
    "start_time": "2023-05-11T15:17:51.564Z"
   },
   {
    "duration": 13,
    "start_time": "2023-05-11T15:17:51.965Z"
   },
   {
    "duration": 7,
    "start_time": "2023-05-11T16:08:44.795Z"
   },
   {
    "duration": 16,
    "start_time": "2023-05-11T16:08:53.968Z"
   },
   {
    "duration": 13,
    "start_time": "2023-05-11T16:12:45.216Z"
   },
   {
    "duration": 9,
    "start_time": "2023-05-11T16:13:15.314Z"
   },
   {
    "duration": 10,
    "start_time": "2023-05-11T16:13:43.923Z"
   },
   {
    "duration": 11,
    "start_time": "2023-05-11T16:15:10.885Z"
   },
   {
    "duration": 12,
    "start_time": "2023-05-11T16:15:23.096Z"
   },
   {
    "duration": 20,
    "start_time": "2023-05-11T16:17:16.374Z"
   },
   {
    "duration": 5,
    "start_time": "2023-05-11T16:20:33.706Z"
   },
   {
    "duration": 12,
    "start_time": "2023-05-11T16:20:42.915Z"
   },
   {
    "duration": 13,
    "start_time": "2023-05-11T16:21:00.200Z"
   },
   {
    "duration": 14283203,
    "start_time": "2023-05-11T16:21:27.565Z"
   },
   {
    "duration": 26,
    "start_time": "2023-05-11T20:19:35.052Z"
   },
   {
    "duration": 13,
    "start_time": "2023-05-11T20:19:59.398Z"
   },
   {
    "duration": 21,
    "start_time": "2023-05-11T20:22:44.976Z"
   },
   {
    "duration": 0,
    "start_time": "2023-05-11T20:23:32.238Z"
   },
   {
    "duration": 6,
    "start_time": "2023-05-11T20:23:48.022Z"
   },
   {
    "duration": 2173,
    "start_time": "2023-05-11T20:24:10.007Z"
   },
   {
    "duration": 1557,
    "start_time": "2023-05-11T20:24:12.183Z"
   },
   {
    "duration": 3,
    "start_time": "2023-05-11T20:24:13.742Z"
   },
   {
    "duration": 43,
    "start_time": "2023-05-11T20:24:13.748Z"
   },
   {
    "duration": 880,
    "start_time": "2023-05-11T20:24:13.792Z"
   },
   {
    "duration": 1247,
    "start_time": "2023-05-11T20:24:14.682Z"
   },
   {
    "duration": 67,
    "start_time": "2023-05-11T20:24:15.931Z"
   },
   {
    "duration": 11,
    "start_time": "2023-05-11T20:24:16.000Z"
   },
   {
    "duration": 34,
    "start_time": "2023-05-11T20:24:16.013Z"
   },
   {
    "duration": 2260,
    "start_time": "2023-05-11T20:24:16.051Z"
   },
   {
    "duration": 11,
    "start_time": "2023-05-11T20:24:18.313Z"
   },
   {
    "duration": 50,
    "start_time": "2023-05-11T20:24:18.326Z"
   },
   {
    "duration": 29,
    "start_time": "2023-05-11T20:24:18.380Z"
   },
   {
    "duration": 25,
    "start_time": "2023-05-11T20:24:18.410Z"
   },
   {
    "duration": 869,
    "start_time": "2023-05-11T20:24:18.437Z"
   },
   {
    "duration": 1961,
    "start_time": "2023-05-11T20:24:19.308Z"
   },
   {
    "duration": 56,
    "start_time": "2023-05-11T20:24:21.271Z"
   },
   {
    "duration": 490,
    "start_time": "2023-05-11T20:24:21.328Z"
   },
   {
    "duration": 12,
    "start_time": "2023-05-11T20:24:21.819Z"
   },
   {
    "duration": 44,
    "start_time": "2023-05-11T20:24:21.832Z"
   },
   {
    "duration": 18,
    "start_time": "2023-05-11T20:24:21.884Z"
   },
   {
    "duration": 17,
    "start_time": "2023-05-11T20:24:21.904Z"
   },
   {
    "duration": 5,
    "start_time": "2023-05-11T20:24:21.923Z"
   },
   {
    "duration": 42,
    "start_time": "2023-05-11T20:24:21.929Z"
   },
   {
    "duration": 1764,
    "start_time": "2023-05-11T20:24:21.973Z"
   },
   {
    "duration": 22,
    "start_time": "2023-05-11T20:24:23.739Z"
   },
   {
    "duration": 44,
    "start_time": "2023-05-11T20:24:23.763Z"
   },
   {
    "duration": 11,
    "start_time": "2023-05-11T20:24:23.810Z"
   },
   {
    "duration": 20217,
    "start_time": "2023-05-11T20:24:23.822Z"
   },
   {
    "duration": 20,
    "start_time": "2023-05-11T20:24:44.040Z"
   },
   {
    "duration": 58,
    "start_time": "2023-05-11T20:24:44.062Z"
   },
   {
    "duration": 3402,
    "start_time": "2023-05-11T20:24:44.122Z"
   },
   {
    "duration": 12,
    "start_time": "2023-05-11T20:24:47.526Z"
   },
   {
    "duration": 72,
    "start_time": "2023-05-11T20:24:47.540Z"
   },
   {
    "duration": 346,
    "start_time": "2023-05-11T20:24:47.614Z"
   },
   {
    "duration": 16080,
    "start_time": "2023-05-11T20:24:47.961Z"
   },
   {
    "duration": 29,
    "start_time": "2023-05-11T20:25:04.043Z"
   },
   {
    "duration": 606,
    "start_time": "2023-05-11T20:25:04.074Z"
   },
   {
    "duration": 209,
    "start_time": "2023-05-11T20:25:04.681Z"
   },
   {
    "duration": 247,
    "start_time": "2023-05-11T20:25:04.894Z"
   },
   {
    "duration": 3,
    "start_time": "2023-05-11T20:25:05.143Z"
   },
   {
    "duration": 146860,
    "start_time": "2023-05-11T20:25:05.154Z"
   },
   {
    "duration": 56570,
    "start_time": "2023-05-11T20:27:32.016Z"
   },
   {
    "duration": 63,
    "start_time": "2023-05-11T20:28:28.591Z"
   },
   {
    "duration": 0,
    "start_time": "2023-05-11T20:28:28.659Z"
   },
   {
    "duration": 0,
    "start_time": "2023-05-11T20:28:28.660Z"
   },
   {
    "duration": 0,
    "start_time": "2023-05-11T20:28:28.661Z"
   },
   {
    "duration": 0,
    "start_time": "2023-05-11T20:28:28.661Z"
   },
   {
    "duration": 0,
    "start_time": "2023-05-11T20:28:28.662Z"
   },
   {
    "duration": 0,
    "start_time": "2023-05-11T20:28:28.663Z"
   },
   {
    "duration": 0,
    "start_time": "2023-05-11T20:28:28.665Z"
   },
   {
    "duration": 27857,
    "start_time": "2023-05-11T20:29:44.841Z"
   },
   {
    "duration": 18196,
    "start_time": "2023-05-11T20:30:17.182Z"
   },
   {
    "duration": 2284776,
    "start_time": "2023-05-11T20:48:19.192Z"
   },
   {
    "duration": 5684,
    "start_time": "2023-05-12T03:32:59.090Z"
   },
   {
    "duration": 5596,
    "start_time": "2023-05-12T03:33:49.864Z"
   },
   {
    "duration": 4,
    "start_time": "2023-05-12T03:38:03.091Z"
   },
   {
    "duration": 5,
    "start_time": "2023-05-12T03:40:18.104Z"
   },
   {
    "duration": 11,
    "start_time": "2023-05-12T03:40:26.357Z"
   },
   {
    "duration": 9641,
    "start_time": "2023-05-12T03:41:23.144Z"
   },
   {
    "duration": 166440,
    "start_time": "2023-05-12T03:43:25.858Z"
   },
   {
    "duration": 2775,
    "start_time": "2023-05-12T03:49:02.134Z"
   },
   {
    "duration": 4,
    "start_time": "2023-05-12T03:50:26.459Z"
   },
   {
    "duration": 10,
    "start_time": "2023-05-12T03:54:10.229Z"
   },
   {
    "duration": 12,
    "start_time": "2023-05-12T03:54:17.541Z"
   },
   {
    "duration": 46,
    "start_time": "2023-05-12T06:15:07.487Z"
   },
   {
    "duration": 19,
    "start_time": "2023-05-12T06:16:11.119Z"
   },
   {
    "duration": 20,
    "start_time": "2023-05-12T07:14:45.392Z"
   },
   {
    "duration": 159,
    "start_time": "2023-05-12T07:14:48.806Z"
   },
   {
    "duration": 192,
    "start_time": "2023-05-12T07:14:53.940Z"
   },
   {
    "duration": 78,
    "start_time": "2023-05-12T07:15:18.731Z"
   },
   {
    "duration": 333145,
    "start_time": "2023-05-12T07:21:41.441Z"
   },
   {
    "duration": 2597,
    "start_time": "2023-05-12T07:28:19.141Z"
   },
   {
    "duration": 8293,
    "start_time": "2023-05-12T07:29:09.641Z"
   },
   {
    "duration": 6,
    "start_time": "2023-05-12T07:29:36.492Z"
   },
   {
    "duration": 16,
    "start_time": "2023-05-12T07:29:43.330Z"
   },
   {
    "duration": 33,
    "start_time": "2023-05-12T07:30:11.689Z"
   },
   {
    "duration": 3352,
    "start_time": "2023-05-12T07:58:32.688Z"
   },
   {
    "duration": 2317,
    "start_time": "2023-05-12T07:58:36.043Z"
   },
   {
    "duration": 14,
    "start_time": "2023-05-12T07:58:38.363Z"
   },
   {
    "duration": 49,
    "start_time": "2023-05-12T07:58:38.380Z"
   },
   {
    "duration": 1236,
    "start_time": "2023-05-12T07:58:38.431Z"
   },
   {
    "duration": 1860,
    "start_time": "2023-05-12T07:58:39.682Z"
   },
   {
    "duration": 64,
    "start_time": "2023-05-12T07:58:41.547Z"
   },
   {
    "duration": 21,
    "start_time": "2023-05-12T07:58:41.617Z"
   },
   {
    "duration": 76,
    "start_time": "2023-05-12T07:58:41.643Z"
   },
   {
    "duration": 3257,
    "start_time": "2023-05-12T07:58:41.728Z"
   },
   {
    "duration": 47,
    "start_time": "2023-05-12T07:58:45.003Z"
   },
   {
    "duration": 78,
    "start_time": "2023-05-12T07:58:45.069Z"
   },
   {
    "duration": 72,
    "start_time": "2023-05-12T07:58:45.152Z"
   },
   {
    "duration": 48,
    "start_time": "2023-05-12T07:58:45.230Z"
   },
   {
    "duration": 1303,
    "start_time": "2023-05-12T07:58:45.285Z"
   },
   {
    "duration": 3068,
    "start_time": "2023-05-12T07:58:46.592Z"
   },
   {
    "duration": 122,
    "start_time": "2023-05-12T07:58:49.672Z"
   },
   {
    "duration": 738,
    "start_time": "2023-05-12T07:58:49.795Z"
   },
   {
    "duration": 27,
    "start_time": "2023-05-12T07:58:50.540Z"
   },
   {
    "duration": 45,
    "start_time": "2023-05-12T07:58:50.573Z"
   },
   {
    "duration": 25,
    "start_time": "2023-05-12T07:58:50.624Z"
   },
   {
    "duration": 32,
    "start_time": "2023-05-12T07:58:50.653Z"
   },
   {
    "duration": 12,
    "start_time": "2023-05-12T07:58:50.692Z"
   },
   {
    "duration": 32,
    "start_time": "2023-05-12T07:58:50.710Z"
   },
   {
    "duration": 2724,
    "start_time": "2023-05-12T07:58:50.750Z"
   },
   {
    "duration": 30,
    "start_time": "2023-05-12T07:58:53.476Z"
   },
   {
    "duration": 97,
    "start_time": "2023-05-12T07:58:53.523Z"
   },
   {
    "duration": 32,
    "start_time": "2023-05-12T07:58:53.632Z"
   },
   {
    "duration": 28801,
    "start_time": "2023-05-12T07:58:53.677Z"
   },
   {
    "duration": 30,
    "start_time": "2023-05-12T07:59:22.480Z"
   },
   {
    "duration": 198,
    "start_time": "2023-05-12T07:59:22.512Z"
   },
   {
    "duration": 4981,
    "start_time": "2023-05-12T07:59:22.715Z"
   },
   {
    "duration": 32,
    "start_time": "2023-05-12T07:59:27.698Z"
   },
   {
    "duration": 124,
    "start_time": "2023-05-12T07:59:27.732Z"
   },
   {
    "duration": 522,
    "start_time": "2023-05-12T07:59:27.860Z"
   },
   {
    "duration": 23520,
    "start_time": "2023-05-12T07:59:28.389Z"
   },
   {
    "duration": 54,
    "start_time": "2023-05-12T07:59:51.920Z"
   },
   {
    "duration": 774,
    "start_time": "2023-05-12T07:59:51.983Z"
   },
   {
    "duration": 257,
    "start_time": "2023-05-12T07:59:52.759Z"
   },
   {
    "duration": 354,
    "start_time": "2023-05-12T07:59:53.018Z"
   },
   {
    "duration": 8,
    "start_time": "2023-05-12T07:59:53.374Z"
   },
   {
    "duration": 7872831,
    "start_time": "2023-05-12T07:59:53.384Z"
   },
   {
    "duration": 145448,
    "start_time": "2023-05-12T10:11:06.217Z"
   },
   {
    "duration": 52479,
    "start_time": "2023-05-12T10:13:31.671Z"
   },
   {
    "duration": 15265307,
    "start_time": "2023-05-12T10:14:24.153Z"
   },
   {
    "duration": 5506,
    "start_time": "2023-05-12T14:28:49.462Z"
   },
   {
    "duration": 182355,
    "start_time": "2023-05-12T14:28:54.970Z"
   },
   {
    "duration": 3168,
    "start_time": "2023-05-12T14:31:57.327Z"
   },
   {
    "duration": 19,
    "start_time": "2023-05-12T14:32:00.497Z"
   },
   {
    "duration": 157,
    "start_time": "2023-05-12T14:32:00.517Z"
   },
   {
    "duration": 57,
    "start_time": "2023-05-12T14:32:00.676Z"
   },
   {
    "duration": 214140,
    "start_time": "2023-05-12T14:32:00.735Z"
   },
   {
    "duration": 4831,
    "start_time": "2023-05-12T14:35:34.877Z"
   },
   {
    "duration": 5,
    "start_time": "2023-05-12T14:35:39.709Z"
   },
   {
    "duration": 26,
    "start_time": "2023-05-12T14:35:39.715Z"
   },
   {
    "duration": 28,
    "start_time": "2023-05-12T14:35:39.743Z"
   },
   {
    "duration": 15,
    "start_time": "2023-05-12T14:35:39.773Z"
   },
   {
    "duration": 11,
    "start_time": "2023-05-12T14:38:37.077Z"
   },
   {
    "duration": 42,
    "start_time": "2023-05-12T17:39:41.416Z"
   },
   {
    "duration": 45,
    "start_time": "2023-05-12T17:50:05.649Z"
   },
   {
    "duration": 7,
    "start_time": "2023-05-12T18:03:48.017Z"
   },
   {
    "duration": 11,
    "start_time": "2023-05-12T18:03:53.415Z"
   },
   {
    "duration": 186,
    "start_time": "2023-05-12T18:33:56.461Z"
   },
   {
    "duration": 3660,
    "start_time": "2023-05-14T13:16:20.828Z"
   },
   {
    "duration": 2058,
    "start_time": "2023-05-14T13:16:24.491Z"
   },
   {
    "duration": 3,
    "start_time": "2023-05-14T13:16:26.551Z"
   },
   {
    "duration": 43,
    "start_time": "2023-05-14T13:16:26.558Z"
   },
   {
    "duration": 3204,
    "start_time": "2023-05-14T13:16:26.602Z"
   },
   {
    "duration": 1491,
    "start_time": "2023-05-14T13:16:29.808Z"
   },
   {
    "duration": 105,
    "start_time": "2023-05-14T13:16:31.301Z"
   },
   {
    "duration": 52,
    "start_time": "2023-05-14T13:16:31.409Z"
   },
   {
    "duration": 66,
    "start_time": "2023-05-14T13:16:31.463Z"
   },
   {
    "duration": 2369,
    "start_time": "2023-05-14T13:16:31.532Z"
   },
   {
    "duration": 15,
    "start_time": "2023-05-14T13:16:33.903Z"
   },
   {
    "duration": 49,
    "start_time": "2023-05-14T13:16:33.920Z"
   },
   {
    "duration": 49,
    "start_time": "2023-05-14T13:16:33.971Z"
   },
   {
    "duration": 35,
    "start_time": "2023-05-14T13:16:34.022Z"
   },
   {
    "duration": 1083,
    "start_time": "2023-05-14T13:16:34.059Z"
   },
   {
    "duration": 2143,
    "start_time": "2023-05-14T13:16:35.144Z"
   },
   {
    "duration": 68,
    "start_time": "2023-05-14T13:16:37.289Z"
   },
   {
    "duration": 515,
    "start_time": "2023-05-14T13:16:37.359Z"
   },
   {
    "duration": 23,
    "start_time": "2023-05-14T13:16:37.876Z"
   },
   {
    "duration": 50,
    "start_time": "2023-05-14T13:16:37.902Z"
   },
   {
    "duration": 43,
    "start_time": "2023-05-14T13:16:37.954Z"
   },
   {
    "duration": 23,
    "start_time": "2023-05-14T13:16:37.999Z"
   },
   {
    "duration": 6,
    "start_time": "2023-05-14T13:16:38.024Z"
   },
   {
    "duration": 37,
    "start_time": "2023-05-14T13:16:38.032Z"
   },
   {
    "duration": 1703,
    "start_time": "2023-05-14T13:16:38.071Z"
   },
   {
    "duration": 22,
    "start_time": "2023-05-14T13:16:39.776Z"
   },
   {
    "duration": 33,
    "start_time": "2023-05-14T13:16:39.800Z"
   },
   {
    "duration": 16,
    "start_time": "2023-05-14T13:16:39.838Z"
   },
   {
    "duration": 20141,
    "start_time": "2023-05-14T13:16:39.856Z"
   },
   {
    "duration": 10,
    "start_time": "2023-05-14T13:16:59.999Z"
   },
   {
    "duration": 80,
    "start_time": "2023-05-14T13:17:00.012Z"
   },
   {
    "duration": 3360,
    "start_time": "2023-05-14T13:17:00.094Z"
   },
   {
    "duration": 17,
    "start_time": "2023-05-14T13:17:03.457Z"
   },
   {
    "duration": 71,
    "start_time": "2023-05-14T13:17:03.476Z"
   },
   {
    "duration": 382,
    "start_time": "2023-05-14T13:17:03.549Z"
   },
   {
    "duration": 16467,
    "start_time": "2023-05-14T13:17:03.933Z"
   },
   {
    "duration": 21,
    "start_time": "2023-05-14T13:17:20.402Z"
   },
   {
    "duration": 90,
    "start_time": "2023-05-14T13:17:20.425Z"
   },
   {
    "duration": 143,
    "start_time": "2023-05-14T13:18:16.666Z"
   },
   {
    "duration": 3371,
    "start_time": "2023-05-14T13:20:03.532Z"
   },
   {
    "duration": 6,
    "start_time": "2023-05-14T13:20:06.907Z"
   },
   {
    "duration": 38,
    "start_time": "2023-05-14T13:20:06.916Z"
   },
   {
    "duration": 37,
    "start_time": "2023-05-14T13:20:06.957Z"
   },
   {
    "duration": 1160,
    "start_time": "2023-05-14T13:20:06.996Z"
   },
   {
    "duration": 1730,
    "start_time": "2023-05-14T13:20:08.159Z"
   },
   {
    "duration": 64,
    "start_time": "2023-05-14T13:20:09.890Z"
   },
   {
    "duration": 33,
    "start_time": "2023-05-14T13:20:09.956Z"
   },
   {
    "duration": 74,
    "start_time": "2023-05-14T13:20:10.000Z"
   },
   {
    "duration": 2820,
    "start_time": "2023-05-14T13:20:10.104Z"
   },
   {
    "duration": 12,
    "start_time": "2023-05-14T13:20:12.926Z"
   },
   {
    "duration": 54,
    "start_time": "2023-05-14T13:20:12.940Z"
   },
   {
    "duration": 38,
    "start_time": "2023-05-14T13:20:12.996Z"
   },
   {
    "duration": 28,
    "start_time": "2023-05-14T13:20:13.036Z"
   },
   {
    "duration": 1068,
    "start_time": "2023-05-14T13:20:13.066Z"
   },
   {
    "duration": 2668,
    "start_time": "2023-05-14T13:20:14.136Z"
   },
   {
    "duration": 120,
    "start_time": "2023-05-14T13:20:16.806Z"
   },
   {
    "duration": 636,
    "start_time": "2023-05-14T13:20:16.929Z"
   },
   {
    "duration": 17,
    "start_time": "2023-05-14T13:20:17.567Z"
   },
   {
    "duration": 47,
    "start_time": "2023-05-14T13:20:17.599Z"
   },
   {
    "duration": 16,
    "start_time": "2023-05-14T13:20:17.648Z"
   },
   {
    "duration": 38,
    "start_time": "2023-05-14T13:20:17.666Z"
   },
   {
    "duration": 11,
    "start_time": "2023-05-14T13:20:17.706Z"
   },
   {
    "duration": 54,
    "start_time": "2023-05-14T13:20:17.720Z"
   },
   {
    "duration": 2023,
    "start_time": "2023-05-14T13:20:17.777Z"
   },
   {
    "duration": 27,
    "start_time": "2023-05-14T13:20:19.803Z"
   },
   {
    "duration": 39,
    "start_time": "2023-05-14T13:20:19.833Z"
   },
   {
    "duration": 26,
    "start_time": "2023-05-14T13:20:19.900Z"
   },
   {
    "duration": 24013,
    "start_time": "2023-05-14T13:20:19.928Z"
   },
   {
    "duration": 7,
    "start_time": "2023-05-14T13:20:43.942Z"
   },
   {
    "duration": 78,
    "start_time": "2023-05-14T13:20:43.951Z"
   },
   {
    "duration": 3799,
    "start_time": "2023-05-14T13:20:44.031Z"
   },
   {
    "duration": 21,
    "start_time": "2023-05-14T13:20:47.832Z"
   },
   {
    "duration": 79,
    "start_time": "2023-05-14T13:20:47.855Z"
   },
   {
    "duration": 408,
    "start_time": "2023-05-14T13:20:47.936Z"
   },
   {
    "duration": 19314,
    "start_time": "2023-05-14T13:20:48.347Z"
   },
   {
    "duration": 17,
    "start_time": "2023-05-14T13:21:07.663Z"
   },
   {
    "duration": 106,
    "start_time": "2023-05-14T13:21:07.699Z"
   },
   {
    "duration": 76,
    "start_time": "2023-05-14T13:27:02.384Z"
   },
   {
    "duration": 4,
    "start_time": "2023-05-14T13:32:13.862Z"
   },
   {
    "duration": 2885,
    "start_time": "2023-05-14T13:37:45.105Z"
   },
   {
    "duration": 7,
    "start_time": "2023-05-14T13:37:47.993Z"
   },
   {
    "duration": 13,
    "start_time": "2023-05-14T13:37:48.002Z"
   },
   {
    "duration": 43,
    "start_time": "2023-05-14T13:37:48.018Z"
   },
   {
    "duration": 878,
    "start_time": "2023-05-14T13:37:48.064Z"
   },
   {
    "duration": 1387,
    "start_time": "2023-05-14T13:37:48.944Z"
   },
   {
    "duration": 41,
    "start_time": "2023-05-14T13:37:50.333Z"
   },
   {
    "duration": 26,
    "start_time": "2023-05-14T13:37:50.376Z"
   },
   {
    "duration": 38,
    "start_time": "2023-05-14T13:37:50.404Z"
   },
   {
    "duration": 2390,
    "start_time": "2023-05-14T13:37:50.445Z"
   },
   {
    "duration": 14,
    "start_time": "2023-05-14T13:37:52.837Z"
   },
   {
    "duration": 46,
    "start_time": "2023-05-14T13:37:52.853Z"
   },
   {
    "duration": 30,
    "start_time": "2023-05-14T13:37:52.900Z"
   },
   {
    "duration": 29,
    "start_time": "2023-05-14T13:37:52.935Z"
   },
   {
    "duration": 1002,
    "start_time": "2023-05-14T13:37:52.966Z"
   },
   {
    "duration": 2144,
    "start_time": "2023-05-14T13:37:53.969Z"
   },
   {
    "duration": 82,
    "start_time": "2023-05-14T13:37:56.115Z"
   },
   {
    "duration": 588,
    "start_time": "2023-05-14T13:37:56.199Z"
   },
   {
    "duration": 35,
    "start_time": "2023-05-14T13:37:56.791Z"
   },
   {
    "duration": 72,
    "start_time": "2023-05-14T13:37:56.829Z"
   },
   {
    "duration": 21,
    "start_time": "2023-05-14T13:37:56.904Z"
   },
   {
    "duration": 24,
    "start_time": "2023-05-14T13:37:56.927Z"
   },
   {
    "duration": 7,
    "start_time": "2023-05-14T13:37:56.953Z"
   },
   {
    "duration": 41,
    "start_time": "2023-05-14T13:37:56.961Z"
   },
   {
    "duration": 1852,
    "start_time": "2023-05-14T13:37:57.005Z"
   },
   {
    "duration": 16,
    "start_time": "2023-05-14T13:37:58.860Z"
   },
   {
    "duration": 56,
    "start_time": "2023-05-14T13:37:58.878Z"
   },
   {
    "duration": 15,
    "start_time": "2023-05-14T13:37:58.937Z"
   },
   {
    "duration": 20050,
    "start_time": "2023-05-14T13:37:58.955Z"
   },
   {
    "duration": 9,
    "start_time": "2023-05-14T13:38:19.007Z"
   },
   {
    "duration": 54,
    "start_time": "2023-05-14T13:38:19.018Z"
   },
   {
    "duration": 3168,
    "start_time": "2023-05-14T13:38:19.098Z"
   },
   {
    "duration": 14,
    "start_time": "2023-05-14T13:38:22.267Z"
   },
   {
    "duration": 66,
    "start_time": "2023-05-14T13:38:22.283Z"
   },
   {
    "duration": 388,
    "start_time": "2023-05-14T13:38:22.352Z"
   },
   {
    "duration": 16262,
    "start_time": "2023-05-14T13:38:22.742Z"
   },
   {
    "duration": 21,
    "start_time": "2023-05-14T13:38:39.007Z"
   },
   {
    "duration": 121,
    "start_time": "2023-05-14T13:38:39.030Z"
   },
   {
    "duration": 670,
    "start_time": "2023-05-14T13:38:39.153Z"
   },
   {
    "duration": 21,
    "start_time": "2023-05-14T13:38:39.825Z"
   },
   {
    "duration": 820,
    "start_time": "2023-05-14T13:38:39.850Z"
   },
   {
    "duration": 18,
    "start_time": "2023-05-14T13:38:40.672Z"
   },
   {
    "duration": 19,
    "start_time": "2023-05-14T13:42:15.498Z"
   },
   {
    "duration": 4,
    "start_time": "2023-05-14T13:42:37.218Z"
   },
   {
    "duration": 16,
    "start_time": "2023-05-14T13:44:09.394Z"
   },
   {
    "duration": 15,
    "start_time": "2023-05-14T13:44:39.402Z"
   },
   {
    "duration": 13,
    "start_time": "2023-05-14T13:44:46.327Z"
   },
   {
    "duration": 16,
    "start_time": "2023-05-14T13:44:54.032Z"
   },
   {
    "duration": 245,
    "start_time": "2023-05-14T13:53:58.673Z"
   },
   {
    "duration": 21,
    "start_time": "2023-05-14T13:54:05.246Z"
   },
   {
    "duration": 12,
    "start_time": "2023-05-14T13:54:22.026Z"
   },
   {
    "duration": 11,
    "start_time": "2023-05-14T13:54:30.976Z"
   },
   {
    "duration": 14,
    "start_time": "2023-05-14T13:54:38.747Z"
   },
   {
    "duration": 19,
    "start_time": "2023-05-14T13:54:44.425Z"
   },
   {
    "duration": 11,
    "start_time": "2023-05-14T13:54:51.715Z"
   },
   {
    "duration": 12,
    "start_time": "2023-05-14T13:54:56.153Z"
   },
   {
    "duration": 3,
    "start_time": "2023-05-14T13:55:43.724Z"
   },
   {
    "duration": 735896,
    "start_time": "2023-05-14T13:57:42.186Z"
   },
   {
    "duration": 16584,
    "start_time": "2023-05-14T14:12:16.014Z"
   },
   {
    "duration": 5,
    "start_time": "2023-05-14T14:12:57.887Z"
   },
   {
    "duration": 14249,
    "start_time": "2023-05-14T14:13:09.515Z"
   },
   {
    "duration": 5,
    "start_time": "2023-05-14T14:13:40.104Z"
   },
   {
    "duration": 2403,
    "start_time": "2023-05-14T14:23:14.557Z"
   },
   {
    "duration": 1477,
    "start_time": "2023-05-14T14:23:16.962Z"
   },
   {
    "duration": 3,
    "start_time": "2023-05-14T14:23:18.440Z"
   },
   {
    "duration": 25,
    "start_time": "2023-05-14T14:23:18.445Z"
   },
   {
    "duration": 846,
    "start_time": "2023-05-14T14:23:18.472Z"
   },
   {
    "duration": 1303,
    "start_time": "2023-05-14T14:23:19.319Z"
   },
   {
    "duration": 53,
    "start_time": "2023-05-14T14:23:20.624Z"
   },
   {
    "duration": 29,
    "start_time": "2023-05-14T14:23:20.680Z"
   },
   {
    "duration": 40,
    "start_time": "2023-05-14T14:23:20.711Z"
   },
   {
    "duration": 2154,
    "start_time": "2023-05-14T14:23:20.753Z"
   },
   {
    "duration": 13,
    "start_time": "2023-05-14T14:23:22.908Z"
   },
   {
    "duration": 35,
    "start_time": "2023-05-14T14:23:22.924Z"
   },
   {
    "duration": 53,
    "start_time": "2023-05-14T14:23:22.961Z"
   },
   {
    "duration": 27,
    "start_time": "2023-05-14T14:23:23.016Z"
   },
   {
    "duration": 1020,
    "start_time": "2023-05-14T14:23:23.045Z"
   },
   {
    "duration": 2061,
    "start_time": "2023-05-14T14:23:24.067Z"
   },
   {
    "duration": 68,
    "start_time": "2023-05-14T14:23:26.130Z"
   },
   {
    "duration": 541,
    "start_time": "2023-05-14T14:23:26.200Z"
   },
   {
    "duration": 23,
    "start_time": "2023-05-14T14:23:26.743Z"
   },
   {
    "duration": 61,
    "start_time": "2023-05-14T14:23:26.769Z"
   },
   {
    "duration": 25,
    "start_time": "2023-05-14T14:23:26.833Z"
   },
   {
    "duration": 34,
    "start_time": "2023-05-14T14:23:26.860Z"
   },
   {
    "duration": 7,
    "start_time": "2023-05-14T14:23:26.898Z"
   },
   {
    "duration": 50,
    "start_time": "2023-05-14T14:23:26.907Z"
   },
   {
    "duration": 1753,
    "start_time": "2023-05-14T14:23:26.959Z"
   },
   {
    "duration": 17,
    "start_time": "2023-05-14T14:23:28.714Z"
   },
   {
    "duration": 47,
    "start_time": "2023-05-14T14:23:28.733Z"
   },
   {
    "duration": 20,
    "start_time": "2023-05-14T14:23:28.785Z"
   },
   {
    "duration": 17333,
    "start_time": "2023-05-14T14:23:28.806Z"
   },
   {
    "duration": 6,
    "start_time": "2023-05-14T14:23:46.141Z"
   },
   {
    "duration": 61,
    "start_time": "2023-05-14T14:23:46.149Z"
   },
   {
    "duration": 2861,
    "start_time": "2023-05-14T14:23:46.212Z"
   },
   {
    "duration": 13,
    "start_time": "2023-05-14T14:23:49.074Z"
   },
   {
    "duration": 59,
    "start_time": "2023-05-14T14:23:49.088Z"
   },
   {
    "duration": 340,
    "start_time": "2023-05-14T14:23:49.148Z"
   },
   {
    "duration": 14181,
    "start_time": "2023-05-14T14:23:49.490Z"
   },
   {
    "duration": 27,
    "start_time": "2023-05-14T14:24:03.672Z"
   },
   {
    "duration": 72,
    "start_time": "2023-05-14T14:24:03.701Z"
   },
   {
    "duration": 602,
    "start_time": "2023-05-14T14:24:03.775Z"
   },
   {
    "duration": 727,
    "start_time": "2023-05-14T14:24:04.378Z"
   },
   {
    "duration": 233,
    "start_time": "2023-05-14T14:24:05.107Z"
   },
   {
    "duration": 3,
    "start_time": "2023-05-14T14:24:05.342Z"
   },
   {
    "duration": 676176,
    "start_time": "2023-05-14T14:24:05.347Z"
   },
   {
    "duration": 13263,
    "start_time": "2023-05-14T14:35:21.525Z"
   },
   {
    "duration": 17908,
    "start_time": "2023-05-14T14:35:34.790Z"
   },
   {
    "duration": 1850899,
    "start_time": "2023-05-14T14:35:52.701Z"
   },
   {
    "duration": 2499,
    "start_time": "2023-05-14T15:06:43.602Z"
   },
   {
    "duration": 122819,
    "start_time": "2023-05-14T15:06:46.103Z"
   },
   {
    "duration": 2100,
    "start_time": "2023-05-14T15:08:48.923Z"
   },
   {
    "duration": 4,
    "start_time": "2023-05-14T15:08:51.025Z"
   },
   {
    "duration": 122,
    "start_time": "2023-05-14T16:04:50.250Z"
   },
   {
    "duration": 210229,
    "start_time": "2023-05-14T16:04:58.418Z"
   },
   {
    "duration": 4436,
    "start_time": "2023-05-14T16:08:28.649Z"
   },
   {
    "duration": 5,
    "start_time": "2023-05-14T16:08:33.087Z"
   },
   {
    "duration": 11,
    "start_time": "2023-05-14T16:10:26.354Z"
   },
   {
    "duration": 6,
    "start_time": "2023-05-14T16:10:43.596Z"
   },
   {
    "duration": 11,
    "start_time": "2023-05-14T16:10:47.212Z"
   },
   {
    "duration": 11,
    "start_time": "2023-05-14T16:17:15.067Z"
   },
   {
    "duration": 3,
    "start_time": "2023-05-14T16:20:25.359Z"
   },
   {
    "duration": 2597,
    "start_time": "2023-05-14T16:20:40.464Z"
   },
   {
    "duration": 4,
    "start_time": "2023-05-14T16:20:48.810Z"
   },
   {
    "duration": 5,
    "start_time": "2023-05-14T16:21:45.010Z"
   },
   {
    "duration": 9,
    "start_time": "2023-05-14T16:21:55.049Z"
   },
   {
    "duration": 5,
    "start_time": "2023-05-14T16:29:23.459Z"
   },
   {
    "duration": 4,
    "start_time": "2023-05-14T16:29:47.528Z"
   },
   {
    "duration": 2871,
    "start_time": "2023-05-14T16:30:07.198Z"
   },
   {
    "duration": 4,
    "start_time": "2023-05-14T16:30:39.481Z"
   },
   {
    "duration": 12,
    "start_time": "2023-05-14T16:30:40.552Z"
   },
   {
    "duration": 5,
    "start_time": "2023-05-14T16:31:48.326Z"
   },
   {
    "duration": 2189,
    "start_time": "2023-05-14T16:32:58.134Z"
   },
   {
    "duration": 5,
    "start_time": "2023-05-14T16:33:01.250Z"
   },
   {
    "duration": 12,
    "start_time": "2023-05-14T16:33:09.700Z"
   },
   {
    "duration": 2330,
    "start_time": "2023-05-14T16:33:25.985Z"
   },
   {
    "duration": 1483,
    "start_time": "2023-05-14T16:33:28.317Z"
   },
   {
    "duration": 4,
    "start_time": "2023-05-14T16:33:29.808Z"
   },
   {
    "duration": 24,
    "start_time": "2023-05-14T16:33:29.814Z"
   },
   {
    "duration": 914,
    "start_time": "2023-05-14T16:33:29.840Z"
   },
   {
    "duration": 1385,
    "start_time": "2023-05-14T16:33:30.756Z"
   },
   {
    "duration": 67,
    "start_time": "2023-05-14T16:33:32.142Z"
   },
   {
    "duration": 20,
    "start_time": "2023-05-14T16:33:32.217Z"
   },
   {
    "duration": 68,
    "start_time": "2023-05-14T16:33:32.239Z"
   },
   {
    "duration": 2203,
    "start_time": "2023-05-14T16:33:32.311Z"
   },
   {
    "duration": 14,
    "start_time": "2023-05-14T16:33:34.517Z"
   },
   {
    "duration": 52,
    "start_time": "2023-05-14T16:33:34.532Z"
   },
   {
    "duration": 40,
    "start_time": "2023-05-14T16:33:34.586Z"
   },
   {
    "duration": 24,
    "start_time": "2023-05-14T16:33:34.628Z"
   },
   {
    "duration": 968,
    "start_time": "2023-05-14T16:33:34.654Z"
   },
   {
    "duration": 2082,
    "start_time": "2023-05-14T16:33:35.624Z"
   },
   {
    "duration": 54,
    "start_time": "2023-05-14T16:33:37.708Z"
   },
   {
    "duration": 448,
    "start_time": "2023-05-14T16:33:37.764Z"
   },
   {
    "duration": 15,
    "start_time": "2023-05-14T16:33:38.214Z"
   },
   {
    "duration": 38,
    "start_time": "2023-05-14T16:33:38.230Z"
   },
   {
    "duration": 14,
    "start_time": "2023-05-14T16:33:38.269Z"
   },
   {
    "duration": 16,
    "start_time": "2023-05-14T16:33:38.296Z"
   },
   {
    "duration": 7,
    "start_time": "2023-05-14T16:33:38.314Z"
   },
   {
    "duration": 33,
    "start_time": "2023-05-14T16:33:38.323Z"
   },
   {
    "duration": 1671,
    "start_time": "2023-05-14T16:33:38.357Z"
   },
   {
    "duration": 13,
    "start_time": "2023-05-14T16:33:40.030Z"
   },
   {
    "duration": 38,
    "start_time": "2023-05-14T16:33:40.044Z"
   },
   {
    "duration": 31,
    "start_time": "2023-05-14T16:33:40.086Z"
   },
   {
    "duration": 18448,
    "start_time": "2023-05-14T16:33:40.119Z"
   },
   {
    "duration": 6,
    "start_time": "2023-05-14T16:33:58.569Z"
   },
   {
    "duration": 67,
    "start_time": "2023-05-14T16:33:58.577Z"
   },
   {
    "duration": 3062,
    "start_time": "2023-05-14T16:33:58.646Z"
   },
   {
    "duration": 16,
    "start_time": "2023-05-14T16:34:01.709Z"
   },
   {
    "duration": 85,
    "start_time": "2023-05-14T16:34:01.726Z"
   },
   {
    "duration": 320,
    "start_time": "2023-05-14T16:34:01.813Z"
   },
   {
    "duration": 15254,
    "start_time": "2023-05-14T16:34:02.135Z"
   },
   {
    "duration": 34,
    "start_time": "2023-05-14T16:34:17.391Z"
   },
   {
    "duration": 94,
    "start_time": "2023-05-14T16:34:17.427Z"
   },
   {
    "duration": 611,
    "start_time": "2023-05-14T16:34:17.523Z"
   },
   {
    "duration": 757,
    "start_time": "2023-05-14T16:34:18.136Z"
   },
   {
    "duration": 239,
    "start_time": "2023-05-14T16:34:18.895Z"
   },
   {
    "duration": 3,
    "start_time": "2023-05-14T16:34:19.136Z"
   },
   {
    "duration": 688237,
    "start_time": "2023-05-14T16:34:19.141Z"
   },
   {
    "duration": 13930,
    "start_time": "2023-05-14T16:45:47.379Z"
   },
   {
    "duration": 25494,
    "start_time": "2023-05-14T16:46:01.311Z"
   },
   {
    "duration": 2243,
    "start_time": "2023-05-14T17:32:19.066Z"
   },
   {
    "duration": 1453,
    "start_time": "2023-05-14T17:32:21.311Z"
   },
   {
    "duration": 4,
    "start_time": "2023-05-14T17:32:22.766Z"
   },
   {
    "duration": 29,
    "start_time": "2023-05-14T17:32:22.772Z"
   },
   {
    "duration": 818,
    "start_time": "2023-05-14T17:32:22.805Z"
   },
   {
    "duration": 1264,
    "start_time": "2023-05-14T17:32:23.625Z"
   },
   {
    "duration": 53,
    "start_time": "2023-05-14T17:32:24.891Z"
   },
   {
    "duration": 10,
    "start_time": "2023-05-14T17:32:24.946Z"
   },
   {
    "duration": 53,
    "start_time": "2023-05-14T17:32:24.958Z"
   },
   {
    "duration": 2136,
    "start_time": "2023-05-14T17:32:25.014Z"
   },
   {
    "duration": 12,
    "start_time": "2023-05-14T17:32:27.151Z"
   },
   {
    "duration": 50,
    "start_time": "2023-05-14T17:32:27.164Z"
   },
   {
    "duration": 27,
    "start_time": "2023-05-14T17:32:27.215Z"
   },
   {
    "duration": 25,
    "start_time": "2023-05-14T17:32:27.244Z"
   },
   {
    "duration": 862,
    "start_time": "2023-05-14T17:32:27.270Z"
   },
   {
    "duration": 1825,
    "start_time": "2023-05-14T17:32:28.134Z"
   },
   {
    "duration": 86,
    "start_time": "2023-05-14T17:32:29.961Z"
   },
   {
    "duration": 471,
    "start_time": "2023-05-14T17:32:30.048Z"
   },
   {
    "duration": 14,
    "start_time": "2023-05-14T17:32:30.520Z"
   },
   {
    "duration": 97,
    "start_time": "2023-05-14T17:32:30.536Z"
   },
   {
    "duration": 40,
    "start_time": "2023-05-14T17:32:30.635Z"
   },
   {
    "duration": 64,
    "start_time": "2023-05-14T17:32:30.676Z"
   },
   {
    "duration": 29,
    "start_time": "2023-05-14T17:32:30.741Z"
   },
   {
    "duration": 68,
    "start_time": "2023-05-14T17:32:30.771Z"
   },
   {
    "duration": 1614,
    "start_time": "2023-05-14T17:32:30.840Z"
   },
   {
    "duration": 14,
    "start_time": "2023-05-14T17:32:32.455Z"
   },
   {
    "duration": 43,
    "start_time": "2023-05-14T17:32:32.470Z"
   },
   {
    "duration": 12,
    "start_time": "2023-05-14T17:32:32.517Z"
   },
   {
    "duration": 17844,
    "start_time": "2023-05-14T17:32:32.531Z"
   },
   {
    "duration": 6,
    "start_time": "2023-05-14T17:32:50.377Z"
   },
   {
    "duration": 79,
    "start_time": "2023-05-14T17:32:50.384Z"
   },
   {
    "duration": 2802,
    "start_time": "2023-05-14T17:32:50.465Z"
   },
   {
    "duration": 11,
    "start_time": "2023-05-14T17:32:53.269Z"
   },
   {
    "duration": 63,
    "start_time": "2023-05-14T17:32:53.282Z"
   },
   {
    "duration": 352,
    "start_time": "2023-05-14T17:32:53.346Z"
   },
   {
    "duration": 13964,
    "start_time": "2023-05-14T17:32:53.709Z"
   },
   {
    "duration": 35,
    "start_time": "2023-05-14T17:33:07.675Z"
   },
   {
    "duration": 69,
    "start_time": "2023-05-14T17:33:07.711Z"
   },
   {
    "duration": 557,
    "start_time": "2023-05-14T17:33:07.782Z"
   },
   {
    "duration": 694,
    "start_time": "2023-05-14T17:33:08.340Z"
   },
   {
    "duration": 215,
    "start_time": "2023-05-14T17:33:09.035Z"
   },
   {
    "duration": 2,
    "start_time": "2023-05-14T17:33:09.252Z"
   },
   {
    "duration": 594454,
    "start_time": "2023-05-14T17:33:09.256Z"
   },
   {
    "duration": 11592,
    "start_time": "2023-05-14T17:43:03.711Z"
   },
   {
    "duration": 23010,
    "start_time": "2023-05-14T17:43:15.305Z"
   },
   {
    "duration": 4401480,
    "start_time": "2023-05-14T17:43:38.318Z"
   },
   {
    "duration": 2805,
    "start_time": "2023-05-14T18:56:59.800Z"
   },
   {
    "duration": 108177,
    "start_time": "2023-05-14T18:57:02.607Z"
   },
   {
    "duration": 2062,
    "start_time": "2023-05-14T18:58:50.786Z"
   },
   {
    "duration": 122,
    "start_time": "2023-05-14T18:58:52.850Z"
   },
   {
    "duration": 211529,
    "start_time": "2023-05-14T18:58:52.974Z"
   },
   {
    "duration": 4428,
    "start_time": "2023-05-14T19:02:24.505Z"
   },
   {
    "duration": 12,
    "start_time": "2023-05-14T19:02:28.935Z"
   },
   {
    "duration": 28,
    "start_time": "2023-05-14T19:02:28.949Z"
   },
   {
    "duration": 52,
    "start_time": "2023-05-14T19:02:28.979Z"
   },
   {
    "duration": 39,
    "start_time": "2023-05-14T19:02:29.033Z"
   },
   {
    "duration": 31,
    "start_time": "2023-05-14T19:02:29.074Z"
   },
   {
    "duration": 2844,
    "start_time": "2023-05-14T19:02:29.107Z"
   },
   {
    "duration": 5,
    "start_time": "2023-05-14T19:02:31.953Z"
   },
   {
    "duration": 26,
    "start_time": "2023-05-14T19:02:31.960Z"
   },
   {
    "duration": 2493,
    "start_time": "2023-05-14T19:23:02.956Z"
   },
   {
    "duration": 1613,
    "start_time": "2023-05-14T19:23:05.453Z"
   },
   {
    "duration": 2,
    "start_time": "2023-05-14T19:23:07.068Z"
   },
   {
    "duration": 32,
    "start_time": "2023-05-14T19:23:07.073Z"
   },
   {
    "duration": 927,
    "start_time": "2023-05-14T19:23:07.107Z"
   },
   {
    "duration": 1403,
    "start_time": "2023-05-14T19:23:08.036Z"
   },
   {
    "duration": 58,
    "start_time": "2023-05-14T19:23:09.441Z"
   },
   {
    "duration": 23,
    "start_time": "2023-05-14T19:23:09.501Z"
   },
   {
    "duration": 37,
    "start_time": "2023-05-14T19:23:09.526Z"
   },
   {
    "duration": 2293,
    "start_time": "2023-05-14T19:23:09.566Z"
   },
   {
    "duration": 13,
    "start_time": "2023-05-14T19:23:11.861Z"
   },
   {
    "duration": 51,
    "start_time": "2023-05-14T19:23:11.876Z"
   },
   {
    "duration": 29,
    "start_time": "2023-05-14T19:23:11.928Z"
   },
   {
    "duration": 45,
    "start_time": "2023-05-14T19:23:11.959Z"
   },
   {
    "duration": 983,
    "start_time": "2023-05-14T19:23:12.006Z"
   },
   {
    "duration": 2008,
    "start_time": "2023-05-14T19:23:12.991Z"
   },
   {
    "duration": 60,
    "start_time": "2023-05-14T19:23:15.001Z"
   },
   {
    "duration": 512,
    "start_time": "2023-05-14T19:23:15.063Z"
   },
   {
    "duration": 30,
    "start_time": "2023-05-14T19:23:15.577Z"
   },
   {
    "duration": 62,
    "start_time": "2023-05-14T19:23:15.609Z"
   },
   {
    "duration": 17,
    "start_time": "2023-05-14T19:23:15.673Z"
   },
   {
    "duration": 23,
    "start_time": "2023-05-14T19:23:15.693Z"
   },
   {
    "duration": 9,
    "start_time": "2023-05-14T19:23:15.718Z"
   },
   {
    "duration": 32,
    "start_time": "2023-05-14T19:23:15.729Z"
   },
   {
    "duration": 1731,
    "start_time": "2023-05-14T19:23:15.764Z"
   },
   {
    "duration": 15,
    "start_time": "2023-05-14T19:23:17.497Z"
   },
   {
    "duration": 34,
    "start_time": "2023-05-14T19:23:17.513Z"
   },
   {
    "duration": 14,
    "start_time": "2023-05-14T19:23:17.551Z"
   },
   {
    "duration": 18036,
    "start_time": "2023-05-14T19:23:17.567Z"
   },
   {
    "duration": 7,
    "start_time": "2023-05-14T19:23:35.605Z"
   },
   {
    "duration": 66,
    "start_time": "2023-05-14T19:23:35.613Z"
   },
   {
    "duration": 3002,
    "start_time": "2023-05-14T19:23:35.680Z"
   },
   {
    "duration": 15,
    "start_time": "2023-05-14T19:23:38.684Z"
   },
   {
    "duration": 72,
    "start_time": "2023-05-14T19:23:38.700Z"
   },
   {
    "duration": 336,
    "start_time": "2023-05-14T19:23:38.774Z"
   },
   {
    "duration": 15104,
    "start_time": "2023-05-14T19:23:39.111Z"
   },
   {
    "duration": 18,
    "start_time": "2023-05-14T19:23:54.217Z"
   },
   {
    "duration": 88,
    "start_time": "2023-05-14T19:23:54.236Z"
   },
   {
    "duration": 615,
    "start_time": "2023-05-14T19:23:54.325Z"
   },
   {
    "duration": 824,
    "start_time": "2023-05-14T19:23:54.941Z"
   },
   {
    "duration": 238,
    "start_time": "2023-05-14T19:23:55.767Z"
   },
   {
    "duration": 3,
    "start_time": "2023-05-14T19:23:56.007Z"
   },
   {
    "duration": 678150,
    "start_time": "2023-05-14T19:23:56.011Z"
   },
   {
    "duration": 10317,
    "start_time": "2023-05-14T19:35:14.163Z"
   },
   {
    "duration": 12118,
    "start_time": "2023-05-14T19:35:24.482Z"
   },
   {
    "duration": 471201,
    "start_time": "2023-05-14T19:35:36.603Z"
   },
   {
    "duration": 2510,
    "start_time": "2023-05-14T19:43:27.805Z"
   },
   {
    "duration": 108924,
    "start_time": "2023-05-14T19:43:30.317Z"
   },
   {
    "duration": 1966,
    "start_time": "2023-05-14T19:45:19.243Z"
   },
   {
    "duration": 115,
    "start_time": "2023-05-14T19:45:21.211Z"
   },
   {
    "duration": 201407,
    "start_time": "2023-05-14T19:45:21.328Z"
   },
   {
    "duration": 4236,
    "start_time": "2023-05-14T19:48:42.737Z"
   },
   {
    "duration": 12,
    "start_time": "2023-05-14T19:48:46.975Z"
   },
   {
    "duration": 12,
    "start_time": "2023-05-14T19:48:46.989Z"
   },
   {
    "duration": 23,
    "start_time": "2023-05-14T19:48:47.003Z"
   },
   {
    "duration": 27,
    "start_time": "2023-05-14T19:48:47.028Z"
   },
   {
    "duration": 3,
    "start_time": "2023-05-14T19:48:47.057Z"
   },
   {
    "duration": 2349,
    "start_time": "2023-05-14T19:48:47.062Z"
   },
   {
    "duration": 15,
    "start_time": "2023-05-14T19:48:49.413Z"
   }
  ],
  "kernelspec": {
   "display_name": "Python 3 (ipykernel)",
   "language": "python",
   "name": "python3"
  },
  "language_info": {
   "codemirror_mode": {
    "name": "ipython",
    "version": 3
   },
   "file_extension": ".py",
   "mimetype": "text/x-python",
   "name": "python",
   "nbconvert_exporter": "python",
   "pygments_lexer": "ipython3",
   "version": "3.9.18"
  },
  "toc": {
   "base_numbering": 1,
   "nav_menu": {},
   "number_sections": true,
   "sideBar": true,
   "skip_h1_title": true,
   "title_cell": "Table of Contents",
   "title_sidebar": "Contents",
   "toc_cell": false,
   "toc_position": {},
   "toc_section_display": true,
   "toc_window_display": false
  }
 },
 "nbformat": 4,
 "nbformat_minor": 2
}
