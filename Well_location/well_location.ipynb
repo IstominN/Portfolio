{
 "cells": [
  {
   "cell_type": "markdown",
   "metadata": {},
   "source": [
    "# Выбор локации для скважины"
   ]
  },
  {
   "cell_type": "markdown",
   "metadata": {},
   "source": [
    "Заказчик - добывающая компания. Нужно решить, где бурить новую скважину.\n",
    "\n",
    "Нам предоставлены пробы нефти в трёх регионах: в каждом 10 000 месторождений, где измерили качество нефти и объём её запасов. Необходимо построить модель машинного обучения, которая поможет определить регион, где добыча принесёт наибольшую прибыль. Проанализируем возможную прибыль и риски техникой *Bootstrap.*\n",
    "\n",
    "Шаги для выбора локации:\n",
    "\n",
    "- В избранном регионе ищут месторождения, для каждого определяют значения признаков;\n",
    "- Строят модель и оценивают объём запасов;\n",
    "- Выбирают месторождения с самым высокими оценками значений. Количество месторождений зависит от бюджета компании и стоимости разработки одной скважины;\n",
    "- Прибыль равна суммарной прибыли отобранных месторождений."
   ]
  },
  {
   "cell_type": "markdown",
   "metadata": {},
   "source": [
    "Цель исследования — построить модель для определения региона, где добыча принесёт наибольшую прибыль, проанализировав возможную прибыль и риски.\n",
    "\n",
    "Данные получим из файлов geo_data_0.csv, geo_data_1.csv, geo_data_2.csv. В них предоставлены пробы нефти в трёх регионах. Характеристики для каждой скважины в регионе уже известны\n",
    "\n",
    "Исследование пройдёт в пять этапов:\n",
    "\n",
    "* Подготовка данных\n",
    "* Обучение и проверка модели\n",
    "* Подготовка к расчёту прибыли\n",
    "* Расчёт прибыли и рисков\n",
    "* Итоговый выбор региона"
   ]
  },
  {
   "cell_type": "markdown",
   "metadata": {},
   "source": [
    "## Загрузка и подготовка данных <a id='exam_file'></a>"
   ]
  },
  {
   "cell_type": "code",
   "execution_count": 1,
   "metadata": {},
   "outputs": [],
   "source": [
    "import pandas as pd\n",
    "import matplotlib.pyplot as plt\n",
    "\n",
    "from numpy.random import RandomState\n",
    "\n",
    "from sklearn.model_selection import train_test_split\n",
    "from sklearn.linear_model import LinearRegression\n",
    "from sklearn.metrics import mean_squared_error\n",
    "\n",
    "r_state = 12345\n",
    "state = RandomState(r_state)"
   ]
  },
  {
   "cell_type": "code",
   "execution_count": 2,
   "metadata": {},
   "outputs": [],
   "source": [
    "data0 = pd.read_csv('datasets/geo_data_0.csv')\n",
    "data1 = pd.read_csv('datasets/geo_data_1.csv')\n",
    "data2 = pd.read_csv('datasets/geo_data_2.csv')"
   ]
  },
  {
   "cell_type": "code",
   "execution_count": 3,
   "metadata": {
    "scrolled": false
   },
   "outputs": [
    {
     "name": "stdout",
     "output_type": "stream",
     "text": [
      "Общие сведения \"Регион 1\":\n",
      "\n",
      "<class 'pandas.core.frame.DataFrame'>\n",
      "RangeIndex: 100000 entries, 0 to 99999\n",
      "Data columns (total 5 columns):\n",
      " #   Column   Non-Null Count   Dtype  \n",
      "---  ------   --------------   -----  \n",
      " 0   id       100000 non-null  object \n",
      " 1   f0       100000 non-null  float64\n",
      " 2   f1       100000 non-null  float64\n",
      " 3   f2       100000 non-null  float64\n",
      " 4   product  100000 non-null  float64\n",
      "dtypes: float64(4), object(1)\n",
      "memory usage: 3.8+ MB\n"
     ]
    },
    {
     "data": {
      "text/html": [
       "<div>\n",
       "<style scoped>\n",
       "    .dataframe tbody tr th:only-of-type {\n",
       "        vertical-align: middle;\n",
       "    }\n",
       "\n",
       "    .dataframe tbody tr th {\n",
       "        vertical-align: top;\n",
       "    }\n",
       "\n",
       "    .dataframe thead th {\n",
       "        text-align: right;\n",
       "    }\n",
       "</style>\n",
       "<table border=\"1\" class=\"dataframe\">\n",
       "  <thead>\n",
       "    <tr style=\"text-align: right;\">\n",
       "      <th></th>\n",
       "      <th>id</th>\n",
       "      <th>f0</th>\n",
       "      <th>f1</th>\n",
       "      <th>f2</th>\n",
       "      <th>product</th>\n",
       "    </tr>\n",
       "  </thead>\n",
       "  <tbody>\n",
       "    <tr>\n",
       "      <th>71751</th>\n",
       "      <td>7Z2gx</td>\n",
       "      <td>0.948970</td>\n",
       "      <td>-0.057547</td>\n",
       "      <td>2.095727</td>\n",
       "      <td>10.038645</td>\n",
       "    </tr>\n",
       "    <tr>\n",
       "      <th>80493</th>\n",
       "      <td>b2HU8</td>\n",
       "      <td>0.992974</td>\n",
       "      <td>0.206671</td>\n",
       "      <td>-0.142278</td>\n",
       "      <td>114.551489</td>\n",
       "    </tr>\n",
       "    <tr>\n",
       "      <th>2655</th>\n",
       "      <td>Y0dXD</td>\n",
       "      <td>1.199854</td>\n",
       "      <td>-0.563356</td>\n",
       "      <td>-1.852991</td>\n",
       "      <td>132.603635</td>\n",
       "    </tr>\n",
       "    <tr>\n",
       "      <th>53233</th>\n",
       "      <td>Mje59</td>\n",
       "      <td>0.691422</td>\n",
       "      <td>-0.433347</td>\n",
       "      <td>0.564974</td>\n",
       "      <td>169.072125</td>\n",
       "    </tr>\n",
       "    <tr>\n",
       "      <th>91141</th>\n",
       "      <td>yqXxU</td>\n",
       "      <td>0.420772</td>\n",
       "      <td>0.972638</td>\n",
       "      <td>0.736190</td>\n",
       "      <td>122.325180</td>\n",
       "    </tr>\n",
       "  </tbody>\n",
       "</table>\n",
       "</div>"
      ],
      "text/plain": [
       "          id        f0        f1        f2     product\n",
       "71751  7Z2gx  0.948970 -0.057547  2.095727   10.038645\n",
       "80493  b2HU8  0.992974  0.206671 -0.142278  114.551489\n",
       "2655   Y0dXD  1.199854 -0.563356 -1.852991  132.603635\n",
       "53233  Mje59  0.691422 -0.433347  0.564974  169.072125\n",
       "91141  yqXxU  0.420772  0.972638  0.736190  122.325180"
      ]
     },
     "metadata": {},
     "output_type": "display_data"
    },
    {
     "name": "stdout",
     "output_type": "stream",
     "text": [
      "Количество пропусков по столбцам:\n",
      "\n",
      "id - 0 шт. - 0.00%\n",
      "f0 - 0 шт. - 0.00%\n",
      "f1 - 0 шт. - 0.00%\n",
      "f2 - 0 шт. - 0.00%\n",
      "product - 0 шт. - 0.00%\n",
      "\n",
      "Количество явных дубликатов: 0\n",
      "\n",
      "Общие сведения \"Регион 2\":\n",
      "\n",
      "<class 'pandas.core.frame.DataFrame'>\n",
      "RangeIndex: 100000 entries, 0 to 99999\n",
      "Data columns (total 5 columns):\n",
      " #   Column   Non-Null Count   Dtype  \n",
      "---  ------   --------------   -----  \n",
      " 0   id       100000 non-null  object \n",
      " 1   f0       100000 non-null  float64\n",
      " 2   f1       100000 non-null  float64\n",
      " 3   f2       100000 non-null  float64\n",
      " 4   product  100000 non-null  float64\n",
      "dtypes: float64(4), object(1)\n",
      "memory usage: 3.8+ MB\n"
     ]
    },
    {
     "data": {
      "text/html": [
       "<div>\n",
       "<style scoped>\n",
       "    .dataframe tbody tr th:only-of-type {\n",
       "        vertical-align: middle;\n",
       "    }\n",
       "\n",
       "    .dataframe tbody tr th {\n",
       "        vertical-align: top;\n",
       "    }\n",
       "\n",
       "    .dataframe thead th {\n",
       "        text-align: right;\n",
       "    }\n",
       "</style>\n",
       "<table border=\"1\" class=\"dataframe\">\n",
       "  <thead>\n",
       "    <tr style=\"text-align: right;\">\n",
       "      <th></th>\n",
       "      <th>id</th>\n",
       "      <th>f0</th>\n",
       "      <th>f1</th>\n",
       "      <th>f2</th>\n",
       "      <th>product</th>\n",
       "    </tr>\n",
       "  </thead>\n",
       "  <tbody>\n",
       "    <tr>\n",
       "      <th>71751</th>\n",
       "      <td>aTbUt</td>\n",
       "      <td>-0.371866</td>\n",
       "      <td>-1.862494</td>\n",
       "      <td>3.002210</td>\n",
       "      <td>80.859783</td>\n",
       "    </tr>\n",
       "    <tr>\n",
       "      <th>80493</th>\n",
       "      <td>CK34V</td>\n",
       "      <td>9.015122</td>\n",
       "      <td>-13.881455</td>\n",
       "      <td>1.995363</td>\n",
       "      <td>53.906522</td>\n",
       "    </tr>\n",
       "    <tr>\n",
       "      <th>2655</th>\n",
       "      <td>ioXCO</td>\n",
       "      <td>-6.507568</td>\n",
       "      <td>-4.817448</td>\n",
       "      <td>1.003449</td>\n",
       "      <td>30.132364</td>\n",
       "    </tr>\n",
       "    <tr>\n",
       "      <th>53233</th>\n",
       "      <td>xk6tF</td>\n",
       "      <td>14.560845</td>\n",
       "      <td>-10.667755</td>\n",
       "      <td>1.995175</td>\n",
       "      <td>53.906522</td>\n",
       "    </tr>\n",
       "    <tr>\n",
       "      <th>91141</th>\n",
       "      <td>F9AmG</td>\n",
       "      <td>6.090476</td>\n",
       "      <td>-4.494723</td>\n",
       "      <td>0.013815</td>\n",
       "      <td>0.000000</td>\n",
       "    </tr>\n",
       "  </tbody>\n",
       "</table>\n",
       "</div>"
      ],
      "text/plain": [
       "          id         f0         f1        f2    product\n",
       "71751  aTbUt  -0.371866  -1.862494  3.002210  80.859783\n",
       "80493  CK34V   9.015122 -13.881455  1.995363  53.906522\n",
       "2655   ioXCO  -6.507568  -4.817448  1.003449  30.132364\n",
       "53233  xk6tF  14.560845 -10.667755  1.995175  53.906522\n",
       "91141  F9AmG   6.090476  -4.494723  0.013815   0.000000"
      ]
     },
     "metadata": {},
     "output_type": "display_data"
    },
    {
     "name": "stdout",
     "output_type": "stream",
     "text": [
      "Количество пропусков по столбцам:\n",
      "\n",
      "id - 0 шт. - 0.00%\n",
      "f0 - 0 шт. - 0.00%\n",
      "f1 - 0 шт. - 0.00%\n",
      "f2 - 0 шт. - 0.00%\n",
      "product - 0 шт. - 0.00%\n",
      "\n",
      "Количество явных дубликатов: 0\n",
      "\n",
      "Общие сведения \"Регион 3\":\n",
      "\n",
      "<class 'pandas.core.frame.DataFrame'>\n",
      "RangeIndex: 100000 entries, 0 to 99999\n",
      "Data columns (total 5 columns):\n",
      " #   Column   Non-Null Count   Dtype  \n",
      "---  ------   --------------   -----  \n",
      " 0   id       100000 non-null  object \n",
      " 1   f0       100000 non-null  float64\n",
      " 2   f1       100000 non-null  float64\n",
      " 3   f2       100000 non-null  float64\n",
      " 4   product  100000 non-null  float64\n",
      "dtypes: float64(4), object(1)\n",
      "memory usage: 3.8+ MB\n"
     ]
    },
    {
     "data": {
      "text/html": [
       "<div>\n",
       "<style scoped>\n",
       "    .dataframe tbody tr th:only-of-type {\n",
       "        vertical-align: middle;\n",
       "    }\n",
       "\n",
       "    .dataframe tbody tr th {\n",
       "        vertical-align: top;\n",
       "    }\n",
       "\n",
       "    .dataframe thead th {\n",
       "        text-align: right;\n",
       "    }\n",
       "</style>\n",
       "<table border=\"1\" class=\"dataframe\">\n",
       "  <thead>\n",
       "    <tr style=\"text-align: right;\">\n",
       "      <th></th>\n",
       "      <th>id</th>\n",
       "      <th>f0</th>\n",
       "      <th>f1</th>\n",
       "      <th>f2</th>\n",
       "      <th>product</th>\n",
       "    </tr>\n",
       "  </thead>\n",
       "  <tbody>\n",
       "    <tr>\n",
       "      <th>71751</th>\n",
       "      <td>DMlgl</td>\n",
       "      <td>-1.444717</td>\n",
       "      <td>-3.861599</td>\n",
       "      <td>2.225805</td>\n",
       "      <td>61.212375</td>\n",
       "    </tr>\n",
       "    <tr>\n",
       "      <th>80493</th>\n",
       "      <td>tbrRC</td>\n",
       "      <td>-1.418617</td>\n",
       "      <td>1.276544</td>\n",
       "      <td>-0.976433</td>\n",
       "      <td>41.850118</td>\n",
       "    </tr>\n",
       "    <tr>\n",
       "      <th>2655</th>\n",
       "      <td>JRs1w</td>\n",
       "      <td>-4.587649</td>\n",
       "      <td>-0.413199</td>\n",
       "      <td>1.649268</td>\n",
       "      <td>57.776581</td>\n",
       "    </tr>\n",
       "    <tr>\n",
       "      <th>53233</th>\n",
       "      <td>bidOx</td>\n",
       "      <td>1.871584</td>\n",
       "      <td>1.619101</td>\n",
       "      <td>4.273555</td>\n",
       "      <td>100.053761</td>\n",
       "    </tr>\n",
       "    <tr>\n",
       "      <th>91141</th>\n",
       "      <td>AcBBB</td>\n",
       "      <td>-2.028785</td>\n",
       "      <td>4.128167</td>\n",
       "      <td>6.089547</td>\n",
       "      <td>109.897122</td>\n",
       "    </tr>\n",
       "  </tbody>\n",
       "</table>\n",
       "</div>"
      ],
      "text/plain": [
       "          id        f0        f1        f2     product\n",
       "71751  DMlgl -1.444717 -3.861599  2.225805   61.212375\n",
       "80493  tbrRC -1.418617  1.276544 -0.976433   41.850118\n",
       "2655   JRs1w -4.587649 -0.413199  1.649268   57.776581\n",
       "53233  bidOx  1.871584  1.619101  4.273555  100.053761\n",
       "91141  AcBBB -2.028785  4.128167  6.089547  109.897122"
      ]
     },
     "metadata": {},
     "output_type": "display_data"
    },
    {
     "name": "stdout",
     "output_type": "stream",
     "text": [
      "Количество пропусков по столбцам:\n",
      "\n",
      "id - 0 шт. - 0.00%\n",
      "f0 - 0 шт. - 0.00%\n",
      "f1 - 0 шт. - 0.00%\n",
      "f2 - 0 шт. - 0.00%\n",
      "product - 0 шт. - 0.00%\n",
      "\n",
      "Количество явных дубликатов: 0\n",
      "\n"
     ]
    }
   ],
   "source": [
    "datas = {'Регион 1' : data0, 'Регион 2' : data1, 'Регион 3' : data2}\n",
    "\n",
    "for i in datas:\n",
    "    print('Общие сведения \"{}\":'.format(i))\n",
    "    print()\n",
    "    datas[i].info()\n",
    "    display(datas[i].sample(5, random_state=r_state))\n",
    "\n",
    "    print('Количество пропусков по столбцам:')\n",
    "    print()\n",
    "\n",
    "    for col in datas[i].columns:\n",
    "        nmv = datas[i][col].isna().sum()\n",
    "        pmv = nmv/len(datas[i])\n",
    "        print('{} - {} шт. - {:.2%}'.format(col, nmv, pmv))\n",
    "    \n",
    "    print()\n",
    "    print('Количество явных дубликатов:', datas[i].duplicated().sum())\n",
    "    print()"
   ]
  },
  {
   "cell_type": "code",
   "execution_count": 4,
   "metadata": {},
   "outputs": [
    {
     "data": {
      "image/png": "[encoded data removed]",
      "text/plain": [
       "<Figure size 500x500 with 1 Axes>"
      ]
     },
     "metadata": {},
     "output_type": "display_data"
    },
    {
     "data": {
      "image/png": "[encoded data removed]",
      "text/plain": [
       "<Figure size 500x500 with 1 Axes>"
      ]
     },
     "metadata": {},
     "output_type": "display_data"
    },
    {
     "data": {
      "image/png": "[encoded data removed]",
      "text/plain": [
       "<Figure size 500x500 with 1 Axes>"
      ]
     },
     "metadata": {},
     "output_type": "display_data"
    }
   ],
   "source": [
    "for i in datas:\n",
    "    datas[i]['product'].hist(figsize=(5, 5));\n",
    "    plt.title(\"Распределение по объему \\n запасов в скважинах \\n {}\".format(i))\n",
    "    plt.xlabel(\"Объем запасов в скважине (тыс. баррелей)\")\n",
    "    plt.ylabel(\"Количество скважин\")\n",
    "    plt.show()"
   ]
  },
  {
   "cell_type": "markdown",
   "metadata": {},
   "source": [
    "По гистограммам можно определить:\n",
    "* У Региона 1 и Региона 3 (data0 и data2) распределение объемов в скважинах близко к нормальному \n",
    "* В Регионе 2 (data1) данные имеют нетипичное распределение и не подчиняются *нормальному закону распределения*\n",
    "    * Либо в данных ошибка\n",
    "    * Либо данные созданы искусственно (синтетические)"
   ]
  },
  {
   "cell_type": "markdown",
   "metadata": {},
   "source": [
    "Признаки:\n",
    "\n",
    "* id — уникальный идентификатор скважины\n",
    "* f0, f1, f2 — три признака точек (неважно, что они означают, но сами признаки значимы)\n",
    "\n",
    "Целевой признак:\n",
    "\n",
    "* product — объём запасов в скважине (тыс. баррелей)"
   ]
  },
  {
   "cell_type": "markdown",
   "metadata": {},
   "source": [
    "Каждый набор данных из трех регионов:\n",
    "* Состоит из 100000 объектов\n",
    "* Имеет 5 признаков (1 целевой и 4 вспомогательных)\n",
    "* Явные дубликаты отсутствуют\n",
    "* Признак \"id\" ни как не влияет на обучение модели\n",
    "    * Удалим данный признак"
   ]
  },
  {
   "cell_type": "code",
   "execution_count": 5,
   "metadata": {},
   "outputs": [],
   "source": [
    "data0 = data0.drop(['id'], axis=1)\n",
    "data1 = data1.drop(['id'], axis=1)\n",
    "data2 = data2.drop(['id'], axis=1)"
   ]
  },
  {
   "cell_type": "markdown",
   "metadata": {},
   "source": [
    "## Обучение и проверка модели <a id='learn'></a>"
   ]
  },
  {
   "cell_type": "markdown",
   "metadata": {},
   "source": [
    "### Разобьем данные на обучающую и валидационную выборки в соотношении 75:25"
   ]
  },
  {
   "cell_type": "markdown",
   "metadata": {},
   "source": [
    "Создадим функцию для разбивки"
   ]
  },
  {
   "cell_type": "code",
   "execution_count": 6,
   "metadata": {},
   "outputs": [],
   "source": [
    "def split_data(data, target):\n",
    "    features = data.drop([target] , axis=1)\n",
    "    target = data[target]\n",
    "\n",
    "    features_train, features_valid, target_train, target_valid = train_test_split(\n",
    "    features, target, test_size=0.25, random_state=r_state)\n",
    "    \n",
    "    features_list = {'features_train' : features_train, 'features_valid' : features_valid}\n",
    "    targets_list = {'target_train' : target_train, 'target_valid' : target_valid}\n",
    "\n",
    "    print('Вспомогательные признаки:')\n",
    "    print()\n",
    "    for i in features_list:\n",
    "        sh = features_list[i].shape\n",
    "        psh = sh[0]/len(data)\n",
    "        print('{} - Объектов: {} шт., признаков: {} шт. - {:.2%}'.format(i, sh[0], sh[1], psh))\n",
    "    \n",
    "    print()\n",
    "\n",
    "    print('Целевые признаки:')\n",
    "    print()\n",
    "    for i in targets_list:\n",
    "        sh = targets_list[i].shape\n",
    "        psh = sh[0]/len(data)\n",
    "        print('{} - Объектов: {} шт. - {:.2%}'.format(i, sh[0], psh))\n",
    "    \n",
    "    return features_train, features_valid, target_train, target_valid"
   ]
  },
  {
   "cell_type": "markdown",
   "metadata": {},
   "source": [
    "#### Регион 1"
   ]
  },
  {
   "cell_type": "code",
   "execution_count": 7,
   "metadata": {
    "scrolled": true
   },
   "outputs": [
    {
     "name": "stdout",
     "output_type": "stream",
     "text": [
      "Вспомогательные признаки:\n",
      "\n",
      "features_train - Объектов: 75000 шт., признаков: 3 шт. - 75.00%\n",
      "features_valid - Объектов: 25000 шт., признаков: 3 шт. - 25.00%\n",
      "\n",
      "Целевые признаки:\n",
      "\n",
      "target_train - Объектов: 75000 шт. - 75.00%\n",
      "target_valid - Объектов: 25000 шт. - 25.00%\n"
     ]
    }
   ],
   "source": [
    "features_train_0, features_valid_0, target_train_0, target_valid_0 = split_data(data0, 'product')"
   ]
  },
  {
   "cell_type": "markdown",
   "metadata": {},
   "source": [
    "#### Регион 2"
   ]
  },
  {
   "cell_type": "code",
   "execution_count": 8,
   "metadata": {
    "scrolled": true
   },
   "outputs": [
    {
     "name": "stdout",
     "output_type": "stream",
     "text": [
      "Вспомогательные признаки:\n",
      "\n",
      "features_train - Объектов: 75000 шт., признаков: 3 шт. - 75.00%\n",
      "features_valid - Объектов: 25000 шт., признаков: 3 шт. - 25.00%\n",
      "\n",
      "Целевые признаки:\n",
      "\n",
      "target_train - Объектов: 75000 шт. - 75.00%\n",
      "target_valid - Объектов: 25000 шт. - 25.00%\n"
     ]
    }
   ],
   "source": [
    "features_train_1, features_valid_1, target_train_1, target_valid_1 = split_data(data1, 'product')"
   ]
  },
  {
   "cell_type": "markdown",
   "metadata": {},
   "source": [
    "#### Регион 3"
   ]
  },
  {
   "cell_type": "code",
   "execution_count": 9,
   "metadata": {
    "scrolled": true
   },
   "outputs": [
    {
     "name": "stdout",
     "output_type": "stream",
     "text": [
      "Вспомогательные признаки:\n",
      "\n",
      "features_train - Объектов: 75000 шт., признаков: 3 шт. - 75.00%\n",
      "features_valid - Объектов: 25000 шт., признаков: 3 шт. - 25.00%\n",
      "\n",
      "Целевые признаки:\n",
      "\n",
      "target_train - Объектов: 75000 шт. - 75.00%\n",
      "target_valid - Объектов: 25000 шт. - 25.00%\n"
     ]
    }
   ],
   "source": [
    "features_train_2, features_valid_2, target_train_2, target_valid_2 = split_data(data2, 'product')"
   ]
  },
  {
   "cell_type": "markdown",
   "metadata": {},
   "source": [
    "### Обучим модель и сделаем предсказания на валидационной выборке"
   ]
  },
  {
   "cell_type": "markdown",
   "metadata": {},
   "source": [
    "Создадим функцию для обучения"
   ]
  },
  {
   "cell_type": "code",
   "execution_count": 10,
   "metadata": {},
   "outputs": [],
   "source": [
    "def model_learning(features_train, target_train, features_valid):\n",
    "    model = LinearRegression()\n",
    "    model.fit(features_train, target_train)\n",
    "    return pd.Series(model.predict(features_valid))"
   ]
  },
  {
   "cell_type": "markdown",
   "metadata": {},
   "source": [
    "#### Регион 1"
   ]
  },
  {
   "cell_type": "code",
   "execution_count": 11,
   "metadata": {
    "scrolled": true
   },
   "outputs": [],
   "source": [
    "predicted_0 = model_learning(features_train_0, target_train_0, features_valid_0)"
   ]
  },
  {
   "cell_type": "markdown",
   "metadata": {},
   "source": [
    "#### Регион 2"
   ]
  },
  {
   "cell_type": "code",
   "execution_count": 12,
   "metadata": {
    "scrolled": false
   },
   "outputs": [],
   "source": [
    "predicted_1 = model_learning(features_train_1, target_train_1, features_valid_1)"
   ]
  },
  {
   "cell_type": "markdown",
   "metadata": {},
   "source": [
    "#### Регион 3"
   ]
  },
  {
   "cell_type": "code",
   "execution_count": 13,
   "metadata": {
    "scrolled": false
   },
   "outputs": [],
   "source": [
    "predicted_2 = model_learning(features_train_2, target_train_2, features_valid_2)"
   ]
  },
  {
   "cell_type": "markdown",
   "metadata": {},
   "source": [
    "### Изучим средний запас предсказанного сырья и RMSE модели"
   ]
  },
  {
   "cell_type": "markdown",
   "metadata": {},
   "source": [
    "Создадим функцию для вывода необходимых данных"
   ]
  },
  {
   "cell_type": "code",
   "execution_count": 14,
   "metadata": {},
   "outputs": [],
   "source": [
    "def av_stock_rmse(target_valid, predicted):\n",
    "    mse = mean_squared_error(target_valid, predicted)\n",
    "    print('Средний запас предсказанного сырья (тыс. баррелей):', predicted.mean())\n",
    "    print('RMSE модели:', mse ** 0.5)"
   ]
  },
  {
   "cell_type": "markdown",
   "metadata": {},
   "source": [
    "#### Регион 1"
   ]
  },
  {
   "cell_type": "code",
   "execution_count": 15,
   "metadata": {
    "scrolled": true
   },
   "outputs": [
    {
     "name": "stdout",
     "output_type": "stream",
     "text": [
      "Средний запас предсказанного сырья (тыс. баррелей): 92.59256778438005\n",
      "RMSE модели: 37.5794217150813\n"
     ]
    }
   ],
   "source": [
    "av_stock_rmse(target_valid_0, predicted_0)"
   ]
  },
  {
   "cell_type": "markdown",
   "metadata": {},
   "source": [
    "#### Регион 2"
   ]
  },
  {
   "cell_type": "code",
   "execution_count": 16,
   "metadata": {
    "scrolled": false
   },
   "outputs": [
    {
     "name": "stdout",
     "output_type": "stream",
     "text": [
      "Средний запас предсказанного сырья (тыс. баррелей): 68.72854689544583\n",
      "RMSE модели: 0.8930992867756183\n"
     ]
    }
   ],
   "source": [
    "av_stock_rmse(target_valid_1, predicted_1)"
   ]
  },
  {
   "cell_type": "markdown",
   "metadata": {},
   "source": [
    "#### Регион 3"
   ]
  },
  {
   "cell_type": "code",
   "execution_count": 17,
   "metadata": {
    "scrolled": false
   },
   "outputs": [
    {
     "name": "stdout",
     "output_type": "stream",
     "text": [
      "Средний запас предсказанного сырья (тыс. баррелей): 94.96504596800506\n",
      "RMSE модели: 40.02970873393434\n"
     ]
    }
   ],
   "source": [
    "av_stock_rmse(target_valid_2, predicted_2)"
   ]
  },
  {
   "cell_type": "markdown",
   "metadata": {},
   "source": [
    "### Анализ результатов"
   ]
  },
  {
   "cell_type": "markdown",
   "metadata": {},
   "source": [
    "* Средний запас предсказанного сырья (тыс. баррелей):\n",
    "    * Регион 3 (94.96504596800489)\n",
    "    * Регион 1 (92.59256778438035)\n",
    "    * Регион 2 (68.728546895446)\n",
    "\n",
    "* RMSE модели:\n",
    "    * Регион 2 (0.893099286775617)\n",
    "    * Регион 1 (37.5794217150813)\n",
    "    * Регион 3 (40.02970873393434) \n",
    "\n",
    "* Наивысший средний запас предсказанного сырья (тыс. баррелей) в Регионе 3 (94.96504596800489)\n",
    "\n",
    "* Лучшее качество предсказаний запасов модель показала в Регионе 2 (RMSE - 0.89), вероятнее всего из-за синтетических данных"
   ]
  },
  {
   "cell_type": "markdown",
   "metadata": {},
   "source": [
    "## Подготовка к расчёту прибыли <a id='preparation_calc'></a>"
   ]
  },
  {
   "cell_type": "markdown",
   "metadata": {},
   "source": [
    "### Все ключевые значения для расчётов сохраним в отдельных переменных"
   ]
  },
  {
   "cell_type": "code",
   "execution_count": 18,
   "metadata": {},
   "outputs": [],
   "source": [
    "# Расчет рисков и прибыли:\n",
    "\n",
    "# Количество исследуемых точек\n",
    "n_research_points = 500\n",
    "# Количество лучших точек\n",
    "n_top_points = 200\n",
    "# Бюджет на разработку скважин в регионе\n",
    "budget = 10**10\n",
    "# Цена за 1000 баррелей\n",
    "price_1k_barrel = 450000\n",
    "# Максимальный приемлемый риск\n",
    "max_risk = 0.025\n",
    "\n",
    "# Bootstrap: \n",
    "\n",
    "# Доверительный интервал\n",
    "conf_interval = 0.95\n",
    "# Количество выборок\n",
    "n_select = 1000 "
   ]
  },
  {
   "cell_type": "markdown",
   "metadata": {},
   "source": [
    "### Рассчитаем достаточный объём сырья для безубыточной разработки новой скважины"
   ]
  },
  {
   "cell_type": "code",
   "execution_count": 19,
   "metadata": {},
   "outputs": [
    {
     "name": "stdout",
     "output_type": "stream",
     "text": [
      "Средний объём сырья для безубыточной разработки новой скважины 111.11 тыс. баррелей\n"
     ]
    }
   ],
   "source": [
    "min_volume_materials = budget / n_top_points / price_1k_barrel\n",
    "print(\"Средний объём сырья для безубыточной разработки новой скважины {:.2f} тыс. баррелей\".format(min_volume_materials))"
   ]
  },
  {
   "cell_type": "markdown",
   "metadata": {},
   "source": [
    "### Сравним полученный объём сырья со средним запасом в каждом регионе"
   ]
  },
  {
   "cell_type": "code",
   "execution_count": 20,
   "metadata": {},
   "outputs": [
    {
     "name": "stdout",
     "output_type": "stream",
     "text": [
      "Сравнение по всем скважинам в регионе\n",
      "\n",
      "Регион 1:\n",
      "\n",
      "Средний запас фактичекой нефти на скважину: 92.50 тыс. баррелей\n",
      "Разница от среднего безубыточного: -16.75%\n",
      "\n",
      "Регион 2:\n",
      "\n",
      "Средний запас фактичекой нефти на скважину: 68.83 тыс. баррелей\n",
      "Разница от среднего безубыточного: -38.06%\n",
      "\n",
      "Регион 3:\n",
      "\n",
      "Средний запас фактичекой нефти на скважину: 95.00 тыс. баррелей\n",
      "Разница от среднего безубыточного: -14.50%\n",
      "\n"
     ]
    }
   ],
   "source": [
    "print('Сравнение по всем скважинам в регионе')\n",
    "print()\n",
    "\n",
    "for i in datas:\n",
    "    \n",
    "    mean_i = datas[i]['product'].mean()\n",
    "    \n",
    "    print('{}:'.format(i))\n",
    "    print()\n",
    "    print('Средний запас фактичекой нефти на скважину: {:.2f} тыс. баррелей'.format(mean_i))\n",
    "    print('Разница от среднего безубыточного: {:.2%}'.format(mean_i / min_volume_materials - 1))\n",
    "    print()"
   ]
  },
  {
   "cell_type": "code",
   "execution_count": 21,
   "metadata": {
    "scrolled": false
   },
   "outputs": [
    {
     "name": "stdout",
     "output_type": "stream",
     "text": [
      "Сравнение по 500 случайным скважинам в регионе\n",
      "\n",
      "Регион 1:\n",
      "\n",
      "Средний запас фактичекой нефти на скважину: 89.77 тыс. баррелей\n",
      "Разница от среднего безубыточного: -19.21%\n",
      "\n",
      "Регион 2:\n",
      "\n",
      "Средний запас фактичекой нефти на скважину: 67.02 тыс. баррелей\n",
      "Разница от среднего безубыточного: -39.68%\n",
      "\n",
      "Регион 3:\n",
      "\n",
      "Средний запас фактичекой нефти на скважину: 93.51 тыс. баррелей\n",
      "Разница от среднего безубыточного: -15.84%\n",
      "\n"
     ]
    }
   ],
   "source": [
    "print('Сравнение по {} случайным скважинам в регионе'.format(n_research_points))\n",
    "print()\n",
    "\n",
    "for i in datas:\n",
    "    \n",
    "    sample_mean_i = datas[i]['product'].sample(n_research_points, random_state=r_state).mean()\n",
    "    \n",
    "    print('{}:'.format(i))\n",
    "    print()\n",
    "    print('Средний запас фактичекой нефти на скважину: {:.2f} тыс. баррелей'.format(sample_mean_i))\n",
    "    print('Разница от среднего безубыточного: {:.2%}'.format(sample_mean_i / min_volume_materials - 1))\n",
    "    print()"
   ]
  },
  {
   "cell_type": "code",
   "execution_count": 22,
   "metadata": {
    "scrolled": false
   },
   "outputs": [
    {
     "name": "stdout",
     "output_type": "stream",
     "text": [
      "Сравнение по TOP-200 скважин из случайных 500 в регионе\n",
      "\n",
      "Регион 1:\n",
      "\n",
      "Средний запас фактичекой нефти на скважину: 133.76 тыс. баррелей\n",
      "Разница от среднего безубыточного: 20.38%\n",
      "\n",
      "Регион 2:\n",
      "\n",
      "Средний запас фактичекой нефти на скважину: 114.63 тыс. баррелей\n",
      "Разница от среднего безубыточного: 3.16%\n",
      "\n",
      "Регион 3:\n",
      "\n",
      "Средний запас фактичекой нефти на скважину: 138.12 тыс. баррелей\n",
      "Разница от среднего безубыточного: 24.31%\n",
      "\n"
     ]
    }
   ],
   "source": [
    "print('Сравнение по TOP-{} скважин из случайных {} в регионе'.format(n_top_points, n_research_points))\n",
    "print()\n",
    "\n",
    "for i in datas:\n",
    "    \n",
    "    sorted_mean_i = datas[i]['product'].sample(\n",
    "        n_research_points, random_state=r_state).sort_values(ascending=False).head(n_top_points).mean()\n",
    "    \n",
    "    print('{}:'.format(i))\n",
    "    print()\n",
    "    print('Средний запас фактичекой нефти на скважину: {:.2f} тыс. баррелей'.format(sorted_mean_i))\n",
    "    print('Разница от среднего безубыточного: {:.2%}'.format(sorted_mean_i / min_volume_materials - 1))\n",
    "    print()"
   ]
  },
  {
   "cell_type": "markdown",
   "metadata": {},
   "source": [
    "### Анализ результатов"
   ]
  },
  {
   "cell_type": "markdown",
   "metadata": {},
   "source": [
    "* Средний объём сырья для безубыточной разработки новой скважины 111.11 тыс. баррелей\n",
    "* По среднему запасу фактичекой нефти по всем скважинам в регионах:\n",
    "    * Средний запас фактичекой нефти на скважину:\n",
    "        * Регион 1 - 92.5 тыс. баррелей\n",
    "        * Регион 2 - 68.83 тыс. баррелей\n",
    "        * Регион 3 - 95.0 тыс. баррелей\n",
    "    * Разница от среднего безубыточного:\n",
    "        * Регион 1 - меньше на 16.75 %\n",
    "        * Регион 2 - меньше на 38.06 %\n",
    "        * Регион 3 - меньше на 14.5 % \n",
    "    * Разработка всех скважин в любом регионе будет убыточной\n",
    "* По 500 случайным скважинам в регионе:\n",
    "    * Средний запас фактичекой нефти на скважину:\n",
    "        * Регион 1 - 89.77 тыс. баррелей\n",
    "        * Регион 2 - 67.02 тыс. баррелей\n",
    "        * Регион 3 - 93.51 тыс. баррелей\n",
    "    * Разница от среднего безубыточного:\n",
    "        * Регион 1 - меньше на 19.21 %\n",
    "        * Регион 2 - меньше на 39.68 %\n",
    "        * Регион 3 - меньше на 15.84 % \n",
    "    * Разработка 500 случайных скважин в любом регионе будет убыточной \n",
    "* По TOP-200 скважин из случайных 500 в регионе:\n",
    "    * Средний запас фактичекой нефти на скважину:\n",
    "        * Регион 1 - 133.76 тыс. баррелей\n",
    "        * Регион 2 - 114.63 тыс. баррелей\n",
    "        * Регион 3 - 138.12 тыс. баррелей\n",
    "    * Разница от среднего безубыточного:\n",
    "        * Регион 1 - больше на 20.38 %\n",
    "        * Регион 2 - больше на 3.16 %\n",
    "        * Регион 3 - больше на 24.31 % \n",
    "    * Разработка TOP-200 скважин из случайных 500 наиболее выгодна в Регионе 1 и Регионе 3 "
   ]
  },
  {
   "cell_type": "markdown",
   "metadata": {},
   "source": [
    "## Расчёт прибыли и рисков <a id='calc_profit_risks'></a>"
   ]
  },
  {
   "cell_type": "markdown",
   "metadata": {},
   "source": [
    "### Создадим функцию для расчёта прибыли по выбранным скважинам и предсказаниям модели"
   ]
  },
  {
   "cell_type": "code",
   "execution_count": 23,
   "metadata": {},
   "outputs": [],
   "source": [
    "def profit_calc(target, predicted, count):\n",
    "    sorted_predicted = predicted.sort_values(ascending=False)\n",
    "    target_sum = target.iloc[sorted_predicted.index][:count].sum()\n",
    "    return price_1k_barrel * target_sum - budget"
   ]
  },
  {
   "cell_type": "markdown",
   "metadata": {},
   "source": [
    "### Посчитаем риски и прибыль для каждого региона"
   ]
  },
  {
   "cell_type": "code",
   "execution_count": 24,
   "metadata": {},
   "outputs": [],
   "source": [
    "def bootstrap(n_select, target, predicted, conf_interval):\n",
    "    val=[]\n",
    "    loss = 0\n",
    "    for i in range(n_select):\n",
    "        predicted_sample = predicted.sample(n=n_research_points, random_state=state, replace=True)\n",
    "        profit = profit_calc(target, predicted_sample, n_top_points)\n",
    "        if profit < 0:\n",
    "            loss +=1\n",
    "        val.append(profit)\n",
    "    \n",
    "    l_quant = (1 - conf_interval) / 2\n",
    "    u_quant = 1 - l_quant\n",
    "    \n",
    "    val = pd.Series(val)\n",
    "    lower = val.quantile(l_quant)\n",
    "    upper = val.quantile(u_quant)\n",
    "    val_mean = val.mean()\n",
    "    risk = loss / len(val)\n",
    "    return val_mean, lower, upper, risk"
   ]
  },
  {
   "cell_type": "code",
   "execution_count": 25,
   "metadata": {},
   "outputs": [],
   "source": [
    "val_mean_0, lower_0, upper_0, risk_0 = bootstrap(n_select, target_valid_0, predicted_0, conf_interval)\n",
    "val_mean_1, lower_1, upper_1, risk_1 = bootstrap(n_select, target_valid_1, predicted_1, conf_interval)\n",
    "val_mean_2, lower_2, upper_2, risk_2 = bootstrap(n_select, target_valid_2, predicted_2, conf_interval)"
   ]
  },
  {
   "cell_type": "markdown",
   "metadata": {},
   "source": [
    "#### Регион 1"
   ]
  },
  {
   "cell_type": "code",
   "execution_count": 26,
   "metadata": {
    "scrolled": true
   },
   "outputs": [
    {
     "name": "stdout",
     "output_type": "stream",
     "text": [
      "Средняя прибыль по региону = 396164984.80 руб.\n",
      "95% доверительный интервал от -111215545.89 руб. до 909766941.55 руб.\n",
      "Процент риска 6.90%\n"
     ]
    }
   ],
   "source": [
    "print('Средняя прибыль по региону = {:.2f} руб.'.format(val_mean_0))\n",
    "print('95% доверительный интервал от {:.2f} руб. до {:.2f} руб.'.format(lower_0, upper_0))\n",
    "print('Процент риска {:.2%}'.format(risk_0))"
   ]
  },
  {
   "cell_type": "markdown",
   "metadata": {},
   "source": [
    "#### Регион 2"
   ]
  },
  {
   "cell_type": "code",
   "execution_count": 27,
   "metadata": {
    "scrolled": true
   },
   "outputs": [
    {
     "name": "stdout",
     "output_type": "stream",
     "text": [
      "Средняя прибыль по региону = 461155817.28 руб.\n",
      "95% доверительный интервал от 78050810.75 руб. до 862952060.26 руб.\n",
      "Процент риска 0.70%\n"
     ]
    }
   ],
   "source": [
    "print('Средняя прибыль по региону = {:.2f} руб.'.format(val_mean_1))\n",
    "print('95% доверительный интервал от {:.2f} руб. до {:.2f} руб.'.format(lower_1, upper_1))\n",
    "print('Процент риска {:.2%}'.format(risk_1))"
   ]
  },
  {
   "cell_type": "markdown",
   "metadata": {},
   "source": [
    "#### Регион 3"
   ]
  },
  {
   "cell_type": "code",
   "execution_count": 28,
   "metadata": {},
   "outputs": [
    {
     "name": "stdout",
     "output_type": "stream",
     "text": [
      "Средняя прибыль по региону = 392950475.17 руб.\n",
      "95% доверительный интервал от -112227625.38 руб. до 934562914.55 руб.\n",
      "Процент риска 6.50%\n"
     ]
    }
   ],
   "source": [
    "print('Средняя прибыль по региону = {:.2f} руб.'.format(val_mean_2))\n",
    "print('95% доверительный интервал от {:.2f} руб. до {:.2f} руб.'.format(lower_2, upper_2))\n",
    "print('Процент риска {:.2%}'.format(risk_2))"
   ]
  },
  {
   "cell_type": "markdown",
   "metadata": {},
   "source": [
    "### Ощий итог расчета"
   ]
  },
  {
   "cell_type": "markdown",
   "metadata": {},
   "source": [
    "Регион 1:\n",
    "* Средняя прибыль по региону = 396164984.80 руб.\n",
    "* 95% доверительный интервал от -111215545.89 руб. до 909766941.55 руб.\n",
    "* Процент риска 6.90%\n",
    "\n",
    "Регион 2:\n",
    "* Средняя прибыль по региону = 461155817.28 руб.\n",
    "* 95% доверительный интервал от 78050810.75 руб. до 862952060.26 руб.\n",
    "* Процент риска 0.70%\n",
    "\n",
    "Регион 3:\n",
    "* Средняя прибыль по региону = 392950475.17 руб.\n",
    "* 95% доверительный интервал от -112227625.38 руб. до 934562914.55 руб.\n",
    "* Процент риска 6.50%"
   ]
  },
  {
   "cell_type": "markdown",
   "metadata": {},
   "source": [
    "## Итоговый выбор региона  <a id='choice'></a>"
   ]
  },
  {
   "cell_type": "code",
   "execution_count": 29,
   "metadata": {
    "scrolled": true
   },
   "outputs": [
    {
     "name": "stdout",
     "output_type": "stream",
     "text": [
      "Регион 1 не подходит для разработки из-за большого процента риска - 6.90%\n",
      "\n",
      "Регион 2 подходит для разработки, процент риска - 0.70%\n",
      "\n",
      "Регион 3 не подходит для разработки из-за большого процента риска - 6.50%\n",
      "\n",
      "Лучший регион для разработки - Регион 2\n",
      "Процент риска 0.70%\n",
      "Средняя прибыль по региону = 461155817.28 руб.\n"
     ]
    }
   ],
   "source": [
    "risks = {'Регион 1' : risk_0, 'Регион 2' : risk_1, 'Регион 3' : risk_2}\n",
    "val_means = {'Регион 1' : val_mean_0, 'Регион 2' : val_mean_1, 'Регион 3' : val_mean_2}\n",
    "best_region = ''\n",
    "best_risk = 0\n",
    "best_mean = 0\n",
    "\n",
    "for i in risks:\n",
    "    if risks[i] > max_risk:\n",
    "        print('{} не подходит для разработки из-за большого процента риска - {:.2%}'.format(i, risks[i]))\n",
    "        print()\n",
    "    else:\n",
    "        print('{} подходит для разработки, процент риска - {:.2%}'.format(i, risks[i]))\n",
    "        print()\n",
    "        if val_means[i] > best_mean:\n",
    "            best_region = i\n",
    "            best_risk = risks[i]\n",
    "            best_mean = val_means[i]\n",
    "            \n",
    "print('Лучший регион для разработки - {}'.format(best_region))\n",
    "print('Процент риска {:.2%}'.format(best_risk))\n",
    "print('Средняя прибыль по региону = {:.2f} руб.'.format(best_mean))"
   ]
  },
  {
   "cell_type": "markdown",
   "metadata": {},
   "source": [
    "## Общий вывод"
   ]
  },
  {
   "cell_type": "markdown",
   "metadata": {},
   "source": [
    "Проведено исследование с целью построить модель для определения региона, где добыча принесёт наибольшую прибыль, проанализировав возможную прибыль и риски.\n",
    "\n",
    "Данные были взяты из файлов geo_data_0.csv, geo_data_1.csv, geo_data_2.csv. В них предоставлены пробы нефти в трёх регионах. Характеристики для каждой скважины в регионе уже известны\n",
    "\n",
    "Исследование проходило в пять этапов:\n",
    "\n",
    "* [**Подготовка данных**](#exam_file) \n",
    "<br>\n",
    "\n",
    "    * У Региона 1 и Региона 3 (data0 и data2) распределение объемов в скважинах близко к нормальному\n",
    "    * В Регионе 2 (data1) данные имеют нетипичное распределение и не подчиняются нормальному закону распределения\n",
    "        * Либо в данных ошибка\n",
    "        * Либо данные созданы искусственно (синтетические)\n",
    "    * Каждый набор данных из трех регионов:\n",
    "        * Состоит из 100000 объектов\n",
    "        * Имеет 5 признаков (1 целевой и 4 вспомогательных):\n",
    "             * Признаки:\n",
    "                * id — уникальный идентификатор скважины\n",
    "                * f0, f1, f2 — три признака точек (неважно, что они означают, но сами признаки значимы)\n",
    "            * Целевой признак:\n",
    "                * product — объём запасов в скважине (тыс. баррелей)\n",
    "        * Явные дубликаты отсутствуют\n",
    "        * Мы удалили признак \"id\", так как он ни как не влияет на обучение модели <br>\n",
    "<br>\n",
    "\n",
    "* [**Обучение и проверка модели**](#learn) \n",
    "<br>\n",
    "\n",
    "    * Разделили данные на выборки для обучения:\n",
    "        * Регион 1:\n",
    "            * Вспомогательные признаки:\n",
    "                * features_train - Объектов: 75000 шт., признаков: 3 шт. - 75.00%\n",
    "                * features_valid - Объектов: 25000 шт., признаков: 3 шт. - 25.00%\n",
    "            * Целевые признаки:\n",
    "                * target_train - Объектов: 75000 шт. - 75.00%\n",
    "                * target_valid - Объектов: 25000 шт. - 25.00%\n",
    "        * Регион 2:\n",
    "            * Вспомогательные признаки:\n",
    "                * features_train - Объектов: 75000 шт., признаков: 3 шт. - 75.00%\n",
    "                * features_valid - Объектов: 25000 шт., признаков: 3 шт. - 25.00%\n",
    "            * Целевые признаки:\n",
    "                * target_train - Объектов: 75000 шт. - 75.00%\n",
    "                * target_valid - Объектов: 25000 шт. - 25.00%\n",
    "        * Регион 3:\n",
    "            * Вспомогательные признаки:\n",
    "                * features_train - Объектов: 75000 шт., признаков: 3 шт. - 75.00%\n",
    "                * features_valid - Объектов: 25000 шт., признаков: 3 шт. - 25.00%\n",
    "            * Целевые признаки:\n",
    "                * target_train - Объектов: 75000 шт. - 75.00%\n",
    "                * target_valid - Объектов: 25000 шт. - 25.00%\n",
    "    * Средний запас предсказанного сырья (тыс. баррелей):\n",
    "        * Регион 1 (92.59256778438035)\n",
    "        * Регион 2 (68.728546895446)\n",
    "        * Регион 3 (94.96504596800489)\n",
    "    * RMSE модели:\n",
    "        * Регион 1 (37.5794217150813)\n",
    "        * Регион 2 (0.893099286775617)\n",
    "        * Регион 3 (40.02970873393434)\n",
    "    * Наивысший средний запас предсказанного сырья (тыс. баррелей) в Регионе 3 (94.96504596800489)\n",
    "    * Лучшее качество предсказаний запасов модель показала в Регионе 2 (RMSE - 0.89), вероятнее всего из-за синтетических данных <br>\n",
    "<br>\n",
    "\n",
    "* [**Подготовка к расчёту прибыли**](#preparation_calc) \n",
    "<br>\n",
    "\n",
    "    * Все ключевые значения для расчётов сохранили в отдельных переменных\n",
    "    * Средний объём сырья для безубыточной разработки новой скважины 111.11 тыс. баррелей\n",
    "    * По среднему запасу фактичекой нефти по всем скважинам в регионах:\n",
    "        * Средний запас фактичекой нефти на скважину:\n",
    "            * Регион 1 - 92.5 тыс. баррелей\n",
    "            * Регион 2 - 68.83 тыс. баррелей\n",
    "            * Регион 3 - 95.0 тыс. баррелей\n",
    "        * Разница от среднего безубыточного:\n",
    "            * Регион 1 - меньше на 16.75 %\n",
    "            * Регион 2 - меньше на 38.06 %\n",
    "            * Регион 3 - меньше на 14.5 %\n",
    "        * Разработка всех скважин в любом регионе будет убыточной\n",
    "    * По 500 случайным скважинам в регионе:\n",
    "        * Средний запас фактичекой нефти на скважину:\n",
    "            * Регион 1 - 89.77 тыс. баррелей\n",
    "            * Регион 2 - 67.02 тыс. баррелей\n",
    "            * Регион 3 - 93.51 тыс. баррелей\n",
    "        * Разница от среднего безубыточного:\n",
    "            * Регион 1 - меньше на 19.21 %\n",
    "            * Регион 2 - меньше на 39.68 %\n",
    "            * Регион 3 - меньше на 15.84 %\n",
    "        * Разработка 500 случайных скважин в любом регионе будет убыточной\n",
    "    * По TOP-200 скважин из случайных 500 в регионе:\n",
    "        * Средний запас фактичекой нефти на скважину:\n",
    "            * Регион 1 - 133.76 тыс. баррелей\n",
    "            * Регион 2 - 114.63 тыс. баррелей\n",
    "            * Регион 3 - 138.12 тыс. баррелей\n",
    "        * Разница от среднего безубыточного:\n",
    "            * Регион 1 - больше на 20.38 %\n",
    "            * Регион 2 - больше на 3.16 %\n",
    "            * Регион 3 - больше на 24.31 %\n",
    "        * Разработка TOP-200 скважин из случайных 500 наиболее выгодна в Регионе 1 и Регионе 3 <br>\n",
    "<br>\n",
    "\n",
    "* [**Расчёт прибыли и рисков**](#calc_profit_risks) \n",
    "<br>\n",
    "\n",
    "    * Регион 1:\n",
    "        * Средняя прибыль по региону = 396164984.80 руб.\n",
    "        * 95% доверительный интервал от -111215545.89 руб. до 909766941.55 руб.\n",
    "        * Процент риска 6.90%\n",
    "    * Регион 2:\n",
    "        * Средняя прибыль по региону = 461155817.28 руб.\n",
    "        * 95% доверительный интервал от 78050810.75 руб. до 862952060.26 руб.\n",
    "        * Процент риска 0.70%\n",
    "    * Регион 3:\n",
    "        * Средняя прибыль по региону = 392950475.17 руб.\n",
    "        * 95% доверительный интервал от -112227625.38 руб. до 934562914.55 руб.\n",
    "        * Процент риска 6.50% <br>\n",
    "<br>\n",
    "\n",
    "* [**Итоговый выбор региона**](#choice)\n",
    "<br>\n",
    "\n",
    "    * Регион 1 не подходит для разработки из-за большого процента риска - 6.90%\n",
    "    * Регион 2 подходит для разработки, процент риска - 0.70%\n",
    "    * Регион 3 не подходит для разработки из-за большого процента риска - 6.50%\n",
    "    * Лучший регион для разработки:\n",
    "        * Регион 2\n",
    "        * Процент риска 0.70%\n",
    "        * Средняя прибыль по региону = 461155817.28 руб."
   ]
  }
 ],
 "metadata": {
  "ExecuteTimeLog": [
   {
    "duration": 453,
    "start_time": "2023-03-10T19:03:35.765Z"
   },
   {
    "duration": 843,
    "start_time": "2023-03-10T19:03:37.006Z"
   },
   {
    "duration": 3,
    "start_time": "2023-03-10T19:03:38.360Z"
   },
   {
    "duration": 233,
    "start_time": "2023-03-10T19:07:48.680Z"
   },
   {
    "duration": 207,
    "start_time": "2023-03-10T19:08:18.333Z"
   },
   {
    "duration": 71,
    "start_time": "2023-03-10T19:12:51.456Z"
   },
   {
    "duration": 19,
    "start_time": "2023-03-10T19:13:06.564Z"
   },
   {
    "duration": 24,
    "start_time": "2023-03-10T19:14:52.633Z"
   },
   {
    "duration": 28,
    "start_time": "2023-03-10T19:15:04.470Z"
   },
   {
    "duration": 223,
    "start_time": "2023-03-10T19:15:52.664Z"
   },
   {
    "duration": 258,
    "start_time": "2023-03-10T19:16:25.346Z"
   },
   {
    "duration": 287,
    "start_time": "2023-03-10T19:18:24.822Z"
   },
   {
    "duration": 12,
    "start_time": "2023-03-10T19:29:28.457Z"
   },
   {
    "duration": 27,
    "start_time": "2023-03-10T19:29:52.506Z"
   },
   {
    "duration": 3,
    "start_time": "2023-03-10T19:30:14.273Z"
   },
   {
    "duration": 1034,
    "start_time": "2023-03-10T19:30:14.278Z"
   },
   {
    "duration": 3,
    "start_time": "2023-03-10T19:30:15.314Z"
   },
   {
    "duration": 206,
    "start_time": "2023-03-10T19:30:15.318Z"
   },
   {
    "duration": 186,
    "start_time": "2023-03-10T19:30:15.526Z"
   },
   {
    "duration": 15,
    "start_time": "2023-03-10T19:30:42.803Z"
   },
   {
    "duration": 18,
    "start_time": "2023-03-10T19:30:45.179Z"
   },
   {
    "duration": 415,
    "start_time": "2023-03-10T19:30:45.198Z"
   },
   {
    "duration": 3,
    "start_time": "2023-03-10T19:30:45.615Z"
   },
   {
    "duration": 211,
    "start_time": "2023-03-10T19:30:45.620Z"
   },
   {
    "duration": 6,
    "start_time": "2023-03-10T19:30:45.833Z"
   },
   {
    "duration": 1416,
    "start_time": "2023-03-10T19:40:39.269Z"
   },
   {
    "duration": 861,
    "start_time": "2023-03-10T19:40:52.547Z"
   },
   {
    "duration": 576,
    "start_time": "2023-03-10T19:41:09.926Z"
   },
   {
    "duration": 563,
    "start_time": "2023-03-10T19:41:18.163Z"
   },
   {
    "duration": 18,
    "start_time": "2023-03-10T19:47:21.629Z"
   },
   {
    "duration": 18,
    "start_time": "2023-03-10T19:47:30.609Z"
   },
   {
    "duration": 8,
    "start_time": "2023-03-10T19:47:43.314Z"
   },
   {
    "duration": 8,
    "start_time": "2023-03-10T19:55:11.854Z"
   },
   {
    "duration": 5,
    "start_time": "2023-03-10T19:55:23.230Z"
   },
   {
    "duration": 6,
    "start_time": "2023-03-10T19:55:36.872Z"
   },
   {
    "duration": 352,
    "start_time": "2023-03-11T15:41:13.702Z"
   },
   {
    "duration": 1727,
    "start_time": "2023-03-11T15:41:14.646Z"
   },
   {
    "duration": 2,
    "start_time": "2023-03-11T15:41:16.375Z"
   },
   {
    "duration": 219,
    "start_time": "2023-03-11T15:41:16.379Z"
   },
   {
    "duration": 13,
    "start_time": "2023-03-11T15:41:26.177Z"
   },
   {
    "duration": 6,
    "start_time": "2023-03-11T15:41:27.127Z"
   },
   {
    "duration": 918,
    "start_time": "2023-03-11T15:51:21.687Z"
   },
   {
    "duration": 217,
    "start_time": "2023-03-11T15:54:19.472Z"
   },
   {
    "duration": 208,
    "start_time": "2023-03-11T15:55:39.863Z"
   },
   {
    "duration": 192,
    "start_time": "2023-03-11T15:56:45.695Z"
   },
   {
    "duration": 218,
    "start_time": "2023-03-11T15:57:14.931Z"
   },
   {
    "duration": 3,
    "start_time": "2023-03-11T15:58:42.885Z"
   },
   {
    "duration": 4,
    "start_time": "2023-03-11T15:58:45.254Z"
   },
   {
    "duration": 359,
    "start_time": "2023-03-11T15:58:45.260Z"
   },
   {
    "duration": 3,
    "start_time": "2023-03-11T15:58:45.620Z"
   },
   {
    "duration": 223,
    "start_time": "2023-03-11T15:58:45.625Z"
   },
   {
    "duration": 484,
    "start_time": "2023-03-11T15:58:45.850Z"
   },
   {
    "duration": 13,
    "start_time": "2023-03-11T15:58:46.336Z"
   },
   {
    "duration": 8,
    "start_time": "2023-03-11T15:58:46.350Z"
   },
   {
    "duration": 407,
    "start_time": "2023-03-11T15:59:05.963Z"
   },
   {
    "duration": 461,
    "start_time": "2023-03-11T15:59:19.699Z"
   },
   {
    "duration": 421,
    "start_time": "2023-03-11T16:01:24.122Z"
   },
   {
    "duration": 412,
    "start_time": "2023-03-11T16:01:44.566Z"
   },
   {
    "duration": 425,
    "start_time": "2023-03-11T16:01:51.757Z"
   },
   {
    "duration": 532,
    "start_time": "2023-03-11T16:02:42.225Z"
   },
   {
    "duration": 442,
    "start_time": "2023-03-11T16:03:00.326Z"
   },
   {
    "duration": 441,
    "start_time": "2023-03-11T16:03:15.457Z"
   },
   {
    "duration": 432,
    "start_time": "2023-03-11T16:04:43.911Z"
   },
   {
    "duration": 512,
    "start_time": "2023-03-11T16:06:40.076Z"
   },
   {
    "duration": 477,
    "start_time": "2023-03-11T16:09:41.351Z"
   },
   {
    "duration": 459,
    "start_time": "2023-03-11T16:10:06.273Z"
   },
   {
    "duration": 6,
    "start_time": "2023-03-11T16:21:11.275Z"
   },
   {
    "duration": 6,
    "start_time": "2023-03-11T16:21:19.388Z"
   },
   {
    "duration": 6,
    "start_time": "2023-03-11T17:49:40.737Z"
   },
   {
    "duration": 12,
    "start_time": "2023-03-11T17:50:18.145Z"
   },
   {
    "duration": 683,
    "start_time": "2023-03-11T17:50:52.646Z"
   },
   {
    "duration": 6,
    "start_time": "2023-03-11T17:50:58.606Z"
   },
   {
    "duration": 21,
    "start_time": "2023-03-11T17:51:00.452Z"
   },
   {
    "duration": 5,
    "start_time": "2023-03-11T17:53:20.935Z"
   },
   {
    "duration": 35,
    "start_time": "2023-03-11T17:53:22.555Z"
   },
   {
    "duration": 5,
    "start_time": "2023-03-11T17:54:29.897Z"
   },
   {
    "duration": 19,
    "start_time": "2023-03-11T17:54:31.487Z"
   },
   {
    "duration": 17,
    "start_time": "2023-03-11T17:55:38.784Z"
   },
   {
    "duration": 22,
    "start_time": "2023-03-11T17:56:07.057Z"
   },
   {
    "duration": 18,
    "start_time": "2023-03-11T17:56:29.470Z"
   },
   {
    "duration": 3,
    "start_time": "2023-03-11T17:57:51.652Z"
   },
   {
    "duration": 338,
    "start_time": "2023-03-11T17:57:51.657Z"
   },
   {
    "duration": 2,
    "start_time": "2023-03-11T17:57:51.998Z"
   },
   {
    "duration": 202,
    "start_time": "2023-03-11T17:57:52.002Z"
   },
   {
    "duration": 519,
    "start_time": "2023-03-11T17:57:52.206Z"
   },
   {
    "duration": 6,
    "start_time": "2023-03-11T17:57:52.727Z"
   },
   {
    "duration": 5,
    "start_time": "2023-03-11T17:57:52.740Z"
   },
   {
    "duration": 31,
    "start_time": "2023-03-11T17:57:52.747Z"
   },
   {
    "duration": 20,
    "start_time": "2023-03-11T17:57:52.780Z"
   },
   {
    "duration": 22,
    "start_time": "2023-03-11T17:57:52.801Z"
   },
   {
    "duration": 29,
    "start_time": "2023-03-11T17:59:01.307Z"
   },
   {
    "duration": 43,
    "start_time": "2023-03-11T17:59:15.341Z"
   },
   {
    "duration": 3,
    "start_time": "2023-03-11T17:59:36.196Z"
   },
   {
    "duration": 339,
    "start_time": "2023-03-11T17:59:36.202Z"
   },
   {
    "duration": 2,
    "start_time": "2023-03-11T17:59:36.543Z"
   },
   {
    "duration": 203,
    "start_time": "2023-03-11T17:59:36.547Z"
   },
   {
    "duration": 541,
    "start_time": "2023-03-11T17:59:36.753Z"
   },
   {
    "duration": 7,
    "start_time": "2023-03-11T17:59:37.296Z"
   },
   {
    "duration": 7,
    "start_time": "2023-03-11T17:59:37.305Z"
   },
   {
    "duration": 40,
    "start_time": "2023-03-11T17:59:37.314Z"
   },
   {
    "duration": 23,
    "start_time": "2023-03-11T17:59:37.356Z"
   },
   {
    "duration": 23,
    "start_time": "2023-03-11T17:59:37.381Z"
   },
   {
    "duration": 9,
    "start_time": "2023-03-11T18:01:34.871Z"
   },
   {
    "duration": 2,
    "start_time": "2023-03-11T18:01:44.597Z"
   },
   {
    "duration": 329,
    "start_time": "2023-03-11T18:01:44.601Z"
   },
   {
    "duration": 3,
    "start_time": "2023-03-11T18:01:44.931Z"
   },
   {
    "duration": 200,
    "start_time": "2023-03-11T18:01:44.940Z"
   },
   {
    "duration": 465,
    "start_time": "2023-03-11T18:01:45.142Z"
   },
   {
    "duration": 7,
    "start_time": "2023-03-11T18:01:45.608Z"
   },
   {
    "duration": 7,
    "start_time": "2023-03-11T18:01:45.616Z"
   },
   {
    "duration": 30,
    "start_time": "2023-03-11T18:01:45.625Z"
   },
   {
    "duration": 16,
    "start_time": "2023-03-11T18:01:45.657Z"
   },
   {
    "duration": 17,
    "start_time": "2023-03-11T18:01:45.674Z"
   },
   {
    "duration": 12,
    "start_time": "2023-03-11T18:01:59.672Z"
   },
   {
    "duration": 1712,
    "start_time": "2023-03-12T05:53:31.437Z"
   },
   {
    "duration": 175,
    "start_time": "2023-03-12T07:06:22.966Z"
   },
   {
    "duration": 8,
    "start_time": "2023-03-12T07:06:44.109Z"
   },
   {
    "duration": 9,
    "start_time": "2023-03-12T07:06:47.407Z"
   },
   {
    "duration": 1639,
    "start_time": "2023-03-12T07:06:47.422Z"
   },
   {
    "duration": 4,
    "start_time": "2023-03-12T07:06:49.071Z"
   },
   {
    "duration": 431,
    "start_time": "2023-03-12T07:06:49.077Z"
   },
   {
    "duration": 676,
    "start_time": "2023-03-12T07:06:49.513Z"
   },
   {
    "duration": 19,
    "start_time": "2023-03-12T07:06:50.197Z"
   },
   {
    "duration": 50,
    "start_time": "2023-03-12T07:06:50.225Z"
   },
   {
    "duration": 140,
    "start_time": "2023-03-12T07:06:50.277Z"
   },
   {
    "duration": 32,
    "start_time": "2023-03-12T07:06:50.434Z"
   },
   {
    "duration": 96,
    "start_time": "2023-03-12T07:06:50.469Z"
   },
   {
    "duration": 7,
    "start_time": "2023-03-12T07:06:50.567Z"
   },
   {
    "duration": 213,
    "start_time": "2023-03-12T07:09:00.458Z"
   },
   {
    "duration": 13,
    "start_time": "2023-03-12T07:09:27.974Z"
   },
   {
    "duration": 149,
    "start_time": "2023-03-12T07:09:29.988Z"
   },
   {
    "duration": 68,
    "start_time": "2023-03-12T07:09:41.418Z"
   },
   {
    "duration": 72,
    "start_time": "2023-03-12T07:10:07.398Z"
   },
   {
    "duration": 6,
    "start_time": "2023-03-12T07:12:02.740Z"
   },
   {
    "duration": 172,
    "start_time": "2023-03-12T07:12:04.354Z"
   },
   {
    "duration": 38,
    "start_time": "2023-03-12T07:12:37.930Z"
   },
   {
    "duration": 20,
    "start_time": "2023-03-12T07:12:58.967Z"
   },
   {
    "duration": 17,
    "start_time": "2023-03-12T07:22:45.500Z"
   },
   {
    "duration": 9,
    "start_time": "2023-03-12T07:24:20.950Z"
   },
   {
    "duration": 8,
    "start_time": "2023-03-12T07:25:13.500Z"
   },
   {
    "duration": 6,
    "start_time": "2023-03-12T07:25:26.267Z"
   },
   {
    "duration": 5,
    "start_time": "2023-03-12T07:25:42.245Z"
   },
   {
    "duration": 17,
    "start_time": "2023-03-12T08:04:38.031Z"
   },
   {
    "duration": 631,
    "start_time": "2023-03-12T08:10:48.430Z"
   },
   {
    "duration": 602,
    "start_time": "2023-03-12T08:25:27.002Z"
   },
   {
    "duration": 721,
    "start_time": "2023-03-12T08:25:46.698Z"
   },
   {
    "duration": 24,
    "start_time": "2023-03-12T09:26:44.878Z"
   },
   {
    "duration": 2,
    "start_time": "2023-03-12T09:26:48.155Z"
   },
   {
    "duration": 4,
    "start_time": "2023-03-12T09:26:50.212Z"
   },
   {
    "duration": 7,
    "start_time": "2023-03-12T09:26:56.322Z"
   },
   {
    "duration": 4,
    "start_time": "2023-03-12T09:29:00.559Z"
   },
   {
    "duration": 6,
    "start_time": "2023-03-12T09:29:41.708Z"
   },
   {
    "duration": 3,
    "start_time": "2023-03-12T09:29:53.841Z"
   },
   {
    "duration": 7,
    "start_time": "2023-03-12T09:40:42.043Z"
   },
   {
    "duration": 9,
    "start_time": "2023-03-12T09:41:22.599Z"
   },
   {
    "duration": 10,
    "start_time": "2023-03-12T09:47:25.850Z"
   },
   {
    "duration": 14,
    "start_time": "2023-03-12T09:47:46.571Z"
   },
   {
    "duration": 8,
    "start_time": "2023-03-12T09:47:54.952Z"
   },
   {
    "duration": 9,
    "start_time": "2023-03-12T09:48:08.249Z"
   },
   {
    "duration": 17,
    "start_time": "2023-03-12T09:52:12.254Z"
   },
   {
    "duration": 42,
    "start_time": "2023-03-12T09:59:48.979Z"
   },
   {
    "duration": 7,
    "start_time": "2023-03-12T11:20:37.741Z"
   },
   {
    "duration": 7,
    "start_time": "2023-03-12T11:20:46.708Z"
   },
   {
    "duration": 7,
    "start_time": "2023-03-12T11:25:09.926Z"
   },
   {
    "duration": 96,
    "start_time": "2023-03-12T11:27:06.071Z"
   },
   {
    "duration": 14,
    "start_time": "2023-03-12T11:27:14.814Z"
   },
   {
    "duration": 9,
    "start_time": "2023-03-12T11:28:23.974Z"
   },
   {
    "duration": 8,
    "start_time": "2023-03-12T11:28:46.617Z"
   },
   {
    "duration": 10,
    "start_time": "2023-03-12T11:30:01.306Z"
   },
   {
    "duration": 100,
    "start_time": "2023-03-12T11:30:23.259Z"
   },
   {
    "duration": 91,
    "start_time": "2023-03-12T11:30:35.829Z"
   },
   {
    "duration": 9,
    "start_time": "2023-03-12T11:31:02.906Z"
   },
   {
    "duration": 5,
    "start_time": "2023-03-12T11:31:49.043Z"
   },
   {
    "duration": 9,
    "start_time": "2023-03-12T11:32:24.501Z"
   },
   {
    "duration": 9,
    "start_time": "2023-03-12T11:33:00.464Z"
   },
   {
    "duration": 8,
    "start_time": "2023-03-12T11:33:37.903Z"
   },
   {
    "duration": 8,
    "start_time": "2023-03-12T11:33:48.759Z"
   },
   {
    "duration": 18,
    "start_time": "2023-03-12T11:34:03.190Z"
   },
   {
    "duration": 9,
    "start_time": "2023-03-12T11:37:56.214Z"
   },
   {
    "duration": 9,
    "start_time": "2023-03-12T11:38:35.109Z"
   },
   {
    "duration": 3,
    "start_time": "2023-03-12T11:40:13.845Z"
   },
   {
    "duration": 408,
    "start_time": "2023-03-12T11:40:13.851Z"
   },
   {
    "duration": 202,
    "start_time": "2023-03-12T11:40:14.261Z"
   },
   {
    "duration": 536,
    "start_time": "2023-03-12T11:40:14.464Z"
   },
   {
    "duration": 10,
    "start_time": "2023-03-12T11:40:15.002Z"
   },
   {
    "duration": 31,
    "start_time": "2023-03-12T11:40:15.014Z"
   },
   {
    "duration": 48,
    "start_time": "2023-03-12T11:40:15.047Z"
   },
   {
    "duration": 19,
    "start_time": "2023-03-12T11:40:15.098Z"
   },
   {
    "duration": 10,
    "start_time": "2023-03-12T11:40:15.118Z"
   },
   {
    "duration": 8,
    "start_time": "2023-03-12T11:40:15.130Z"
   },
   {
    "duration": 45,
    "start_time": "2023-03-12T11:40:15.142Z"
   },
   {
    "duration": 101,
    "start_time": "2023-03-12T11:40:15.190Z"
   },
   {
    "duration": 117,
    "start_time": "2023-03-12T11:40:15.299Z"
   },
   {
    "duration": 80,
    "start_time": "2023-03-12T11:40:15.420Z"
   },
   {
    "duration": 109,
    "start_time": "2023-03-12T11:40:15.503Z"
   },
   {
    "duration": 4,
    "start_time": "2023-03-12T11:40:15.614Z"
   },
   {
    "duration": 5,
    "start_time": "2023-03-12T11:40:15.620Z"
   },
   {
    "duration": 10,
    "start_time": "2023-03-12T11:40:15.626Z"
   },
   {
    "duration": 18,
    "start_time": "2023-03-12T11:40:15.637Z"
   },
   {
    "duration": 11,
    "start_time": "2023-03-12T11:40:15.656Z"
   },
   {
    "duration": 42,
    "start_time": "2023-03-12T11:40:15.668Z"
   },
   {
    "duration": 3,
    "start_time": "2023-03-12T11:41:41.019Z"
   },
   {
    "duration": 382,
    "start_time": "2023-03-12T11:41:41.024Z"
   },
   {
    "duration": 206,
    "start_time": "2023-03-12T11:41:41.408Z"
   },
   {
    "duration": 459,
    "start_time": "2023-03-12T11:41:41.615Z"
   },
   {
    "duration": 18,
    "start_time": "2023-03-12T11:41:42.079Z"
   },
   {
    "duration": 20,
    "start_time": "2023-03-12T11:41:42.099Z"
   },
   {
    "duration": 18,
    "start_time": "2023-03-12T11:41:42.121Z"
   },
   {
    "duration": 13,
    "start_time": "2023-03-12T11:41:42.141Z"
   },
   {
    "duration": 14,
    "start_time": "2023-03-12T11:41:42.155Z"
   },
   {
    "duration": 2,
    "start_time": "2023-03-12T11:41:42.171Z"
   },
   {
    "duration": 36,
    "start_time": "2023-03-12T11:41:42.175Z"
   },
   {
    "duration": 105,
    "start_time": "2023-03-12T11:41:42.212Z"
   },
   {
    "duration": 124,
    "start_time": "2023-03-12T11:41:42.386Z"
   },
   {
    "duration": 76,
    "start_time": "2023-03-12T11:41:42.512Z"
   },
   {
    "duration": 85,
    "start_time": "2023-03-12T11:41:42.604Z"
   },
   {
    "duration": 16,
    "start_time": "2023-03-12T11:41:42.692Z"
   },
   {
    "duration": 6,
    "start_time": "2023-03-12T11:41:42.710Z"
   },
   {
    "duration": 5,
    "start_time": "2023-03-12T11:41:42.717Z"
   },
   {
    "duration": 11,
    "start_time": "2023-03-12T11:41:42.723Z"
   },
   {
    "duration": 9,
    "start_time": "2023-03-12T11:41:42.735Z"
   },
   {
    "duration": 45,
    "start_time": "2023-03-12T11:41:42.745Z"
   },
   {
    "duration": 17,
    "start_time": "2023-03-12T11:46:09.006Z"
   },
   {
    "duration": 3,
    "start_time": "2023-03-12T11:48:31.432Z"
   },
   {
    "duration": 15,
    "start_time": "2023-03-12T11:53:35.778Z"
   },
   {
    "duration": 23,
    "start_time": "2023-03-12T11:54:13.879Z"
   },
   {
    "duration": 13,
    "start_time": "2023-03-12T11:54:46.000Z"
   },
   {
    "duration": 6,
    "start_time": "2023-03-12T11:55:49.821Z"
   },
   {
    "duration": 75,
    "start_time": "2023-03-12T11:59:10.200Z"
   },
   {
    "duration": 46,
    "start_time": "2023-03-12T11:59:47.752Z"
   },
   {
    "duration": 43,
    "start_time": "2023-03-12T12:00:11.948Z"
   },
   {
    "duration": 10,
    "start_time": "2023-03-12T12:01:53.606Z"
   },
   {
    "duration": 34,
    "start_time": "2023-03-12T12:12:42.043Z"
   },
   {
    "duration": 12,
    "start_time": "2023-03-12T12:14:56.295Z"
   },
   {
    "duration": 12,
    "start_time": "2023-03-12T12:16:17.391Z"
   },
   {
    "duration": 22,
    "start_time": "2023-03-12T12:16:39.439Z"
   },
   {
    "duration": 14,
    "start_time": "2023-03-12T12:16:53.731Z"
   },
   {
    "duration": 42,
    "start_time": "2023-03-12T12:17:27.415Z"
   },
   {
    "duration": 37,
    "start_time": "2023-03-12T12:17:45.387Z"
   },
   {
    "duration": 17,
    "start_time": "2023-03-12T12:19:02.671Z"
   },
   {
    "duration": 35,
    "start_time": "2023-03-12T12:22:53.860Z"
   },
   {
    "duration": 18,
    "start_time": "2023-03-12T12:23:53.494Z"
   },
   {
    "duration": 13,
    "start_time": "2023-03-12T12:24:34.271Z"
   },
   {
    "duration": 16,
    "start_time": "2023-03-12T12:24:39.758Z"
   },
   {
    "duration": 4,
    "start_time": "2023-03-12T15:47:59.802Z"
   },
   {
    "duration": 3,
    "start_time": "2023-03-12T15:48:10.084Z"
   },
   {
    "duration": 66,
    "start_time": "2023-03-12T15:49:35.981Z"
   },
   {
    "duration": 4,
    "start_time": "2023-03-12T15:49:49.278Z"
   },
   {
    "duration": 5,
    "start_time": "2023-03-12T15:49:58.076Z"
   },
   {
    "duration": 3,
    "start_time": "2023-03-12T15:49:58.735Z"
   },
   {
    "duration": 4,
    "start_time": "2023-03-12T15:50:06.652Z"
   },
   {
    "duration": 4,
    "start_time": "2023-03-12T15:50:06.676Z"
   },
   {
    "duration": 364,
    "start_time": "2023-03-12T15:50:06.681Z"
   },
   {
    "duration": 187,
    "start_time": "2023-03-12T15:50:07.047Z"
   },
   {
    "duration": 439,
    "start_time": "2023-03-12T15:50:07.236Z"
   },
   {
    "duration": 7,
    "start_time": "2023-03-12T15:50:07.676Z"
   },
   {
    "duration": 7,
    "start_time": "2023-03-12T15:50:07.684Z"
   },
   {
    "duration": 18,
    "start_time": "2023-03-12T15:50:07.692Z"
   },
   {
    "duration": 11,
    "start_time": "2023-03-12T15:50:07.712Z"
   },
   {
    "duration": 11,
    "start_time": "2023-03-12T15:50:07.724Z"
   },
   {
    "duration": 3,
    "start_time": "2023-03-12T15:50:07.736Z"
   },
   {
    "duration": 40,
    "start_time": "2023-03-12T15:50:07.740Z"
   },
   {
    "duration": 102,
    "start_time": "2023-03-12T15:50:07.781Z"
   },
   {
    "duration": 193,
    "start_time": "2023-03-12T15:50:07.887Z"
   },
   {
    "duration": 4,
    "start_time": "2023-03-12T15:50:08.082Z"
   },
   {
    "duration": 98,
    "start_time": "2023-03-12T15:50:08.090Z"
   },
   {
    "duration": 7,
    "start_time": "2023-03-12T15:50:08.190Z"
   },
   {
    "duration": 8,
    "start_time": "2023-03-12T15:50:08.198Z"
   },
   {
    "duration": 5,
    "start_time": "2023-03-12T15:50:08.207Z"
   },
   {
    "duration": 6,
    "start_time": "2023-03-12T15:50:08.213Z"
   },
   {
    "duration": 8,
    "start_time": "2023-03-12T15:50:08.221Z"
   },
   {
    "duration": 13,
    "start_time": "2023-03-12T15:50:08.230Z"
   },
   {
    "duration": 12,
    "start_time": "2023-03-12T15:50:08.244Z"
   },
   {
    "duration": 4,
    "start_time": "2023-03-12T15:50:21.489Z"
   },
   {
    "duration": 4,
    "start_time": "2023-03-12T15:50:24.588Z"
   },
   {
    "duration": 4,
    "start_time": "2023-03-12T15:50:27.984Z"
   },
   {
    "duration": 4,
    "start_time": "2023-03-12T15:50:34.712Z"
   },
   {
    "duration": 4,
    "start_time": "2023-03-12T15:50:35.399Z"
   },
   {
    "duration": 3,
    "start_time": "2023-03-12T15:50:40.488Z"
   },
   {
    "duration": 3,
    "start_time": "2023-03-12T15:50:41.209Z"
   },
   {
    "duration": 4,
    "start_time": "2023-03-12T15:50:47.085Z"
   },
   {
    "duration": 4,
    "start_time": "2023-03-12T15:50:50.254Z"
   },
   {
    "duration": 3,
    "start_time": "2023-03-12T15:50:51.189Z"
   },
   {
    "duration": 5,
    "start_time": "2023-03-12T15:51:36.103Z"
   },
   {
    "duration": 352,
    "start_time": "2023-03-12T15:51:36.110Z"
   },
   {
    "duration": 190,
    "start_time": "2023-03-12T15:51:36.463Z"
   },
   {
    "duration": 468,
    "start_time": "2023-03-12T15:51:36.655Z"
   },
   {
    "duration": 7,
    "start_time": "2023-03-12T15:51:37.124Z"
   },
   {
    "duration": 6,
    "start_time": "2023-03-12T15:51:37.132Z"
   },
   {
    "duration": 19,
    "start_time": "2023-03-12T15:51:37.140Z"
   },
   {
    "duration": 26,
    "start_time": "2023-03-12T15:51:37.162Z"
   },
   {
    "duration": 14,
    "start_time": "2023-03-12T15:51:37.189Z"
   },
   {
    "duration": 2,
    "start_time": "2023-03-12T15:51:37.205Z"
   },
   {
    "duration": 18,
    "start_time": "2023-03-12T15:51:37.209Z"
   },
   {
    "duration": 59,
    "start_time": "2023-03-12T15:51:37.229Z"
   },
   {
    "duration": 200,
    "start_time": "2023-03-12T15:51:37.290Z"
   },
   {
    "duration": 85,
    "start_time": "2023-03-12T15:51:37.499Z"
   },
   {
    "duration": 106,
    "start_time": "2023-03-12T15:51:37.588Z"
   },
   {
    "duration": 9,
    "start_time": "2023-03-12T15:51:37.696Z"
   },
   {
    "duration": 5,
    "start_time": "2023-03-12T15:51:37.707Z"
   },
   {
    "duration": 5,
    "start_time": "2023-03-12T15:51:37.714Z"
   },
   {
    "duration": 5,
    "start_time": "2023-03-12T15:51:37.721Z"
   },
   {
    "duration": 9,
    "start_time": "2023-03-12T15:51:37.728Z"
   },
   {
    "duration": 14,
    "start_time": "2023-03-12T15:51:37.738Z"
   },
   {
    "duration": 34,
    "start_time": "2023-03-12T15:51:37.753Z"
   },
   {
    "duration": 5,
    "start_time": "2023-03-12T19:11:57.129Z"
   },
   {
    "duration": 23,
    "start_time": "2023-03-12T19:34:32.931Z"
   },
   {
    "duration": 22,
    "start_time": "2023-03-12T19:35:25.423Z"
   },
   {
    "duration": 8,
    "start_time": "2023-03-12T19:36:22.932Z"
   },
   {
    "duration": 22,
    "start_time": "2023-03-12T19:38:03.771Z"
   },
   {
    "duration": 15,
    "start_time": "2023-03-12T19:41:00.370Z"
   },
   {
    "duration": 10,
    "start_time": "2023-03-12T19:41:10.110Z"
   },
   {
    "duration": 10,
    "start_time": "2023-03-12T19:42:00.906Z"
   },
   {
    "duration": 9,
    "start_time": "2023-03-12T19:43:40.449Z"
   },
   {
    "duration": 15,
    "start_time": "2023-03-12T19:44:27.403Z"
   },
   {
    "duration": 29,
    "start_time": "2023-03-12T19:45:21.829Z"
   },
   {
    "duration": 8,
    "start_time": "2023-03-12T19:46:12.268Z"
   },
   {
    "duration": 1420,
    "start_time": "2023-03-13T04:33:40.926Z"
   },
   {
    "duration": 560,
    "start_time": "2023-03-13T04:33:42.348Z"
   },
   {
    "duration": 216,
    "start_time": "2023-03-13T04:33:42.909Z"
   },
   {
    "duration": 468,
    "start_time": "2023-03-13T04:33:43.127Z"
   },
   {
    "duration": 12,
    "start_time": "2023-03-13T04:33:43.597Z"
   },
   {
    "duration": 6,
    "start_time": "2023-03-13T04:33:43.610Z"
   },
   {
    "duration": 20,
    "start_time": "2023-03-13T04:33:43.617Z"
   },
   {
    "duration": 12,
    "start_time": "2023-03-13T04:33:43.639Z"
   },
   {
    "duration": 35,
    "start_time": "2023-03-13T04:33:43.652Z"
   },
   {
    "duration": 3,
    "start_time": "2023-03-13T04:33:43.689Z"
   },
   {
    "duration": 87,
    "start_time": "2023-03-13T04:33:43.694Z"
   },
   {
    "duration": 97,
    "start_time": "2023-03-13T04:33:43.783Z"
   },
   {
    "duration": 98,
    "start_time": "2023-03-13T04:33:43.883Z"
   },
   {
    "duration": 122,
    "start_time": "2023-03-13T04:33:43.983Z"
   },
   {
    "duration": 10,
    "start_time": "2023-03-13T04:33:44.107Z"
   },
   {
    "duration": 11,
    "start_time": "2023-03-13T04:33:44.179Z"
   },
   {
    "duration": 7,
    "start_time": "2023-03-13T04:33:44.191Z"
   },
   {
    "duration": 3,
    "start_time": "2023-03-13T04:33:44.200Z"
   },
   {
    "duration": 12,
    "start_time": "2023-03-13T04:33:44.205Z"
   },
   {
    "duration": 10,
    "start_time": "2023-03-13T04:33:44.219Z"
   },
   {
    "duration": 14,
    "start_time": "2023-03-13T04:33:44.230Z"
   },
   {
    "duration": 12,
    "start_time": "2023-03-13T04:33:44.246Z"
   },
   {
    "duration": 9,
    "start_time": "2023-03-13T04:33:44.279Z"
   },
   {
    "duration": 1665,
    "start_time": "2023-03-13T09:14:09.663Z"
   },
   {
    "duration": 645,
    "start_time": "2023-03-13T09:14:11.331Z"
   },
   {
    "duration": 234,
    "start_time": "2023-03-13T09:14:11.978Z"
   },
   {
    "duration": 539,
    "start_time": "2023-03-13T09:14:12.213Z"
   },
   {
    "duration": 14,
    "start_time": "2023-03-13T09:14:12.758Z"
   },
   {
    "duration": 7,
    "start_time": "2023-03-13T09:14:12.775Z"
   },
   {
    "duration": 22,
    "start_time": "2023-03-13T09:14:12.784Z"
   },
   {
    "duration": 16,
    "start_time": "2023-03-13T09:14:12.807Z"
   },
   {
    "duration": 41,
    "start_time": "2023-03-13T09:14:12.825Z"
   },
   {
    "duration": 3,
    "start_time": "2023-03-13T09:14:12.868Z"
   },
   {
    "duration": 91,
    "start_time": "2023-03-13T09:14:12.872Z"
   },
   {
    "duration": 110,
    "start_time": "2023-03-13T09:14:12.966Z"
   },
   {
    "duration": 107,
    "start_time": "2023-03-13T09:14:13.158Z"
   },
   {
    "duration": 90,
    "start_time": "2023-03-13T09:14:13.271Z"
   },
   {
    "duration": 11,
    "start_time": "2023-03-13T09:14:13.363Z"
   },
   {
    "duration": 6,
    "start_time": "2023-03-13T09:14:13.376Z"
   },
   {
    "duration": 6,
    "start_time": "2023-03-13T09:14:13.383Z"
   },
   {
    "duration": 3,
    "start_time": "2023-03-13T09:14:13.391Z"
   },
   {
    "duration": 7,
    "start_time": "2023-03-13T09:14:13.396Z"
   },
   {
    "duration": 11,
    "start_time": "2023-03-13T09:14:13.405Z"
   },
   {
    "duration": 47,
    "start_time": "2023-03-13T09:14:13.417Z"
   },
   {
    "duration": 15,
    "start_time": "2023-03-13T09:14:13.466Z"
   },
   {
    "duration": 10,
    "start_time": "2023-03-13T09:14:13.482Z"
   },
   {
    "duration": 6,
    "start_time": "2023-03-13T09:33:32.956Z"
   },
   {
    "duration": 126,
    "start_time": "2023-03-13T09:35:05.030Z"
   },
   {
    "duration": 4,
    "start_time": "2023-03-13T09:41:14.576Z"
   },
   {
    "duration": 8,
    "start_time": "2023-03-13T09:41:18.501Z"
   },
   {
    "duration": 13,
    "start_time": "2023-03-13T09:41:20.456Z"
   },
   {
    "duration": 17,
    "start_time": "2023-03-13T09:41:21.065Z"
   },
   {
    "duration": 3,
    "start_time": "2023-03-13T09:41:25.081Z"
   },
   {
    "duration": 5,
    "start_time": "2023-03-13T09:41:28.584Z"
   },
   {
    "duration": 24,
    "start_time": "2023-03-13T09:41:29.799Z"
   },
   {
    "duration": 26,
    "start_time": "2023-03-13T09:44:44.535Z"
   },
   {
    "duration": 5,
    "start_time": "2023-03-13T09:47:59.989Z"
   },
   {
    "duration": 25,
    "start_time": "2023-03-13T09:48:02.000Z"
   },
   {
    "duration": 6,
    "start_time": "2023-03-13T09:49:25.880Z"
   },
   {
    "duration": 28,
    "start_time": "2023-03-13T09:49:27.262Z"
   },
   {
    "duration": 3,
    "start_time": "2023-03-13T09:53:30.206Z"
   },
   {
    "duration": 6,
    "start_time": "2023-03-13T09:53:31.760Z"
   },
   {
    "duration": 32,
    "start_time": "2023-03-13T09:53:33.132Z"
   },
   {
    "duration": 4,
    "start_time": "2023-03-13T09:54:06.048Z"
   },
   {
    "duration": 417,
    "start_time": "2023-03-13T09:54:06.055Z"
   },
   {
    "duration": 284,
    "start_time": "2023-03-13T09:54:06.474Z"
   },
   {
    "duration": 756,
    "start_time": "2023-03-13T09:54:06.760Z"
   },
   {
    "duration": 10,
    "start_time": "2023-03-13T09:54:07.519Z"
   },
   {
    "duration": 20,
    "start_time": "2023-03-13T09:54:07.531Z"
   },
   {
    "duration": 37,
    "start_time": "2023-03-13T09:54:07.553Z"
   },
   {
    "duration": 14,
    "start_time": "2023-03-13T09:54:07.592Z"
   },
   {
    "duration": 16,
    "start_time": "2023-03-13T09:54:07.609Z"
   },
   {
    "duration": 4,
    "start_time": "2023-03-13T09:54:07.627Z"
   },
   {
    "duration": 130,
    "start_time": "2023-03-13T09:54:07.635Z"
   },
   {
    "duration": 104,
    "start_time": "2023-03-13T09:54:07.769Z"
   },
   {
    "duration": 103,
    "start_time": "2023-03-13T09:54:07.875Z"
   },
   {
    "duration": 102,
    "start_time": "2023-03-13T09:54:08.058Z"
   },
   {
    "duration": 10,
    "start_time": "2023-03-13T09:54:08.162Z"
   },
   {
    "duration": 16,
    "start_time": "2023-03-13T09:54:08.174Z"
   },
   {
    "duration": 7,
    "start_time": "2023-03-13T09:54:08.192Z"
   },
   {
    "duration": 6,
    "start_time": "2023-03-13T09:54:08.201Z"
   },
   {
    "duration": 7,
    "start_time": "2023-03-13T09:54:08.209Z"
   },
   {
    "duration": 11,
    "start_time": "2023-03-13T09:54:08.217Z"
   },
   {
    "duration": 41,
    "start_time": "2023-03-13T09:54:08.230Z"
   },
   {
    "duration": 21,
    "start_time": "2023-03-13T09:54:08.273Z"
   },
   {
    "duration": 4,
    "start_time": "2023-03-13T09:54:08.295Z"
   },
   {
    "duration": 10,
    "start_time": "2023-03-13T09:54:08.301Z"
   },
   {
    "duration": 49,
    "start_time": "2023-03-13T09:54:08.313Z"
   },
   {
    "duration": 5,
    "start_time": "2023-03-13T09:57:04.804Z"
   },
   {
    "duration": 27,
    "start_time": "2023-03-13T09:57:05.525Z"
   },
   {
    "duration": 6,
    "start_time": "2023-03-13T09:57:28.504Z"
   },
   {
    "duration": 23,
    "start_time": "2023-03-13T09:57:29.041Z"
   },
   {
    "duration": 7,
    "start_time": "2023-03-13T09:59:08.366Z"
   },
   {
    "duration": 23,
    "start_time": "2023-03-13T09:59:08.943Z"
   },
   {
    "duration": 5,
    "start_time": "2023-03-13T10:02:07.801Z"
   },
   {
    "duration": 24,
    "start_time": "2023-03-13T10:02:08.503Z"
   },
   {
    "duration": 4,
    "start_time": "2023-03-13T10:05:01.016Z"
   },
   {
    "duration": 23,
    "start_time": "2023-03-13T10:05:01.554Z"
   },
   {
    "duration": 5,
    "start_time": "2023-03-13T10:06:08.709Z"
   },
   {
    "duration": 28,
    "start_time": "2023-03-13T10:06:09.333Z"
   },
   {
    "duration": 6,
    "start_time": "2023-03-13T10:13:20.614Z"
   },
   {
    "duration": 25,
    "start_time": "2023-03-13T10:13:21.101Z"
   },
   {
    "duration": 5,
    "start_time": "2023-03-13T10:13:45.761Z"
   },
   {
    "duration": 20,
    "start_time": "2023-03-13T10:13:46.248Z"
   },
   {
    "duration": 4,
    "start_time": "2023-03-13T10:13:54.843Z"
   },
   {
    "duration": 523,
    "start_time": "2023-03-13T10:13:55.939Z"
   },
   {
    "duration": 4,
    "start_time": "2023-03-13T10:15:49.014Z"
   },
   {
    "duration": 440,
    "start_time": "2023-03-13T10:15:49.020Z"
   },
   {
    "duration": 238,
    "start_time": "2023-03-13T10:15:49.462Z"
   },
   {
    "duration": 511,
    "start_time": "2023-03-13T10:15:49.702Z"
   },
   {
    "duration": 7,
    "start_time": "2023-03-13T10:15:50.215Z"
   },
   {
    "duration": 11,
    "start_time": "2023-03-13T10:15:50.224Z"
   },
   {
    "duration": 23,
    "start_time": "2023-03-13T10:15:50.237Z"
   },
   {
    "duration": 12,
    "start_time": "2023-03-13T10:15:50.262Z"
   },
   {
    "duration": 14,
    "start_time": "2023-03-13T10:15:50.276Z"
   },
   {
    "duration": 4,
    "start_time": "2023-03-13T10:15:50.292Z"
   },
   {
    "duration": 64,
    "start_time": "2023-03-13T10:15:50.298Z"
   },
   {
    "duration": 97,
    "start_time": "2023-03-13T10:15:50.364Z"
   },
   {
    "duration": 195,
    "start_time": "2023-03-13T10:15:50.463Z"
   },
   {
    "duration": 97,
    "start_time": "2023-03-13T10:15:50.661Z"
   },
   {
    "duration": 20,
    "start_time": "2023-03-13T10:15:50.760Z"
   },
   {
    "duration": 8,
    "start_time": "2023-03-13T10:15:50.782Z"
   },
   {
    "duration": 13,
    "start_time": "2023-03-13T10:15:50.792Z"
   },
   {
    "duration": 5,
    "start_time": "2023-03-13T10:15:50.806Z"
   },
   {
    "duration": 9,
    "start_time": "2023-03-13T10:15:50.813Z"
   },
   {
    "duration": 18,
    "start_time": "2023-03-13T10:15:50.824Z"
   },
   {
    "duration": 15,
    "start_time": "2023-03-13T10:15:50.843Z"
   },
   {
    "duration": 15,
    "start_time": "2023-03-13T10:15:50.860Z"
   },
   {
    "duration": 15,
    "start_time": "2023-03-13T10:15:50.877Z"
   },
   {
    "duration": 20,
    "start_time": "2023-03-13T10:15:50.894Z"
   },
   {
    "duration": 544,
    "start_time": "2023-03-13T10:15:50.915Z"
   },
   {
    "duration": 542,
    "start_time": "2023-03-13T10:19:18.401Z"
   },
   {
    "duration": 506,
    "start_time": "2023-03-13T10:20:09.022Z"
   },
   {
    "duration": 507,
    "start_time": "2023-03-13T10:20:14.419Z"
   },
   {
    "duration": 501,
    "start_time": "2023-03-13T10:20:26.999Z"
   },
   {
    "duration": 507,
    "start_time": "2023-03-13T10:20:31.801Z"
   },
   {
    "duration": 525,
    "start_time": "2023-03-13T10:20:43.899Z"
   },
   {
    "duration": 519,
    "start_time": "2023-03-13T10:20:47.401Z"
   },
   {
    "duration": 536,
    "start_time": "2023-03-13T10:20:50.054Z"
   },
   {
    "duration": 514,
    "start_time": "2023-03-13T10:20:52.861Z"
   },
   {
    "duration": 496,
    "start_time": "2023-03-13T10:20:57.402Z"
   },
   {
    "duration": 555,
    "start_time": "2023-03-13T10:21:00.809Z"
   },
   {
    "duration": 533,
    "start_time": "2023-03-13T10:21:03.551Z"
   },
   {
    "duration": 1832,
    "start_time": "2023-03-13T18:34:45.714Z"
   },
   {
    "duration": 3083,
    "start_time": "2023-03-13T18:34:47.549Z"
   },
   {
    "duration": 305,
    "start_time": "2023-03-13T18:34:50.633Z"
   },
   {
    "duration": 546,
    "start_time": "2023-03-13T18:34:50.939Z"
   },
   {
    "duration": 12,
    "start_time": "2023-03-13T18:34:51.487Z"
   },
   {
    "duration": 19,
    "start_time": "2023-03-13T18:34:51.501Z"
   },
   {
    "duration": 19,
    "start_time": "2023-03-13T18:34:51.521Z"
   },
   {
    "duration": 27,
    "start_time": "2023-03-13T18:34:51.541Z"
   },
   {
    "duration": 15,
    "start_time": "2023-03-13T18:34:51.572Z"
   },
   {
    "duration": 8,
    "start_time": "2023-03-13T18:34:51.588Z"
   },
   {
    "duration": 51,
    "start_time": "2023-03-13T18:34:51.597Z"
   },
   {
    "duration": 45,
    "start_time": "2023-03-13T18:34:51.673Z"
   },
   {
    "duration": 52,
    "start_time": "2023-03-13T18:34:51.768Z"
   },
   {
    "duration": 17,
    "start_time": "2023-03-13T18:34:51.872Z"
   },
   {
    "duration": 63,
    "start_time": "2023-03-13T18:34:51.913Z"
   },
   {
    "duration": 17,
    "start_time": "2023-03-13T18:34:51.985Z"
   },
   {
    "duration": 21,
    "start_time": "2023-03-13T18:34:52.007Z"
   },
   {
    "duration": 6,
    "start_time": "2023-03-13T18:34:52.029Z"
   },
   {
    "duration": 8,
    "start_time": "2023-03-13T18:34:52.036Z"
   },
   {
    "duration": 19,
    "start_time": "2023-03-13T18:34:52.045Z"
   },
   {
    "duration": 42,
    "start_time": "2023-03-13T18:34:52.077Z"
   },
   {
    "duration": 14,
    "start_time": "2023-03-13T18:34:52.121Z"
   },
   {
    "duration": 5,
    "start_time": "2023-03-13T18:34:52.137Z"
   },
   {
    "duration": 4,
    "start_time": "2023-03-13T18:34:52.144Z"
   },
   {
    "duration": 484,
    "start_time": "2023-03-13T18:34:52.149Z"
   },
   {
    "duration": 1182,
    "start_time": "2023-03-13T19:21:51.302Z"
   },
   {
    "duration": 4,
    "start_time": "2023-03-13T19:23:16.713Z"
   },
   {
    "duration": 6,
    "start_time": "2023-03-13T19:23:38.698Z"
   },
   {
    "duration": 5,
    "start_time": "2023-03-13T19:23:52.721Z"
   },
   {
    "duration": 26,
    "start_time": "2023-03-13T19:23:55.254Z"
   },
   {
    "duration": 17,
    "start_time": "2023-03-13T19:23:58.151Z"
   },
   {
    "duration": 4,
    "start_time": "2023-03-13T19:24:03.648Z"
   },
   {
    "duration": 1284,
    "start_time": "2023-03-13T19:24:05.449Z"
   },
   {
    "duration": 5,
    "start_time": "2023-03-13T19:24:06.742Z"
   },
   {
    "duration": 5,
    "start_time": "2023-03-13T19:24:10.506Z"
   },
   {
    "duration": 1469,
    "start_time": "2023-03-13T19:24:11.953Z"
   },
   {
    "duration": 5,
    "start_time": "2023-03-13T19:24:13.424Z"
   },
   {
    "duration": 11,
    "start_time": "2023-03-13T19:24:44.189Z"
   },
   {
    "duration": 6,
    "start_time": "2023-03-13T19:24:47.411Z"
   },
   {
    "duration": 4,
    "start_time": "2023-03-13T19:25:26.512Z"
   },
   {
    "duration": 7,
    "start_time": "2023-03-13T19:29:13.002Z"
   },
   {
    "duration": 8,
    "start_time": "2023-03-13T19:29:37.013Z"
   },
   {
    "duration": 7,
    "start_time": "2023-03-13T19:30:03.405Z"
   },
   {
    "duration": 128,
    "start_time": "2023-03-13T19:31:38.999Z"
   },
   {
    "duration": 5,
    "start_time": "2023-03-13T19:33:04.521Z"
   },
   {
    "duration": 12,
    "start_time": "2023-03-13T19:33:08.830Z"
   },
   {
    "duration": 11,
    "start_time": "2023-03-13T19:33:13.804Z"
   },
   {
    "duration": 19,
    "start_time": "2023-03-13T19:33:17.191Z"
   },
   {
    "duration": 4,
    "start_time": "2023-03-13T19:33:48.214Z"
   },
   {
    "duration": 12,
    "start_time": "2023-03-13T19:34:27.671Z"
   },
   {
    "duration": 13,
    "start_time": "2023-03-13T19:35:10.514Z"
   },
   {
    "duration": 28,
    "start_time": "2023-03-13T19:36:04.342Z"
   },
   {
    "duration": 212,
    "start_time": "2023-03-13T19:37:52.358Z"
   },
   {
    "duration": 165,
    "start_time": "2023-03-13T19:38:04.938Z"
   },
   {
    "duration": 6,
    "start_time": "2023-03-13T19:38:55.783Z"
   },
   {
    "duration": 18,
    "start_time": "2023-03-13T19:38:57.106Z"
   },
   {
    "duration": 5,
    "start_time": "2023-03-13T19:39:02.606Z"
   },
   {
    "duration": 11,
    "start_time": "2023-03-13T19:39:03.605Z"
   },
   {
    "duration": 8,
    "start_time": "2023-03-13T19:39:09.403Z"
   },
   {
    "duration": 12,
    "start_time": "2023-03-13T19:39:13.015Z"
   },
   {
    "duration": 12,
    "start_time": "2023-03-13T19:39:17.025Z"
   },
   {
    "duration": 11,
    "start_time": "2023-03-13T19:39:18.293Z"
   },
   {
    "duration": 8,
    "start_time": "2023-03-13T19:40:14.512Z"
   },
   {
    "duration": 7,
    "start_time": "2023-03-13T19:40:23.132Z"
   },
   {
    "duration": 14,
    "start_time": "2023-03-13T19:41:12.517Z"
   },
   {
    "duration": 14,
    "start_time": "2023-03-13T19:41:31.621Z"
   },
   {
    "duration": 4,
    "start_time": "2023-03-13T19:44:24.240Z"
   },
   {
    "duration": 5,
    "start_time": "2023-03-13T19:44:43.317Z"
   },
   {
    "duration": 3,
    "start_time": "2023-03-13T19:45:21.515Z"
   },
   {
    "duration": 4,
    "start_time": "2023-03-13T19:45:33.313Z"
   },
   {
    "duration": 4,
    "start_time": "2023-03-13T19:46:06.613Z"
   },
   {
    "duration": 3,
    "start_time": "2023-03-13T19:48:03.443Z"
   },
   {
    "duration": 4,
    "start_time": "2023-03-13T19:48:59.403Z"
   },
   {
    "duration": 4,
    "start_time": "2023-03-13T19:49:40.498Z"
   },
   {
    "duration": 5,
    "start_time": "2023-03-13T20:07:39.500Z"
   },
   {
    "duration": 5,
    "start_time": "2023-03-13T20:08:22.933Z"
   },
   {
    "duration": 12,
    "start_time": "2023-03-13T20:08:43.171Z"
   },
   {
    "duration": 8,
    "start_time": "2023-03-13T20:09:16.081Z"
   },
   {
    "duration": 5,
    "start_time": "2023-03-13T20:10:08.812Z"
   },
   {
    "duration": 10,
    "start_time": "2023-03-13T20:11:32.084Z"
   },
   {
    "duration": 6,
    "start_time": "2023-03-13T20:13:20.304Z"
   },
   {
    "duration": 5,
    "start_time": "2023-03-13T20:13:56.407Z"
   },
   {
    "duration": 7,
    "start_time": "2023-03-13T20:14:24.587Z"
   },
   {
    "duration": 6,
    "start_time": "2023-03-13T20:18:23.448Z"
   },
   {
    "duration": 7,
    "start_time": "2023-03-13T20:18:34.009Z"
   },
   {
    "duration": 7,
    "start_time": "2023-03-13T20:20:18.109Z"
   },
   {
    "duration": 7,
    "start_time": "2023-03-13T20:20:44.905Z"
   },
   {
    "duration": 6,
    "start_time": "2023-03-13T20:20:52.412Z"
   },
   {
    "duration": 6,
    "start_time": "2023-03-13T20:21:54.816Z"
   },
   {
    "duration": 6,
    "start_time": "2023-03-13T20:22:40.221Z"
   },
   {
    "duration": 33,
    "start_time": "2023-03-13T20:22:56.551Z"
   },
   {
    "duration": 11,
    "start_time": "2023-03-13T20:23:10.549Z"
   },
   {
    "duration": 6,
    "start_time": "2023-03-13T20:23:27.526Z"
   },
   {
    "duration": 8,
    "start_time": "2023-03-13T20:23:50.421Z"
   },
   {
    "duration": 4,
    "start_time": "2023-03-13T20:24:19.298Z"
   },
   {
    "duration": 435,
    "start_time": "2023-03-13T20:24:19.304Z"
   },
   {
    "duration": 264,
    "start_time": "2023-03-13T20:24:19.741Z"
   },
   {
    "duration": 625,
    "start_time": "2023-03-13T20:24:20.007Z"
   },
   {
    "duration": 9,
    "start_time": "2023-03-13T20:24:20.635Z"
   },
   {
    "duration": 35,
    "start_time": "2023-03-13T20:24:20.645Z"
   },
   {
    "duration": 18,
    "start_time": "2023-03-13T20:24:20.684Z"
   },
   {
    "duration": 12,
    "start_time": "2023-03-13T20:24:20.705Z"
   },
   {
    "duration": 12,
    "start_time": "2023-03-13T20:24:20.719Z"
   },
   {
    "duration": 3,
    "start_time": "2023-03-13T20:24:20.733Z"
   },
   {
    "duration": 67,
    "start_time": "2023-03-13T20:24:20.738Z"
   },
   {
    "duration": 80,
    "start_time": "2023-03-13T20:24:20.809Z"
   },
   {
    "duration": 103,
    "start_time": "2023-03-13T20:24:20.891Z"
   },
   {
    "duration": 60,
    "start_time": "2023-03-13T20:24:21.004Z"
   },
   {
    "duration": 15,
    "start_time": "2023-03-13T20:24:21.071Z"
   },
   {
    "duration": 10,
    "start_time": "2023-03-13T20:24:21.087Z"
   },
   {
    "duration": 7,
    "start_time": "2023-03-13T20:24:21.098Z"
   },
   {
    "duration": 5,
    "start_time": "2023-03-13T20:24:21.106Z"
   },
   {
    "duration": 21,
    "start_time": "2023-03-13T20:24:21.165Z"
   },
   {
    "duration": 12,
    "start_time": "2023-03-13T20:24:21.187Z"
   },
   {
    "duration": 14,
    "start_time": "2023-03-13T20:24:21.201Z"
   },
   {
    "duration": 12,
    "start_time": "2023-03-13T20:24:21.217Z"
   },
   {
    "duration": 3,
    "start_time": "2023-03-13T20:24:21.231Z"
   },
   {
    "duration": 4,
    "start_time": "2023-03-13T20:24:21.235Z"
   },
   {
    "duration": 1247,
    "start_time": "2023-03-13T20:24:21.241Z"
   },
   {
    "duration": 8,
    "start_time": "2023-03-13T20:24:22.493Z"
   },
   {
    "duration": 5,
    "start_time": "2023-03-13T20:24:22.502Z"
   },
   {
    "duration": 4,
    "start_time": "2023-03-13T20:24:22.508Z"
   },
   {
    "duration": 6,
    "start_time": "2023-03-13T20:24:22.513Z"
   },
   {
    "duration": 4,
    "start_time": "2023-03-13T20:24:35.286Z"
   },
   {
    "duration": 411,
    "start_time": "2023-03-13T20:24:35.292Z"
   },
   {
    "duration": 209,
    "start_time": "2023-03-13T20:24:35.705Z"
   },
   {
    "duration": 495,
    "start_time": "2023-03-13T20:24:35.916Z"
   },
   {
    "duration": 8,
    "start_time": "2023-03-13T20:24:36.413Z"
   },
   {
    "duration": 11,
    "start_time": "2023-03-13T20:24:36.422Z"
   },
   {
    "duration": 48,
    "start_time": "2023-03-13T20:24:36.435Z"
   },
   {
    "duration": 13,
    "start_time": "2023-03-13T20:24:36.494Z"
   },
   {
    "duration": 13,
    "start_time": "2023-03-13T20:24:36.509Z"
   },
   {
    "duration": 5,
    "start_time": "2023-03-13T20:24:36.524Z"
   },
   {
    "duration": 155,
    "start_time": "2023-03-13T20:24:36.530Z"
   },
   {
    "duration": 28,
    "start_time": "2023-03-13T20:24:36.687Z"
   },
   {
    "duration": 92,
    "start_time": "2023-03-13T20:24:36.721Z"
   },
   {
    "duration": 4,
    "start_time": "2023-03-13T20:24:36.815Z"
   },
   {
    "duration": 26,
    "start_time": "2023-03-13T20:24:36.855Z"
   },
   {
    "duration": 77,
    "start_time": "2023-03-13T20:24:36.883Z"
   },
   {
    "duration": 23,
    "start_time": "2023-03-13T20:24:36.962Z"
   },
   {
    "duration": 3,
    "start_time": "2023-03-13T20:24:36.987Z"
   },
   {
    "duration": 27,
    "start_time": "2023-03-13T20:24:36.993Z"
   },
   {
    "duration": 16,
    "start_time": "2023-03-13T20:24:37.022Z"
   },
   {
    "duration": 39,
    "start_time": "2023-03-13T20:24:37.040Z"
   },
   {
    "duration": 27,
    "start_time": "2023-03-13T20:24:37.080Z"
   },
   {
    "duration": 4,
    "start_time": "2023-03-13T20:24:37.109Z"
   },
   {
    "duration": 18,
    "start_time": "2023-03-13T20:24:37.115Z"
   },
   {
    "duration": 1203,
    "start_time": "2023-03-13T20:24:37.135Z"
   },
   {
    "duration": 4,
    "start_time": "2023-03-13T20:24:38.340Z"
   },
   {
    "duration": 19,
    "start_time": "2023-03-13T20:24:38.357Z"
   },
   {
    "duration": 5,
    "start_time": "2023-03-13T20:24:38.385Z"
   },
   {
    "duration": 7,
    "start_time": "2023-03-13T20:24:38.392Z"
   },
   {
    "duration": 15,
    "start_time": "2023-03-13T20:24:57.065Z"
   },
   {
    "duration": 434,
    "start_time": "2023-03-13T20:24:57.086Z"
   },
   {
    "duration": 225,
    "start_time": "2023-03-13T20:24:57.522Z"
   },
   {
    "duration": 491,
    "start_time": "2023-03-13T20:24:57.748Z"
   },
   {
    "duration": 20,
    "start_time": "2023-03-13T20:24:58.242Z"
   },
   {
    "duration": 16,
    "start_time": "2023-03-13T20:24:58.276Z"
   },
   {
    "duration": 13,
    "start_time": "2023-03-13T20:24:58.294Z"
   },
   {
    "duration": 10,
    "start_time": "2023-03-13T20:24:58.309Z"
   },
   {
    "duration": 10,
    "start_time": "2023-03-13T20:24:58.321Z"
   },
   {
    "duration": 2,
    "start_time": "2023-03-13T20:24:58.333Z"
   },
   {
    "duration": 54,
    "start_time": "2023-03-13T20:24:58.338Z"
   },
   {
    "duration": 93,
    "start_time": "2023-03-13T20:24:58.395Z"
   },
   {
    "duration": 67,
    "start_time": "2023-03-13T20:24:58.492Z"
   },
   {
    "duration": 3,
    "start_time": "2023-03-13T20:24:58.560Z"
   },
   {
    "duration": 16,
    "start_time": "2023-03-13T20:24:58.564Z"
   },
   {
    "duration": 12,
    "start_time": "2023-03-13T20:24:58.583Z"
   },
   {
    "duration": 65,
    "start_time": "2023-03-13T20:24:58.607Z"
   },
   {
    "duration": 9,
    "start_time": "2023-03-13T20:24:58.681Z"
   },
   {
    "duration": 5,
    "start_time": "2023-03-13T20:24:58.696Z"
   },
   {
    "duration": 7,
    "start_time": "2023-03-13T20:24:58.703Z"
   },
   {
    "duration": 13,
    "start_time": "2023-03-13T20:24:58.712Z"
   },
   {
    "duration": 14,
    "start_time": "2023-03-13T20:24:58.726Z"
   },
   {
    "duration": 3,
    "start_time": "2023-03-13T20:24:58.741Z"
   },
   {
    "duration": 20,
    "start_time": "2023-03-13T20:24:58.755Z"
   },
   {
    "duration": 1189,
    "start_time": "2023-03-13T20:24:58.792Z"
   },
   {
    "duration": 9,
    "start_time": "2023-03-13T20:24:59.997Z"
   },
   {
    "duration": 21,
    "start_time": "2023-03-13T20:25:00.007Z"
   },
   {
    "duration": 47,
    "start_time": "2023-03-13T20:25:00.033Z"
   },
   {
    "duration": 22,
    "start_time": "2023-03-13T20:25:00.090Z"
   },
   {
    "duration": 7,
    "start_time": "2023-03-13T20:28:01.920Z"
   },
   {
    "duration": 6,
    "start_time": "2023-03-13T20:28:08.025Z"
   },
   {
    "duration": 4,
    "start_time": "2023-03-13T20:44:25.903Z"
   },
   {
    "duration": 3,
    "start_time": "2023-03-13T20:44:32.081Z"
   },
   {
    "duration": 4,
    "start_time": "2023-03-13T20:44:46.241Z"
   },
   {
    "duration": 3,
    "start_time": "2023-03-13T20:45:05.903Z"
   },
   {
    "duration": 6,
    "start_time": "2023-03-13T20:45:18.727Z"
   },
   {
    "duration": 1353,
    "start_time": "2023-03-14T05:17:13.574Z"
   },
   {
    "duration": 537,
    "start_time": "2023-03-14T05:17:14.929Z"
   },
   {
    "duration": 197,
    "start_time": "2023-03-14T05:17:15.468Z"
   },
   {
    "duration": 466,
    "start_time": "2023-03-14T05:17:15.668Z"
   },
   {
    "duration": 10,
    "start_time": "2023-03-14T05:17:16.135Z"
   },
   {
    "duration": 9,
    "start_time": "2023-03-14T05:17:16.146Z"
   },
   {
    "duration": 23,
    "start_time": "2023-03-14T05:17:16.156Z"
   },
   {
    "duration": 12,
    "start_time": "2023-03-14T05:17:16.180Z"
   },
   {
    "duration": 11,
    "start_time": "2023-03-14T05:17:16.193Z"
   },
   {
    "duration": 2,
    "start_time": "2023-03-14T05:17:16.206Z"
   },
   {
    "duration": 20,
    "start_time": "2023-03-14T05:17:16.210Z"
   },
   {
    "duration": 52,
    "start_time": "2023-03-14T05:17:16.231Z"
   },
   {
    "duration": 195,
    "start_time": "2023-03-14T05:17:16.284Z"
   },
   {
    "duration": 3,
    "start_time": "2023-03-14T05:17:16.481Z"
   },
   {
    "duration": 96,
    "start_time": "2023-03-14T05:17:16.486Z"
   },
   {
    "duration": 5,
    "start_time": "2023-03-14T05:17:16.583Z"
   },
   {
    "duration": 4,
    "start_time": "2023-03-14T05:17:16.589Z"
   },
   {
    "duration": 3,
    "start_time": "2023-03-14T05:17:16.594Z"
   },
   {
    "duration": 6,
    "start_time": "2023-03-14T05:17:16.598Z"
   },
   {
    "duration": 7,
    "start_time": "2023-03-14T05:17:16.606Z"
   },
   {
    "duration": 11,
    "start_time": "2023-03-14T05:17:16.614Z"
   },
   {
    "duration": 12,
    "start_time": "2023-03-14T05:17:16.626Z"
   },
   {
    "duration": 2,
    "start_time": "2023-03-14T05:17:16.639Z"
   },
   {
    "duration": 38,
    "start_time": "2023-03-14T05:17:16.642Z"
   },
   {
    "duration": 1017,
    "start_time": "2023-03-14T05:17:16.681Z"
   },
   {
    "duration": 3,
    "start_time": "2023-03-14T05:17:17.700Z"
   },
   {
    "duration": 29,
    "start_time": "2023-03-14T05:17:17.704Z"
   },
   {
    "duration": 11,
    "start_time": "2023-03-14T05:17:17.735Z"
   },
   {
    "duration": 5,
    "start_time": "2023-03-14T05:17:17.747Z"
   },
   {
    "duration": 3,
    "start_time": "2023-03-14T06:20:03.171Z"
   },
   {
    "duration": 379,
    "start_time": "2023-03-14T06:20:03.177Z"
   },
   {
    "duration": 227,
    "start_time": "2023-03-14T06:20:03.558Z"
   },
   {
    "duration": 552,
    "start_time": "2023-03-14T06:20:03.787Z"
   },
   {
    "duration": 9,
    "start_time": "2023-03-14T06:20:04.341Z"
   },
   {
    "duration": 7,
    "start_time": "2023-03-14T06:20:04.352Z"
   },
   {
    "duration": 27,
    "start_time": "2023-03-14T06:20:04.361Z"
   },
   {
    "duration": 12,
    "start_time": "2023-03-14T06:20:04.390Z"
   },
   {
    "duration": 11,
    "start_time": "2023-03-14T06:20:04.403Z"
   },
   {
    "duration": 3,
    "start_time": "2023-03-14T06:20:04.415Z"
   },
   {
    "duration": 61,
    "start_time": "2023-03-14T06:20:04.420Z"
   },
   {
    "duration": 100,
    "start_time": "2023-03-14T06:20:04.483Z"
   },
   {
    "duration": 95,
    "start_time": "2023-03-14T06:20:04.585Z"
   },
   {
    "duration": 98,
    "start_time": "2023-03-14T06:20:04.683Z"
   },
   {
    "duration": 99,
    "start_time": "2023-03-14T06:20:04.783Z"
   },
   {
    "duration": 10,
    "start_time": "2023-03-14T06:20:04.884Z"
   },
   {
    "duration": 5,
    "start_time": "2023-03-14T06:20:04.897Z"
   },
   {
    "duration": 6,
    "start_time": "2023-03-14T06:20:04.903Z"
   },
   {
    "duration": 9,
    "start_time": "2023-03-14T06:20:04.910Z"
   },
   {
    "duration": 9,
    "start_time": "2023-03-14T06:20:04.921Z"
   },
   {
    "duration": 13,
    "start_time": "2023-03-14T06:20:04.932Z"
   },
   {
    "duration": 43,
    "start_time": "2023-03-14T06:20:04.947Z"
   },
   {
    "duration": 4,
    "start_time": "2023-03-14T06:20:04.992Z"
   },
   {
    "duration": 6,
    "start_time": "2023-03-14T06:20:04.998Z"
   },
   {
    "duration": 1183,
    "start_time": "2023-03-14T06:20:05.005Z"
   },
   {
    "duration": 3,
    "start_time": "2023-03-14T06:20:06.190Z"
   },
   {
    "duration": 4,
    "start_time": "2023-03-14T06:20:06.194Z"
   },
   {
    "duration": 6,
    "start_time": "2023-03-14T06:20:06.200Z"
   },
   {
    "duration": 8,
    "start_time": "2023-03-14T06:20:06.209Z"
   },
   {
    "duration": 1714,
    "start_time": "2023-03-14T18:56:34.162Z"
   },
   {
    "duration": 607,
    "start_time": "2023-03-14T18:56:35.878Z"
   },
   {
    "duration": 248,
    "start_time": "2023-03-14T18:56:36.487Z"
   },
   {
    "duration": 613,
    "start_time": "2023-03-14T18:56:36.737Z"
   },
   {
    "duration": 13,
    "start_time": "2023-03-14T18:56:37.351Z"
   },
   {
    "duration": 9,
    "start_time": "2023-03-14T18:56:37.366Z"
   },
   {
    "duration": 24,
    "start_time": "2023-03-14T18:56:37.376Z"
   },
   {
    "duration": 32,
    "start_time": "2023-03-14T18:56:37.402Z"
   },
   {
    "duration": 15,
    "start_time": "2023-03-14T18:56:37.435Z"
   },
   {
    "duration": 3,
    "start_time": "2023-03-14T18:56:37.453Z"
   },
   {
    "duration": 23,
    "start_time": "2023-03-14T18:56:37.457Z"
   },
   {
    "duration": 113,
    "start_time": "2023-03-14T18:56:37.532Z"
   },
   {
    "duration": 102,
    "start_time": "2023-03-14T18:56:37.732Z"
   },
   {
    "duration": 97,
    "start_time": "2023-03-14T18:56:37.836Z"
   },
   {
    "duration": 126,
    "start_time": "2023-03-14T18:56:37.935Z"
   },
   {
    "duration": 10,
    "start_time": "2023-03-14T18:56:38.063Z"
   },
   {
    "duration": 5,
    "start_time": "2023-03-14T18:56:38.075Z"
   },
   {
    "duration": 8,
    "start_time": "2023-03-14T18:56:38.082Z"
   },
   {
    "duration": 11,
    "start_time": "2023-03-14T18:56:38.092Z"
   },
   {
    "duration": 21,
    "start_time": "2023-03-14T18:56:38.105Z"
   },
   {
    "duration": 26,
    "start_time": "2023-03-14T18:56:38.128Z"
   },
   {
    "duration": 15,
    "start_time": "2023-03-14T18:56:38.156Z"
   },
   {
    "duration": 5,
    "start_time": "2023-03-14T18:56:38.173Z"
   },
   {
    "duration": 6,
    "start_time": "2023-03-14T18:56:38.180Z"
   },
   {
    "duration": 1447,
    "start_time": "2023-03-14T18:56:38.188Z"
   },
   {
    "duration": 4,
    "start_time": "2023-03-14T18:56:39.637Z"
   },
   {
    "duration": 11,
    "start_time": "2023-03-14T18:56:39.643Z"
   },
   {
    "duration": 4,
    "start_time": "2023-03-14T18:56:39.658Z"
   },
   {
    "duration": 7,
    "start_time": "2023-03-14T18:56:39.664Z"
   },
   {
    "duration": 79,
    "start_time": "2023-03-15T11:33:26.549Z"
   },
   {
    "duration": 1680,
    "start_time": "2023-03-15T16:47:17.798Z"
   },
   {
    "duration": 723,
    "start_time": "2023-03-15T16:47:19.480Z"
   },
   {
    "duration": 285,
    "start_time": "2023-03-15T16:47:20.205Z"
   },
   {
    "duration": 591,
    "start_time": "2023-03-15T16:47:20.493Z"
   },
   {
    "duration": 14,
    "start_time": "2023-03-15T16:47:21.086Z"
   },
   {
    "duration": 24,
    "start_time": "2023-03-15T16:47:21.102Z"
   },
   {
    "duration": 57,
    "start_time": "2023-03-15T16:47:21.128Z"
   },
   {
    "duration": 28,
    "start_time": "2023-03-15T16:47:21.187Z"
   },
   {
    "duration": 28,
    "start_time": "2023-03-15T16:47:21.217Z"
   },
   {
    "duration": 3,
    "start_time": "2023-03-15T16:47:21.248Z"
   },
   {
    "duration": 24,
    "start_time": "2023-03-15T16:47:21.253Z"
   },
   {
    "duration": 188,
    "start_time": "2023-03-15T16:47:21.280Z"
   },
   {
    "duration": 204,
    "start_time": "2023-03-15T16:47:21.471Z"
   },
   {
    "duration": 6,
    "start_time": "2023-03-15T16:47:21.678Z"
   },
   {
    "duration": 103,
    "start_time": "2023-03-15T16:47:21.764Z"
   },
   {
    "duration": 34,
    "start_time": "2023-03-15T16:47:21.869Z"
   },
   {
    "duration": 31,
    "start_time": "2023-03-15T16:47:21.905Z"
   },
   {
    "duration": 12,
    "start_time": "2023-03-15T16:47:21.938Z"
   },
   {
    "duration": 20,
    "start_time": "2023-03-15T16:47:21.952Z"
   },
   {
    "duration": 28,
    "start_time": "2023-03-15T16:47:21.974Z"
   },
   {
    "duration": 19,
    "start_time": "2023-03-15T16:47:22.004Z"
   },
   {
    "duration": 18,
    "start_time": "2023-03-15T16:47:22.025Z"
   },
   {
    "duration": 31,
    "start_time": "2023-03-15T16:47:22.044Z"
   },
   {
    "duration": 21,
    "start_time": "2023-03-15T16:47:22.077Z"
   },
   {
    "duration": 1665,
    "start_time": "2023-03-15T16:47:22.100Z"
   },
   {
    "duration": 6,
    "start_time": "2023-03-15T16:47:23.767Z"
   },
   {
    "duration": 14,
    "start_time": "2023-03-15T16:47:23.776Z"
   },
   {
    "duration": 21,
    "start_time": "2023-03-15T16:47:23.793Z"
   },
   {
    "duration": 19,
    "start_time": "2023-03-15T16:47:23.815Z"
   }
  ],
  "kernelspec": {
   "display_name": "Python 3 (ipykernel)",
   "language": "python",
   "name": "python3"
  },
  "language_info": {
   "codemirror_mode": {
    "name": "ipython",
    "version": 3
   },
   "file_extension": ".py",
   "mimetype": "text/x-python",
   "name": "python",
   "nbconvert_exporter": "python",
   "pygments_lexer": "ipython3",
   "version": "3.9.13"
  },
  "toc": {
   "base_numbering": 1,
   "nav_menu": {},
   "number_sections": true,
   "sideBar": true,
   "skip_h1_title": true,
   "title_cell": "Table of Contents",
   "title_sidebar": "Contents",
   "toc_cell": false,
   "toc_position": {},
   "toc_section_display": true,
   "toc_window_display": false
  }
 },
 "nbformat": 4,
 "nbformat_minor": 2
}
