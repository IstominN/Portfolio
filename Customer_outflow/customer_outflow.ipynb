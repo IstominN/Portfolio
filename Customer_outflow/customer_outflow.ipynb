{
 "cells": [
  {
   "cell_type": "markdown",
   "metadata": {
    "toc": true
   },
   "source": [
    "<h1>Содержание<span class=\"tocSkip\"></span></h1>\n",
    "<div class=\"toc\"><ul class=\"toc-item\"><li><span><a href=\"#Подготовка-данных-\" data-toc-modified-id=\"Подготовка-данных--1\"><span class=\"toc-item-num\">1&nbsp;&nbsp;</span>Подготовка данных <a id=\"exam_file\"></a></a></span><ul class=\"toc-item\"><li><span><a href=\"#Изучим-данные\" data-toc-modified-id=\"Изучим-данные-1.1\"><span class=\"toc-item-num\">1.1&nbsp;&nbsp;</span>Изучим данные</a></span></li><li><span><a href=\"#Изучим-подробнее-каждый-признак-и-проверим-на-аномалии\" data-toc-modified-id=\"Изучим-подробнее-каждый-признак-и-проверим-на-аномалии-1.2\"><span class=\"toc-item-num\">1.2&nbsp;&nbsp;</span>Изучим подробнее каждый признак и проверим на аномалии</a></span><ul class=\"toc-item\"><li><span><a href=\"#CreditScore-—-кредитный-рейтинг\" data-toc-modified-id=\"CreditScore-—-кредитный-рейтинг-1.2.1\"><span class=\"toc-item-num\">1.2.1&nbsp;&nbsp;</span>CreditScore — кредитный рейтинг</a></span></li><li><span><a href=\"#Geography-—-страна-проживания\" data-toc-modified-id=\"Geography-—-страна-проживания-1.2.2\"><span class=\"toc-item-num\">1.2.2&nbsp;&nbsp;</span>Geography — страна проживания</a></span></li><li><span><a href=\"#Gender-—-пол\" data-toc-modified-id=\"Gender-—-пол-1.2.3\"><span class=\"toc-item-num\">1.2.3&nbsp;&nbsp;</span>Gender — пол</a></span></li><li><span><a href=\"#Age-—-возраст\" data-toc-modified-id=\"Age-—-возраст-1.2.4\"><span class=\"toc-item-num\">1.2.4&nbsp;&nbsp;</span>Age — возраст</a></span></li><li><span><a href=\"#Tenure-—-сколько-лет-человек-является-клиентом-банка\" data-toc-modified-id=\"Tenure-—-сколько-лет-человек-является-клиентом-банка-1.2.5\"><span class=\"toc-item-num\">1.2.5&nbsp;&nbsp;</span>Tenure — сколько лет человек является клиентом банка</a></span></li><li><span><a href=\"#Balance-—-баланс-на-счёте\" data-toc-modified-id=\"Balance-—-баланс-на-счёте-1.2.6\"><span class=\"toc-item-num\">1.2.6&nbsp;&nbsp;</span>Balance — баланс на счёте</a></span></li><li><span><a href=\"#NumOfProducts-—-количество-продуктов-банка,-используемых-клиентом\" data-toc-modified-id=\"NumOfProducts-—-количество-продуктов-банка,-используемых-клиентом-1.2.7\"><span class=\"toc-item-num\">1.2.7&nbsp;&nbsp;</span>NumOfProducts — количество продуктов банка, используемых клиентом</a></span></li><li><span><a href=\"#HasCrCard-—-наличие-кредитной-карты\" data-toc-modified-id=\"HasCrCard-—-наличие-кредитной-карты-1.2.8\"><span class=\"toc-item-num\">1.2.8&nbsp;&nbsp;</span>HasCrCard — наличие кредитной карты</a></span></li><li><span><a href=\"#IsActiveMember-—-активность-клиента\" data-toc-modified-id=\"IsActiveMember-—-активность-клиента-1.2.9\"><span class=\"toc-item-num\">1.2.9&nbsp;&nbsp;</span>IsActiveMember — активность клиента</a></span></li><li><span><a href=\"#EstimatedSalary-—-предполагаемая-зарплата\" data-toc-modified-id=\"EstimatedSalary-—-предполагаемая-зарплата-1.2.10\"><span class=\"toc-item-num\">1.2.10&nbsp;&nbsp;</span>EstimatedSalary — предполагаемая зарплата</a></span></li><li><span><a href=\"#Exited-—-факт-ухода-клиента\" data-toc-modified-id=\"Exited-—-факт-ухода-клиента-1.2.11\"><span class=\"toc-item-num\">1.2.11&nbsp;&nbsp;</span>Exited — факт ухода клиента</a></span></li></ul></li><li><span><a href=\"#Подготовим-данные\" data-toc-modified-id=\"Подготовим-данные-1.3\"><span class=\"toc-item-num\">1.3&nbsp;&nbsp;</span>Подготовим данные</a></span></li></ul></li><li><span><a href=\"#Исследование-задачи-\" data-toc-modified-id=\"Исследование-задачи--2\"><span class=\"toc-item-num\">2&nbsp;&nbsp;</span>Исследование задачи <a id=\"research\"></a></a></span><ul class=\"toc-item\"><li><span><a href=\"#Проверим-баланс-классов-в-целевом-признаке\" data-toc-modified-id=\"Проверим-баланс-классов-в-целевом-признаке-2.1\"><span class=\"toc-item-num\">2.1&nbsp;&nbsp;</span>Проверим баланс классов в целевом признаке</a></span></li><li><span><a href=\"#Обучим-модель-без-учёта-дисбаланса\" data-toc-modified-id=\"Обучим-модель-без-учёта-дисбаланса-2.2\"><span class=\"toc-item-num\">2.2&nbsp;&nbsp;</span>Обучим модель без учёта дисбаланса</a></span><ul class=\"toc-item\"><li><span><a href=\"#Decision-Tree-(Дерево-решений)\" data-toc-modified-id=\"Decision-Tree-(Дерево-решений)-2.2.1\"><span class=\"toc-item-num\">2.2.1&nbsp;&nbsp;</span>Decision Tree (Дерево решений)</a></span></li><li><span><a href=\"#Random-Forest-(Случайный-лес)\" data-toc-modified-id=\"Random-Forest-(Случайный-лес)-2.2.2\"><span class=\"toc-item-num\">2.2.2&nbsp;&nbsp;</span>Random Forest (Случайный лес)</a></span></li><li><span><a href=\"#Logistic-Regression-(Логистическая-регрессия)\" data-toc-modified-id=\"Logistic-Regression-(Логистическая-регрессия)-2.2.3\"><span class=\"toc-item-num\">2.2.3&nbsp;&nbsp;</span>Logistic Regression (Логистическая регрессия)</a></span></li><li><span><a href=\"#Определим-лучшую-модель\" data-toc-modified-id=\"Определим-лучшую-модель-2.2.4\"><span class=\"toc-item-num\">2.2.4&nbsp;&nbsp;</span>Определим лучшую модель</a></span></li></ul></li></ul></li><li><span><a href=\"#Борьба-с-дисбалансом-\" data-toc-modified-id=\"Борьба-с-дисбалансом--3\"><span class=\"toc-item-num\">3&nbsp;&nbsp;</span>Борьба с дисбалансом <a id=\"imbalance\"></a></a></span><ul class=\"toc-item\"><li><span><a href=\"#Увеличим-объекты-редкого-класса-(техника-upsampling)\" data-toc-modified-id=\"Увеличим-объекты-редкого-класса-(техника-upsampling)-3.1\"><span class=\"toc-item-num\">3.1&nbsp;&nbsp;</span>Увеличим объекты редкого класса (техника upsampling)</a></span><ul class=\"toc-item\"><li><span><a href=\"#Decision-Tree-(Дерево-решений)\" data-toc-modified-id=\"Decision-Tree-(Дерево-решений)-3.1.1\"><span class=\"toc-item-num\">3.1.1&nbsp;&nbsp;</span>Decision Tree (Дерево решений)</a></span></li><li><span><a href=\"#Random-Forest-(Случайный-лес)\" data-toc-modified-id=\"Random-Forest-(Случайный-лес)-3.1.2\"><span class=\"toc-item-num\">3.1.2&nbsp;&nbsp;</span>Random Forest (Случайный лес)</a></span></li><li><span><a href=\"#Logistic-Regression-(Логистическая-регрессия)\" data-toc-modified-id=\"Logistic-Regression-(Логистическая-регрессия)-3.1.3\"><span class=\"toc-item-num\">3.1.3&nbsp;&nbsp;</span>Logistic Regression (Логистическая регрессия)</a></span></li><li><span><a href=\"#Определим-лучшую-модель\" data-toc-modified-id=\"Определим-лучшую-модель-3.1.4\"><span class=\"toc-item-num\">3.1.4&nbsp;&nbsp;</span>Определим лучшую модель</a></span></li></ul></li><li><span><a href=\"#Уменьшим-объекты-частого-класса-(техника-downsampling)\" data-toc-modified-id=\"Уменьшим-объекты-частого-класса-(техника-downsampling)-3.2\"><span class=\"toc-item-num\">3.2&nbsp;&nbsp;</span>Уменьшим объекты частого класса (техника downsampling)</a></span><ul class=\"toc-item\"><li><span><a href=\"#Decision-Tree-(Дерево-решений)\" data-toc-modified-id=\"Decision-Tree-(Дерево-решений)-3.2.1\"><span class=\"toc-item-num\">3.2.1&nbsp;&nbsp;</span>Decision Tree (Дерево решений)</a></span></li><li><span><a href=\"#Random-Forest-(Случайный-лес)\" data-toc-modified-id=\"Random-Forest-(Случайный-лес)-3.2.2\"><span class=\"toc-item-num\">3.2.2&nbsp;&nbsp;</span>Random Forest (Случайный лес)</a></span></li><li><span><a href=\"#Logistic-Regression-(Логистическая-регрессия)\" data-toc-modified-id=\"Logistic-Regression-(Логистическая-регрессия)-3.2.3\"><span class=\"toc-item-num\">3.2.3&nbsp;&nbsp;</span>Logistic Regression (Логистическая регрессия)</a></span></li><li><span><a href=\"#Определим-лучшую-модель\" data-toc-modified-id=\"Определим-лучшую-модель-3.2.4\"><span class=\"toc-item-num\">3.2.4&nbsp;&nbsp;</span>Определим лучшую модель</a></span></li></ul></li><li><span><a href=\"#Аргумент-class_weight-=-'balanced'\" data-toc-modified-id=\"Аргумент-class_weight-=-'balanced'-3.3\"><span class=\"toc-item-num\">3.3&nbsp;&nbsp;</span>Аргумент class_weight = 'balanced'</a></span><ul class=\"toc-item\"><li><span><a href=\"#Decision-Tree-(Дерево-решений)\" data-toc-modified-id=\"Decision-Tree-(Дерево-решений)-3.3.1\"><span class=\"toc-item-num\">3.3.1&nbsp;&nbsp;</span>Decision Tree (Дерево решений)</a></span></li><li><span><a href=\"#Random-Forest-(Случайный-лес)\" data-toc-modified-id=\"Random-Forest-(Случайный-лес)-3.3.2\"><span class=\"toc-item-num\">3.3.2&nbsp;&nbsp;</span>Random Forest (Случайный лес)</a></span></li><li><span><a href=\"#Logistic-Regression-(Логистическая-регрессия)\" data-toc-modified-id=\"Logistic-Regression-(Логистическая-регрессия)-3.3.3\"><span class=\"toc-item-num\">3.3.3&nbsp;&nbsp;</span>Logistic Regression (Логистическая регрессия)</a></span></li><li><span><a href=\"#Определим-лучшую-модель\" data-toc-modified-id=\"Определим-лучшую-модель-3.3.4\"><span class=\"toc-item-num\">3.3.4&nbsp;&nbsp;</span>Определим лучшую модель</a></span></li></ul></li><li><span><a href=\"#Определим-лучший-метод-балансировки\" data-toc-modified-id=\"Определим-лучший-метод-балансировки-3.4\"><span class=\"toc-item-num\">3.4&nbsp;&nbsp;</span>Определим лучший метод балансировки</a></span></li></ul></li><li><span><a href=\"#Тестирование-модели-\" data-toc-modified-id=\"Тестирование-модели--4\"><span class=\"toc-item-num\">4&nbsp;&nbsp;</span>Тестирование модели <a id=\"test\"></a></a></span><ul class=\"toc-item\"><li><span><a href=\"#Объединим-обучающую-и-валидационную-выборки-для-обучения-итоговой-модели-на-большем-количестве-данных\" data-toc-modified-id=\"Объединим-обучающую-и-валидационную-выборки-для-обучения-итоговой-модели-на-большем-количестве-данных-4.1\"><span class=\"toc-item-num\">4.1&nbsp;&nbsp;</span>Объединим обучающую и валидационную выборки для обучения итоговой модели на большем количестве данных</a></span></li><li><span><a href=\"#Обучим-итоговую-модель-и-проверим-результат-на-тестовой-выборке\" data-toc-modified-id=\"Обучим-итоговую-модель-и-проверим-результат-на-тестовой-выборке-4.2\"><span class=\"toc-item-num\">4.2&nbsp;&nbsp;</span>Обучим итоговую модель и проверим результат на тестовой выборке</a></span></li><li><span><a href=\"#Сравним-AUC-ROC-нашей-модели-с-AUC-ROC-случайной-модели\" data-toc-modified-id=\"Сравним-AUC-ROC-нашей-модели-с-AUC-ROC-случайной-модели-4.3\"><span class=\"toc-item-num\">4.3&nbsp;&nbsp;</span>Сравним AUC-ROC нашей модели с AUC-ROC случайной модели</a></span></li></ul></li><li><span><a href=\"#Общий-вывод\" data-toc-modified-id=\"Общий-вывод-5\"><span class=\"toc-item-num\">5&nbsp;&nbsp;</span>Общий вывод</a></span></li><li><span><a href=\"#Чек-лист-готовности-проекта\" data-toc-modified-id=\"Чек-лист-готовности-проекта-6\"><span class=\"toc-item-num\">6&nbsp;&nbsp;</span>Чек-лист готовности проекта</a></span></li><li><span><a href=\"#Общий-вывод-по-проекту\" data-toc-modified-id=\"Общий-вывод-по-проекту-7\"><span class=\"toc-item-num\">7&nbsp;&nbsp;</span><b>Общий вывод по проекту</b></a></span></li><li><span><a href=\"#Общий-вывод-по-проекту-В2\" data-toc-modified-id=\"Общий-вывод-по-проекту-В2-8\"><span class=\"toc-item-num\">8&nbsp;&nbsp;</span><b>Общий вывод по проекту В2</b></a></span></li></ul></div>"
   ]
  },
  {
   "cell_type": "markdown",
   "metadata": {},
   "source": [
    "# Отток клиентов"
   ]
  },
  {
   "cell_type": "markdown",
   "metadata": {},
   "source": [
    "Из банка стали уходить клиенты. Банковские маркетологи посчитали: сохранять текущих клиентов дешевле, чем привлекать новых.\n",
    "\n",
    "Нужно спрогнозировать, уйдёт клиент из банка в ближайшее время или нет. Нам предоставлены исторические данные о поведении клиентов и расторжении договоров с банком. \n",
    "\n",
    "Необходимо построить модель с предельно большим значением *F1*-меры. Для успешного выполнения задачи, нужно довести метрику до 0.59. \n",
    "\n",
    "Дополнительно измерим *AUC-ROC*, сравним её значение с *F1*-мерой.\n",
    "\n",
    "Источник данных: [https://www.kaggle.com/barelydedicated/bank-customer-churn-modeling](https://www.kaggle.com/barelydedicated/bank-customer-churn-modeling)"
   ]
  },
  {
   "cell_type": "markdown",
   "metadata": {},
   "source": [
    "Цель исследования — спрогнозировать, уйдёт клиент из банка в ближайшее время или нет и найти модель с предельно большим значением F1-меры (не меньше 0.59)\n",
    "\n",
    "Данные о поведении клиентов получим из файла ***Churn.csv***. В нем представлены исторические данные о поведении клиентов и расторжении договоров с банком\n",
    "\n",
    "Исследование пройдёт в четыре этапа:\n",
    "\n",
    "* Подготовка данных\n",
    "* Исследование задачи\n",
    "* Борьба с дисбалансом\n",
    "* Тестирование модели"
   ]
  },
  {
   "cell_type": "markdown",
   "metadata": {},
   "source": [
    "## Подготовка данных <a id='exam_file'></a>"
   ]
  },
  {
   "cell_type": "code",
   "execution_count": 1,
   "metadata": {},
   "outputs": [],
   "source": [
    "import pandas as pd \n",
    "import matplotlib.pyplot as plt \n",
    "\n",
    "from sklearn.model_selection import train_test_split\n",
    "from sklearn.preprocessing import StandardScaler\n",
    "from sklearn.utils import shuffle\n",
    "\n",
    "from sklearn.linear_model import LogisticRegression\n",
    "from sklearn.tree import DecisionTreeClassifier\n",
    "from sklearn.ensemble import RandomForestClassifier\n",
    "\n",
    "from sklearn.metrics import f1_score, roc_auc_score, confusion_matrix, roc_curve\n",
    "\n",
    "\n",
    "r_state = 12345\n",
    "\n",
    "data = pd.read_csv('datasets/Churn.csv')"
   ]
  },
  {
   "cell_type": "markdown",
   "metadata": {},
   "source": [
    "### Изучим данные"
   ]
  },
  {
   "cell_type": "code",
   "execution_count": 2,
   "metadata": {},
   "outputs": [
    {
     "name": "stdout",
     "output_type": "stream",
     "text": [
      "<class 'pandas.core.frame.DataFrame'>\n",
      "RangeIndex: 10000 entries, 0 to 9999\n",
      "Data columns (total 14 columns):\n",
      " #   Column           Non-Null Count  Dtype  \n",
      "---  ------           --------------  -----  \n",
      " 0   RowNumber        10000 non-null  int64  \n",
      " 1   CustomerId       10000 non-null  int64  \n",
      " 2   Surname          10000 non-null  object \n",
      " 3   CreditScore      10000 non-null  int64  \n",
      " 4   Geography        10000 non-null  object \n",
      " 5   Gender           10000 non-null  object \n",
      " 6   Age              10000 non-null  int64  \n",
      " 7   Tenure           9091 non-null   float64\n",
      " 8   Balance          10000 non-null  float64\n",
      " 9   NumOfProducts    10000 non-null  int64  \n",
      " 10  HasCrCard        10000 non-null  int64  \n",
      " 11  IsActiveMember   10000 non-null  int64  \n",
      " 12  EstimatedSalary  10000 non-null  float64\n",
      " 13  Exited           10000 non-null  int64  \n",
      "dtypes: float64(3), int64(8), object(3)\n",
      "memory usage: 1.1+ MB\n"
     ]
    },
    {
     "data": {
      "text/html": [
       "<div>\n",
       "<style scoped>\n",
       "    .dataframe tbody tr th:only-of-type {\n",
       "        vertical-align: middle;\n",
       "    }\n",
       "\n",
       "    .dataframe tbody tr th {\n",
       "        vertical-align: top;\n",
       "    }\n",
       "\n",
       "    .dataframe thead th {\n",
       "        text-align: right;\n",
       "    }\n",
       "</style>\n",
       "<table border=\"1\" class=\"dataframe\">\n",
       "  <thead>\n",
       "    <tr style=\"text-align: right;\">\n",
       "      <th></th>\n",
       "      <th>RowNumber</th>\n",
       "      <th>CustomerId</th>\n",
       "      <th>Surname</th>\n",
       "      <th>CreditScore</th>\n",
       "      <th>Geography</th>\n",
       "      <th>Gender</th>\n",
       "      <th>Age</th>\n",
       "      <th>Tenure</th>\n",
       "      <th>Balance</th>\n",
       "      <th>NumOfProducts</th>\n",
       "      <th>HasCrCard</th>\n",
       "      <th>IsActiveMember</th>\n",
       "      <th>EstimatedSalary</th>\n",
       "      <th>Exited</th>\n",
       "    </tr>\n",
       "  </thead>\n",
       "  <tbody>\n",
       "    <tr>\n",
       "      <th>7867</th>\n",
       "      <td>7868</td>\n",
       "      <td>15697201</td>\n",
       "      <td>Yocum</td>\n",
       "      <td>640</td>\n",
       "      <td>Spain</td>\n",
       "      <td>Female</td>\n",
       "      <td>46</td>\n",
       "      <td>3.0</td>\n",
       "      <td>0.00</td>\n",
       "      <td>1</td>\n",
       "      <td>1</td>\n",
       "      <td>1</td>\n",
       "      <td>156260.08</td>\n",
       "      <td>0</td>\n",
       "    </tr>\n",
       "    <tr>\n",
       "      <th>1402</th>\n",
       "      <td>1403</td>\n",
       "      <td>15613282</td>\n",
       "      <td>Vorobyova</td>\n",
       "      <td>757</td>\n",
       "      <td>France</td>\n",
       "      <td>Male</td>\n",
       "      <td>29</td>\n",
       "      <td>8.0</td>\n",
       "      <td>130306.49</td>\n",
       "      <td>1</td>\n",
       "      <td>1</td>\n",
       "      <td>0</td>\n",
       "      <td>77469.38</td>\n",
       "      <td>0</td>\n",
       "    </tr>\n",
       "    <tr>\n",
       "      <th>8606</th>\n",
       "      <td>8607</td>\n",
       "      <td>15694581</td>\n",
       "      <td>Rawlings</td>\n",
       "      <td>807</td>\n",
       "      <td>Spain</td>\n",
       "      <td>Male</td>\n",
       "      <td>42</td>\n",
       "      <td>5.0</td>\n",
       "      <td>0.00</td>\n",
       "      <td>2</td>\n",
       "      <td>1</td>\n",
       "      <td>1</td>\n",
       "      <td>74900.90</td>\n",
       "      <td>0</td>\n",
       "    </tr>\n",
       "    <tr>\n",
       "      <th>8885</th>\n",
       "      <td>8886</td>\n",
       "      <td>15815125</td>\n",
       "      <td>Michael</td>\n",
       "      <td>668</td>\n",
       "      <td>Spain</td>\n",
       "      <td>Male</td>\n",
       "      <td>45</td>\n",
       "      <td>4.0</td>\n",
       "      <td>102486.21</td>\n",
       "      <td>2</td>\n",
       "      <td>1</td>\n",
       "      <td>1</td>\n",
       "      <td>158379.25</td>\n",
       "      <td>0</td>\n",
       "    </tr>\n",
       "    <tr>\n",
       "      <th>6494</th>\n",
       "      <td>6495</td>\n",
       "      <td>15752846</td>\n",
       "      <td>Pinto</td>\n",
       "      <td>699</td>\n",
       "      <td>France</td>\n",
       "      <td>Male</td>\n",
       "      <td>28</td>\n",
       "      <td>7.0</td>\n",
       "      <td>0.00</td>\n",
       "      <td>2</td>\n",
       "      <td>1</td>\n",
       "      <td>1</td>\n",
       "      <td>22684.78</td>\n",
       "      <td>0</td>\n",
       "    </tr>\n",
       "  </tbody>\n",
       "</table>\n",
       "</div>"
      ],
      "text/plain": [
       "      RowNumber  CustomerId    Surname  CreditScore Geography  Gender  Age  \\\n",
       "7867       7868    15697201      Yocum          640     Spain  Female   46   \n",
       "1402       1403    15613282  Vorobyova          757    France    Male   29   \n",
       "8606       8607    15694581   Rawlings          807     Spain    Male   42   \n",
       "8885       8886    15815125    Michael          668     Spain    Male   45   \n",
       "6494       6495    15752846      Pinto          699    France    Male   28   \n",
       "\n",
       "      Tenure    Balance  NumOfProducts  HasCrCard  IsActiveMember  \\\n",
       "7867     3.0       0.00              1          1               1   \n",
       "1402     8.0  130306.49              1          1               0   \n",
       "8606     5.0       0.00              2          1               1   \n",
       "8885     4.0  102486.21              2          1               1   \n",
       "6494     7.0       0.00              2          1               1   \n",
       "\n",
       "      EstimatedSalary  Exited  \n",
       "7867        156260.08       0  \n",
       "1402         77469.38       0  \n",
       "8606         74900.90       0  \n",
       "8885        158379.25       0  \n",
       "6494         22684.78       0  "
      ]
     },
     "metadata": {},
     "output_type": "display_data"
    },
    {
     "name": "stdout",
     "output_type": "stream",
     "text": [
      "Количество пропусков по столбцам:\n",
      "\n",
      "RowNumber - 0 шт. - 0.0%\n",
      "CustomerId - 0 шт. - 0.0%\n",
      "Surname - 0 шт. - 0.0%\n",
      "CreditScore - 0 шт. - 0.0%\n",
      "Geography - 0 шт. - 0.0%\n",
      "Gender - 0 шт. - 0.0%\n",
      "Age - 0 шт. - 0.0%\n",
      "Tenure - 909 шт. - 9.09%\n",
      "Balance - 0 шт. - 0.0%\n",
      "NumOfProducts - 0 шт. - 0.0%\n",
      "HasCrCard - 0 шт. - 0.0%\n",
      "IsActiveMember - 0 шт. - 0.0%\n",
      "EstimatedSalary - 0 шт. - 0.0%\n",
      "Exited - 0 шт. - 0.0%\n",
      "\n",
      "Количество явных дубликатов: 0\n"
     ]
    }
   ],
   "source": [
    "data.info()\n",
    "display(data.sample(5, random_state=r_state))\n",
    "\n",
    "print('Количество пропусков по столбцам:')\n",
    "print()\n",
    "\n",
    "for col in data.columns:\n",
    "    nmv = data[col].isna().sum()\n",
    "    pmv = nmv/len(data)\n",
    "    print('{} - {} шт. - {}%'.format(col, nmv, round(pmv*100, 2)))\n",
    "    \n",
    "print()\n",
    "print('Количество явных дубликатов:', data.duplicated().sum())"
   ]
  },
  {
   "cell_type": "markdown",
   "metadata": {},
   "source": [
    "Признаки\n",
    "*\tRowNumber — индекс строки в данных\n",
    "*\tCustomerId — уникальный идентификатор клиента\n",
    "*\tSurname — фамилия\n",
    "*\tCreditScore — кредитный рейтинг\n",
    "*\tGeography — страна проживания\n",
    "*\tGender — пол\n",
    "*\tAge — возраст\n",
    "*\tTenure — сколько лет человек является клиентом банка\n",
    "*\tBalance — баланс на счёте\n",
    "*\tNumOfProducts — количество продуктов банка, используемых клиентом\n",
    "*\tHasCrCard — наличие кредитной карты\n",
    "*\tIsActiveMember — активность клиента\n",
    "*\tEstimatedSalary — предполагаемая зарплата <br>\n",
    "\n",
    "Целевой признак\n",
    "*\tExited — факт ухода клиента\n"
   ]
  },
  {
   "cell_type": "markdown",
   "metadata": {},
   "source": [
    "* Данные состоят из 10000 объектов\n",
    "* Данные имеют 14 признаков (1 целевой и 13 вспомогательных)\n",
    "* Явные дубликаты отсутствуют\n",
    "* Данные в признаке \"Tenure\" обозначают количество лет, переведем их в формат целого числа (int)\n",
    "* Пропущенные значения есть в признаке \"Tenure\" - 909 шт. - 9.09%\n",
    "    - Заменяя пропущенные значения средним или медианным есть риск повлиять на обучение модели\n",
    "    - Удалим пропущенные значения\n",
    "* Признаки \"RowNumber\", \"CustomerId\" и \"Surname\" ни как не влияют на вероятность ухода клиента, но могут усложнить обучение модели\n",
    "    - Удалим данные признаки"
   ]
  },
  {
   "cell_type": "code",
   "execution_count": 3,
   "metadata": {},
   "outputs": [],
   "source": [
    "data=data.dropna(subset=['Tenure'])\n",
    "data['Tenure'] = data['Tenure'].astype(int)\n",
    "data = data.drop(['RowNumber', 'CustomerId', 'Surname'], axis=1)"
   ]
  },
  {
   "cell_type": "markdown",
   "metadata": {},
   "source": [
    "### Изучим подробнее каждый признак и проверим на аномалии"
   ]
  },
  {
   "cell_type": "markdown",
   "metadata": {},
   "source": [
    "#### CreditScore — кредитный рейтинг"
   ]
  },
  {
   "cell_type": "code",
   "execution_count": 4,
   "metadata": {},
   "outputs": [
    {
     "name": "stdout",
     "output_type": "stream",
     "text": [
      "Минимальное значение кредитного рейтинга: 350\n",
      "Максимальное значение кредитного рейтинга: 850\n"
     ]
    }
   ],
   "source": [
    "print(\"Минимальное значение кредитного рейтинга:\", data['CreditScore'].min())\n",
    "print(\"Максимальное значение кредитного рейтинга:\", data['CreditScore'].max())"
   ]
  },
  {
   "cell_type": "markdown",
   "metadata": {},
   "source": [
    "Аномалий не обнаружено"
   ]
  },
  {
   "cell_type": "markdown",
   "metadata": {},
   "source": [
    "#### Geography — страна проживания"
   ]
  },
  {
   "cell_type": "code",
   "execution_count": 5,
   "metadata": {
    "scrolled": true
   },
   "outputs": [
    {
     "data": {
      "text/plain": [
       "France     4550\n",
       "Germany    2293\n",
       "Spain      2248\n",
       "Name: Geography, dtype: int64"
      ]
     },
     "execution_count": 5,
     "metadata": {},
     "output_type": "execute_result"
    }
   ],
   "source": [
    "data['Geography'].value_counts()"
   ]
  },
  {
   "cell_type": "markdown",
   "metadata": {},
   "source": [
    "Аномалий не обнаружено"
   ]
  },
  {
   "cell_type": "markdown",
   "metadata": {},
   "source": [
    "#### Gender — пол"
   ]
  },
  {
   "cell_type": "code",
   "execution_count": 6,
   "metadata": {
    "scrolled": true
   },
   "outputs": [
    {
     "data": {
      "text/plain": [
       "Male      4974\n",
       "Female    4117\n",
       "Name: Gender, dtype: int64"
      ]
     },
     "execution_count": 6,
     "metadata": {},
     "output_type": "execute_result"
    }
   ],
   "source": [
    "data['Gender'].value_counts()"
   ]
  },
  {
   "cell_type": "markdown",
   "metadata": {},
   "source": [
    "Аномалий не обнаружено"
   ]
  },
  {
   "cell_type": "markdown",
   "metadata": {},
   "source": [
    "#### Age — возраст"
   ]
  },
  {
   "cell_type": "code",
   "execution_count": 7,
   "metadata": {
    "scrolled": true
   },
   "outputs": [
    {
     "name": "stdout",
     "output_type": "stream",
     "text": [
      "Минимальный возраст клиента: 18\n",
      "Максимальный возраст клиента: 92\n"
     ]
    }
   ],
   "source": [
    "print(\"Минимальный возраст клиента:\", data['Age'].min())\n",
    "print(\"Максимальный возраст клиента:\", data['Age'].max())"
   ]
  },
  {
   "cell_type": "markdown",
   "metadata": {},
   "source": [
    "Аномалий не обнаружено"
   ]
  },
  {
   "cell_type": "markdown",
   "metadata": {},
   "source": [
    "#### Tenure — сколько лет человек является клиентом банка"
   ]
  },
  {
   "cell_type": "code",
   "execution_count": 8,
   "metadata": {
    "scrolled": false
   },
   "outputs": [
    {
     "data": {
      "text/plain": [
       "1     952\n",
       "2     950\n",
       "8     933\n",
       "3     928\n",
       "5     927\n",
       "7     925\n",
       "4     885\n",
       "9     882\n",
       "6     881\n",
       "10    446\n",
       "0     382\n",
       "Name: Tenure, dtype: int64"
      ]
     },
     "execution_count": 8,
     "metadata": {},
     "output_type": "execute_result"
    }
   ],
   "source": [
    "data['Tenure'].value_counts()"
   ]
  },
  {
   "cell_type": "markdown",
   "metadata": {},
   "source": [
    "Аномалий не обнаружено"
   ]
  },
  {
   "cell_type": "markdown",
   "metadata": {},
   "source": [
    "#### Balance — баланс на счёте"
   ]
  },
  {
   "cell_type": "code",
   "execution_count": 9,
   "metadata": {
    "scrolled": false
   },
   "outputs": [
    {
     "name": "stdout",
     "output_type": "stream",
     "text": [
      "Минимальный баланс на счёте: 0.0\n",
      "Максимальный баланс на счёте: 250898.09\n",
      "Количество клиентов с нулевым балансом: 3283\n"
     ]
    }
   ],
   "source": [
    "print(\"Минимальный баланс на счёте:\", data['Balance'].min())\n",
    "print(\"Максимальный баланс на счёте:\", data['Balance'].max())\n",
    "print(\"Количество клиентов с нулевым балансом:\", len(data.loc[data['Balance']==0]))"
   ]
  },
  {
   "cell_type": "markdown",
   "metadata": {},
   "source": [
    "Аномалий не обнаружено"
   ]
  },
  {
   "cell_type": "markdown",
   "metadata": {},
   "source": [
    "#### NumOfProducts — количество продуктов банка, используемых клиентом"
   ]
  },
  {
   "cell_type": "code",
   "execution_count": 10,
   "metadata": {
    "scrolled": false
   },
   "outputs": [
    {
     "data": {
      "text/plain": [
       "1    4617\n",
       "2    4184\n",
       "3     234\n",
       "4      56\n",
       "Name: NumOfProducts, dtype: int64"
      ]
     },
     "execution_count": 10,
     "metadata": {},
     "output_type": "execute_result"
    }
   ],
   "source": [
    "data['NumOfProducts'].value_counts()"
   ]
  },
  {
   "cell_type": "markdown",
   "metadata": {},
   "source": [
    "Аномалий не обнаружено"
   ]
  },
  {
   "cell_type": "markdown",
   "metadata": {},
   "source": [
    "#### HasCrCard — наличие кредитной карты"
   ]
  },
  {
   "cell_type": "code",
   "execution_count": 11,
   "metadata": {
    "scrolled": false
   },
   "outputs": [
    {
     "data": {
      "text/plain": [
       "1    6409\n",
       "0    2682\n",
       "Name: HasCrCard, dtype: int64"
      ]
     },
     "execution_count": 11,
     "metadata": {},
     "output_type": "execute_result"
    }
   ],
   "source": [
    "data['HasCrCard'].value_counts()"
   ]
  },
  {
   "cell_type": "markdown",
   "metadata": {},
   "source": [
    "Аномалий не обнаружено"
   ]
  },
  {
   "cell_type": "markdown",
   "metadata": {},
   "source": [
    "#### IsActiveMember — активность клиента"
   ]
  },
  {
   "cell_type": "code",
   "execution_count": 12,
   "metadata": {
    "scrolled": false
   },
   "outputs": [
    {
     "data": {
      "text/plain": [
       "1    4687\n",
       "0    4404\n",
       "Name: IsActiveMember, dtype: int64"
      ]
     },
     "execution_count": 12,
     "metadata": {},
     "output_type": "execute_result"
    }
   ],
   "source": [
    "data['IsActiveMember'].value_counts()"
   ]
  },
  {
   "cell_type": "markdown",
   "metadata": {},
   "source": [
    "Аномалий не обнаружено"
   ]
  },
  {
   "cell_type": "markdown",
   "metadata": {},
   "source": [
    "#### EstimatedSalary — предполагаемая зарплата"
   ]
  },
  {
   "cell_type": "code",
   "execution_count": 13,
   "metadata": {
    "scrolled": false
   },
   "outputs": [
    {
     "name": "stdout",
     "output_type": "stream",
     "text": [
      "Минимальная предполагаемая зарплата: 11.58\n",
      "Максимальная предполагаемая зарплата: 199992.48\n"
     ]
    }
   ],
   "source": [
    "print(\"Минимальная предполагаемая зарплата:\", data['EstimatedSalary'].min())\n",
    "print(\"Максимальная предполагаемая зарплата:\", data['EstimatedSalary'].max())"
   ]
  },
  {
   "cell_type": "markdown",
   "metadata": {},
   "source": [
    "Аномалий не обнаружено"
   ]
  },
  {
   "cell_type": "markdown",
   "metadata": {},
   "source": [
    "#### Exited — факт ухода клиента"
   ]
  },
  {
   "cell_type": "code",
   "execution_count": 14,
   "metadata": {},
   "outputs": [
    {
     "data": {
      "text/plain": [
       "0    7237\n",
       "1    1854\n",
       "Name: Exited, dtype: int64"
      ]
     },
     "execution_count": 14,
     "metadata": {},
     "output_type": "execute_result"
    }
   ],
   "source": [
    "data['Exited'].value_counts()"
   ]
  },
  {
   "cell_type": "markdown",
   "metadata": {},
   "source": [
    "Аномалий не обнаружено"
   ]
  },
  {
   "cell_type": "markdown",
   "metadata": {},
   "source": [
    "### Подготовим данные"
   ]
  },
  {
   "cell_type": "markdown",
   "metadata": {},
   "source": [
    "Преобразуем данные методом OHE, чтобы исключить попадание в дамми-ловушку"
   ]
  },
  {
   "cell_type": "code",
   "execution_count": 15,
   "metadata": {},
   "outputs": [
    {
     "data": {
      "text/html": [
       "<div>\n",
       "<style scoped>\n",
       "    .dataframe tbody tr th:only-of-type {\n",
       "        vertical-align: middle;\n",
       "    }\n",
       "\n",
       "    .dataframe tbody tr th {\n",
       "        vertical-align: top;\n",
       "    }\n",
       "\n",
       "    .dataframe thead th {\n",
       "        text-align: right;\n",
       "    }\n",
       "</style>\n",
       "<table border=\"1\" class=\"dataframe\">\n",
       "  <thead>\n",
       "    <tr style=\"text-align: right;\">\n",
       "      <th></th>\n",
       "      <th>CreditScore</th>\n",
       "      <th>Age</th>\n",
       "      <th>Tenure</th>\n",
       "      <th>Balance</th>\n",
       "      <th>NumOfProducts</th>\n",
       "      <th>HasCrCard</th>\n",
       "      <th>IsActiveMember</th>\n",
       "      <th>EstimatedSalary</th>\n",
       "      <th>Exited</th>\n",
       "      <th>Geography_Germany</th>\n",
       "      <th>Geography_Spain</th>\n",
       "      <th>Gender_Male</th>\n",
       "    </tr>\n",
       "  </thead>\n",
       "  <tbody>\n",
       "    <tr>\n",
       "      <th>862</th>\n",
       "      <td>725</td>\n",
       "      <td>41</td>\n",
       "      <td>7</td>\n",
       "      <td>113980.21</td>\n",
       "      <td>1</td>\n",
       "      <td>1</td>\n",
       "      <td>1</td>\n",
       "      <td>116704.25</td>\n",
       "      <td>0</td>\n",
       "      <td>0</td>\n",
       "      <td>0</td>\n",
       "      <td>1</td>\n",
       "    </tr>\n",
       "    <tr>\n",
       "      <th>9727</th>\n",
       "      <td>530</td>\n",
       "      <td>45</td>\n",
       "      <td>1</td>\n",
       "      <td>0.00</td>\n",
       "      <td>1</td>\n",
       "      <td>0</td>\n",
       "      <td>1</td>\n",
       "      <td>190663.89</td>\n",
       "      <td>1</td>\n",
       "      <td>0</td>\n",
       "      <td>0</td>\n",
       "      <td>0</td>\n",
       "    </tr>\n",
       "    <tr>\n",
       "      <th>1717</th>\n",
       "      <td>707</td>\n",
       "      <td>35</td>\n",
       "      <td>3</td>\n",
       "      <td>56674.48</td>\n",
       "      <td>1</td>\n",
       "      <td>1</td>\n",
       "      <td>0</td>\n",
       "      <td>17987.40</td>\n",
       "      <td>1</td>\n",
       "      <td>0</td>\n",
       "      <td>1</td>\n",
       "      <td>0</td>\n",
       "    </tr>\n",
       "    <tr>\n",
       "      <th>8640</th>\n",
       "      <td>730</td>\n",
       "      <td>32</td>\n",
       "      <td>9</td>\n",
       "      <td>127661.69</td>\n",
       "      <td>1</td>\n",
       "      <td>0</td>\n",
       "      <td>0</td>\n",
       "      <td>60905.51</td>\n",
       "      <td>0</td>\n",
       "      <td>0</td>\n",
       "      <td>0</td>\n",
       "      <td>0</td>\n",
       "    </tr>\n",
       "    <tr>\n",
       "      <th>5288</th>\n",
       "      <td>582</td>\n",
       "      <td>30</td>\n",
       "      <td>2</td>\n",
       "      <td>0.00</td>\n",
       "      <td>2</td>\n",
       "      <td>1</td>\n",
       "      <td>1</td>\n",
       "      <td>132029.95</td>\n",
       "      <td>0</td>\n",
       "      <td>0</td>\n",
       "      <td>0</td>\n",
       "      <td>1</td>\n",
       "    </tr>\n",
       "  </tbody>\n",
       "</table>\n",
       "</div>"
      ],
      "text/plain": [
       "      CreditScore  Age  Tenure    Balance  NumOfProducts  HasCrCard  \\\n",
       "862           725   41       7  113980.21              1          1   \n",
       "9727          530   45       1       0.00              1          0   \n",
       "1717          707   35       3   56674.48              1          1   \n",
       "8640          730   32       9  127661.69              1          0   \n",
       "5288          582   30       2       0.00              2          1   \n",
       "\n",
       "      IsActiveMember  EstimatedSalary  Exited  Geography_Germany  \\\n",
       "862                1        116704.25       0                  0   \n",
       "9727               1        190663.89       1                  0   \n",
       "1717               0         17987.40       1                  0   \n",
       "8640               0         60905.51       0                  0   \n",
       "5288               1        132029.95       0                  0   \n",
       "\n",
       "      Geography_Spain  Gender_Male  \n",
       "862                 0            1  \n",
       "9727                0            0  \n",
       "1717                1            0  \n",
       "8640                0            0  \n",
       "5288                0            1  "
      ]
     },
     "metadata": {},
     "output_type": "display_data"
    }
   ],
   "source": [
    "data = pd.get_dummies(data, drop_first=True)\n",
    "display(data.sample(5, random_state=r_state))"
   ]
  },
  {
   "cell_type": "markdown",
   "metadata": {},
   "source": [
    "Определим целевой и вспомогательные признаки"
   ]
  },
  {
   "cell_type": "code",
   "execution_count": 16,
   "metadata": {},
   "outputs": [],
   "source": [
    "features = data.drop(['Exited'], axis=1)\n",
    "target = data['Exited']"
   ]
  },
  {
   "cell_type": "markdown",
   "metadata": {},
   "source": [
    "Отделим обучающие данные"
   ]
  },
  {
   "cell_type": "code",
   "execution_count": 17,
   "metadata": {},
   "outputs": [],
   "source": [
    "features_train, features_valid, target_train, target_valid = train_test_split(\n",
    "    features, target, test_size=0.4, random_state=r_state, stratify=target)"
   ]
  },
  {
   "cell_type": "markdown",
   "metadata": {},
   "source": [
    "Разделим оставшиеся данные на валидационную и тестовую выборки"
   ]
  },
  {
   "cell_type": "code",
   "execution_count": 18,
   "metadata": {},
   "outputs": [],
   "source": [
    "features_valid, features_test, target_valid, target_test = train_test_split(\n",
    "    features_valid, target_valid, test_size=0.5, random_state=r_state, stratify=target_valid)"
   ]
  },
  {
   "cell_type": "markdown",
   "metadata": {},
   "source": [
    "Проверим правильность разделения выборок"
   ]
  },
  {
   "cell_type": "code",
   "execution_count": 19,
   "metadata": {},
   "outputs": [
    {
     "name": "stdout",
     "output_type": "stream",
     "text": [
      "Вспомогательные признаки:\n",
      "\n",
      "features_train - Объектов: 5454 шт., признаков: 11 шт. - 59.99%\n",
      "features_valid - Объектов: 1818 шт., признаков: 11 шт. - 20.0%\n",
      "features_test - Объектов: 1819 шт., признаков: 11 шт. - 20.01%\n",
      "\n",
      "Целевые признаки:\n",
      "\n",
      "target_train - Объектов: 5454 шт. - 59.99%\n",
      "target_valid - Объектов: 1818 шт. - 20.0%\n",
      "target_test - Объектов: 1819 шт. - 20.01%\n"
     ]
    }
   ],
   "source": [
    "features = {'features_train' : features_train, 'features_valid' : features_valid, 'features_test' : features_test}\n",
    "targets = {'target_train' : target_train, 'target_valid' : target_valid, 'target_test' : target_test}\n",
    "\n",
    "print('Вспомогательные признаки:')\n",
    "print()\n",
    "for i in features:\n",
    "    sh = features[i].shape\n",
    "    psh = sh[0]/len(data)\n",
    "    print('{} - Объектов: {} шт., признаков: {} шт. - {}%'.format(i, sh[0], sh[1], round(psh*100, 2)))\n",
    "    \n",
    "print()\n",
    "\n",
    "print('Целевые признаки:')\n",
    "print()\n",
    "for i in targets:\n",
    "    sh = targets[i].shape\n",
    "    psh = sh[0]/len(data)\n",
    "    print('{} - Объектов: {} шт. - {}%'.format(i, sh[0], round(psh*100, 2)))"
   ]
  },
  {
   "cell_type": "markdown",
   "metadata": {},
   "source": [
    "Стандартизируем численные признаки в выборках, так как в данных присутствуют значения в разных масштабах"
   ]
  },
  {
   "cell_type": "code",
   "execution_count": 20,
   "metadata": {},
   "outputs": [
    {
     "data": {
      "text/plain": [
       "StandardScaler()"
      ]
     },
     "execution_count": 20,
     "metadata": {},
     "output_type": "execute_result"
    }
   ],
   "source": [
    "numeric = ['CreditScore', 'Age', 'Tenure', 'Balance', 'NumOfProducts', 'EstimatedSalary']\n",
    "\n",
    "scaler = StandardScaler()\n",
    "scaler.fit(features_train[numeric])"
   ]
  },
  {
   "cell_type": "code",
   "execution_count": 21,
   "metadata": {},
   "outputs": [
    {
     "data": {
      "text/html": [
       "<div>\n",
       "<style scoped>\n",
       "    .dataframe tbody tr th:only-of-type {\n",
       "        vertical-align: middle;\n",
       "    }\n",
       "\n",
       "    .dataframe tbody tr th {\n",
       "        vertical-align: top;\n",
       "    }\n",
       "\n",
       "    .dataframe thead th {\n",
       "        text-align: right;\n",
       "    }\n",
       "</style>\n",
       "<table border=\"1\" class=\"dataframe\">\n",
       "  <thead>\n",
       "    <tr style=\"text-align: right;\">\n",
       "      <th></th>\n",
       "      <th>CreditScore</th>\n",
       "      <th>Age</th>\n",
       "      <th>Tenure</th>\n",
       "      <th>Balance</th>\n",
       "      <th>NumOfProducts</th>\n",
       "      <th>HasCrCard</th>\n",
       "      <th>IsActiveMember</th>\n",
       "      <th>EstimatedSalary</th>\n",
       "      <th>Geography_Germany</th>\n",
       "      <th>Geography_Spain</th>\n",
       "      <th>Gender_Male</th>\n",
       "    </tr>\n",
       "  </thead>\n",
       "  <tbody>\n",
       "    <tr>\n",
       "      <th>5329</th>\n",
       "      <td>-0.313795</td>\n",
       "      <td>0.202723</td>\n",
       "      <td>-0.705222</td>\n",
       "      <td>-1.222967</td>\n",
       "      <td>0.789359</td>\n",
       "      <td>1</td>\n",
       "      <td>1</td>\n",
       "      <td>0.654508</td>\n",
       "      <td>0</td>\n",
       "      <td>0</td>\n",
       "      <td>1</td>\n",
       "    </tr>\n",
       "    <tr>\n",
       "      <th>8279</th>\n",
       "      <td>-0.470035</td>\n",
       "      <td>-0.468939</td>\n",
       "      <td>-1.053112</td>\n",
       "      <td>-1.222967</td>\n",
       "      <td>-0.910943</td>\n",
       "      <td>0</td>\n",
       "      <td>0</td>\n",
       "      <td>-1.106494</td>\n",
       "      <td>0</td>\n",
       "      <td>0</td>\n",
       "      <td>0</td>\n",
       "    </tr>\n",
       "    <tr>\n",
       "      <th>8495</th>\n",
       "      <td>0.477820</td>\n",
       "      <td>0.298675</td>\n",
       "      <td>-0.357331</td>\n",
       "      <td>-1.222967</td>\n",
       "      <td>-0.910943</td>\n",
       "      <td>0</td>\n",
       "      <td>0</td>\n",
       "      <td>0.464100</td>\n",
       "      <td>0</td>\n",
       "      <td>0</td>\n",
       "      <td>1</td>\n",
       "    </tr>\n",
       "    <tr>\n",
       "      <th>1639</th>\n",
       "      <td>-1.522050</td>\n",
       "      <td>-0.660843</td>\n",
       "      <td>1.034232</td>\n",
       "      <td>1.502997</td>\n",
       "      <td>0.789359</td>\n",
       "      <td>0</td>\n",
       "      <td>1</td>\n",
       "      <td>-1.459704</td>\n",
       "      <td>1</td>\n",
       "      <td>0</td>\n",
       "      <td>1</td>\n",
       "    </tr>\n",
       "    <tr>\n",
       "      <th>9993</th>\n",
       "      <td>-0.063812</td>\n",
       "      <td>-1.044650</td>\n",
       "      <td>0.686341</td>\n",
       "      <td>1.259187</td>\n",
       "      <td>-0.910943</td>\n",
       "      <td>1</td>\n",
       "      <td>0</td>\n",
       "      <td>-1.224724</td>\n",
       "      <td>0</td>\n",
       "      <td>0</td>\n",
       "      <td>1</td>\n",
       "    </tr>\n",
       "  </tbody>\n",
       "</table>\n",
       "</div>"
      ],
      "text/plain": [
       "      CreditScore       Age    Tenure   Balance  NumOfProducts  HasCrCard  \\\n",
       "5329    -0.313795  0.202723 -0.705222 -1.222967       0.789359          1   \n",
       "8279    -0.470035 -0.468939 -1.053112 -1.222967      -0.910943          0   \n",
       "8495     0.477820  0.298675 -0.357331 -1.222967      -0.910943          0   \n",
       "1639    -1.522050 -0.660843  1.034232  1.502997       0.789359          0   \n",
       "9993    -0.063812 -1.044650  0.686341  1.259187      -0.910943          1   \n",
       "\n",
       "      IsActiveMember  EstimatedSalary  Geography_Germany  Geography_Spain  \\\n",
       "5329               1         0.654508                  0                0   \n",
       "8279               0        -1.106494                  0                0   \n",
       "8495               0         0.464100                  0                0   \n",
       "1639               1        -1.459704                  1                0   \n",
       "9993               0        -1.224724                  0                0   \n",
       "\n",
       "      Gender_Male  \n",
       "5329            1  \n",
       "8279            0  \n",
       "8495            1  \n",
       "1639            1  \n",
       "9993            1  "
      ]
     },
     "metadata": {},
     "output_type": "display_data"
    }
   ],
   "source": [
    "features_train[numeric] = scaler.transform(features_train[numeric])\n",
    "display(features_train.sample(5, random_state=r_state))"
   ]
  },
  {
   "cell_type": "code",
   "execution_count": 22,
   "metadata": {},
   "outputs": [
    {
     "data": {
      "text/html": [
       "<div>\n",
       "<style scoped>\n",
       "    .dataframe tbody tr th:only-of-type {\n",
       "        vertical-align: middle;\n",
       "    }\n",
       "\n",
       "    .dataframe tbody tr th {\n",
       "        vertical-align: top;\n",
       "    }\n",
       "\n",
       "    .dataframe thead th {\n",
       "        text-align: right;\n",
       "    }\n",
       "</style>\n",
       "<table border=\"1\" class=\"dataframe\">\n",
       "  <thead>\n",
       "    <tr style=\"text-align: right;\">\n",
       "      <th></th>\n",
       "      <th>CreditScore</th>\n",
       "      <th>Age</th>\n",
       "      <th>Tenure</th>\n",
       "      <th>Balance</th>\n",
       "      <th>NumOfProducts</th>\n",
       "      <th>HasCrCard</th>\n",
       "      <th>IsActiveMember</th>\n",
       "      <th>EstimatedSalary</th>\n",
       "      <th>Geography_Germany</th>\n",
       "      <th>Geography_Spain</th>\n",
       "      <th>Gender_Male</th>\n",
       "    </tr>\n",
       "  </thead>\n",
       "  <tbody>\n",
       "    <tr>\n",
       "      <th>2556</th>\n",
       "      <td>-0.167972</td>\n",
       "      <td>0.202723</td>\n",
       "      <td>-0.357331</td>\n",
       "      <td>-1.222967</td>\n",
       "      <td>0.789359</td>\n",
       "      <td>1</td>\n",
       "      <td>1</td>\n",
       "      <td>1.127936</td>\n",
       "      <td>0</td>\n",
       "      <td>1</td>\n",
       "      <td>0</td>\n",
       "    </tr>\n",
       "    <tr>\n",
       "      <th>7905</th>\n",
       "      <td>0.529899</td>\n",
       "      <td>-0.372988</td>\n",
       "      <td>1.730013</td>\n",
       "      <td>1.333359</td>\n",
       "      <td>0.789359</td>\n",
       "      <td>1</td>\n",
       "      <td>1</td>\n",
       "      <td>-0.494889</td>\n",
       "      <td>0</td>\n",
       "      <td>1</td>\n",
       "      <td>1</td>\n",
       "    </tr>\n",
       "    <tr>\n",
       "      <th>6219</th>\n",
       "      <td>-0.147140</td>\n",
       "      <td>-0.181084</td>\n",
       "      <td>-1.401003</td>\n",
       "      <td>0.620111</td>\n",
       "      <td>-0.910943</td>\n",
       "      <td>1</td>\n",
       "      <td>0</td>\n",
       "      <td>-0.819705</td>\n",
       "      <td>0</td>\n",
       "      <td>1</td>\n",
       "      <td>1</td>\n",
       "    </tr>\n",
       "    <tr>\n",
       "      <th>3110</th>\n",
       "      <td>-1.084578</td>\n",
       "      <td>3.369132</td>\n",
       "      <td>1.034232</td>\n",
       "      <td>0.616133</td>\n",
       "      <td>0.789359</td>\n",
       "      <td>1</td>\n",
       "      <td>1</td>\n",
       "      <td>-0.572072</td>\n",
       "      <td>1</td>\n",
       "      <td>0</td>\n",
       "      <td>0</td>\n",
       "    </tr>\n",
       "    <tr>\n",
       "      <th>5392</th>\n",
       "      <td>0.915291</td>\n",
       "      <td>0.490579</td>\n",
       "      <td>-1.053112</td>\n",
       "      <td>-1.222967</td>\n",
       "      <td>0.789359</td>\n",
       "      <td>1</td>\n",
       "      <td>0</td>\n",
       "      <td>-0.984205</td>\n",
       "      <td>0</td>\n",
       "      <td>1</td>\n",
       "      <td>1</td>\n",
       "    </tr>\n",
       "  </tbody>\n",
       "</table>\n",
       "</div>"
      ],
      "text/plain": [
       "      CreditScore       Age    Tenure   Balance  NumOfProducts  HasCrCard  \\\n",
       "2556    -0.167972  0.202723 -0.357331 -1.222967       0.789359          1   \n",
       "7905     0.529899 -0.372988  1.730013  1.333359       0.789359          1   \n",
       "6219    -0.147140 -0.181084 -1.401003  0.620111      -0.910943          1   \n",
       "3110    -1.084578  3.369132  1.034232  0.616133       0.789359          1   \n",
       "5392     0.915291  0.490579 -1.053112 -1.222967       0.789359          1   \n",
       "\n",
       "      IsActiveMember  EstimatedSalary  Geography_Germany  Geography_Spain  \\\n",
       "2556               1         1.127936                  0                1   \n",
       "7905               1        -0.494889                  0                1   \n",
       "6219               0        -0.819705                  0                1   \n",
       "3110               1        -0.572072                  1                0   \n",
       "5392               0        -0.984205                  0                1   \n",
       "\n",
       "      Gender_Male  \n",
       "2556            0  \n",
       "7905            1  \n",
       "6219            1  \n",
       "3110            0  \n",
       "5392            1  "
      ]
     },
     "metadata": {},
     "output_type": "display_data"
    }
   ],
   "source": [
    "features_valid[numeric] = scaler.transform(features_valid[numeric])\n",
    "display(features_valid.sample(5, random_state=r_state))"
   ]
  },
  {
   "cell_type": "code",
   "execution_count": 23,
   "metadata": {},
   "outputs": [
    {
     "data": {
      "text/html": [
       "<div>\n",
       "<style scoped>\n",
       "    .dataframe tbody tr th:only-of-type {\n",
       "        vertical-align: middle;\n",
       "    }\n",
       "\n",
       "    .dataframe tbody tr th {\n",
       "        vertical-align: top;\n",
       "    }\n",
       "\n",
       "    .dataframe thead th {\n",
       "        text-align: right;\n",
       "    }\n",
       "</style>\n",
       "<table border=\"1\" class=\"dataframe\">\n",
       "  <thead>\n",
       "    <tr style=\"text-align: right;\">\n",
       "      <th></th>\n",
       "      <th>CreditScore</th>\n",
       "      <th>Age</th>\n",
       "      <th>Tenure</th>\n",
       "      <th>Balance</th>\n",
       "      <th>NumOfProducts</th>\n",
       "      <th>HasCrCard</th>\n",
       "      <th>IsActiveMember</th>\n",
       "      <th>EstimatedSalary</th>\n",
       "      <th>Geography_Germany</th>\n",
       "      <th>Geography_Spain</th>\n",
       "      <th>Gender_Male</th>\n",
       "    </tr>\n",
       "  </thead>\n",
       "  <tbody>\n",
       "    <tr>\n",
       "      <th>7239</th>\n",
       "      <td>-0.730435</td>\n",
       "      <td>0.586530</td>\n",
       "      <td>1.034232</td>\n",
       "      <td>0.437686</td>\n",
       "      <td>-0.910943</td>\n",
       "      <td>1</td>\n",
       "      <td>0</td>\n",
       "      <td>-0.907563</td>\n",
       "      <td>1</td>\n",
       "      <td>0</td>\n",
       "      <td>1</td>\n",
       "    </tr>\n",
       "    <tr>\n",
       "      <th>5574</th>\n",
       "      <td>-1.532466</td>\n",
       "      <td>-0.277036</td>\n",
       "      <td>1.382122</td>\n",
       "      <td>-1.222967</td>\n",
       "      <td>0.789359</td>\n",
       "      <td>1</td>\n",
       "      <td>1</td>\n",
       "      <td>-1.449003</td>\n",
       "      <td>0</td>\n",
       "      <td>1</td>\n",
       "      <td>0</td>\n",
       "    </tr>\n",
       "    <tr>\n",
       "      <th>8895</th>\n",
       "      <td>0.509067</td>\n",
       "      <td>0.106771</td>\n",
       "      <td>1.034232</td>\n",
       "      <td>0.730581</td>\n",
       "      <td>-0.910943</td>\n",
       "      <td>1</td>\n",
       "      <td>0</td>\n",
       "      <td>0.042339</td>\n",
       "      <td>0</td>\n",
       "      <td>0</td>\n",
       "      <td>0</td>\n",
       "    </tr>\n",
       "    <tr>\n",
       "      <th>2299</th>\n",
       "      <td>-0.001316</td>\n",
       "      <td>-1.332505</td>\n",
       "      <td>-1.053112</td>\n",
       "      <td>0.607204</td>\n",
       "      <td>-0.910943</td>\n",
       "      <td>1</td>\n",
       "      <td>1</td>\n",
       "      <td>-1.291712</td>\n",
       "      <td>1</td>\n",
       "      <td>0</td>\n",
       "      <td>0</td>\n",
       "    </tr>\n",
       "    <tr>\n",
       "      <th>5105</th>\n",
       "      <td>0.217420</td>\n",
       "      <td>1.162241</td>\n",
       "      <td>-0.705222</td>\n",
       "      <td>0.328039</td>\n",
       "      <td>-0.910943</td>\n",
       "      <td>1</td>\n",
       "      <td>0</td>\n",
       "      <td>1.333945</td>\n",
       "      <td>1</td>\n",
       "      <td>0</td>\n",
       "      <td>1</td>\n",
       "    </tr>\n",
       "  </tbody>\n",
       "</table>\n",
       "</div>"
      ],
      "text/plain": [
       "      CreditScore       Age    Tenure   Balance  NumOfProducts  HasCrCard  \\\n",
       "7239    -0.730435  0.586530  1.034232  0.437686      -0.910943          1   \n",
       "5574    -1.532466 -0.277036  1.382122 -1.222967       0.789359          1   \n",
       "8895     0.509067  0.106771  1.034232  0.730581      -0.910943          1   \n",
       "2299    -0.001316 -1.332505 -1.053112  0.607204      -0.910943          1   \n",
       "5105     0.217420  1.162241 -0.705222  0.328039      -0.910943          1   \n",
       "\n",
       "      IsActiveMember  EstimatedSalary  Geography_Germany  Geography_Spain  \\\n",
       "7239               0        -0.907563                  1                0   \n",
       "5574               1        -1.449003                  0                1   \n",
       "8895               0         0.042339                  0                0   \n",
       "2299               1        -1.291712                  1                0   \n",
       "5105               0         1.333945                  1                0   \n",
       "\n",
       "      Gender_Male  \n",
       "7239            1  \n",
       "5574            0  \n",
       "8895            0  \n",
       "2299            0  \n",
       "5105            1  "
      ]
     },
     "metadata": {},
     "output_type": "display_data"
    }
   ],
   "source": [
    "features_test[numeric] = scaler.transform(features_test[numeric])\n",
    "display(features_test.sample(5, random_state=r_state))"
   ]
  },
  {
   "cell_type": "markdown",
   "metadata": {},
   "source": [
    "## Исследование задачи <a id='research'></a>"
   ]
  },
  {
   "cell_type": "markdown",
   "metadata": {},
   "source": [
    "### Проверим баланс классов в целевом признаке"
   ]
  },
  {
   "cell_type": "code",
   "execution_count": 24,
   "metadata": {},
   "outputs": [
    {
     "name": "stdout",
     "output_type": "stream",
     "text": [
      "Соотношение оставшихся и ушедших клиентов:\n",
      "79.6% / 20.4%\n",
      "\n"
     ]
    },
    {
     "data": {
      "image/png": "[encoded data removed]",
      "text/plain": [
       "<Figure size 800x800 with 1 Axes>"
      ]
     },
     "metadata": {},
     "output_type": "display_data"
    }
   ],
   "source": [
    "p_exited_0 = data['Exited'][data['Exited'] == 0].count()/len(data['Exited'])\n",
    "p_exited_1 = data['Exited'][data['Exited'] == 1].count()/len(data['Exited'])\n",
    "print('Соотношение оставшихся и ушедших клиентов:', )\n",
    "print('{}% / {}%'.format(round(p_exited_0*100, 1), round(p_exited_1*100, 1)))\n",
    "print()\n",
    "\n",
    "data['Exited'].value_counts().plot(kind='pie', title='Количество оставшихся и ушедших клиентов', figsize=(8,8), \n",
    "                                   legend=False, label='', autopct='%1.1f%%', labels = ['Оставшиеся','Ушедшие']);\n"
   ]
  },
  {
   "cell_type": "markdown",
   "metadata": {},
   "source": [
    "Соотношение \"ушедших\" к \"оставшимся\" примерно 1 к 4. В данных имеется дисбаланс"
   ]
  },
  {
   "cell_type": "markdown",
   "metadata": {},
   "source": [
    "Проверим баланс классов по выборкам"
   ]
  },
  {
   "cell_type": "code",
   "execution_count": 25,
   "metadata": {},
   "outputs": [
    {
     "name": "stdout",
     "output_type": "stream",
     "text": [
      "Соотношение оставшихся и ушедших клиентов в выборке target_train:\n",
      "79.6% / 20.4%\n",
      "\n",
      "Соотношение оставшихся и ушедших клиентов в выборке target_valid:\n",
      "79.6% / 20.4%\n",
      "\n",
      "Соотношение оставшихся и ушедших клиентов в выборке target_test:\n",
      "79.6% / 20.4%\n",
      "\n"
     ]
    }
   ],
   "source": [
    "for i in targets:   \n",
    "    p_exited_0 = targets[i][targets[i] == 0].count()/len(targets[i])\n",
    "    p_exited_1 = targets[i][targets[i] == 1].count()/len(targets[i])\n",
    "    print('Соотношение оставшихся и ушедших клиентов в выборке {}:'.format(i))\n",
    "    print('{}% / {}%'.format(round(p_exited_0*100, 1), round(p_exited_1*100, 1)))\n",
    "    print()"
   ]
  },
  {
   "cell_type": "markdown",
   "metadata": {},
   "source": [
    "Выборки разделены равномерно"
   ]
  },
  {
   "cell_type": "markdown",
   "metadata": {},
   "source": [
    "### Обучим модель без учёта дисбаланса"
   ]
  },
  {
   "cell_type": "markdown",
   "metadata": {},
   "source": [
    "В нашем исследовании целевой признак - столбец \"Exited\" (категориальный). Категорий в данном признаке две (ушел или не ушел клиент), соответственно нам предстоит решить задачу бинарной (двоичной) классификации.\n",
    "\n",
    "Для решения данной задачи используем 3 модели:\n",
    "\n",
    "Decision Tree (Дерево решений)\n",
    "Random Forest (Случайный лес)\n",
    "Logistic Regression (Логистическая регрессия)\n",
    "Применим все 3 модели, подберем им оптимальные гиперпараметры и найдем лучший результат"
   ]
  },
  {
   "cell_type": "markdown",
   "metadata": {},
   "source": [
    "Для проверки качества на разных моделях создадим функцию с метриками F1 и AUC-ROC:"
   ]
  },
  {
   "cell_type": "code",
   "execution_count": 26,
   "metadata": {},
   "outputs": [],
   "source": [
    "def test_f1_aucroc(model):\n",
    "    predictions_valid = model.predict(features_valid)\n",
    "    probabilities_valid = model.predict_proba(features_valid)\n",
    "    probabilities_one_valid = probabilities_valid[:, 1]\n",
    "    return f1_score(target_valid, predictions_valid), roc_auc_score(target_valid, probabilities_one_valid)"
   ]
  },
  {
   "cell_type": "markdown",
   "metadata": {},
   "source": [
    "#### Decision Tree (Дерево решений)"
   ]
  },
  {
   "cell_type": "code",
   "execution_count": 27,
   "metadata": {},
   "outputs": [
    {
     "name": "stdout",
     "output_type": "stream",
     "text": [
      "Глубина = 1 , F1-мера = 0.0 , AUC-ROC = 0.6743788151710854\n",
      "Глубина = 2 , F1-мера = 0.5240464344941957 , AUC-ROC = 0.7304023381398823\n",
      "Глубина = 3 , F1-мера = 0.5208681135225375 , AUC-ROC = 0.7871290540704161\n",
      "Глубина = 4 , F1-мера = 0.5127272727272727 , AUC-ROC = 0.8113524216847945\n",
      "Глубина = 5 , F1-мера = 0.5733788395904437 , AUC-ROC = 0.8450470068195747\n",
      "Глубина = 6 , F1-мера = 0.5797598627787307 , AUC-ROC = 0.8372802172726544\n",
      "Глубина = 7 , F1-мера = 0.5815126050420169 , AUC-ROC = 0.8245379882534177\n",
      "Глубина = 8 , F1-мера = 0.5463576158940396 , AUC-ROC = 0.806618209996703\n",
      "Глубина = 9 , F1-мера = 0.5382059800664452 , AUC-ROC = 0.7900899155609618\n",
      "Глубина = 10 , F1-мера = 0.5486443381180223 , AUC-ROC = 0.7564260660125885\n",
      "Глубина = 11 , F1-мера = 0.5214814814814815 , AUC-ROC = 0.7171525062542261\n",
      "Глубина = 12 , F1-мера = 0.5007541478129715 , AUC-ROC = 0.6987716942014057\n",
      "Глубина = 13 , F1-мера = 0.5021770682148041 , AUC-ROC = 0.685568431386063\n",
      "Глубина = 14 , F1-мера = 0.4921316165951359 , AUC-ROC = 0.6732369415669934\n",
      "Глубина = 15 , F1-мера = 0.49108367626886146 , AUC-ROC = 0.6761139787309742\n",
      "Глубина = 16 , F1-мера = 0.4918918918918919 , AUC-ROC = 0.675929565212532\n",
      "Глубина = 17 , F1-мера = 0.5040431266846361 , AUC-ROC = 0.6809227009315678\n",
      "Глубина = 18 , F1-мера = 0.4823989569752281 , AUC-ROC = 0.6752803923723588\n",
      "Глубина = 19 , F1-мера = 0.48339973439575035 , AUC-ROC = 0.6750857336584475\n",
      "Глубина = 20 , F1-мера = 0.48412698412698413 , AUC-ROC = 0.6749050456656304\n",
      "\n",
      "Лучший результат:\n",
      "Глубина = 5 , F1-мера = 0.5733788395904437 , AUC-ROC = 0.8450470068195747\n"
     ]
    }
   ],
   "source": [
    "best_f1_DT = 0\n",
    "best_aucroc_DT = 0\n",
    "best_depth_DT = 0\n",
    "\n",
    "\n",
    "for depth in range(1, 21):\n",
    "    model_decision_tree = DecisionTreeClassifier(random_state=r_state, max_depth=depth)\n",
    "    model_decision_tree.fit(features_train, target_train)\n",
    "    f1, aucroc = test_f1_aucroc(model_decision_tree)\n",
    "    print('Глубина =', depth, ', F1-мера =', f1, ', AUC-ROC =', aucroc)\n",
    "    if ((f1 > best_f1_DT) and (aucroc > best_aucroc_DT)):\n",
    "        best_f1_DT = f1\n",
    "        best_aucroc_DT = aucroc\n",
    "        best_depth_DT = depth\n",
    "        \n",
    "print()\n",
    "print('Лучший результат:')\n",
    "print('Глубина =', best_depth_DT, ', F1-мера =', best_f1_DT, ', AUC-ROC =', best_aucroc_DT)"
   ]
  },
  {
   "cell_type": "markdown",
   "metadata": {},
   "source": [
    "#### Random Forest (Случайный лес)"
   ]
  },
  {
   "cell_type": "code",
   "execution_count": 28,
   "metadata": {},
   "outputs": [
    {
     "name": "stdout",
     "output_type": "stream",
     "text": [
      "Количество деревьев = 10 , глубина = 1 , F1-мера = 0.0 , AUC-ROC = 0.8003043754435705\n",
      "Количество деревьев = 10 , глубина = 2 , F1-мера = 0.20192307692307693 , AUC-ROC = 0.8213684973278667\n",
      "Количество деревьев = 10 , глубина = 3 , F1-мера = 0.23584905660377362 , AUC-ROC = 0.8418588882658982\n",
      "Количество деревьев = 10 , глубина = 4 , F1-мера = 0.4921875 , AUC-ROC = 0.8527458055238368\n",
      "Количество деревьев = 10 , глубина = 5 , F1-мера = 0.5265151515151515 , AUC-ROC = 0.8672278550099937\n",
      "Количество деревьев = 10 , глубина = 6 , F1-мера = 0.5369369369369369 , AUC-ROC = 0.8613443186665599\n",
      "Количество деревьев = 10 , глубина = 7 , F1-мера = 0.5581395348837209 , AUC-ROC = 0.8678323215426658\n",
      "Количество деревьев = 10 , глубина = 8 , F1-мера = 0.5748709122203098 , AUC-ROC = 0.8692843451550472\n",
      "Количество деревьев = 10 , глубина = 9 , F1-мера = 0.5783132530120482 , AUC-ROC = 0.8754798942695828\n",
      "Количество деревьев = 10 , глубина = 10 , F1-мера = 0.554006968641115 , AUC-ROC = 0.8574241343275519\n",
      "Количество деревьев = 10 , глубина = 11 , F1-мера = 0.5884297520661157 , AUC-ROC = 0.8609400991362368\n",
      "Количество деревьев = 10 , глубина = 12 , F1-мера = 0.5878378378378378 , AUC-ROC = 0.854859109934673\n",
      "Количество деревьев = 10 , глубина = 13 , F1-мера = 0.5884297520661157 , AUC-ROC = 0.8584803208422669\n",
      "Количество деревьев = 10 , глубина = 14 , F1-мера = 0.5794701986754967 , AUC-ROC = 0.8446893563595652\n",
      "Количество деревьев = 10 , глубина = 15 , F1-мера = 0.5874799357945426 , AUC-ROC = 0.8426701214707629\n",
      "Количество деревьев = 10 , глубина = 16 , F1-мера = 0.5557404326123129 , AUC-ROC = 0.8497942578473541\n",
      "Количество деревьев = 10 , глубина = 17 , F1-мера = 0.546979865771812 , AUC-ROC = 0.8462242729171052\n",
      "Количество деревьев = 10 , глубина = 18 , F1-мера = 0.5747899159663865 , AUC-ROC = 0.8537237560004247\n",
      "Количество деревьев = 10 , глубина = 19 , F1-мера = 0.563758389261745 , AUC-ROC = 0.8402978930289826\n",
      "Количество деревьев = 10 , глубина = 20 , F1-мера = 0.5888157894736843 , AUC-ROC = 0.84857787373076\n",
      "Количество деревьев = 20 , глубина = 1 , F1-мера = 0.0 , AUC-ROC = 0.8133865586760972\n",
      "Количество деревьев = 20 , глубина = 2 , F1-мера = 0.14962593516209474 , AUC-ROC = 0.8221340928438241\n",
      "Количество деревьев = 20 , глубина = 3 , F1-мера = 0.21904761904761902 , AUC-ROC = 0.8452044102772349\n",
      "Количество деревьев = 20 , глубина = 4 , F1-мера = 0.4543610547667342 , AUC-ROC = 0.858304289756481\n",
      "Количество деревьев = 20 , глубина = 5 , F1-мера = 0.5431192660550459 , AUC-ROC = 0.8683017377714278\n",
      "Количество деревьев = 20 , глубина = 6 , F1-мера = 0.5454545454545454 , AUC-ROC = 0.8669931468956127\n",
      "Количество деревьев = 20 , глубина = 7 , F1-мера = 0.5549738219895287 , AUC-ROC = 0.8718298105383943\n",
      "Количество деревьев = 20 , глубина = 8 , F1-мера = 0.5884353741496599 , AUC-ROC = 0.8718568205991762\n",
      "Количество деревьев = 20 , глубина = 9 , F1-мера = 0.5983193277310924 , AUC-ROC = 0.8755190122886461\n",
      "Количество деревьев = 20 , глубина = 10 , F1-мера = 0.5773195876288659 , AUC-ROC = 0.8709626944491531\n",
      "Количество деревьев = 20 , глубина = 11 , F1-мера = 0.5902192242833052 , AUC-ROC = 0.8699866067353778\n",
      "Количество деревьев = 20 , глубина = 12 , F1-мера = 0.5728643216080402 , AUC-ROC = 0.864063020991474\n",
      "Количество деревьев = 20 , глубина = 13 , F1-мера = 0.5960264900662251 , AUC-ROC = 0.868475906094401\n",
      "Количество деревьев = 20 , глубина = 14 , F1-мера = 0.6009852216748769 , AUC-ROC = 0.8637482140761534\n",
      "Количество деревьев = 20 , глубина = 15 , F1-мера = 0.6089743589743591 , AUC-ROC = 0.8639624317995965\n",
      "Количество деревьев = 20 , глубина = 16 , F1-мера = 0.5809682804674458 , AUC-ROC = 0.8691297358416056\n",
      "Количество деревьев = 20 , глубина = 17 , F1-мера = 0.5855263157894737 , AUC-ROC = 0.862591438369561\n",
      "Количество деревьев = 20 , глубина = 18 , F1-мера = 0.5784313725490197 , AUC-ROC = 0.8697919480214666\n",
      "Количество деревьев = 20 , глубина = 19 , F1-мера = 0.5770491803278689 , AUC-ROC = 0.8611925034973372\n",
      "Количество деревьев = 20 , глубина = 20 , F1-мера = 0.5891980360065466 , AUC-ROC = 0.8605321540802888\n",
      "Количество деревьев = 30 , глубина = 1 , F1-мера = 0.0 , AUC-ROC = 0.8186125397467016\n",
      "Количество деревьев = 30 , глубина = 2 , F1-мера = 0.1309823677581864 , AUC-ROC = 0.829258229220415\n",
      "Количество деревьев = 30 , глубина = 3 , F1-мера = 0.23167848699763594 , AUC-ROC = 0.843091105866399\n",
      "Количество деревьев = 30 , глубина = 4 , F1-мера = 0.375 , AUC-ROC = 0.8603617112829407\n",
      "Количество деревьев = 30 , глубина = 5 , F1-мера = 0.490272373540856 , AUC-ROC = 0.8692284622706705\n",
      "Количество деревьев = 30 , глубина = 6 , F1-мера = 0.5444646098003629 , AUC-ROC = 0.870619014710238\n",
      "Количество деревьев = 30 , глубина = 7 , F1-мера = 0.5555555555555555 , AUC-ROC = 0.8739906154009504\n",
      "Количество деревьев = 30 , глубина = 8 , F1-мера = 0.584192439862543 , AUC-ROC = 0.8739626739587623\n",
      "Количество деревьев = 30 , глубина = 9 , F1-мера = 0.5918367346938775 , AUC-ROC = 0.8786931601212287\n",
      "Количество деревьев = 30 , глубина = 10 , F1-мера = 0.5719237435008666 , AUC-ROC = 0.8738816437764162\n",
      "Количество деревьев = 30 , глубина = 11 , F1-мера = 0.5866209262435678 , AUC-ROC = 0.8749396930539438\n",
      "Количество деревьев = 30 , глубина = 12 , F1-мера = 0.5810810810810811 , AUC-ROC = 0.8663542192509086\n",
      "Количество деревьев = 30 , глубина = 13 , F1-мера = 0.6013289036544851 , AUC-ROC = 0.8704103852752326\n",
      "Количество деревьев = 30 , глубина = 14 , F1-мера = 0.5983471074380166 , AUC-ROC = 0.8674672200314062\n",
      "Количество деревьев = 30 , глубина = 15 , F1-мера = 0.5964343598055106 , AUC-ROC = 0.8670276080076448\n",
      "Количество деревьев = 30 , глубина = 16 , F1-мера = 0.5890183028286189 , AUC-ROC = 0.870357296535075\n",
      "Количество деревьев = 30 , глубина = 17 , F1-мера = 0.6098360655737705 , AUC-ROC = 0.8674402099706243\n",
      "Количество деревьев = 30 , глубина = 18 , F1-мера = 0.602291325695581 , AUC-ROC = 0.8700089598891283\n",
      "Количество деревьев = 30 , глубина = 19 , F1-мера = 0.6019736842105263 , AUC-ROC = 0.866179119546529\n",
      "Количество деревьев = 30 , глубина = 20 , F1-мера = 0.6009852216748769 , AUC-ROC = 0.8664697105452865\n",
      "Количество деревьев = 40 , глубина = 1 , F1-мера = 0.0 , AUC-ROC = 0.8241002389924688\n",
      "Количество деревьев = 40 , глубина = 2 , F1-мера = 0.135678391959799 , AUC-ROC = 0.83826375603768\n",
      "Количество деревьев = 40 , глубина = 3 , F1-мера = 0.22748815165876776 , AUC-ROC = 0.8511913299567653\n",
      "Количество деревьев = 40 , глубина = 4 , F1-мера = 0.4150943396226415 , AUC-ROC = 0.8630580604541043\n",
      "Количество деревьев = 40 , глубина = 5 , F1-мера = 0.5151515151515151 , AUC-ROC = 0.8706944566041461\n",
      "Количество деревьев = 40 , глубина = 6 , F1-мера = 0.5360443622920518 , AUC-ROC = 0.8717916239007371\n",
      "Количество деревьев = 40 , глубина = 7 , F1-мера = 0.5567375886524824 , AUC-ROC = 0.8751744011683249\n",
      "Количество деревьев = 40 , глубина = 8 , F1-мера = 0.5793103448275861 , AUC-ROC = 0.8763628438427307\n",
      "Количество деревьев = 40 , глубина = 9 , F1-мера = 0.5932203389830509 , AUC-ROC = 0.8821485851385057\n",
      "Количество деревьев = 40 , глубина = 10 , F1-мера = 0.5709342560553633 , AUC-ROC = 0.8772066753968149\n",
      "Количество деревьев = 40 , глубина = 11 , F1-мера = 0.5811965811965811 , AUC-ROC = 0.8756680333136502\n",
      "Количество деревьев = 40 , глубина = 12 , F1-мера = 0.5935919055649241 , AUC-ROC = 0.869888811687719\n",
      "Количество деревьев = 40 , глубина = 13 , F1-мера = 0.5956738768718801 , AUC-ROC = 0.8735612485726578\n",
      "Количество деревьев = 40 , глубина = 14 , F1-мера = 0.5874587458745875 , AUC-ROC = 0.8699419004278766\n",
      "Количество деревьев = 40 , глубина = 15 , F1-мера = 0.6061588330632092 , AUC-ROC = 0.8684321311683063\n",
      "Количество деревьев = 40 , глубина = 16 , F1-мера = 0.5990180032733223 , AUC-ROC = 0.870544504197736\n",
      "Количество деревьев = 40 , глубина = 17 , F1-мера = 0.5866666666666667 , AUC-ROC = 0.8669177050017044\n",
      "Количество деревьев = 40 , глубина = 18 , F1-мера = 0.5915032679738562 , AUC-ROC = 0.8706488189152387\n",
      "Количество деревьев = 40 , глубина = 19 , F1-мера = 0.6052631578947368 , AUC-ROC = 0.8654871031616673\n",
      "Количество деревьев = 40 , глубина = 20 , F1-мера = 0.6078431372549019 , AUC-ROC = 0.8626510467795624\n",
      "Количество деревьев = 50 , глубина = 1 , F1-мера = 0.0 , AUC-ROC = 0.8234277816171389\n",
      "Количество деревьев = 50 , глубина = 2 , F1-мера = 0.16748768472906403 , AUC-ROC = 0.8367716830248288\n",
      "Количество деревьев = 50 , глубина = 3 , F1-мера = 0.23584905660377362 , AUC-ROC = 0.8487334144256078\n",
      "Количество деревьев = 50 , глубина = 4 , F1-мера = 0.4273858921161826 , AUC-ROC = 0.86274418492019\n",
      "Количество деревьев = 50 , глубина = 5 , F1-мера = 0.5057471264367815 , AUC-ROC = 0.8695693478653669\n",
      "Количество деревьев = 50 , глубина = 6 , F1-мера = 0.5306122448979592 , AUC-ROC = 0.8715625040747936\n",
      "Количество деревьев = 50 , глубина = 7 , F1-мера = 0.5525846702317291 , AUC-ROC = 0.8762073031478828\n",
      "Количество деревьев = 50 , глубина = 8 , F1-мера = 0.5729166666666666 , AUC-ROC = 0.8782814895396555\n",
      "Количество деревьев = 50 , глубина = 9 , F1-мера = 0.5956006768189509 , AUC-ROC = 0.8810085742972262\n",
      "Количество деревьев = 50 , глубина = 10 , F1-мера = 0.5763293310463121 , AUC-ROC = 0.8769477513658709\n",
      "Количество деревьев = 50 , глубина = 11 , F1-мера = 0.5898305084745763 , AUC-ROC = 0.8754575411158323\n",
      "Количество деревьев = 50 , глубина = 12 , F1-мера = 0.6076794657762938 , AUC-ROC = 0.8723746686610647\n",
      "Количество деревьев = 50 , глубина = 13 , F1-мера = 0.5976627712854758 , AUC-ROC = 0.8745298852351829\n",
      "Количество деревьев = 50 , глубина = 14 , F1-мера = 0.6075533661740558 , AUC-ROC = 0.872247069408405\n",
      "Количество деревьев = 50 , глубина = 15 , F1-мера = 0.6019736842105263 , AUC-ROC = 0.8700788134945988\n",
      "Количество деревьев = 50 , глубина = 16 , F1-мера = 0.5953947368421053 , AUC-ROC = 0.8710223028591546\n",
      "Количество деревьев = 50 , глубина = 17 , F1-мера = 0.5894039735099337 , AUC-ROC = 0.8657693117277684\n",
      "Количество деревьев = 50 , глубина = 18 , F1-мера = 0.5974025974025975 , AUC-ROC = 0.8729344288862355\n",
      "Количество деревьев = 50 , глубина = 19 , F1-мера = 0.6121112929623569 , AUC-ROC = 0.8656007316932328\n",
      "Количество деревьев = 50 , глубина = 20 , F1-мера = 0.6223662884927067 , AUC-ROC = 0.8642455717471038\n",
      "\n",
      "Лучший результат:\n",
      "Количество деревьев = 20 , глубина = 9 , F1-мера = 0.5983193277310924 , AUC-ROC = 0.8755190122886461\n"
     ]
    }
   ],
   "source": [
    "best_f1_RF = 0\n",
    "best_aucroc_RF = 0\n",
    "best_est_RF = 0\n",
    "best_depth_RF = 0\n",
    "\n",
    "for est in range(10, 51, 10):\n",
    "    for depth in range(1, 21):\n",
    "        model_random_forest = RandomForestClassifier(random_state=r_state, n_estimators=est, max_depth=depth)\n",
    "        model_random_forest.fit(features_train, target_train)\n",
    "        f1, aucroc = test_f1_aucroc(model_random_forest)\n",
    "        print('Количество деревьев =', est,', глубина =', depth, ', F1-мера =', f1, ', AUC-ROC =', aucroc)\n",
    "        if ((f1 > best_f1_RF) and (aucroc > best_aucroc_RF)):\n",
    "            best_f1_RF = f1\n",
    "            best_aucroc_RF = aucroc\n",
    "            best_est_RF = est\n",
    "            best_depth_RF = depth\n",
    "            \n",
    "print()\n",
    "print('Лучший результат:')\n",
    "print('Количество деревьев =', best_est_RF,', глубина =', best_depth_RF, ', F1-мера =', best_f1_RF,\n",
    "      ', AUC-ROC =', best_aucroc_RF)"
   ]
  },
  {
   "cell_type": "markdown",
   "metadata": {},
   "source": [
    "#### Logistic Regression (Логистическая регрессия)"
   ]
  },
  {
   "cell_type": "code",
   "execution_count": 29,
   "metadata": {},
   "outputs": [
    {
     "name": "stdout",
     "output_type": "stream",
     "text": [
      "Алгоритм = lbfgs , F1-мера = 0.3306772908366534 , AUC-ROC = 0.7893382907660986\n",
      "Алгоритм = liblinear , F1-мера = 0.3306772908366534 , AUC-ROC = 0.7893010355098474\n",
      "Алгоритм = newton-cg , F1-мера = 0.3306772908366534 , AUC-ROC = 0.7893401535289111\n",
      "Алгоритм = sag , F1-мера = 0.3306772908366534 , AUC-ROC = 0.7893476045801613\n",
      "Алгоритм = saga , F1-мера = 0.3306772908366534 , AUC-ROC = 0.7893382907660984\n",
      "\n",
      "Лучший результат:\n",
      "Алгоритм = lbfgs , F1-мера = 0.3306772908366534 , AUC-ROC = 0.7893382907660986\n"
     ]
    }
   ],
   "source": [
    "best_f1_LR = 0\n",
    "best_aucroc_LR = 0\n",
    "best_solver_LR = ''\n",
    "solvers = ['lbfgs', 'liblinear', 'newton-cg', 'sag', 'saga']\n",
    "\n",
    "for solver in solvers:\n",
    "    model_logistic_regression = LogisticRegression(solver=solver, random_state=r_state)\n",
    "    model_logistic_regression.fit(features_train, target_train)\n",
    "    f1, aucroc = test_f1_aucroc(model_logistic_regression)\n",
    "    print('Алгоритм =', solver, ', F1-мера =', f1, ', AUC-ROC =', aucroc)\n",
    "    if ((f1 > best_f1_LR) and (aucroc > best_aucroc_LR)):\n",
    "        best_f1_LR = f1\n",
    "        best_aucroc_LR = aucroc\n",
    "        best_solver_LR = solver\n",
    "        \n",
    "print()\n",
    "print('Лучший результат:')\n",
    "print('Алгоритм =', best_solver_LR, ', F1-мера =', best_f1_LR, ', AUC-ROC =', best_aucroc_LR)"
   ]
  },
  {
   "cell_type": "markdown",
   "metadata": {},
   "source": [
    "#### Определим лучшую модель"
   ]
  },
  {
   "cell_type": "code",
   "execution_count": 30,
   "metadata": {},
   "outputs": [
    {
     "name": "stdout",
     "output_type": "stream",
     "text": [
      "Лучшая модель: Random Forest (Случайный лес), с гиперпараметрами n_estimators = 20 max_depth = 9\n",
      "F1-мера = 0.5983193277310924 , AUC-ROC = 0.8755190122886461\n"
     ]
    }
   ],
   "source": [
    "max_f1 = best_f1_DT\n",
    "max_aucroc = best_aucroc_DT\n",
    "if (max_f1 < best_f1_RF) and (max_aucroc < best_aucroc_RF):\n",
    "    max_f1 = best_f1_RF\n",
    "    max_aucroc = best_aucroc_RF\n",
    "if (max_f1 < best_f1_LR) and (max_aucroc < best_aucroc_LR):\n",
    "    max_f1 = best_f1_LR\n",
    "    max_aucroc = best_aucroc_LR\n",
    "\n",
    "if (max_f1 == best_f1_DT) and (max_aucroc == best_aucroc_DT):\n",
    "    print('Лучшая модель: Decision Tree (Дерево решений), с гиперпараметром max_depth =', best_depth_DT)\n",
    "if (max_f1 == best_f1_RF) and (max_aucroc == best_aucroc_RF):\n",
    "    print('Лучшая модель: Random Forest (Случайный лес), с гиперпараметрами n_estimators =', best_est_RF,\n",
    "      'max_depth =', best_depth_RF)\n",
    "if (max_f1 == best_f1_LR) and (max_aucroc == best_aucroc_LR):\n",
    "    print('Лучшая модель: Logistic Regression (Логистическая регрессия), с гиперпараметром solver =', best_solver_LR)\n",
    "print('F1-мера =', max_f1, ', AUC-ROC =', max_aucroc)"
   ]
  },
  {
   "cell_type": "markdown",
   "metadata": {},
   "source": [
    "Обучив три модели с дисбалансом классов мы определили лучшую модель:\n",
    "* Random Forest (Случайный лес), с гиперпараметрами:\n",
    "    * n_estimators = 20\n",
    "    * max_depth = 9\n",
    "* F1-мера = 0.5983193277310924\n",
    "* AUC-ROC = 0.8755190122886461\n",
    "\n",
    "F1-мера нашей лучшей модели (0.598) примерно равна поставленной задаче (0.59). Улучшим качество модели, учитывая дисбаланс классов"
   ]
  },
  {
   "cell_type": "markdown",
   "metadata": {},
   "source": [
    "## Борьба с дисбалансом <a id='imbalance'></a>"
   ]
  },
  {
   "cell_type": "markdown",
   "metadata": {},
   "source": [
    "### Увеличим объекты редкого класса (техника upsampling)"
   ]
  },
  {
   "cell_type": "code",
   "execution_count": 31,
   "metadata": {},
   "outputs": [],
   "source": [
    "def upsample(features, target, repeat):\n",
    "    features_zeros = features_train[target_train == 0]\n",
    "    features_ones = features_train[target_train == 1]\n",
    "    target_zeros = target_train[target_train == 0]\n",
    "    target_ones = target_train[target_train == 1]\n",
    "    \n",
    "    features_upsampled = pd.concat([features_zeros] + [features_ones] * repeat)\n",
    "    target_upsampled = pd.concat([target_zeros] + [target_ones] * repeat)\n",
    "    features_upsampled, target_upsampled = shuffle(features_upsampled, target_upsampled, random_state=r_state)\n",
    "    \n",
    "    return features_upsampled, target_upsampled \n",
    "\n",
    "features_upsampled, target_upsampled = upsample(features_train, target_train, 4)"
   ]
  },
  {
   "cell_type": "markdown",
   "metadata": {},
   "source": [
    "Проверим баланс классов в целевом признаке"
   ]
  },
  {
   "cell_type": "code",
   "execution_count": 32,
   "metadata": {},
   "outputs": [
    {
     "name": "stdout",
     "output_type": "stream",
     "text": [
      "Соотношение оставшихся и ушедших клиентов:\n",
      "49.4% / 50.6%\n"
     ]
    }
   ],
   "source": [
    "p_exited_0 = target_upsampled[target_upsampled == 0].count()/len(target_upsampled)\n",
    "p_exited_1 = target_upsampled[target_upsampled == 1].count()/len(target_upsampled)\n",
    "print('Соотношение оставшихся и ушедших клиентов:', )\n",
    "print('{}% / {}%'.format(round(p_exited_0*100, 1), round(p_exited_1*100, 1)))"
   ]
  },
  {
   "cell_type": "markdown",
   "metadata": {},
   "source": [
    "#### Decision Tree (Дерево решений)"
   ]
  },
  {
   "cell_type": "code",
   "execution_count": 33,
   "metadata": {},
   "outputs": [
    {
     "name": "stdout",
     "output_type": "stream",
     "text": [
      "Глубина = 1 , F1-мера = 0.5092402464065708 , AUC-ROC = 0.7115642178165812\n",
      "Глубина = 2 , F1-мера = 0.5376128385155466 , AUC-ROC = 0.7696144267254307\n",
      "Глубина = 3 , F1-мера = 0.5376128385155466 , AUC-ROC = 0.8123005679563815\n",
      "Глубина = 4 , F1-мера = 0.5522682445759368 , AUC-ROC = 0.8276497335317796\n",
      "Глубина = 5 , F1-мера = 0.5711481844946025 , AUC-ROC = 0.8466415317871161\n",
      "Глубина = 6 , F1-мера = 0.5825049701789264 , AUC-ROC = 0.8347040163029001\n",
      "Глубина = 7 , F1-мера = 0.5628042843232717 , AUC-ROC = 0.8318847247861082\n",
      "Глубина = 8 , F1-мера = 0.5813449023861171 , AUC-ROC = 0.8171605161343202\n",
      "Глубина = 9 , F1-мера = 0.5548245614035088 , AUC-ROC = 0.790960757175828\n",
      "Глубина = 10 , F1-мера = 0.531284302963776 , AUC-ROC = 0.7452383125604234\n",
      "Глубина = 11 , F1-мера = 0.5378346915017462 , AUC-ROC = 0.7394795813254302\n",
      "Глубина = 12 , F1-мера = 0.5087924970691676 , AUC-ROC = 0.7139578680307057\n",
      "Глубина = 13 , F1-мера = 0.500590318772137 , AUC-ROC = 0.7174170185736081\n",
      "Глубина = 14 , F1-мера = 0.5115712545676004 , AUC-ROC = 0.7119796139237794\n",
      "Глубина = 15 , F1-мера = 0.5155666251556662 , AUC-ROC = 0.7060504398914382\n",
      "Глубина = 16 , F1-мера = 0.5114503816793893 , AUC-ROC = 0.7009827936599006\n",
      "Глубина = 17 , F1-мера = 0.523936170212766 , AUC-ROC = 0.7103459709371746\n",
      "Глубина = 18 , F1-мера = 0.49736842105263157 , AUC-ROC = 0.6897345004163274\n",
      "Глубина = 19 , F1-мера = 0.5190039318479686 , AUC-ROC = 0.7007331834430189\n",
      "Глубина = 20 , F1-мера = 0.5245033112582781 , AUC-ROC = 0.7025754558646293\n",
      "\n",
      "Лучший результат:\n",
      "Глубина = 5 , F1-мера = 0.5711481844946025 , AUC-ROC = 0.8466415317871161\n"
     ]
    }
   ],
   "source": [
    "best_f1_DT_up = 0\n",
    "best_aucroc_DT_up = 0\n",
    "best_depth_DT_up = 0\n",
    "\n",
    "\n",
    "for depth in range(1, 21):\n",
    "    model_decision_tree = DecisionTreeClassifier(random_state=r_state, max_depth=depth)\n",
    "    model_decision_tree.fit(features_upsampled, target_upsampled)\n",
    "    f1, aucroc = test_f1_aucroc(model_decision_tree)\n",
    "    print('Глубина =', depth, ', F1-мера =', f1, ', AUC-ROC =', aucroc)\n",
    "    if ((f1 > best_f1_DT_up) and (aucroc > best_aucroc_DT_up)):\n",
    "        best_f1_DT_up = f1\n",
    "        best_aucroc_DT_up = aucroc\n",
    "        best_depth_DT_up = depth\n",
    "        \n",
    "print()\n",
    "print('Лучший результат:')\n",
    "print('Глубина =', best_depth_DT_up, ', F1-мера =', best_f1_DT_up, ', AUC-ROC =', best_aucroc_DT_up)"
   ]
  },
  {
   "cell_type": "markdown",
   "metadata": {},
   "source": [
    "#### Random Forest (Случайный лес)"
   ]
  },
  {
   "cell_type": "code",
   "execution_count": 34,
   "metadata": {},
   "outputs": [
    {
     "name": "stdout",
     "output_type": "stream",
     "text": [
      "Количество деревьев = 10 , глубина = 1 , F1-мера = 0.4638157894736842 , AUC-ROC = 0.7959436476993949\n",
      "Количество деревьев = 10 , глубина = 2 , F1-мера = 0.5780104712041885 , AUC-ROC = 0.8458275044380322\n",
      "Количество деревьев = 10 , глубина = 3 , F1-мера = 0.5516569200779727 , AUC-ROC = 0.845608629807558\n",
      "Количество деревьев = 10 , глубина = 4 , F1-мера = 0.6077348066298344 , AUC-ROC = 0.861752263722508\n",
      "Количество деревьев = 10 , глубина = 5 , F1-мера = 0.6051743532058492 , AUC-ROC = 0.8704392580988269\n",
      "Количество деревьев = 10 , глубина = 6 , F1-мера = 0.6129753914988815 , AUC-ROC = 0.8712001967077531\n",
      "Количество деревьев = 10 , глубина = 7 , F1-мера = 0.6187845303867403 , AUC-ROC = 0.8743147361303337\n",
      "Количество деревьев = 10 , глубина = 8 , F1-мера = 0.6285714285714286 , AUC-ROC = 0.8716742698435465\n",
      "Количество деревьев = 10 , глубина = 9 , F1-мера = 0.6093928980526919 , AUC-ROC = 0.8669605485463932\n",
      "Количество деревьев = 10 , глубина = 10 , F1-мера = 0.6251497005988025 , AUC-ROC = 0.8643973869163264\n",
      "Количество деревьев = 10 , глубина = 11 , F1-мера = 0.6140776699029126 , AUC-ROC = 0.8554831354768766\n",
      "Количество деревьев = 10 , глубина = 12 , F1-мера = 0.5989583333333334 , AUC-ROC = 0.8578860995050639\n",
      "Количество деревьев = 10 , глубина = 13 , F1-мера = 0.6143617021276596 , AUC-ROC = 0.8432280189331212\n",
      "Количество деревьев = 10 , глубина = 14 , F1-мера = 0.606060606060606 , AUC-ROC = 0.84588059317819\n",
      "Количество деревьев = 10 , глубина = 15 , F1-мера = 0.5847457627118643 , AUC-ROC = 0.8388747422401959\n",
      "Количество деревьев = 10 , глубина = 16 , F1-мера = 0.6005665722379602 , AUC-ROC = 0.8418905552337117\n",
      "Количество деревьев = 10 , глубина = 17 , F1-мера = 0.5868613138686132 , AUC-ROC = 0.8484707648690386\n",
      "Количество деревьев = 10 , глубина = 18 , F1-мера = 0.5847076461769115 , AUC-ROC = 0.8231278768043185\n",
      "Количество деревьев = 10 , глубина = 19 , F1-мера = 0.593245227606461 , AUC-ROC = 0.8344357784578932\n",
      "Количество деревьев = 10 , глубина = 20 , F1-мера = 0.5730994152046784 , AUC-ROC = 0.8368461935373308\n",
      "Количество деревьев = 20 , глубина = 1 , F1-мера = 0.5433746425166825 , AUC-ROC = 0.8172210559257279\n",
      "Количество деревьев = 20 , глубина = 2 , F1-мера = 0.5515210991167812 , AUC-ROC = 0.8370045283763974\n",
      "Количество деревьев = 20 , глубина = 3 , F1-мера = 0.5737704918032787 , AUC-ROC = 0.854784599422171\n",
      "Количество деревьев = 20 , глубина = 4 , F1-мера = 0.6025641025641026 , AUC-ROC = 0.8648267537446189\n",
      "Количество деревьев = 20 , глубина = 5 , F1-мера = 0.6081229418221735 , AUC-ROC = 0.8766180423480497\n",
      "Количество деревьев = 20 , глубина = 6 , F1-мера = 0.6072607260726073 , AUC-ROC = 0.8770306443110293\n",
      "Количество деревьев = 20 , глубина = 7 , F1-мера = 0.6228070175438596 , AUC-ROC = 0.8769319178819641\n",
      "Количество деревьев = 20 , глубина = 8 , F1-мера = 0.6341463414634148 , AUC-ROC = 0.8743613052006476\n",
      "Количество деревьев = 20 , глубина = 9 , F1-мера = 0.617169373549884 , AUC-ROC = 0.8679636463209504\n",
      "Количество деревьев = 20 , глубина = 10 , F1-мера = 0.6223277909738717 , AUC-ROC = 0.8719881453774609\n",
      "Количество деревьев = 20 , глубина = 11 , F1-мера = 0.6287128712871287 , AUC-ROC = 0.865757203769487\n",
      "Количество деревьев = 20 , глубина = 12 , F1-мера = 0.646074646074646 , AUC-ROC = 0.8668152530470143\n",
      "Количество деревьев = 20 , глубина = 13 , F1-мера = 0.6216216216216216 , AUC-ROC = 0.8551087201515544\n",
      "Количество деревьев = 20 , глубина = 14 , F1-мера = 0.6198347107438017 , AUC-ROC = 0.8565039294981529\n",
      "Количество деревьев = 20 , глубина = 15 , F1-мера = 0.6253521126760563 , AUC-ROC = 0.8520686912414757\n",
      "Количество деревьев = 20 , глубина = 16 , F1-мера = 0.6326241134751773 , AUC-ROC = 0.8505896575683123\n",
      "Количество деревьев = 20 , глубина = 17 , F1-мера = 0.5977011494252873 , AUC-ROC = 0.8545498913077898\n",
      "Количество деревьев = 20 , глубина = 18 , F1-мера = 0.5875370919881306 , AUC-ROC = 0.8497178845720395\n",
      "Количество деревьев = 20 , глубина = 19 , F1-мера = 0.6142649199417759 , AUC-ROC = 0.8537516974426131\n",
      "Количество деревьев = 20 , глубина = 20 , F1-мера = 0.6044444444444445 , AUC-ROC = 0.8473568327071346\n",
      "Количество деревьев = 30 , глубина = 1 , F1-мера = 0.5183823529411765 , AUC-ROC = 0.8140087214554884\n",
      "Количество деревьев = 30 , глубина = 2 , F1-мера = 0.5582329317269077 , AUC-ROC = 0.8413661875019791\n",
      "Количество деревьев = 30 , глубина = 3 , F1-мера = 0.562 , AUC-ROC = 0.8576374206695888\n",
      "Количество деревьев = 30 , глубина = 4 , F1-мера = 0.5918153200419727 , AUC-ROC = 0.865608182744483\n",
      "Количество деревьев = 30 , глубина = 5 , F1-мера = 0.6019629225736095 , AUC-ROC = 0.8751911660336379\n",
      "Количество деревьев = 30 , глубина = 6 , F1-мера = 0.6116611661166116 , AUC-ROC = 0.876717700158521\n",
      "Количество деревьев = 30 , глубина = 7 , F1-мера = 0.6233480176211453 , AUC-ROC = 0.8771498611310323\n",
      "Количество деревьев = 30 , глубина = 8 , F1-мера = 0.6284403669724771 , AUC-ROC = 0.8756689646950564\n",
      "Количество деревьев = 30 , глубина = 9 , F1-мера = 0.6252873563218391 , AUC-ROC = 0.8698580761013118\n",
      "Количество деревьев = 30 , глубина = 10 , F1-мера = 0.6302021403091557 , AUC-ROC = 0.8733460994678087\n",
      "Количество деревьев = 30 , глубина = 11 , F1-мера = 0.6317103620474406 , AUC-ROC = 0.8679366362601683\n",
      "Количество деревьев = 30 , глубина = 12 , F1-мера = 0.6356589147286822 , AUC-ROC = 0.8697239571788085\n",
      "Количество деревьев = 30 , глубина = 13 , F1-мера = 0.6058981233243967 , AUC-ROC = 0.8620121191348584\n",
      "Количество деревьев = 30 , глубина = 14 , F1-мера = 0.6130374479889041 , AUC-ROC = 0.8598205786858952\n",
      "Количество деревьев = 30 , глубина = 15 , F1-мера = 0.622905027932961 , AUC-ROC = 0.8578441873417815\n",
      "Количество деревьев = 30 , глубина = 16 , F1-мера = 0.6225352112676056 , AUC-ROC = 0.8589162073404031\n",
      "Количество деревьев = 30 , глубина = 17 , F1-мера = 0.611832611832612 , AUC-ROC = 0.8595365073569817\n",
      "Количество деревьев = 30 , глубина = 18 , F1-мера = 0.6017441860465116 , AUC-ROC = 0.8580276694788177\n",
      "Количество деревьев = 30 , глубина = 19 , F1-мера = 0.6044444444444445 , AUC-ROC = 0.8554682333743762\n",
      "Количество деревьев = 30 , глубина = 20 , F1-мера = 0.6026587887740029 , AUC-ROC = 0.8518051103035\n",
      "Количество деревьев = 40 , глубина = 1 , F1-мера = 0.5352657004830917 , AUC-ROC = 0.8254553989385978\n",
      "Количество деревьев = 40 , глубина = 2 , F1-мера = 0.5537190082644627 , AUC-ROC = 0.8490444958153034\n",
      "Количество деревьев = 40 , глубина = 3 , F1-мера = 0.5679012345679012 , AUC-ROC = 0.8593073875310384\n",
      "Количество деревьев = 40 , глубина = 4 , F1-мера = 0.5995670995670996 , AUC-ROC = 0.8676432511171921\n",
      "Количество деревьев = 40 , глубина = 5 , F1-мера = 0.601750547045952 , AUC-ROC = 0.8750337625759775\n",
      "Количество деревьев = 40 , глубина = 6 , F1-мера = 0.6196868008948545 , AUC-ROC = 0.8777217293144848\n",
      "Количество деревьев = 40 , глубина = 7 , F1-мера = 0.6191536748329621 , AUC-ROC = 0.8778800641535511\n",
      "Количество деревьев = 40 , глубина = 8 , F1-мера = 0.6321839080459771 , AUC-ROC = 0.8768536818438372\n",
      "Количество деревьев = 40 , глубина = 9 , F1-мера = 0.6178861788617885 , AUC-ROC = 0.8726708479482599\n",
      "Количество деревьев = 40 , глубина = 10 , F1-мера = 0.6308243727598567 , AUC-ROC = 0.8739803702054814\n",
      "Количество деревьев = 40 , глубина = 11 , F1-мера = 0.6281407035175879 , AUC-ROC = 0.8672744240803074\n",
      "Количество деревьев = 40 , глубина = 12 , F1-мера = 0.6381322957198443 , AUC-ROC = 0.8687385556509705\n",
      "Количество деревьев = 40 , глубина = 13 , F1-мера = 0.6193029490616622 , AUC-ROC = 0.8629304612014449\n",
      "Количество деревьев = 40 , глубина = 14 , F1-мера = 0.6181818181818183 , AUC-ROC = 0.8625942325137799\n",
      "Количество деревьев = 40 , глубина = 15 , F1-мера = 0.6314325452016689 , AUC-ROC = 0.86236418130643\n",
      "Количество деревьев = 40 , глубина = 16 , F1-мера = 0.6158273381294965 , AUC-ROC = 0.8597917058623008\n",
      "Количество деревьев = 40 , глубина = 17 , F1-мера = 0.6089466089466089 , AUC-ROC = 0.863152129976138\n",
      "Количество деревьев = 40 , глубина = 18 , F1-мера = 0.593886462882096 , AUC-ROC = 0.8609363736106117\n",
      "Количество деревьев = 40 , глубина = 19 , F1-мера = 0.5922619047619048 , AUC-ROC = 0.8576001654133378\n",
      "Количество деревьев = 40 , глубина = 20 , F1-мера = 0.6099706744868035 , AUC-ROC = 0.8562738782908034\n",
      "Количество деревьев = 50 , глубина = 1 , F1-мера = 0.535645472061657 , AUC-ROC = 0.821800658300378\n",
      "Количество деревьев = 50 , глубина = 2 , F1-мера = 0.5504587155963302 , AUC-ROC = 0.8468762399014972\n",
      "Количество деревьев = 50 , глубина = 3 , F1-мера = 0.5708376421923474 , AUC-ROC = 0.8589655705549357\n",
      "Количество деревьев = 50 , глубина = 4 , F1-мера = 0.6034482758620691 , AUC-ROC = 0.8686146819239359\n",
      "Количество деревьев = 50 , глубина = 5 , F1-мера = 0.6030701754385965 , AUC-ROC = 0.873697230257974\n",
      "Количество деревьев = 50 , глубина = 6 , F1-мера = 0.6167597765363129 , AUC-ROC = 0.8766571603671134\n",
      "Количество деревьев = 50 , глубина = 7 , F1-мера = 0.6201550387596898 , AUC-ROC = 0.8766506406972694\n",
      "Количество деревьев = 50 , глубина = 8 , F1-мера = 0.6360505166475316 , AUC-ROC = 0.8767260825911777\n",
      "Количество деревьев = 50 , глубина = 9 , F1-мера = 0.6241299303944315 , AUC-ROC = 0.8734643849064053\n",
      "Количество деревьев = 50 , глубина = 10 , F1-мера = 0.6344993968636913 , AUC-ROC = 0.8748446921505039\n",
      "Количество деревьев = 50 , глубина = 11 , F1-мера = 0.6331658291457286 , AUC-ROC = 0.868179726807206\n",
      "Количество деревьев = 50 , глубина = 12 , F1-мера = 0.6300653594771242 , AUC-ROC = 0.8698729782038124\n",
      "Количество деревьев = 50 , глубина = 13 , F1-мера = 0.625503355704698 , AUC-ROC = 0.8650148927886863\n",
      "Количество деревьев = 50 , глубина = 14 , F1-мера = 0.6293706293706294 , AUC-ROC = 0.8635544867436484\n",
      "Количество деревьев = 50 , глубина = 15 , F1-мера = 0.6265734265734265 , AUC-ROC = 0.863492084189428\n",
      "Количество деревьев = 50 , глубина = 16 , F1-мера = 0.6224783861671469 , AUC-ROC = 0.8622831511240842\n",
      "Количество деревьев = 50 , глубина = 17 , F1-мера = 0.615606936416185 , AUC-ROC = 0.866787311604826\n",
      "Количество деревьев = 50 , глубина = 18 , F1-мера = 0.6055312954876273 , AUC-ROC = 0.8621117769453297\n",
      "Количество деревьев = 50 , глубина = 19 , F1-мера = 0.6119402985074627 , AUC-ROC = 0.8575684984455243\n",
      "Количество деревьев = 50 , глубина = 20 , F1-мера = 0.6128550074738415 , AUC-ROC = 0.8585678706944565\n",
      "\n",
      "Лучший результат:\n",
      "Количество деревьев = 30 , глубина = 7 , F1-мера = 0.6233480176211453 , AUC-ROC = 0.8771498611310323\n"
     ]
    }
   ],
   "source": [
    "best_f1_RF_up = 0\n",
    "best_aucroc_RF_up = 0\n",
    "best_est_RF_up = 0\n",
    "best_depth_RF_up = 0\n",
    "\n",
    "for est in range(10, 51, 10):\n",
    "    for depth in range(1, 21):\n",
    "        model_random_forest = RandomForestClassifier(random_state=r_state, n_estimators=est, max_depth=depth)\n",
    "        model_random_forest.fit(features_upsampled, target_upsampled)\n",
    "        f1, aucroc = test_f1_aucroc(model_random_forest)\n",
    "        print('Количество деревьев =', est,', глубина =', depth, ', F1-мера =', f1, ', AUC-ROC =', aucroc)\n",
    "        if ((f1 > best_f1_RF_up) and (aucroc > best_aucroc_RF_up)):\n",
    "            best_f1_RF_up = f1\n",
    "            best_aucroc_RF_up = aucroc\n",
    "            best_est_RF_up = est\n",
    "            best_depth_RF_up = depth\n",
    "            \n",
    "print()\n",
    "print('Лучший результат:')\n",
    "print('Количество деревьев =', best_est_RF_up,', глубина =', best_depth_RF_up, ', F1-мера =', best_f1_RF_up,\n",
    "      ', AUC-ROC =', best_aucroc_RF_up)"
   ]
  },
  {
   "cell_type": "markdown",
   "metadata": {},
   "source": [
    "#### Logistic Regression (Логистическая регрессия)"
   ]
  },
  {
   "cell_type": "code",
   "execution_count": 35,
   "metadata": {},
   "outputs": [
    {
     "name": "stdout",
     "output_type": "stream",
     "text": [
      "Алгоритм = lbfgs , F1-мера = 0.5050878815911193 , AUC-ROC = 0.7907446766895724\n",
      "Алгоритм = liblinear , F1-мера = 0.5050878815911193 , AUC-ROC = 0.790767029843323\n",
      "Алгоритм = newton-cg , F1-мера = 0.5050878815911193 , AUC-ROC = 0.7907372256383223\n",
      "Алгоритм = sag , F1-мера = 0.5050878815911193 , AUC-ROC = 0.7907409511639474\n",
      "Алгоритм = saga , F1-мера = 0.5050878815911193 , AUC-ROC = 0.7907390884011348\n",
      "\n",
      "Лучший результат:\n",
      "Алгоритм = lbfgs , F1-мера = 0.5050878815911193 , AUC-ROC = 0.7907446766895724\n"
     ]
    }
   ],
   "source": [
    "best_f1_LR_up = 0\n",
    "best_aucroc_LR_up = 0\n",
    "best_solver_LR_up = ''\n",
    "solvers = ['lbfgs', 'liblinear', 'newton-cg', 'sag', 'saga']\n",
    "\n",
    "for solver in solvers:\n",
    "    model_logistic_regression = LogisticRegression(solver=solver, random_state=r_state)\n",
    "    model_logistic_regression.fit(features_upsampled, target_upsampled)\n",
    "    f1, aucroc = test_f1_aucroc(model_logistic_regression)\n",
    "    print('Алгоритм =', solver, ', F1-мера =', f1, ', AUC-ROC =', aucroc)\n",
    "    if ((f1 > best_f1_LR_up) and (aucroc > best_aucroc_LR_up)):\n",
    "        best_f1_LR_up = f1\n",
    "        best_aucroc_LR_up = aucroc\n",
    "        best_solver_LR_up = solver\n",
    "        \n",
    "print()\n",
    "print('Лучший результат:')\n",
    "print('Алгоритм =', best_solver_LR_up, ', F1-мера =', best_f1_LR_up, ', AUC-ROC =', best_aucroc_LR_up)"
   ]
  },
  {
   "cell_type": "markdown",
   "metadata": {},
   "source": [
    "#### Определим лучшую модель"
   ]
  },
  {
   "cell_type": "code",
   "execution_count": 36,
   "metadata": {},
   "outputs": [
    {
     "name": "stdout",
     "output_type": "stream",
     "text": [
      "Лучшая модель: Random Forest (Случайный лес), с гиперпараметрами n_estimators = 30 max_depth = 7\n",
      "F1-мера = 0.6233480176211453 , AUC-ROC = 0.8771498611310323\n"
     ]
    }
   ],
   "source": [
    "max_f1_up = best_f1_DT_up\n",
    "max_aucroc_up = best_aucroc_DT_up\n",
    "if (max_f1_up < best_f1_RF_up) and (max_aucroc_up < best_aucroc_RF_up):\n",
    "    max_f1_up = best_f1_RF_up\n",
    "    max_aucroc_up = best_aucroc_RF_up\n",
    "if (max_f1_up < best_f1_LR_up) and (max_aucroc_up < best_aucroc_LR_up):\n",
    "    max_f1_up = best_f1_LR_up\n",
    "    max_aucroc_up = best_aucroc_LR_up\n",
    "\n",
    "if (max_f1_up == best_f1_DT_up) and (max_aucroc_up == best_aucroc_DT_up):\n",
    "    print('Лучшая модель: Decision Tree (Дерево решений), с гиперпараметром max_depth =', best_depth_DT_up)\n",
    "if (max_f1_up == best_f1_RF_up) and (max_aucroc_up == best_aucroc_RF_up):\n",
    "    print('Лучшая модель: Random Forest (Случайный лес), с гиперпараметрами n_estimators =', best_est_RF_up,\n",
    "      'max_depth =', best_depth_RF_up)\n",
    "if (max_f1_up == best_f1_LR_up) and (max_aucroc_up == best_aucroc_LR_up):\n",
    "    print('Лучшая модель: Logistic Regression (Логистическая регрессия), с гиперпараметром solver =', best_solver_LR_up)\n",
    "print('F1-мера =', max_f1_up, ', AUC-ROC =', max_aucroc_up)"
   ]
  },
  {
   "cell_type": "markdown",
   "metadata": {},
   "source": [
    "Обучив три модели с применением техники \"upsampling\" мы определили лучшую модель:\n",
    "* Random Forest (Случайный лес), с гиперпараметрами:\n",
    "    * n_estimators = 30\n",
    "    * max_depth = 7\n",
    "* F1-мера = 0.6233480176211453\n",
    "* AUC-ROC = 0.8771498611310323\n",
    "\n",
    "F1-мера нашей лучшей модели (0.623) больше поставленной задачи (0.59)"
   ]
  },
  {
   "cell_type": "markdown",
   "metadata": {},
   "source": [
    "### Уменьшим объекты частого класса (техника downsampling)"
   ]
  },
  {
   "cell_type": "code",
   "execution_count": 37,
   "metadata": {},
   "outputs": [],
   "source": [
    "def downsample(features, target, fraction):\n",
    "    features_zeros = features[target == 0]\n",
    "    features_ones = features[target == 1]\n",
    "    target_zeros = target[target == 0]\n",
    "    target_ones = target[target == 1]\n",
    "\n",
    "    features_downsampled = pd.concat(\n",
    "        [features_zeros.sample(frac=fraction, random_state=r_state)] + [features_ones])\n",
    "    target_downsampled = pd.concat(\n",
    "        [target_zeros.sample(frac=fraction, random_state=r_state)] + [target_ones])\n",
    "    features_downsampled, target_downsampled = shuffle(features_downsampled, target_downsampled,\n",
    "                                                   random_state=r_state)\n",
    "    return features_downsampled, target_downsampled\n",
    "\n",
    "features_downsampled, target_downsampled = downsample(features_train, target_train, 0.25)"
   ]
  },
  {
   "cell_type": "markdown",
   "metadata": {},
   "source": [
    "Проверим баланс классов в целевом признаке"
   ]
  },
  {
   "cell_type": "code",
   "execution_count": 38,
   "metadata": {
    "scrolled": true
   },
   "outputs": [
    {
     "name": "stdout",
     "output_type": "stream",
     "text": [
      "Соотношение оставшихся и ушедших клиентов:\n",
      "49.4% / 50.6%\n"
     ]
    }
   ],
   "source": [
    "p_exited_0 = target_downsampled[target_downsampled == 0].count()/len(target_downsampled)\n",
    "p_exited_1 = target_downsampled[target_downsampled == 1].count()/len(target_downsampled)\n",
    "print('Соотношение оставшихся и ушедших клиентов:', )\n",
    "print('{}% / {}%'.format(round(p_exited_0*100, 1), round(p_exited_1*100, 1)))"
   ]
  },
  {
   "cell_type": "markdown",
   "metadata": {},
   "source": [
    "#### Decision Tree (Дерево решений)"
   ]
  },
  {
   "cell_type": "code",
   "execution_count": 39,
   "metadata": {},
   "outputs": [
    {
     "name": "stdout",
     "output_type": "stream",
     "text": [
      "Глубина = 1 , F1-мера = 0.5092402464065708 , AUC-ROC = 0.7115642178165812\n",
      "Глубина = 2 , F1-мера = 0.5376128385155466 , AUC-ROC = 0.7696144267254307\n",
      "Глубина = 3 , F1-мера = 0.5376128385155466 , AUC-ROC = 0.8137721505782947\n",
      "Глубина = 4 , F1-мера = 0.5565388397246804 , AUC-ROC = 0.8254330457848471\n",
      "Глубина = 5 , F1-мера = 0.5667627281460134 , AUC-ROC = 0.8535765977382335\n",
      "Глубина = 6 , F1-мера = 0.5688442211055276 , AUC-ROC = 0.8456375026311528\n",
      "Глубина = 7 , F1-мера = 0.5686274509803922 , AUC-ROC = 0.8348921553469675\n",
      "Глубина = 8 , F1-мера = 0.5505735140771637 , AUC-ROC = 0.8049864297729106\n",
      "Глубина = 9 , F1-мера = 0.5240532241555783 , AUC-ROC = 0.7687379968221266\n",
      "Глубина = 10 , F1-мера = 0.5390625 , AUC-ROC = 0.7506328736655634\n",
      "Глубина = 11 , F1-мера = 0.5138339920948616 , AUC-ROC = 0.7414401391856373\n",
      "Глубина = 12 , F1-мера = 0.5204957102001907 , AUC-ROC = 0.7319456371300785\n",
      "Глубина = 13 , F1-мера = 0.5153256704980843 , AUC-ROC = 0.7298323327192424\n",
      "Глубина = 14 , F1-мера = 0.5041705282669139 , AUC-ROC = 0.7206889614538491\n",
      "Глубина = 15 , F1-мера = 0.5061147695202258 , AUC-ROC = 0.7164511760553016\n",
      "Глубина = 16 , F1-мера = 0.49682683590208526 , AUC-ROC = 0.7109541629954715\n",
      "Глубина = 17 , F1-мера = 0.5018315018315018 , AUC-ROC = 0.714563265944784\n",
      "Глубина = 18 , F1-мера = 0.5096596136154553 , AUC-ROC = 0.7215346557707462\n",
      "Глубина = 19 , F1-мера = 0.5004582951420715 , AUC-ROC = 0.7134670300295993\n",
      "Глубина = 20 , F1-мера = 0.5004582951420715 , AUC-ROC = 0.7134670300295993\n",
      "\n",
      "Лучший результат:\n",
      "Глубина = 5 , F1-мера = 0.5667627281460134 , AUC-ROC = 0.8535765977382335\n"
     ]
    }
   ],
   "source": [
    "best_f1_DT_down = 0\n",
    "best_aucroc_DT_down = 0\n",
    "best_depth_DT_down = 0\n",
    "\n",
    "\n",
    "for depth in range(1, 21):\n",
    "    model_decision_tree = DecisionTreeClassifier(random_state=r_state, max_depth=depth)\n",
    "    model_decision_tree.fit(features_downsampled, target_downsampled)\n",
    "    f1, aucroc = test_f1_aucroc(model_decision_tree)\n",
    "    print('Глубина =', depth, ', F1-мера =', f1, ', AUC-ROC =', aucroc)\n",
    "    if ((f1 > best_f1_DT_down) and (aucroc > best_aucroc_DT_down)):\n",
    "        best_f1_DT_down = f1\n",
    "        best_aucroc_DT_down = aucroc\n",
    "        best_depth_DT_down = depth\n",
    "        \n",
    "print()\n",
    "print('Лучший результат:')\n",
    "print('Глубина =', best_depth_DT_down, ', F1-мера =', best_f1_DT_down, ', AUC-ROC =', best_aucroc_DT_down)"
   ]
  },
  {
   "cell_type": "markdown",
   "metadata": {},
   "source": [
    "#### Random Forest (Случайный лес)"
   ]
  },
  {
   "cell_type": "code",
   "execution_count": 40,
   "metadata": {},
   "outputs": [
    {
     "name": "stdout",
     "output_type": "stream",
     "text": [
      "Количество деревьев = 10 , глубина = 1 , F1-мера = 0.544256120527307 , AUC-ROC = 0.8412963338965086\n",
      "Количество деревьев = 10 , глубина = 2 , F1-мера = 0.55435847208619 , AUC-ROC = 0.8380746856122061\n",
      "Количество деревьев = 10 , глубина = 3 , F1-мера = 0.5577841451766954 , AUC-ROC = 0.8497253356232898\n",
      "Количество деревьев = 10 , глубина = 4 , F1-мера = 0.596153846153846 , AUC-ROC = 0.8595914588599519\n",
      "Количество деревьев = 10 , глубина = 5 , F1-мера = 0.5953389830508474 , AUC-ROC = 0.8621508949643932\n",
      "Количество деревьев = 10 , глубина = 6 , F1-мера = 0.5822267620020428 , AUC-ROC = 0.8650642560032188\n",
      "Количество деревьев = 10 , глубина = 7 , F1-мера = 0.593654042988741 , AUC-ROC = 0.8607258814127938\n",
      "Количество деревьев = 10 , глубина = 8 , F1-мера = 0.5932028836251287 , AUC-ROC = 0.8648314106516504\n",
      "Количество деревьев = 10 , глубина = 9 , F1-мера = 0.6038894575230297 , AUC-ROC = 0.862370700976274\n",
      "Количество деревьев = 10 , глубина = 10 , F1-мера = 0.5877551020408163 , AUC-ROC = 0.8623781520275242\n",
      "Количество деревьев = 10 , глубина = 11 , F1-мера = 0.5913757700205338 , AUC-ROC = 0.8567777556315976\n",
      "Количество деревьев = 10 , глубина = 12 , F1-мера = 0.5966303270564917 , AUC-ROC = 0.8626687430262817\n",
      "Количество деревьев = 10 , глубина = 13 , F1-мера = 0.5926680244399186 , AUC-ROC = 0.8602108274951242\n",
      "Количество деревьев = 10 , глубина = 14 , F1-мера = 0.5784615384615385 , AUC-ROC = 0.8487455223838893\n",
      "Количество деревьев = 10 , глубина = 15 , F1-мера = 0.5972660357518402 , AUC-ROC = 0.8540692985021524\n",
      "Количество деревьев = 10 , глубина = 16 , F1-мера = 0.5972369819341126 , AUC-ROC = 0.8490659175876476\n",
      "Количество деревьев = 10 , глубина = 17 , F1-мера = 0.5912486659551761 , AUC-ROC = 0.8420572725054346\n",
      "Количество деревьев = 10 , глубина = 18 , F1-мера = 0.583864118895966 , AUC-ROC = 0.8493388123396859\n",
      "Количество деревьев = 10 , глубина = 19 , F1-мера = 0.5851063829787234 , AUC-ROC = 0.8461646645071036\n",
      "Количество деревьев = 10 , глубина = 20 , F1-мера = 0.5786694825765575 , AUC-ROC = 0.8492512624874962\n",
      "Количество деревьев = 20 , глубина = 1 , F1-мера = 0.5332120109190173 , AUC-ROC = 0.8300489720343418\n",
      "Количество деревьев = 20 , глубина = 2 , F1-мера = 0.5434173669467787 , AUC-ROC = 0.8332817968955195\n",
      "Количество деревьев = 20 , глубина = 3 , F1-мера = 0.5620155038759691 , AUC-ROC = 0.8504136264825264\n",
      "Количество деревьев = 20 , глубина = 4 , F1-мера = 0.5913757700205338 , AUC-ROC = 0.8614747120634381\n",
      "Количество деревьев = 20 , глубина = 5 , F1-мера = 0.5918153200419727 , AUC-ROC = 0.8714200027196337\n",
      "Количество деревьев = 20 , глубина = 6 , F1-мера = 0.5922836287799792 , AUC-ROC = 0.8715429450652621\n",
      "Количество деревьев = 20 , глубина = 7 , F1-мера = 0.6018808777429467 , AUC-ROC = 0.8734196785989043\n",
      "Количество деревьев = 20 , глубина = 8 , F1-мера = 0.608421052631579 , AUC-ROC = 0.8713725022679136\n",
      "Количество деревьев = 20 , глубина = 9 , F1-мера = 0.5960945529290853 , AUC-ROC = 0.8697705262491224\n",
      "Количество деревьев = 20 , глубина = 10 , F1-мера = 0.6051813471502591 , AUC-ROC = 0.8715820630843253\n",
      "Количество деревьев = 20 , глубина = 11 , F1-мера = 0.6102403343782654 , AUC-ROC = 0.8681555108906428\n",
      "Количество деревьев = 20 , глубина = 12 , F1-мера = 0.6072874493927125 , AUC-ROC = 0.8689881658678519\n",
      "Количество деревьев = 20 , глубина = 13 , F1-мера = 0.5973763874873865 , AUC-ROC = 0.8699269983253763\n",
      "Количество деревьев = 20 , глубина = 14 , F1-мера = 0.5885947046843176 , AUC-ROC = 0.8619655500645447\n",
      "Количество деревьев = 20 , глубина = 15 , F1-мера = 0.6000000000000001 , AUC-ROC = 0.8640220402095982\n",
      "Количество деревьев = 20 , глубина = 16 , F1-мера = 0.5915201654601862 , AUC-ROC = 0.8624051620883062\n",
      "Количество деревьев = 20 , глубина = 17 , F1-мера = 0.6006389776357828 , AUC-ROC = 0.8622216799512701\n",
      "Количество деревьев = 20 , глубина = 18 , F1-мера = 0.606372045220966 , AUC-ROC = 0.866356082013721\n",
      "Количество деревьев = 20 , глубина = 19 , F1-мера = 0.5964912280701754 , AUC-ROC = 0.8616730963029746\n",
      "Количество деревьев = 20 , глубина = 20 , F1-мера = 0.6031413612565445 , AUC-ROC = 0.8669456464438927\n",
      "Количество деревьев = 30 , глубина = 1 , F1-мера = 0.518918918918919 , AUC-ROC = 0.8210304058773893\n",
      "Количество деревьев = 30 , глубина = 2 , F1-мера = 0.5503731343283582 , AUC-ROC = 0.8399700467739741\n",
      "Количество деревьев = 30 , глубина = 3 , F1-мера = 0.5515911282545805 , AUC-ROC = 0.8515731963333377\n",
      "Количество деревьев = 30 , глубина = 4 , F1-мера = 0.5879959308240081 , AUC-ROC = 0.863189385232389\n",
      "Количество деревьев = 30 , глубина = 5 , F1-мера = 0.5869120654396728 , AUC-ROC = 0.8684488960336191\n",
      "Количество деревьев = 30 , глубина = 6 , F1-мера = 0.5931321540062434 , AUC-ROC = 0.8709300960999335\n",
      "Количество деревьев = 30 , глубина = 7 , F1-мера = 0.6121593291404612 , AUC-ROC = 0.8773426570821311\n",
      "Количество деревьев = 30 , глубина = 8 , F1-мера = 0.5970772442588727 , AUC-ROC = 0.8728804087646715\n",
      "Количество деревьев = 30 , глубина = 9 , F1-мера = 0.6088794926004228 , AUC-ROC = 0.8729279092163916\n",
      "Количество деревьев = 30 , глубина = 10 , F1-мера = 0.5968253968253968 , AUC-ROC = 0.8738006135940705\n",
      "Количество деревьев = 30 , глубина = 11 , F1-мера = 0.60625 , AUC-ROC = 0.8681946289097064\n",
      "Количество деревьев = 30 , глубина = 12 , F1-мера = 0.6139630390143737 , AUC-ROC = 0.8745298852351832\n",
      "Количество деревьев = 30 , глубина = 13 , F1-мера = 0.5873983739837398 , AUC-ROC = 0.8706273971428944\n",
      "Количество деревьев = 30 , глубина = 14 , F1-мера = 0.5835866261398177 , AUC-ROC = 0.8625392810108097\n",
      "Количество деревьев = 30 , глубина = 15 , F1-мера = 0.6078028747433265 , AUC-ROC = 0.8666569182079478\n",
      "Количество деревьев = 30 , глубина = 16 , F1-мера = 0.5872855701311805 , AUC-ROC = 0.8630971784731678\n",
      "Количество деревьев = 30 , глубина = 17 , F1-мера = 0.6114649681528662 , AUC-ROC = 0.8655318094691685\n",
      "Количество деревьев = 30 , глубина = 18 , F1-мера = 0.5960539979231568 , AUC-ROC = 0.8663458368182521\n",
      "Количество деревьев = 30 , глубина = 19 , F1-мера = 0.5983606557377049 , AUC-ROC = 0.862068002019235\n",
      "Количество деревьев = 30 , глубина = 20 , F1-мера = 0.6081504702194358 , AUC-ROC = 0.8647736650044614\n",
      "Количество деревьев = 40 , глубина = 1 , F1-мера = 0.5445829338446788 , AUC-ROC = 0.8328300769134765\n",
      "Количество деревьев = 40 , глубина = 2 , F1-мера = 0.5552297165200392 , AUC-ROC = 0.8474434511779181\n",
      "Количество деревьев = 40 , глубина = 3 , F1-мера = 0.5574425574425576 , AUC-ROC = 0.8541037596141847\n",
      "Количество деревьев = 40 , глубина = 4 , F1-мера = 0.5972660357518402 , AUC-ROC = 0.8649403822761843\n",
      "Количество деревьев = 40 , глубина = 5 , F1-мера = 0.5973223480947477 , AUC-ROC = 0.8668096647585765\n",
      "Количество деревьев = 40 , глубина = 6 , F1-мера = 0.593521421107628 , AUC-ROC = 0.8723653548470021\n",
      "Количество деревьев = 40 , глубина = 7 , F1-мера = 0.6071428571428572 , AUC-ROC = 0.8773855006268196\n",
      "Количество деревьев = 40 , глубина = 8 , F1-мера = 0.6077003121748179 , AUC-ROC = 0.8744199822292428\n",
      "Количество деревьев = 40 , глубина = 9 , F1-мера = 0.6106382978723405 , AUC-ROC = 0.8750644981623845\n",
      "Количество деревьев = 40 , глубина = 10 , F1-мера = 0.6061899679829242 , AUC-ROC = 0.8759269573445942\n",
      "Количество деревьев = 40 , глубина = 11 , F1-мера = 0.6047966631908238 , AUC-ROC = 0.8701002352669432\n",
      "Количество деревьев = 40 , глубина = 12 , F1-мера = 0.6074380165289257 , AUC-ROC = 0.8737652211006319\n",
      "Количество деревьев = 40 , глубина = 13 , F1-мера = 0.5895598771750256 , AUC-ROC = 0.8712160301916598\n",
      "Количество деревьев = 40 , глубина = 14 , F1-мера = 0.5967078189300411 , AUC-ROC = 0.8654917600686987\n",
      "Количество деревьев = 40 , глубина = 15 , F1-мера = 0.6078028747433265 , AUC-ROC = 0.8701160687508499\n",
      "Количество деревьев = 40 , глубина = 16 , F1-мера = 0.5969230769230769 , AUC-ROC = 0.8664827498849745\n",
      "Количество деревьев = 40 , глубина = 17 , F1-мера = 0.6140904311251315 , AUC-ROC = 0.8702920998366357\n",
      "Количество деревьев = 40 , глубина = 18 , F1-мера = 0.6020833333333334 , AUC-ROC = 0.87006856829913\n",
      "Количество деревьев = 40 , глубина = 19 , F1-мера = 0.6061224489795918 , AUC-ROC = 0.8686174760681546\n",
      "Количество деревьев = 40 , глубина = 20 , F1-мера = 0.6041237113402061 , AUC-ROC = 0.8697789086817784\n",
      "Количество деревьев = 50 , глубина = 1 , F1-мера = 0.5468451242829828 , AUC-ROC = 0.8312709444393737\n",
      "Количество деревьев = 50 , глубина = 2 , F1-мера = 0.5474095796676443 , AUC-ROC = 0.846485059710862\n",
      "Количество деревьев = 50 , глубина = 3 , F1-мера = 0.5546719681908548 , AUC-ROC = 0.8542052801874684\n",
      "Количество деревьев = 50 , глубина = 4 , F1-мера = 0.5882352941176471 , AUC-ROC = 0.8649310684621216\n",
      "Количество деревьев = 50 , глубина = 5 , F1-мера = 0.5889698231009366 , AUC-ROC = 0.8672874634199953\n",
      "Количество деревьев = 50 , глубина = 6 , F1-мера = 0.5951629863301787 , AUC-ROC = 0.8741033125511095\n",
      "Количество деревьев = 50 , глубина = 7 , F1-мера = 0.6079664570230607 , AUC-ROC = 0.8780132516946487\n",
      "Количество деревьев = 50 , глубина = 8 , F1-мера = 0.6048472075869337 , AUC-ROC = 0.8751501852517617\n",
      "Количество деревьев = 50 , глубина = 9 , F1-мера = 0.6096256684491977 , AUC-ROC = 0.8771414786983758\n",
      "Количество деревьев = 50 , глубина = 10 , F1-мера = 0.6042553191489363 , AUC-ROC = 0.8763479417402302\n",
      "Количество деревьев = 50 , глубина = 11 , F1-мера = 0.6002055498458376 , AUC-ROC = 0.8708900466994637\n",
      "Количество деревьев = 50 , глубина = 12 , F1-мера = 0.6008230452674898 , AUC-ROC = 0.8739794388240752\n",
      "Количество деревьев = 50 , глубина = 13 , F1-мера = 0.6008230452674898 , AUC-ROC = 0.8737223775559434\n",
      "Количество деревьев = 50 , глубина = 14 , F1-мера = 0.6029106029106029 , AUC-ROC = 0.8682728649478333\n",
      "Количество деревьев = 50 , глубина = 15 , F1-мера = 0.6084275436793423 , AUC-ROC = 0.8731961470613986\n",
      "Количество деревьев = 50 , глубина = 16 , F1-мера = 0.5967078189300411 , AUC-ROC = 0.868744143939408\n",
      "Количество деревьев = 50 , глубина = 17 , F1-мера = 0.6058091286307055 , AUC-ROC = 0.8742020389801746\n",
      "Количество деревьев = 50 , глубина = 18 , F1-мера = 0.597107438016529 , AUC-ROC = 0.8715019642833858\n",
      "Количество деревьев = 50 , глубина = 19 , F1-мера = 0.6026557711950971 , AUC-ROC = 0.8719797629448045\n",
      "Количество деревьев = 50 , глубина = 20 , F1-мера = 0.607621009268795 , AUC-ROC = 0.8729614389470175\n",
      "\n",
      "Лучший результат:\n",
      "Количество деревьев = 30 , глубина = 7 , F1-мера = 0.6121593291404612 , AUC-ROC = 0.8773426570821311\n"
     ]
    }
   ],
   "source": [
    "best_f1_RF_down = 0\n",
    "best_aucroc_RF_down = 0\n",
    "best_est_RF_down = 0\n",
    "best_depth_RF_down = 0\n",
    "\n",
    "for est in range(10, 51, 10):\n",
    "    for depth in range(1, 21):\n",
    "        model_random_forest = RandomForestClassifier(random_state=r_state, n_estimators=est, max_depth=depth)\n",
    "        model_random_forest.fit(features_downsampled, target_downsampled)\n",
    "        f1, aucroc = test_f1_aucroc(model_random_forest)\n",
    "        print('Количество деревьев =', est,', глубина =', depth, ', F1-мера =', f1, ', AUC-ROC =', aucroc)\n",
    "        if ((f1 > best_f1_RF_down) and (aucroc > best_aucroc_RF_down)):\n",
    "            best_f1_RF_down = f1\n",
    "            best_aucroc_RF_down = aucroc\n",
    "            best_est_RF_down = est\n",
    "            best_depth_RF_down = depth\n",
    "            \n",
    "print()\n",
    "print('Лучший результат:')\n",
    "print('Количество деревьев =', best_est_RF_down,', глубина =', best_depth_RF_down, ', F1-мера =', best_f1_RF_down,\n",
    "      ', AUC-ROC =', best_aucroc_RF_down)"
   ]
  },
  {
   "cell_type": "markdown",
   "metadata": {},
   "source": [
    "#### Logistic Regression (Логистическая регрессия)"
   ]
  },
  {
   "cell_type": "code",
   "execution_count": 41,
   "metadata": {},
   "outputs": [
    {
     "name": "stdout",
     "output_type": "stream",
     "text": [
      "Алгоритм = lbfgs , F1-мера = 0.5078196872125115 , AUC-ROC = 0.7911339941173949\n",
      "Алгоритм = liblinear , F1-мера = 0.5096596136154553 , AUC-ROC = 0.7911153664892695\n",
      "Алгоритм = newton-cg , F1-мера = 0.5078196872125115 , AUC-ROC = 0.7911414451686454\n",
      "Алгоритм = sag , F1-мера = 0.5078196872125115 , AUC-ROC = 0.7911395824058327\n",
      "Алгоритм = saga , F1-мера = 0.5078196872125115 , AUC-ROC = 0.7911451706942704\n",
      "\n",
      "Лучший результат:\n",
      "Алгоритм = lbfgs , F1-мера = 0.5078196872125115 , AUC-ROC = 0.7911339941173949\n"
     ]
    }
   ],
   "source": [
    "best_f1_LR_down = 0\n",
    "best_aucroc_LR_down = 0\n",
    "best_solver_LR_down = ''\n",
    "solvers = ['lbfgs', 'liblinear', 'newton-cg', 'sag', 'saga']\n",
    "\n",
    "for solver in solvers:\n",
    "    model_logistic_regression = LogisticRegression(solver=solver, random_state=r_state)\n",
    "    model_logistic_regression.fit(features_downsampled, target_downsampled)\n",
    "    f1, aucroc = test_f1_aucroc(model_logistic_regression)\n",
    "    print('Алгоритм =', solver, ', F1-мера =', f1, ', AUC-ROC =', aucroc)\n",
    "    if ((f1 > best_f1_LR_down) and (aucroc > best_aucroc_LR_down)):\n",
    "        best_f1_LR_down = f1\n",
    "        best_aucroc_LR_down = aucroc\n",
    "        best_solver_LR_down = solver\n",
    "        \n",
    "print()\n",
    "print('Лучший результат:')\n",
    "print('Алгоритм =', best_solver_LR_down, ', F1-мера =', best_f1_LR_down, ', AUC-ROC =', best_aucroc_LR_down)"
   ]
  },
  {
   "cell_type": "markdown",
   "metadata": {},
   "source": [
    "#### Определим лучшую модель"
   ]
  },
  {
   "cell_type": "code",
   "execution_count": 42,
   "metadata": {},
   "outputs": [
    {
     "name": "stdout",
     "output_type": "stream",
     "text": [
      "Лучшая модель: Random Forest (Случайный лес), с гиперпараметрами n_estimators = 30 max_depth = 7\n",
      "F1-мера = 0.6121593291404612 , AUC-ROC = 0.8773426570821311\n"
     ]
    }
   ],
   "source": [
    "max_f1_down = best_f1_DT_down\n",
    "max_aucroc_down = best_aucroc_DT_down\n",
    "if (max_f1_down < best_f1_RF_down) and (max_aucroc_down < best_aucroc_RF_down):\n",
    "    max_f1_down = best_f1_RF_down\n",
    "    max_aucroc_down = best_aucroc_RF_down\n",
    "if (max_f1_down < best_f1_LR_down) and (max_aucroc_down < best_aucroc_LR_down):\n",
    "    max_f1_down = best_f1_LR_down\n",
    "    max_aucroc_down = best_aucroc_LR_down\n",
    "\n",
    "if (max_f1_down == best_f1_DT_down) and (max_aucroc_down == best_aucroc_DT_down):\n",
    "    print('Лучшая модель: Decision Tree (Дерево решений), с гиперпараметром max_depth =', best_depth_DT_down)\n",
    "if (max_f1_down == best_f1_RF_down) and (max_aucroc_down == best_aucroc_RF_down):\n",
    "    print('Лучшая модель: Random Forest (Случайный лес), с гиперпараметрами n_estimators =', best_est_RF_down,\n",
    "      'max_depth =', best_depth_RF_down)\n",
    "if (max_f1_down == best_f1_LR_down) and (max_aucroc_down == best_aucroc_LR_down):\n",
    "    print('Лучшая модель: Logistic Regression (Логистическая регрессия), с гиперпараметром solver =', best_solver_LR_down)\n",
    "print('F1-мера =', max_f1_down, ', AUC-ROC =', max_aucroc_down)"
   ]
  },
  {
   "cell_type": "markdown",
   "metadata": {},
   "source": [
    "Обучив три модели с применением техники \"downsampling\" мы определили лучшую модель:\n",
    "* Random Forest (Случайный лес), с гиперпараметрами:\n",
    "    * n_estimators = 30\n",
    "    * max_depth = 7\n",
    "* F1-мера = 0.6121593291404612\n",
    "* AUC-ROC = 0.8773426570821311\n",
    "\n",
    "F1-мера нашей лучшей модели (0.612) больше поставленной задачи (0.59)"
   ]
  },
  {
   "cell_type": "markdown",
   "metadata": {},
   "source": [
    "### Аргумент class_weight = 'balanced'"
   ]
  },
  {
   "cell_type": "markdown",
   "metadata": {},
   "source": [
    "#### Decision Tree (Дерево решений)"
   ]
  },
  {
   "cell_type": "code",
   "execution_count": 43,
   "metadata": {},
   "outputs": [
    {
     "name": "stdout",
     "output_type": "stream",
     "text": [
      "Глубина = 1 , F1-мера = 0.5092402464065708 , AUC-ROC = 0.7115642178165812\n",
      "Глубина = 2 , F1-мера = 0.5376128385155466 , AUC-ROC = 0.7696144267254307\n",
      "Глубина = 3 , F1-мера = 0.5376128385155466 , AUC-ROC = 0.8123005679563815\n",
      "Глубина = 4 , F1-мера = 0.5522682445759368 , AUC-ROC = 0.8276497335317796\n",
      "Глубина = 5 , F1-мера = 0.5711481844946025 , AUC-ROC = 0.8466415317871161\n",
      "Глубина = 6 , F1-мера = 0.583084577114428 , AUC-ROC = 0.8353643657199484\n",
      "Глубина = 7 , F1-мера = 0.5622568093385214 , AUC-ROC = 0.8312374147087478\n",
      "Глубина = 8 , F1-мера = 0.5813449023861171 , AUC-ROC = 0.815457950923651\n",
      "Глубина = 9 , F1-мера = 0.5514950166112956 , AUC-ROC = 0.786207917859611\n",
      "Глубина = 10 , F1-мера = 0.5290889132821075 , AUC-ROC = 0.7434500602603771\n",
      "Глубина = 11 , F1-мера = 0.5345838218053927 , AUC-ROC = 0.735072284510941\n",
      "Глубина = 12 , F1-мера = 0.5152941176470588 , AUC-ROC = 0.7174244696248582\n",
      "Глубина = 13 , F1-мера = 0.49526066350710907 , AUC-ROC = 0.715544941946997\n",
      "Глубина = 14 , F1-мера = 0.5173267326732675 , AUC-ROC = 0.7135089421928815\n",
      "Глубина = 15 , F1-мера = 0.5063291139240506 , AUC-ROC = 0.699595035364552\n",
      "Глубина = 16 , F1-мера = 0.503209242618742 , AUC-ROC = 0.6947239106097381\n",
      "Глубина = 17 , F1-мера = 0.5076923076923077 , AUC-ROC = 0.7025968776369736\n",
      "Глубина = 18 , F1-мера = 0.5151915455746366 , AUC-ROC = 0.7010954908100597\n",
      "Глубина = 19 , F1-мера = 0.5292553191489361 , AUC-ROC = 0.7056946521942414\n",
      "Глубина = 20 , F1-мера = 0.5161290322580645 , AUC-ROC = 0.6962169150039956\n",
      "\n",
      "Лучший результат:\n",
      "Глубина = 5 , F1-мера = 0.5711481844946025 , AUC-ROC = 0.8466415317871161\n"
     ]
    }
   ],
   "source": [
    "best_f1_DT_bal = 0\n",
    "best_aucroc_DT_bal = 0\n",
    "best_depth_DT_bal = 0\n",
    "\n",
    "\n",
    "for depth in range(1, 21):\n",
    "    model_decision_tree = DecisionTreeClassifier(random_state=r_state, max_depth=depth, class_weight='balanced')\n",
    "    model_decision_tree.fit(features_train, target_train)\n",
    "    f1, aucroc = test_f1_aucroc(model_decision_tree)\n",
    "    print('Глубина =', depth, ', F1-мера =', f1, ', AUC-ROC =', aucroc)\n",
    "    if ((f1 > best_f1_DT_bal) and (aucroc > best_aucroc_DT_bal)):\n",
    "        best_f1_DT_bal = f1\n",
    "        best_aucroc_DT_bal = aucroc\n",
    "        best_depth_DT_bal = depth\n",
    "        \n",
    "print()\n",
    "print('Лучший результат:')\n",
    "print('Глубина =', best_depth_DT_bal, ', F1-мера =', best_f1_DT_bal, ', AUC-ROC =', best_aucroc_DT_bal)"
   ]
  },
  {
   "cell_type": "markdown",
   "metadata": {},
   "source": [
    "#### Random Forest (Случайный лес)"
   ]
  },
  {
   "cell_type": "code",
   "execution_count": 44,
   "metadata": {},
   "outputs": [
    {
     "name": "stdout",
     "output_type": "stream",
     "text": [
      "Количество деревьев = 10 , глубина = 1 , F1-мера = 0.5471923536439666 , AUC-ROC = 0.8064831596927933\n",
      "Количество деревьев = 10 , глубина = 2 , F1-мера = 0.5647840531561461 , AUC-ROC = 0.8441249392273633\n",
      "Количество деревьев = 10 , глубина = 3 , F1-мера = 0.5668016194331983 , AUC-ROC = 0.854865629604517\n",
      "Количество деревьев = 10 , глубина = 4 , F1-мера = 0.6022988505747127 , AUC-ROC = 0.860454849423568\n",
      "Количество деревьев = 10 , глубина = 5 , F1-мера = 0.6 , AUC-ROC = 0.8662228944726239\n",
      "Количество деревьев = 10 , глубина = 6 , F1-мера = 0.6132075471698113 , AUC-ROC = 0.8655727902510445\n",
      "Количество деревьев = 10 , глубина = 7 , F1-мера = 0.6210153482880756 , AUC-ROC = 0.8615976544090664\n",
      "Количество деревьев = 10 , глубина = 8 , F1-мера = 0.6219512195121951 , AUC-ROC = 0.8639978242930351\n",
      "Количество деревьев = 10 , глубина = 9 , F1-мера = 0.621454993834772 , AUC-ROC = 0.8615156928453144\n",
      "Количество деревьев = 10 , глубина = 10 , F1-мера = 0.6131578947368421 , AUC-ROC = 0.8546961181885749\n",
      "Количество деревьев = 10 , глубина = 11 , F1-мера = 0.5983379501385042 , AUC-ROC = 0.8509379942142588\n",
      "Количество деревьев = 10 , глубина = 12 , F1-мера = 0.6107091172214183 , AUC-ROC = 0.849678766552976\n",
      "Количество деревьев = 10 , глубина = 13 , F1-мера = 0.5869894099848714 , AUC-ROC = 0.8532599280601002\n",
      "Количество деревьев = 10 , глубина = 14 , F1-мера = 0.5810593900481541 , AUC-ROC = 0.8340259706391326\n",
      "Количество деревьев = 10 , глубина = 15 , F1-мера = 0.5736925515055468 , AUC-ROC = 0.8292181798199453\n",
      "Количество деревьев = 10 , глубина = 16 , F1-мера = 0.5805369127516777 , AUC-ROC = 0.8419082514804306\n",
      "Количество деревьев = 10 , глубина = 17 , F1-мера = 0.541455160744501 , AUC-ROC = 0.8343966604388297\n",
      "Количество деревьев = 10 , глубина = 18 , F1-мера = 0.54421768707483 , AUC-ROC = 0.8258111866357944\n",
      "Количество деревьев = 10 , глубина = 19 , F1-мера = 0.5616438356164384 , AUC-ROC = 0.8370334011999918\n",
      "Количество деревьев = 10 , глубина = 20 , F1-мера = 0.5617597292724197 , AUC-ROC = 0.8377021330496967\n",
      "Количество деревьев = 20 , глубина = 1 , F1-мера = 0.5604838709677419 , AUC-ROC = 0.8310408932320239\n",
      "Количество деревьев = 20 , глубина = 2 , F1-мера = 0.5511961722488039 , AUC-ROC = 0.8363898166482564\n",
      "Количество деревьев = 20 , глубина = 3 , F1-мера = 0.5656970912738215 , AUC-ROC = 0.8575778122595872\n",
      "Количество деревьев = 20 , глубина = 4 , F1-мера = 0.5961123110151189 , AUC-ROC = 0.862418201427994\n",
      "Количество деревьев = 20 , глубина = 5 , F1-мера = 0.6064814814814814 , AUC-ROC = 0.8707102900880528\n",
      "Количество деревьев = 20 , глубина = 6 , F1-мера = 0.6095017381228274 , AUC-ROC = 0.8674932987107817\n",
      "Количество деревьев = 20 , глубина = 7 , F1-мера = 0.6153846153846154 , AUC-ROC = 0.8682775218548647\n",
      "Количество деревьев = 20 , глубина = 8 , F1-мера = 0.6324786324786325 , AUC-ROC = 0.8693905226353623\n",
      "Количество деревьев = 20 , глубина = 9 , F1-мера = 0.6362484157160964 , AUC-ROC = 0.8666336336727909\n",
      "Количество деревьев = 20 , глубина = 10 , F1-мера = 0.6236842105263157 , AUC-ROC = 0.8629323239642575\n",
      "Количество деревьев = 20 , глубина = 11 , F1-мера = 0.6255259467040674 , AUC-ROC = 0.8610546590492086\n",
      "Количество деревьев = 20 , глубина = 12 , F1-мера = 0.6169590643274854 , AUC-ROC = 0.860760342524826\n",
      "Количество деревьев = 20 , глубина = 13 , F1-мера = 0.6170542635658914 , AUC-ROC = 0.8676069272423473\n",
      "Количество деревьев = 20 , глубина = 14 , F1-мера = 0.5911949685534591 , AUC-ROC = 0.8539016498490231\n",
      "Количество деревьев = 20 , глубина = 15 , F1-мера = 0.5889967637540453 , AUC-ROC = 0.847666982715424\n",
      "Количество деревьев = 20 , глубина = 16 , F1-мера = 0.5963756177924218 , AUC-ROC = 0.8573114371773928\n",
      "Количество деревьев = 20 , глубина = 17 , F1-мера = 0.5767284991568297 , AUC-ROC = 0.8632359543027026\n",
      "Количество деревьев = 20 , глубина = 18 , F1-мера = 0.5823627287853579 , AUC-ROC = 0.8491134180393676\n",
      "Количество деревьев = 20 , глубина = 19 , F1-мера = 0.5733558178752107 , AUC-ROC = 0.854784599422171\n",
      "Количество деревьев = 20 , глубина = 20 , F1-мера = 0.5544217687074829 , AUC-ROC = 0.8625886442253421\n",
      "Количество деревьев = 30 , глубина = 1 , F1-мера = 0.5195797516714422 , AUC-ROC = 0.818400184786071\n",
      "Количество деревьев = 30 , глубина = 2 , F1-мера = 0.5580448065173116 , AUC-ROC = 0.8409470658691559\n",
      "Количество деревьев = 30 , глубина = 3 , F1-мера = 0.5548780487804877 , AUC-ROC = 0.8532506142460373\n",
      "Количество деревьев = 30 , глубина = 4 , F1-мера = 0.5937834941050375 , AUC-ROC = 0.8601586701363728\n",
      "Количество деревьев = 30 , глубина = 5 , F1-мера = 0.6152046783625731 , AUC-ROC = 0.8714432872547906\n",
      "Количество деревьев = 30 , глубина = 6 , F1-мера = 0.608 , AUC-ROC = 0.8716481911641709\n",
      "Количество деревьев = 30 , глубина = 7 , F1-мера = 0.6108490566037736 , AUC-ROC = 0.8707186725207091\n",
      "Количество деревьев = 30 , глубина = 8 , F1-мера = 0.6322263222632226 , AUC-ROC = 0.8695134649809905\n",
      "Количество деревьев = 30 , глубина = 9 , F1-мера = 0.6245161290322581 , AUC-ROC = 0.8703815124516381\n",
      "Количество деревьев = 30 , глубина = 10 , F1-мера = 0.6258322237017311 , AUC-ROC = 0.8651322468458769\n",
      "Количество деревьев = 30 , глубина = 11 , F1-мера = 0.6402266288951841 , AUC-ROC = 0.8661250994249651\n",
      "Количество деревьев = 30 , глубина = 12 , F1-мера = 0.6194690265486725 , AUC-ROC = 0.863807822486155\n",
      "Количество деревьев = 30 , глубина = 13 , F1-мера = 0.6149068322981367 , AUC-ROC = 0.8732948734904634\n",
      "Количество деревьев = 30 , глубина = 14 , F1-мера = 0.5930599369085174 , AUC-ROC = 0.8595132228218249\n",
      "Количество деревьев = 30 , глубина = 15 , F1-мера = 0.586709886547812 , AUC-ROC = 0.8501686731726762\n",
      "Количество деревьев = 30 , глубина = 16 , F1-мера = 0.5719063545150501 , AUC-ROC = 0.8622738373100214\n",
      "Количество деревьев = 30 , глубина = 17 , F1-мера = 0.5795644891122278 , AUC-ROC = 0.8631223257711373\n",
      "Количество деревьев = 30 , глубина = 18 , F1-мера = 0.5767284991568297 , AUC-ROC = 0.855141318500774\n",
      "Количество деревьев = 30 , глубина = 19 , F1-мера = 0.5733788395904437 , AUC-ROC = 0.861253043288745\n",
      "Количество деревьев = 30 , глубина = 20 , F1-мера = 0.5511265164644714 , AUC-ROC = 0.8619133927057934\n",
      "Количество деревьев = 40 , глубина = 1 , F1-мера = 0.5388397246804326 , AUC-ROC = 0.8304280442666955\n",
      "Количество деревьев = 40 , глубина = 2 , F1-мера = 0.5705263157894737 , AUC-ROC = 0.8511298587839511\n",
      "Количество деревьев = 40 , глубина = 3 , F1-мера = 0.556935817805383 , AUC-ROC = 0.8580397774370991\n",
      "Количество деревьев = 40 , глубина = 4 , F1-мера = 0.5919477693144722 , AUC-ROC = 0.8632173266745773\n",
      "Количество деревьев = 40 , глубина = 5 , F1-мера = 0.6187717265353418 , AUC-ROC = 0.8720859404251198\n",
      "Количество деревьев = 40 , глубина = 6 , F1-мера = 0.6091954022988506 , AUC-ROC = 0.8728841342902967\n",
      "Количество деревьев = 40 , глубина = 7 , F1-мера = 0.6223776223776224 , AUC-ROC = 0.8717860356122995\n",
      "Количество деревьев = 40 , глубина = 8 , F1-мера = 0.635118306351183 , AUC-ROC = 0.8714246596266652\n",
      "Количество деревьев = 40 , глубина = 9 , F1-мера = 0.6428571428571429 , AUC-ROC = 0.872344864456064\n",
      "Количество деревьев = 40 , глубина = 10 , F1-мера = 0.6283422459893049 , AUC-ROC = 0.8672856006571827\n",
      "Количество деревьев = 40 , глубина = 11 , F1-мера = 0.628169014084507 , AUC-ROC = 0.8685876718631541\n",
      "Количество деревьев = 40 , глубина = 12 , F1-мера = 0.6094674556213018 , AUC-ROC = 0.8667658898324817\n",
      "Количество деревьев = 40 , глубина = 13 , F1-мера = 0.595679012345679 , AUC-ROC = 0.8714488755432283\n",
      "Количество деревьев = 40 , глубина = 14 , F1-мера = 0.5990491283676703 , AUC-ROC = 0.8624582508284638\n",
      "Количество деревьев = 40 , глубина = 15 , F1-мера = 0.6 , AUC-ROC = 0.8580574736838184\n",
      "Количество деревьев = 40 , глубина = 16 , F1-мера = 0.5771812080536912 , AUC-ROC = 0.8642446403656977\n",
      "Количество деревьев = 40 , глубина = 17 , F1-мера = 0.5714285714285714 , AUC-ROC = 0.8639410100272523\n",
      "Количество деревьев = 40 , глубина = 18 , F1-мера = 0.566610455311973 , AUC-ROC = 0.8597125384427676\n",
      "Количество деревьев = 40 , глубина = 19 , F1-мера = 0.5782312925170068 , AUC-ROC = 0.8596315082604217\n",
      "Количество деревьев = 40 , глубина = 20 , F1-мера = 0.555366269165247 , AUC-ROC = 0.8628373230608173\n",
      "Количество деревьев = 50 , глубина = 1 , F1-мера = 0.5344295991778006 , AUC-ROC = 0.8286286153897738\n",
      "Количество деревьев = 50 , глубина = 2 , F1-мера = 0.5578512396694215 , AUC-ROC = 0.8504695093669027\n",
      "Количество деревьев = 50 , глубина = 3 , F1-мера = 0.5641025641025641 , AUC-ROC = 0.8598690105190216\n",
      "Количество деревьев = 50 , глубина = 4 , F1-мера = 0.5937161430119177 , AUC-ROC = 0.8648994014943083\n",
      "Количество деревьев = 50 , глубина = 5 , F1-мера = 0.6143344709897611 , AUC-ROC = 0.8721325094954334\n",
      "Количество деревьев = 50 , глубина = 6 , F1-мера = 0.6171428571428572 , AUC-ROC = 0.8735724251495331\n",
      "Количество деревьев = 50 , глубина = 7 , F1-мера = 0.6274970622796711 , AUC-ROC = 0.8715923082797944\n",
      "Количество деревьев = 50 , глубина = 8 , F1-мера = 0.6394052044609666 , AUC-ROC = 0.8721399605466835\n",
      "Количество деревьев = 50 , глубина = 9 , F1-мера = 0.6375321336760926 , AUC-ROC = 0.872171627514497\n",
      "Количество деревьев = 50 , глубина = 10 , F1-мера = 0.6265060240963856 , AUC-ROC = 0.8702008244588209\n",
      "Количество деревьев = 50 , глубина = 11 , F1-мера = 0.6348314606741572 , AUC-ROC = 0.868200217198144\n",
      "Количество деревьев = 50 , глубина = 12 , F1-мера = 0.6149341142020497 , AUC-ROC = 0.8684777688572136\n",
      "Количество деревьев = 50 , глубина = 13 , F1-мера = 0.5990783410138248 , AUC-ROC = 0.8721539312677777\n",
      "Количество деревьев = 50 , глубина = 14 , F1-мера = 0.6078740157480315 , AUC-ROC = 0.8646879779150841\n",
      "Количество деревьев = 50 , глубина = 15 , F1-мера = 0.5924713584288053 , AUC-ROC = 0.8638413522167809\n",
      "Количество деревьев = 50 , глубина = 16 , F1-мера = 0.5876460767946577 , AUC-ROC = 0.8656351928052648\n",
      "Количество деревьев = 50 , глубина = 17 , F1-мера = 0.5820642978003384 , AUC-ROC = 0.8653976905466649\n",
      "Количество деревьев = 50 , глубина = 18 , F1-мера = 0.5704697986577181 , AUC-ROC = 0.8620810413589227\n",
      "Количество деревьев = 50 , глубина = 19 , F1-мера = 0.5806451612903225 , AUC-ROC = 0.8617233908989134\n",
      "Количество деревьев = 50 , глубина = 20 , F1-мера = 0.5675675675675677 , AUC-ROC = 0.864619987072426\n",
      "\n",
      "Лучший результат:\n",
      "Количество деревьев = 40 , глубина = 9 , F1-мера = 0.6428571428571429 , AUC-ROC = 0.872344864456064\n"
     ]
    }
   ],
   "source": [
    "best_f1_RF_bal = 0\n",
    "best_aucroc_RF_bal = 0\n",
    "best_est_RF_bal = 0\n",
    "best_depth_RF_bal = 0\n",
    "\n",
    "for est in range(10, 51, 10):\n",
    "    for depth in range(1, 21):\n",
    "        model_random_forest = RandomForestClassifier(random_state=r_state, n_estimators=est, max_depth=depth, \n",
    "                                                     class_weight='balanced')\n",
    "        model_random_forest.fit(features_train, target_train)\n",
    "        f1, aucroc = test_f1_aucroc(model_random_forest)\n",
    "        print('Количество деревьев =', est,', глубина =', depth, ', F1-мера =', f1, ', AUC-ROC =', aucroc)\n",
    "        if ((f1 > best_f1_RF_bal) and (aucroc > best_aucroc_RF_bal)):\n",
    "            best_f1_RF_bal = f1\n",
    "            best_aucroc_RF_bal = aucroc\n",
    "            best_est_RF_bal = est\n",
    "            best_depth_RF_bal = depth\n",
    "            \n",
    "print()\n",
    "print('Лучший результат:')\n",
    "print('Количество деревьев =', best_est_RF_bal,', глубина =', best_depth_RF_bal, ', F1-мера =', best_f1_RF_bal,\n",
    "      ', AUC-ROC =', best_aucroc_RF_bal)"
   ]
  },
  {
   "cell_type": "markdown",
   "metadata": {},
   "source": [
    "#### Logistic Regression (Логистическая регрессия)"
   ]
  },
  {
   "cell_type": "code",
   "execution_count": 45,
   "metadata": {},
   "outputs": [
    {
     "name": "stdout",
     "output_type": "stream",
     "text": [
      "Алгоритм = lbfgs , F1-мера = 0.5079365079365079 , AUC-ROC = 0.7907428139267598\n",
      "Алгоритм = liblinear , F1-мера = 0.5065420560747663 , AUC-ROC = 0.790763304317698\n",
      "Алгоритм = newton-cg , F1-мера = 0.5079365079365079 , AUC-ROC = 0.7907390884011347\n",
      "Алгоритм = sag , F1-мера = 0.5079365079365079 , AUC-ROC = 0.7907428139267598\n",
      "Алгоритм = saga , F1-мера = 0.5079365079365079 , AUC-ROC = 0.7907390884011349\n",
      "\n",
      "Лучший результат:\n",
      "Алгоритм = lbfgs , F1-мера = 0.5079365079365079 , AUC-ROC = 0.7907428139267598\n"
     ]
    }
   ],
   "source": [
    "best_f1_LR_bal = 0\n",
    "best_aucroc_LR_bal = 0\n",
    "best_solver_LR_bal = ''\n",
    "solvers = ['lbfgs', 'liblinear', 'newton-cg', 'sag', 'saga']\n",
    "\n",
    "for solver in solvers:\n",
    "    model_logistic_regression = LogisticRegression(solver=solver, random_state=r_state, class_weight='balanced')\n",
    "    model_logistic_regression.fit(features_train, target_train)\n",
    "    f1, aucroc = test_f1_aucroc(model_logistic_regression)\n",
    "    print('Алгоритм =', solver, ', F1-мера =', f1, ', AUC-ROC =', aucroc)\n",
    "    if ((f1 > best_f1_LR_bal) and (aucroc > best_aucroc_LR_bal)):\n",
    "        best_f1_LR_bal = f1\n",
    "        best_aucroc_LR_bal = aucroc\n",
    "        best_solver_LR_bal = solver\n",
    "        \n",
    "print()\n",
    "print('Лучший результат:')\n",
    "print('Алгоритм =', best_solver_LR_bal, ', F1-мера =', best_f1_LR_bal, ', AUC-ROC =', best_aucroc_LR_bal)"
   ]
  },
  {
   "cell_type": "markdown",
   "metadata": {},
   "source": [
    "#### Определим лучшую модель"
   ]
  },
  {
   "cell_type": "code",
   "execution_count": 46,
   "metadata": {},
   "outputs": [
    {
     "name": "stdout",
     "output_type": "stream",
     "text": [
      "Лучшая модель: Random Forest (Случайный лес), с гиперпараметрами n_estimators = 40 max_depth = 9\n",
      "F1-мера = 0.6428571428571429 , AUC-ROC = 0.872344864456064\n"
     ]
    }
   ],
   "source": [
    "max_f1_bal = best_f1_DT_bal\n",
    "max_aucroc_bal = best_aucroc_DT_bal\n",
    "if (max_f1_bal < best_f1_RF_bal) and (max_aucroc_bal < best_aucroc_RF_bal):\n",
    "    max_f1_bal = best_f1_RF_bal\n",
    "    max_aucroc_bal = best_aucroc_RF_bal\n",
    "if (max_f1_bal < best_f1_LR_bal) and (max_aucroc_bal < best_aucroc_LR_bal):\n",
    "    max_f1_bal = best_f1_LR_bal\n",
    "    max_aucroc_bal = best_aucroc_LR_bal\n",
    "\n",
    "if (max_f1_bal == best_f1_DT_bal) and (max_aucroc_bal == best_aucroc_DT_bal):\n",
    "    print('Лучшая модель: Decision Tree (Дерево решений), с гиперпараметром max_depth =', best_depth_DT_bal)\n",
    "if (max_f1_bal == best_f1_RF_bal) and (max_aucroc_bal == best_aucroc_RF_bal):\n",
    "    print('Лучшая модель: Random Forest (Случайный лес), с гиперпараметрами n_estimators =', best_est_RF_bal,\n",
    "      'max_depth =', best_depth_RF_bal)\n",
    "if (max_f1_bal == best_f1_LR_bal) and (max_aucroc_bal == best_aucroc_LR_bal):\n",
    "    print('Лучшая модель: Logistic Regression (Логистическая регрессия), с гиперпараметром solver =', best_solver_LR_bal)\n",
    "print('F1-мера =', max_f1_bal, ', AUC-ROC =', max_aucroc_bal)"
   ]
  },
  {
   "cell_type": "markdown",
   "metadata": {},
   "source": [
    "Обучив три модели с аргументом class_weight = 'balanced' мы определили лучшую модель:\n",
    "* Random Forest (Случайный лес), с гиперпараметрами:\n",
    "    * n_estimators = 50\n",
    "    * max_depth = 9\n",
    "* F1-мера = 0.6463878326996199\n",
    "* AUC-ROC = 0.8749341047655059\n",
    "\n",
    "F1-мера нашей лучшей модели (0.646) больше поставленной задачи (0.59)"
   ]
  },
  {
   "cell_type": "markdown",
   "metadata": {},
   "source": [
    "### Определим лучший метод балансировки"
   ]
  },
  {
   "cell_type": "markdown",
   "metadata": {},
   "source": [
    "Сравнивать методы балансировки будем по метрике \"F1-мера\""
   ]
  },
  {
   "cell_type": "code",
   "execution_count": 47,
   "metadata": {},
   "outputs": [
    {
     "name": "stdout",
     "output_type": "stream",
     "text": [
      "Лучший метод балансировки: Аргумент class_weight = \"balanced\"\n",
      "F1-мера = 0.6428571428571429 , AUC-ROC = 0.872344864456064\n"
     ]
    }
   ],
   "source": [
    "best_f1 = max_f1_up\n",
    "if best_f1 < max_f1_down:\n",
    "    best_f1 = max_f1_down\n",
    "if best_f1 < max_f1_bal:\n",
    "    best_f1 = max_f1_bal\n",
    "\n",
    "if best_f1 == max_f1_up:\n",
    "    print('Лучший метод балансировки: \"upsampling\"')\n",
    "    print('F1-мера =', max_f1_up, ', AUC-ROC =', max_aucroc_up)\n",
    "if best_f1 == max_f1_down:\n",
    "    print('Лучший метод балансировки: \"downsampling\"')\n",
    "    print('F1-мера =', max_f1_down, ', AUC-ROC =', max_aucroc_down)\n",
    "if best_f1 == max_f1_bal:\n",
    "    print('Лучший метод балансировки: Аргумент class_weight = \"balanced\"')\n",
    "    print('F1-мера =', max_f1_bal, ', AUC-ROC =', max_aucroc_bal)"
   ]
  },
  {
   "cell_type": "markdown",
   "metadata": {},
   "source": [
    "По итогу исследования мы определили лучший метод балансировки (аргумент class_weight = 'balanced') и лучшую модель:\n",
    "* Random Forest (Случайный лес), с гиперпараметрами:\n",
    "    * n_estimators = 50\n",
    "    * max_depth = 9\n",
    "* F1-мера = 0.6463878326996199\n",
    "* AUC-ROC = 0.8749341047655059\n"
   ]
  },
  {
   "cell_type": "markdown",
   "metadata": {},
   "source": [
    "## Тестирование модели <a id='test'></a>"
   ]
  },
  {
   "cell_type": "markdown",
   "metadata": {},
   "source": [
    "### Объединим обучающую и валидационную выборки для обучения итоговой модели на большем количестве данных"
   ]
  },
  {
   "cell_type": "code",
   "execution_count": 48,
   "metadata": {},
   "outputs": [],
   "source": [
    "features = pd.concat([features_train, features_valid])\n",
    "target = pd.concat([target_train, target_valid])"
   ]
  },
  {
   "cell_type": "markdown",
   "metadata": {},
   "source": [
    "### Обучим итоговую модель и проверим результат на тестовой выборке"
   ]
  },
  {
   "cell_type": "code",
   "execution_count": 49,
   "metadata": {},
   "outputs": [
    {
     "name": "stdout",
     "output_type": "stream",
     "text": [
      "Результат на тестовой выборке:\n",
      "F1-мера = 0.5987096774193549 , AUC-ROC = 0.8534515494929338\n"
     ]
    }
   ],
   "source": [
    "model = RandomForestClassifier(random_state=r_state, n_estimators=50, max_depth=9, class_weight='balanced')\n",
    "model.fit(features, target)\n",
    "predictions_test = model.predict(features_test)\n",
    "probabilities_test = model.predict_proba(features_test)\n",
    "probabilities_one_test = probabilities_test[:, 1]\n",
    "f1 = f1_score(target_test, predictions_test)\n",
    "aucroc = roc_auc_score(target_test, probabilities_one_test)\n",
    "\n",
    "\n",
    "print('Результат на тестовой выборке:')\n",
    "print('F1-мера =', f1,', AUC-ROC =', aucroc)"
   ]
  },
  {
   "cell_type": "markdown",
   "metadata": {},
   "source": [
    "F1-мера нашей модели на тестовой выборке (0.593) чуть больше поставленной задачи (0.59)"
   ]
  },
  {
   "cell_type": "markdown",
   "metadata": {},
   "source": [
    "### Сравним AUC-ROC нашей модели с AUC-ROC случайной модели"
   ]
  },
  {
   "cell_type": "code",
   "execution_count": 50,
   "metadata": {},
   "outputs": [
    {
     "name": "stdout",
     "output_type": "stream",
     "text": [
      "AUC-ROC случайной модели = 0.5\n",
      "AUC-ROC нашей модели = 0.85\n"
     ]
    }
   ],
   "source": [
    "const_target_predict = pd.Series([0]*len(target_test))\n",
    "const_aucroc = roc_auc_score(target_test, const_target_predict)\n",
    "print('AUC-ROC случайной модели =', const_aucroc)\n",
    "print('AUC-ROC нашей модели =', round(aucroc, 2))"
   ]
  },
  {
   "cell_type": "code",
   "execution_count": 51,
   "metadata": {
    "scrolled": false
   },
   "outputs": [
    {
     "data": {
      "image/png": "[encoded data removed]",
      "text/plain": [
       "<Figure size 1500x800 with 1 Axes>"
      ]
     },
     "metadata": {},
     "output_type": "display_data"
    }
   ],
   "source": [
    "fpr_const, tpr_const, thresholds = roc_curve(target_test, const_target_predict)\n",
    "fpr_test, tpr_test, thresholds = roc_curve(target_test, probabilities_one_test)\n",
    "\n",
    "plt.figure(figsize=(15,8))\n",
    "plt.xlim([0.0, 1.0])\n",
    "plt.ylim([0.0, 1.0])\n",
    "plt.plot(fpr_const,tpr_const, linestyle='--')\n",
    "plt.plot(fpr_test,tpr_test)\n",
    "plt.xlabel('False Positive Rate')\n",
    "plt.ylabel('True Positive Rate')\n",
    "plt.title('ROC-кривая')\n",
    "plt.legend(('Случайная модель','Итоговая модель'), loc= 'upper left')\n",
    "plt.show()"
   ]
  },
  {
   "cell_type": "markdown",
   "metadata": {},
   "source": [
    "Мы получили достаточно большое значение AUC-ROC на нашей итоговой модели. Итоговая модель является адекватной"
   ]
  },
  {
   "cell_type": "markdown",
   "metadata": {},
   "source": [
    "## Общий вывод"
   ]
  },
  {
   "cell_type": "markdown",
   "metadata": {},
   "source": [
    "Проведено исследование для поиска модели с предельно большим значением F1-меры (не меньше 0.59)\n",
    "\n",
    "Обучение модели проводилось с целью спрогнозировать, уйдёт клиент из банка в ближайшее время или нет \n",
    "\n",
    "Данные о поведении клиентов были взяты из файла ***Churn.csv***. В нем представлены исторические данные о поведении клиентов и расторжении договоров с банком\n",
    "\n",
    "Исследование проходило в четыре этапа:\n",
    "\n",
    "* [**Подготовка данных:**](#exam_file)\n",
    "<br>\n",
    "\n",
    "    * Данные состоят из 10000 объектов\n",
    "    * Данные имеют 14 признаков (1 целевой и 13 вспомогательных)\n",
    "    * Явные дубликаты отсутствуют\n",
    "    * Пропущенные значения есть в признаке \"Tenure\" - 909 шт. - 9.09% от общего\n",
    "    * Мы удалили пропущенные значения, так как заменяя пропущенные значения средним или медианным есть риск повлиять на обучение модели\n",
    "    * Мы удалили признаки \"RowNumber\", \"CustomerId\" и \"Surname\", так как они ни как не влияют на вероятность ухода клиента, но могут усложнить обучение модели\n",
    "    * Аномалий в данных не обнаружено\n",
    "    * Преобразовали данные методом OHE, чтобы исключить попадание в дамми-ловушку\n",
    "    * Разделили данные на выборки для обучения:\n",
    "        * Вспомогательные признаки:\n",
    "            * features_train - Объектов: 5454 шт., признаков: 11 шт. - 59.99%\n",
    "            * features_valid - Объектов: 1818 шт., признаков: 11 шт. - 20.0%\n",
    "            * features_test - Объектов: 1819 шт., признаков: 11 шт. - 20.01%\n",
    "        * Целевые признаки:\n",
    "            * target_train - Объектов: 5454 шт. - 59.99%\n",
    "            * target_valid - Объектов: 1818 шт. - 20.0%\n",
    "            * target_test - Объектов: 1819 шт. - 20.01%\n",
    "    * Стандартизировали численные признаки в выборках, так как в данных присутствуют значения в разных масштабах <br>    \n",
    "<br>\n",
    "* [**Исследование задачи**](#research)\n",
    "<br>\n",
    "\n",
    "    * Проверили баланс классов в целевом признаке:\n",
    "        * Соотношение оставшихся и ушедших клиентов: 79.6% / 20.4%\n",
    "        * Соотношение оставшихся и ушедших клиентов в выборке target_train: 79.6% / 20.4%\n",
    "        * Соотношение оставшихся и ушедших клиентов в выборке target_valid: 79.6% / 20.4%\n",
    "        * Соотношение оставшихся и ушедших клиентов в выборке target_test: 79.6% / 20.4%\n",
    "    * Обучили модель без учёта дисбаланса\n",
    "        * Лучший результат Decision Tree (Дерево решений):\n",
    "            * Глубина = 5 \n",
    "            * F1-мера = 0.5733788395904437 \n",
    "            * AUC-ROC = 0.8450470068195747\n",
    "        * Лучший результат Random Forest (Случайный лес):\n",
    "            * Количество деревьев = 20 \n",
    "            * Глубина = 9 \n",
    "            * F1-мера = 0.5983193277310924 \n",
    "            * AUC-ROC = 0.8755190122886461\n",
    "        * Лучший результат Logistic Regression (Логистическая регрессия):\n",
    "            * Алгоритм = lbfgs \n",
    "            * F1-мера = 0.3306772908366534 \n",
    "            * AUC-ROC = 0.7893382907660986\n",
    "        * Лучшая модель - Random Forest (Случайный лес)\n",
    "        * F1-мера нашей лучшей модели (0.598) примерно равна поставленной задаче (0.59)   <br> \n",
    "<br>\n",
    "* [**Борьба с дисбалансом**](#imbalance)\n",
    "<br>\n",
    "\n",
    "    * Метод 1: Увеличение объектов редкого класса (техника upsampling)\n",
    "        * Соотношение оставшихся и ушедших клиентов: 49.4% / 50.6%\n",
    "        * Обучив три модели с применением техники \"upsampling\" мы определили лучшую модель - Random Forest (Случайный лес), с гиперпараметрами:\n",
    "            * n_estimators = 30\n",
    "            * max_depth = 7\n",
    "            * F1-мера = 0.6233480176211453\n",
    "            * AUC-ROC = 0.8771498611310323\n",
    "        * F1-мера нашей лучшей модели (0.623) больше поставленной задачи (0.59)\n",
    "    * Метод 2: Уменьшение объектов частого класса (техника downsampling)\n",
    "        * Соотношение оставшихся и ушедших клиентов: 49.4% / 50.6%\n",
    "        * Обучив три модели с применением техники \"downsampling\" мы определили лучшую модель - Random Forest (Случайный лес), с гиперпараметрами:\n",
    "            * n_estimators = 30\n",
    "            * max_depth = 7\n",
    "            * F1-мера = 0.6121593291404612\n",
    "            * AUC-ROC = 0.8773426570821311\n",
    "        * F1-мера нашей лучшей модели (0.612) больше поставленной задачи (0.59)\n",
    "    * Метод 3: Аргумент class_weight = 'balanced' \n",
    "        * Обучив три модели с аргументом class_weight = 'balanced' мы определили лучшую модель - Random Forest (Случайный лес), с гиперпараметрами:\n",
    "            * n_estimators = 50\n",
    "            * max_depth = 9\n",
    "            * F1-мера = 0.6463878326996199\n",
    "            * AUC-ROC = 0.8749341047655059\n",
    "        * F1-мера нашей лучшей модели (0.646) больше поставленной задачи (0.59)\n",
    "    * По итогу исследования мы определили лучший метод балансировки и лучшую модель:\n",
    "        * Аргумент class_weight = 'balanced'\n",
    "        * Random Forest (Случайный лес), с гиперпараметрами:\n",
    "            * n_estimators = 50\n",
    "            * max_depth = 9\n",
    "            * F1-мера = 0.6463878326996199\n",
    "            * AUC-ROC = 0.8749341047655059 <br>\n",
    "<br>\n",
    "* [**Тестирование модели**](#test)\n",
    "<br>\n",
    "\n",
    "    * Объединили обучающую и валидационную выборки для обучения итоговой модели на большем количестве данных\n",
    "    * Обучили итоговую модель и проверили результат на тестовой выборке:\n",
    "        * F1-мера = 0.5930680359435173 \n",
    "        * AUC-ROC = 0.8529266131554258\n",
    "    * F1-мера нашей модели на тестовой выборке (0.593) чуть больше поставленной задачи (0.59)\n",
    "    * Сравнили AUC-ROC нашей модели с AUC-ROC случайной модели:\n",
    "        * AUC-ROC случайной модели = 0.5\n",
    "        * AUC-ROC нашей модели = 0.85\n",
    "        * Мы получили достаточно большое значение AUC-ROC на нашей итоговой модели\n",
    "        * Итоговую модель можно считать адекватной\n",
    "        "
   ]
  }
 ],
 "metadata": {
  "ExecuteTimeLog": [
   {
    "duration": 1236,
    "start_time": "2023-02-26T16:54:11.104Z"
   },
   {
    "duration": 51,
    "start_time": "2023-02-26T16:54:13.388Z"
   },
   {
    "duration": 7,
    "start_time": "2023-02-26T18:18:41.508Z"
   },
   {
    "duration": 6,
    "start_time": "2023-02-26T18:19:23.495Z"
   },
   {
    "duration": 6,
    "start_time": "2023-02-26T18:19:33.271Z"
   },
   {
    "duration": 105,
    "start_time": "2023-02-26T18:25:19.584Z"
   },
   {
    "duration": 5,
    "start_time": "2023-02-26T18:25:28.581Z"
   },
   {
    "duration": 546,
    "start_time": "2023-02-26T18:25:32.398Z"
   },
   {
    "duration": 8,
    "start_time": "2023-02-26T18:26:13.817Z"
   },
   {
    "duration": 573,
    "start_time": "2023-02-26T18:27:21.986Z"
   },
   {
    "duration": 556,
    "start_time": "2023-02-26T18:27:39.871Z"
   },
   {
    "duration": 3,
    "start_time": "2023-02-26T18:27:48.713Z"
   },
   {
    "duration": 6,
    "start_time": "2023-02-26T18:27:50.408Z"
   },
   {
    "duration": 9,
    "start_time": "2023-02-26T18:28:39.829Z"
   },
   {
    "duration": 40,
    "start_time": "2023-02-26T18:29:27.428Z"
   },
   {
    "duration": 9,
    "start_time": "2023-02-26T18:29:40.716Z"
   },
   {
    "duration": 24,
    "start_time": "2023-02-26T18:29:43.712Z"
   },
   {
    "duration": 7,
    "start_time": "2023-02-26T18:29:54.322Z"
   },
   {
    "duration": 6,
    "start_time": "2023-02-26T18:30:01.252Z"
   },
   {
    "duration": 14,
    "start_time": "2023-02-26T18:30:33.067Z"
   },
   {
    "duration": 9,
    "start_time": "2023-02-26T18:36:28.484Z"
   },
   {
    "duration": 12,
    "start_time": "2023-02-26T18:36:36.848Z"
   },
   {
    "duration": 10,
    "start_time": "2023-02-26T18:40:28.585Z"
   },
   {
    "duration": 7,
    "start_time": "2023-02-26T18:40:36.111Z"
   },
   {
    "duration": 7,
    "start_time": "2023-02-26T18:42:07.707Z"
   },
   {
    "duration": 3,
    "start_time": "2023-02-26T18:43:55.436Z"
   },
   {
    "duration": 8,
    "start_time": "2023-02-26T18:44:12.080Z"
   },
   {
    "duration": 7,
    "start_time": "2023-02-26T18:44:49.477Z"
   },
   {
    "duration": 5,
    "start_time": "2023-02-26T18:45:24.208Z"
   },
   {
    "duration": 5,
    "start_time": "2023-02-26T18:45:31.003Z"
   },
   {
    "duration": 60,
    "start_time": "2023-02-26T18:46:20.737Z"
   },
   {
    "duration": 5,
    "start_time": "2023-02-26T18:46:27.107Z"
   },
   {
    "duration": 5,
    "start_time": "2023-02-26T18:46:54.142Z"
   },
   {
    "duration": 6,
    "start_time": "2023-02-26T18:47:36.429Z"
   },
   {
    "duration": 5,
    "start_time": "2023-02-26T18:47:42.152Z"
   },
   {
    "duration": 5,
    "start_time": "2023-02-26T18:47:47.574Z"
   },
   {
    "duration": 5,
    "start_time": "2023-02-26T18:49:16.088Z"
   },
   {
    "duration": 5,
    "start_time": "2023-02-26T18:49:46.534Z"
   },
   {
    "duration": 6,
    "start_time": "2023-02-26T18:50:36.277Z"
   },
   {
    "duration": 8,
    "start_time": "2023-02-26T18:51:31.192Z"
   },
   {
    "duration": 5,
    "start_time": "2023-02-26T18:51:54.639Z"
   },
   {
    "duration": 5,
    "start_time": "2023-02-26T18:52:13.279Z"
   },
   {
    "duration": 6,
    "start_time": "2023-02-26T18:52:50.426Z"
   },
   {
    "duration": 7,
    "start_time": "2023-02-26T18:54:45.283Z"
   },
   {
    "duration": 7,
    "start_time": "2023-02-26T18:55:18.001Z"
   },
   {
    "duration": 6,
    "start_time": "2023-02-26T18:55:26.569Z"
   },
   {
    "duration": 7,
    "start_time": "2023-02-26T18:56:02.746Z"
   },
   {
    "duration": 4,
    "start_time": "2023-02-26T18:56:29.985Z"
   },
   {
    "duration": 7,
    "start_time": "2023-02-26T18:56:53.226Z"
   },
   {
    "duration": 6,
    "start_time": "2023-02-26T18:58:00.612Z"
   },
   {
    "duration": 41,
    "start_time": "2023-02-26T19:09:46.553Z"
   },
   {
    "duration": 39,
    "start_time": "2023-02-26T19:10:01.801Z"
   },
   {
    "duration": 50,
    "start_time": "2023-02-26T19:10:01.842Z"
   },
   {
    "duration": 9,
    "start_time": "2023-02-26T19:10:02.190Z"
   },
   {
    "duration": 19,
    "start_time": "2023-02-26T19:10:02.201Z"
   },
   {
    "duration": 30,
    "start_time": "2023-02-26T19:10:02.222Z"
   },
   {
    "duration": 15,
    "start_time": "2023-02-26T19:10:02.255Z"
   },
   {
    "duration": 22,
    "start_time": "2023-02-26T19:10:02.273Z"
   },
   {
    "duration": 15,
    "start_time": "2023-02-26T19:10:02.298Z"
   },
   {
    "duration": 27,
    "start_time": "2023-02-26T19:10:02.315Z"
   },
   {
    "duration": 19,
    "start_time": "2023-02-26T19:10:02.345Z"
   },
   {
    "duration": 17,
    "start_time": "2023-02-26T19:10:02.366Z"
   },
   {
    "duration": 15,
    "start_time": "2023-02-26T19:10:02.385Z"
   },
   {
    "duration": 14,
    "start_time": "2023-02-26T19:10:02.402Z"
   },
   {
    "duration": 50,
    "start_time": "2023-02-26T19:10:02.418Z"
   },
   {
    "duration": 35,
    "start_time": "2023-02-26T19:14:30.529Z"
   },
   {
    "duration": 12,
    "start_time": "2023-02-26T19:14:42.672Z"
   },
   {
    "duration": 9,
    "start_time": "2023-02-26T19:15:13.665Z"
   },
   {
    "duration": 6,
    "start_time": "2023-02-26T19:15:22.096Z"
   },
   {
    "duration": 1334,
    "start_time": "2023-02-27T08:54:20.827Z"
   },
   {
    "duration": 51,
    "start_time": "2023-02-27T08:54:22.217Z"
   },
   {
    "duration": 37,
    "start_time": "2023-02-27T08:54:26.774Z"
   },
   {
    "duration": 43,
    "start_time": "2023-02-27T08:54:26.815Z"
   },
   {
    "duration": 11,
    "start_time": "2023-02-27T08:54:26.859Z"
   },
   {
    "duration": 35,
    "start_time": "2023-02-27T08:54:26.872Z"
   },
   {
    "duration": 22,
    "start_time": "2023-02-27T08:54:26.910Z"
   },
   {
    "duration": 9,
    "start_time": "2023-02-27T08:54:26.934Z"
   },
   {
    "duration": 9,
    "start_time": "2023-02-27T08:54:26.945Z"
   },
   {
    "duration": 11,
    "start_time": "2023-02-27T08:54:26.955Z"
   },
   {
    "duration": 16,
    "start_time": "2023-02-27T08:54:26.967Z"
   },
   {
    "duration": 6,
    "start_time": "2023-02-27T08:54:26.985Z"
   },
   {
    "duration": 9,
    "start_time": "2023-02-27T08:54:27.002Z"
   },
   {
    "duration": 14,
    "start_time": "2023-02-27T08:54:27.013Z"
   },
   {
    "duration": 10,
    "start_time": "2023-02-27T08:54:27.028Z"
   },
   {
    "duration": 10,
    "start_time": "2023-02-27T08:54:27.039Z"
   },
   {
    "duration": 3,
    "start_time": "2023-02-27T09:03:56.695Z"
   },
   {
    "duration": 5,
    "start_time": "2023-02-27T09:06:43.471Z"
   },
   {
    "duration": 6,
    "start_time": "2023-02-27T09:08:02.823Z"
   },
   {
    "duration": 7,
    "start_time": "2023-02-27T09:09:15.535Z"
   },
   {
    "duration": 52,
    "start_time": "2023-02-27T09:35:31.579Z"
   },
   {
    "duration": 43,
    "start_time": "2023-02-27T09:35:31.634Z"
   },
   {
    "duration": 24,
    "start_time": "2023-02-27T09:35:31.679Z"
   },
   {
    "duration": 19,
    "start_time": "2023-02-27T09:35:31.707Z"
   },
   {
    "duration": 14,
    "start_time": "2023-02-27T09:35:31.728Z"
   },
   {
    "duration": 27,
    "start_time": "2023-02-27T09:35:31.744Z"
   },
   {
    "duration": 15,
    "start_time": "2023-02-27T09:35:31.773Z"
   },
   {
    "duration": 36,
    "start_time": "2023-02-27T09:35:31.790Z"
   },
   {
    "duration": 38,
    "start_time": "2023-02-27T09:35:31.828Z"
   },
   {
    "duration": 7,
    "start_time": "2023-02-27T09:35:31.868Z"
   },
   {
    "duration": 14,
    "start_time": "2023-02-27T09:35:31.877Z"
   },
   {
    "duration": 20,
    "start_time": "2023-02-27T09:35:31.893Z"
   },
   {
    "duration": 14,
    "start_time": "2023-02-27T09:35:31.916Z"
   },
   {
    "duration": 9,
    "start_time": "2023-02-27T09:35:31.933Z"
   },
   {
    "duration": 28,
    "start_time": "2023-02-27T09:35:31.943Z"
   },
   {
    "duration": 4,
    "start_time": "2023-02-27T09:35:31.972Z"
   },
   {
    "duration": 19,
    "start_time": "2023-02-27T09:35:31.978Z"
   },
   {
    "duration": 19,
    "start_time": "2023-02-27T09:35:31.999Z"
   },
   {
    "duration": 12,
    "start_time": "2023-02-27T09:35:32.021Z"
   },
   {
    "duration": 44,
    "start_time": "2023-02-27T09:53:39.071Z"
   },
   {
    "duration": 11,
    "start_time": "2023-02-27T10:09:59.232Z"
   },
   {
    "duration": 4,
    "start_time": "2023-02-27T10:10:28.463Z"
   },
   {
    "duration": 31,
    "start_time": "2023-02-27T10:10:34.954Z"
   },
   {
    "duration": 37,
    "start_time": "2023-02-27T10:11:06.496Z"
   },
   {
    "duration": 21,
    "start_time": "2023-02-27T10:11:08.354Z"
   },
   {
    "duration": 3,
    "start_time": "2023-02-27T10:56:11.305Z"
   },
   {
    "duration": 141,
    "start_time": "2023-02-27T11:09:11.588Z"
   },
   {
    "duration": 39,
    "start_time": "2023-02-27T11:09:28.822Z"
   },
   {
    "duration": 39,
    "start_time": "2023-02-27T11:09:28.863Z"
   },
   {
    "duration": 9,
    "start_time": "2023-02-27T11:09:28.905Z"
   },
   {
    "duration": 8,
    "start_time": "2023-02-27T11:09:28.916Z"
   },
   {
    "duration": 21,
    "start_time": "2023-02-27T11:09:28.928Z"
   },
   {
    "duration": 13,
    "start_time": "2023-02-27T11:09:28.951Z"
   },
   {
    "duration": 8,
    "start_time": "2023-02-27T11:09:28.966Z"
   },
   {
    "duration": 8,
    "start_time": "2023-02-27T11:09:28.975Z"
   },
   {
    "duration": 38,
    "start_time": "2023-02-27T11:09:28.985Z"
   },
   {
    "duration": 11,
    "start_time": "2023-02-27T11:09:29.032Z"
   },
   {
    "duration": 9,
    "start_time": "2023-02-27T11:09:29.045Z"
   },
   {
    "duration": 8,
    "start_time": "2023-02-27T11:09:29.056Z"
   },
   {
    "duration": 8,
    "start_time": "2023-02-27T11:09:29.066Z"
   },
   {
    "duration": 12,
    "start_time": "2023-02-27T11:09:29.076Z"
   },
   {
    "duration": 37,
    "start_time": "2023-02-27T11:09:29.090Z"
   },
   {
    "duration": 8,
    "start_time": "2023-02-27T11:09:29.128Z"
   },
   {
    "duration": 7,
    "start_time": "2023-02-27T11:09:29.138Z"
   },
   {
    "duration": 5,
    "start_time": "2023-02-27T11:09:29.147Z"
   },
   {
    "duration": 8,
    "start_time": "2023-02-27T11:09:29.154Z"
   },
   {
    "duration": 17,
    "start_time": "2023-02-27T11:09:29.164Z"
   },
   {
    "duration": 56,
    "start_time": "2023-02-27T11:09:29.205Z"
   },
   {
    "duration": 29,
    "start_time": "2023-02-27T11:09:29.265Z"
   },
   {
    "duration": 59,
    "start_time": "2023-02-27T11:09:29.297Z"
   },
   {
    "duration": 3,
    "start_time": "2023-02-27T11:09:29.358Z"
   },
   {
    "duration": 26,
    "start_time": "2023-02-27T11:09:29.363Z"
   },
   {
    "duration": 37,
    "start_time": "2023-02-27T11:10:13.238Z"
   },
   {
    "duration": 9,
    "start_time": "2023-02-27T11:11:10.801Z"
   },
   {
    "duration": 23,
    "start_time": "2023-02-27T11:11:11.962Z"
   },
   {
    "duration": 587,
    "start_time": "2023-02-27T11:12:48.862Z"
   },
   {
    "duration": 17879,
    "start_time": "2023-02-27T11:21:42.741Z"
   },
   {
    "duration": 50,
    "start_time": "2023-02-27T11:28:07.372Z"
   },
   {
    "duration": 40,
    "start_time": "2023-02-27T11:28:07.425Z"
   },
   {
    "duration": 10,
    "start_time": "2023-02-27T11:28:07.466Z"
   },
   {
    "duration": 32,
    "start_time": "2023-02-27T11:28:07.478Z"
   },
   {
    "duration": 26,
    "start_time": "2023-02-27T11:28:07.516Z"
   },
   {
    "duration": 10,
    "start_time": "2023-02-27T11:28:07.544Z"
   },
   {
    "duration": 12,
    "start_time": "2023-02-27T11:28:07.555Z"
   },
   {
    "duration": 5,
    "start_time": "2023-02-27T11:28:07.569Z"
   },
   {
    "duration": 20,
    "start_time": "2023-02-27T11:28:07.576Z"
   },
   {
    "duration": 21,
    "start_time": "2023-02-27T11:28:07.598Z"
   },
   {
    "duration": 13,
    "start_time": "2023-02-27T11:28:07.624Z"
   },
   {
    "duration": 11,
    "start_time": "2023-02-27T11:28:07.639Z"
   },
   {
    "duration": 7,
    "start_time": "2023-02-27T11:28:07.652Z"
   },
   {
    "duration": 9,
    "start_time": "2023-02-27T11:28:07.661Z"
   },
   {
    "duration": 25,
    "start_time": "2023-02-27T11:28:07.672Z"
   },
   {
    "duration": 4,
    "start_time": "2023-02-27T11:28:07.698Z"
   },
   {
    "duration": 34,
    "start_time": "2023-02-27T11:28:07.709Z"
   },
   {
    "duration": 6,
    "start_time": "2023-02-27T11:28:07.744Z"
   },
   {
    "duration": 6,
    "start_time": "2023-02-27T11:28:07.752Z"
   },
   {
    "duration": 15,
    "start_time": "2023-02-27T11:28:07.760Z"
   },
   {
    "duration": 23,
    "start_time": "2023-02-27T11:28:07.777Z"
   },
   {
    "duration": 24,
    "start_time": "2023-02-27T11:28:07.808Z"
   },
   {
    "duration": 20,
    "start_time": "2023-02-27T11:28:07.834Z"
   },
   {
    "duration": 4,
    "start_time": "2023-02-27T11:28:07.856Z"
   },
   {
    "duration": 583,
    "start_time": "2023-02-27T11:28:07.861Z"
   },
   {
    "duration": 16676,
    "start_time": "2023-02-27T11:28:08.447Z"
   },
   {
    "duration": 16507,
    "start_time": "2023-02-27T11:28:50.365Z"
   },
   {
    "duration": 20710,
    "start_time": "2023-02-27T11:32:12.757Z"
   },
   {
    "duration": 2798,
    "start_time": "2023-02-27T11:35:38.461Z"
   },
   {
    "duration": 1486,
    "start_time": "2023-02-27T16:05:06.748Z"
   },
   {
    "duration": 64,
    "start_time": "2023-02-27T16:05:08.237Z"
   },
   {
    "duration": 12,
    "start_time": "2023-02-27T16:05:08.303Z"
   },
   {
    "duration": 15,
    "start_time": "2023-02-27T16:05:08.318Z"
   },
   {
    "duration": 28,
    "start_time": "2023-02-27T16:05:08.335Z"
   },
   {
    "duration": 32,
    "start_time": "2023-02-27T16:05:08.365Z"
   },
   {
    "duration": 24,
    "start_time": "2023-02-27T16:05:08.399Z"
   },
   {
    "duration": 16,
    "start_time": "2023-02-27T16:05:08.425Z"
   },
   {
    "duration": 46,
    "start_time": "2023-02-27T16:05:08.443Z"
   },
   {
    "duration": 20,
    "start_time": "2023-02-27T16:05:08.494Z"
   },
   {
    "duration": 27,
    "start_time": "2023-02-27T16:05:08.516Z"
   },
   {
    "duration": 33,
    "start_time": "2023-02-27T16:05:08.545Z"
   },
   {
    "duration": 18,
    "start_time": "2023-02-27T16:05:08.580Z"
   },
   {
    "duration": 28,
    "start_time": "2023-02-27T16:05:08.601Z"
   },
   {
    "duration": 44,
    "start_time": "2023-02-27T16:05:08.631Z"
   },
   {
    "duration": 28,
    "start_time": "2023-02-27T16:05:08.677Z"
   },
   {
    "duration": 25,
    "start_time": "2023-02-27T16:05:08.707Z"
   },
   {
    "duration": 37,
    "start_time": "2023-02-27T16:05:08.734Z"
   },
   {
    "duration": 34,
    "start_time": "2023-02-27T16:05:08.773Z"
   },
   {
    "duration": 36,
    "start_time": "2023-02-27T16:05:08.809Z"
   },
   {
    "duration": 57,
    "start_time": "2023-02-27T16:05:08.847Z"
   },
   {
    "duration": 28,
    "start_time": "2023-02-27T16:05:08.906Z"
   },
   {
    "duration": 33,
    "start_time": "2023-02-27T16:05:08.936Z"
   },
   {
    "duration": 10,
    "start_time": "2023-02-27T16:05:08.971Z"
   },
   {
    "duration": 617,
    "start_time": "2023-02-27T16:05:08.983Z"
   },
   {
    "duration": 19446,
    "start_time": "2023-02-27T16:05:09.602Z"
   },
   {
    "duration": 2110,
    "start_time": "2023-02-27T16:05:29.050Z"
   },
   {
    "duration": 108,
    "start_time": "2023-02-27T16:34:57.796Z"
   },
   {
    "duration": 7,
    "start_time": "2023-02-27T16:35:54.451Z"
   },
   {
    "duration": 9,
    "start_time": "2023-02-27T16:47:55.101Z"
   },
   {
    "duration": 606,
    "start_time": "2023-02-27T16:48:05.628Z"
   },
   {
    "duration": 133,
    "start_time": "2023-02-27T16:48:10.686Z"
   },
   {
    "duration": 74,
    "start_time": "2023-02-27T16:58:44.418Z"
   },
   {
    "duration": 182,
    "start_time": "2023-02-27T16:58:56.573Z"
   },
   {
    "duration": 217,
    "start_time": "2023-02-27T16:59:19.880Z"
   },
   {
    "duration": 134,
    "start_time": "2023-02-27T17:00:22.850Z"
   },
   {
    "duration": 132,
    "start_time": "2023-02-27T17:00:32.870Z"
   },
   {
    "duration": 107,
    "start_time": "2023-02-27T17:01:06.743Z"
   },
   {
    "duration": 164,
    "start_time": "2023-02-27T17:01:19.509Z"
   },
   {
    "duration": 118,
    "start_time": "2023-02-27T17:01:35.463Z"
   },
   {
    "duration": 126,
    "start_time": "2023-02-27T17:01:41.756Z"
   },
   {
    "duration": 133,
    "start_time": "2023-02-27T17:04:34.696Z"
   },
   {
    "duration": 139,
    "start_time": "2023-02-27T17:04:42.107Z"
   },
   {
    "duration": 149,
    "start_time": "2023-02-27T17:11:18.932Z"
   },
   {
    "duration": 147,
    "start_time": "2023-02-27T17:11:52.664Z"
   },
   {
    "duration": 117,
    "start_time": "2023-02-27T17:14:11.954Z"
   },
   {
    "duration": 126,
    "start_time": "2023-02-27T17:14:30.088Z"
   },
   {
    "duration": 133,
    "start_time": "2023-02-27T17:14:43.976Z"
   },
   {
    "duration": 106,
    "start_time": "2023-02-27T17:14:54.547Z"
   },
   {
    "duration": 217,
    "start_time": "2023-02-27T17:14:58.595Z"
   },
   {
    "duration": 115,
    "start_time": "2023-02-27T17:15:02.649Z"
   },
   {
    "duration": 269,
    "start_time": "2023-02-27T17:15:09.719Z"
   },
   {
    "duration": 115,
    "start_time": "2023-02-27T17:15:16.987Z"
   },
   {
    "duration": 142,
    "start_time": "2023-02-27T17:17:51.369Z"
   },
   {
    "duration": 154,
    "start_time": "2023-02-27T17:18:38.008Z"
   },
   {
    "duration": 159,
    "start_time": "2023-02-27T17:30:38.621Z"
   },
   {
    "duration": 102,
    "start_time": "2023-02-27T17:31:12.959Z"
   },
   {
    "duration": 110,
    "start_time": "2023-02-27T17:32:46.016Z"
   },
   {
    "duration": 114,
    "start_time": "2023-02-27T17:33:00.111Z"
   },
   {
    "duration": 104,
    "start_time": "2023-02-27T17:33:04.379Z"
   },
   {
    "duration": 120,
    "start_time": "2023-02-27T17:35:31.366Z"
   },
   {
    "duration": 127,
    "start_time": "2023-02-27T17:36:03.002Z"
   },
   {
    "duration": 110,
    "start_time": "2023-02-27T17:39:15.470Z"
   },
   {
    "duration": 119,
    "start_time": "2023-02-27T17:39:28.121Z"
   },
   {
    "duration": 6,
    "start_time": "2023-02-27T17:40:17.789Z"
   },
   {
    "duration": 6,
    "start_time": "2023-02-27T17:40:33.411Z"
   },
   {
    "duration": 77,
    "start_time": "2023-02-27T17:40:57.390Z"
   },
   {
    "duration": 8,
    "start_time": "2023-02-27T17:41:04.926Z"
   },
   {
    "duration": 8,
    "start_time": "2023-02-27T17:41:17.596Z"
   },
   {
    "duration": 9,
    "start_time": "2023-02-27T17:41:38.028Z"
   },
   {
    "duration": 8,
    "start_time": "2023-02-27T17:42:03.382Z"
   },
   {
    "duration": 9,
    "start_time": "2023-02-27T17:42:24.064Z"
   },
   {
    "duration": 112,
    "start_time": "2023-02-27T17:42:38.398Z"
   },
   {
    "duration": 127,
    "start_time": "2023-02-27T17:43:44.946Z"
   },
   {
    "duration": 110,
    "start_time": "2023-02-27T17:44:11.871Z"
   },
   {
    "duration": 119,
    "start_time": "2023-02-27T17:44:34.792Z"
   },
   {
    "duration": 125,
    "start_time": "2023-02-27T17:46:38.127Z"
   },
   {
    "duration": 221,
    "start_time": "2023-02-27T17:46:52.778Z"
   },
   {
    "duration": 121,
    "start_time": "2023-02-27T17:47:22.528Z"
   },
   {
    "duration": 110,
    "start_time": "2023-02-27T17:48:14.277Z"
   },
   {
    "duration": 121,
    "start_time": "2023-02-27T17:49:02.261Z"
   },
   {
    "duration": 113,
    "start_time": "2023-02-27T17:49:07.485Z"
   },
   {
    "duration": 141,
    "start_time": "2023-02-27T17:49:37.715Z"
   },
   {
    "duration": 120,
    "start_time": "2023-02-27T17:49:43.247Z"
   },
   {
    "duration": 114,
    "start_time": "2023-02-27T17:49:49.364Z"
   },
   {
    "duration": 89,
    "start_time": "2023-02-27T17:57:50.832Z"
   },
   {
    "duration": 78,
    "start_time": "2023-02-27T17:58:12.742Z"
   },
   {
    "duration": 102,
    "start_time": "2023-02-27T17:59:06.772Z"
   },
   {
    "duration": 115,
    "start_time": "2023-02-27T17:59:24.504Z"
   },
   {
    "duration": 107,
    "start_time": "2023-02-27T17:59:45.559Z"
   },
   {
    "duration": 102,
    "start_time": "2023-02-27T18:00:07.228Z"
   },
   {
    "duration": 107,
    "start_time": "2023-02-27T18:00:14.157Z"
   },
   {
    "duration": 101,
    "start_time": "2023-02-27T18:00:22.818Z"
   },
   {
    "duration": 103,
    "start_time": "2023-02-27T18:02:37.927Z"
   },
   {
    "duration": 125,
    "start_time": "2023-02-27T18:02:43.967Z"
   },
   {
    "duration": 145,
    "start_time": "2023-02-27T18:03:23.342Z"
   },
   {
    "duration": 113,
    "start_time": "2023-02-27T18:04:04.468Z"
   },
   {
    "duration": 206,
    "start_time": "2023-02-27T18:04:14.465Z"
   },
   {
    "duration": 115,
    "start_time": "2023-02-27T18:05:40.571Z"
   },
   {
    "duration": 114,
    "start_time": "2023-02-27T18:06:25.513Z"
   },
   {
    "duration": 714,
    "start_time": "2023-02-27T18:47:24.276Z"
   },
   {
    "duration": 21952,
    "start_time": "2023-02-27T18:48:10.271Z"
   },
   {
    "duration": 2399,
    "start_time": "2023-02-27T18:48:49.270Z"
   },
   {
    "duration": 8,
    "start_time": "2023-02-27T18:49:00.090Z"
   },
   {
    "duration": 1412,
    "start_time": "2023-02-28T15:34:16.851Z"
   },
   {
    "duration": 60,
    "start_time": "2023-02-28T15:34:18.266Z"
   },
   {
    "duration": 9,
    "start_time": "2023-02-28T15:34:18.328Z"
   },
   {
    "duration": 9,
    "start_time": "2023-02-28T15:34:18.338Z"
   },
   {
    "duration": 18,
    "start_time": "2023-02-28T15:34:18.348Z"
   },
   {
    "duration": 14,
    "start_time": "2023-02-28T15:34:18.367Z"
   },
   {
    "duration": 30,
    "start_time": "2023-02-28T15:34:18.383Z"
   },
   {
    "duration": 23,
    "start_time": "2023-02-28T15:34:18.415Z"
   },
   {
    "duration": 18,
    "start_time": "2023-02-28T15:34:18.440Z"
   },
   {
    "duration": 45,
    "start_time": "2023-02-28T15:34:18.461Z"
   },
   {
    "duration": 13,
    "start_time": "2023-02-28T15:34:18.509Z"
   },
   {
    "duration": 24,
    "start_time": "2023-02-28T15:34:18.524Z"
   },
   {
    "duration": 10,
    "start_time": "2023-02-28T15:34:18.551Z"
   },
   {
    "duration": 25,
    "start_time": "2023-02-28T15:34:18.562Z"
   },
   {
    "duration": 47,
    "start_time": "2023-02-28T15:34:18.588Z"
   },
   {
    "duration": 3,
    "start_time": "2023-02-28T15:34:18.637Z"
   },
   {
    "duration": 8,
    "start_time": "2023-02-28T15:34:18.642Z"
   },
   {
    "duration": 12,
    "start_time": "2023-02-28T15:34:18.652Z"
   },
   {
    "duration": 14,
    "start_time": "2023-02-28T15:34:18.666Z"
   },
   {
    "duration": 9,
    "start_time": "2023-02-28T15:34:18.681Z"
   },
   {
    "duration": 36,
    "start_time": "2023-02-28T15:34:18.706Z"
   },
   {
    "duration": 19,
    "start_time": "2023-02-28T15:34:18.744Z"
   },
   {
    "duration": 17,
    "start_time": "2023-02-28T15:34:18.764Z"
   },
   {
    "duration": 629,
    "start_time": "2023-02-28T15:34:18.783Z"
   },
   {
    "duration": 4,
    "start_time": "2023-02-28T15:34:19.415Z"
   },
   {
    "duration": 539,
    "start_time": "2023-02-28T15:34:19.421Z"
   },
   {
    "duration": 19370,
    "start_time": "2023-02-28T15:34:19.962Z"
   },
   {
    "duration": 2089,
    "start_time": "2023-02-28T15:34:39.336Z"
   },
   {
    "duration": 77,
    "start_time": "2023-02-28T15:34:41.427Z"
   },
   {
    "duration": 712,
    "start_time": "2023-02-28T15:34:41.506Z"
   },
   {
    "duration": 19303,
    "start_time": "2023-02-28T15:34:42.220Z"
   },
   {
    "duration": 2879,
    "start_time": "2023-02-28T15:35:01.524Z"
   },
   {
    "duration": 89,
    "start_time": "2023-02-28T15:35:04.405Z"
   },
   {
    "duration": 146,
    "start_time": "2023-02-28T16:04:56.474Z"
   },
   {
    "duration": 19,
    "start_time": "2023-02-28T16:05:43.586Z"
   },
   {
    "duration": 41,
    "start_time": "2023-02-28T16:05:58.275Z"
   },
   {
    "duration": 11,
    "start_time": "2023-02-28T16:06:07.148Z"
   },
   {
    "duration": 98,
    "start_time": "2023-02-28T16:06:36.501Z"
   },
   {
    "duration": 86,
    "start_time": "2023-02-28T16:06:50.943Z"
   },
   {
    "duration": 94,
    "start_time": "2023-02-28T16:13:27.208Z"
   },
   {
    "duration": 121,
    "start_time": "2023-02-28T16:14:02.788Z"
   },
   {
    "duration": 99,
    "start_time": "2023-02-28T16:14:08.092Z"
   },
   {
    "duration": 174,
    "start_time": "2023-02-28T16:14:17.227Z"
   },
   {
    "duration": 91,
    "start_time": "2023-02-28T16:15:03.577Z"
   },
   {
    "duration": 88,
    "start_time": "2023-02-28T16:15:27.125Z"
   },
   {
    "duration": 99,
    "start_time": "2023-02-28T16:17:05.219Z"
   },
   {
    "duration": 87,
    "start_time": "2023-02-28T16:17:23.474Z"
   },
   {
    "duration": 98,
    "start_time": "2023-02-28T16:17:38.420Z"
   },
   {
    "duration": 94,
    "start_time": "2023-02-28T16:21:13.766Z"
   },
   {
    "duration": 85,
    "start_time": "2023-02-28T16:21:41.216Z"
   },
   {
    "duration": 95,
    "start_time": "2023-02-28T16:21:59.775Z"
   },
   {
    "duration": 6,
    "start_time": "2023-02-28T16:22:35.335Z"
   },
   {
    "duration": 7,
    "start_time": "2023-02-28T16:23:22.055Z"
   },
   {
    "duration": 6,
    "start_time": "2023-02-28T16:23:26.832Z"
   },
   {
    "duration": 6,
    "start_time": "2023-02-28T16:23:31.671Z"
   },
   {
    "duration": 5,
    "start_time": "2023-02-28T16:23:41.518Z"
   },
   {
    "duration": 579,
    "start_time": "2023-02-28T16:26:58.649Z"
   },
   {
    "duration": 23606,
    "start_time": "2023-02-28T16:28:15.335Z"
   },
   {
    "duration": 2028,
    "start_time": "2023-02-28T16:30:13.967Z"
   },
   {
    "duration": 6,
    "start_time": "2023-02-28T16:32:22.817Z"
   },
   {
    "duration": 11,
    "start_time": "2023-02-28T16:48:20.677Z"
   },
   {
    "duration": 7,
    "start_time": "2023-02-28T16:48:22.452Z"
   },
   {
    "duration": 11,
    "start_time": "2023-02-28T16:48:31.386Z"
   },
   {
    "duration": 6,
    "start_time": "2023-02-28T16:48:33.472Z"
   },
   {
    "duration": 11,
    "start_time": "2023-02-28T16:48:40.430Z"
   },
   {
    "duration": 6,
    "start_time": "2023-02-28T16:48:42.439Z"
   },
   {
    "duration": 8,
    "start_time": "2023-02-28T16:48:54.452Z"
   },
   {
    "duration": 104,
    "start_time": "2023-02-28T16:49:56.937Z"
   },
   {
    "duration": 95,
    "start_time": "2023-02-28T16:50:07.913Z"
   },
   {
    "duration": 109,
    "start_time": "2023-02-28T16:50:17.579Z"
   },
   {
    "duration": 103,
    "start_time": "2023-02-28T16:50:46.126Z"
   },
   {
    "duration": 9,
    "start_time": "2023-02-28T16:53:24.670Z"
   },
   {
    "duration": 1224,
    "start_time": "2023-02-28T16:53:36.569Z"
   },
   {
    "duration": 10,
    "start_time": "2023-02-28T16:53:49.751Z"
   },
   {
    "duration": 9,
    "start_time": "2023-02-28T16:53:58.304Z"
   },
   {
    "duration": 9,
    "start_time": "2023-02-28T16:55:02.385Z"
   },
   {
    "duration": 6,
    "start_time": "2023-02-28T16:55:17.392Z"
   },
   {
    "duration": 5,
    "start_time": "2023-02-28T16:56:03.151Z"
   },
   {
    "duration": 7,
    "start_time": "2023-02-28T16:56:16.252Z"
   },
   {
    "duration": 8,
    "start_time": "2023-02-28T16:56:27.292Z"
   },
   {
    "duration": 11,
    "start_time": "2023-02-28T16:57:04.169Z"
   },
   {
    "duration": 101,
    "start_time": "2023-02-28T16:58:43.257Z"
   },
   {
    "duration": 96,
    "start_time": "2023-02-28T16:58:55.858Z"
   },
   {
    "duration": 101,
    "start_time": "2023-02-28T16:59:00.907Z"
   },
   {
    "duration": 96,
    "start_time": "2023-02-28T16:59:31.186Z"
   },
   {
    "duration": 7,
    "start_time": "2023-02-28T17:00:35.587Z"
   },
   {
    "duration": 7,
    "start_time": "2023-02-28T17:00:52.610Z"
   },
   {
    "duration": 283,
    "start_time": "2023-02-28T17:03:43.359Z"
   },
   {
    "duration": 10719,
    "start_time": "2023-02-28T17:04:42.311Z"
   },
   {
    "duration": 980,
    "start_time": "2023-02-28T17:05:42.412Z"
   },
   {
    "duration": 6,
    "start_time": "2023-02-28T17:07:39.176Z"
   },
   {
    "duration": 550,
    "start_time": "2023-02-28T17:12:04.432Z"
   },
   {
    "duration": 16984,
    "start_time": "2023-02-28T17:12:48.096Z"
   },
   {
    "duration": 1359,
    "start_time": "2023-02-28T17:13:42.832Z"
   },
   {
    "duration": 6,
    "start_time": "2023-02-28T17:15:16.787Z"
   },
   {
    "duration": 6,
    "start_time": "2023-02-28T17:25:36.624Z"
   },
   {
    "duration": 7,
    "start_time": "2023-02-28T18:01:24.304Z"
   },
   {
    "duration": 87,
    "start_time": "2023-02-28T18:03:08.784Z"
   },
   {
    "duration": 81,
    "start_time": "2023-02-28T18:06:25.174Z"
   },
   {
    "duration": 91,
    "start_time": "2023-02-28T18:13:33.519Z"
   },
   {
    "duration": 40,
    "start_time": "2023-02-28T18:14:24.243Z"
   },
   {
    "duration": 85,
    "start_time": "2023-02-28T18:14:29.697Z"
   },
   {
    "duration": 88,
    "start_time": "2023-02-28T18:19:47.026Z"
   },
   {
    "duration": 95,
    "start_time": "2023-02-28T18:25:27.749Z"
   },
   {
    "duration": 21280,
    "start_time": "2023-02-28T18:30:10.906Z"
   },
   {
    "duration": 5,
    "start_time": "2023-02-28T18:31:09.465Z"
   },
   {
    "duration": 19147,
    "start_time": "2023-02-28T18:31:12.524Z"
   },
   {
    "duration": 80,
    "start_time": "2023-02-28T19:12:34.524Z"
   },
   {
    "duration": 67,
    "start_time": "2023-02-28T19:14:03.494Z"
   },
   {
    "duration": 85,
    "start_time": "2023-02-28T19:15:04.268Z"
   },
   {
    "duration": 88,
    "start_time": "2023-02-28T19:15:16.190Z"
   },
   {
    "duration": 77,
    "start_time": "2023-02-28T19:16:26.200Z"
   },
   {
    "duration": 14786,
    "start_time": "2023-02-28T19:16:38.881Z"
   },
   {
    "duration": 84,
    "start_time": "2023-02-28T19:17:52.230Z"
   },
   {
    "duration": 40,
    "start_time": "2023-02-28T19:18:22.941Z"
   },
   {
    "duration": 40,
    "start_time": "2023-02-28T19:18:22.983Z"
   },
   {
    "duration": 9,
    "start_time": "2023-02-28T19:18:23.024Z"
   },
   {
    "duration": 6,
    "start_time": "2023-02-28T19:18:23.036Z"
   },
   {
    "duration": 7,
    "start_time": "2023-02-28T19:18:23.044Z"
   },
   {
    "duration": 39,
    "start_time": "2023-02-28T19:18:23.053Z"
   },
   {
    "duration": 5,
    "start_time": "2023-02-28T19:18:23.094Z"
   },
   {
    "duration": 6,
    "start_time": "2023-02-28T19:18:23.101Z"
   },
   {
    "duration": 8,
    "start_time": "2023-02-28T19:18:23.109Z"
   },
   {
    "duration": 6,
    "start_time": "2023-02-28T19:18:23.120Z"
   },
   {
    "duration": 5,
    "start_time": "2023-02-28T19:18:23.128Z"
   },
   {
    "duration": 8,
    "start_time": "2023-02-28T19:18:23.135Z"
   },
   {
    "duration": 50,
    "start_time": "2023-02-28T19:18:23.144Z"
   },
   {
    "duration": 6,
    "start_time": "2023-02-28T19:18:23.196Z"
   },
   {
    "duration": 18,
    "start_time": "2023-02-28T19:18:23.204Z"
   },
   {
    "duration": 3,
    "start_time": "2023-02-28T19:18:23.224Z"
   },
   {
    "duration": 7,
    "start_time": "2023-02-28T19:18:23.229Z"
   },
   {
    "duration": 5,
    "start_time": "2023-02-28T19:18:23.237Z"
   },
   {
    "duration": 7,
    "start_time": "2023-02-28T19:18:23.244Z"
   },
   {
    "duration": 10,
    "start_time": "2023-02-28T19:18:23.291Z"
   },
   {
    "duration": 23,
    "start_time": "2023-02-28T19:18:23.302Z"
   },
   {
    "duration": 18,
    "start_time": "2023-02-28T19:18:23.327Z"
   },
   {
    "duration": 56,
    "start_time": "2023-02-28T19:18:23.347Z"
   },
   {
    "duration": 113,
    "start_time": "2023-02-28T19:18:23.404Z"
   },
   {
    "duration": 3,
    "start_time": "2023-02-28T19:18:23.519Z"
   },
   {
    "duration": 529,
    "start_time": "2023-02-28T19:18:23.523Z"
   },
   {
    "duration": 16251,
    "start_time": "2023-02-28T19:18:24.054Z"
   },
   {
    "duration": 1388,
    "start_time": "2023-02-28T19:18:40.307Z"
   },
   {
    "duration": 96,
    "start_time": "2023-02-28T19:18:41.697Z"
   },
   {
    "duration": 14,
    "start_time": "2023-02-28T19:18:41.794Z"
   },
   {
    "duration": 5,
    "start_time": "2023-02-28T19:18:41.812Z"
   },
   {
    "duration": 603,
    "start_time": "2023-02-28T19:18:41.818Z"
   },
   {
    "duration": 21634,
    "start_time": "2023-02-28T19:18:42.422Z"
   },
   {
    "duration": 1538,
    "start_time": "2023-02-28T19:19:04.058Z"
   },
   {
    "duration": 95,
    "start_time": "2023-02-28T19:19:05.599Z"
   },
   {
    "duration": 17,
    "start_time": "2023-02-28T19:19:05.696Z"
   },
   {
    "duration": 5,
    "start_time": "2023-02-28T19:19:05.714Z"
   },
   {
    "duration": 323,
    "start_time": "2023-02-28T19:19:05.721Z"
   },
   {
    "duration": 10155,
    "start_time": "2023-02-28T19:19:06.046Z"
   },
   {
    "duration": 903,
    "start_time": "2023-02-28T19:19:16.202Z"
   },
   {
    "duration": 98,
    "start_time": "2023-02-28T19:19:17.193Z"
   },
   {
    "duration": 532,
    "start_time": "2023-02-28T19:19:17.294Z"
   },
   {
    "duration": 16642,
    "start_time": "2023-02-28T19:19:17.827Z"
   },
   {
    "duration": 1419,
    "start_time": "2023-02-28T19:19:34.471Z"
   },
   {
    "duration": 99,
    "start_time": "2023-02-28T19:19:35.893Z"
   },
   {
    "duration": 7,
    "start_time": "2023-02-28T19:19:35.994Z"
   },
   {
    "duration": 6,
    "start_time": "2023-02-28T19:19:36.002Z"
   },
   {
    "duration": 15128,
    "start_time": "2023-02-28T19:19:36.010Z"
   },
   {
    "duration": 87,
    "start_time": "2023-02-28T19:19:51.140Z"
   },
   {
    "duration": 18151,
    "start_time": "2023-02-28T19:20:47.689Z"
   },
   {
    "duration": 40,
    "start_time": "2023-02-28T19:25:52.468Z"
   },
   {
    "duration": 36,
    "start_time": "2023-02-28T19:25:52.510Z"
   },
   {
    "duration": 9,
    "start_time": "2023-02-28T19:25:52.547Z"
   },
   {
    "duration": 12,
    "start_time": "2023-02-28T19:25:52.558Z"
   },
   {
    "duration": 25,
    "start_time": "2023-02-28T19:25:52.572Z"
   },
   {
    "duration": 7,
    "start_time": "2023-02-28T19:25:52.599Z"
   },
   {
    "duration": 18,
    "start_time": "2023-02-28T19:25:52.607Z"
   },
   {
    "duration": 8,
    "start_time": "2023-02-28T19:25:52.626Z"
   },
   {
    "duration": 6,
    "start_time": "2023-02-28T19:25:52.636Z"
   },
   {
    "duration": 6,
    "start_time": "2023-02-28T19:25:52.643Z"
   },
   {
    "duration": 6,
    "start_time": "2023-02-28T19:25:52.650Z"
   },
   {
    "duration": 35,
    "start_time": "2023-02-28T19:25:52.657Z"
   },
   {
    "duration": 4,
    "start_time": "2023-02-28T19:25:52.694Z"
   },
   {
    "duration": 6,
    "start_time": "2023-02-28T19:25:52.700Z"
   },
   {
    "duration": 19,
    "start_time": "2023-02-28T19:25:52.708Z"
   },
   {
    "duration": 3,
    "start_time": "2023-02-28T19:25:52.729Z"
   },
   {
    "duration": 8,
    "start_time": "2023-02-28T19:25:52.734Z"
   },
   {
    "duration": 6,
    "start_time": "2023-02-28T19:25:52.744Z"
   },
   {
    "duration": 7,
    "start_time": "2023-02-28T19:25:52.752Z"
   },
   {
    "duration": 9,
    "start_time": "2023-02-28T19:25:52.793Z"
   },
   {
    "duration": 20,
    "start_time": "2023-02-28T19:25:52.804Z"
   },
   {
    "duration": 17,
    "start_time": "2023-02-28T19:25:52.826Z"
   },
   {
    "duration": 49,
    "start_time": "2023-02-28T19:25:52.846Z"
   },
   {
    "duration": 119,
    "start_time": "2023-02-28T19:25:52.897Z"
   },
   {
    "duration": 3,
    "start_time": "2023-02-28T19:25:53.018Z"
   },
   {
    "duration": 504,
    "start_time": "2023-02-28T19:25:53.023Z"
   },
   {
    "duration": 17042,
    "start_time": "2023-02-28T19:25:53.529Z"
   },
   {
    "duration": 1323,
    "start_time": "2023-02-28T19:26:10.572Z"
   },
   {
    "duration": 96,
    "start_time": "2023-02-28T19:26:11.899Z"
   },
   {
    "duration": 49,
    "start_time": "2023-02-28T19:26:11.997Z"
   },
   {
    "duration": 24,
    "start_time": "2023-02-28T19:26:12.048Z"
   },
   {
    "duration": 630,
    "start_time": "2023-02-28T19:26:12.073Z"
   },
   {
    "duration": 22387,
    "start_time": "2023-02-28T19:26:12.705Z"
   },
   {
    "duration": 2201,
    "start_time": "2023-02-28T19:26:35.094Z"
   },
   {
    "duration": 9,
    "start_time": "2023-02-28T19:26:37.298Z"
   },
   {
    "duration": 117,
    "start_time": "2023-02-28T19:26:37.312Z"
   },
   {
    "duration": 8,
    "start_time": "2023-02-28T19:26:37.431Z"
   },
   {
    "duration": 334,
    "start_time": "2023-02-28T19:26:37.443Z"
   },
   {
    "duration": 11376,
    "start_time": "2023-02-28T19:26:37.779Z"
   },
   {
    "duration": 4541,
    "start_time": "2023-02-28T19:26:49.157Z"
   },
   {
    "duration": 93,
    "start_time": "2023-02-28T19:26:53.701Z"
   },
   {
    "duration": 651,
    "start_time": "2023-02-28T19:26:53.796Z"
   },
   {
    "duration": 17422,
    "start_time": "2023-02-28T19:26:54.449Z"
   },
   {
    "duration": 1120,
    "start_time": "2023-02-28T19:27:11.872Z"
   },
   {
    "duration": 99,
    "start_time": "2023-02-28T19:27:12.994Z"
   },
   {
    "duration": 4,
    "start_time": "2023-02-28T19:27:13.095Z"
   },
   {
    "duration": 15,
    "start_time": "2023-02-28T19:27:13.101Z"
   },
   {
    "duration": 19511,
    "start_time": "2023-02-28T19:27:13.118Z"
   },
   {
    "duration": 101,
    "start_time": "2023-02-28T19:27:32.632Z"
   },
   {
    "duration": 1322,
    "start_time": "2023-03-01T02:45:35.642Z"
   },
   {
    "duration": 50,
    "start_time": "2023-03-01T02:45:36.966Z"
   },
   {
    "duration": 9,
    "start_time": "2023-03-01T02:45:37.018Z"
   },
   {
    "duration": 40,
    "start_time": "2023-03-01T02:45:37.029Z"
   },
   {
    "duration": 9,
    "start_time": "2023-03-01T02:45:37.071Z"
   },
   {
    "duration": 20,
    "start_time": "2023-03-01T02:45:37.082Z"
   },
   {
    "duration": 7,
    "start_time": "2023-03-01T02:45:37.104Z"
   },
   {
    "duration": 15,
    "start_time": "2023-03-01T02:45:37.113Z"
   },
   {
    "duration": 10,
    "start_time": "2023-03-01T02:45:37.129Z"
   },
   {
    "duration": 22,
    "start_time": "2023-03-01T02:45:37.141Z"
   },
   {
    "duration": 16,
    "start_time": "2023-03-01T02:45:37.165Z"
   },
   {
    "duration": 8,
    "start_time": "2023-03-01T02:45:37.182Z"
   },
   {
    "duration": 8,
    "start_time": "2023-03-01T02:45:37.192Z"
   },
   {
    "duration": 31,
    "start_time": "2023-03-01T02:45:37.201Z"
   },
   {
    "duration": 44,
    "start_time": "2023-03-01T02:45:37.234Z"
   },
   {
    "duration": 4,
    "start_time": "2023-03-01T02:45:37.280Z"
   },
   {
    "duration": 25,
    "start_time": "2023-03-01T02:45:37.285Z"
   },
   {
    "duration": 5,
    "start_time": "2023-03-01T02:45:37.311Z"
   },
   {
    "duration": 125,
    "start_time": "2023-03-01T02:45:37.317Z"
   },
   {
    "duration": 0,
    "start_time": "2023-03-01T02:45:37.444Z"
   },
   {
    "duration": 0,
    "start_time": "2023-03-01T02:45:37.446Z"
   },
   {
    "duration": 0,
    "start_time": "2023-03-01T02:45:37.447Z"
   },
   {
    "duration": 0,
    "start_time": "2023-03-01T02:45:37.448Z"
   },
   {
    "duration": 0,
    "start_time": "2023-03-01T02:45:37.449Z"
   },
   {
    "duration": 0,
    "start_time": "2023-03-01T02:45:37.451Z"
   },
   {
    "duration": 0,
    "start_time": "2023-03-01T02:45:37.452Z"
   },
   {
    "duration": 0,
    "start_time": "2023-03-01T02:45:37.453Z"
   },
   {
    "duration": 0,
    "start_time": "2023-03-01T02:45:37.454Z"
   },
   {
    "duration": 0,
    "start_time": "2023-03-01T02:45:37.455Z"
   },
   {
    "duration": 0,
    "start_time": "2023-03-01T02:45:37.455Z"
   },
   {
    "duration": 0,
    "start_time": "2023-03-01T02:45:37.456Z"
   },
   {
    "duration": 0,
    "start_time": "2023-03-01T02:45:37.457Z"
   },
   {
    "duration": 0,
    "start_time": "2023-03-01T02:45:37.458Z"
   },
   {
    "duration": 0,
    "start_time": "2023-03-01T02:45:37.459Z"
   },
   {
    "duration": 0,
    "start_time": "2023-03-01T02:45:37.460Z"
   },
   {
    "duration": 0,
    "start_time": "2023-03-01T02:45:37.464Z"
   },
   {
    "duration": 0,
    "start_time": "2023-03-01T02:45:37.467Z"
   },
   {
    "duration": 0,
    "start_time": "2023-03-01T02:45:37.468Z"
   },
   {
    "duration": 0,
    "start_time": "2023-03-01T02:45:37.470Z"
   },
   {
    "duration": 0,
    "start_time": "2023-03-01T02:45:37.471Z"
   },
   {
    "duration": 0,
    "start_time": "2023-03-01T02:45:37.472Z"
   },
   {
    "duration": 0,
    "start_time": "2023-03-01T02:45:37.482Z"
   },
   {
    "duration": 0,
    "start_time": "2023-03-01T02:45:37.484Z"
   },
   {
    "duration": 0,
    "start_time": "2023-03-01T02:45:37.485Z"
   },
   {
    "duration": 0,
    "start_time": "2023-03-01T02:45:37.487Z"
   },
   {
    "duration": 0,
    "start_time": "2023-03-01T02:45:37.487Z"
   },
   {
    "duration": 0,
    "start_time": "2023-03-01T02:45:37.489Z"
   },
   {
    "duration": 0,
    "start_time": "2023-03-01T02:45:37.490Z"
   },
   {
    "duration": 0,
    "start_time": "2023-03-01T02:45:37.545Z"
   },
   {
    "duration": 14,
    "start_time": "2023-03-01T02:46:45.682Z"
   },
   {
    "duration": 89,
    "start_time": "2023-03-01T02:48:37.691Z"
   },
   {
    "duration": 18,
    "start_time": "2023-03-01T02:48:49.920Z"
   },
   {
    "duration": 11,
    "start_time": "2023-03-01T02:50:09.629Z"
   },
   {
    "duration": 8,
    "start_time": "2023-03-01T02:51:58.757Z"
   },
   {
    "duration": 12,
    "start_time": "2023-03-01T02:54:12.851Z"
   },
   {
    "duration": 83,
    "start_time": "2023-03-01T02:54:36.893Z"
   },
   {
    "duration": 42,
    "start_time": "2023-03-01T04:08:54.569Z"
   },
   {
    "duration": 47,
    "start_time": "2023-03-01T04:08:54.613Z"
   },
   {
    "duration": 12,
    "start_time": "2023-03-01T04:08:54.661Z"
   },
   {
    "duration": 16,
    "start_time": "2023-03-01T04:08:54.675Z"
   },
   {
    "duration": 10,
    "start_time": "2023-03-01T04:08:54.692Z"
   },
   {
    "duration": 9,
    "start_time": "2023-03-01T04:08:54.703Z"
   },
   {
    "duration": 9,
    "start_time": "2023-03-01T04:08:54.713Z"
   },
   {
    "duration": 8,
    "start_time": "2023-03-01T04:08:54.724Z"
   },
   {
    "duration": 25,
    "start_time": "2023-03-01T04:08:54.734Z"
   },
   {
    "duration": 27,
    "start_time": "2023-03-01T04:08:54.768Z"
   },
   {
    "duration": 10,
    "start_time": "2023-03-01T04:08:54.796Z"
   },
   {
    "duration": 9,
    "start_time": "2023-03-01T04:08:54.809Z"
   },
   {
    "duration": 8,
    "start_time": "2023-03-01T04:08:54.820Z"
   },
   {
    "duration": 5,
    "start_time": "2023-03-01T04:08:54.830Z"
   },
   {
    "duration": 56,
    "start_time": "2023-03-01T04:08:54.837Z"
   },
   {
    "duration": 4,
    "start_time": "2023-03-01T04:08:54.895Z"
   },
   {
    "duration": 9,
    "start_time": "2023-03-01T04:08:54.901Z"
   },
   {
    "duration": 7,
    "start_time": "2023-03-01T04:08:54.911Z"
   },
   {
    "duration": 12,
    "start_time": "2023-03-01T04:08:54.920Z"
   },
   {
    "duration": 14,
    "start_time": "2023-03-01T04:08:54.934Z"
   },
   {
    "duration": 54,
    "start_time": "2023-03-01T04:08:54.949Z"
   },
   {
    "duration": 19,
    "start_time": "2023-03-01T04:08:55.005Z"
   },
   {
    "duration": 22,
    "start_time": "2023-03-01T04:08:55.026Z"
   },
   {
    "duration": 663,
    "start_time": "2023-03-01T04:08:55.055Z"
   },
   {
    "duration": 11,
    "start_time": "2023-03-01T04:08:55.720Z"
   },
   {
    "duration": 19,
    "start_time": "2023-03-01T04:08:55.733Z"
   },
   {
    "duration": 573,
    "start_time": "2023-03-01T04:08:55.754Z"
   },
   {
    "duration": 19728,
    "start_time": "2023-03-01T04:08:56.329Z"
   },
   {
    "duration": 3684,
    "start_time": "2023-03-01T04:09:16.065Z"
   },
   {
    "duration": 11,
    "start_time": "2023-03-01T04:09:19.751Z"
   },
   {
    "duration": 118,
    "start_time": "2023-03-01T04:09:19.764Z"
   },
   {
    "duration": 6,
    "start_time": "2023-03-01T04:09:19.883Z"
   },
   {
    "duration": 769,
    "start_time": "2023-03-01T04:09:19.890Z"
   },
   {
    "duration": 25131,
    "start_time": "2023-03-01T04:09:20.663Z"
   },
   {
    "duration": 3855,
    "start_time": "2023-03-01T04:09:45.796Z"
   },
   {
    "duration": 8,
    "start_time": "2023-03-01T04:09:49.652Z"
   },
   {
    "duration": 125,
    "start_time": "2023-03-01T04:09:49.662Z"
   },
   {
    "duration": 6,
    "start_time": "2023-03-01T04:09:49.788Z"
   },
   {
    "duration": 322,
    "start_time": "2023-03-01T04:09:49.795Z"
   },
   {
    "duration": 12064,
    "start_time": "2023-03-01T04:09:50.119Z"
   },
   {
    "duration": 2964,
    "start_time": "2023-03-01T04:10:02.185Z"
   },
   {
    "duration": 17,
    "start_time": "2023-03-01T04:10:05.151Z"
   },
   {
    "duration": 732,
    "start_time": "2023-03-01T04:10:05.174Z"
   },
   {
    "duration": 19434,
    "start_time": "2023-03-01T04:10:05.908Z"
   },
   {
    "duration": 2906,
    "start_time": "2023-03-01T04:10:25.345Z"
   },
   {
    "duration": 99,
    "start_time": "2023-03-01T04:10:28.255Z"
   },
   {
    "duration": 24,
    "start_time": "2023-03-01T04:10:28.360Z"
   },
   {
    "duration": 7,
    "start_time": "2023-03-01T04:10:28.386Z"
   },
   {
    "duration": 58,
    "start_time": "2023-03-01T04:10:28.394Z"
   },
   {
    "duration": 0,
    "start_time": "2023-03-01T04:10:28.459Z"
   },
   {
    "duration": 94,
    "start_time": "2023-03-01T04:23:04.779Z"
   },
   {
    "duration": 22164,
    "start_time": "2023-03-01T04:23:44.760Z"
   },
   {
    "duration": 43,
    "start_time": "2023-03-01T04:27:20.276Z"
   },
   {
    "duration": 61,
    "start_time": "2023-03-01T04:27:20.321Z"
   },
   {
    "duration": 12,
    "start_time": "2023-03-01T04:27:20.385Z"
   },
   {
    "duration": 22,
    "start_time": "2023-03-01T04:27:20.400Z"
   },
   {
    "duration": 30,
    "start_time": "2023-03-01T04:27:20.425Z"
   },
   {
    "duration": 21,
    "start_time": "2023-03-01T04:27:20.457Z"
   },
   {
    "duration": 24,
    "start_time": "2023-03-01T04:27:20.481Z"
   },
   {
    "duration": 17,
    "start_time": "2023-03-01T04:27:20.508Z"
   },
   {
    "duration": 12,
    "start_time": "2023-03-01T04:27:20.527Z"
   },
   {
    "duration": 25,
    "start_time": "2023-03-01T04:27:20.542Z"
   },
   {
    "duration": 14,
    "start_time": "2023-03-01T04:27:20.569Z"
   },
   {
    "duration": 24,
    "start_time": "2023-03-01T04:27:20.584Z"
   },
   {
    "duration": 8,
    "start_time": "2023-03-01T04:27:20.611Z"
   },
   {
    "duration": 21,
    "start_time": "2023-03-01T04:27:20.621Z"
   },
   {
    "duration": 63,
    "start_time": "2023-03-01T04:27:20.644Z"
   },
   {
    "duration": 5,
    "start_time": "2023-03-01T04:27:20.709Z"
   },
   {
    "duration": 17,
    "start_time": "2023-03-01T04:27:20.716Z"
   },
   {
    "duration": 0,
    "start_time": "2023-03-01T04:27:20.736Z"
   },
   {
    "duration": 0,
    "start_time": "2023-03-01T04:27:20.737Z"
   },
   {
    "duration": 0,
    "start_time": "2023-03-01T04:27:20.739Z"
   },
   {
    "duration": 0,
    "start_time": "2023-03-01T04:27:20.740Z"
   },
   {
    "duration": 0,
    "start_time": "2023-03-01T04:27:20.742Z"
   },
   {
    "duration": 0,
    "start_time": "2023-03-01T04:27:20.743Z"
   },
   {
    "duration": 1,
    "start_time": "2023-03-01T04:27:20.754Z"
   },
   {
    "duration": 0,
    "start_time": "2023-03-01T04:27:20.756Z"
   },
   {
    "duration": 0,
    "start_time": "2023-03-01T04:27:20.756Z"
   },
   {
    "duration": 0,
    "start_time": "2023-03-01T04:27:20.757Z"
   },
   {
    "duration": 0,
    "start_time": "2023-03-01T04:27:20.758Z"
   },
   {
    "duration": 0,
    "start_time": "2023-03-01T04:27:20.759Z"
   },
   {
    "duration": 0,
    "start_time": "2023-03-01T04:27:20.761Z"
   },
   {
    "duration": 0,
    "start_time": "2023-03-01T04:27:20.762Z"
   },
   {
    "duration": 0,
    "start_time": "2023-03-01T04:27:20.763Z"
   },
   {
    "duration": 0,
    "start_time": "2023-03-01T04:27:20.764Z"
   },
   {
    "duration": 0,
    "start_time": "2023-03-01T04:27:20.766Z"
   },
   {
    "duration": 0,
    "start_time": "2023-03-01T04:27:20.767Z"
   },
   {
    "duration": 9,
    "start_time": "2023-03-01T04:27:20.771Z"
   },
   {
    "duration": 19,
    "start_time": "2023-03-01T04:27:20.782Z"
   },
   {
    "duration": 52,
    "start_time": "2023-03-01T04:27:20.803Z"
   },
   {
    "duration": 354,
    "start_time": "2023-03-01T04:27:20.857Z"
   },
   {
    "duration": 11609,
    "start_time": "2023-03-01T04:27:21.213Z"
   },
   {
    "duration": 2536,
    "start_time": "2023-03-01T04:27:32.824Z"
   },
   {
    "duration": 92,
    "start_time": "2023-03-01T04:27:35.364Z"
   },
   {
    "duration": 584,
    "start_time": "2023-03-01T04:27:35.459Z"
   },
   {
    "duration": 18699,
    "start_time": "2023-03-01T04:27:36.044Z"
   },
   {
    "duration": 2302,
    "start_time": "2023-03-01T04:27:54.757Z"
   },
   {
    "duration": 91,
    "start_time": "2023-03-01T04:27:57.067Z"
   },
   {
    "duration": 10,
    "start_time": "2023-03-01T04:27:57.160Z"
   },
   {
    "duration": 10,
    "start_time": "2023-03-01T04:27:57.172Z"
   },
   {
    "duration": 22514,
    "start_time": "2023-03-01T04:27:57.183Z"
   },
   {
    "duration": 98,
    "start_time": "2023-03-01T04:28:19.699Z"
   },
   {
    "duration": 8,
    "start_time": "2023-03-01T06:21:14.625Z"
   },
   {
    "duration": 7,
    "start_time": "2023-03-01T06:21:16.879Z"
   },
   {
    "duration": 6,
    "start_time": "2023-03-01T06:21:25.578Z"
   },
   {
    "duration": 9,
    "start_time": "2023-03-01T06:21:56.723Z"
   },
   {
    "duration": 21,
    "start_time": "2023-03-01T06:21:57.273Z"
   },
   {
    "duration": 18,
    "start_time": "2023-03-01T06:22:01.017Z"
   },
   {
    "duration": 19,
    "start_time": "2023-03-01T06:22:02.108Z"
   },
   {
    "duration": 118,
    "start_time": "2023-03-01T06:22:06.497Z"
   },
   {
    "duration": 8,
    "start_time": "2023-03-01T06:22:16.802Z"
   },
   {
    "duration": 3,
    "start_time": "2023-03-01T06:34:03.795Z"
   },
   {
    "duration": 473,
    "start_time": "2023-03-01T06:34:09.224Z"
   },
   {
    "duration": 15699,
    "start_time": "2023-03-01T06:34:14.464Z"
   },
   {
    "duration": 1763,
    "start_time": "2023-03-01T06:34:33.594Z"
   },
   {
    "duration": 6,
    "start_time": "2023-03-01T06:34:55.287Z"
   },
   {
    "duration": 89,
    "start_time": "2023-03-01T06:35:08.136Z"
   },
   {
    "duration": 7,
    "start_time": "2023-03-01T06:35:10.482Z"
   },
   {
    "duration": 608,
    "start_time": "2023-03-01T06:35:27.591Z"
   },
   {
    "duration": 20612,
    "start_time": "2023-03-01T06:35:36.831Z"
   },
   {
    "duration": 2233,
    "start_time": "2023-03-01T06:36:27.915Z"
   },
   {
    "duration": 6,
    "start_time": "2023-03-01T06:36:38.365Z"
   },
   {
    "duration": 11,
    "start_time": "2023-03-01T06:36:46.012Z"
   },
   {
    "duration": 6,
    "start_time": "2023-03-01T06:36:48.234Z"
   },
   {
    "duration": 290,
    "start_time": "2023-03-01T06:36:50.810Z"
   },
   {
    "duration": 10401,
    "start_time": "2023-03-01T06:36:55.915Z"
   },
   {
    "duration": 1427,
    "start_time": "2023-03-01T06:37:20.132Z"
   },
   {
    "duration": 7,
    "start_time": "2023-03-01T06:37:24.326Z"
   },
   {
    "duration": 489,
    "start_time": "2023-03-01T06:37:40.588Z"
   },
   {
    "duration": 15714,
    "start_time": "2023-03-01T06:37:53.659Z"
   },
   {
    "duration": 1962,
    "start_time": "2023-03-01T06:38:15.588Z"
   },
   {
    "duration": 6,
    "start_time": "2023-03-01T06:38:20.257Z"
   },
   {
    "duration": 5,
    "start_time": "2023-03-01T06:38:32.059Z"
   },
   {
    "duration": 5,
    "start_time": "2023-03-01T06:38:42.886Z"
   },
   {
    "duration": 19069,
    "start_time": "2023-03-01T06:38:47.161Z"
   },
   {
    "duration": 84,
    "start_time": "2023-03-01T06:39:14.543Z"
   },
   {
    "duration": 81,
    "start_time": "2023-03-01T06:44:35.128Z"
   },
   {
    "duration": 66,
    "start_time": "2023-03-01T06:47:18.770Z"
   },
   {
    "duration": 15809,
    "start_time": "2023-03-01T06:47:55.621Z"
   },
   {
    "duration": 8,
    "start_time": "2023-03-01T07:20:39.888Z"
   },
   {
    "duration": 6,
    "start_time": "2023-03-01T07:20:41.100Z"
   },
   {
    "duration": 16,
    "start_time": "2023-03-01T07:20:42.740Z"
   },
   {
    "duration": 49,
    "start_time": "2023-03-01T07:20:57.335Z"
   },
   {
    "duration": 39,
    "start_time": "2023-03-01T07:20:57.385Z"
   },
   {
    "duration": 9,
    "start_time": "2023-03-01T07:20:57.426Z"
   },
   {
    "duration": 12,
    "start_time": "2023-03-01T07:20:57.436Z"
   },
   {
    "duration": 20,
    "start_time": "2023-03-01T07:20:57.450Z"
   },
   {
    "duration": 12,
    "start_time": "2023-03-01T07:20:57.472Z"
   },
   {
    "duration": 8,
    "start_time": "2023-03-01T07:20:57.485Z"
   },
   {
    "duration": 7,
    "start_time": "2023-03-01T07:20:57.494Z"
   },
   {
    "duration": 8,
    "start_time": "2023-03-01T07:20:57.502Z"
   },
   {
    "duration": 5,
    "start_time": "2023-03-01T07:20:57.512Z"
   },
   {
    "duration": 37,
    "start_time": "2023-03-01T07:20:57.518Z"
   },
   {
    "duration": 5,
    "start_time": "2023-03-01T07:20:57.557Z"
   },
   {
    "duration": 7,
    "start_time": "2023-03-01T07:20:57.564Z"
   },
   {
    "duration": 5,
    "start_time": "2023-03-01T07:20:57.573Z"
   },
   {
    "duration": 25,
    "start_time": "2023-03-01T07:20:57.580Z"
   },
   {
    "duration": 3,
    "start_time": "2023-03-01T07:20:57.606Z"
   },
   {
    "duration": 10,
    "start_time": "2023-03-01T07:20:57.611Z"
   },
   {
    "duration": 31,
    "start_time": "2023-03-01T07:20:57.623Z"
   },
   {
    "duration": 21,
    "start_time": "2023-03-01T07:20:57.656Z"
   },
   {
    "duration": 13,
    "start_time": "2023-03-01T07:20:57.679Z"
   },
   {
    "duration": 21,
    "start_time": "2023-03-01T07:20:57.694Z"
   },
   {
    "duration": 34,
    "start_time": "2023-03-01T07:20:57.716Z"
   },
   {
    "duration": 20,
    "start_time": "2023-03-01T07:20:57.757Z"
   },
   {
    "duration": 121,
    "start_time": "2023-03-01T07:20:57.779Z"
   },
   {
    "duration": 9,
    "start_time": "2023-03-01T07:20:57.901Z"
   },
   {
    "duration": 9,
    "start_time": "2023-03-01T07:20:57.912Z"
   },
   {
    "duration": 569,
    "start_time": "2023-03-01T07:20:57.922Z"
   },
   {
    "duration": 18538,
    "start_time": "2023-03-01T07:20:58.493Z"
   },
   {
    "duration": 2717,
    "start_time": "2023-03-01T07:21:17.032Z"
   },
   {
    "duration": 103,
    "start_time": "2023-03-01T07:21:19.755Z"
   },
   {
    "duration": 19,
    "start_time": "2023-03-01T07:21:19.861Z"
   },
   {
    "duration": 7,
    "start_time": "2023-03-01T07:21:19.882Z"
   },
   {
    "duration": 792,
    "start_time": "2023-03-01T07:21:19.890Z"
   },
   {
    "duration": 24410,
    "start_time": "2023-03-01T07:21:20.684Z"
   },
   {
    "duration": 3055,
    "start_time": "2023-03-01T07:21:45.096Z"
   },
   {
    "duration": 89,
    "start_time": "2023-03-01T07:21:48.157Z"
   },
   {
    "duration": 13,
    "start_time": "2023-03-01T07:21:48.260Z"
   },
   {
    "duration": 6,
    "start_time": "2023-03-01T07:21:48.275Z"
   },
   {
    "duration": 338,
    "start_time": "2023-03-01T07:21:48.283Z"
   },
   {
    "duration": 11599,
    "start_time": "2023-03-01T07:21:48.622Z"
   },
   {
    "duration": 1823,
    "start_time": "2023-03-01T07:22:00.222Z"
   },
   {
    "duration": 13,
    "start_time": "2023-03-01T07:22:02.047Z"
   },
   {
    "duration": 683,
    "start_time": "2023-03-01T07:22:02.062Z"
   },
   {
    "duration": 18580,
    "start_time": "2023-03-01T07:22:02.756Z"
   },
   {
    "duration": 2010,
    "start_time": "2023-03-01T07:22:21.338Z"
   },
   {
    "duration": 98,
    "start_time": "2023-03-01T07:22:23.353Z"
   },
   {
    "duration": 15,
    "start_time": "2023-03-01T07:22:23.453Z"
   },
   {
    "duration": 8,
    "start_time": "2023-03-01T07:22:23.470Z"
   },
   {
    "duration": 18348,
    "start_time": "2023-03-01T07:22:23.479Z"
   },
   {
    "duration": 84,
    "start_time": "2023-03-01T07:22:41.829Z"
   },
   {
    "duration": 371,
    "start_time": "2023-03-01T07:24:59.857Z"
   },
   {
    "duration": 161,
    "start_time": "2023-03-01T08:32:41.676Z"
   },
   {
    "duration": 167,
    "start_time": "2023-03-01T08:32:48.584Z"
   },
   {
    "duration": 348,
    "start_time": "2023-03-01T08:33:08.274Z"
   },
   {
    "duration": 349,
    "start_time": "2023-03-01T08:36:29.552Z"
   },
   {
    "duration": 376,
    "start_time": "2023-03-01T08:36:40.066Z"
   },
   {
    "duration": 353,
    "start_time": "2023-03-01T08:36:53.318Z"
   },
   {
    "duration": 45,
    "start_time": "2023-03-01T08:37:07.753Z"
   },
   {
    "duration": 49,
    "start_time": "2023-03-01T08:37:07.800Z"
   },
   {
    "duration": 10,
    "start_time": "2023-03-01T08:37:07.851Z"
   },
   {
    "duration": 12,
    "start_time": "2023-03-01T08:37:07.864Z"
   },
   {
    "duration": 16,
    "start_time": "2023-03-01T08:37:07.878Z"
   },
   {
    "duration": 12,
    "start_time": "2023-03-01T08:37:07.896Z"
   },
   {
    "duration": 6,
    "start_time": "2023-03-01T08:37:07.909Z"
   },
   {
    "duration": 8,
    "start_time": "2023-03-01T08:37:07.917Z"
   },
   {
    "duration": 6,
    "start_time": "2023-03-01T08:37:07.945Z"
   },
   {
    "duration": 9,
    "start_time": "2023-03-01T08:37:07.954Z"
   },
   {
    "duration": 11,
    "start_time": "2023-03-01T08:37:07.964Z"
   },
   {
    "duration": 22,
    "start_time": "2023-03-01T08:37:07.977Z"
   },
   {
    "duration": 9,
    "start_time": "2023-03-01T08:37:08.001Z"
   },
   {
    "duration": 14,
    "start_time": "2023-03-01T08:37:08.012Z"
   },
   {
    "duration": 35,
    "start_time": "2023-03-01T08:37:08.028Z"
   },
   {
    "duration": 4,
    "start_time": "2023-03-01T08:37:08.065Z"
   },
   {
    "duration": 31,
    "start_time": "2023-03-01T08:37:08.070Z"
   },
   {
    "duration": 16,
    "start_time": "2023-03-01T08:37:08.102Z"
   },
   {
    "duration": 13,
    "start_time": "2023-03-01T08:37:08.121Z"
   },
   {
    "duration": 23,
    "start_time": "2023-03-01T08:37:08.135Z"
   },
   {
    "duration": 29,
    "start_time": "2023-03-01T08:37:08.159Z"
   },
   {
    "duration": 18,
    "start_time": "2023-03-01T08:37:08.190Z"
   },
   {
    "duration": 24,
    "start_time": "2023-03-01T08:37:08.210Z"
   },
   {
    "duration": 125,
    "start_time": "2023-03-01T08:37:08.236Z"
   },
   {
    "duration": 8,
    "start_time": "2023-03-01T08:37:08.363Z"
   },
   {
    "duration": 4,
    "start_time": "2023-03-01T08:37:08.373Z"
   },
   {
    "duration": 573,
    "start_time": "2023-03-01T08:37:08.378Z"
   },
   {
    "duration": 17702,
    "start_time": "2023-03-01T08:37:08.953Z"
   },
   {
    "duration": 1394,
    "start_time": "2023-03-01T08:37:26.656Z"
   },
   {
    "duration": 95,
    "start_time": "2023-03-01T08:37:28.054Z"
   },
   {
    "duration": 21,
    "start_time": "2023-03-01T08:37:28.151Z"
   },
   {
    "duration": 7,
    "start_time": "2023-03-01T08:37:28.174Z"
   },
   {
    "duration": 739,
    "start_time": "2023-03-01T08:37:28.182Z"
   },
   {
    "duration": 23690,
    "start_time": "2023-03-01T08:37:28.925Z"
   },
   {
    "duration": 1630,
    "start_time": "2023-03-01T08:37:52.617Z"
   },
   {
    "duration": 98,
    "start_time": "2023-03-01T08:37:54.249Z"
   },
   {
    "duration": 38,
    "start_time": "2023-03-01T08:37:54.349Z"
   },
   {
    "duration": 25,
    "start_time": "2023-03-01T08:37:54.388Z"
   },
   {
    "duration": 322,
    "start_time": "2023-03-01T08:37:54.414Z"
   },
   {
    "duration": 11490,
    "start_time": "2023-03-01T08:37:54.745Z"
   },
   {
    "duration": 1003,
    "start_time": "2023-03-01T08:38:06.244Z"
   },
   {
    "duration": 97,
    "start_time": "2023-03-01T08:38:07.250Z"
   },
   {
    "duration": 589,
    "start_time": "2023-03-01T08:38:07.349Z"
   },
   {
    "duration": 17933,
    "start_time": "2023-03-01T08:38:07.939Z"
   },
   {
    "duration": 1579,
    "start_time": "2023-03-01T08:38:25.874Z"
   },
   {
    "duration": 94,
    "start_time": "2023-03-01T08:38:27.455Z"
   },
   {
    "duration": 16,
    "start_time": "2023-03-01T08:38:27.550Z"
   },
   {
    "duration": 8,
    "start_time": "2023-03-01T08:38:27.567Z"
   },
   {
    "duration": 381,
    "start_time": "2023-03-01T08:38:27.576Z"
   },
   {
    "duration": 44,
    "start_time": "2023-03-01T10:08:13.770Z"
   },
   {
    "duration": 43,
    "start_time": "2023-03-01T10:08:13.816Z"
   },
   {
    "duration": 9,
    "start_time": "2023-03-01T10:08:13.861Z"
   },
   {
    "duration": 9,
    "start_time": "2023-03-01T10:08:13.872Z"
   },
   {
    "duration": 47,
    "start_time": "2023-03-01T10:08:13.882Z"
   },
   {
    "duration": 10,
    "start_time": "2023-03-01T10:08:13.931Z"
   },
   {
    "duration": 6,
    "start_time": "2023-03-01T10:08:13.943Z"
   },
   {
    "duration": 13,
    "start_time": "2023-03-01T10:08:13.951Z"
   },
   {
    "duration": 7,
    "start_time": "2023-03-01T10:08:13.966Z"
   },
   {
    "duration": 7,
    "start_time": "2023-03-01T10:08:13.975Z"
   },
   {
    "duration": 6,
    "start_time": "2023-03-01T10:08:13.983Z"
   },
   {
    "duration": 6,
    "start_time": "2023-03-01T10:08:13.991Z"
   },
   {
    "duration": 7,
    "start_time": "2023-03-01T10:08:13.998Z"
   },
   {
    "duration": 40,
    "start_time": "2023-03-01T10:08:14.007Z"
   },
   {
    "duration": 21,
    "start_time": "2023-03-01T10:08:14.049Z"
   },
   {
    "duration": 4,
    "start_time": "2023-03-01T10:08:14.071Z"
   },
   {
    "duration": 12,
    "start_time": "2023-03-01T10:08:14.077Z"
   },
   {
    "duration": 7,
    "start_time": "2023-03-01T10:08:14.091Z"
   },
   {
    "duration": 8,
    "start_time": "2023-03-01T10:08:14.099Z"
   },
   {
    "duration": 10,
    "start_time": "2023-03-01T10:08:14.108Z"
   },
   {
    "duration": 30,
    "start_time": "2023-03-01T10:08:14.145Z"
   },
   {
    "duration": 19,
    "start_time": "2023-03-01T10:08:14.178Z"
   },
   {
    "duration": 18,
    "start_time": "2023-03-01T10:08:14.198Z"
   },
   {
    "duration": 138,
    "start_time": "2023-03-01T10:08:14.217Z"
   },
   {
    "duration": 8,
    "start_time": "2023-03-01T10:08:14.357Z"
   },
   {
    "duration": 7,
    "start_time": "2023-03-01T10:08:14.366Z"
   },
   {
    "duration": 545,
    "start_time": "2023-03-01T10:08:14.374Z"
   },
   {
    "duration": 17741,
    "start_time": "2023-03-01T10:08:14.921Z"
   },
   {
    "duration": 1507,
    "start_time": "2023-03-01T10:08:32.663Z"
   },
   {
    "duration": 9,
    "start_time": "2023-03-01T10:08:34.246Z"
   },
   {
    "duration": 15,
    "start_time": "2023-03-01T10:08:34.346Z"
   },
   {
    "duration": 10,
    "start_time": "2023-03-01T10:08:34.363Z"
   },
   {
    "duration": 679,
    "start_time": "2023-03-01T10:08:34.375Z"
   },
   {
    "duration": 23757,
    "start_time": "2023-03-01T10:08:35.056Z"
   },
   {
    "duration": 1840,
    "start_time": "2023-03-01T10:08:58.815Z"
   },
   {
    "duration": 91,
    "start_time": "2023-03-01T10:09:00.657Z"
   },
   {
    "duration": 42,
    "start_time": "2023-03-01T10:09:00.750Z"
   },
   {
    "duration": 38,
    "start_time": "2023-03-01T10:09:00.794Z"
   },
   {
    "duration": 339,
    "start_time": "2023-03-01T10:09:00.834Z"
   },
   {
    "duration": 11249,
    "start_time": "2023-03-01T10:09:01.175Z"
   },
   {
    "duration": 1221,
    "start_time": "2023-03-01T10:09:12.425Z"
   },
   {
    "duration": 6,
    "start_time": "2023-03-01T10:09:13.744Z"
   },
   {
    "duration": 572,
    "start_time": "2023-03-01T10:09:13.752Z"
   },
   {
    "duration": 18580,
    "start_time": "2023-03-01T10:09:14.325Z"
   },
   {
    "duration": 1642,
    "start_time": "2023-03-01T10:09:32.907Z"
   },
   {
    "duration": 96,
    "start_time": "2023-03-01T10:09:34.551Z"
   },
   {
    "duration": 13,
    "start_time": "2023-03-01T10:09:34.649Z"
   },
   {
    "duration": 12,
    "start_time": "2023-03-01T10:09:34.664Z"
   },
   {
    "duration": 378,
    "start_time": "2023-03-01T10:09:34.678Z"
   },
   {
    "duration": 26,
    "start_time": "2023-03-01T10:35:55.274Z"
   },
   {
    "duration": 42,
    "start_time": "2023-03-01T10:37:39.368Z"
   },
   {
    "duration": 40,
    "start_time": "2023-03-01T10:39:28.397Z"
   },
   {
    "duration": 29,
    "start_time": "2023-03-01T10:46:53.022Z"
   },
   {
    "duration": 6,
    "start_time": "2023-03-01T10:47:08.944Z"
   },
   {
    "duration": 8,
    "start_time": "2023-03-01T10:47:27.383Z"
   },
   {
    "duration": 7,
    "start_time": "2023-03-01T10:47:40.998Z"
   },
   {
    "duration": 6,
    "start_time": "2023-03-01T10:48:21.203Z"
   },
   {
    "duration": 8,
    "start_time": "2023-03-01T10:49:07.413Z"
   },
   {
    "duration": 10,
    "start_time": "2023-03-01T10:52:58.598Z"
   },
   {
    "duration": 45,
    "start_time": "2023-03-01T10:53:47.828Z"
   },
   {
    "duration": 6,
    "start_time": "2023-03-01T10:53:53.119Z"
   },
   {
    "duration": 5,
    "start_time": "2023-03-01T10:53:55.532Z"
   },
   {
    "duration": 11,
    "start_time": "2023-03-01T10:54:34.378Z"
   },
   {
    "duration": 42,
    "start_time": "2023-03-01T10:54:49.920Z"
   },
   {
    "duration": 113,
    "start_time": "2023-03-01T10:54:54.853Z"
   },
   {
    "duration": 107,
    "start_time": "2023-03-01T10:55:38.438Z"
   },
   {
    "duration": 110,
    "start_time": "2023-03-01T10:56:10.998Z"
   },
   {
    "duration": 111,
    "start_time": "2023-03-01T10:57:59.308Z"
   },
   {
    "duration": 125,
    "start_time": "2023-03-01T10:58:14.161Z"
   },
   {
    "duration": 331,
    "start_time": "2023-03-01T11:00:28.882Z"
   },
   {
    "duration": 189,
    "start_time": "2023-03-01T11:00:52.630Z"
   },
   {
    "duration": 173,
    "start_time": "2023-03-01T11:01:08.540Z"
   },
   {
    "duration": 183,
    "start_time": "2023-03-01T11:01:16.421Z"
   },
   {
    "duration": 169,
    "start_time": "2023-03-01T11:01:44.473Z"
   },
   {
    "duration": 184,
    "start_time": "2023-03-01T11:01:53.983Z"
   },
   {
    "duration": 217,
    "start_time": "2023-03-01T11:02:02.769Z"
   },
   {
    "duration": 190,
    "start_time": "2023-03-01T11:02:10.805Z"
   },
   {
    "duration": 222,
    "start_time": "2023-03-01T11:02:23.040Z"
   },
   {
    "duration": 233,
    "start_time": "2023-03-01T11:02:30.465Z"
   },
   {
    "duration": 196,
    "start_time": "2023-03-01T11:02:43.312Z"
   },
   {
    "duration": 181,
    "start_time": "2023-03-01T11:03:46.885Z"
   },
   {
    "duration": 282,
    "start_time": "2023-03-01T11:03:58.494Z"
   },
   {
    "duration": 192,
    "start_time": "2023-03-01T11:04:11.924Z"
   },
   {
    "duration": 174,
    "start_time": "2023-03-01T11:05:08.716Z"
   },
   {
    "duration": 182,
    "start_time": "2023-03-01T11:05:23.169Z"
   },
   {
    "duration": 174,
    "start_time": "2023-03-01T11:05:33.971Z"
   },
   {
    "duration": 7,
    "start_time": "2023-03-01T11:06:30.732Z"
   },
   {
    "duration": 6,
    "start_time": "2023-03-01T11:06:44.684Z"
   },
   {
    "duration": 8,
    "start_time": "2023-03-01T11:06:54.020Z"
   },
   {
    "duration": 1611,
    "start_time": "2023-03-01T17:50:29.742Z"
   },
   {
    "duration": 38,
    "start_time": "2023-03-01T17:50:31.355Z"
   },
   {
    "duration": 8,
    "start_time": "2023-03-01T17:50:31.394Z"
   },
   {
    "duration": 18,
    "start_time": "2023-03-01T17:50:31.403Z"
   },
   {
    "duration": 13,
    "start_time": "2023-03-01T17:50:31.423Z"
   },
   {
    "duration": 24,
    "start_time": "2023-03-01T17:50:31.438Z"
   },
   {
    "duration": 24,
    "start_time": "2023-03-01T17:50:31.464Z"
   },
   {
    "duration": 10,
    "start_time": "2023-03-01T17:50:31.490Z"
   },
   {
    "duration": 32,
    "start_time": "2023-03-01T17:50:31.501Z"
   },
   {
    "duration": 24,
    "start_time": "2023-03-01T17:50:31.534Z"
   },
   {
    "duration": 19,
    "start_time": "2023-03-01T17:50:31.559Z"
   },
   {
    "duration": 19,
    "start_time": "2023-03-01T17:50:31.579Z"
   },
   {
    "duration": 15,
    "start_time": "2023-03-01T17:50:31.599Z"
   },
   {
    "duration": 30,
    "start_time": "2023-03-01T17:50:31.616Z"
   },
   {
    "duration": 36,
    "start_time": "2023-03-01T17:50:31.647Z"
   },
   {
    "duration": 4,
    "start_time": "2023-03-01T17:50:31.684Z"
   },
   {
    "duration": 20,
    "start_time": "2023-03-01T17:50:31.689Z"
   },
   {
    "duration": 7,
    "start_time": "2023-03-01T17:50:31.710Z"
   },
   {
    "duration": 18,
    "start_time": "2023-03-01T17:50:31.718Z"
   },
   {
    "duration": 27,
    "start_time": "2023-03-01T17:50:31.737Z"
   },
   {
    "duration": 29,
    "start_time": "2023-03-01T17:50:31.765Z"
   },
   {
    "duration": 16,
    "start_time": "2023-03-01T17:50:31.795Z"
   },
   {
    "duration": 16,
    "start_time": "2023-03-01T17:50:31.812Z"
   },
   {
    "duration": 111,
    "start_time": "2023-03-01T17:50:31.829Z"
   },
   {
    "duration": 8,
    "start_time": "2023-03-01T17:50:31.947Z"
   },
   {
    "duration": 16,
    "start_time": "2023-03-01T17:50:31.956Z"
   },
   {
    "duration": 464,
    "start_time": "2023-03-01T17:50:31.974Z"
   },
   {
    "duration": 15279,
    "start_time": "2023-03-01T17:50:32.448Z"
   },
   {
    "duration": 1320,
    "start_time": "2023-03-01T17:50:47.729Z"
   },
   {
    "duration": 104,
    "start_time": "2023-03-01T17:50:49.051Z"
   },
   {
    "duration": 14,
    "start_time": "2023-03-01T17:50:49.157Z"
   },
   {
    "duration": 5,
    "start_time": "2023-03-01T17:50:49.172Z"
   },
   {
    "duration": 558,
    "start_time": "2023-03-01T17:50:49.178Z"
   },
   {
    "duration": 20335,
    "start_time": "2023-03-01T17:50:49.737Z"
   },
   {
    "duration": 1575,
    "start_time": "2023-03-01T17:51:10.073Z"
   },
   {
    "duration": 98,
    "start_time": "2023-03-01T17:51:11.653Z"
   },
   {
    "duration": 11,
    "start_time": "2023-03-01T17:51:11.752Z"
   },
   {
    "duration": 5,
    "start_time": "2023-03-01T17:51:11.764Z"
   },
   {
    "duration": 296,
    "start_time": "2023-03-01T17:51:11.770Z"
   },
   {
    "duration": 9551,
    "start_time": "2023-03-01T17:51:12.068Z"
   },
   {
    "duration": 1038,
    "start_time": "2023-03-01T17:51:21.622Z"
   },
   {
    "duration": 8,
    "start_time": "2023-03-01T17:51:22.749Z"
   },
   {
    "duration": 487,
    "start_time": "2023-03-01T17:51:22.849Z"
   },
   {
    "duration": 15608,
    "start_time": "2023-03-01T17:51:23.338Z"
   },
   {
    "duration": 1124,
    "start_time": "2023-03-01T17:51:38.948Z"
   },
   {
    "duration": 85,
    "start_time": "2023-03-01T17:51:40.073Z"
   },
   {
    "duration": 6,
    "start_time": "2023-03-01T17:51:40.248Z"
   },
   {
    "duration": 9,
    "start_time": "2023-03-01T17:51:40.255Z"
   },
   {
    "duration": 317,
    "start_time": "2023-03-01T17:51:40.266Z"
   },
   {
    "duration": 6,
    "start_time": "2023-03-01T17:51:40.584Z"
   },
   {
    "duration": 169,
    "start_time": "2023-03-01T17:51:40.591Z"
   },
   {
    "duration": 42,
    "start_time": "2023-03-01T19:42:37.771Z"
   },
   {
    "duration": 41,
    "start_time": "2023-03-01T19:42:37.814Z"
   },
   {
    "duration": 8,
    "start_time": "2023-03-01T19:42:37.862Z"
   },
   {
    "duration": 9,
    "start_time": "2023-03-01T19:42:37.874Z"
   },
   {
    "duration": 7,
    "start_time": "2023-03-01T19:42:37.884Z"
   },
   {
    "duration": 8,
    "start_time": "2023-03-01T19:42:37.892Z"
   },
   {
    "duration": 12,
    "start_time": "2023-03-01T19:42:37.901Z"
   },
   {
    "duration": 13,
    "start_time": "2023-03-01T19:42:37.915Z"
   },
   {
    "duration": 7,
    "start_time": "2023-03-01T19:42:37.930Z"
   },
   {
    "duration": 4,
    "start_time": "2023-03-01T19:42:37.938Z"
   },
   {
    "duration": 16,
    "start_time": "2023-03-01T19:42:37.947Z"
   },
   {
    "duration": 19,
    "start_time": "2023-03-01T19:42:37.964Z"
   },
   {
    "duration": 5,
    "start_time": "2023-03-01T19:42:37.984Z"
   },
   {
    "duration": 5,
    "start_time": "2023-03-01T19:42:37.991Z"
   },
   {
    "duration": 17,
    "start_time": "2023-03-01T19:42:37.998Z"
   },
   {
    "duration": 3,
    "start_time": "2023-03-01T19:42:38.017Z"
   },
   {
    "duration": 8,
    "start_time": "2023-03-01T19:42:38.022Z"
   },
   {
    "duration": 6,
    "start_time": "2023-03-01T19:42:38.031Z"
   },
   {
    "duration": 9,
    "start_time": "2023-03-01T19:42:38.049Z"
   },
   {
    "duration": 23,
    "start_time": "2023-03-01T19:42:38.059Z"
   },
   {
    "duration": 19,
    "start_time": "2023-03-01T19:42:38.083Z"
   },
   {
    "duration": 15,
    "start_time": "2023-03-01T19:42:38.103Z"
   },
   {
    "duration": 14,
    "start_time": "2023-03-01T19:42:38.119Z"
   },
   {
    "duration": 95,
    "start_time": "2023-03-01T19:42:38.799Z"
   },
   {
    "duration": 7,
    "start_time": "2023-03-01T19:42:38.895Z"
   },
   {
    "duration": 4,
    "start_time": "2023-03-01T19:42:38.904Z"
   },
   {
    "duration": 509,
    "start_time": "2023-03-01T19:42:38.909Z"
   },
   {
    "duration": 16476,
    "start_time": "2023-03-01T19:42:39.419Z"
   },
   {
    "duration": 2784,
    "start_time": "2023-03-01T19:42:55.897Z"
   },
   {
    "duration": 78,
    "start_time": "2023-03-01T19:42:58.683Z"
   },
   {
    "duration": 150,
    "start_time": "2023-03-01T19:42:58.763Z"
   },
   {
    "duration": 25,
    "start_time": "2023-03-01T19:42:58.915Z"
   },
   {
    "duration": 590,
    "start_time": "2023-03-01T19:42:58.941Z"
   },
   {
    "duration": 22045,
    "start_time": "2023-03-01T19:42:59.532Z"
   },
   {
    "duration": 2619,
    "start_time": "2023-03-01T19:43:21.579Z"
   },
   {
    "duration": 13,
    "start_time": "2023-03-01T19:43:24.257Z"
   },
   {
    "duration": 88,
    "start_time": "2023-03-01T19:43:24.273Z"
   },
   {
    "duration": 19,
    "start_time": "2023-03-01T19:43:24.367Z"
   },
   {
    "duration": 282,
    "start_time": "2023-03-01T19:43:24.389Z"
   },
   {
    "duration": 11316,
    "start_time": "2023-03-01T19:43:24.676Z"
   },
   {
    "duration": 2267,
    "start_time": "2023-03-01T19:43:35.994Z"
   },
   {
    "duration": 79,
    "start_time": "2023-03-01T19:43:38.276Z"
   },
   {
    "duration": 536,
    "start_time": "2023-03-01T19:43:38.357Z"
   },
   {
    "duration": 16974,
    "start_time": "2023-03-01T19:43:38.895Z"
   },
   {
    "duration": 2101,
    "start_time": "2023-03-01T19:43:55.873Z"
   },
   {
    "duration": 16,
    "start_time": "2023-03-01T19:43:58.051Z"
   },
   {
    "duration": 19,
    "start_time": "2023-03-01T19:43:58.069Z"
   },
   {
    "duration": 7,
    "start_time": "2023-03-01T19:43:58.090Z"
   },
   {
    "duration": 374,
    "start_time": "2023-03-01T19:43:58.098Z"
   },
   {
    "duration": 5,
    "start_time": "2023-03-01T19:43:58.474Z"
   },
   {
    "duration": 187,
    "start_time": "2023-03-01T19:43:58.480Z"
   }
  ],
  "kernelspec": {
   "display_name": "Python 3 (ipykernel)",
   "language": "python",
   "name": "python3"
  },
  "language_info": {
   "codemirror_mode": {
    "name": "ipython",
    "version": 3
   },
   "file_extension": ".py",
   "mimetype": "text/x-python",
   "name": "python",
   "nbconvert_exporter": "python",
   "pygments_lexer": "ipython3",
   "version": "3.9.13"
  },
  "toc": {
   "base_numbering": 1,
   "nav_menu": {},
   "number_sections": true,
   "sideBar": true,
   "skip_h1_title": true,
   "title_cell": "Содержание",
   "title_sidebar": "Contents",
   "toc_cell": true,
   "toc_position": {
    "height": "calc(100% - 180px)",
    "left": "10px",
    "top": "150px",
    "width": "302.188px"
   },
   "toc_section_display": true,
   "toc_window_display": false
  }
 },
 "nbformat": 4,
 "nbformat_minor": 2
}
