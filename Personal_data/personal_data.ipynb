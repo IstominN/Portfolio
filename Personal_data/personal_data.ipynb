{
 "cells": [
  {
   "cell_type": "markdown",
   "metadata": {
    "toc": true
   },
   "source": [
    "<h1>Содержание<span class=\"tocSkip\"></span></h1>\n",
    "<div class=\"toc\"><ul class=\"toc-item\"><li><span><a href=\"#Загрузка-данных\" data-toc-modified-id=\"Загрузка-данных-1\"><span class=\"toc-item-num\">1&nbsp;&nbsp;</span>Загрузка данных</a></span></li><li><span><a href=\"#Изучение-данных\" data-toc-modified-id=\"Изучение-данных-2\"><span class=\"toc-item-num\">2&nbsp;&nbsp;</span>Изучение данных</a></span><ul class=\"toc-item\"><li><span><a href=\"#Первичный-анализ\" data-toc-modified-id=\"Первичный-анализ-2.1\"><span class=\"toc-item-num\">2.1&nbsp;&nbsp;</span>Первичный анализ</a></span></li><li><span><a href=\"#Предобработка-данных\" data-toc-modified-id=\"Предобработка-данных-2.2\"><span class=\"toc-item-num\">2.2&nbsp;&nbsp;</span>Предобработка данных</a></span></li><li><span><a href=\"#Проверка-на-наличие-аномалий\" data-toc-modified-id=\"Проверка-на-наличие-аномалий-2.3\"><span class=\"toc-item-num\">2.3&nbsp;&nbsp;</span>Проверка на наличие аномалий</a></span><ul class=\"toc-item\"><li><span><a href=\"#Признак-&quot;Пол&quot;\" data-toc-modified-id=\"Признак-&quot;Пол&quot;-2.3.1\"><span class=\"toc-item-num\">2.3.1&nbsp;&nbsp;</span>Признак \"Пол\"</a></span></li><li><span><a href=\"#Признак-&quot;Возраст&quot;\" data-toc-modified-id=\"Признак-&quot;Возраст&quot;-2.3.2\"><span class=\"toc-item-num\">2.3.2&nbsp;&nbsp;</span>Признак \"Возраст\"</a></span></li><li><span><a href=\"#Признак-&quot;Зарплата&quot;\" data-toc-modified-id=\"Признак-&quot;Зарплата&quot;-2.3.3\"><span class=\"toc-item-num\">2.3.3&nbsp;&nbsp;</span>Признак \"Зарплата\"</a></span></li><li><span><a href=\"#Признак-&quot;Члены-семьи&quot;\" data-toc-modified-id=\"Признак-&quot;Члены-семьи&quot;-2.3.4\"><span class=\"toc-item-num\">2.3.4&nbsp;&nbsp;</span>Признак \"Члены семьи\"</a></span></li><li><span><a href=\"#Признак-&quot;Страховые-выплаты&quot;\" data-toc-modified-id=\"Признак-&quot;Страховые-выплаты&quot;-2.3.5\"><span class=\"toc-item-num\">2.3.5&nbsp;&nbsp;</span>Признак \"Страховые выплаты\"</a></span></li></ul></li></ul></li><li><span><a href=\"#Умножение-матриц\" data-toc-modified-id=\"Умножение-матриц-3\"><span class=\"toc-item-num\">3&nbsp;&nbsp;</span>Умножение матриц</a></span></li><li><span><a href=\"#Алгоритм-преобразования\" data-toc-modified-id=\"Алгоритм-преобразования-4\"><span class=\"toc-item-num\">4&nbsp;&nbsp;</span>Алгоритм преобразования</a></span><ul class=\"toc-item\"><li><span><a href=\"#Разобьем-данные-на-обучающую-и-тестовую-выборки-в-соотношении-75:25\" data-toc-modified-id=\"Разобьем-данные-на-обучающую-и-тестовую-выборки-в-соотношении-75:25-4.1\"><span class=\"toc-item-num\">4.1&nbsp;&nbsp;</span>Разобьем данные на обучающую и тестовую выборки в соотношении 75:25</a></span></li><li><span><a href=\"#Преобразуем-полученные-выборки-со-вспомагательными-признаками-в-матрицы\" data-toc-modified-id=\"Преобразуем-полученные-выборки-со-вспомагательными-признаками-в-матрицы-4.2\"><span class=\"toc-item-num\">4.2&nbsp;&nbsp;</span>Преобразуем полученные выборки со вспомагательными признаками в матрицы</a></span></li><li><span><a href=\"#Создадим-квадратную-обратимую-матрицу-со-случайными-величинами\" data-toc-modified-id=\"Создадим-квадратную-обратимую-матрицу-со-случайными-величинами-4.3\"><span class=\"toc-item-num\">4.3&nbsp;&nbsp;</span>Создадим квадратную обратимую матрицу со случайными величинами</a></span></li><li><span><a href=\"#Проверим-получившеюся-матрицу-на-обратимость\" data-toc-modified-id=\"Проверим-получившеюся-матрицу-на-обратимость-4.4\"><span class=\"toc-item-num\">4.4&nbsp;&nbsp;</span>Проверим получившеюся матрицу на обратимость</a></span><ul class=\"toc-item\"><li><span><a href=\"#Способ-numpy.linalg.inv()\" data-toc-modified-id=\"Способ-numpy.linalg.inv()-4.4.1\"><span class=\"toc-item-num\">4.4.1&nbsp;&nbsp;</span>Способ <em>numpy.linalg.inv()</em></a></span></li><li><span><a href=\"#Способ-&quot;обратной-матрицы&quot;\" data-toc-modified-id=\"Способ-&quot;обратной-матрицы&quot;-4.4.2\"><span class=\"toc-item-num\">4.4.2&nbsp;&nbsp;</span>Способ \"обратной матрицы\"</a></span></li></ul></li><li><span><a href=\"#Сравним-данные-на-разных-этапах-преобразования\" data-toc-modified-id=\"Сравним-данные-на-разных-этапах-преобразования-4.5\"><span class=\"toc-item-num\">4.5&nbsp;&nbsp;</span>Сравним данные на разных этапах преобразования</a></span><ul class=\"toc-item\"><li><span><a href=\"#Закодируем-данные-нашим-методом\" data-toc-modified-id=\"Закодируем-данные-нашим-методом-4.5.1\"><span class=\"toc-item-num\">4.5.1&nbsp;&nbsp;</span>Закодируем данные нашим методом</a></span></li><li><span><a href=\"#Декодируем-данные-нашим-методом\" data-toc-modified-id=\"Декодируем-данные-нашим-методом-4.5.2\"><span class=\"toc-item-num\">4.5.2&nbsp;&nbsp;</span>Декодируем данные нашим методом</a></span></li><li><span><a href=\"#Сравним-данные-на-примере-features_train\" data-toc-modified-id=\"Сравним-данные-на-примере-features_train-4.5.3\"><span class=\"toc-item-num\">4.5.3&nbsp;&nbsp;</span>Сравним данные на примере <em>features_train</em></a></span></li></ul></li></ul></li><li><span><a href=\"#Проверка-алгоритма\" data-toc-modified-id=\"Проверка-алгоритма-5\"><span class=\"toc-item-num\">5&nbsp;&nbsp;</span>Проверка алгоритма</a></span></li><li><span><a href=\"#Общий-вывод\" data-toc-modified-id=\"Общий-вывод-6\"><span class=\"toc-item-num\">6&nbsp;&nbsp;</span>Общий вывод</a></span></li><li><span><a href=\"#Чек-лист-проверки\" data-toc-modified-id=\"Чек-лист-проверки-7\"><span class=\"toc-item-num\">7&nbsp;&nbsp;</span>Чек-лист проверки</a></span></li></ul></div>"
   ]
  },
  {
   "cell_type": "markdown",
   "metadata": {},
   "source": [
    "# Защита персональных данных клиентов"
   ]
  },
  {
   "cell_type": "markdown",
   "metadata": {},
   "source": [
    "Нам нужно защитить данные клиентов страховой компании. Необходимо разработать такой метод преобразования данных, чтобы по ним было сложно восстановить персональную информацию.\n",
    "\n",
    "Нужно защитить данные, чтобы при преобразовании качество моделей машинного обучения не ухудшилось. Подбирать наилучшую модель не требуется."
   ]
  },
  {
   "cell_type": "markdown",
   "metadata": {},
   "source": [
    "Цель исследования — разработать такой метод преобразования данных, чтобы по ним было сложно восстановить персональную информацию.\n",
    "\n",
    "Данные получим из файла *insurance.csv*.\n",
    "\n",
    "Исследование пройдёт в пять этапов:\n",
    "\n",
    "* Загрузка данных\n",
    "* Изучение данных\n",
    "* Умножение матриц\n",
    "* Выбор алгоритма преобразования\n",
    "* Проверка алгоритма"
   ]
  },
  {
   "cell_type": "markdown",
   "metadata": {},
   "source": [
    "## Загрузка данных"
   ]
  },
  {
   "cell_type": "code",
   "execution_count": 1,
   "metadata": {},
   "outputs": [],
   "source": [
    "# Импорт необходимых библиотек\n",
    "\n",
    "\n",
    "import pandas as pd \n",
    "import numpy as np\n",
    "import seaborn as sns\n",
    "import matplotlib.pyplot as plt\n",
    "\n",
    "from sklearn.model_selection import train_test_split\n",
    "from sklearn.linear_model import LinearRegression\n",
    "from sklearn.metrics import r2_score"
   ]
  },
  {
   "cell_type": "code",
   "execution_count": 2,
   "metadata": {},
   "outputs": [],
   "source": [
    "# Константы\n",
    "\n",
    "\n",
    "r_state = 12345"
   ]
  },
  {
   "cell_type": "code",
   "execution_count": 3,
   "metadata": {},
   "outputs": [],
   "source": [
    "# Функции и классы\n",
    "\n",
    "\n",
    "# Функция для получения общих сведений о данных\n",
    "\n",
    "def data_info(title, data):\n",
    "    print('Общие сведения \"{}\":'.format(title))\n",
    "    print()\n",
    "    \n",
    "    data.info()\n",
    "    \n",
    "    print()\n",
    "    print()\n",
    "    \n",
    "    print('Пример данных (случайные 5 строк):')\n",
    "    display(data.sample(5, random_state=r_state))\n",
    "\n",
    "    print()\n",
    "    print()\n",
    "    \n",
    "    print('Количество пропусков по столбцам:')\n",
    "    print()\n",
    "    for col in data.columns:\n",
    "        nmv = data[col].isna().sum()\n",
    "        pmv = nmv/len(data)\n",
    "        \n",
    "        if pmv == 0:\n",
    "            print('\\033[0m{} - {} шт. - {:.2%}'.format(col, nmv, pmv))\n",
    "        elif pmv <= 0.1:\n",
    "            print('\\033[0m{} - \\033[43m{} шт.\\033[0m - \\033[43m{:.2%}'.format(col, nmv, pmv))\n",
    "        else:\n",
    "            print('\\033[0m{} - \\033[41m{} шт.\\033[0m - \\033[41m{:.2%}'.format(col, nmv, pmv))\n",
    "        print('\\033[0m')\n",
    "    \n",
    "    print()\n",
    "    \n",
    "    print('Количество уникальных значений в столбцах:')\n",
    "    print()\n",
    "    for col in data.columns:\n",
    "        print('{} - {}'.format(col, data[col].nunique()))\n",
    "        \n",
    "    print()\n",
    "    print()\n",
    "    \n",
    "    print('Количество явных дубликатов: {} шт.'.format(data.duplicated().sum()))\n",
    "    \n",
    "# Функция для корреляции признаков\n",
    "\n",
    "def corr_info(data, col_del):\n",
    "    print('Корреляция признаков:')\n",
    "    print()\n",
    "    corr_matrix = data.drop(columns=col_del).corr()\n",
    "    sns.set(font_scale=1.15)\n",
    "    plt.figure(figsize=(8,4))\n",
    "    sns.heatmap(\n",
    "                corr_matrix,        \n",
    "                cmap='RdBu_r',\n",
    "                annot=True,\n",
    "                vmin=-1, vmax=1);\n",
    "    plt.show()\n",
    "    print()\n",
    "    for i in range(len(corr_matrix.columns)):\n",
    "        for j in range(i):\n",
    "            cor = corr_matrix.iloc[i, j]\n",
    "            print('Корреляция между {} и {}:'.format(corr_matrix.columns[i], corr_matrix.columns[j]))\n",
    "            if cor == 0:\n",
    "                print(f'Коэффициент корреляции: {cor:.6f} \\n Свзяь отсутствует')\n",
    "            elif 0 < cor <= 0.3:\n",
    "                print(f'Коэффициент корреляции: {cor:.6f} \\n Слабая прямая связь')\n",
    "            elif -0.3 <= cor < 0:\n",
    "                print(f'Коэффициент корреляции: {cor:.6f} \\n Слабая обратная связь')\n",
    "            elif 0.3 < cor <= 0.7:\n",
    "                print(f'Коэффициент корреляции: {cor:.6f} \\n Средняя прямая связь')\n",
    "            elif -0.7 <= cor < -0.3:\n",
    "                print(f'Коэффициент корреляции: {cor:.6f} \\n Средняя обратная связь')\n",
    "            elif 0.7 < cor < 1:\n",
    "                print(f'Коэффициент корреляции: {cor:.6f} \\n Сильная прямая связь')\n",
    "            elif -1 < cor < -0.7:\n",
    "                print(f'Коэффициент корреляции: {cor:.6f} \\n Сильная обратная связь')\n",
    "            elif cor == 1:\n",
    "                print(f'Коэффициент корреляции: {cor:.6f} \\n Полная прямая связь')\n",
    "            elif cor == -1:\n",
    "                print(f'Коэффициент корреляции: {cor:.6f} \\n Полная обратная связь')\n",
    "            else:\n",
    "                print('Введен неверный коэффициент')\n",
    "            print()\n",
    "\n",
    "# Функция разбивки данных для обучения\n",
    "\n",
    "def split_data(data, target, test_size):\n",
    "    features = data.drop([target] , axis=1)\n",
    "    target = data[target]\n",
    "\n",
    "    features_train, features_test, target_train, target_test = train_test_split(\n",
    "    features, target, test_size=test_size, random_state=r_state)\n",
    "    \n",
    "    features_list = {'features_train' : features_train, 'features_test' : features_test}\n",
    "    targets_list = {'target_train' : target_train, 'target_test' : target_test}\n",
    "\n",
    "    print('Вспомогательные признаки:')\n",
    "    print()\n",
    "    for i in features_list:\n",
    "        sh = features_list[i].shape\n",
    "        psh = sh[0]/len(data)\n",
    "        print('{} - Объектов: {} шт., признаков: {} шт. - {:.2%}'.format(i, sh[0], sh[1], psh))\n",
    "    \n",
    "    print()\n",
    "\n",
    "    print('Целевые признаки:')\n",
    "    print()\n",
    "    for i in targets_list:\n",
    "        sh = targets_list[i].shape\n",
    "        psh = sh[0]/len(data)\n",
    "        print('{} - Объектов: {} шт. - {:.2%}'.format(i, sh[0], psh))\n",
    "    \n",
    "    return features_train, features_test, target_train, target_test"
   ]
  },
  {
   "cell_type": "code",
   "execution_count": 4,
   "metadata": {},
   "outputs": [],
   "source": [
    "data = pd.read_csv('datasets/insurance.csv')"
   ]
  },
  {
   "cell_type": "markdown",
   "metadata": {},
   "source": [
    "## Изучение данных"
   ]
  },
  {
   "cell_type": "markdown",
   "metadata": {},
   "source": [
    "### Первичный анализ"
   ]
  },
  {
   "cell_type": "code",
   "execution_count": 5,
   "metadata": {
    "scrolled": false
   },
   "outputs": [
    {
     "name": "stdout",
     "output_type": "stream",
     "text": [
      "Общие сведения \"data\":\n",
      "\n",
      "<class 'pandas.core.frame.DataFrame'>\n",
      "RangeIndex: 5000 entries, 0 to 4999\n",
      "Data columns (total 5 columns):\n",
      " #   Column             Non-Null Count  Dtype  \n",
      "---  ------             --------------  -----  \n",
      " 0   Пол                5000 non-null   int64  \n",
      " 1   Возраст            5000 non-null   float64\n",
      " 2   Зарплата           5000 non-null   float64\n",
      " 3   Члены семьи        5000 non-null   int64  \n",
      " 4   Страховые выплаты  5000 non-null   int64  \n",
      "dtypes: float64(2), int64(3)\n",
      "memory usage: 195.4 KB\n",
      "\n",
      "\n",
      "Пример данных (случайные 5 строк):\n"
     ]
    },
    {
     "data": {
      "text/html": [
       "<div>\n",
       "<style scoped>\n",
       "    .dataframe tbody tr th:only-of-type {\n",
       "        vertical-align: middle;\n",
       "    }\n",
       "\n",
       "    .dataframe tbody tr th {\n",
       "        vertical-align: top;\n",
       "    }\n",
       "\n",
       "    .dataframe thead th {\n",
       "        text-align: right;\n",
       "    }\n",
       "</style>\n",
       "<table border=\"1\" class=\"dataframe\">\n",
       "  <thead>\n",
       "    <tr style=\"text-align: right;\">\n",
       "      <th></th>\n",
       "      <th>Пол</th>\n",
       "      <th>Возраст</th>\n",
       "      <th>Зарплата</th>\n",
       "      <th>Члены семьи</th>\n",
       "      <th>Страховые выплаты</th>\n",
       "    </tr>\n",
       "  </thead>\n",
       "  <tbody>\n",
       "    <tr>\n",
       "      <th>3183</th>\n",
       "      <td>0</td>\n",
       "      <td>33.0</td>\n",
       "      <td>39000.0</td>\n",
       "      <td>4</td>\n",
       "      <td>0</td>\n",
       "    </tr>\n",
       "    <tr>\n",
       "      <th>1071</th>\n",
       "      <td>0</td>\n",
       "      <td>50.0</td>\n",
       "      <td>43100.0</td>\n",
       "      <td>2</td>\n",
       "      <td>2</td>\n",
       "    </tr>\n",
       "    <tr>\n",
       "      <th>2640</th>\n",
       "      <td>1</td>\n",
       "      <td>39.0</td>\n",
       "      <td>42100.0</td>\n",
       "      <td>0</td>\n",
       "      <td>0</td>\n",
       "    </tr>\n",
       "    <tr>\n",
       "      <th>2282</th>\n",
       "      <td>0</td>\n",
       "      <td>20.0</td>\n",
       "      <td>34800.0</td>\n",
       "      <td>0</td>\n",
       "      <td>0</td>\n",
       "    </tr>\n",
       "    <tr>\n",
       "      <th>1595</th>\n",
       "      <td>0</td>\n",
       "      <td>41.0</td>\n",
       "      <td>40000.0</td>\n",
       "      <td>4</td>\n",
       "      <td>0</td>\n",
       "    </tr>\n",
       "  </tbody>\n",
       "</table>\n",
       "</div>"
      ],
      "text/plain": [
       "      Пол  Возраст  Зарплата  Члены семьи  Страховые выплаты\n",
       "3183    0     33.0   39000.0            4                  0\n",
       "1071    0     50.0   43100.0            2                  2\n",
       "2640    1     39.0   42100.0            0                  0\n",
       "2282    0     20.0   34800.0            0                  0\n",
       "1595    0     41.0   40000.0            4                  0"
      ]
     },
     "metadata": {},
     "output_type": "display_data"
    },
    {
     "name": "stdout",
     "output_type": "stream",
     "text": [
      "\n",
      "\n",
      "Количество пропусков по столбцам:\n",
      "\n",
      "\u001b[0mПол - 0 шт. - 0.00%\n",
      "\u001b[0m\n",
      "\u001b[0mВозраст - 0 шт. - 0.00%\n",
      "\u001b[0m\n",
      "\u001b[0mЗарплата - 0 шт. - 0.00%\n",
      "\u001b[0m\n",
      "\u001b[0mЧлены семьи - 0 шт. - 0.00%\n",
      "\u001b[0m\n",
      "\u001b[0mСтраховые выплаты - 0 шт. - 0.00%\n",
      "\u001b[0m\n",
      "\n",
      "Количество уникальных значений в столбцах:\n",
      "\n",
      "Пол - 2\n",
      "Возраст - 46\n",
      "Зарплата - 524\n",
      "Члены семьи - 7\n",
      "Страховые выплаты - 6\n",
      "\n",
      "\n",
      "Количество явных дубликатов: 153 шт.\n",
      "\n",
      "\n",
      "Корреляция признаков:\n",
      "\n"
     ]
    },
    {
     "data": {
      "image/png": "[encoded data removed]",
      "text/plain": [
       "<Figure size 800x400 with 2 Axes>"
      ]
     },
     "metadata": {},
     "output_type": "display_data"
    },
    {
     "name": "stdout",
     "output_type": "stream",
     "text": [
      "\n",
      "Корреляция между Зарплата и Возраст:\n",
      "Коэффициент корреляции: -0.019093 \n",
      " Слабая обратная связь\n",
      "\n",
      "Корреляция между Члены семьи и Возраст:\n",
      "Коэффициент корреляции: -0.006692 \n",
      " Слабая обратная связь\n",
      "\n",
      "Корреляция между Члены семьи и Зарплата:\n",
      "Коэффициент корреляции: -0.030296 \n",
      " Слабая обратная связь\n",
      "\n",
      "Корреляция между Страховые выплаты и Возраст:\n",
      "Коэффициент корреляции: 0.651030 \n",
      " Средняя прямая связь\n",
      "\n",
      "Корреляция между Страховые выплаты и Зарплата:\n",
      "Коэффициент корреляции: -0.014963 \n",
      " Слабая обратная связь\n",
      "\n",
      "Корреляция между Страховые выплаты и Члены семьи:\n",
      "Коэффициент корреляции: -0.036290 \n",
      " Слабая обратная связь\n",
      "\n"
     ]
    }
   ],
   "source": [
    "data_info('data', data)\n",
    "print()\n",
    "print()\n",
    "col_del = ['Пол'] \n",
    "corr_info(data, col_del)"
   ]
  },
  {
   "cell_type": "markdown",
   "metadata": {},
   "source": [
    "Описание данных:\n",
    "* Данные состоят из 5000 объектов\n",
    "* Имееют 5 признаков:\n",
    "    * Вспомогательные признаки: \n",
    "        * пол\n",
    "        * возраст\n",
    "        * зарплата застрахованного\n",
    "        * количество членов его семьи\n",
    "    * Целевой признак: \n",
    "        * количество страховых выплат клиенту за последние 5 лет\n",
    "* Пропуски отсутствуют\n",
    "* Данные в признаках \"Возраст\" и \"Зарплата\" имеют формат *float*, но целочисленные значения\n",
    "* Все признаки имеют малые целочисленные значения - переведем их в формат *int32* для уменьшения памяти и быстродейстсвия\n",
    "* Содержат 153 явных дубликата (На решение задачи исследования не влияет, оставим эти данные для обучения)\n",
    "* Проверим признаки на наличие аномалий:\n",
    "    * \"Пол\" - должен содержать 2 уникальных значения \n",
    "    * \"Возраст\" - проверим по критериям 18 <= Возраст <= 100\n",
    "    * \"Зарплата\" - не должен быть равен 0\n",
    "    * \"Члены семьи\" - не должен быть меньше 0\n",
    "    * \"Страховые выплаты\" - не должен быть меньше 0"
   ]
  },
  {
   "cell_type": "markdown",
   "metadata": {},
   "source": [
    "### Предобработка данных"
   ]
  },
  {
   "cell_type": "code",
   "execution_count": 6,
   "metadata": {},
   "outputs": [
    {
     "data": {
      "text/plain": [
       "Пол                  int32\n",
       "Возраст              int32\n",
       "Зарплата             int32\n",
       "Члены семьи          int32\n",
       "Страховые выплаты    int32\n",
       "dtype: object"
      ]
     },
     "execution_count": 6,
     "metadata": {},
     "output_type": "execute_result"
    }
   ],
   "source": [
    "data = data.astype('int32')\n",
    "data.dtypes"
   ]
  },
  {
   "cell_type": "markdown",
   "metadata": {},
   "source": [
    "### Проверка на наличие аномалий"
   ]
  },
  {
   "cell_type": "markdown",
   "metadata": {},
   "source": [
    "#### Признак \"Пол\""
   ]
  },
  {
   "cell_type": "code",
   "execution_count": 7,
   "metadata": {},
   "outputs": [
    {
     "data": {
      "image/png": "[encoded data removed]",
      "text/plain": [
       "<Figure size 800x800 with 1 Axes>"
      ]
     },
     "metadata": {},
     "output_type": "display_data"
    },
    {
     "name": "stdout",
     "output_type": "stream",
     "text": [
      "0    2505\n",
      "1    2495\n",
      "Name: Пол, dtype: int64\n"
     ]
    }
   ],
   "source": [
    "x = data['Пол'].value_counts()\n",
    "colors = ['lightblue', 'pink']\n",
    "labels = x.index\n",
    "explode = [0.05, 0.03] \n",
    "donut = plt.Circle((0,0), 0.6, color = 'white')\n",
    "plt.figure(figsize=(8,8))\n",
    "plt.pie(x, colors=colors, labels=labels, shadow=True, explode=explode, autopct='%.2f%%')\n",
    "\n",
    "plt.title('Разделение по полу', fontsize = 20)\n",
    "p = plt.gcf()\n",
    "p.gca().add_artist(donut)\n",
    "plt.legend()\n",
    "plt.show()\n",
    "\n",
    "print(x)"
   ]
  },
  {
   "cell_type": "markdown",
   "metadata": {},
   "source": [
    "Аномалий не обнаружено"
   ]
  },
  {
   "cell_type": "markdown",
   "metadata": {},
   "source": [
    "#### Признак \"Возраст\""
   ]
  },
  {
   "cell_type": "code",
   "execution_count": 8,
   "metadata": {
    "scrolled": false
   },
   "outputs": [
    {
     "data": {
      "image/png": "[encoded data removed]",
      "text/plain": [
       "<Figure size 1500x700 with 1 Axes>"
      ]
     },
     "metadata": {},
     "output_type": "display_data"
    },
    {
     "name": "stdout",
     "output_type": "stream",
     "text": [
      "Минимальный возраст клиента: 18\n",
      "Максимальный возраст клиента: 65\n"
     ]
    }
   ],
   "source": [
    "x = data['Возраст']\n",
    "plt.figure(figsize=(15,7))\n",
    "sns.histplot(x, label=\"Возраст\", kde=True);\n",
    "plt.legend();\n",
    "plt.title(label='Распределение по возрасту', fontsize=20)\n",
    "plt.xlabel('Возраст')\n",
    "plt.ylabel(' ')\n",
    "plt.show()\n",
    "\n",
    "print(\"Минимальный возраст клиента:\", data['Возраст'].min())\n",
    "print(\"Максимальный возраст клиента:\", data['Возраст'].max())"
   ]
  },
  {
   "cell_type": "markdown",
   "metadata": {},
   "source": [
    "Аномалий не обнаружено"
   ]
  },
  {
   "cell_type": "markdown",
   "metadata": {},
   "source": [
    "#### Признак \"Зарплата\""
   ]
  },
  {
   "cell_type": "code",
   "execution_count": 9,
   "metadata": {},
   "outputs": [
    {
     "data": {
      "image/png": "[encoded data removed]",
      "text/plain": [
       "<Figure size 1500x700 with 1 Axes>"
      ]
     },
     "metadata": {},
     "output_type": "display_data"
    },
    {
     "name": "stdout",
     "output_type": "stream",
     "text": [
      "Минимальная зарплата клиента: 5300\n",
      "Максимальная зарплата клиента: 79000\n"
     ]
    }
   ],
   "source": [
    "x = data['Зарплата']\n",
    "plt.figure(figsize=(15,7))\n",
    "sns.histplot(x, label=\"Зарплата\", kde=True);\n",
    "plt.legend();\n",
    "plt.title(label='Распределение по зарплате', fontsize=20)\n",
    "plt.xlabel('Зарплата')\n",
    "plt.ylabel(' ')\n",
    "plt.show()\n",
    "\n",
    "print(\"Минимальная зарплата клиента:\", data['Зарплата'].min())\n",
    "print(\"Максимальная зарплата клиента:\", data['Зарплата'].max())"
   ]
  },
  {
   "cell_type": "markdown",
   "metadata": {},
   "source": [
    "Аномалий не обнаружено"
   ]
  },
  {
   "cell_type": "markdown",
   "metadata": {},
   "source": [
    "#### Признак \"Члены семьи\""
   ]
  },
  {
   "cell_type": "code",
   "execution_count": 10,
   "metadata": {},
   "outputs": [
    {
     "data": {
      "image/png": "[encoded data removed]",
      "text/plain": [
       "<Figure size 1500x700 with 1 Axes>"
      ]
     },
     "metadata": {},
     "output_type": "display_data"
    },
    {
     "name": "stdout",
     "output_type": "stream",
     "text": [
      "Минимальное количество членов семьи клиента: 0\n",
      "Максимальное количество членов семьи клиента: 6\n"
     ]
    }
   ],
   "source": [
    "x = data['Члены семьи']\n",
    "plt.figure(figsize=(15,7))\n",
    "sns.histplot(x, label=\"Члены семьи\");\n",
    "plt.legend();\n",
    "plt.title(label='Распределение по членам семьи', fontsize=20)\n",
    "plt.xlabel('Члены семьи')\n",
    "plt.ylabel(' ')\n",
    "plt.show()\n",
    "\n",
    "print(\"Минимальное количество членов семьи клиента:\", data['Члены семьи'].min())\n",
    "print(\"Максимальное количество членов семьи клиента:\", data['Члены семьи'].max())"
   ]
  },
  {
   "cell_type": "markdown",
   "metadata": {},
   "source": [
    "Аномалий не обнаружено"
   ]
  },
  {
   "cell_type": "markdown",
   "metadata": {},
   "source": [
    "#### Признак \"Страховые выплаты\""
   ]
  },
  {
   "cell_type": "code",
   "execution_count": 11,
   "metadata": {},
   "outputs": [
    {
     "data": {
      "image/png": "[encoded data removed]",
      "text/plain": [
       "<Figure size 1500x700 with 1 Axes>"
      ]
     },
     "metadata": {},
     "output_type": "display_data"
    },
    {
     "name": "stdout",
     "output_type": "stream",
     "text": [
      "Минимальное количество страховых выплаты клиенту: 0\n",
      "Максимальное количество страховых выплаты клиенту: 5\n"
     ]
    }
   ],
   "source": [
    "x = data['Страховые выплаты']\n",
    "plt.figure(figsize=(15,7))\n",
    "sns.histplot(x, label=\"Страховые выплаты\");\n",
    "plt.legend();\n",
    "plt.title(label='Распределение по страховым выплатам', fontsize=20)\n",
    "plt.xlabel('Страховые выплаты')\n",
    "plt.ylabel(' ')\n",
    "plt.show()\n",
    "\n",
    "print(\"Минимальное количество страховых выплаты клиенту:\", data['Страховые выплаты'].min())\n",
    "print(\"Максимальное количество страховых выплаты клиенту:\", data['Страховые выплаты'].max())"
   ]
  },
  {
   "cell_type": "markdown",
   "metadata": {},
   "source": [
    "Аномалий не обнаружено"
   ]
  },
  {
   "cell_type": "markdown",
   "metadata": {},
   "source": [
    "## Умножение матриц"
   ]
  },
  {
   "cell_type": "markdown",
   "metadata": {},
   "source": [
    "Обозначения:\n",
    "\n",
    "- $X$ — матрица признаков (нулевой столбец состоит из единиц)\n",
    "\n",
    "- $y$ — вектор целевого признака\n",
    "\n",
    "- $P$ — матрица, на которую умножаются признаки\n",
    "\n",
    "- $w$ — вектор весов линейной регрессии (нулевой элемент равен сдвигу)"
   ]
  },
  {
   "cell_type": "markdown",
   "metadata": {},
   "source": [
    "Предсказания:\n",
    "\n",
    "$$\n",
    "a = Xw\n",
    "$$\n",
    "\n",
    "Задача обучения:\n",
    "\n",
    "$$\n",
    "w = \\arg\\min_w MSE(Xw, y)\n",
    "$$\n",
    "\n",
    "Формула обучения:\n",
    "\n",
    "$$\n",
    "w = (X^T X)^{-1} X^T y\n",
    "$$"
   ]
  },
  {
   "cell_type": "markdown",
   "metadata": {},
   "source": [
    "**Обоснование:** \n",
    "\n",
    "Нам необходимо доказать что $a = a_1$\n",
    "\n",
    "1. Представим новую матрицу признаков $X_1$ как произведение исходной матрицы $X$ на обратимую матрицу $P$:\n",
    "\n",
    "$$\n",
    "X_1 = X P\n",
    "$$\n",
    "\n",
    "2. Подставим новую матрицу $X_1$ в формулу обучения $w_1$:\n",
    "\n",
    "$$\n",
    "w_1 = ((X P)^T X P)^{-1} (X P)^T y\n",
    "$$\n",
    "\n",
    "3. Раскроем скобки у произведения $(XP)^T$:\n",
    "\n",
    "$$\n",
    "w_1 = (X^T P^T X P)^{-1} X^T P^T y\n",
    "$$\n",
    "\n",
    "4. Перегруппируем множители в скобках $(X^T P^T X P)^{-1}$:\n",
    "\n",
    "$$\n",
    "w_1 = ((X^T X) (P^T P))^{-1} X^T P^T y\n",
    "$$\n",
    "\n",
    "4. Раскроем скобки у произведения $((X^T X) (P^T P))^{-1}$:\n",
    "\n",
    "$$\n",
    "w_1 = (X^T X)^{-1} (P^T P)^{-1} X^T P^T y = P^{-1} (X^T X)^{-1} (P^T)^{-1} P^T X^T y\n",
    "$$\n",
    "\n",
    "5. $P$ - обратимая матрица $\\Rightarrow$ $(P^T)^{-1} P^T = E$, где $E$ - еденичная матрица:\n",
    "\n",
    "$$\n",
    "w_1 = P^{-1} (X^T X)^{-1} E X^T y = P^{-1} (X^T X)^{-1} X^T y\n",
    "$$\n",
    "\n",
    "6. Исходя из формулы обучения заменим $(X^T X)^{-1} X^T y$ на $w$:\n",
    "\n",
    "$$\n",
    "w_1 = P^{-1} w\n",
    "$$\n",
    "\n",
    "7. Подставим новое значение $w_1$ в формулу для предсказаний линейной регрессии $a = Xw$:\n",
    "\n",
    "$$\n",
    "a_1 = X_1 w_1 = X P P^{-1} w\n",
    "$$\n",
    "\n",
    "8. $P$ - обратимая матрица $\\Rightarrow$ $P P^{-1} = E$, где $E$ - еденичная матрица:\n",
    "\n",
    "$$\n",
    "a_1 = X_1 w_1 = X P P^{-1} w = X E w = X w = a\n",
    "$$\n",
    "\n",
    "Мы доказали, что предсказания $a_1$ для матрицы признаков $X$, умноженных на обратимую матрицу $P$, равны предсказаниям $a$\n",
    "\n",
    "**Ответ:** \n",
    "\n",
    "Качество линейной регрессии при умножении признаков $X$ на обратимую матрицу $P$ не изменится\n",
    "\n",
    "Параметры линейной регрессии в исходной задаче $w$ и в преобразованной $w_1$ связаны по формуле:\n",
    "\n",
    "$$\n",
    "w_1 = P^{-1} w\n",
    "$$"
   ]
  },
  {
   "cell_type": "markdown",
   "metadata": {},
   "source": [
    "## Алгоритм преобразования"
   ]
  },
  {
   "cell_type": "markdown",
   "metadata": {},
   "source": [
    "**Алгоритм:**\n",
    "\n",
    "Исходя из проведенного выше исследования, в качестве алгоритма преобразования данных можно предложить умножение исходных данных на обратимую матрицу со случайными величинами. \n",
    "\n",
    "Для создания обратимой матрицы со случайными величинами воспользуемся функцией *numpy.random.randn()*"
   ]
  },
  {
   "cell_type": "markdown",
   "metadata": {},
   "source": [
    "**Обоснование:**"
   ]
  },
  {
   "cell_type": "markdown",
   "metadata": {},
   "source": [
    "### Разобьем данные на обучающую и тестовую выборки в соотношении 75:25"
   ]
  },
  {
   "cell_type": "code",
   "execution_count": 12,
   "metadata": {},
   "outputs": [
    {
     "name": "stdout",
     "output_type": "stream",
     "text": [
      "Вспомогательные признаки:\n",
      "\n",
      "features_train - Объектов: 3750 шт., признаков: 4 шт. - 75.00%\n",
      "features_test - Объектов: 1250 шт., признаков: 4 шт. - 25.00%\n",
      "\n",
      "Целевые признаки:\n",
      "\n",
      "target_train - Объектов: 3750 шт. - 75.00%\n",
      "target_test - Объектов: 1250 шт. - 25.00%\n"
     ]
    }
   ],
   "source": [
    "features_train, features_test, target_train, target_test = split_data(data, 'Страховые выплаты', 0.25)"
   ]
  },
  {
   "cell_type": "markdown",
   "metadata": {},
   "source": [
    "### Преобразуем полученные выборки со вспомагательными признаками в матрицы"
   ]
  },
  {
   "cell_type": "code",
   "execution_count": 13,
   "metadata": {},
   "outputs": [
    {
     "name": "stdout",
     "output_type": "stream",
     "text": [
      "(3750, 4)\n",
      "(1250, 4)\n"
     ]
    }
   ],
   "source": [
    "matrix_features_train = features_train.values\n",
    "matrix_features_test = features_test.values\n",
    "print(matrix_features_train.shape)\n",
    "print(matrix_features_test.shape)"
   ]
  },
  {
   "cell_type": "markdown",
   "metadata": {},
   "source": [
    "### Создадим квадратную обратимую матрицу со случайными величинами "
   ]
  },
  {
   "cell_type": "markdown",
   "metadata": {},
   "source": [
    "Размерность должна быть равна количеству признаков выборок *features*"
   ]
  },
  {
   "cell_type": "code",
   "execution_count": 14,
   "metadata": {},
   "outputs": [
    {
     "data": {
      "text/plain": [
       "array([[-1.07753811,  0.06994202, -0.29724028,  0.32602498],\n",
       "       [ 1.10416681,  1.30864958,  0.42693268,  1.73720317],\n",
       "       [ 1.5251875 , -0.04444712, -1.4732031 ,  0.29587006],\n",
       "       [ 2.96854916,  0.44813659, -0.49827889,  0.16626662]])"
      ]
     },
     "execution_count": 14,
     "metadata": {},
     "output_type": "execute_result"
    }
   ],
   "source": [
    "size_matrix = matrix_features_train.shape[1]\n",
    "random_matrix = np.random.randn(size_matrix, size_matrix)\n",
    "random_matrix"
   ]
  },
  {
   "cell_type": "markdown",
   "metadata": {},
   "source": [
    "### Проверим получившеюся матрицу на обратимость"
   ]
  },
  {
   "cell_type": "markdown",
   "metadata": {},
   "source": [
    "Проверим двумя способами:\n",
    "* Функцией *numpy.linalg.inv()*\n",
    "    * Если матрица обратима, то функция создаст обратную матрицу\n",
    "    * Если матрица необратима, то функция вызовет ошибку\n",
    "* Умножим нашу матрицу на обратную ей матрицу\n",
    "    * В результате мы должны получить единичную матрицу (матрица, у которой на главной диаганали единицы, а остальные элементы - нули)"
   ]
  },
  {
   "cell_type": "markdown",
   "metadata": {},
   "source": [
    "#### Способ *numpy.linalg.inv()*"
   ]
  },
  {
   "cell_type": "code",
   "execution_count": 15,
   "metadata": {},
   "outputs": [
    {
     "data": {
      "text/plain": [
       "array([[-1.02528749,  0.15967003,  0.34514283, -0.27201713],\n",
       "       [ 5.90492881, -1.00685012, -2.82588549,  3.96979162],\n",
       "       [-1.90793121,  0.42238636,  0.14033195, -0.92175874],\n",
       "       [-3.32766835,  1.12881506,  1.87490235, -2.59105267]])"
      ]
     },
     "execution_count": 15,
     "metadata": {},
     "output_type": "execute_result"
    }
   ],
   "source": [
    "random_matrix_inv = np.linalg.inv(random_matrix)\n",
    "random_matrix_inv"
   ]
  },
  {
   "cell_type": "markdown",
   "metadata": {},
   "source": [
    "#### Способ \"обратной матрицы\""
   ]
  },
  {
   "cell_type": "code",
   "execution_count": 16,
   "metadata": {},
   "outputs": [
    {
     "data": {
      "text/plain": [
       "array([[1, 0, 0, 0],\n",
       "       [0, 1, 0, 0],\n",
       "       [0, 0, 1, 0],\n",
       "       [0, 0, 0, 1]])"
      ]
     },
     "execution_count": 16,
     "metadata": {},
     "output_type": "execute_result"
    }
   ],
   "source": [
    "np.round(random_matrix.dot(random_matrix_inv)).astype(int)"
   ]
  },
  {
   "cell_type": "markdown",
   "metadata": {},
   "source": [
    "Оба способа показали что матрица *random_matrix* является обратимой"
   ]
  },
  {
   "cell_type": "markdown",
   "metadata": {},
   "source": [
    "### Сравним данные на разных этапах преобразования"
   ]
  },
  {
   "cell_type": "markdown",
   "metadata": {},
   "source": [
    "Для проверки возьмем данные из *features_train*"
   ]
  },
  {
   "cell_type": "markdown",
   "metadata": {},
   "source": [
    "#### Закодируем данные нашим методом"
   ]
  },
  {
   "cell_type": "code",
   "execution_count": 17,
   "metadata": {},
   "outputs": [],
   "source": [
    "encoded_matrix_features_train = matrix_features_train.dot(random_matrix)\n",
    "encoded_matrix_features_test = matrix_features_test.dot(random_matrix)"
   ]
  },
  {
   "cell_type": "markdown",
   "metadata": {},
   "source": [
    "#### Декодируем данные нашим методом"
   ]
  },
  {
   "cell_type": "code",
   "execution_count": 18,
   "metadata": {},
   "outputs": [],
   "source": [
    "decoded_matrix_features_train = encoded_matrix_features_train.dot(random_matrix_inv)\n",
    "decoded_matrix_features_test = encoded_matrix_features_test.dot(random_matrix_inv)"
   ]
  },
  {
   "cell_type": "markdown",
   "metadata": {},
   "source": [
    "#### Сравним данные на примере *features_train*"
   ]
  },
  {
   "cell_type": "code",
   "execution_count": 19,
   "metadata": {},
   "outputs": [
    {
     "name": "stdout",
     "output_type": "stream",
     "text": [
      "Исходные данные:\n"
     ]
    },
    {
     "data": {
      "text/html": [
       "<div>\n",
       "<style scoped>\n",
       "    .dataframe tbody tr th:only-of-type {\n",
       "        vertical-align: middle;\n",
       "    }\n",
       "\n",
       "    .dataframe tbody tr th {\n",
       "        vertical-align: top;\n",
       "    }\n",
       "\n",
       "    .dataframe thead th {\n",
       "        text-align: right;\n",
       "    }\n",
       "</style>\n",
       "<table border=\"1\" class=\"dataframe\">\n",
       "  <thead>\n",
       "    <tr style=\"text-align: right;\">\n",
       "      <th></th>\n",
       "      <th>Пол</th>\n",
       "      <th>Возраст</th>\n",
       "      <th>Зарплата</th>\n",
       "      <th>Члены семьи</th>\n",
       "    </tr>\n",
       "  </thead>\n",
       "  <tbody>\n",
       "    <tr>\n",
       "      <th>3369</th>\n",
       "      <td>1</td>\n",
       "      <td>43</td>\n",
       "      <td>36200</td>\n",
       "      <td>1</td>\n",
       "    </tr>\n",
       "    <tr>\n",
       "      <th>1441</th>\n",
       "      <td>1</td>\n",
       "      <td>34</td>\n",
       "      <td>57600</td>\n",
       "      <td>0</td>\n",
       "    </tr>\n",
       "    <tr>\n",
       "      <th>571</th>\n",
       "      <td>0</td>\n",
       "      <td>32</td>\n",
       "      <td>41100</td>\n",
       "      <td>1</td>\n",
       "    </tr>\n",
       "    <tr>\n",
       "      <th>225</th>\n",
       "      <td>0</td>\n",
       "      <td>36</td>\n",
       "      <td>45100</td>\n",
       "      <td>1</td>\n",
       "    </tr>\n",
       "    <tr>\n",
       "      <th>2558</th>\n",
       "      <td>0</td>\n",
       "      <td>33</td>\n",
       "      <td>50600</td>\n",
       "      <td>2</td>\n",
       "    </tr>\n",
       "  </tbody>\n",
       "</table>\n",
       "</div>"
      ],
      "text/plain": [
       "      Пол  Возраст  Зарплата  Члены семьи\n",
       "3369    1       43     36200            1\n",
       "1441    1       34     57600            0\n",
       "571     0       32     41100            1\n",
       "225     0       36     45100            1\n",
       "2558    0       33     50600            2"
      ]
     },
     "metadata": {},
     "output_type": "display_data"
    },
    {
     "name": "stdout",
     "output_type": "stream",
     "text": [
      "\n",
      "Кодированные данные:\n"
     ]
    },
    {
     "data": {
      "text/html": [
       "<div>\n",
       "<style scoped>\n",
       "    .dataframe tbody tr th:only-of-type {\n",
       "        vertical-align: middle;\n",
       "    }\n",
       "\n",
       "    .dataframe tbody tr th {\n",
       "        vertical-align: top;\n",
       "    }\n",
       "\n",
       "    .dataframe thead th {\n",
       "        text-align: right;\n",
       "    }\n",
       "</style>\n",
       "<table border=\"1\" class=\"dataframe\">\n",
       "  <thead>\n",
       "    <tr style=\"text-align: right;\">\n",
       "      <th></th>\n",
       "      <th>Пол</th>\n",
       "      <th>Возраст</th>\n",
       "      <th>Зарплата</th>\n",
       "      <th>Члены семьи</th>\n",
       "    </tr>\n",
       "  </thead>\n",
       "  <tbody>\n",
       "    <tr>\n",
       "      <th>3369</th>\n",
       "      <td>55261.157841</td>\n",
       "      <td>-1552.195641</td>\n",
       "      <td>-53312.389720</td>\n",
       "      <td>10785.688198</td>\n",
       "    </tr>\n",
       "    <tr>\n",
       "      <th>1441</th>\n",
       "      <td>87887.264384</td>\n",
       "      <td>-2515.589937</td>\n",
       "      <td>-84842.280225</td>\n",
       "      <td>17101.506386</td>\n",
       "    </tr>\n",
       "    <tr>\n",
       "      <th>571</th>\n",
       "      <td>62723.508316</td>\n",
       "      <td>-1784.451604</td>\n",
       "      <td>-60535.483940</td>\n",
       "      <td>12216.016232</td>\n",
       "    </tr>\n",
       "    <tr>\n",
       "      <th>225</th>\n",
       "      <td>68828.675000</td>\n",
       "      <td>-1957.005476</td>\n",
       "      <td>-66426.588619</td>\n",
       "      <td>13406.445284</td>\n",
       "    </tr>\n",
       "    <tr>\n",
       "      <th>2558</th>\n",
       "      <td>77216.862323</td>\n",
       "      <td>-2204.942434</td>\n",
       "      <td>-74530.984759</td>\n",
       "      <td>15028.685271</td>\n",
       "    </tr>\n",
       "  </tbody>\n",
       "</table>\n",
       "</div>"
      ],
      "text/plain": [
       "               Пол      Возраст      Зарплата   Члены семьи\n",
       "3369  55261.157841 -1552.195641 -53312.389720  10785.688198\n",
       "1441  87887.264384 -2515.589937 -84842.280225  17101.506386\n",
       "571   62723.508316 -1784.451604 -60535.483940  12216.016232\n",
       "225   68828.675000 -1957.005476 -66426.588619  13406.445284\n",
       "2558  77216.862323 -2204.942434 -74530.984759  15028.685271"
      ]
     },
     "metadata": {},
     "output_type": "display_data"
    },
    {
     "name": "stdout",
     "output_type": "stream",
     "text": [
      "\n",
      "Декодированные данные:\n"
     ]
    },
    {
     "data": {
      "text/html": [
       "<div>\n",
       "<style scoped>\n",
       "    .dataframe tbody tr th:only-of-type {\n",
       "        vertical-align: middle;\n",
       "    }\n",
       "\n",
       "    .dataframe tbody tr th {\n",
       "        vertical-align: top;\n",
       "    }\n",
       "\n",
       "    .dataframe thead th {\n",
       "        text-align: right;\n",
       "    }\n",
       "</style>\n",
       "<table border=\"1\" class=\"dataframe\">\n",
       "  <thead>\n",
       "    <tr style=\"text-align: right;\">\n",
       "      <th></th>\n",
       "      <th>Пол</th>\n",
       "      <th>Возраст</th>\n",
       "      <th>Зарплата</th>\n",
       "      <th>Члены семьи</th>\n",
       "    </tr>\n",
       "  </thead>\n",
       "  <tbody>\n",
       "    <tr>\n",
       "      <th>3369</th>\n",
       "      <td>1</td>\n",
       "      <td>43</td>\n",
       "      <td>36200</td>\n",
       "      <td>1</td>\n",
       "    </tr>\n",
       "    <tr>\n",
       "      <th>1441</th>\n",
       "      <td>1</td>\n",
       "      <td>34</td>\n",
       "      <td>57600</td>\n",
       "      <td>0</td>\n",
       "    </tr>\n",
       "    <tr>\n",
       "      <th>571</th>\n",
       "      <td>0</td>\n",
       "      <td>32</td>\n",
       "      <td>41100</td>\n",
       "      <td>1</td>\n",
       "    </tr>\n",
       "    <tr>\n",
       "      <th>225</th>\n",
       "      <td>0</td>\n",
       "      <td>36</td>\n",
       "      <td>45100</td>\n",
       "      <td>1</td>\n",
       "    </tr>\n",
       "    <tr>\n",
       "      <th>2558</th>\n",
       "      <td>0</td>\n",
       "      <td>33</td>\n",
       "      <td>50600</td>\n",
       "      <td>2</td>\n",
       "    </tr>\n",
       "  </tbody>\n",
       "</table>\n",
       "</div>"
      ],
      "text/plain": [
       "      Пол  Возраст  Зарплата  Члены семьи\n",
       "3369    1       43     36200            1\n",
       "1441    1       34     57600            0\n",
       "571     0       32     41100            1\n",
       "225     0       36     45100            1\n",
       "2558    0       33     50600            2"
      ]
     },
     "metadata": {},
     "output_type": "display_data"
    }
   ],
   "source": [
    "encoded_features_train = pd.DataFrame(\n",
    "                                      encoded_matrix_features_train,\n",
    "                                      columns=features_train.columns,\n",
    "                                      index=features_train.index)\n",
    "\n",
    "decoded_features_train = pd.DataFrame(\n",
    "                                      decoded_matrix_features_train,\n",
    "                                      columns=features_train.columns,\n",
    "                                      index=features_train.index)\n",
    "\n",
    "decoded_features_train = round(decoded_features_train).astype(int)\n",
    "\n",
    "print('Исходные данные:')\n",
    "display(features_train.head())\n",
    "print()\n",
    "print('Кодированные данные:')\n",
    "display(encoded_features_train.head())\n",
    "print()\n",
    "print('Декодированные данные:')\n",
    "display(decoded_features_train.head())\n",
    "\n"
   ]
  },
  {
   "cell_type": "markdown",
   "metadata": {},
   "source": [
    "* После кодирования-декодированния данные не изменились\n",
    "* По кодированным данным сложно восстановить персональную информацию"
   ]
  },
  {
   "cell_type": "markdown",
   "metadata": {},
   "source": [
    "## Проверка алгоритма"
   ]
  },
  {
   "cell_type": "markdown",
   "metadata": {},
   "source": [
    "Проверим, что качество линейной регрессии из sklearn не отличается до и после преобразования. Применим метрику R2"
   ]
  },
  {
   "cell_type": "code",
   "execution_count": 20,
   "metadata": {},
   "outputs": [
    {
     "name": "stderr",
     "output_type": "stream",
     "text": [
      "c:\\ProgramData\\Anaconda3\\lib\\site-packages\\sklearn\\base.py:443: UserWarning: X has feature names, but LinearRegression was fitted without feature names\n",
      "  warnings.warn(\n",
      "c:\\ProgramData\\Anaconda3\\lib\\site-packages\\sklearn\\base.py:443: UserWarning: X has feature names, but LinearRegression was fitted without feature names\n",
      "  warnings.warn(\n"
     ]
    }
   ],
   "source": [
    "model = LinearRegression()\n",
    "\n",
    "model.fit(matrix_features_train, target_train)\n",
    "predicted_original = model.predict(features_test)\n",
    "r2_original = model.score(features_test, target_test)"
   ]
  },
  {
   "cell_type": "code",
   "execution_count": 21,
   "metadata": {},
   "outputs": [],
   "source": [
    "model.fit(encoded_matrix_features_train, target_train)\n",
    "predicted_encoded = model.predict(encoded_matrix_features_test)\n",
    "r2_encoded = model.score(encoded_matrix_features_test, target_test)"
   ]
  },
  {
   "cell_type": "code",
   "execution_count": 22,
   "metadata": {},
   "outputs": [],
   "source": [
    "model.fit(decoded_matrix_features_train, target_train)\n",
    "predicted_decoded = model.predict(decoded_matrix_features_test)\n",
    "r2_decoded = model.score(decoded_matrix_features_test, target_test)"
   ]
  },
  {
   "cell_type": "code",
   "execution_count": 23,
   "metadata": {},
   "outputs": [
    {
     "name": "stdout",
     "output_type": "stream",
     "text": [
      "R2 score исходных данных: 0.435228\n",
      "R2 score кодированных данных: 0.435228\n",
      "R2 score декодированных данных: 0.435228\n"
     ]
    }
   ],
   "source": [
    "print('R2 score исходных данных: {:.6f}'.format(r2_original))\n",
    "print('R2 score кодированных данных: {:.6}'.format(r2_encoded))\n",
    "print('R2 score декодированных данных: {:.6f}'.format(r2_decoded))"
   ]
  },
  {
   "cell_type": "code",
   "execution_count": 24,
   "metadata": {},
   "outputs": [
    {
     "name": "stdout",
     "output_type": "stream",
     "text": [
      "R2 score равны. Алгоритм кодирования работает\n"
     ]
    }
   ],
   "source": [
    "r2_original = round(r2_original, 12)\n",
    "r2_encoded = round(r2_encoded, 12)\n",
    "r2_decoded = round(r2_decoded, 12)\n",
    "\n",
    "if (r2_original == r2_encoded) & (r2_original == r2_decoded):\n",
    "    print('R2 score равны. Алгоритм кодирования работает')\n",
    "else:\n",
    "    print('R2 score не равны. Алгоритм кодирования не работает')"
   ]
  },
  {
   "cell_type": "markdown",
   "metadata": {},
   "source": [
    "## Общий вывод"
   ]
  },
  {
   "cell_type": "markdown",
   "metadata": {},
   "source": [
    "Проведено исследование с целью разработать такой метод преобразования данных, чтобы по ним было сложно восстановить персональную информацию и при преобразовании качество моделей машинного обучения не ухудшилось.\n",
    "\n",
    "Данные получили из файла insurance.csv.\n",
    "\n",
    "Исследование проходило в пять этапов:\n",
    "\n",
    "* Загрузка данных \n",
    "\n",
    "    * Добавили библиотеки и функции, необходимые для нашего исследования\n",
    "    * Загрузили данные \n",
    "\n",
    "\n",
    "* Изучение данных\n",
    "\n",
    "    * Данные состоят из 5000 объектов\n",
    "    * Имееют 5 признаков:\n",
    "        * Вспомогательные признаки: \n",
    "            * пол\n",
    "            * возраст\n",
    "            * зарплата застрахованного\n",
    "            * количество членов его семьи\n",
    "        * Целевой признак: \n",
    "            * количество страховых выплат клиенту за последние 5 лет\n",
    "    * Пропуски отсутствуют\n",
    "    * Данные в признаках \"Возраст\" и \"Зарплата\" имели формат *float*, но целочисленные значения\n",
    "    * Все признаки имели малые целочисленные значения - мы преобразовали их в формат *int32* для уменьшения памяти и быстродеятсвия\n",
    "    * Содержат 153 явных дубликата (На решение задачи исследования не влияет, мы оставили эти данные для обучения)\n",
    "    * Проверили признаки на наличие аномалий:\n",
    "        * \"Пол\" - должен содержать 2 уникальных значения \n",
    "        * \"Возраст\" - проверим по критериям 18 <= Возраст <= 100\n",
    "        * \"Зарплата\" - не должен быть равен 0\n",
    "        * \"Члены семьи\" - не должен быть меньше 0\n",
    "        * \"Страховые выплаты\" - не должен быть меньше 0\n",
    "        * Аномалий не обнаружено \n",
    "\n",
    "\n",
    "* Умножение матриц\n",
    "\n",
    "    * Доказали что качество линейной регрессии при умножении признаков $X$ на обратимую матрицу $P$ не изменится\n",
    "\n",
    "    * Параметры линейной регрессии в исходной задаче $w$ и в преобразованной $w_1$ связаны по формуле: $w_1 = P^{-1} w$\n",
    "\n",
    "\n",
    "* Выбор алгоритма преобразования\n",
    "\n",
    "    * В качестве алгоритма преобразования данных предложили умножение исходных данных на обратимую матрицу со случайными величинами\n",
    "    * Для создания обратимой матрицы со случайными величинами воспользовались функцией numpy.random.randn()\n",
    "    * После кодирования-декодированния данные не изменились\n",
    "    * По кодированным данным сложно восстановить персональную информацию\n",
    "\n",
    "\n",
    "* Проверка алгоритма\n",
    "\n",
    "    * Проверили, что качество линейной регрессии из sklearn не отличается до и после преобразования\n",
    "        * Применим метрику R2\n",
    "            * R2 score исходных данных: 0.435228\n",
    "            * R2 score кодированных данных: 0.435228\n",
    "            * R2 score декодированных данных: 0.435228\n",
    "        * R2 score равны. Алгоритм кодирования работает"
   ]
  }
 ],
 "metadata": {
  "ExecuteTimeLog": [
   {
    "duration": 1147,
    "start_time": "2023-04-02T07:27:01.689Z"
   },
   {
    "duration": 2,
    "start_time": "2023-04-02T07:27:02.837Z"
   },
   {
    "duration": 20,
    "start_time": "2023-04-02T07:27:02.841Z"
   },
   {
    "duration": 88,
    "start_time": "2023-04-02T07:27:51.732Z"
   },
   {
    "duration": 3,
    "start_time": "2023-04-02T07:30:11.224Z"
   },
   {
    "duration": 6,
    "start_time": "2023-04-02T07:42:17.014Z"
   },
   {
    "duration": 26,
    "start_time": "2023-04-02T07:43:23.911Z"
   },
   {
    "duration": 16,
    "start_time": "2023-04-02T07:44:20.297Z"
   },
   {
    "duration": 5,
    "start_time": "2023-04-02T07:49:02.235Z"
   },
   {
    "duration": 5,
    "start_time": "2023-04-02T07:54:49.623Z"
   },
   {
    "duration": 5,
    "start_time": "2023-04-02T07:55:07.631Z"
   },
   {
    "duration": 4,
    "start_time": "2023-04-02T07:55:36.894Z"
   },
   {
    "duration": 93,
    "start_time": "2023-04-02T07:56:27.094Z"
   },
   {
    "duration": 11,
    "start_time": "2023-04-02T07:56:46.131Z"
   },
   {
    "duration": 26,
    "start_time": "2023-04-02T07:57:08.885Z"
   },
   {
    "duration": 20,
    "start_time": "2023-04-02T07:57:55.303Z"
   },
   {
    "duration": 11,
    "start_time": "2023-04-02T07:58:30.112Z"
   },
   {
    "duration": 19,
    "start_time": "2023-04-02T08:07:55.475Z"
   },
   {
    "duration": 9,
    "start_time": "2023-04-02T08:08:04.606Z"
   },
   {
    "duration": 10,
    "start_time": "2023-04-02T08:08:31.504Z"
   },
   {
    "duration": 5,
    "start_time": "2023-04-02T08:22:39.529Z"
   },
   {
    "duration": 26,
    "start_time": "2023-04-02T08:22:40.492Z"
   },
   {
    "duration": 21,
    "start_time": "2023-04-02T08:22:45.585Z"
   },
   {
    "duration": 22,
    "start_time": "2023-04-02T08:22:56.370Z"
   },
   {
    "duration": 27,
    "start_time": "2023-04-02T08:22:58.575Z"
   },
   {
    "duration": 4,
    "start_time": "2023-04-02T08:26:18.303Z"
   },
   {
    "duration": 21,
    "start_time": "2023-04-02T08:26:20.579Z"
   },
   {
    "duration": 4,
    "start_time": "2023-04-02T08:26:38.206Z"
   },
   {
    "duration": 18,
    "start_time": "2023-04-02T08:26:41.697Z"
   },
   {
    "duration": 4,
    "start_time": "2023-04-02T09:05:54.172Z"
   },
   {
    "duration": 18,
    "start_time": "2023-04-02T09:05:56.747Z"
   },
   {
    "duration": 5,
    "start_time": "2023-04-02T09:06:09.194Z"
   },
   {
    "duration": 22,
    "start_time": "2023-04-02T09:06:11.545Z"
   },
   {
    "duration": 5,
    "start_time": "2023-04-02T09:06:27.345Z"
   },
   {
    "duration": 19,
    "start_time": "2023-04-02T09:06:30.034Z"
   },
   {
    "duration": 5,
    "start_time": "2023-04-02T09:11:10.865Z"
   },
   {
    "duration": 24,
    "start_time": "2023-04-02T09:11:13.901Z"
   },
   {
    "duration": 5,
    "start_time": "2023-04-02T09:11:31.010Z"
   },
   {
    "duration": 24,
    "start_time": "2023-04-02T09:11:33.542Z"
   },
   {
    "duration": 6,
    "start_time": "2023-04-02T09:11:45.595Z"
   },
   {
    "duration": 26,
    "start_time": "2023-04-02T09:11:47.936Z"
   },
   {
    "duration": 5,
    "start_time": "2023-04-02T09:12:23.789Z"
   },
   {
    "duration": 371,
    "start_time": "2023-04-02T09:12:26.678Z"
   },
   {
    "duration": 6,
    "start_time": "2023-04-02T09:14:56.053Z"
   },
   {
    "duration": 306,
    "start_time": "2023-04-02T09:14:58.180Z"
   },
   {
    "duration": 5,
    "start_time": "2023-04-02T09:15:52.394Z"
   },
   {
    "duration": 248,
    "start_time": "2023-04-02T09:15:55.074Z"
   },
   {
    "duration": 8,
    "start_time": "2023-04-02T09:40:23.881Z"
   },
   {
    "duration": 13,
    "start_time": "2023-04-02T09:41:09.733Z"
   },
   {
    "duration": 11,
    "start_time": "2023-04-02T09:41:53.137Z"
   },
   {
    "duration": 9,
    "start_time": "2023-04-02T09:42:13.430Z"
   },
   {
    "duration": 11,
    "start_time": "2023-04-02T09:42:49.961Z"
   },
   {
    "duration": 19,
    "start_time": "2023-04-02T09:45:44.945Z"
   },
   {
    "duration": 6,
    "start_time": "2023-04-02T09:57:30.332Z"
   },
   {
    "duration": 10,
    "start_time": "2023-04-02T09:57:52.394Z"
   },
   {
    "duration": 12,
    "start_time": "2023-04-02T09:58:03.983Z"
   },
   {
    "duration": 8,
    "start_time": "2023-04-02T09:58:34.894Z"
   },
   {
    "duration": 15,
    "start_time": "2023-04-02T09:58:55.723Z"
   },
   {
    "duration": 9,
    "start_time": "2023-04-02T09:59:42.499Z"
   },
   {
    "duration": 9,
    "start_time": "2023-04-02T09:59:50.665Z"
   },
   {
    "duration": 6,
    "start_time": "2023-04-02T10:12:10.976Z"
   },
   {
    "duration": 267,
    "start_time": "2023-04-02T10:12:13.265Z"
   },
   {
    "duration": 9,
    "start_time": "2023-04-02T10:14:19.442Z"
   },
   {
    "duration": 293,
    "start_time": "2023-04-02T10:14:21.721Z"
   },
   {
    "duration": 8,
    "start_time": "2023-04-02T10:15:36.794Z"
   },
   {
    "duration": 287,
    "start_time": "2023-04-02T10:15:39.247Z"
   },
   {
    "duration": 11,
    "start_time": "2023-04-02T10:21:55.683Z"
   },
   {
    "duration": 377,
    "start_time": "2023-04-02T10:21:57.995Z"
   },
   {
    "duration": 9,
    "start_time": "2023-04-02T10:22:43.888Z"
   },
   {
    "duration": 9,
    "start_time": "2023-04-02T10:23:10.430Z"
   },
   {
    "duration": 361,
    "start_time": "2023-04-02T10:23:12.954Z"
   },
   {
    "duration": 63,
    "start_time": "2023-04-02T10:29:06.505Z"
   },
   {
    "duration": 343,
    "start_time": "2023-04-02T10:29:08.884Z"
   },
   {
    "duration": 10,
    "start_time": "2023-04-02T10:29:23.247Z"
   },
   {
    "duration": 426,
    "start_time": "2023-04-02T10:29:26.224Z"
   },
   {
    "duration": 10,
    "start_time": "2023-04-02T10:30:47.395Z"
   },
   {
    "duration": 378,
    "start_time": "2023-04-02T10:30:50.099Z"
   },
   {
    "duration": 9,
    "start_time": "2023-04-02T10:31:34.042Z"
   },
   {
    "duration": 357,
    "start_time": "2023-04-02T10:31:36.635Z"
   },
   {
    "duration": 1360,
    "start_time": "2023-04-02T11:44:45.786Z"
   },
   {
    "duration": 5,
    "start_time": "2023-04-02T11:50:21.938Z"
   },
   {
    "duration": 7,
    "start_time": "2023-04-02T11:51:51.473Z"
   },
   {
    "duration": 8,
    "start_time": "2023-04-02T12:02:59.344Z"
   },
   {
    "duration": 19,
    "start_time": "2023-04-02T12:03:05.344Z"
   },
   {
    "duration": 3,
    "start_time": "2023-04-02T12:06:10.653Z"
   },
   {
    "duration": 21,
    "start_time": "2023-04-02T12:06:10.658Z"
   },
   {
    "duration": 15,
    "start_time": "2023-04-02T12:06:10.681Z"
   },
   {
    "duration": 33,
    "start_time": "2023-04-02T12:06:10.697Z"
   },
   {
    "duration": 390,
    "start_time": "2023-04-02T12:06:10.732Z"
   },
   {
    "duration": 4,
    "start_time": "2023-04-02T12:06:11.124Z"
   },
   {
    "duration": 6,
    "start_time": "2023-04-02T12:06:25.162Z"
   },
   {
    "duration": 4,
    "start_time": "2023-04-02T12:18:26.959Z"
   },
   {
    "duration": 5,
    "start_time": "2023-04-02T12:19:32.810Z"
   },
   {
    "duration": 4,
    "start_time": "2023-04-02T12:21:15.622Z"
   },
   {
    "duration": 4,
    "start_time": "2023-04-02T12:21:55.224Z"
   },
   {
    "duration": 3,
    "start_time": "2023-04-02T12:22:41.255Z"
   },
   {
    "duration": 4,
    "start_time": "2023-04-02T12:23:22.356Z"
   },
   {
    "duration": 4,
    "start_time": "2023-04-02T12:24:31.812Z"
   },
   {
    "duration": 4,
    "start_time": "2023-04-02T12:24:57.800Z"
   },
   {
    "duration": 13,
    "start_time": "2023-04-02T18:45:33.269Z"
   },
   {
    "duration": 11,
    "start_time": "2023-04-02T18:46:31.772Z"
   },
   {
    "duration": 11,
    "start_time": "2023-04-02T18:47:18.166Z"
   },
   {
    "duration": 267,
    "start_time": "2023-04-02T18:48:19.769Z"
   },
   {
    "duration": 13,
    "start_time": "2023-04-02T18:48:30.890Z"
   },
   {
    "duration": 6,
    "start_time": "2023-04-02T18:48:38.615Z"
   },
   {
    "duration": 4,
    "start_time": "2023-04-02T18:55:07.814Z"
   },
   {
    "duration": 4,
    "start_time": "2023-04-02T19:01:05.408Z"
   },
   {
    "duration": 4,
    "start_time": "2023-04-02T19:02:29.469Z"
   },
   {
    "duration": 20,
    "start_time": "2023-04-02T19:08:16.311Z"
   },
   {
    "duration": 6,
    "start_time": "2023-04-02T19:08:31.601Z"
   },
   {
    "duration": 4,
    "start_time": "2023-04-02T19:12:10.667Z"
   },
   {
    "duration": 4,
    "start_time": "2023-04-02T19:13:19.697Z"
   },
   {
    "duration": 4,
    "start_time": "2023-04-02T19:15:37.942Z"
   },
   {
    "duration": 4,
    "start_time": "2023-04-02T19:15:50.821Z"
   },
   {
    "duration": 4,
    "start_time": "2023-04-02T19:15:57.364Z"
   },
   {
    "duration": 4,
    "start_time": "2023-04-02T19:45:29.549Z"
   },
   {
    "duration": 3,
    "start_time": "2023-04-02T19:55:15.293Z"
   },
   {
    "duration": 3,
    "start_time": "2023-04-02T19:55:17.631Z"
   },
   {
    "duration": 17,
    "start_time": "2023-04-02T19:58:25.798Z"
   },
   {
    "duration": 14,
    "start_time": "2023-04-02T19:58:49.539Z"
   },
   {
    "duration": 22,
    "start_time": "2023-04-02T20:13:25.486Z"
   },
   {
    "duration": 16,
    "start_time": "2023-04-02T20:13:50.503Z"
   },
   {
    "duration": 16,
    "start_time": "2023-04-02T20:14:27.882Z"
   },
   {
    "duration": 15,
    "start_time": "2023-04-02T20:14:54.008Z"
   },
   {
    "duration": 15,
    "start_time": "2023-04-02T20:20:05.254Z"
   },
   {
    "duration": 17,
    "start_time": "2023-04-02T20:21:47.954Z"
   },
   {
    "duration": 1211,
    "start_time": "2023-04-02T20:22:00.584Z"
   },
   {
    "duration": 2,
    "start_time": "2023-04-02T20:22:01.796Z"
   },
   {
    "duration": 37,
    "start_time": "2023-04-02T20:22:01.800Z"
   },
   {
    "duration": 54,
    "start_time": "2023-04-02T20:22:01.838Z"
   },
   {
    "duration": 385,
    "start_time": "2023-04-02T20:22:01.894Z"
   },
   {
    "duration": 5,
    "start_time": "2023-04-02T20:22:02.280Z"
   },
   {
    "duration": 32,
    "start_time": "2023-04-02T20:22:02.286Z"
   },
   {
    "duration": 18,
    "start_time": "2023-04-02T20:22:02.319Z"
   },
   {
    "duration": 12,
    "start_time": "2023-04-02T20:22:02.339Z"
   },
   {
    "duration": 9,
    "start_time": "2023-04-02T20:22:02.353Z"
   },
   {
    "duration": 24,
    "start_time": "2023-04-02T20:22:02.363Z"
   },
   {
    "duration": 24,
    "start_time": "2023-04-02T20:22:02.388Z"
   },
   {
    "duration": 31,
    "start_time": "2023-04-02T20:22:02.413Z"
   },
   {
    "duration": 16,
    "start_time": "2023-04-02T20:22:02.446Z"
   },
   {
    "duration": 26,
    "start_time": "2023-04-02T20:22:02.463Z"
   },
   {
    "duration": 58,
    "start_time": "2023-04-02T20:22:02.491Z"
   },
   {
    "duration": 3,
    "start_time": "2023-04-02T20:22:02.551Z"
   },
   {
    "duration": 17,
    "start_time": "2023-04-02T20:22:02.555Z"
   },
   {
    "duration": 92,
    "start_time": "2023-04-02T20:22:02.573Z"
   },
   {
    "duration": 18,
    "start_time": "2023-04-02T20:22:34.920Z"
   },
   {
    "duration": 25,
    "start_time": "2023-04-02T20:23:33.532Z"
   },
   {
    "duration": 22,
    "start_time": "2023-04-02T20:23:55.587Z"
   },
   {
    "duration": 18,
    "start_time": "2023-04-02T20:25:46.101Z"
   },
   {
    "duration": 20,
    "start_time": "2023-04-02T20:26:02.528Z"
   },
   {
    "duration": 18,
    "start_time": "2023-04-02T20:29:55.815Z"
   },
   {
    "duration": 24,
    "start_time": "2023-04-02T20:33:22.791Z"
   },
   {
    "duration": 97,
    "start_time": "2023-04-02T20:39:58.199Z"
   },
   {
    "duration": 3,
    "start_time": "2023-04-02T20:40:03.489Z"
   },
   {
    "duration": 3,
    "start_time": "2023-04-02T20:40:05.267Z"
   },
   {
    "duration": 7,
    "start_time": "2023-04-02T20:40:41.093Z"
   },
   {
    "duration": 4,
    "start_time": "2023-04-02T20:41:37.163Z"
   },
   {
    "duration": 4,
    "start_time": "2023-04-02T20:41:38.433Z"
   },
   {
    "duration": 4,
    "start_time": "2023-04-02T20:43:15.900Z"
   },
   {
    "duration": 8,
    "start_time": "2023-04-02T20:44:36.014Z"
   },
   {
    "duration": 3,
    "start_time": "2023-04-02T20:45:38.125Z"
   },
   {
    "duration": 3,
    "start_time": "2023-04-02T20:45:51.244Z"
   },
   {
    "duration": 3,
    "start_time": "2023-04-02T20:48:54.202Z"
   },
   {
    "duration": 3,
    "start_time": "2023-04-02T20:49:39.095Z"
   },
   {
    "duration": 4,
    "start_time": "2023-04-02T20:50:43.860Z"
   },
   {
    "duration": 4,
    "start_time": "2023-04-02T20:53:26.954Z"
   },
   {
    "duration": 5,
    "start_time": "2023-04-02T20:54:03.258Z"
   },
   {
    "duration": 5,
    "start_time": "2023-04-02T20:54:20.245Z"
   },
   {
    "duration": 9,
    "start_time": "2023-04-02T20:54:25.199Z"
   },
   {
    "duration": 3,
    "start_time": "2023-04-02T20:54:38.688Z"
   },
   {
    "duration": 3,
    "start_time": "2023-04-02T20:54:40.998Z"
   },
   {
    "duration": 5,
    "start_time": "2023-04-02T20:55:13.100Z"
   },
   {
    "duration": 2573,
    "start_time": "2023-04-03T08:14:48.485Z"
   },
   {
    "duration": 2,
    "start_time": "2023-04-03T08:14:51.061Z"
   },
   {
    "duration": 41,
    "start_time": "2023-04-03T08:14:51.065Z"
   },
   {
    "duration": 102,
    "start_time": "2023-04-03T08:14:51.108Z"
   },
   {
    "duration": 553,
    "start_time": "2023-04-03T08:14:51.213Z"
   },
   {
    "duration": 6,
    "start_time": "2023-04-03T08:14:51.768Z"
   },
   {
    "duration": 24,
    "start_time": "2023-04-03T08:14:51.775Z"
   },
   {
    "duration": 24,
    "start_time": "2023-04-03T08:14:51.800Z"
   },
   {
    "duration": 42,
    "start_time": "2023-04-03T08:14:51.825Z"
   },
   {
    "duration": 46,
    "start_time": "2023-04-03T08:14:51.869Z"
   },
   {
    "duration": 31,
    "start_time": "2023-04-03T08:14:51.917Z"
   },
   {
    "duration": 17,
    "start_time": "2023-04-03T08:14:51.950Z"
   },
   {
    "duration": 16,
    "start_time": "2023-04-03T08:14:51.969Z"
   },
   {
    "duration": 8,
    "start_time": "2023-04-03T08:14:51.988Z"
   },
   {
    "duration": 11,
    "start_time": "2023-04-03T08:14:51.998Z"
   },
   {
    "duration": 77,
    "start_time": "2023-04-03T08:14:52.011Z"
   },
   {
    "duration": 5,
    "start_time": "2023-04-03T08:14:52.090Z"
   },
   {
    "duration": 90,
    "start_time": "2023-04-03T08:14:52.097Z"
   },
   {
    "duration": 30,
    "start_time": "2023-04-03T08:14:52.189Z"
   },
   {
    "duration": 67,
    "start_time": "2023-04-03T08:14:52.221Z"
   },
   {
    "duration": 105,
    "start_time": "2023-04-03T08:14:52.290Z"
   },
   {
    "duration": 12,
    "start_time": "2023-04-03T08:14:52.396Z"
   },
   {
    "duration": 6,
    "start_time": "2023-04-03T08:14:52.409Z"
   },
   {
    "duration": 23,
    "start_time": "2023-04-03T08:14:52.417Z"
   },
   {
    "duration": 1961,
    "start_time": "2023-04-03T09:15:21.034Z"
   },
   {
    "duration": 3,
    "start_time": "2023-04-03T09:15:22.998Z"
   },
   {
    "duration": 25,
    "start_time": "2023-04-03T09:15:23.004Z"
   },
   {
    "duration": 47,
    "start_time": "2023-04-03T09:15:23.032Z"
   },
   {
    "duration": 637,
    "start_time": "2023-04-03T09:15:23.081Z"
   },
   {
    "duration": 8,
    "start_time": "2023-04-03T09:15:23.721Z"
   },
   {
    "duration": 10,
    "start_time": "2023-04-03T09:15:23.732Z"
   },
   {
    "duration": 11,
    "start_time": "2023-04-03T09:15:23.745Z"
   },
   {
    "duration": 7,
    "start_time": "2023-04-03T09:15:23.788Z"
   },
   {
    "duration": 7,
    "start_time": "2023-04-03T09:15:23.799Z"
   },
   {
    "duration": 12,
    "start_time": "2023-04-03T09:15:23.808Z"
   },
   {
    "duration": 11,
    "start_time": "2023-04-03T09:15:23.823Z"
   },
   {
    "duration": 8,
    "start_time": "2023-04-03T09:15:23.837Z"
   },
   {
    "duration": 44,
    "start_time": "2023-04-03T09:15:23.848Z"
   },
   {
    "duration": 22,
    "start_time": "2023-04-03T09:15:23.895Z"
   },
   {
    "duration": 85,
    "start_time": "2023-04-03T09:15:23.922Z"
   },
   {
    "duration": 84,
    "start_time": "2023-04-03T09:15:24.010Z"
   },
   {
    "duration": 9,
    "start_time": "2023-04-03T09:15:24.097Z"
   },
   {
    "duration": 37,
    "start_time": "2023-04-03T09:15:24.109Z"
   },
   {
    "duration": 12,
    "start_time": "2023-04-03T09:15:24.148Z"
   },
   {
    "duration": 32,
    "start_time": "2023-04-03T09:15:24.162Z"
   },
   {
    "duration": 9,
    "start_time": "2023-04-03T09:15:24.197Z"
   },
   {
    "duration": 6,
    "start_time": "2023-04-03T09:15:24.208Z"
   },
   {
    "duration": 8,
    "start_time": "2023-04-03T09:15:24.217Z"
   },
   {
    "duration": 2754,
    "start_time": "2023-04-03T13:31:29.742Z"
   },
   {
    "duration": 3,
    "start_time": "2023-04-03T13:31:32.497Z"
   },
   {
    "duration": 26,
    "start_time": "2023-04-03T13:31:32.501Z"
   },
   {
    "duration": 94,
    "start_time": "2023-04-03T13:31:32.529Z"
   },
   {
    "duration": 436,
    "start_time": "2023-04-03T13:32:16.273Z"
   },
   {
    "duration": 6,
    "start_time": "2023-04-03T13:33:16.122Z"
   },
   {
    "duration": 6,
    "start_time": "2023-04-03T13:33:17.673Z"
   },
   {
    "duration": 4,
    "start_time": "2023-04-03T13:33:19.374Z"
   },
   {
    "duration": 4,
    "start_time": "2023-04-03T13:33:20.234Z"
   },
   {
    "duration": 4,
    "start_time": "2023-04-03T13:33:22.065Z"
   },
   {
    "duration": 5,
    "start_time": "2023-04-03T13:33:22.914Z"
   },
   {
    "duration": 7,
    "start_time": "2023-04-03T13:35:41.172Z"
   },
   {
    "duration": 3,
    "start_time": "2023-04-03T13:35:42.174Z"
   },
   {
    "duration": 5,
    "start_time": "2023-04-03T13:35:44.341Z"
   },
   {
    "duration": 4,
    "start_time": "2023-04-03T13:35:45.219Z"
   },
   {
    "duration": 4,
    "start_time": "2023-04-03T13:35:45.674Z"
   },
   {
    "duration": 4,
    "start_time": "2023-04-03T13:35:46.504Z"
   },
   {
    "duration": 3,
    "start_time": "2023-04-03T13:35:46.825Z"
   },
   {
    "duration": 21,
    "start_time": "2023-04-03T13:35:47.188Z"
   },
   {
    "duration": 9,
    "start_time": "2023-04-03T13:35:47.852Z"
   },
   {
    "duration": 5,
    "start_time": "2023-04-03T13:35:48.041Z"
   },
   {
    "duration": 5,
    "start_time": "2023-04-03T13:35:48.229Z"
   },
   {
    "duration": 3,
    "start_time": "2023-04-03T13:35:48.401Z"
   },
   {
    "duration": 3,
    "start_time": "2023-04-03T13:35:48.588Z"
   },
   {
    "duration": 4,
    "start_time": "2023-04-03T13:37:06.481Z"
   },
   {
    "duration": 49,
    "start_time": "2023-04-04T12:06:27.187Z"
   },
   {
    "duration": 7,
    "start_time": "2023-04-04T12:06:32.709Z"
   },
   {
    "duration": 1547,
    "start_time": "2023-04-04T12:06:37.610Z"
   },
   {
    "duration": 2,
    "start_time": "2023-04-04T12:06:39.159Z"
   },
   {
    "duration": 14,
    "start_time": "2023-04-04T12:06:39.163Z"
   },
   {
    "duration": 92,
    "start_time": "2023-04-04T12:06:39.179Z"
   },
   {
    "duration": 481,
    "start_time": "2023-04-04T12:06:39.273Z"
   },
   {
    "duration": 5,
    "start_time": "2023-04-04T12:06:39.755Z"
   },
   {
    "duration": 12,
    "start_time": "2023-04-04T12:06:39.762Z"
   },
   {
    "duration": 166,
    "start_time": "2023-04-04T12:06:39.776Z"
   },
   {
    "duration": 7,
    "start_time": "2023-04-04T12:06:39.943Z"
   },
   {
    "duration": 22,
    "start_time": "2023-04-04T12:06:39.952Z"
   },
   {
    "duration": 11,
    "start_time": "2023-04-04T12:06:39.975Z"
   },
   {
    "duration": 9,
    "start_time": "2023-04-04T12:06:39.987Z"
   },
   {
    "duration": 17,
    "start_time": "2023-04-04T12:06:39.997Z"
   },
   {
    "duration": 5,
    "start_time": "2023-04-04T12:06:40.017Z"
   },
   {
    "duration": 28,
    "start_time": "2023-04-04T12:06:40.023Z"
   },
   {
    "duration": 15,
    "start_time": "2023-04-04T12:06:40.052Z"
   },
   {
    "duration": 10,
    "start_time": "2023-04-04T12:06:40.069Z"
   },
   {
    "duration": 68,
    "start_time": "2023-04-04T12:06:40.081Z"
   },
   {
    "duration": 3,
    "start_time": "2023-04-04T12:06:40.151Z"
   },
   {
    "duration": 107,
    "start_time": "2023-04-04T12:06:40.155Z"
   },
   {
    "duration": 7,
    "start_time": "2023-04-04T12:06:40.264Z"
   },
   {
    "duration": 79,
    "start_time": "2023-04-04T12:06:40.272Z"
   },
   {
    "duration": 4,
    "start_time": "2023-04-04T12:06:40.352Z"
   },
   {
    "duration": 97,
    "start_time": "2023-04-04T12:06:40.358Z"
   },
   {
    "duration": 12,
    "start_time": "2023-04-04T12:06:40.456Z"
   },
   {
    "duration": 147,
    "start_time": "2023-04-04T12:07:21.393Z"
   },
   {
    "duration": 122,
    "start_time": "2023-04-04T12:08:12.199Z"
   },
   {
    "duration": 76,
    "start_time": "2023-04-04T12:08:20.909Z"
   },
   {
    "duration": 183,
    "start_time": "2023-04-04T12:08:54.897Z"
   },
   {
    "duration": 79,
    "start_time": "2023-04-04T12:08:59.695Z"
   },
   {
    "duration": 67,
    "start_time": "2023-04-04T12:09:10.110Z"
   },
   {
    "duration": 214,
    "start_time": "2023-04-04T12:09:21.834Z"
   },
   {
    "duration": 75,
    "start_time": "2023-04-04T12:09:32.434Z"
   },
   {
    "duration": 80,
    "start_time": "2023-04-04T12:11:40.382Z"
   },
   {
    "duration": 73,
    "start_time": "2023-04-04T12:11:47.934Z"
   },
   {
    "duration": 79,
    "start_time": "2023-04-04T12:11:53.427Z"
   },
   {
    "duration": 193,
    "start_time": "2023-04-04T12:12:58.312Z"
   },
   {
    "duration": 80,
    "start_time": "2023-04-04T12:13:30.590Z"
   },
   {
    "duration": 91,
    "start_time": "2023-04-04T12:13:43.724Z"
   },
   {
    "duration": 161,
    "start_time": "2023-04-04T12:14:06.301Z"
   },
   {
    "duration": 121,
    "start_time": "2023-04-04T12:14:15.820Z"
   },
   {
    "duration": 104,
    "start_time": "2023-04-04T12:14:23.990Z"
   },
   {
    "duration": 96,
    "start_time": "2023-04-04T12:14:31.597Z"
   },
   {
    "duration": 166,
    "start_time": "2023-04-04T12:14:52.587Z"
   },
   {
    "duration": 103,
    "start_time": "2023-04-04T12:15:09.234Z"
   },
   {
    "duration": 156,
    "start_time": "2023-04-04T12:16:37.957Z"
   },
   {
    "duration": 157,
    "start_time": "2023-04-04T12:16:50.733Z"
   },
   {
    "duration": 147,
    "start_time": "2023-04-04T12:16:59.259Z"
   },
   {
    "duration": 158,
    "start_time": "2023-04-04T12:17:08.231Z"
   },
   {
    "duration": 14,
    "start_time": "2023-04-04T12:17:40.033Z"
   },
   {
    "duration": 170,
    "start_time": "2023-04-04T12:17:51.361Z"
   },
   {
    "duration": 175,
    "start_time": "2023-04-04T12:18:33.048Z"
   },
   {
    "duration": 169,
    "start_time": "2023-04-04T12:18:50.559Z"
   },
   {
    "duration": 1532,
    "start_time": "2023-04-05T10:47:19.792Z"
   },
   {
    "duration": 2,
    "start_time": "2023-04-05T10:47:21.326Z"
   },
   {
    "duration": 35,
    "start_time": "2023-04-05T10:47:21.329Z"
   },
   {
    "duration": 144,
    "start_time": "2023-04-05T10:47:21.376Z"
   },
   {
    "duration": 461,
    "start_time": "2023-04-05T10:47:21.522Z"
   },
   {
    "duration": 4,
    "start_time": "2023-04-05T10:47:21.985Z"
   },
   {
    "duration": 186,
    "start_time": "2023-04-05T10:47:21.991Z"
   },
   {
    "duration": 5,
    "start_time": "2023-04-05T10:47:22.180Z"
   },
   {
    "duration": 21,
    "start_time": "2023-04-05T10:47:22.186Z"
   },
   {
    "duration": 18,
    "start_time": "2023-04-05T10:47:22.209Z"
   },
   {
    "duration": 51,
    "start_time": "2023-04-05T10:47:22.228Z"
   },
   {
    "duration": 35,
    "start_time": "2023-04-05T10:47:22.281Z"
   },
   {
    "duration": 28,
    "start_time": "2023-04-05T10:47:22.317Z"
   },
   {
    "duration": 47,
    "start_time": "2023-04-05T10:47:22.346Z"
   },
   {
    "duration": 19,
    "start_time": "2023-04-05T10:47:22.395Z"
   },
   {
    "duration": 47,
    "start_time": "2023-04-05T10:47:22.417Z"
   },
   {
    "duration": 90,
    "start_time": "2023-04-05T10:47:22.466Z"
   },
   {
    "duration": 26,
    "start_time": "2023-04-05T10:47:22.558Z"
   },
   {
    "duration": 25,
    "start_time": "2023-04-05T10:47:22.586Z"
   },
   {
    "duration": 28,
    "start_time": "2023-04-05T10:47:22.612Z"
   },
   {
    "duration": 142,
    "start_time": "2023-04-05T10:47:22.642Z"
   },
   {
    "duration": 5,
    "start_time": "2023-04-05T10:47:22.785Z"
   },
   {
    "duration": 11,
    "start_time": "2023-04-05T10:47:22.791Z"
   },
   {
    "duration": 6,
    "start_time": "2023-04-05T10:47:22.803Z"
   },
   {
    "duration": 273,
    "start_time": "2023-04-05T10:52:07.864Z"
   },
   {
    "duration": 163,
    "start_time": "2023-04-05T10:52:31.234Z"
   },
   {
    "duration": 126,
    "start_time": "2023-04-05T10:52:49.466Z"
   },
   {
    "duration": 180,
    "start_time": "2023-04-05T10:52:56.096Z"
   },
   {
    "duration": 145,
    "start_time": "2023-04-05T10:53:02.201Z"
   },
   {
    "duration": 12,
    "start_time": "2023-04-05T11:00:06.165Z"
   },
   {
    "duration": 9,
    "start_time": "2023-04-05T11:00:15.280Z"
   },
   {
    "duration": 13,
    "start_time": "2023-04-05T11:00:51.857Z"
   },
   {
    "duration": 134,
    "start_time": "2023-04-05T11:00:59.248Z"
   },
   {
    "duration": 10,
    "start_time": "2023-04-05T11:01:05.006Z"
   },
   {
    "duration": 11,
    "start_time": "2023-04-05T11:01:24.307Z"
   },
   {
    "duration": 147,
    "start_time": "2023-04-05T11:02:02.073Z"
   },
   {
    "duration": 173,
    "start_time": "2023-04-05T11:02:19.696Z"
   },
   {
    "duration": 144,
    "start_time": "2023-04-05T11:03:23.363Z"
   },
   {
    "duration": 162,
    "start_time": "2023-04-05T11:04:01.643Z"
   },
   {
    "duration": 124,
    "start_time": "2023-04-05T11:04:05.605Z"
   },
   {
    "duration": 130,
    "start_time": "2023-04-05T11:04:47.261Z"
   },
   {
    "duration": 1418,
    "start_time": "2023-04-05T11:05:04.966Z"
   },
   {
    "duration": 4,
    "start_time": "2023-04-05T11:11:26.563Z"
   },
   {
    "duration": 209,
    "start_time": "2023-04-05T11:13:54.887Z"
   },
   {
    "duration": 305,
    "start_time": "2023-04-05T11:14:14.367Z"
   },
   {
    "duration": 225,
    "start_time": "2023-04-05T11:14:40.086Z"
   },
   {
    "duration": 253,
    "start_time": "2023-04-05T11:19:18.914Z"
   },
   {
    "duration": 250,
    "start_time": "2023-04-05T11:20:10.766Z"
   },
   {
    "duration": 290,
    "start_time": "2023-04-05T11:23:21.016Z"
   },
   {
    "duration": 1831,
    "start_time": "2023-04-05T17:32:21.098Z"
   },
   {
    "duration": 4,
    "start_time": "2023-04-05T17:32:22.931Z"
   },
   {
    "duration": 17,
    "start_time": "2023-04-05T17:32:22.937Z"
   },
   {
    "duration": 104,
    "start_time": "2023-04-05T17:32:22.957Z"
   },
   {
    "duration": 530,
    "start_time": "2023-04-05T17:32:23.062Z"
   },
   {
    "duration": 6,
    "start_time": "2023-04-05T17:32:23.594Z"
   },
   {
    "duration": 243,
    "start_time": "2023-04-05T17:32:23.602Z"
   },
   {
    "duration": 320,
    "start_time": "2023-04-05T17:32:23.847Z"
   },
   {
    "duration": 5,
    "start_time": "2023-04-05T17:32:24.170Z"
   },
   {
    "duration": 19,
    "start_time": "2023-04-05T17:32:24.178Z"
   },
   {
    "duration": 27,
    "start_time": "2023-04-05T17:32:24.199Z"
   },
   {
    "duration": 31,
    "start_time": "2023-04-05T17:32:24.230Z"
   },
   {
    "duration": 9,
    "start_time": "2023-04-05T17:32:24.262Z"
   },
   {
    "duration": 32,
    "start_time": "2023-04-05T17:32:24.273Z"
   },
   {
    "duration": 41,
    "start_time": "2023-04-05T17:32:24.306Z"
   },
   {
    "duration": 94,
    "start_time": "2023-04-05T17:32:24.349Z"
   },
   {
    "duration": 112,
    "start_time": "2023-04-05T17:32:24.445Z"
   },
   {
    "duration": 24,
    "start_time": "2023-04-05T17:32:24.559Z"
   },
   {
    "duration": 59,
    "start_time": "2023-04-05T17:32:24.585Z"
   },
   {
    "duration": 76,
    "start_time": "2023-04-05T17:32:24.646Z"
   },
   {
    "duration": 12,
    "start_time": "2023-04-05T17:32:24.724Z"
   },
   {
    "duration": 100,
    "start_time": "2023-04-05T17:32:24.742Z"
   },
   {
    "duration": 18,
    "start_time": "2023-04-05T17:32:24.844Z"
   },
   {
    "duration": 9,
    "start_time": "2023-04-05T17:32:24.864Z"
   },
   {
    "duration": 344,
    "start_time": "2023-04-05T17:36:45.032Z"
   },
   {
    "duration": 322,
    "start_time": "2023-04-05T17:37:17.632Z"
   },
   {
    "duration": 515,
    "start_time": "2023-04-05T17:42:14.475Z"
   },
   {
    "duration": 349,
    "start_time": "2023-04-05T17:42:22.283Z"
   },
   {
    "duration": 292,
    "start_time": "2023-04-05T17:42:37.875Z"
   },
   {
    "duration": 308,
    "start_time": "2023-04-05T17:42:50.341Z"
   },
   {
    "duration": 290,
    "start_time": "2023-04-05T17:45:25.856Z"
   },
   {
    "duration": 300,
    "start_time": "2023-04-05T17:45:40.274Z"
   },
   {
    "duration": 427,
    "start_time": "2023-04-05T17:48:59.616Z"
   },
   {
    "duration": 540,
    "start_time": "2023-04-05T17:49:44.944Z"
   },
   {
    "duration": 942,
    "start_time": "2023-04-05T17:49:52.151Z"
   },
   {
    "duration": 411,
    "start_time": "2023-04-05T17:50:01.979Z"
   },
   {
    "duration": 501,
    "start_time": "2023-04-05T17:50:12.139Z"
   },
   {
    "duration": 332,
    "start_time": "2023-04-05T17:52:14.478Z"
   },
   {
    "duration": 363,
    "start_time": "2023-04-05T17:52:50.435Z"
   },
   {
    "duration": 509,
    "start_time": "2023-04-05T17:53:12.379Z"
   },
   {
    "duration": 356,
    "start_time": "2023-04-05T17:53:34.144Z"
   },
   {
    "duration": 378,
    "start_time": "2023-04-05T17:54:02.920Z"
   },
   {
    "duration": 331,
    "start_time": "2023-04-05T17:55:04.183Z"
   },
   {
    "duration": 260,
    "start_time": "2023-04-05T17:56:00.445Z"
   },
   {
    "duration": 220,
    "start_time": "2023-04-05T17:56:08.272Z"
   },
   {
    "duration": 361,
    "start_time": "2023-04-05T17:56:49.311Z"
   },
   {
    "duration": 377,
    "start_time": "2023-04-05T17:57:03.326Z"
   },
   {
    "duration": 310,
    "start_time": "2023-04-05T18:07:40.040Z"
   },
   {
    "duration": 297,
    "start_time": "2023-04-05T18:07:43.839Z"
   },
   {
    "duration": 380,
    "start_time": "2023-04-05T18:08:25.077Z"
   },
   {
    "duration": 312,
    "start_time": "2023-04-05T18:09:48.644Z"
   },
   {
    "duration": 290,
    "start_time": "2023-04-05T18:09:57.332Z"
   },
   {
    "duration": 174,
    "start_time": "2023-04-05T18:11:27.037Z"
   },
   {
    "duration": 175,
    "start_time": "2023-04-05T18:11:56.668Z"
   },
   {
    "duration": 465,
    "start_time": "2023-04-05T18:12:23.190Z"
   },
   {
    "duration": 374,
    "start_time": "2023-04-05T18:12:42.573Z"
   },
   {
    "duration": 256,
    "start_time": "2023-04-05T18:13:05.016Z"
   },
   {
    "duration": 1555,
    "start_time": "2023-04-05T18:14:23.014Z"
   },
   {
    "duration": 4,
    "start_time": "2023-04-05T18:14:24.571Z"
   },
   {
    "duration": 19,
    "start_time": "2023-04-05T18:14:24.576Z"
   },
   {
    "duration": 77,
    "start_time": "2023-04-05T18:14:24.597Z"
   },
   {
    "duration": 524,
    "start_time": "2023-04-05T18:14:24.676Z"
   },
   {
    "duration": 33,
    "start_time": "2023-04-05T18:14:25.202Z"
   },
   {
    "duration": 359,
    "start_time": "2023-04-05T18:14:25.241Z"
   },
   {
    "duration": 0,
    "start_time": "2023-04-05T18:14:25.601Z"
   },
   {
    "duration": 0,
    "start_time": "2023-04-05T18:14:25.603Z"
   },
   {
    "duration": 1,
    "start_time": "2023-04-05T18:14:25.603Z"
   },
   {
    "duration": 0,
    "start_time": "2023-04-05T18:14:25.604Z"
   },
   {
    "duration": 0,
    "start_time": "2023-04-05T18:14:25.605Z"
   },
   {
    "duration": 0,
    "start_time": "2023-04-05T18:14:25.607Z"
   },
   {
    "duration": 0,
    "start_time": "2023-04-05T18:14:25.608Z"
   },
   {
    "duration": 0,
    "start_time": "2023-04-05T18:14:25.609Z"
   },
   {
    "duration": 0,
    "start_time": "2023-04-05T18:14:25.617Z"
   },
   {
    "duration": 0,
    "start_time": "2023-04-05T18:14:25.618Z"
   },
   {
    "duration": 0,
    "start_time": "2023-04-05T18:14:25.619Z"
   },
   {
    "duration": 0,
    "start_time": "2023-04-05T18:14:25.619Z"
   },
   {
    "duration": 0,
    "start_time": "2023-04-05T18:14:25.620Z"
   },
   {
    "duration": 0,
    "start_time": "2023-04-05T18:14:25.621Z"
   },
   {
    "duration": 0,
    "start_time": "2023-04-05T18:14:25.621Z"
   },
   {
    "duration": 0,
    "start_time": "2023-04-05T18:14:25.622Z"
   },
   {
    "duration": 0,
    "start_time": "2023-04-05T18:14:25.623Z"
   },
   {
    "duration": 232,
    "start_time": "2023-04-05T18:14:48.345Z"
   },
   {
    "duration": 4,
    "start_time": "2023-04-05T18:14:52.016Z"
   },
   {
    "duration": 48,
    "start_time": "2023-04-05T18:14:52.036Z"
   },
   {
    "duration": 76,
    "start_time": "2023-04-05T18:14:52.087Z"
   },
   {
    "duration": 89,
    "start_time": "2023-04-05T18:14:52.165Z"
   },
   {
    "duration": 506,
    "start_time": "2023-04-05T18:14:52.256Z"
   },
   {
    "duration": 7,
    "start_time": "2023-04-05T18:14:52.765Z"
   },
   {
    "duration": 326,
    "start_time": "2023-04-05T18:14:52.773Z"
   },
   {
    "duration": 365,
    "start_time": "2023-04-05T18:14:53.100Z"
   },
   {
    "duration": 422,
    "start_time": "2023-04-05T18:14:53.467Z"
   },
   {
    "duration": 379,
    "start_time": "2023-04-05T18:14:53.891Z"
   },
   {
    "duration": 276,
    "start_time": "2023-04-05T18:14:54.272Z"
   },
   {
    "duration": 16,
    "start_time": "2023-04-05T18:14:54.549Z"
   },
   {
    "duration": 18,
    "start_time": "2023-04-05T18:14:54.566Z"
   },
   {
    "duration": 13,
    "start_time": "2023-04-05T18:14:54.586Z"
   },
   {
    "duration": 10,
    "start_time": "2023-04-05T18:14:54.602Z"
   },
   {
    "duration": 142,
    "start_time": "2023-04-05T18:14:54.622Z"
   },
   {
    "duration": 41,
    "start_time": "2023-04-05T18:14:54.765Z"
   },
   {
    "duration": 44,
    "start_time": "2023-04-05T18:14:54.808Z"
   },
   {
    "duration": 37,
    "start_time": "2023-04-05T18:14:54.854Z"
   },
   {
    "duration": 12,
    "start_time": "2023-04-05T18:14:54.893Z"
   },
   {
    "duration": 57,
    "start_time": "2023-04-05T18:14:54.907Z"
   },
   {
    "duration": 16,
    "start_time": "2023-04-05T18:14:54.965Z"
   },
   {
    "duration": 74,
    "start_time": "2023-04-05T18:14:54.983Z"
   },
   {
    "duration": 32,
    "start_time": "2023-04-05T18:14:55.060Z"
   },
   {
    "duration": 243,
    "start_time": "2023-04-05T18:17:26.863Z"
   },
   {
    "duration": 244,
    "start_time": "2023-04-05T18:17:33.369Z"
   },
   {
    "duration": 118,
    "start_time": "2023-04-05T18:24:15.973Z"
   },
   {
    "duration": 153,
    "start_time": "2023-04-05T18:24:25.394Z"
   },
   {
    "duration": 91,
    "start_time": "2023-04-05T18:25:31.543Z"
   },
   {
    "duration": 16,
    "start_time": "2023-04-05T18:26:17.182Z"
   },
   {
    "duration": 13,
    "start_time": "2023-04-05T18:26:23.270Z"
   },
   {
    "duration": 3,
    "start_time": "2023-04-05T18:26:45.186Z"
   },
   {
    "duration": 7,
    "start_time": "2023-04-05T18:26:45.194Z"
   },
   {
    "duration": 29,
    "start_time": "2023-04-05T18:26:45.203Z"
   },
   {
    "duration": 67,
    "start_time": "2023-04-05T18:26:45.238Z"
   },
   {
    "duration": 31,
    "start_time": "2023-04-05T18:26:45.306Z"
   },
   {
    "duration": 36,
    "start_time": "2023-04-05T18:26:45.340Z"
   },
   {
    "duration": 0,
    "start_time": "2023-04-05T18:26:45.379Z"
   },
   {
    "duration": 0,
    "start_time": "2023-04-05T18:26:45.381Z"
   },
   {
    "duration": 0,
    "start_time": "2023-04-05T18:26:45.382Z"
   },
   {
    "duration": 0,
    "start_time": "2023-04-05T18:26:45.383Z"
   },
   {
    "duration": 0,
    "start_time": "2023-04-05T18:26:45.386Z"
   },
   {
    "duration": 0,
    "start_time": "2023-04-05T18:26:45.387Z"
   },
   {
    "duration": 0,
    "start_time": "2023-04-05T18:26:45.388Z"
   },
   {
    "duration": 0,
    "start_time": "2023-04-05T18:26:45.389Z"
   },
   {
    "duration": 0,
    "start_time": "2023-04-05T18:26:45.390Z"
   },
   {
    "duration": 0,
    "start_time": "2023-04-05T18:26:45.391Z"
   },
   {
    "duration": 0,
    "start_time": "2023-04-05T18:26:45.392Z"
   },
   {
    "duration": 0,
    "start_time": "2023-04-05T18:26:45.394Z"
   },
   {
    "duration": 0,
    "start_time": "2023-04-05T18:26:45.395Z"
   },
   {
    "duration": 0,
    "start_time": "2023-04-05T18:26:45.396Z"
   },
   {
    "duration": 39,
    "start_time": "2023-04-05T18:26:45.400Z"
   },
   {
    "duration": 55,
    "start_time": "2023-04-05T18:26:45.441Z"
   },
   {
    "duration": 68,
    "start_time": "2023-04-05T18:26:45.498Z"
   },
   {
    "duration": 6,
    "start_time": "2023-04-05T18:26:45.568Z"
   },
   {
    "duration": 9,
    "start_time": "2023-04-05T18:26:45.575Z"
   },
   {
    "duration": 40,
    "start_time": "2023-04-05T18:27:53.160Z"
   },
   {
    "duration": 135,
    "start_time": "2023-04-05T18:28:27.165Z"
   },
   {
    "duration": 157,
    "start_time": "2023-04-05T18:28:42.786Z"
   },
   {
    "duration": 1740,
    "start_time": "2023-04-05T18:29:26.606Z"
   },
   {
    "duration": 8,
    "start_time": "2023-04-05T18:29:28.354Z"
   },
   {
    "duration": 157,
    "start_time": "2023-04-05T18:29:28.364Z"
   },
   {
    "duration": 0,
    "start_time": "2023-04-05T18:29:28.524Z"
   },
   {
    "duration": 0,
    "start_time": "2023-04-05T18:29:28.526Z"
   },
   {
    "duration": 0,
    "start_time": "2023-04-05T18:29:28.527Z"
   },
   {
    "duration": 0,
    "start_time": "2023-04-05T18:29:28.528Z"
   },
   {
    "duration": 0,
    "start_time": "2023-04-05T18:29:28.531Z"
   },
   {
    "duration": 0,
    "start_time": "2023-04-05T18:29:28.533Z"
   },
   {
    "duration": 0,
    "start_time": "2023-04-05T18:29:28.534Z"
   },
   {
    "duration": 0,
    "start_time": "2023-04-05T18:29:28.535Z"
   },
   {
    "duration": 0,
    "start_time": "2023-04-05T18:29:28.537Z"
   },
   {
    "duration": 0,
    "start_time": "2023-04-05T18:29:28.539Z"
   },
   {
    "duration": 0,
    "start_time": "2023-04-05T18:29:28.542Z"
   },
   {
    "duration": 0,
    "start_time": "2023-04-05T18:29:28.544Z"
   },
   {
    "duration": 0,
    "start_time": "2023-04-05T18:29:28.549Z"
   },
   {
    "duration": 0,
    "start_time": "2023-04-05T18:29:28.552Z"
   },
   {
    "duration": 0,
    "start_time": "2023-04-05T18:29:28.554Z"
   },
   {
    "duration": 0,
    "start_time": "2023-04-05T18:29:28.555Z"
   },
   {
    "duration": 0,
    "start_time": "2023-04-05T18:29:28.563Z"
   },
   {
    "duration": 0,
    "start_time": "2023-04-05T18:29:28.566Z"
   },
   {
    "duration": 0,
    "start_time": "2023-04-05T18:29:28.568Z"
   },
   {
    "duration": 0,
    "start_time": "2023-04-05T18:29:28.571Z"
   },
   {
    "duration": 0,
    "start_time": "2023-04-05T18:29:28.572Z"
   },
   {
    "duration": 0,
    "start_time": "2023-04-05T18:29:28.573Z"
   },
   {
    "duration": 137,
    "start_time": "2023-04-05T18:30:07.014Z"
   },
   {
    "duration": 121,
    "start_time": "2023-04-05T18:31:57.265Z"
   },
   {
    "duration": 4,
    "start_time": "2023-04-05T18:32:10.188Z"
   },
   {
    "duration": 3,
    "start_time": "2023-04-05T18:32:11.594Z"
   },
   {
    "duration": 184,
    "start_time": "2023-04-05T18:32:12.707Z"
   },
   {
    "duration": 148,
    "start_time": "2023-04-05T18:32:39.120Z"
   },
   {
    "duration": 42,
    "start_time": "2023-04-05T18:33:31.164Z"
   },
   {
    "duration": 192,
    "start_time": "2023-04-05T18:34:54.455Z"
   },
   {
    "duration": 11,
    "start_time": "2023-04-05T18:35:05.205Z"
   },
   {
    "duration": 65,
    "start_time": "2023-04-05T18:35:13.036Z"
   },
   {
    "duration": 500,
    "start_time": "2023-04-05T18:35:15.981Z"
   },
   {
    "duration": 25,
    "start_time": "2023-04-05T18:35:26.772Z"
   },
   {
    "duration": 10,
    "start_time": "2023-04-05T18:35:51.596Z"
   },
   {
    "duration": 444,
    "start_time": "2023-04-05T18:38:04.141Z"
   },
   {
    "duration": 519,
    "start_time": "2023-04-05T18:38:47.047Z"
   },
   {
    "duration": 23,
    "start_time": "2023-04-05T18:39:27.551Z"
   },
   {
    "duration": 568,
    "start_time": "2023-04-05T18:39:40.188Z"
   },
   {
    "duration": 451,
    "start_time": "2023-04-05T18:40:16.557Z"
   },
   {
    "duration": 496,
    "start_time": "2023-04-05T18:40:24.509Z"
   },
   {
    "duration": 429,
    "start_time": "2023-04-05T18:40:32.371Z"
   },
   {
    "duration": 1782,
    "start_time": "2023-04-05T18:40:45.867Z"
   },
   {
    "duration": 4,
    "start_time": "2023-04-05T18:40:47.652Z"
   },
   {
    "duration": 35,
    "start_time": "2023-04-05T18:40:47.658Z"
   },
   {
    "duration": 89,
    "start_time": "2023-04-05T18:40:47.695Z"
   },
   {
    "duration": 28,
    "start_time": "2023-04-05T18:40:47.786Z"
   },
   {
    "duration": 162,
    "start_time": "2023-04-05T18:40:47.816Z"
   },
   {
    "duration": 0,
    "start_time": "2023-04-05T18:40:47.980Z"
   },
   {
    "duration": 0,
    "start_time": "2023-04-05T18:40:47.981Z"
   },
   {
    "duration": 0,
    "start_time": "2023-04-05T18:40:47.982Z"
   },
   {
    "duration": 0,
    "start_time": "2023-04-05T18:40:47.983Z"
   },
   {
    "duration": 0,
    "start_time": "2023-04-05T18:40:47.984Z"
   },
   {
    "duration": 0,
    "start_time": "2023-04-05T18:40:47.985Z"
   },
   {
    "duration": 0,
    "start_time": "2023-04-05T18:40:47.986Z"
   },
   {
    "duration": 0,
    "start_time": "2023-04-05T18:40:47.987Z"
   },
   {
    "duration": 0,
    "start_time": "2023-04-05T18:40:47.988Z"
   },
   {
    "duration": 0,
    "start_time": "2023-04-05T18:40:47.989Z"
   },
   {
    "duration": 0,
    "start_time": "2023-04-05T18:40:47.990Z"
   },
   {
    "duration": 0,
    "start_time": "2023-04-05T18:40:47.991Z"
   },
   {
    "duration": 0,
    "start_time": "2023-04-05T18:40:47.992Z"
   },
   {
    "duration": 0,
    "start_time": "2023-04-05T18:40:47.993Z"
   },
   {
    "duration": 0,
    "start_time": "2023-04-05T18:40:47.994Z"
   },
   {
    "duration": 0,
    "start_time": "2023-04-05T18:40:48.023Z"
   },
   {
    "duration": 0,
    "start_time": "2023-04-05T18:40:48.025Z"
   },
   {
    "duration": 0,
    "start_time": "2023-04-05T18:40:48.026Z"
   },
   {
    "duration": 0,
    "start_time": "2023-04-05T18:40:48.027Z"
   },
   {
    "duration": 488,
    "start_time": "2023-04-05T18:41:02.180Z"
   },
   {
    "duration": 566,
    "start_time": "2023-04-05T18:41:22.010Z"
   },
   {
    "duration": 1908,
    "start_time": "2023-04-05T18:41:31.561Z"
   },
   {
    "duration": 9,
    "start_time": "2023-04-05T18:41:33.474Z"
   },
   {
    "duration": 34,
    "start_time": "2023-04-05T18:41:33.485Z"
   },
   {
    "duration": 139,
    "start_time": "2023-04-05T18:41:33.526Z"
   },
   {
    "duration": 34,
    "start_time": "2023-04-05T18:41:33.667Z"
   },
   {
    "duration": 508,
    "start_time": "2023-04-05T18:41:33.703Z"
   },
   {
    "duration": 31,
    "start_time": "2023-04-05T18:41:34.213Z"
   },
   {
    "duration": 296,
    "start_time": "2023-04-05T18:41:34.250Z"
   },
   {
    "duration": 377,
    "start_time": "2023-04-05T18:41:34.551Z"
   },
   {
    "duration": 476,
    "start_time": "2023-04-05T18:41:34.932Z"
   },
   {
    "duration": 481,
    "start_time": "2023-04-05T18:41:35.409Z"
   },
   {
    "duration": 317,
    "start_time": "2023-04-05T18:41:35.892Z"
   },
   {
    "duration": 35,
    "start_time": "2023-04-05T18:41:36.211Z"
   },
   {
    "duration": 34,
    "start_time": "2023-04-05T18:41:36.262Z"
   },
   {
    "duration": 10,
    "start_time": "2023-04-05T18:41:36.297Z"
   },
   {
    "duration": 66,
    "start_time": "2023-04-05T18:41:36.309Z"
   },
   {
    "duration": 47,
    "start_time": "2023-04-05T18:41:36.378Z"
   },
   {
    "duration": 65,
    "start_time": "2023-04-05T18:41:36.427Z"
   },
   {
    "duration": 7,
    "start_time": "2023-04-05T18:41:36.539Z"
   },
   {
    "duration": 58,
    "start_time": "2023-04-05T18:41:36.547Z"
   },
   {
    "duration": 15,
    "start_time": "2023-04-05T18:41:36.607Z"
   },
   {
    "duration": 40,
    "start_time": "2023-04-05T18:41:36.624Z"
   },
   {
    "duration": 25,
    "start_time": "2023-04-05T18:41:36.666Z"
   },
   {
    "duration": 11,
    "start_time": "2023-04-05T18:41:36.693Z"
   },
   {
    "duration": 57,
    "start_time": "2023-04-05T18:41:36.705Z"
   },
   {
    "duration": 1708,
    "start_time": "2023-04-05T18:42:43.785Z"
   },
   {
    "duration": 3,
    "start_time": "2023-04-05T18:42:45.495Z"
   },
   {
    "duration": 72,
    "start_time": "2023-04-05T18:42:45.500Z"
   },
   {
    "duration": 97,
    "start_time": "2023-04-05T18:42:45.576Z"
   },
   {
    "duration": 64,
    "start_time": "2023-04-05T18:42:45.676Z"
   },
   {
    "duration": 440,
    "start_time": "2023-04-05T18:42:45.745Z"
   },
   {
    "duration": 5,
    "start_time": "2023-04-05T18:42:46.187Z"
   },
   {
    "duration": 264,
    "start_time": "2023-04-05T18:42:46.194Z"
   },
   {
    "duration": 365,
    "start_time": "2023-04-05T18:42:46.459Z"
   },
   {
    "duration": 457,
    "start_time": "2023-04-05T18:42:46.830Z"
   },
   {
    "duration": 429,
    "start_time": "2023-04-05T18:42:47.289Z"
   },
   {
    "duration": 278,
    "start_time": "2023-04-05T18:42:47.723Z"
   },
   {
    "duration": 16,
    "start_time": "2023-04-05T18:42:48.003Z"
   },
   {
    "duration": 44,
    "start_time": "2023-04-05T18:42:48.030Z"
   },
   {
    "duration": 29,
    "start_time": "2023-04-05T18:42:48.076Z"
   },
   {
    "duration": 65,
    "start_time": "2023-04-05T18:42:48.107Z"
   },
   {
    "duration": 61,
    "start_time": "2023-04-05T18:42:48.177Z"
   },
   {
    "duration": 20,
    "start_time": "2023-04-05T18:42:48.250Z"
   },
   {
    "duration": 11,
    "start_time": "2023-04-05T18:42:48.272Z"
   },
   {
    "duration": 57,
    "start_time": "2023-04-05T18:42:48.285Z"
   },
   {
    "duration": 47,
    "start_time": "2023-04-05T18:42:48.343Z"
   },
   {
    "duration": 23,
    "start_time": "2023-04-05T18:42:48.391Z"
   },
   {
    "duration": 58,
    "start_time": "2023-04-05T18:42:48.416Z"
   },
   {
    "duration": 13,
    "start_time": "2023-04-05T18:42:48.476Z"
   },
   {
    "duration": 10,
    "start_time": "2023-04-05T18:42:48.491Z"
   },
   {
    "duration": 1701,
    "start_time": "2023-04-05T18:44:06.803Z"
   },
   {
    "duration": 3,
    "start_time": "2023-04-05T18:44:08.506Z"
   },
   {
    "duration": 49,
    "start_time": "2023-04-05T18:44:08.511Z"
   },
   {
    "duration": 54,
    "start_time": "2023-04-05T18:44:08.563Z"
   },
   {
    "duration": 467,
    "start_time": "2023-04-05T18:44:08.620Z"
   },
   {
    "duration": 6,
    "start_time": "2023-04-05T18:44:09.089Z"
   },
   {
    "duration": 262,
    "start_time": "2023-04-05T18:44:09.096Z"
   },
   {
    "duration": 342,
    "start_time": "2023-04-05T18:44:09.361Z"
   },
   {
    "duration": 408,
    "start_time": "2023-04-05T18:44:09.705Z"
   },
   {
    "duration": 419,
    "start_time": "2023-04-05T18:44:10.118Z"
   },
   {
    "duration": 266,
    "start_time": "2023-04-05T18:44:10.542Z"
   },
   {
    "duration": 18,
    "start_time": "2023-04-05T18:44:10.810Z"
   },
   {
    "duration": 60,
    "start_time": "2023-04-05T18:44:10.839Z"
   },
   {
    "duration": 22,
    "start_time": "2023-04-05T18:44:10.902Z"
   },
   {
    "duration": 66,
    "start_time": "2023-04-05T18:44:10.931Z"
   },
   {
    "duration": 77,
    "start_time": "2023-04-05T18:44:10.999Z"
   },
   {
    "duration": 45,
    "start_time": "2023-04-05T18:44:11.128Z"
   },
   {
    "duration": 6,
    "start_time": "2023-04-05T18:44:11.176Z"
   },
   {
    "duration": 57,
    "start_time": "2023-04-05T18:44:11.184Z"
   },
   {
    "duration": 50,
    "start_time": "2023-04-05T18:44:11.243Z"
   },
   {
    "duration": 16,
    "start_time": "2023-04-05T18:44:11.295Z"
   },
   {
    "duration": 65,
    "start_time": "2023-04-05T18:44:11.313Z"
   },
   {
    "duration": 5,
    "start_time": "2023-04-05T18:44:11.380Z"
   },
   {
    "duration": 28,
    "start_time": "2023-04-05T18:44:11.387Z"
   },
   {
    "duration": 492,
    "start_time": "2023-04-05T18:44:42.987Z"
   },
   {
    "duration": 14,
    "start_time": "2023-04-05T18:45:20.963Z"
   },
   {
    "duration": 41,
    "start_time": "2023-04-05T18:45:22.445Z"
   },
   {
    "duration": 498,
    "start_time": "2023-04-05T18:45:25.107Z"
   },
   {
    "duration": 1622,
    "start_time": "2023-04-05T18:58:04.270Z"
   },
   {
    "duration": 3,
    "start_time": "2023-04-05T18:58:05.895Z"
   },
   {
    "duration": 35,
    "start_time": "2023-04-05T18:58:05.900Z"
   },
   {
    "duration": 59,
    "start_time": "2023-04-05T18:58:05.938Z"
   },
   {
    "duration": 594,
    "start_time": "2023-04-05T18:58:05.999Z"
   },
   {
    "duration": 8,
    "start_time": "2023-04-05T18:58:06.596Z"
   },
   {
    "duration": 303,
    "start_time": "2023-04-05T18:58:06.605Z"
   },
   {
    "duration": 448,
    "start_time": "2023-04-05T18:58:06.909Z"
   },
   {
    "duration": 437,
    "start_time": "2023-04-05T18:58:07.359Z"
   },
   {
    "duration": 479,
    "start_time": "2023-04-05T18:58:07.800Z"
   },
   {
    "duration": 313,
    "start_time": "2023-04-05T18:58:08.281Z"
   },
   {
    "duration": 9,
    "start_time": "2023-04-05T18:58:08.596Z"
   },
   {
    "duration": 30,
    "start_time": "2023-04-05T18:58:08.621Z"
   },
   {
    "duration": 16,
    "start_time": "2023-04-05T18:58:08.659Z"
   },
   {
    "duration": 19,
    "start_time": "2023-04-05T18:58:08.677Z"
   },
   {
    "duration": 48,
    "start_time": "2023-04-05T18:58:08.698Z"
   },
   {
    "duration": 109,
    "start_time": "2023-04-05T18:58:08.748Z"
   },
   {
    "duration": 14,
    "start_time": "2023-04-05T18:58:08.859Z"
   },
   {
    "duration": 59,
    "start_time": "2023-04-05T18:58:08.875Z"
   },
   {
    "duration": 13,
    "start_time": "2023-04-05T18:58:08.952Z"
   },
   {
    "duration": 8,
    "start_time": "2023-04-05T18:58:08.967Z"
   },
   {
    "duration": 12,
    "start_time": "2023-04-05T18:58:08.977Z"
   },
   {
    "duration": 9,
    "start_time": "2023-04-05T18:58:08.991Z"
   },
   {
    "duration": 12,
    "start_time": "2023-04-05T18:58:09.003Z"
   }
  ],
  "kernelspec": {
   "display_name": "Python 3 (ipykernel)",
   "language": "python",
   "name": "python3"
  },
  "language_info": {
   "codemirror_mode": {
    "name": "ipython",
    "version": 3
   },
   "file_extension": ".py",
   "mimetype": "text/x-python",
   "name": "python",
   "nbconvert_exporter": "python",
   "pygments_lexer": "ipython3",
   "version": "3.9.13"
  },
  "toc": {
   "base_numbering": 1,
   "nav_menu": {},
   "number_sections": true,
   "sideBar": true,
   "skip_h1_title": true,
   "title_cell": "Содержание",
   "title_sidebar": "Contents",
   "toc_cell": true,
   "toc_position": {
    "height": "calc(100% - 180px)",
    "left": "10px",
    "top": "150px",
    "width": "302.188px"
   },
   "toc_section_display": true,
   "toc_window_display": false
  }
 },
 "nbformat": 4,
 "nbformat_minor": 2
}
